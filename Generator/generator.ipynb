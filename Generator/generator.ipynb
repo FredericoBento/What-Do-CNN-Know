{
 "cells": [
  {
   "cell_type": "code",
   "execution_count": 1,
   "metadata": {},
   "outputs": [
    {
     "name": "stderr",
     "output_type": "stream",
     "text": [
      "2024-03-07 22:59:06.141747: E external/local_xla/xla/stream_executor/cuda/cuda_dnn.cc:9261] Unable to register cuDNN factory: Attempting to register factory for plugin cuDNN when one has already been registered\n",
      "2024-03-07 22:59:06.141770: E external/local_xla/xla/stream_executor/cuda/cuda_fft.cc:607] Unable to register cuFFT factory: Attempting to register factory for plugin cuFFT when one has already been registered\n",
      "2024-03-07 22:59:06.142454: E external/local_xla/xla/stream_executor/cuda/cuda_blas.cc:1515] Unable to register cuBLAS factory: Attempting to register factory for plugin cuBLAS when one has already been registered\n",
      "2024-03-07 22:59:06.146690: I tensorflow/core/platform/cpu_feature_guard.cc:182] This TensorFlow binary is optimized to use available CPU instructions in performance-critical operations.\n",
      "To enable the following instructions: AVX2 FMA, in other operations, rebuild TensorFlow with the appropriate compiler flags.\n",
      "2024-03-07 22:59:06.765953: W tensorflow/compiler/tf2tensorrt/utils/py_utils.cc:38] TF-TRT Warning: Could not find TensorRT\n"
     ]
    },
    {
     "name": "stdout",
     "output_type": "stream",
     "text": [
      "Num GPUs Available:  1\n"
     ]
    },
    {
     "name": "stderr",
     "output_type": "stream",
     "text": [
      "2024-03-07 22:59:07.242595: I external/local_xla/xla/stream_executor/cuda/cuda_executor.cc:901] successful NUMA node read from SysFS had negative value (-1), but there must be at least one NUMA node, so returning NUMA node zero. See more at https://github.com/torvalds/linux/blob/v6.0/Documentation/ABI/testing/sysfs-bus-pci#L344-L355\n",
      "2024-03-07 22:59:07.268742: I external/local_xla/xla/stream_executor/cuda/cuda_executor.cc:901] successful NUMA node read from SysFS had negative value (-1), but there must be at least one NUMA node, so returning NUMA node zero. See more at https://github.com/torvalds/linux/blob/v6.0/Documentation/ABI/testing/sysfs-bus-pci#L344-L355\n",
      "2024-03-07 22:59:07.268912: I external/local_xla/xla/stream_executor/cuda/cuda_executor.cc:901] successful NUMA node read from SysFS had negative value (-1), but there must be at least one NUMA node, so returning NUMA node zero. See more at https://github.com/torvalds/linux/blob/v6.0/Documentation/ABI/testing/sysfs-bus-pci#L344-L355\n"
     ]
    }
   ],
   "source": [
    "import tensorflow as tf\n",
    "print(\"Num GPUs Available: \", len(tf.config.list_physical_devices('GPU')))\n"
   ]
  },
  {
   "cell_type": "code",
   "execution_count": 8,
   "metadata": {},
   "outputs": [],
   "source": [
    "import numpy as np\n",
    "import matplotlib.pyplot as plt\n",
    "from matplotlib.patches import Circle, Rectangle\n",
    "\n",
    "class RandomImageGenerator:\n",
    "    def __init__(self, num_images, image_width=500, image_height=500, seed=None):\n",
    "        self.num_images = num_images\n",
    "        self.image_width = image_width\n",
    "        self.image_height = image_height\n",
    "        self.seed = seed\n",
    "        if seed:\n",
    "            np.random.seed(seed)\n",
    "\n",
    "    def generate_images(self, draw_circle=True, draw_square=False):\n",
    "        for i in range(self.num_images):\n",
    "            background_color = self._generate_nonmatching_color()\n",
    "            \n",
    "            # Create a new figure with the random background color\n",
    "            fig = plt.figure(figsize=(self.image_width / 100, self.image_height / 100), facecolor=background_color)\n",
    "            ax = fig.add_subplot(111)\n",
    "            if draw_square:\n",
    "                # Constant color for the square\n",
    "                square_color = self._generate_nonmatching_color(background_color)\n",
    "\n",
    "                # Random side length for the square\n",
    "                side_length = np.random.randint(10, min(self.image_width, self.image_height) // 4)\n",
    "\n",
    "                # Random coordinates for the top-left corner of the square\n",
    "                square_x = np.random.randint(0, self.image_width - side_length)\n",
    "                square_y = np.random.randint(0, self.image_height - side_length)\n",
    "\n",
    "                # Draw the square\n",
    "                square = Rectangle((square_x, square_y), side_length, side_length, color=square_color)\n",
    "                ax.add_patch(square)\n",
    "\n",
    "                # Adjust image dimensions\n",
    "                image_width_adjusted = self.image_width - side_length\n",
    "                image_height_adjusted = self.image_height - side_length\n",
    "            else:\n",
    "                image_width_adjusted = self.image_width\n",
    "                image_height_adjusted = self.image_height\n",
    "\n",
    "            if draw_circle:\n",
    "                # Constant color for the circle\n",
    "                circle_color = self._generate_nonmatching_color(background_color)\n",
    "\n",
    "                # Random radius for the circle\n",
    "                max_radius = min(image_width_adjusted, image_height_adjusted) // 4\n",
    "                radius = np.random.randint(10, max_radius)\n",
    "\n",
    "                # Random coordinates for the center of the circle\n",
    "                x = np.random.randint(radius, image_width_adjusted - radius)\n",
    "                y = np.random.randint(radius, image_height_adjusted - radius)\n",
    "\n",
    "                # Check for overlap with the square\n",
    "                if draw_square:\n",
    "                    while (square_x - radius < x < square_x + side_length + radius) and \\\n",
    "                            (square_y - radius < y < square_y + side_length + radius):\n",
    "                        x = np.random.randint(radius, image_width_adjusted - radius)\n",
    "                        y = np.random.randint(radius, image_height_adjusted - radius)\n",
    "\n",
    "                # Draw the circle\n",
    "                \n",
    "                circle = Circle((x, y), radius, color=circle_color)\n",
    "                ax.add_patch(circle)\n",
    "\n",
    "            ax.set_xlim(0, self.image_width)\n",
    "            ax.set_ylim(0, self.image_height)\n",
    "            ax.set_aspect('equal', adjustable='box')\n",
    "            ax.axis('off')\n",
    "\n",
    "            # Save the image\n",
    "            plt.savefig(f'image_{i + 1}.jpg', bbox_inches='tight', pad_inches=0)\n",
    "            plt.close()\n",
    "            \n",
    "    def _generate_nonmatching_color(self, *excluded_colors):\n",
    "        while True:\n",
    "            color = np.random.rand(3)  # Random RGB color\n",
    "            if all(np.linalg.norm(color - excluded) > 0.1 for excluded in excluded_colors):\n",
    "                return color\n",
    "\n",
    "# Example usage:\n",
    "generator = RandomImageGenerator(num_images=20,seed=None)\n",
    "generator.generate_images(draw_circle=True, draw_square=True)\n"
   ]
  }
 ],
 "metadata": {
  "kernelspec": {
   "display_name": "base",
   "language": "python",
   "name": "python3"
  },
  "language_info": {
   "codemirror_mode": {
    "name": "ipython",
    "version": 3
   },
   "file_extension": ".py",
   "mimetype": "text/x-python",
   "name": "python",
   "nbconvert_exporter": "python",
   "pygments_lexer": "ipython3",
   "version": "3.11.8"
  }
 },
 "nbformat": 4,
 "nbformat_minor": 2
}
