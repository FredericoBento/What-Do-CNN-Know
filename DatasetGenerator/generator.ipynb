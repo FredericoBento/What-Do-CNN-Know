{
 "cells": [
  {
   "cell_type": "code",
   "execution_count": 13,
   "id": "initial_id",
   "metadata": {
    "collapsed": true,
    "ExecuteTime": {
     "end_time": "2024-03-07T19:06:35.774157716Z",
     "start_time": "2024-03-07T19:06:35.726500180Z"
    }
   },
   "outputs": [],
   "source": [
    "from PIL import Image, ImageDraw"
   ]
  },
  {
   "cell_type": "code",
   "outputs": [
    {
     "ename": "ValueError",
     "evalue": "wrong number of coordinates",
     "output_type": "error",
     "traceback": [
      "\u001B[0;31m---------------------------------------------------------------------------\u001B[0m",
      "\u001B[0;31mValueError\u001B[0m                                Traceback (most recent call last)",
      "Cell \u001B[0;32mIn[14], line 24\u001B[0m\n\u001B[1;32m     22\u001B[0m img \u001B[38;5;241m=\u001B[39m AddRectangle(img, \u001B[38;5;241m50\u001B[39m, \u001B[38;5;241m50\u001B[39m, \u001B[38;5;241m0\u001B[39m, \u001B[38;5;241m0\u001B[39m, \u001B[38;5;124m\"\u001B[39m\u001B[38;5;124mred\u001B[39m\u001B[38;5;124m\"\u001B[39m)\n\u001B[1;32m     23\u001B[0m img \u001B[38;5;241m=\u001B[39m AddRectangle(img, \u001B[38;5;241m60\u001B[39m, \u001B[38;5;241m60\u001B[39m, \u001B[38;5;241m60\u001B[39m, \u001B[38;5;241m0\u001B[39m, \u001B[38;5;124m\"\u001B[39m\u001B[38;5;124mblue\u001B[39m\u001B[38;5;124m\"\u001B[39m)\n\u001B[0;32m---> 24\u001B[0m img \u001B[38;5;241m=\u001B[39m \u001B[43mAddCircle\u001B[49m\u001B[43m(\u001B[49m\u001B[43mimg\u001B[49m\u001B[43m,\u001B[49m\u001B[43m \u001B[49m\u001B[38;5;241;43m40\u001B[39;49m\u001B[43m,\u001B[49m\u001B[43m \u001B[49m\u001B[38;5;241;43m100\u001B[39;49m\u001B[43m,\u001B[49m\u001B[43m \u001B[49m\u001B[38;5;241;43m70\u001B[39;49m\u001B[43m,\u001B[49m\u001B[43m \u001B[49m\u001B[38;5;124;43m\"\u001B[39;49m\u001B[38;5;124;43mgreen\u001B[39;49m\u001B[38;5;124;43m\"\u001B[39;49m\u001B[43m)\u001B[49m\n\u001B[1;32m     26\u001B[0m output_path \u001B[38;5;241m=\u001B[39m \u001B[38;5;124m\"\u001B[39m\u001B[38;5;124m./Dataset/rect1.jpg\u001B[39m\u001B[38;5;124m\"\u001B[39m\n\u001B[1;32m     27\u001B[0m img\u001B[38;5;241m.\u001B[39msave(output_path)\n",
      "Cell \u001B[0;32mIn[14], line 16\u001B[0m, in \u001B[0;36mAddCircle\u001B[0;34m(img, radius, x, y, color)\u001B[0m\n\u001B[1;32m     14\u001B[0m     \u001B[38;5;28;01mreturn\u001B[39;00m img\n\u001B[1;32m     15\u001B[0m circle \u001B[38;5;241m=\u001B[39m ImageDraw\u001B[38;5;241m.\u001B[39mDraw(img)\n\u001B[0;32m---> 16\u001B[0m \u001B[43mcircle\u001B[49m\u001B[38;5;241;43m.\u001B[39;49m\u001B[43mellipse\u001B[49m\u001B[43m(\u001B[49m\u001B[43m[\u001B[49m\u001B[43mx\u001B[49m\u001B[43m,\u001B[49m\u001B[43m \u001B[49m\u001B[43my\u001B[49m\u001B[43m,\u001B[49m\u001B[43m \u001B[49m\u001B[43mx\u001B[49m\u001B[43m \u001B[49m\u001B[38;5;241;43m+\u001B[39;49m\u001B[43m \u001B[49m\u001B[43mradius\u001B[49m\u001B[43m]\u001B[49m\u001B[43m,\u001B[49m\u001B[43m \u001B[49m\u001B[43mfill\u001B[49m\u001B[38;5;241;43m=\u001B[39;49m\u001B[43mcolor\u001B[49m\u001B[43m)\u001B[49m\n\u001B[1;32m     17\u001B[0m \u001B[38;5;28;01mreturn\u001B[39;00m img\n",
      "File \u001B[0;32m~/.local/lib/python3.11/site-packages/PIL/ImageDraw.py:175\u001B[0m, in \u001B[0;36mImageDraw.ellipse\u001B[0;34m(self, xy, fill, outline, width)\u001B[0m\n\u001B[1;32m    173\u001B[0m ink, fill \u001B[38;5;241m=\u001B[39m \u001B[38;5;28mself\u001B[39m\u001B[38;5;241m.\u001B[39m_getink(outline, fill)\n\u001B[1;32m    174\u001B[0m \u001B[38;5;28;01mif\u001B[39;00m fill \u001B[38;5;129;01mis\u001B[39;00m \u001B[38;5;129;01mnot\u001B[39;00m \u001B[38;5;28;01mNone\u001B[39;00m:\n\u001B[0;32m--> 175\u001B[0m     \u001B[38;5;28;43mself\u001B[39;49m\u001B[38;5;241;43m.\u001B[39;49m\u001B[43mdraw\u001B[49m\u001B[38;5;241;43m.\u001B[39;49m\u001B[43mdraw_ellipse\u001B[49m\u001B[43m(\u001B[49m\u001B[43mxy\u001B[49m\u001B[43m,\u001B[49m\u001B[43m \u001B[49m\u001B[43mfill\u001B[49m\u001B[43m,\u001B[49m\u001B[43m \u001B[49m\u001B[38;5;241;43m1\u001B[39;49m\u001B[43m)\u001B[49m\n\u001B[1;32m    176\u001B[0m \u001B[38;5;28;01mif\u001B[39;00m ink \u001B[38;5;129;01mis\u001B[39;00m \u001B[38;5;129;01mnot\u001B[39;00m \u001B[38;5;28;01mNone\u001B[39;00m \u001B[38;5;129;01mand\u001B[39;00m ink \u001B[38;5;241m!=\u001B[39m fill \u001B[38;5;129;01mand\u001B[39;00m width \u001B[38;5;241m!=\u001B[39m \u001B[38;5;241m0\u001B[39m:\n\u001B[1;32m    177\u001B[0m     \u001B[38;5;28mself\u001B[39m\u001B[38;5;241m.\u001B[39mdraw\u001B[38;5;241m.\u001B[39mdraw_ellipse(xy, ink, \u001B[38;5;241m0\u001B[39m, width)\n",
      "\u001B[0;31mValueError\u001B[0m: wrong number of coordinates"
     ]
    }
   ],
   "source": [
    "def CreateBackground(width, height):\n",
    "    img = Image.new(\"RGB\", (width, height), \"white\")\n",
    "    draw = ImageDraw.Draw(img)\n",
    "    draw.rectangle([0, 0, width, height], fill=\"black\")\n",
    "    return img\n",
    "\n",
    "def AddRectangle(img, width, height, x, y, color):\n",
    "    rect = ImageDraw.Draw(img)\n",
    "    rect.rectangle([x, y, x + width, y + height], fill=color)\n",
    "    return img\n",
    "\n",
    "def AddCircle(img, radius, x, y, color):\n",
    "    if img.width < radius or img.height < radius:\n",
    "        return img\n",
    "    circle = ImageDraw.Draw(img)\n",
    "    circle.ellipse([x, y, x + radius, y »3], fill=color)\n",
    "    return img\n",
    "\n",
    "IMG_SIZE = 150\n",
    "\n",
    "img = CreateBackground(IMG_SIZE, IMG_SIZE)\n",
    "img = AddRectangle(img, 50, 50, 0, 0, \"red\")\n",
    "img = AddRectangle(img, 60, 60, 60, 0, \"blue\")\n",
    "img = AddCircle(img, 40, 100, 70, \"green\")\n",
    "\n",
    "output_path = \"./Dataset/rect1.jpg\"\n",
    "img.save(output_path)\n",
    "\n",
    "print(f\"Image generated and saved at: {output_path}\")"
   ],
   "metadata": {
    "collapsed": false,
    "ExecuteTime": {
     "end_time": "2024-03-07T19:06:35.774683221Z",
     "start_time": "2024-03-07T19:06:35.773734635Z"
    }
   },
   "id": "5deb72204330e24e",
   "execution_count": 14
  }
 ],
 "metadata": {
  "kernelspec": {
   "display_name": "Python 3",
   "language": "python",
   "name": "python3"
  },
  "language_info": {
   "codemirror_mode": {
    "name": "ipython",
    "version": 2
   },
   "file_extension": ".py",
   "mimetype": "text/x-python",
   "name": "python",
   "nbconvert_exporter": "python",
   "pygments_lexer": "ipython2",
   "version": "2.7.6"
  }
 },
 "nbformat": 4,
 "nbformat_minor": 5
}
