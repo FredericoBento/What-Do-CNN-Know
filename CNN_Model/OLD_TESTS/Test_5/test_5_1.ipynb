{
 "cells": [
  {
   "cell_type": "code",
   "execution_count": null,
   "metadata": {},
   "outputs": [],
   "source": [
    "# Test 5-1 Dataset E\n",
    "# Test to see if circle is present in the image"
   ]
  },
  {
   "cell_type": "code",
   "execution_count": 1,
   "metadata": {},
   "outputs": [
    {
     "name": "stderr",
     "output_type": "stream",
     "text": [
      "2024-04-02 20:54:33.189907: E external/local_xla/xla/stream_executor/cuda/cuda_dnn.cc:9261] Unable to register cuDNN factory: Attempting to register factory for plugin cuDNN when one has already been registered\n",
      "2024-04-02 20:54:33.189980: E external/local_xla/xla/stream_executor/cuda/cuda_fft.cc:607] Unable to register cuFFT factory: Attempting to register factory for plugin cuFFT when one has already been registered\n",
      "2024-04-02 20:54:33.191480: E external/local_xla/xla/stream_executor/cuda/cuda_blas.cc:1515] Unable to register cuBLAS factory: Attempting to register factory for plugin cuBLAS when one has already been registered\n",
      "2024-04-02 20:54:33.199654: I tensorflow/core/platform/cpu_feature_guard.cc:182] This TensorFlow binary is optimized to use available CPU instructions in performance-critical operations.\n",
      "To enable the following instructions: AVX2 FMA, in other operations, rebuild TensorFlow with the appropriate compiler flags.\n",
      "2024-04-02 20:54:34.234163: W tensorflow/compiler/tf2tensorrt/utils/py_utils.cc:38] TF-TRT Warning: Could not find TensorRT\n",
      "2024-04-02 20:54:35.240084: E external/local_xla/xla/stream_executor/cuda/cuda_driver.cc:274] failed call to cuInit: CUDA_ERROR_UNKNOWN: unknown error\n",
      "2024-04-02 20:54:35.240115: I external/local_xla/xla/stream_executor/cuda/cuda_diagnostics.cc:129] retrieving CUDA diagnostic information for host: Bento\n",
      "2024-04-02 20:54:35.240122: I external/local_xla/xla/stream_executor/cuda/cuda_diagnostics.cc:136] hostname: Bento\n",
      "2024-04-02 20:54:35.240393: I external/local_xla/xla/stream_executor/cuda/cuda_diagnostics.cc:159] libcuda reported version is: 535.154.5\n",
      "2024-04-02 20:54:35.240425: I external/local_xla/xla/stream_executor/cuda/cuda_diagnostics.cc:163] kernel reported version is: 535.154.5\n",
      "2024-04-02 20:54:35.240432: I external/local_xla/xla/stream_executor/cuda/cuda_diagnostics.cc:241] kernel version seems to match DSO: 535.154.5\n"
     ]
    },
    {
     "data": {
      "text/plain": [
       "[]"
      ]
     },
     "execution_count": 1,
     "metadata": {},
     "output_type": "execute_result"
    }
   ],
   "source": [
    "import numpy as np\n",
    "import optuna as opt\n",
    "from optuna.visualization import plot_optimization_history\n",
    "import random\n",
    "import matplotlib.pyplot as plt\n",
    "import tensorflow as tf\n",
    "from tensorflow import keras\n",
    "from keras import layers\n",
    "from keras.utils import image_dataset_from_directory\n",
    "tf.config.list_physical_devices('GPU')"
   ]
  },
  {
   "cell_type": "code",
   "execution_count": 2,
   "metadata": {},
   "outputs": [],
   "source": [
    "train_dir = '../../Generator/Datasets/Dataset_E/train'\n",
    "test_dir = '../../Generator/Datasets/Dataset_E/test'"
   ]
  },
  {
   "cell_type": "code",
   "execution_count": 3,
   "metadata": {},
   "outputs": [],
   "source": [
    "IMG_SIZE = 250\n",
    "BATCH_SIZE = 32"
   ]
  },
  {
   "cell_type": "code",
   "execution_count": 4,
   "metadata": {},
   "outputs": [
    {
     "name": "stdout",
     "output_type": "stream",
     "text": [
      "Found 3000 files belonging to 2 classes.\n",
      "Found 1000 files belonging to 2 classes.\n"
     ]
    }
   ],
   "source": [
    "train_dataset = image_dataset_from_directory(\n",
    "    train_dir,\n",
    "    image_size=(IMG_SIZE, IMG_SIZE),\n",
    "    batch_size=BATCH_SIZE,\n",
    "    )\n",
    "\n",
    "test_dataset = image_dataset_from_directory(\n",
    "    test_dir,\n",
    "    image_size=(IMG_SIZE, IMG_SIZE),\n",
    "    batch_size=BATCH_SIZE,\n",
    "    )"
   ]
  },
  {
   "cell_type": "code",
   "execution_count": 49,
   "metadata": {},
   "outputs": [
    {
     "ename": "TypeError",
     "evalue": "Invalid shape (32, 250, 250, 3) for image data",
     "output_type": "error",
     "traceback": [
      "\u001b[0;31m---------------------------------------------------------------------------\u001b[0m",
      "\u001b[0;31mTypeError\u001b[0m                                 Traceback (most recent call last)",
      "Cell \u001b[0;32mIn[49], line 2\u001b[0m\n\u001b[1;32m      1\u001b[0m batch_test \u001b[38;5;241m=\u001b[39m \u001b[38;5;28mnext\u001b[39m(\u001b[38;5;28miter\u001b[39m(test_dataset))\n\u001b[0;32m----> 2\u001b[0m \u001b[43mplt\u001b[49m\u001b[38;5;241;43m.\u001b[39;49m\u001b[43mimshow\u001b[49m\u001b[43m(\u001b[49m\u001b[43mbatch_test\u001b[49m\u001b[43m[\u001b[49m\u001b[38;5;241;43m0\u001b[39;49m\u001b[43m]\u001b[49m\u001b[38;5;241;43m.\u001b[39;49m\u001b[43mnumpy\u001b[49m\u001b[43m(\u001b[49m\u001b[43m)\u001b[49m\u001b[38;5;241;43m.\u001b[39;49m\u001b[43mastype\u001b[49m\u001b[43m(\u001b[49m\u001b[38;5;124;43m\"\u001b[39;49m\u001b[38;5;124;43muint8\u001b[39;49m\u001b[38;5;124;43m\"\u001b[39;49m\u001b[43m)\u001b[49m\u001b[43m)\u001b[49m\n",
      "File \u001b[0;32m~/.local/lib/python3.11/site-packages/matplotlib/pyplot.py:3358\u001b[0m, in \u001b[0;36mimshow\u001b[0;34m(X, cmap, norm, aspect, interpolation, alpha, vmin, vmax, origin, extent, interpolation_stage, filternorm, filterrad, resample, url, data, **kwargs)\u001b[0m\n\u001b[1;32m   3337\u001b[0m \u001b[38;5;129m@_copy_docstring_and_deprecators\u001b[39m(Axes\u001b[38;5;241m.\u001b[39mimshow)\n\u001b[1;32m   3338\u001b[0m \u001b[38;5;28;01mdef\u001b[39;00m \u001b[38;5;21mimshow\u001b[39m(\n\u001b[1;32m   3339\u001b[0m     X: ArrayLike \u001b[38;5;241m|\u001b[39m PIL\u001b[38;5;241m.\u001b[39mImage\u001b[38;5;241m.\u001b[39mImage,\n\u001b[0;32m   (...)\u001b[0m\n\u001b[1;32m   3356\u001b[0m     \u001b[38;5;241m*\u001b[39m\u001b[38;5;241m*\u001b[39mkwargs,\n\u001b[1;32m   3357\u001b[0m ) \u001b[38;5;241m-\u001b[39m\u001b[38;5;241m>\u001b[39m AxesImage:\n\u001b[0;32m-> 3358\u001b[0m     __ret \u001b[38;5;241m=\u001b[39m \u001b[43mgca\u001b[49m\u001b[43m(\u001b[49m\u001b[43m)\u001b[49m\u001b[38;5;241;43m.\u001b[39;49m\u001b[43mimshow\u001b[49m\u001b[43m(\u001b[49m\n\u001b[1;32m   3359\u001b[0m \u001b[43m        \u001b[49m\u001b[43mX\u001b[49m\u001b[43m,\u001b[49m\n\u001b[1;32m   3360\u001b[0m \u001b[43m        \u001b[49m\u001b[43mcmap\u001b[49m\u001b[38;5;241;43m=\u001b[39;49m\u001b[43mcmap\u001b[49m\u001b[43m,\u001b[49m\n\u001b[1;32m   3361\u001b[0m \u001b[43m        \u001b[49m\u001b[43mnorm\u001b[49m\u001b[38;5;241;43m=\u001b[39;49m\u001b[43mnorm\u001b[49m\u001b[43m,\u001b[49m\n\u001b[1;32m   3362\u001b[0m \u001b[43m        \u001b[49m\u001b[43maspect\u001b[49m\u001b[38;5;241;43m=\u001b[39;49m\u001b[43maspect\u001b[49m\u001b[43m,\u001b[49m\n\u001b[1;32m   3363\u001b[0m \u001b[43m        \u001b[49m\u001b[43minterpolation\u001b[49m\u001b[38;5;241;43m=\u001b[39;49m\u001b[43minterpolation\u001b[49m\u001b[43m,\u001b[49m\n\u001b[1;32m   3364\u001b[0m \u001b[43m        \u001b[49m\u001b[43malpha\u001b[49m\u001b[38;5;241;43m=\u001b[39;49m\u001b[43malpha\u001b[49m\u001b[43m,\u001b[49m\n\u001b[1;32m   3365\u001b[0m \u001b[43m        \u001b[49m\u001b[43mvmin\u001b[49m\u001b[38;5;241;43m=\u001b[39;49m\u001b[43mvmin\u001b[49m\u001b[43m,\u001b[49m\n\u001b[1;32m   3366\u001b[0m \u001b[43m        \u001b[49m\u001b[43mvmax\u001b[49m\u001b[38;5;241;43m=\u001b[39;49m\u001b[43mvmax\u001b[49m\u001b[43m,\u001b[49m\n\u001b[1;32m   3367\u001b[0m \u001b[43m        \u001b[49m\u001b[43morigin\u001b[49m\u001b[38;5;241;43m=\u001b[39;49m\u001b[43morigin\u001b[49m\u001b[43m,\u001b[49m\n\u001b[1;32m   3368\u001b[0m \u001b[43m        \u001b[49m\u001b[43mextent\u001b[49m\u001b[38;5;241;43m=\u001b[39;49m\u001b[43mextent\u001b[49m\u001b[43m,\u001b[49m\n\u001b[1;32m   3369\u001b[0m \u001b[43m        \u001b[49m\u001b[43minterpolation_stage\u001b[49m\u001b[38;5;241;43m=\u001b[39;49m\u001b[43minterpolation_stage\u001b[49m\u001b[43m,\u001b[49m\n\u001b[1;32m   3370\u001b[0m \u001b[43m        \u001b[49m\u001b[43mfilternorm\u001b[49m\u001b[38;5;241;43m=\u001b[39;49m\u001b[43mfilternorm\u001b[49m\u001b[43m,\u001b[49m\n\u001b[1;32m   3371\u001b[0m \u001b[43m        \u001b[49m\u001b[43mfilterrad\u001b[49m\u001b[38;5;241;43m=\u001b[39;49m\u001b[43mfilterrad\u001b[49m\u001b[43m,\u001b[49m\n\u001b[1;32m   3372\u001b[0m \u001b[43m        \u001b[49m\u001b[43mresample\u001b[49m\u001b[38;5;241;43m=\u001b[39;49m\u001b[43mresample\u001b[49m\u001b[43m,\u001b[49m\n\u001b[1;32m   3373\u001b[0m \u001b[43m        \u001b[49m\u001b[43murl\u001b[49m\u001b[38;5;241;43m=\u001b[39;49m\u001b[43murl\u001b[49m\u001b[43m,\u001b[49m\n\u001b[1;32m   3374\u001b[0m \u001b[43m        \u001b[49m\u001b[38;5;241;43m*\u001b[39;49m\u001b[38;5;241;43m*\u001b[39;49m\u001b[43m(\u001b[49m\u001b[43m{\u001b[49m\u001b[38;5;124;43m\"\u001b[39;49m\u001b[38;5;124;43mdata\u001b[39;49m\u001b[38;5;124;43m\"\u001b[39;49m\u001b[43m:\u001b[49m\u001b[43m \u001b[49m\u001b[43mdata\u001b[49m\u001b[43m}\u001b[49m\u001b[43m \u001b[49m\u001b[38;5;28;43;01mif\u001b[39;49;00m\u001b[43m \u001b[49m\u001b[43mdata\u001b[49m\u001b[43m \u001b[49m\u001b[38;5;129;43;01mis\u001b[39;49;00m\u001b[43m \u001b[49m\u001b[38;5;129;43;01mnot\u001b[39;49;00m\u001b[43m \u001b[49m\u001b[38;5;28;43;01mNone\u001b[39;49;00m\u001b[43m \u001b[49m\u001b[38;5;28;43;01melse\u001b[39;49;00m\u001b[43m \u001b[49m\u001b[43m{\u001b[49m\u001b[43m}\u001b[49m\u001b[43m)\u001b[49m\u001b[43m,\u001b[49m\n\u001b[1;32m   3375\u001b[0m \u001b[43m        \u001b[49m\u001b[38;5;241;43m*\u001b[39;49m\u001b[38;5;241;43m*\u001b[39;49m\u001b[43mkwargs\u001b[49m\u001b[43m,\u001b[49m\n\u001b[1;32m   3376\u001b[0m \u001b[43m    \u001b[49m\u001b[43m)\u001b[49m\n\u001b[1;32m   3377\u001b[0m     sci(__ret)\n\u001b[1;32m   3378\u001b[0m     \u001b[38;5;28;01mreturn\u001b[39;00m __ret\n",
      "File \u001b[0;32m~/.local/lib/python3.11/site-packages/matplotlib/__init__.py:1465\u001b[0m, in \u001b[0;36m_preprocess_data.<locals>.inner\u001b[0;34m(ax, data, *args, **kwargs)\u001b[0m\n\u001b[1;32m   1462\u001b[0m \u001b[38;5;129m@functools\u001b[39m\u001b[38;5;241m.\u001b[39mwraps(func)\n\u001b[1;32m   1463\u001b[0m \u001b[38;5;28;01mdef\u001b[39;00m \u001b[38;5;21minner\u001b[39m(ax, \u001b[38;5;241m*\u001b[39margs, data\u001b[38;5;241m=\u001b[39m\u001b[38;5;28;01mNone\u001b[39;00m, \u001b[38;5;241m*\u001b[39m\u001b[38;5;241m*\u001b[39mkwargs):\n\u001b[1;32m   1464\u001b[0m     \u001b[38;5;28;01mif\u001b[39;00m data \u001b[38;5;129;01mis\u001b[39;00m \u001b[38;5;28;01mNone\u001b[39;00m:\n\u001b[0;32m-> 1465\u001b[0m         \u001b[38;5;28;01mreturn\u001b[39;00m \u001b[43mfunc\u001b[49m\u001b[43m(\u001b[49m\u001b[43max\u001b[49m\u001b[43m,\u001b[49m\u001b[43m \u001b[49m\u001b[38;5;241;43m*\u001b[39;49m\u001b[38;5;28;43mmap\u001b[39;49m\u001b[43m(\u001b[49m\u001b[43msanitize_sequence\u001b[49m\u001b[43m,\u001b[49m\u001b[43m \u001b[49m\u001b[43margs\u001b[49m\u001b[43m)\u001b[49m\u001b[43m,\u001b[49m\u001b[43m \u001b[49m\u001b[38;5;241;43m*\u001b[39;49m\u001b[38;5;241;43m*\u001b[39;49m\u001b[43mkwargs\u001b[49m\u001b[43m)\u001b[49m\n\u001b[1;32m   1467\u001b[0m     bound \u001b[38;5;241m=\u001b[39m new_sig\u001b[38;5;241m.\u001b[39mbind(ax, \u001b[38;5;241m*\u001b[39margs, \u001b[38;5;241m*\u001b[39m\u001b[38;5;241m*\u001b[39mkwargs)\n\u001b[1;32m   1468\u001b[0m     auto_label \u001b[38;5;241m=\u001b[39m (bound\u001b[38;5;241m.\u001b[39marguments\u001b[38;5;241m.\u001b[39mget(label_namer)\n\u001b[1;32m   1469\u001b[0m                   \u001b[38;5;129;01mor\u001b[39;00m bound\u001b[38;5;241m.\u001b[39mkwargs\u001b[38;5;241m.\u001b[39mget(label_namer))\n",
      "File \u001b[0;32m~/.local/lib/python3.11/site-packages/matplotlib/axes/_axes.py:5759\u001b[0m, in \u001b[0;36mAxes.imshow\u001b[0;34m(self, X, cmap, norm, aspect, interpolation, alpha, vmin, vmax, origin, extent, interpolation_stage, filternorm, filterrad, resample, url, **kwargs)\u001b[0m\n\u001b[1;32m   5756\u001b[0m \u001b[38;5;28;01mif\u001b[39;00m aspect \u001b[38;5;129;01mis\u001b[39;00m \u001b[38;5;129;01mnot\u001b[39;00m \u001b[38;5;28;01mNone\u001b[39;00m:\n\u001b[1;32m   5757\u001b[0m     \u001b[38;5;28mself\u001b[39m\u001b[38;5;241m.\u001b[39mset_aspect(aspect)\n\u001b[0;32m-> 5759\u001b[0m \u001b[43mim\u001b[49m\u001b[38;5;241;43m.\u001b[39;49m\u001b[43mset_data\u001b[49m\u001b[43m(\u001b[49m\u001b[43mX\u001b[49m\u001b[43m)\u001b[49m\n\u001b[1;32m   5760\u001b[0m im\u001b[38;5;241m.\u001b[39mset_alpha(alpha)\n\u001b[1;32m   5761\u001b[0m \u001b[38;5;28;01mif\u001b[39;00m im\u001b[38;5;241m.\u001b[39mget_clip_path() \u001b[38;5;129;01mis\u001b[39;00m \u001b[38;5;28;01mNone\u001b[39;00m:\n\u001b[1;32m   5762\u001b[0m     \u001b[38;5;66;03m# image does not already have clipping set, clip to axes patch\u001b[39;00m\n",
      "File \u001b[0;32m~/.local/lib/python3.11/site-packages/matplotlib/image.py:723\u001b[0m, in \u001b[0;36m_ImageBase.set_data\u001b[0;34m(self, A)\u001b[0m\n\u001b[1;32m    721\u001b[0m \u001b[38;5;28;01mif\u001b[39;00m \u001b[38;5;28misinstance\u001b[39m(A, PIL\u001b[38;5;241m.\u001b[39mImage\u001b[38;5;241m.\u001b[39mImage):\n\u001b[1;32m    722\u001b[0m     A \u001b[38;5;241m=\u001b[39m pil_to_array(A)  \u001b[38;5;66;03m# Needed e.g. to apply png palette.\u001b[39;00m\n\u001b[0;32m--> 723\u001b[0m \u001b[38;5;28mself\u001b[39m\u001b[38;5;241m.\u001b[39m_A \u001b[38;5;241m=\u001b[39m \u001b[38;5;28;43mself\u001b[39;49m\u001b[38;5;241;43m.\u001b[39;49m\u001b[43m_normalize_image_array\u001b[49m\u001b[43m(\u001b[49m\u001b[43mA\u001b[49m\u001b[43m)\u001b[49m\n\u001b[1;32m    724\u001b[0m \u001b[38;5;28mself\u001b[39m\u001b[38;5;241m.\u001b[39m_imcache \u001b[38;5;241m=\u001b[39m \u001b[38;5;28;01mNone\u001b[39;00m\n\u001b[1;32m    725\u001b[0m \u001b[38;5;28mself\u001b[39m\u001b[38;5;241m.\u001b[39mstale \u001b[38;5;241m=\u001b[39m \u001b[38;5;28;01mTrue\u001b[39;00m\n",
      "File \u001b[0;32m~/.local/lib/python3.11/site-packages/matplotlib/image.py:693\u001b[0m, in \u001b[0;36m_ImageBase._normalize_image_array\u001b[0;34m(A)\u001b[0m\n\u001b[1;32m    691\u001b[0m     A \u001b[38;5;241m=\u001b[39m A\u001b[38;5;241m.\u001b[39msqueeze(\u001b[38;5;241m-\u001b[39m\u001b[38;5;241m1\u001b[39m)  \u001b[38;5;66;03m# If just (M, N, 1), assume scalar and apply colormap.\u001b[39;00m\n\u001b[1;32m    692\u001b[0m \u001b[38;5;28;01mif\u001b[39;00m \u001b[38;5;129;01mnot\u001b[39;00m (A\u001b[38;5;241m.\u001b[39mndim \u001b[38;5;241m==\u001b[39m \u001b[38;5;241m2\u001b[39m \u001b[38;5;129;01mor\u001b[39;00m A\u001b[38;5;241m.\u001b[39mndim \u001b[38;5;241m==\u001b[39m \u001b[38;5;241m3\u001b[39m \u001b[38;5;129;01mand\u001b[39;00m A\u001b[38;5;241m.\u001b[39mshape[\u001b[38;5;241m-\u001b[39m\u001b[38;5;241m1\u001b[39m] \u001b[38;5;129;01min\u001b[39;00m [\u001b[38;5;241m3\u001b[39m, \u001b[38;5;241m4\u001b[39m]):\n\u001b[0;32m--> 693\u001b[0m     \u001b[38;5;28;01mraise\u001b[39;00m \u001b[38;5;167;01mTypeError\u001b[39;00m(\u001b[38;5;124mf\u001b[39m\u001b[38;5;124m\"\u001b[39m\u001b[38;5;124mInvalid shape \u001b[39m\u001b[38;5;132;01m{\u001b[39;00mA\u001b[38;5;241m.\u001b[39mshape\u001b[38;5;132;01m}\u001b[39;00m\u001b[38;5;124m for image data\u001b[39m\u001b[38;5;124m\"\u001b[39m)\n\u001b[1;32m    694\u001b[0m \u001b[38;5;28;01mif\u001b[39;00m A\u001b[38;5;241m.\u001b[39mndim \u001b[38;5;241m==\u001b[39m \u001b[38;5;241m3\u001b[39m:\n\u001b[1;32m    695\u001b[0m     \u001b[38;5;66;03m# If the input data has values outside the valid range (after\u001b[39;00m\n\u001b[1;32m    696\u001b[0m     \u001b[38;5;66;03m# normalisation), we issue a warning and then clip X to the bounds\u001b[39;00m\n\u001b[1;32m    697\u001b[0m     \u001b[38;5;66;03m# - otherwise casting wraps extreme values, hiding outliers and\u001b[39;00m\n\u001b[1;32m    698\u001b[0m     \u001b[38;5;66;03m# making reliable interpretation impossible.\u001b[39;00m\n\u001b[1;32m    699\u001b[0m     high \u001b[38;5;241m=\u001b[39m \u001b[38;5;241m255\u001b[39m \u001b[38;5;28;01mif\u001b[39;00m np\u001b[38;5;241m.\u001b[39missubdtype(A\u001b[38;5;241m.\u001b[39mdtype, np\u001b[38;5;241m.\u001b[39minteger) \u001b[38;5;28;01melse\u001b[39;00m \u001b[38;5;241m1\u001b[39m\n",
      "\u001b[0;31mTypeError\u001b[0m: Invalid shape (32, 250, 250, 3) for image data"
     ]
    },
    {
     "data": {
      "image/png": "[encoded data removed]",
      "text/plain": [
       "<Figure size 640x480 with 1 Axes>"
      ]
     },
     "metadata": {},
     "output_type": "display_data"
    }
   ],
   "source": [
    "batch_test = next(iter(test_dataset))\n",
    "plt.imshow(batch_test[0].numpy().astype(\"uint8\"))"
   ]
  },
  {
   "cell_type": "code",
   "execution_count": 37,
   "metadata": {},
   "outputs": [
    {
     "data": {
      "image/png": "[encoded data removed]",
      "text/plain": [
       "<Figure size 640x480 with 1 Axes>"
      ]
     },
     "metadata": {},
     "output_type": "display_data"
    },
    {
     "data": {
      "image/png": "[encoded data removed]",
      "text/plain": [
       "<Figure size 640x480 with 1 Axes>"
      ]
     },
     "metadata": {},
     "output_type": "display_data"
    },
    {
     "data": {
      "image/png": "[encoded data removed]",
      "text/plain": [
       "<Figure size 640x480 with 1 Axes>"
      ]
     },
     "metadata": {},
     "output_type": "display_data"
    },
    {
     "data": {
      "image/png": "[encoded data removed]",
      "text/plain": [
       "<Figure size 640x480 with 1 Axes>"
      ]
     },
     "metadata": {},
     "output_type": "display_data"
    },
    {
     "data": {
      "image/png": "[encoded data removed]",
      "text/plain": [
       "<Figure size 640x480 with 1 Axes>"
      ]
     },
     "metadata": {},
     "output_type": "display_data"
    }
   ],
   "source": [
    "for data_batch, _ in train_dataset.take(1):\n",
    "    for i in range(5):\n",
    "        plt.imshow(data_batch[i].numpy().astype(\"uint8\"))\n",
    "        plt.show()"
   ]
  },
  {
   "cell_type": "code",
   "execution_count": 6,
   "metadata": {},
   "outputs": [],
   "source": [
    "checkpoint_filepath = 'models/5-1/ch-{epoch:03d}.ckpt'\n",
    "callbacks = keras.callbacks.ModelCheckpoint(\n",
    "    filepath=checkpoint_filepath,\n",
    "    save_best_only=True,\n",
    "    monitor='val_loss',\n",
    "    verbose=1)"
   ]
  },
  {
   "cell_type": "code",
   "execution_count": 7,
   "metadata": {},
   "outputs": [],
   "source": [
    "def objective(trial):\n",
    "    opt_num_hidden_dense_units = trial.suggest_int(\"opt_num_hidden_dense_units\", 10, 512)\n",
    "    opt_lr = trial.suggest_float(\"opt_lr\", 1e-6, 1e-2, log=True)\n",
    "    opt_bs = trial.suggest_int(\"opt_bs\", 16, 128)\n",
    "    inputs = keras.Input(shape=(IMG_SIZE, IMG_SIZE, 3))\n",
    "    x = layers.Rescaling(1./255)(inputs)\n",
    "    x = layers.Conv2D(filters=8, kernel_size=3, activation=\"relu\")(x)\n",
    "    x = layers.MaxPooling2D(pool_size=2)(x)\n",
    "    x = layers.Conv2D(filters=16, kernel_size=3, activation=\"relu\")(x)\n",
    "    x = layers.MaxPooling2D(pool_size=2)(x)\n",
    "    x = layers.Conv2D(filters=32, kernel_size=3, activation=\"relu\")(x)\n",
    "    x = layers.MaxPooling2D(pool_size=2)(x)\n",
    "    x = layers.Flatten()(x)\n",
    "    x = layers.Dropout(0.5)(x)\n",
    "    x = layers.Dense(opt_num_hidden_dense_units, activation=\"relu\")(x)\n",
    "    outputs = layers.Dense(1, activation=\"sigmoid\")(x)\n",
    "    model = keras.Model(inputs=inputs, outputs=outputs)\n",
    "    model.compile(loss=\"binary_crossentropy\", optimizer=tf.keras.optimizers.Adam(learning_rate=opt_lr), metrics=['acc'])\n",
    "    history = model.fit(train_dataset, epochs=10, batch_size=opt_bs, validation_data=test_dataset, callbacks=[callbacks])\n",
    "    min_val_loss = np.amin(history.history[\"val_loss\"])\n",
    "    return min_val_loss"
   ]
  },
  {
   "cell_type": "code",
   "execution_count": 8,
   "metadata": {},
   "outputs": [
    {
     "name": "stderr",
     "output_type": "stream",
     "text": [
      "[I 2024-04-02 12:05:26,228] A new study created in memory with name: no-name-90bd35d5-283b-421b-bc7f-080d0d5b1f8e\n"
     ]
    },
    {
     "name": "stdout",
     "output_type": "stream",
     "text": [
      "Epoch 1/10\n"
     ]
    },
    {
     "name": "stderr",
     "output_type": "stream",
     "text": [
      "2024-04-02 12:05:27.956918: I external/local_xla/xla/stream_executor/cuda/cuda_dnn.cc:454] Loaded cuDNN version 8904\n",
      "2024-04-02 12:05:28.204462: I external/local_tsl/tsl/platform/default/subprocess.cc:304] Start cannot spawn child process: No such file or directory\n",
      "2024-04-02 12:05:30.332765: I external/local_xla/xla/service/service.cc:168] XLA service 0x7f6d941f7fb0 initialized for platform CUDA (this does not guarantee that XLA will be used). Devices:\n",
      "2024-04-02 12:05:30.332810: I external/local_xla/xla/service/service.cc:176]   StreamExecutor device (0): NVIDIA GeForce GTX 1060 with Max-Q Design, Compute Capability 6.1\n",
      "2024-04-02 12:05:30.346901: I tensorflow/compiler/mlir/tensorflow/utils/dump_mlir_util.cc:269] disabling MLIR crash reproducer, set env var `MLIR_CRASH_REPRODUCER_DIRECTORY` to enable.\n",
      "WARNING: All log messages before absl::InitializeLog() is called are written to STDERR\n",
      "I0000 00:00:1712055930.450991   21515 device_compiler.h:186] Compiled cluster using XLA!  This line is logged at most once for the lifetime of the process.\n"
     ]
    },
    {
     "name": "stdout",
     "output_type": "stream",
     "text": [
      "94/94 [==============================] - ETA: 0s - loss: 0.6981 - acc: 0.5007\n",
      "Epoch 1: val_loss improved from inf to 0.68879, saving model to models/5-1/ch-001.ckpt\n",
      "INFO:tensorflow:Assets written to: models/5-1/ch-001.ckpt/assets\n"
     ]
    },
    {
     "name": "stderr",
     "output_type": "stream",
     "text": [
      "INFO:tensorflow:Assets written to: models/5-1/ch-001.ckpt/assets\n"
     ]
    },
    {
     "name": "stdout",
     "output_type": "stream",
     "text": [
      "94/94 [==============================] - 13s 77ms/step - loss: 0.6981 - acc: 0.5007 - val_loss: 0.6888 - val_acc: 0.5290\n",
      "Epoch 2/10\n",
      "94/94 [==============================] - ETA: 0s - loss: 0.6946 - acc: 0.5183\n",
      "Epoch 2: val_loss did not improve from 0.68879\n",
      "94/94 [==============================] - 5s 52ms/step - loss: 0.6946 - acc: 0.5183 - val_loss: 0.6890 - val_acc: 0.5330\n",
      "Epoch 3/10\n",
      "94/94 [==============================] - ETA: 0s - loss: 0.6861 - acc: 0.5467\n",
      "Epoch 3: val_loss improved from 0.68879 to 0.68790, saving model to models/5-1/ch-003.ckpt\n",
      "INFO:tensorflow:Assets written to: models/5-1/ch-003.ckpt/assets\n"
     ]
    },
    {
     "name": "stderr",
     "output_type": "stream",
     "text": [
      "INFO:tensorflow:Assets written to: models/5-1/ch-003.ckpt/assets\n"
     ]
    },
    {
     "name": "stdout",
     "output_type": "stream",
     "text": [
      "94/94 [==============================] - 6s 57ms/step - loss: 0.6861 - acc: 0.5467 - val_loss: 0.6879 - val_acc: 0.5380\n",
      "Epoch 4/10\n",
      "93/94 [============================>.] - ETA: 0s - loss: 0.6778 - acc: 0.5786\n",
      "Epoch 4: val_loss improved from 0.68790 to 0.67434, saving model to models/5-1/ch-004.ckpt\n",
      "INFO:tensorflow:Assets written to: models/5-1/ch-004.ckpt/assets\n"
     ]
    },
    {
     "name": "stderr",
     "output_type": "stream",
     "text": [
      "INFO:tensorflow:Assets written to: models/5-1/ch-004.ckpt/assets\n"
     ]
    },
    {
     "name": "stdout",
     "output_type": "stream",
     "text": [
      "94/94 [==============================] - 5s 56ms/step - loss: 0.6784 - acc: 0.5770 - val_loss: 0.6743 - val_acc: 0.6050\n",
      "Epoch 5/10\n",
      "93/94 [============================>.] - ETA: 0s - loss: 0.6716 - acc: 0.6022\n",
      "Epoch 5: val_loss improved from 0.67434 to 0.66757, saving model to models/5-1/ch-005.ckpt\n",
      "INFO:tensorflow:Assets written to: models/5-1/ch-005.ckpt/assets\n"
     ]
    },
    {
     "name": "stderr",
     "output_type": "stream",
     "text": [
      "INFO:tensorflow:Assets written to: models/5-1/ch-005.ckpt/assets\n"
     ]
    },
    {
     "name": "stdout",
     "output_type": "stream",
     "text": [
      "94/94 [==============================] - 6s 64ms/step - loss: 0.6721 - acc: 0.6007 - val_loss: 0.6676 - val_acc: 0.6170\n",
      "Epoch 6/10\n",
      "94/94 [==============================] - ETA: 0s - loss: 0.6606 - acc: 0.6120\n",
      "Epoch 6: val_loss did not improve from 0.66757\n",
      "94/94 [==============================] - 5s 46ms/step - loss: 0.6606 - acc: 0.6120 - val_loss: 0.6747 - val_acc: 0.5790\n",
      "Epoch 7/10\n",
      "94/94 [==============================] - ETA: 0s - loss: 0.6502 - acc: 0.6353\n",
      "Epoch 7: val_loss did not improve from 0.66757\n",
      "94/94 [==============================] - 4s 45ms/step - loss: 0.6502 - acc: 0.6353 - val_loss: 0.6692 - val_acc: 0.5880\n",
      "Epoch 8/10\n",
      "93/94 [============================>.] - ETA: 0s - loss: 0.6394 - acc: 0.6499\n",
      "Epoch 8: val_loss improved from 0.66757 to 0.64863, saving model to models/5-1/ch-008.ckpt\n",
      "INFO:tensorflow:Assets written to: models/5-1/ch-008.ckpt/assets\n"
     ]
    },
    {
     "name": "stderr",
     "output_type": "stream",
     "text": [
      "INFO:tensorflow:Assets written to: models/5-1/ch-008.ckpt/assets\n"
     ]
    },
    {
     "name": "stdout",
     "output_type": "stream",
     "text": [
      "94/94 [==============================] - 6s 59ms/step - loss: 0.6392 - acc: 0.6497 - val_loss: 0.6486 - val_acc: 0.6230\n",
      "Epoch 9/10\n",
      "94/94 [==============================] - ETA: 0s - loss: 0.6284 - acc: 0.6583\n",
      "Epoch 9: val_loss improved from 0.64863 to 0.64085, saving model to models/5-1/ch-009.ckpt\n",
      "INFO:tensorflow:Assets written to: models/5-1/ch-009.ckpt/assets\n"
     ]
    },
    {
     "name": "stderr",
     "output_type": "stream",
     "text": [
      "INFO:tensorflow:Assets written to: models/5-1/ch-009.ckpt/assets\n"
     ]
    },
    {
     "name": "stdout",
     "output_type": "stream",
     "text": [
      "94/94 [==============================] - 6s 58ms/step - loss: 0.6284 - acc: 0.6583 - val_loss: 0.6408 - val_acc: 0.6660\n",
      "Epoch 10/10\n",
      "93/94 [============================>.] - ETA: 0s - loss: 0.6275 - acc: 0.6573\n",
      "Epoch 10: val_loss improved from 0.64085 to 0.63658, saving model to models/5-1/ch-010.ckpt\n",
      "INFO:tensorflow:Assets written to: models/5-1/ch-010.ckpt/assets\n"
     ]
    },
    {
     "name": "stderr",
     "output_type": "stream",
     "text": [
      "INFO:tensorflow:Assets written to: models/5-1/ch-010.ckpt/assets\n"
     ]
    },
    {
     "name": "stdout",
     "output_type": "stream",
     "text": [
      "94/94 [==============================] - 6s 59ms/step - loss: 0.6269 - acc: 0.6580 - val_loss: 0.6366 - val_acc: 0.6290\n"
     ]
    },
    {
     "name": "stderr",
     "output_type": "stream",
     "text": [
      "[I 2024-04-02 12:06:28,596] Trial 0 finished with value: 0.6365829110145569 and parameters: {'opt_num_hidden_dense_units': 123, 'opt_lr': 2.069091513872115e-05, 'opt_bs': 50}. Best is trial 0 with value: 0.6365829110145569.\n"
     ]
    },
    {
     "name": "stdout",
     "output_type": "stream",
     "text": [
      "Epoch 1/10\n",
      "94/94 [==============================] - ETA: 0s - loss: 0.7665 - acc: 0.5273\n",
      "Epoch 1: val_loss did not improve from 0.63658\n",
      "94/94 [==============================] - 7s 53ms/step - loss: 0.7665 - acc: 0.5273 - val_loss: 0.6898 - val_acc: 0.5490\n",
      "Epoch 2/10\n",
      "94/94 [==============================] - ETA: 0s - loss: 0.6821 - acc: 0.5687\n",
      "Epoch 2: val_loss did not improve from 0.63658\n",
      "94/94 [==============================] - 5s 51ms/step - loss: 0.6821 - acc: 0.5687 - val_loss: 0.6610 - val_acc: 0.6720\n",
      "Epoch 3/10\n",
      "93/94 [============================>.] - ETA: 0s - loss: 0.6391 - acc: 0.6764\n",
      "Epoch 3: val_loss did not improve from 0.63658\n",
      "94/94 [==============================] - 5s 49ms/step - loss: 0.6395 - acc: 0.6753 - val_loss: 0.6562 - val_acc: 0.6290\n",
      "Epoch 4/10\n",
      "93/94 [============================>.] - ETA: 0s - loss: 0.6002 - acc: 0.6825\n",
      "Epoch 4: val_loss improved from 0.63658 to 0.61690, saving model to models/5-1/ch-004.ckpt\n",
      "INFO:tensorflow:Assets written to: models/5-1/ch-004.ckpt/assets\n"
     ]
    },
    {
     "name": "stderr",
     "output_type": "stream",
     "text": [
      "INFO:tensorflow:Assets written to: models/5-1/ch-004.ckpt/assets\n"
     ]
    },
    {
     "name": "stdout",
     "output_type": "stream",
     "text": [
      "94/94 [==============================] - 6s 66ms/step - loss: 0.6004 - acc: 0.6830 - val_loss: 0.6169 - val_acc: 0.6580\n",
      "Epoch 5/10\n",
      "93/94 [============================>.] - ETA: 0s - loss: 0.5401 - acc: 0.7369\n",
      "Epoch 5: val_loss improved from 0.61690 to 0.54754, saving model to models/5-1/ch-005.ckpt\n",
      "INFO:tensorflow:Assets written to: models/5-1/ch-005.ckpt/assets\n"
     ]
    },
    {
     "name": "stderr",
     "output_type": "stream",
     "text": [
      "INFO:tensorflow:Assets written to: models/5-1/ch-005.ckpt/assets\n"
     ]
    },
    {
     "name": "stdout",
     "output_type": "stream",
     "text": [
      "94/94 [==============================] - 10s 105ms/step - loss: 0.5397 - acc: 0.7370 - val_loss: 0.5475 - val_acc: 0.7220\n",
      "Epoch 6/10\n",
      "93/94 [============================>.] - ETA: 0s - loss: 0.5063 - acc: 0.7497\n",
      "Epoch 6: val_loss did not improve from 0.54754\n",
      "94/94 [==============================] - 8s 78ms/step - loss: 0.5050 - acc: 0.7513 - val_loss: 0.5609 - val_acc: 0.7060\n",
      "Epoch 7/10\n",
      "94/94 [==============================] - ETA: 0s - loss: 0.4793 - acc: 0.7700\n",
      "Epoch 7: val_loss did not improve from 0.54754\n",
      "94/94 [==============================] - 5s 56ms/step - loss: 0.4793 - acc: 0.7700 - val_loss: 0.5602 - val_acc: 0.7250\n",
      "Epoch 8/10\n",
      "94/94 [==============================] - ETA: 0s - loss: 0.4229 - acc: 0.7953\n",
      "Epoch 8: val_loss did not improve from 0.54754\n",
      "94/94 [==============================] - 5s 52ms/step - loss: 0.4229 - acc: 0.7953 - val_loss: 0.5781 - val_acc: 0.7290\n",
      "Epoch 9/10\n",
      "93/94 [============================>.] - ETA: 0s - loss: 0.3588 - acc: 0.8310\n",
      "Epoch 9: val_loss did not improve from 0.54754\n",
      "94/94 [==============================] - 5s 53ms/step - loss: 0.3595 - acc: 0.8300 - val_loss: 0.6077 - val_acc: 0.7160\n",
      "Epoch 10/10\n",
      "93/94 [============================>.] - ETA: 0s - loss: 0.2985 - acc: 0.8690\n",
      "Epoch 10: val_loss did not improve from 0.54754\n",
      "94/94 [==============================] - 5s 51ms/step - loss: 0.2973 - acc: 0.8697 - val_loss: 0.7764 - val_acc: 0.7030\n"
     ]
    },
    {
     "name": "stderr",
     "output_type": "stream",
     "text": [
      "[I 2024-04-02 12:07:31,524] Trial 1 finished with value: 0.5475444197654724 and parameters: {'opt_num_hidden_dense_units': 440, 'opt_lr': 0.001949568098565191, 'opt_bs': 64}. Best is trial 1 with value: 0.5475444197654724.\n"
     ]
    },
    {
     "name": "stdout",
     "output_type": "stream",
     "text": [
      "Epoch 1/10\n",
      "94/94 [==============================] - ETA: 0s - loss: 0.6927 - acc: 0.4990\n",
      "Epoch 1: val_loss did not improve from 0.54754\n",
      "94/94 [==============================] - 7s 52ms/step - loss: 0.6927 - acc: 0.4990 - val_loss: 0.6901 - val_acc: 0.5980\n",
      "Epoch 2/10\n",
      "93/94 [============================>.] - ETA: 0s - loss: 0.6902 - acc: 0.5138\n",
      "Epoch 2: val_loss did not improve from 0.54754\n",
      "94/94 [==============================] - 5s 46ms/step - loss: 0.6902 - acc: 0.5143 - val_loss: 0.6878 - val_acc: 0.5430\n",
      "Epoch 3/10\n",
      "94/94 [==============================] - ETA: 0s - loss: 0.6877 - acc: 0.5280\n",
      "Epoch 3: val_loss did not improve from 0.54754\n",
      "94/94 [==============================] - 5s 51ms/step - loss: 0.6877 - acc: 0.5280 - val_loss: 0.6851 - val_acc: 0.5610\n",
      "Epoch 4/10\n",
      "93/94 [============================>.] - ETA: 0s - loss: 0.6845 - acc: 0.5501\n",
      "Epoch 4: val_loss did not improve from 0.54754\n",
      "94/94 [==============================] - 5s 47ms/step - loss: 0.6845 - acc: 0.5503 - val_loss: 0.6819 - val_acc: 0.6190\n",
      "Epoch 5/10\n",
      "94/94 [==============================] - ETA: 0s - loss: 0.6816 - acc: 0.5900\n",
      "Epoch 5: val_loss did not improve from 0.54754\n",
      "94/94 [==============================] - 6s 56ms/step - loss: 0.6816 - acc: 0.5900 - val_loss: 0.6786 - val_acc: 0.6280\n",
      "Epoch 6/10\n",
      "93/94 [============================>.] - ETA: 0s - loss: 0.6779 - acc: 0.6069\n",
      "Epoch 6: val_loss did not improve from 0.54754\n",
      "94/94 [==============================] - 5s 53ms/step - loss: 0.6778 - acc: 0.6073 - val_loss: 0.6753 - val_acc: 0.6230\n",
      "Epoch 7/10\n",
      "93/94 [============================>.] - ETA: 0s - loss: 0.6735 - acc: 0.6462\n",
      "Epoch 7: val_loss did not improve from 0.54754\n",
      "94/94 [==============================] - 5s 46ms/step - loss: 0.6735 - acc: 0.6463 - val_loss: 0.6715 - val_acc: 0.6280\n",
      "Epoch 8/10\n",
      "94/94 [==============================] - ETA: 0s - loss: 0.6697 - acc: 0.6333\n",
      "Epoch 8: val_loss did not improve from 0.54754\n",
      "94/94 [==============================] - 5s 48ms/step - loss: 0.6697 - acc: 0.6333 - val_loss: 0.6679 - val_acc: 0.6190\n",
      "Epoch 9/10\n",
      "93/94 [============================>.] - ETA: 0s - loss: 0.6657 - acc: 0.6391\n",
      "Epoch 9: val_loss did not improve from 0.54754\n",
      "94/94 [==============================] - 5s 48ms/step - loss: 0.6656 - acc: 0.6393 - val_loss: 0.6634 - val_acc: 0.6280\n",
      "Epoch 10/10\n",
      "94/94 [==============================] - ETA: 0s - loss: 0.6599 - acc: 0.6530\n",
      "Epoch 10: val_loss did not improve from 0.54754\n",
      "94/94 [==============================] - 5s 47ms/step - loss: 0.6599 - acc: 0.6530 - val_loss: 0.6594 - val_acc: 0.6360\n"
     ]
    },
    {
     "name": "stderr",
     "output_type": "stream",
     "text": [
      "[I 2024-04-02 12:08:22,814] Trial 2 finished with value: 0.6594014167785645 and parameters: {'opt_num_hidden_dense_units': 331, 'opt_lr': 6.110194222698653e-06, 'opt_bs': 108}. Best is trial 1 with value: 0.5475444197654724.\n"
     ]
    },
    {
     "name": "stdout",
     "output_type": "stream",
     "text": [
      "Epoch 1/10\n",
      "94/94 [==============================] - ETA: 0s - loss: 0.6646 - acc: 0.6087\n",
      "Epoch 1: val_loss did not improve from 0.54754\n",
      "94/94 [==============================] - 6s 46ms/step - loss: 0.6646 - acc: 0.6087 - val_loss: 0.5918 - val_acc: 0.6780\n",
      "Epoch 2/10\n",
      "94/94 [==============================] - ETA: 0s - loss: 0.5302 - acc: 0.7307\n",
      "Epoch 2: val_loss improved from 0.54754 to 0.52219, saving model to models/5-1/ch-002.ckpt\n",
      "INFO:tensorflow:Assets written to: models/5-1/ch-002.ckpt/assets\n"
     ]
    },
    {
     "name": "stderr",
     "output_type": "stream",
     "text": [
      "INFO:tensorflow:Assets written to: models/5-1/ch-002.ckpt/assets\n"
     ]
    },
    {
     "name": "stdout",
     "output_type": "stream",
     "text": [
      "94/94 [==============================] - 6s 65ms/step - loss: 0.5302 - acc: 0.7307 - val_loss: 0.5222 - val_acc: 0.7360\n",
      "Epoch 3/10\n",
      "94/94 [==============================] - ETA: 0s - loss: 0.4889 - acc: 0.7460\n",
      "Epoch 3: val_loss did not improve from 0.52219\n",
      "94/94 [==============================] - 5s 53ms/step - loss: 0.4889 - acc: 0.7460 - val_loss: 0.5498 - val_acc: 0.7280\n",
      "Epoch 4/10\n",
      "93/94 [============================>.] - ETA: 0s - loss: 0.4815 - acc: 0.7537\n",
      "Epoch 4: val_loss did not improve from 0.52219\n",
      "94/94 [==============================] - 5s 49ms/step - loss: 0.4813 - acc: 0.7540 - val_loss: 0.5541 - val_acc: 0.7260\n",
      "Epoch 5/10\n",
      "94/94 [==============================] - ETA: 0s - loss: 0.4415 - acc: 0.7753\n",
      "Epoch 5: val_loss did not improve from 0.52219\n",
      "94/94 [==============================] - 5s 48ms/step - loss: 0.4415 - acc: 0.7753 - val_loss: 0.5708 - val_acc: 0.7030\n",
      "Epoch 6/10\n",
      "94/94 [==============================] - ETA: 0s - loss: 0.4107 - acc: 0.7933\n",
      "Epoch 6: val_loss did not improve from 0.52219\n",
      "94/94 [==============================] - 5s 50ms/step - loss: 0.4107 - acc: 0.7933 - val_loss: 0.5765 - val_acc: 0.7220\n",
      "Epoch 7/10\n",
      "94/94 [==============================] - ETA: 0s - loss: 0.3554 - acc: 0.8223\n",
      "Epoch 7: val_loss did not improve from 0.52219\n",
      "94/94 [==============================] - 5s 48ms/step - loss: 0.3554 - acc: 0.8223 - val_loss: 0.5874 - val_acc: 0.7200\n",
      "Epoch 8/10\n",
      "94/94 [==============================] - ETA: 0s - loss: 0.3269 - acc: 0.8460\n",
      "Epoch 8: val_loss did not improve from 0.52219\n",
      "94/94 [==============================] - 5s 49ms/step - loss: 0.3269 - acc: 0.8460 - val_loss: 0.6340 - val_acc: 0.7240\n",
      "Epoch 9/10\n",
      "94/94 [==============================] - ETA: 0s - loss: 0.2741 - acc: 0.8807\n",
      "Epoch 9: val_loss did not improve from 0.52219\n",
      "94/94 [==============================] - 5s 45ms/step - loss: 0.2741 - acc: 0.8807 - val_loss: 0.6955 - val_acc: 0.7320\n",
      "Epoch 10/10\n",
      "94/94 [==============================] - ETA: 0s - loss: 0.2248 - acc: 0.9090\n",
      "Epoch 10: val_loss did not improve from 0.52219\n",
      "94/94 [==============================] - 5s 48ms/step - loss: 0.2248 - acc: 0.9090 - val_loss: 0.7915 - val_acc: 0.7280\n"
     ]
    },
    {
     "name": "stderr",
     "output_type": "stream",
     "text": [
      "[I 2024-04-02 12:09:14,376] Trial 3 finished with value: 0.5221923589706421 and parameters: {'opt_num_hidden_dense_units': 60, 'opt_lr': 0.0013693618689800777, 'opt_bs': 119}. Best is trial 3 with value: 0.5221923589706421.\n"
     ]
    },
    {
     "name": "stdout",
     "output_type": "stream",
     "text": [
      "Epoch 1/10\n",
      "93/94 [============================>.] - ETA: 0s - loss: 0.7100 - acc: 0.5218\n",
      "Epoch 1: val_loss did not improve from 0.52219\n",
      "94/94 [==============================] - 7s 50ms/step - loss: 0.7099 - acc: 0.5220 - val_loss: 0.6899 - val_acc: 0.5520\n",
      "Epoch 2/10\n",
      "94/94 [==============================] - ETA: 0s - loss: 0.6849 - acc: 0.5633\n",
      "Epoch 2: val_loss did not improve from 0.52219\n",
      "94/94 [==============================] - 5s 50ms/step - loss: 0.6849 - acc: 0.5633 - val_loss: 0.6788 - val_acc: 0.5990\n",
      "Epoch 3/10\n",
      "93/94 [============================>.] - ETA: 0s - loss: 0.6634 - acc: 0.6146\n",
      "Epoch 3: val_loss did not improve from 0.52219\n",
      "94/94 [==============================] - 5s 49ms/step - loss: 0.6623 - acc: 0.6163 - val_loss: 0.6773 - val_acc: 0.6350\n",
      "Epoch 4/10\n",
      "94/94 [==============================] - ETA: 0s - loss: 0.6323 - acc: 0.6573\n",
      "Epoch 4: val_loss did not improve from 0.52219\n",
      "94/94 [==============================] - 5s 51ms/step - loss: 0.6323 - acc: 0.6573 - val_loss: 0.6854 - val_acc: 0.6370\n",
      "Epoch 5/10\n",
      "94/94 [==============================] - ETA: 0s - loss: 0.5831 - acc: 0.7003\n",
      "Epoch 5: val_loss did not improve from 0.52219\n",
      "94/94 [==============================] - 5s 51ms/step - loss: 0.5831 - acc: 0.7003 - val_loss: 0.6095 - val_acc: 0.6870\n",
      "Epoch 6/10\n",
      "93/94 [============================>.] - ETA: 0s - loss: 0.5480 - acc: 0.7241\n",
      "Epoch 6: val_loss did not improve from 0.52219\n",
      "94/94 [==============================] - 5s 53ms/step - loss: 0.5477 - acc: 0.7243 - val_loss: 0.6048 - val_acc: 0.6710\n",
      "Epoch 7/10\n",
      "93/94 [============================>.] - ETA: 0s - loss: 0.5371 - acc: 0.7305\n",
      "Epoch 7: val_loss did not improve from 0.52219\n",
      "94/94 [==============================] - 5s 52ms/step - loss: 0.5371 - acc: 0.7300 - val_loss: 0.6239 - val_acc: 0.6720\n",
      "Epoch 8/10\n",
      "94/94 [==============================] - ETA: 0s - loss: 0.5045 - acc: 0.7453\n",
      "Epoch 8: val_loss did not improve from 0.52219\n",
      "94/94 [==============================] - 4s 43ms/step - loss: 0.5045 - acc: 0.7453 - val_loss: 0.5852 - val_acc: 0.6980\n",
      "Epoch 9/10\n",
      "93/94 [============================>.] - ETA: 0s - loss: 0.5106 - acc: 0.7608\n",
      "Epoch 9: val_loss did not improve from 0.52219\n",
      "94/94 [==============================] - 5s 48ms/step - loss: 0.5114 - acc: 0.7597 - val_loss: 0.6818 - val_acc: 0.6050\n",
      "Epoch 10/10\n",
      "94/94 [==============================] - ETA: 0s - loss: 0.5017 - acc: 0.7550\n",
      "Epoch 10: val_loss did not improve from 0.52219\n",
      "94/94 [==============================] - 5s 49ms/step - loss: 0.5017 - acc: 0.7550 - val_loss: 0.6103 - val_acc: 0.6860\n"
     ]
    },
    {
     "name": "stderr",
     "output_type": "stream",
     "text": [
      "[I 2024-04-02 12:10:05,954] Trial 4 finished with value: 0.585204541683197 and parameters: {'opt_num_hidden_dense_units': 227, 'opt_lr': 0.0005970916708683698, 'opt_bs': 53}. Best is trial 3 with value: 0.5221923589706421.\n"
     ]
    },
    {
     "name": "stdout",
     "output_type": "stream",
     "text": [
      "Epoch 1/10\n",
      "93/94 [============================>.] - ETA: 0s - loss: 0.6960 - acc: 0.5255\n",
      "Epoch 1: val_loss did not improve from 0.52219\n",
      "94/94 [==============================] - 7s 53ms/step - loss: 0.6956 - acc: 0.5267 - val_loss: 0.6799 - val_acc: 0.5660\n",
      "Epoch 2/10\n",
      "94/94 [==============================] - ETA: 0s - loss: 0.6721 - acc: 0.5840\n",
      "Epoch 2: val_loss did not improve from 0.52219\n",
      "94/94 [==============================] - 5s 52ms/step - loss: 0.6721 - acc: 0.5840 - val_loss: 0.6591 - val_acc: 0.6180\n",
      "Epoch 3/10\n",
      "93/94 [============================>.] - ETA: 0s - loss: 0.6470 - acc: 0.6465\n",
      "Epoch 3: val_loss did not improve from 0.52219\n",
      "94/94 [==============================] - 6s 61ms/step - loss: 0.6472 - acc: 0.6463 - val_loss: 0.6891 - val_acc: 0.5590\n",
      "Epoch 4/10\n",
      "94/94 [==============================] - ETA: 0s - loss: 0.6275 - acc: 0.6647\n",
      "Epoch 4: val_loss did not improve from 0.52219\n",
      "94/94 [==============================] - 5s 50ms/step - loss: 0.6275 - acc: 0.6647 - val_loss: 0.6676 - val_acc: 0.5980\n",
      "Epoch 5/10\n",
      "93/94 [============================>.] - ETA: 0s - loss: 0.5896 - acc: 0.6983\n",
      "Epoch 5: val_loss did not improve from 0.52219\n",
      "94/94 [==============================] - 5s 53ms/step - loss: 0.5899 - acc: 0.6977 - val_loss: 0.6073 - val_acc: 0.6820\n",
      "Epoch 6/10\n",
      "94/94 [==============================] - ETA: 0s - loss: 0.5767 - acc: 0.7113\n",
      "Epoch 6: val_loss did not improve from 0.52219\n",
      "94/94 [==============================] - 5s 50ms/step - loss: 0.5767 - acc: 0.7113 - val_loss: 0.6126 - val_acc: 0.6660\n",
      "Epoch 7/10\n",
      "94/94 [==============================] - ETA: 0s - loss: 0.5690 - acc: 0.7163\n",
      "Epoch 7: val_loss did not improve from 0.52219\n",
      "94/94 [==============================] - 5s 51ms/step - loss: 0.5690 - acc: 0.7163 - val_loss: 0.6066 - val_acc: 0.7170\n",
      "Epoch 8/10\n",
      "94/94 [==============================] - ETA: 0s - loss: 0.5421 - acc: 0.7377\n",
      "Epoch 8: val_loss did not improve from 0.52219\n",
      "94/94 [==============================] - 5s 54ms/step - loss: 0.5421 - acc: 0.7377 - val_loss: 0.6141 - val_acc: 0.6650\n",
      "Epoch 9/10\n",
      "94/94 [==============================] - ETA: 0s - loss: 0.5326 - acc: 0.7297\n",
      "Epoch 9: val_loss did not improve from 0.52219\n",
      "94/94 [==============================] - 5s 50ms/step - loss: 0.5326 - acc: 0.7297 - val_loss: 0.6096 - val_acc: 0.7110\n",
      "Epoch 10/10\n",
      "94/94 [==============================] - ETA: 0s - loss: 0.5250 - acc: 0.7453\n",
      "Epoch 10: val_loss did not improve from 0.52219\n",
      "94/94 [==============================] - 5s 54ms/step - loss: 0.5250 - acc: 0.7453 - val_loss: 0.5925 - val_acc: 0.6920\n"
     ]
    },
    {
     "name": "stderr",
     "output_type": "stream",
     "text": [
      "[I 2024-04-02 12:11:05,107] Trial 5 finished with value: 0.5924705862998962 and parameters: {'opt_num_hidden_dense_units': 512, 'opt_lr': 4.343372030639474e-05, 'opt_bs': 55}. Best is trial 3 with value: 0.5221923589706421.\n"
     ]
    },
    {
     "name": "stdout",
     "output_type": "stream",
     "text": [
      "Epoch 1/10\n",
      "93/94 [============================>.] - ETA: 0s - loss: 0.6864 - acc: 0.5548\n",
      "Epoch 1: val_loss did not improve from 0.52219\n",
      "94/94 [==============================] - 7s 49ms/step - loss: 0.6861 - acc: 0.5553 - val_loss: 0.6831 - val_acc: 0.5790\n",
      "Epoch 2/10\n",
      "94/94 [==============================] - ETA: 0s - loss: 0.6381 - acc: 0.6517\n",
      "Epoch 2: val_loss did not improve from 0.52219\n",
      "94/94 [==============================] - 5s 52ms/step - loss: 0.6381 - acc: 0.6517 - val_loss: 0.6122 - val_acc: 0.6800\n",
      "Epoch 3/10\n",
      "94/94 [==============================] - ETA: 0s - loss: 0.5822 - acc: 0.7080\n",
      "Epoch 3: val_loss did not improve from 0.52219\n",
      "94/94 [==============================] - 6s 53ms/step - loss: 0.5822 - acc: 0.7080 - val_loss: 0.6052 - val_acc: 0.6560\n",
      "Epoch 4/10\n",
      "94/94 [==============================] - ETA: 0s - loss: 0.5375 - acc: 0.7310\n",
      "Epoch 4: val_loss did not improve from 0.52219\n",
      "94/94 [==============================] - 5s 46ms/step - loss: 0.5375 - acc: 0.7310 - val_loss: 0.6005 - val_acc: 0.6570\n",
      "Epoch 5/10\n",
      "94/94 [==============================] - ETA: 0s - loss: 0.5149 - acc: 0.7447\n",
      "Epoch 5: val_loss did not improve from 0.52219\n",
      "94/94 [==============================] - 4s 44ms/step - loss: 0.5149 - acc: 0.7447 - val_loss: 0.5472 - val_acc: 0.7130\n",
      "Epoch 6/10\n",
      "93/94 [============================>.] - ETA: 0s - loss: 0.4862 - acc: 0.7618\n",
      "Epoch 6: val_loss did not improve from 0.52219\n",
      "94/94 [==============================] - 4s 43ms/step - loss: 0.4871 - acc: 0.7620 - val_loss: 0.5706 - val_acc: 0.6890\n",
      "Epoch 7/10\n",
      "92/94 [============================>.] - ETA: 0s - loss: 0.4608 - acc: 0.7724\n",
      "Epoch 7: val_loss did not improve from 0.52219\n",
      "94/94 [==============================] - 4s 40ms/step - loss: 0.4605 - acc: 0.7740 - val_loss: 0.5577 - val_acc: 0.7010\n",
      "Epoch 8/10\n",
      "94/94 [==============================] - ETA: 0s - loss: 0.4384 - acc: 0.7907\n",
      "Epoch 8: val_loss did not improve from 0.52219\n",
      "94/94 [==============================] - 6s 55ms/step - loss: 0.4384 - acc: 0.7907 - val_loss: 0.5645 - val_acc: 0.7000\n",
      "Epoch 9/10\n",
      "93/94 [============================>.] - ETA: 0s - loss: 0.4006 - acc: 0.8145\n",
      "Epoch 9: val_loss did not improve from 0.52219\n",
      "94/94 [==============================] - 4s 42ms/step - loss: 0.4005 - acc: 0.8147 - val_loss: 0.5661 - val_acc: 0.7030\n",
      "Epoch 10/10\n",
      "94/94 [==============================] - ETA: 0s - loss: 0.3839 - acc: 0.8183\n",
      "Epoch 10: val_loss did not improve from 0.52219\n",
      "94/94 [==============================] - 4s 45ms/step - loss: 0.3839 - acc: 0.8183 - val_loss: 0.6725 - val_acc: 0.7150\n"
     ]
    },
    {
     "name": "stderr",
     "output_type": "stream",
     "text": [
      "[I 2024-04-02 12:11:54,198] Trial 6 finished with value: 0.547225832939148 and parameters: {'opt_num_hidden_dense_units': 32, 'opt_lr': 0.000385071334440661, 'opt_bs': 98}. Best is trial 3 with value: 0.5221923589706421.\n"
     ]
    },
    {
     "name": "stdout",
     "output_type": "stream",
     "text": [
      "Epoch 1/10\n",
      "94/94 [==============================] - ETA: 0s - loss: 0.6955 - acc: 0.5007\n",
      "Epoch 1: val_loss did not improve from 0.52219\n",
      "94/94 [==============================] - 7s 54ms/step - loss: 0.6955 - acc: 0.5007 - val_loss: 0.6952 - val_acc: 0.5090\n",
      "Epoch 2/10\n",
      "94/94 [==============================] - ETA: 0s - loss: 0.6931 - acc: 0.5137\n",
      "Epoch 2: val_loss did not improve from 0.52219\n",
      "94/94 [==============================] - 5s 48ms/step - loss: 0.6931 - acc: 0.5137 - val_loss: 0.6940 - val_acc: 0.5230\n",
      "Epoch 3/10\n",
      "93/94 [============================>.] - ETA: 0s - loss: 0.6895 - acc: 0.5373\n",
      "Epoch 3: val_loss did not improve from 0.52219\n",
      "94/94 [==============================] - 5s 50ms/step - loss: 0.6896 - acc: 0.5363 - val_loss: 0.6980 - val_acc: 0.5110\n",
      "Epoch 4/10\n",
      "94/94 [==============================] - ETA: 0s - loss: 0.6885 - acc: 0.5430\n",
      "Epoch 4: val_loss did not improve from 0.52219\n",
      "94/94 [==============================] - 5s 46ms/step - loss: 0.6885 - acc: 0.5430 - val_loss: 0.6930 - val_acc: 0.5230\n",
      "Epoch 5/10\n",
      "94/94 [==============================] - ETA: 0s - loss: 0.6867 - acc: 0.5490\n",
      "Epoch 5: val_loss did not improve from 0.52219\n",
      "94/94 [==============================] - 5s 50ms/step - loss: 0.6867 - acc: 0.5490 - val_loss: 0.6946 - val_acc: 0.5290\n",
      "Epoch 6/10\n",
      "94/94 [==============================] - ETA: 0s - loss: 0.6859 - acc: 0.5403\n",
      "Epoch 6: val_loss did not improve from 0.52219\n",
      "94/94 [==============================] - 4s 45ms/step - loss: 0.6859 - acc: 0.5403 - val_loss: 0.6951 - val_acc: 0.5330\n",
      "Epoch 7/10\n",
      "93/94 [============================>.] - ETA: 0s - loss: 0.6841 - acc: 0.5528\n",
      "Epoch 7: val_loss did not improve from 0.52219\n",
      "94/94 [==============================] - 4s 44ms/step - loss: 0.6841 - acc: 0.5527 - val_loss: 0.6950 - val_acc: 0.5320\n",
      "Epoch 8/10\n",
      "93/94 [============================>.] - ETA: 0s - loss: 0.6805 - acc: 0.5628\n",
      "Epoch 8: val_loss did not improve from 0.52219\n",
      "94/94 [==============================] - 5s 46ms/step - loss: 0.6808 - acc: 0.5620 - val_loss: 0.6927 - val_acc: 0.5370\n",
      "Epoch 9/10\n",
      "93/94 [============================>.] - ETA: 0s - loss: 0.6788 - acc: 0.5702\n",
      "Epoch 9: val_loss did not improve from 0.52219\n",
      "94/94 [==============================] - 5s 49ms/step - loss: 0.6786 - acc: 0.5710 - val_loss: 0.6882 - val_acc: 0.5350\n",
      "Epoch 10/10\n",
      "94/94 [==============================] - ETA: 0s - loss: 0.6768 - acc: 0.5787\n",
      "Epoch 10: val_loss did not improve from 0.52219\n",
      "94/94 [==============================] - 5s 49ms/step - loss: 0.6768 - acc: 0.5787 - val_loss: 0.6862 - val_acc: 0.5580\n"
     ]
    },
    {
     "name": "stderr",
     "output_type": "stream",
     "text": [
      "[I 2024-04-02 12:12:44,223] Trial 7 finished with value: 0.6862455010414124 and parameters: {'opt_num_hidden_dense_units': 75, 'opt_lr': 8.934095436911755e-06, 'opt_bs': 56}. Best is trial 3 with value: 0.5221923589706421.\n"
     ]
    },
    {
     "name": "stdout",
     "output_type": "stream",
     "text": [
      "Epoch 1/10\n",
      "94/94 [==============================] - ETA: 0s - loss: 0.6951 - acc: 0.4900\n",
      "Epoch 1: val_loss did not improve from 0.52219\n",
      "94/94 [==============================] - 7s 55ms/step - loss: 0.6951 - acc: 0.4900 - val_loss: 0.6936 - val_acc: 0.5060\n",
      "Epoch 2/10\n",
      "93/94 [============================>.] - ETA: 0s - loss: 0.6938 - acc: 0.5013\n",
      "Epoch 2: val_loss did not improve from 0.52219\n",
      "94/94 [==============================] - 5s 49ms/step - loss: 0.6939 - acc: 0.5017 - val_loss: 0.6933 - val_acc: 0.4940\n",
      "Epoch 3/10\n",
      "94/94 [==============================] - ETA: 0s - loss: 0.6928 - acc: 0.5073\n",
      "Epoch 3: val_loss did not improve from 0.52219\n",
      "94/94 [==============================] - 5s 53ms/step - loss: 0.6928 - acc: 0.5073 - val_loss: 0.6922 - val_acc: 0.4960\n",
      "Epoch 4/10\n",
      "94/94 [==============================] - ETA: 0s - loss: 0.6925 - acc: 0.5107\n",
      "Epoch 4: val_loss did not improve from 0.52219\n",
      "94/94 [==============================] - 5s 51ms/step - loss: 0.6925 - acc: 0.5107 - val_loss: 0.6913 - val_acc: 0.5070\n",
      "Epoch 5/10\n",
      "93/94 [============================>.] - ETA: 0s - loss: 0.6899 - acc: 0.5323\n",
      "Epoch 5: val_loss did not improve from 0.52219\n",
      "94/94 [==============================] - 5s 46ms/step - loss: 0.6899 - acc: 0.5323 - val_loss: 0.6904 - val_acc: 0.5170\n",
      "Epoch 6/10\n",
      "93/94 [============================>.] - ETA: 0s - loss: 0.6904 - acc: 0.5376\n",
      "Epoch 6: val_loss did not improve from 0.52219\n",
      "94/94 [==============================] - 5s 50ms/step - loss: 0.6904 - acc: 0.5367 - val_loss: 0.6896 - val_acc: 0.5450\n",
      "Epoch 7/10\n",
      "93/94 [============================>.] - ETA: 0s - loss: 0.6877 - acc: 0.5538\n",
      "Epoch 7: val_loss did not improve from 0.52219\n",
      "94/94 [==============================] - 5s 46ms/step - loss: 0.6877 - acc: 0.5540 - val_loss: 0.6889 - val_acc: 0.5530\n",
      "Epoch 8/10\n",
      "93/94 [============================>.] - ETA: 0s - loss: 0.6884 - acc: 0.5521\n",
      "Epoch 8: val_loss did not improve from 0.52219\n",
      "94/94 [==============================] - 5s 51ms/step - loss: 0.6884 - acc: 0.5520 - val_loss: 0.6880 - val_acc: 0.5660\n",
      "Epoch 9/10\n",
      "94/94 [==============================] - ETA: 0s - loss: 0.6874 - acc: 0.5563\n",
      "Epoch 9: val_loss did not improve from 0.52219\n",
      "94/94 [==============================] - 5s 48ms/step - loss: 0.6874 - acc: 0.5563 - val_loss: 0.6870 - val_acc: 0.5880\n",
      "Epoch 10/10\n",
      "93/94 [============================>.] - ETA: 0s - loss: 0.6846 - acc: 0.5675\n",
      "Epoch 10: val_loss did not improve from 0.52219\n",
      "94/94 [==============================] - 5s 51ms/step - loss: 0.6847 - acc: 0.5670 - val_loss: 0.6861 - val_acc: 0.5890\n"
     ]
    },
    {
     "name": "stderr",
     "output_type": "stream",
     "text": [
      "[I 2024-04-02 12:13:35,911] Trial 8 finished with value: 0.6860760450363159 and parameters: {'opt_num_hidden_dense_units': 401, 'opt_lr': 1.8026880416439437e-06, 'opt_bs': 111}. Best is trial 3 with value: 0.5221923589706421.\n"
     ]
    },
    {
     "name": "stdout",
     "output_type": "stream",
     "text": [
      "Epoch 1/10\n",
      "94/94 [==============================] - ETA: 0s - loss: 0.7001 - acc: 0.5030\n",
      "Epoch 1: val_loss did not improve from 0.52219\n",
      "94/94 [==============================] - 7s 50ms/step - loss: 0.7001 - acc: 0.5030 - val_loss: 0.6905 - val_acc: 0.5240\n",
      "Epoch 2/10\n",
      "93/94 [============================>.] - ETA: 0s - loss: 0.6899 - acc: 0.5353\n",
      "Epoch 2: val_loss did not improve from 0.52219\n",
      "94/94 [==============================] - 5s 49ms/step - loss: 0.6898 - acc: 0.5357 - val_loss: 0.6857 - val_acc: 0.5560\n",
      "Epoch 3/10\n",
      "93/94 [============================>.] - ETA: 0s - loss: 0.6786 - acc: 0.5753\n",
      "Epoch 3: val_loss did not improve from 0.52219\n",
      "94/94 [==============================] - 4s 42ms/step - loss: 0.6785 - acc: 0.5770 - val_loss: 0.6926 - val_acc: 0.5360\n",
      "Epoch 4/10\n",
      "94/94 [==============================] - ETA: 0s - loss: 0.6660 - acc: 0.5983\n",
      "Epoch 4: val_loss did not improve from 0.52219\n",
      "94/94 [==============================] - 4s 43ms/step - loss: 0.6660 - acc: 0.5983 - val_loss: 0.6633 - val_acc: 0.6170\n",
      "Epoch 5/10\n",
      "94/94 [==============================] - ETA: 0s - loss: 0.6467 - acc: 0.6333\n",
      "Epoch 5: val_loss did not improve from 0.52219\n",
      "94/94 [==============================] - 5s 55ms/step - loss: 0.6467 - acc: 0.6333 - val_loss: 0.6533 - val_acc: 0.6010\n",
      "Epoch 6/10\n",
      "94/94 [==============================] - ETA: 0s - loss: 0.6245 - acc: 0.6743\n",
      "Epoch 6: val_loss did not improve from 0.52219\n",
      "94/94 [==============================] - 5s 52ms/step - loss: 0.6245 - acc: 0.6743 - val_loss: 0.6482 - val_acc: 0.6060\n",
      "Epoch 7/10\n",
      "94/94 [==============================] - ETA: 0s - loss: 0.6102 - acc: 0.6813\n",
      "Epoch 7: val_loss did not improve from 0.52219\n",
      "94/94 [==============================] - 5s 49ms/step - loss: 0.6102 - acc: 0.6813 - val_loss: 0.6239 - val_acc: 0.6610\n",
      "Epoch 8/10\n",
      "94/94 [==============================] - ETA: 0s - loss: 0.5910 - acc: 0.7010\n",
      "Epoch 8: val_loss did not improve from 0.52219\n",
      "94/94 [==============================] - 5s 47ms/step - loss: 0.5910 - acc: 0.7010 - val_loss: 0.6150 - val_acc: 0.6600\n",
      "Epoch 9/10\n",
      "93/94 [============================>.] - ETA: 0s - loss: 0.5754 - acc: 0.7110\n",
      "Epoch 9: val_loss did not improve from 0.52219\n",
      "94/94 [==============================] - 5s 51ms/step - loss: 0.5748 - acc: 0.7113 - val_loss: 0.6285 - val_acc: 0.6490\n",
      "Epoch 10/10\n",
      "93/94 [============================>.] - ETA: 0s - loss: 0.5666 - acc: 0.7053\n",
      "Epoch 10: val_loss did not improve from 0.52219\n",
      "94/94 [==============================] - 4s 44ms/step - loss: 0.5673 - acc: 0.7047 - val_loss: 0.6078 - val_acc: 0.6600\n"
     ]
    },
    {
     "name": "stderr",
     "output_type": "stream",
     "text": [
      "[I 2024-04-02 12:14:25,642] Trial 9 finished with value: 0.6077643632888794 and parameters: {'opt_num_hidden_dense_units': 137, 'opt_lr': 5.79901943039493e-05, 'opt_bs': 18}. Best is trial 3 with value: 0.5221923589706421.\n"
     ]
    },
    {
     "name": "stdout",
     "output_type": "stream",
     "text": [
      "Epoch 1/10\n",
      "94/94 [==============================] - ETA: 0s - loss: 1.1137 - acc: 0.4960\n",
      "Epoch 1: val_loss did not improve from 0.52219\n",
      "94/94 [==============================] - 7s 51ms/step - loss: 1.1137 - acc: 0.4960 - val_loss: 0.6932 - val_acc: 0.5000\n",
      "Epoch 2/10\n",
      "94/94 [==============================] - ETA: 0s - loss: 0.6933 - acc: 0.4920\n",
      "Epoch 2: val_loss did not improve from 0.52219\n",
      "94/94 [==============================] - 5s 47ms/step - loss: 0.6933 - acc: 0.4920 - val_loss: 0.6931 - val_acc: 0.5000\n",
      "Epoch 3/10\n",
      "93/94 [============================>.] - ETA: 0s - loss: 0.6933 - acc: 0.4960\n",
      "Epoch 3: val_loss did not improve from 0.52219\n",
      "94/94 [==============================] - 6s 66ms/step - loss: 0.6933 - acc: 0.4953 - val_loss: 0.6931 - val_acc: 0.5000\n",
      "Epoch 4/10\n",
      "93/94 [============================>.] - ETA: 0s - loss: 0.6934 - acc: 0.4852\n",
      "Epoch 4: val_loss did not improve from 0.52219\n",
      "94/94 [==============================] - 5s 51ms/step - loss: 0.6934 - acc: 0.4847 - val_loss: 0.6931 - val_acc: 0.5000\n",
      "Epoch 5/10\n",
      "94/94 [==============================] - ETA: 0s - loss: 0.6933 - acc: 0.4933\n",
      "Epoch 5: val_loss did not improve from 0.52219\n",
      "94/94 [==============================] - 5s 47ms/step - loss: 0.6933 - acc: 0.4933 - val_loss: 0.6932 - val_acc: 0.5000\n",
      "Epoch 6/10\n",
      "94/94 [==============================] - ETA: 0s - loss: 0.6933 - acc: 0.4920\n",
      "Epoch 6: val_loss did not improve from 0.52219\n",
      "94/94 [==============================] - 5s 47ms/step - loss: 0.6933 - acc: 0.4920 - val_loss: 0.6932 - val_acc: 0.5000\n",
      "Epoch 7/10\n",
      "93/94 [============================>.] - ETA: 0s - loss: 0.6934 - acc: 0.4963\n",
      "Epoch 7: val_loss did not improve from 0.52219\n",
      "94/94 [==============================] - 5s 46ms/step - loss: 0.6934 - acc: 0.4953 - val_loss: 0.6932 - val_acc: 0.5000\n",
      "Epoch 8/10\n",
      "94/94 [==============================] - ETA: 0s - loss: 0.6934 - acc: 0.4787\n",
      "Epoch 8: val_loss did not improve from 0.52219\n",
      "94/94 [==============================] - 5s 46ms/step - loss: 0.6934 - acc: 0.4787 - val_loss: 0.6932 - val_acc: 0.5000\n",
      "Epoch 9/10\n",
      "94/94 [==============================] - ETA: 0s - loss: 0.6934 - acc: 0.4760\n",
      "Epoch 9: val_loss did not improve from 0.52219\n",
      "94/94 [==============================] - 5s 53ms/step - loss: 0.6934 - acc: 0.4760 - val_loss: 0.6931 - val_acc: 0.5000\n",
      "Epoch 10/10\n",
      "94/94 [==============================] - ETA: 0s - loss: 0.6933 - acc: 0.4827\n",
      "Epoch 10: val_loss did not improve from 0.52219\n",
      "94/94 [==============================] - 5s 52ms/step - loss: 0.6933 - acc: 0.4827 - val_loss: 0.6932 - val_acc: 0.5000\n"
     ]
    },
    {
     "name": "stderr",
     "output_type": "stream",
     "text": [
      "[I 2024-04-02 12:15:17,480] Trial 10 finished with value: 0.6931471824645996 and parameters: {'opt_num_hidden_dense_units': 227, 'opt_lr': 0.0075294452086383384, 'opt_bs': 128}. Best is trial 3 with value: 0.5221923589706421.\n"
     ]
    },
    {
     "name": "stdout",
     "output_type": "stream",
     "text": [
      "Epoch 1/10\n",
      "93/94 [============================>.] - ETA: 0s - loss: 0.6953 - acc: 0.5131\n",
      "Epoch 1: val_loss did not improve from 0.52219\n",
      "94/94 [==============================] - 6s 46ms/step - loss: 0.6953 - acc: 0.5140 - val_loss: 0.6901 - val_acc: 0.5430\n",
      "Epoch 2/10\n",
      "94/94 [==============================] - ETA: 0s - loss: 0.6764 - acc: 0.5877\n",
      "Epoch 2: val_loss did not improve from 0.52219\n",
      "94/94 [==============================] - 6s 60ms/step - loss: 0.6764 - acc: 0.5877 - val_loss: 0.6669 - val_acc: 0.6060\n",
      "Epoch 3/10\n",
      "93/94 [============================>.] - ETA: 0s - loss: 0.6521 - acc: 0.6253\n",
      "Epoch 3: val_loss did not improve from 0.52219\n",
      "94/94 [==============================] - 4s 44ms/step - loss: 0.6519 - acc: 0.6260 - val_loss: 0.6458 - val_acc: 0.6310\n",
      "Epoch 4/10\n",
      "94/94 [==============================] - ETA: 0s - loss: 0.6241 - acc: 0.6637\n",
      "Epoch 4: val_loss did not improve from 0.52219\n",
      "94/94 [==============================] - 4s 44ms/step - loss: 0.6241 - acc: 0.6637 - val_loss: 0.6360 - val_acc: 0.6640\n",
      "Epoch 5/10\n",
      "94/94 [==============================] - ETA: 0s - loss: 0.5981 - acc: 0.6937\n",
      "Epoch 5: val_loss did not improve from 0.52219\n",
      "94/94 [==============================] - 4s 44ms/step - loss: 0.5981 - acc: 0.6937 - val_loss: 0.6287 - val_acc: 0.6600\n",
      "Epoch 6/10\n",
      "94/94 [==============================] - ETA: 0s - loss: 0.5756 - acc: 0.7030\n",
      "Epoch 6: val_loss did not improve from 0.52219\n",
      "94/94 [==============================] - 5s 46ms/step - loss: 0.5756 - acc: 0.7030 - val_loss: 0.6212 - val_acc: 0.6740\n",
      "Epoch 7/10\n",
      "93/94 [============================>.] - ETA: 0s - loss: 0.5468 - acc: 0.7322\n",
      "Epoch 7: val_loss did not improve from 0.52219\n",
      "94/94 [==============================] - 6s 57ms/step - loss: 0.5472 - acc: 0.7320 - val_loss: 0.6301 - val_acc: 0.6600\n",
      "Epoch 8/10\n",
      "94/94 [==============================] - ETA: 0s - loss: 0.5268 - acc: 0.7513\n",
      "Epoch 8: val_loss did not improve from 0.52219\n",
      "94/94 [==============================] - 5s 46ms/step - loss: 0.5268 - acc: 0.7513 - val_loss: 0.5975 - val_acc: 0.6800\n",
      "Epoch 9/10\n",
      "93/94 [============================>.] - ETA: 0s - loss: 0.5202 - acc: 0.7520\n",
      "Epoch 9: val_loss did not improve from 0.52219\n",
      "94/94 [==============================] - 4s 45ms/step - loss: 0.5197 - acc: 0.7520 - val_loss: 0.5939 - val_acc: 0.6890\n",
      "Epoch 10/10\n",
      "93/94 [============================>.] - ETA: 0s - loss: 0.4896 - acc: 0.7745\n",
      "Epoch 10: val_loss did not improve from 0.52219\n",
      "94/94 [==============================] - 4s 42ms/step - loss: 0.4903 - acc: 0.7747 - val_loss: 0.6053 - val_acc: 0.6890\n"
     ]
    },
    {
     "name": "stderr",
     "output_type": "stream",
     "text": [
      "[I 2024-04-02 12:16:06,333] Trial 11 finished with value: 0.5939120650291443 and parameters: {'opt_num_hidden_dense_units': 25, 'opt_lr': 0.000333943837435, 'opt_bs': 93}. Best is trial 3 with value: 0.5221923589706421.\n"
     ]
    },
    {
     "name": "stdout",
     "output_type": "stream",
     "text": [
      "Epoch 1/10\n",
      "94/94 [==============================] - ETA: 0s - loss: 0.6933 - acc: 0.5173\n",
      "Epoch 1: val_loss did not improve from 0.52219\n",
      "94/94 [==============================] - 6s 44ms/step - loss: 0.6933 - acc: 0.5173 - val_loss: 0.6914 - val_acc: 0.5140\n",
      "Epoch 2/10\n",
      "93/94 [============================>.] - ETA: 0s - loss: 0.6887 - acc: 0.5376\n",
      "Epoch 2: val_loss did not improve from 0.52219\n",
      "94/94 [==============================] - 4s 45ms/step - loss: 0.6887 - acc: 0.5373 - val_loss: 0.6871 - val_acc: 0.5400\n",
      "Epoch 3/10\n",
      "93/94 [============================>.] - ETA: 0s - loss: 0.6836 - acc: 0.5551\n",
      "Epoch 3: val_loss did not improve from 0.52219\n",
      "94/94 [==============================] - 4s 42ms/step - loss: 0.6837 - acc: 0.5563 - val_loss: 0.6817 - val_acc: 0.5550\n",
      "Epoch 4/10\n",
      "94/94 [==============================] - ETA: 0s - loss: 0.6775 - acc: 0.5527\n",
      "Epoch 4: val_loss did not improve from 0.52219\n",
      "94/94 [==============================] - 4s 43ms/step - loss: 0.6775 - acc: 0.5527 - val_loss: 0.6775 - val_acc: 0.5470\n",
      "Epoch 5/10\n",
      "94/94 [==============================] - ETA: 0s - loss: 0.6743 - acc: 0.5557\n",
      "Epoch 5: val_loss did not improve from 0.52219\n",
      "94/94 [==============================] - 4s 42ms/step - loss: 0.6743 - acc: 0.5557 - val_loss: 0.6736 - val_acc: 0.5560\n",
      "Epoch 6/10\n",
      "94/94 [==============================] - ETA: 0s - loss: 0.6688 - acc: 0.5667\n",
      "Epoch 6: val_loss did not improve from 0.52219\n",
      "94/94 [==============================] - 4s 42ms/step - loss: 0.6688 - acc: 0.5667 - val_loss: 0.6683 - val_acc: 0.5600\n",
      "Epoch 7/10\n",
      "93/94 [============================>.] - ETA: 0s - loss: 0.6646 - acc: 0.5712\n",
      "Epoch 7: val_loss did not improve from 0.52219\n",
      "94/94 [==============================] - 4s 43ms/step - loss: 0.6646 - acc: 0.5707 - val_loss: 0.6692 - val_acc: 0.5610\n",
      "Epoch 8/10\n",
      "93/94 [============================>.] - ETA: 0s - loss: 0.6630 - acc: 0.5743\n",
      "Epoch 8: val_loss did not improve from 0.52219\n",
      "94/94 [==============================] - 4s 42ms/step - loss: 0.6628 - acc: 0.5727 - val_loss: 0.6713 - val_acc: 0.5620\n",
      "Epoch 9/10\n",
      "93/94 [============================>.] - ETA: 0s - loss: 0.6434 - acc: 0.5837\n",
      "Epoch 9: val_loss did not improve from 0.52219\n",
      "94/94 [==============================] - 4s 42ms/step - loss: 0.6438 - acc: 0.5830 - val_loss: 0.6633 - val_acc: 0.5700\n",
      "Epoch 10/10\n",
      "93/94 [============================>.] - ETA: 0s - loss: 0.6386 - acc: 0.5820\n",
      "Epoch 10: val_loss did not improve from 0.52219\n",
      "94/94 [==============================] - 4s 45ms/step - loss: 0.6386 - acc: 0.5827 - val_loss: 0.6618 - val_acc: 0.5690\n"
     ]
    },
    {
     "name": "stderr",
     "output_type": "stream",
     "text": [
      "[I 2024-04-02 12:16:51,364] Trial 12 finished with value: 0.6618139743804932 and parameters: {'opt_num_hidden_dense_units': 27, 'opt_lr': 0.00027280836015996737, 'opt_bs': 87}. Best is trial 3 with value: 0.5221923589706421.\n"
     ]
    },
    {
     "name": "stdout",
     "output_type": "stream",
     "text": [
      "Epoch 1/10\n",
      "93/94 [============================>.] - ETA: 0s - loss: 0.6567 - acc: 0.6250\n",
      "Epoch 1: val_loss did not improve from 0.52219\n",
      "94/94 [==============================] - 7s 56ms/step - loss: 0.6562 - acc: 0.6253 - val_loss: 0.6383 - val_acc: 0.6450\n",
      "Epoch 2/10\n",
      "93/94 [============================>.] - ETA: 0s - loss: 0.5446 - acc: 0.7228\n",
      "Epoch 2: val_loss did not improve from 0.52219\n",
      "94/94 [==============================] - 5s 51ms/step - loss: 0.5447 - acc: 0.7227 - val_loss: 0.5535 - val_acc: 0.7080\n",
      "Epoch 3/10\n",
      "93/94 [============================>.] - ETA: 0s - loss: 0.5095 - acc: 0.7386\n",
      "Epoch 3: val_loss did not improve from 0.52219\n",
      "94/94 [==============================] - 5s 47ms/step - loss: 0.5090 - acc: 0.7383 - val_loss: 0.5484 - val_acc: 0.6960\n",
      "Epoch 4/10\n",
      "94/94 [==============================] - ETA: 0s - loss: 0.4879 - acc: 0.7520\n",
      "Epoch 4: val_loss did not improve from 0.52219\n",
      "94/94 [==============================] - 4s 44ms/step - loss: 0.4879 - acc: 0.7520 - val_loss: 0.6175 - val_acc: 0.7020\n",
      "Epoch 5/10\n",
      "93/94 [============================>.] - ETA: 0s - loss: 0.4281 - acc: 0.7947\n",
      "Epoch 5: val_loss did not improve from 0.52219\n",
      "94/94 [==============================] - 4s 43ms/step - loss: 0.4274 - acc: 0.7957 - val_loss: 0.5621 - val_acc: 0.7030\n",
      "Epoch 6/10\n",
      "93/94 [============================>.] - ETA: 0s - loss: 0.3874 - acc: 0.8212\n",
      "Epoch 6: val_loss did not improve from 0.52219\n",
      "94/94 [==============================] - 4s 44ms/step - loss: 0.3880 - acc: 0.8210 - val_loss: 0.6486 - val_acc: 0.7100\n",
      "Epoch 7/10\n",
      "94/94 [==============================] - ETA: 0s - loss: 0.3405 - acc: 0.8393\n",
      "Epoch 7: val_loss did not improve from 0.52219\n",
      "94/94 [==============================] - 4s 45ms/step - loss: 0.3405 - acc: 0.8393 - val_loss: 0.7243 - val_acc: 0.6980\n",
      "Epoch 8/10\n",
      "94/94 [==============================] - ETA: 0s - loss: 0.2609 - acc: 0.8753\n",
      "Epoch 8: val_loss did not improve from 0.52219\n",
      "94/94 [==============================] - 4s 44ms/step - loss: 0.2609 - acc: 0.8753 - val_loss: 0.8378 - val_acc: 0.7380\n",
      "Epoch 9/10\n",
      "93/94 [============================>.] - ETA: 0s - loss: 0.1860 - acc: 0.9183\n",
      "Epoch 9: val_loss did not improve from 0.52219\n",
      "94/94 [==============================] - 5s 50ms/step - loss: 0.1850 - acc: 0.9190 - val_loss: 1.0546 - val_acc: 0.7230\n",
      "Epoch 10/10\n",
      "94/94 [==============================] - ETA: 0s - loss: 0.1356 - acc: 0.9487\n",
      "Epoch 10: val_loss did not improve from 0.52219\n",
      "94/94 [==============================] - 5s 53ms/step - loss: 0.1356 - acc: 0.9487 - val_loss: 1.0903 - val_acc: 0.7250\n"
     ]
    },
    {
     "name": "stderr",
     "output_type": "stream",
     "text": [
      "[I 2024-04-02 12:17:45,516] Trial 13 finished with value: 0.5483694076538086 and parameters: {'opt_num_hidden_dense_units': 159, 'opt_lr': 0.0019954483139965045, 'opt_bs': 127}. Best is trial 3 with value: 0.5221923589706421.\n"
     ]
    },
    {
     "name": "stdout",
     "output_type": "stream",
     "text": [
      "Epoch 1/10\n",
      "93/94 [============================>.] - ETA: 0s - loss: 0.7518 - acc: 0.5027\n",
      "Epoch 1: val_loss did not improve from 0.52219\n",
      "94/94 [==============================] - 6s 44ms/step - loss: 0.7513 - acc: 0.5040 - val_loss: 0.6932 - val_acc: 0.5000\n",
      "Epoch 2/10\n",
      "93/94 [============================>.] - ETA: 0s - loss: 0.6933 - acc: 0.4946\n",
      "Epoch 2: val_loss did not improve from 0.52219\n",
      "94/94 [==============================] - 4s 43ms/step - loss: 0.6933 - acc: 0.4940 - val_loss: 0.6932 - val_acc: 0.5000\n",
      "Epoch 3/10\n",
      "94/94 [==============================] - ETA: 0s - loss: 0.6935 - acc: 0.4933\n",
      "Epoch 3: val_loss did not improve from 0.52219\n",
      "94/94 [==============================] - 4s 43ms/step - loss: 0.6935 - acc: 0.4933 - val_loss: 0.6931 - val_acc: 0.5000\n",
      "Epoch 4/10\n",
      "93/94 [============================>.] - ETA: 0s - loss: 0.6934 - acc: 0.4946\n",
      "Epoch 4: val_loss did not improve from 0.52219\n",
      "94/94 [==============================] - 5s 45ms/step - loss: 0.6934 - acc: 0.4940 - val_loss: 0.6932 - val_acc: 0.5000\n",
      "Epoch 5/10\n",
      "93/94 [============================>.] - ETA: 0s - loss: 0.6933 - acc: 0.4909\n",
      "Epoch 5: val_loss did not improve from 0.52219\n",
      "94/94 [==============================] - 4s 42ms/step - loss: 0.6933 - acc: 0.4913 - val_loss: 0.6932 - val_acc: 0.5000\n",
      "Epoch 6/10\n",
      "93/94 [============================>.] - ETA: 0s - loss: 0.6934 - acc: 0.4906\n",
      "Epoch 6: val_loss did not improve from 0.52219\n",
      "94/94 [==============================] - 4s 41ms/step - loss: 0.6934 - acc: 0.4907 - val_loss: 0.6932 - val_acc: 0.5000\n",
      "Epoch 7/10\n",
      "93/94 [============================>.] - ETA: 0s - loss: 0.6933 - acc: 0.4966\n",
      "Epoch 7: val_loss did not improve from 0.52219\n",
      "94/94 [==============================] - 4s 41ms/step - loss: 0.6934 - acc: 0.4960 - val_loss: 0.6932 - val_acc: 0.5000\n",
      "Epoch 8/10\n",
      "93/94 [============================>.] - ETA: 0s - loss: 0.6934 - acc: 0.4909\n",
      "Epoch 8: val_loss did not improve from 0.52219\n",
      "94/94 [==============================] - 4s 42ms/step - loss: 0.6934 - acc: 0.4913 - val_loss: 0.6931 - val_acc: 0.5000\n",
      "Epoch 9/10\n",
      "93/94 [============================>.] - ETA: 0s - loss: 0.6935 - acc: 0.4876\n",
      "Epoch 9: val_loss did not improve from 0.52219\n",
      "94/94 [==============================] - 4s 42ms/step - loss: 0.6935 - acc: 0.4880 - val_loss: 0.6931 - val_acc: 0.5000\n",
      "Epoch 10/10\n",
      "94/94 [==============================] - ETA: 0s - loss: 0.6934 - acc: 0.4887\n",
      "Epoch 10: val_loss did not improve from 0.52219\n",
      "94/94 [==============================] - 4s 42ms/step - loss: 0.6934 - acc: 0.4887 - val_loss: 0.6932 - val_acc: 0.5000\n"
     ]
    },
    {
     "name": "stderr",
     "output_type": "stream",
     "text": [
      "[I 2024-04-02 12:18:29,425] Trial 14 finished with value: 0.6931472420692444 and parameters: {'opt_num_hidden_dense_units': 15, 'opt_lr': 0.009062349926649603, 'opt_bs': 85}. Best is trial 3 with value: 0.5221923589706421.\n"
     ]
    }
   ],
   "source": [
    "study = opt.create_study()\n",
    "study.optimize(objective, n_trials=15)"
   ]
  },
  {
   "cell_type": "code",
   "execution_count": 9,
   "metadata": {},
   "outputs": [
    {
     "data": {
      "application/vnd.plotly.v1+json": {
       "config": {
        "plotlyServerURL": "https://plot.ly"
       },
       "data": [
        {
         "mode": "markers",
         "name": "Objective Value",
         "type": "scatter",
         "x": [
          0,
          1,
          2,
          3,
          4,
          5,
          6,
          7,
          8,
          9,
          10,
          11,
          12,
          13,
          14
         ],
         "y": [
          0.6365829110145569,
          0.5475444197654724,
          0.6594014167785645,
          0.5221923589706421,
          0.585204541683197,
          0.5924705862998962,
          0.547225832939148,
          0.6862455010414124,
          0.6860760450363159,
          0.6077643632888794,
          0.6931471824645996,
          0.5939120650291443,
          0.6618139743804932,
          0.5483694076538086,
          0.6931472420692444
         ]
        },
        {
         "mode": "lines",
         "name": "Best Value",
         "type": "scatter",
         "x": [
          0,
          1,
          2,
          3,
          4,
          5,
          6,
          7,
          8,
          9,
          10,
          11,
          12,
          13,
          14
         ],
         "y": [
          0.6365829110145569,
          0.5475444197654724,
          0.5475444197654724,
          0.5221923589706421,
          0.5221923589706421,
          0.5221923589706421,
          0.5221923589706421,
          0.5221923589706421,
          0.5221923589706421,
          0.5221923589706421,
          0.5221923589706421,
          0.5221923589706421,
          0.5221923589706421,
          0.5221923589706421,
          0.5221923589706421
         ]
        },
        {
         "marker": {
          "color": "#cccccc"
         },
         "mode": "markers",
         "name": "Infeasible Trial",
         "showlegend": false,
         "type": "scatter",
         "x": [],
         "y": []
        }
       ],
       "layout": {
        "template": {
         "data": {
          "bar": [
           {
            "error_x": {
             "color": "#2a3f5f"
            },
            "error_y": {
             "color": "#2a3f5f"
            },
            "marker": {
             "line": {
              "color": "#E5ECF6",
              "width": 0.5
             },
             "pattern": {
              "fillmode": "overlay",
              "size": 10,
              "solidity": 0.2
             }
            },
            "type": "bar"
           }
          ],
          "barpolar": [
           {
            "marker": {
             "line": {
              "color": "#E5ECF6",
              "width": 0.5
             },
             "pattern": {
              "fillmode": "overlay",
              "size": 10,
              "solidity": 0.2
             }
            },
            "type": "barpolar"
           }
          ],
          "carpet": [
           {
            "aaxis": {
             "endlinecolor": "#2a3f5f",
             "gridcolor": "white",
             "linecolor": "white",
             "minorgridcolor": "white",
             "startlinecolor": "#2a3f5f"
            },
            "baxis": {
             "endlinecolor": "#2a3f5f",
             "gridcolor": "white",
             "linecolor": "white",
             "minorgridcolor": "white",
             "startlinecolor": "#2a3f5f"
            },
            "type": "carpet"
           }
          ],
          "choropleth": [
           {
            "colorbar": {
             "outlinewidth": 0,
             "ticks": ""
            },
            "type": "choropleth"
           }
          ],
          "contour": [
           {
            "colorbar": {
             "outlinewidth": 0,
             "ticks": ""
            },
            "colorscale": [
             [
              0,
              "#0d0887"
             ],
             [
              0.1111111111111111,
              "#46039f"
             ],
             [
              0.2222222222222222,
              "#7201a8"
             ],
             [
              0.3333333333333333,
              "#9c179e"
             ],
             [
              0.4444444444444444,
              "#bd3786"
             ],
             [
              0.5555555555555556,
              "#d8576b"
             ],
             [
              0.6666666666666666,
              "#ed7953"
             ],
             [
              0.7777777777777778,
              "#fb9f3a"
             ],
             [
              0.8888888888888888,
              "#fdca26"
             ],
             [
              1,
              "#f0f921"
             ]
            ],
            "type": "contour"
           }
          ],
          "contourcarpet": [
           {
            "colorbar": {
             "outlinewidth": 0,
             "ticks": ""
            },
            "type": "contourcarpet"
           }
          ],
          "heatmap": [
           {
            "colorbar": {
             "outlinewidth": 0,
             "ticks": ""
            },
            "colorscale": [
             [
              0,
              "#0d0887"
             ],
             [
              0.1111111111111111,
              "#46039f"
             ],
             [
              0.2222222222222222,
              "#7201a8"
             ],
             [
              0.3333333333333333,
              "#9c179e"
             ],
             [
              0.4444444444444444,
              "#bd3786"
             ],
             [
              0.5555555555555556,
              "#d8576b"
             ],
             [
              0.6666666666666666,
              "#ed7953"
             ],
             [
              0.7777777777777778,
              "#fb9f3a"
             ],
             [
              0.8888888888888888,
              "#fdca26"
             ],
             [
              1,
              "#f0f921"
             ]
            ],
            "type": "heatmap"
           }
          ],
          "heatmapgl": [
           {
            "colorbar": {
             "outlinewidth": 0,
             "ticks": ""
            },
            "colorscale": [
             [
              0,
              "#0d0887"
             ],
             [
              0.1111111111111111,
              "#46039f"
             ],
             [
              0.2222222222222222,
              "#7201a8"
             ],
             [
              0.3333333333333333,
              "#9c179e"
             ],
             [
              0.4444444444444444,
              "#bd3786"
             ],
             [
              0.5555555555555556,
              "#d8576b"
             ],
             [
              0.6666666666666666,
              "#ed7953"
             ],
             [
              0.7777777777777778,
              "#fb9f3a"
             ],
             [
              0.8888888888888888,
              "#fdca26"
             ],
             [
              1,
              "#f0f921"
             ]
            ],
            "type": "heatmapgl"
           }
          ],
          "histogram": [
           {
            "marker": {
             "pattern": {
              "fillmode": "overlay",
              "size": 10,
              "solidity": 0.2
             }
            },
            "type": "histogram"
           }
          ],
          "histogram2d": [
           {
            "colorbar": {
             "outlinewidth": 0,
             "ticks": ""
            },
            "colorscale": [
             [
              0,
              "#0d0887"
             ],
             [
              0.1111111111111111,
              "#46039f"
             ],
             [
              0.2222222222222222,
              "#7201a8"
             ],
             [
              0.3333333333333333,
              "#9c179e"
             ],
             [
              0.4444444444444444,
              "#bd3786"
             ],
             [
              0.5555555555555556,
              "#d8576b"
             ],
             [
              0.6666666666666666,
              "#ed7953"
             ],
             [
              0.7777777777777778,
              "#fb9f3a"
             ],
             [
              0.8888888888888888,
              "#fdca26"
             ],
             [
              1,
              "#f0f921"
             ]
            ],
            "type": "histogram2d"
           }
          ],
          "histogram2dcontour": [
           {
            "colorbar": {
             "outlinewidth": 0,
             "ticks": ""
            },
            "colorscale": [
             [
              0,
              "#0d0887"
             ],
             [
              0.1111111111111111,
              "#46039f"
             ],
             [
              0.2222222222222222,
              "#7201a8"
             ],
             [
              0.3333333333333333,
              "#9c179e"
             ],
             [
              0.4444444444444444,
              "#bd3786"
             ],
             [
              0.5555555555555556,
              "#d8576b"
             ],
             [
              0.6666666666666666,
              "#ed7953"
             ],
             [
              0.7777777777777778,
              "#fb9f3a"
             ],
             [
              0.8888888888888888,
              "#fdca26"
             ],
             [
              1,
              "#f0f921"
             ]
            ],
            "type": "histogram2dcontour"
           }
          ],
          "mesh3d": [
           {
            "colorbar": {
             "outlinewidth": 0,
             "ticks": ""
            },
            "type": "mesh3d"
           }
          ],
          "parcoords": [
           {
            "line": {
             "colorbar": {
              "outlinewidth": 0,
              "ticks": ""
             }
            },
            "type": "parcoords"
           }
          ],
          "pie": [
           {
            "automargin": true,
            "type": "pie"
           }
          ],
          "scatter": [
           {
            "fillpattern": {
             "fillmode": "overlay",
             "size": 10,
             "solidity": 0.2
            },
            "type": "scatter"
           }
          ],
          "scatter3d": [
           {
            "line": {
             "colorbar": {
              "outlinewidth": 0,
              "ticks": ""
             }
            },
            "marker": {
             "colorbar": {
              "outlinewidth": 0,
              "ticks": ""
             }
            },
            "type": "scatter3d"
           }
          ],
          "scattercarpet": [
           {
            "marker": {
             "colorbar": {
              "outlinewidth": 0,
              "ticks": ""
             }
            },
            "type": "scattercarpet"
           }
          ],
          "scattergeo": [
           {
            "marker": {
             "colorbar": {
              "outlinewidth": 0,
              "ticks": ""
             }
            },
            "type": "scattergeo"
           }
          ],
          "scattergl": [
           {
            "marker": {
             "colorbar": {
              "outlinewidth": 0,
              "ticks": ""
             }
            },
            "type": "scattergl"
           }
          ],
          "scattermapbox": [
           {
            "marker": {
             "colorbar": {
              "outlinewidth": 0,
              "ticks": ""
             }
            },
            "type": "scattermapbox"
           }
          ],
          "scatterpolar": [
           {
            "marker": {
             "colorbar": {
              "outlinewidth": 0,
              "ticks": ""
             }
            },
            "type": "scatterpolar"
           }
          ],
          "scatterpolargl": [
           {
            "marker": {
             "colorbar": {
              "outlinewidth": 0,
              "ticks": ""
             }
            },
            "type": "scatterpolargl"
           }
          ],
          "scatterternary": [
           {
            "marker": {
             "colorbar": {
              "outlinewidth": 0,
              "ticks": ""
             }
            },
            "type": "scatterternary"
           }
          ],
          "surface": [
           {
            "colorbar": {
             "outlinewidth": 0,
             "ticks": ""
            },
            "colorscale": [
             [
              0,
              "#0d0887"
             ],
             [
              0.1111111111111111,
              "#46039f"
             ],
             [
              0.2222222222222222,
              "#7201a8"
             ],
             [
              0.3333333333333333,
              "#9c179e"
             ],
             [
              0.4444444444444444,
              "#bd3786"
             ],
             [
              0.5555555555555556,
              "#d8576b"
             ],
             [
              0.6666666666666666,
              "#ed7953"
             ],
             [
              0.7777777777777778,
              "#fb9f3a"
             ],
             [
              0.8888888888888888,
              "#fdca26"
             ],
             [
              1,
              "#f0f921"
             ]
            ],
            "type": "surface"
           }
          ],
          "table": [
           {
            "cells": {
             "fill": {
              "color": "#EBF0F8"
             },
             "line": {
              "color": "white"
             }
            },
            "header": {
             "fill": {
              "color": "#C8D4E3"
             },
             "line": {
              "color": "white"
             }
            },
            "type": "table"
           }
          ]
         },
         "layout": {
          "annotationdefaults": {
           "arrowcolor": "#2a3f5f",
           "arrowhead": 0,
           "arrowwidth": 1
          },
          "autotypenumbers": "strict",
          "coloraxis": {
           "colorbar": {
            "outlinewidth": 0,
            "ticks": ""
           }
          },
          "colorscale": {
           "diverging": [
            [
             0,
             "#8e0152"
            ],
            [
             0.1,
             "#c51b7d"
            ],
            [
             0.2,
             "#de77ae"
            ],
            [
             0.3,
             "#f1b6da"
            ],
            [
             0.4,
             "#fde0ef"
            ],
            [
             0.5,
             "#f7f7f7"
            ],
            [
             0.6,
             "#e6f5d0"
            ],
            [
             0.7,
             "#b8e186"
            ],
            [
             0.8,
             "#7fbc41"
            ],
            [
             0.9,
             "#4d9221"
            ],
            [
             1,
             "#276419"
            ]
           ],
           "sequential": [
            [
             0,
             "#0d0887"
            ],
            [
             0.1111111111111111,
             "#46039f"
            ],
            [
             0.2222222222222222,
             "#7201a8"
            ],
            [
             0.3333333333333333,
             "#9c179e"
            ],
            [
             0.4444444444444444,
             "#bd3786"
            ],
            [
             0.5555555555555556,
             "#d8576b"
            ],
            [
             0.6666666666666666,
             "#ed7953"
            ],
            [
             0.7777777777777778,
             "#fb9f3a"
            ],
            [
             0.8888888888888888,
             "#fdca26"
            ],
            [
             1,
             "#f0f921"
            ]
           ],
           "sequentialminus": [
            [
             0,
             "#0d0887"
            ],
            [
             0.1111111111111111,
             "#46039f"
            ],
            [
             0.2222222222222222,
             "#7201a8"
            ],
            [
             0.3333333333333333,
             "#9c179e"
            ],
            [
             0.4444444444444444,
             "#bd3786"
            ],
            [
             0.5555555555555556,
             "#d8576b"
            ],
            [
             0.6666666666666666,
             "#ed7953"
            ],
            [
             0.7777777777777778,
             "#fb9f3a"
            ],
            [
             0.8888888888888888,
             "#fdca26"
            ],
            [
             1,
             "#f0f921"
            ]
           ]
          },
          "colorway": [
           "#636efa",
           "#EF553B",
           "#00cc96",
           "#ab63fa",
           "#FFA15A",
           "#19d3f3",
           "#FF6692",
           "#B6E880",
           "#FF97FF",
           "#FECB52"
          ],
          "font": {
           "color": "#2a3f5f"
          },
          "geo": {
           "bgcolor": "white",
           "lakecolor": "white",
           "landcolor": "#E5ECF6",
           "showlakes": true,
           "showland": true,
           "subunitcolor": "white"
          },
          "hoverlabel": {
           "align": "left"
          },
          "hovermode": "closest",
          "mapbox": {
           "style": "light"
          },
          "paper_bgcolor": "white",
          "plot_bgcolor": "#E5ECF6",
          "polar": {
           "angularaxis": {
            "gridcolor": "white",
            "linecolor": "white",
            "ticks": ""
           },
           "bgcolor": "#E5ECF6",
           "radialaxis": {
            "gridcolor": "white",
            "linecolor": "white",
            "ticks": ""
           }
          },
          "scene": {
           "xaxis": {
            "backgroundcolor": "#E5ECF6",
            "gridcolor": "white",
            "gridwidth": 2,
            "linecolor": "white",
            "showbackground": true,
            "ticks": "",
            "zerolinecolor": "white"
           },
           "yaxis": {
            "backgroundcolor": "#E5ECF6",
            "gridcolor": "white",
            "gridwidth": 2,
            "linecolor": "white",
            "showbackground": true,
            "ticks": "",
            "zerolinecolor": "white"
           },
           "zaxis": {
            "backgroundcolor": "#E5ECF6",
            "gridcolor": "white",
            "gridwidth": 2,
            "linecolor": "white",
            "showbackground": true,
            "ticks": "",
            "zerolinecolor": "white"
           }
          },
          "shapedefaults": {
           "line": {
            "color": "#2a3f5f"
           }
          },
          "ternary": {
           "aaxis": {
            "gridcolor": "white",
            "linecolor": "white",
            "ticks": ""
           },
           "baxis": {
            "gridcolor": "white",
            "linecolor": "white",
            "ticks": ""
           },
           "bgcolor": "#E5ECF6",
           "caxis": {
            "gridcolor": "white",
            "linecolor": "white",
            "ticks": ""
           }
          },
          "title": {
           "x": 0.05
          },
          "xaxis": {
           "automargin": true,
           "gridcolor": "white",
           "linecolor": "white",
           "ticks": "",
           "title": {
            "standoff": 15
           },
           "zerolinecolor": "white",
           "zerolinewidth": 2
          },
          "yaxis": {
           "automargin": true,
           "gridcolor": "white",
           "linecolor": "white",
           "ticks": "",
           "title": {
            "standoff": 15
           },
           "zerolinecolor": "white",
           "zerolinewidth": 2
          }
         }
        },
        "title": {
         "text": "Optimization History Plot"
        },
        "xaxis": {
         "title": {
          "text": "Trial"
         }
        },
        "yaxis": {
         "title": {
          "text": "Objective Value"
         }
        }
       }
      }
     },
     "metadata": {},
     "output_type": "display_data"
    }
   ],
   "source": [
    "plot_optimization_history(study)"
   ]
  },
  {
   "cell_type": "code",
   "execution_count": 10,
   "metadata": {},
   "outputs": [
    {
     "data": {
      "application/vnd.plotly.v1+json": {
       "config": {
        "plotlyServerURL": "https://plot.ly"
       },
       "data": [
        {
         "colorbar": {
          "title": {
           "text": "Objective Value"
          }
         },
         "colorscale": [
          [
           0,
           "rgb(247,251,255)"
          ],
          [
           0.125,
           "rgb(222,235,247)"
          ],
          [
           0.25,
           "rgb(198,219,239)"
          ],
          [
           0.375,
           "rgb(158,202,225)"
          ],
          [
           0.5,
           "rgb(107,174,214)"
          ],
          [
           0.625,
           "rgb(66,146,198)"
          ],
          [
           0.75,
           "rgb(33,113,181)"
          ],
          [
           0.875,
           "rgb(8,81,156)"
          ],
          [
           1,
           "rgb(8,48,107)"
          ]
         ],
         "connectgaps": true,
         "contours": {
          "coloring": "heatmap"
         },
         "hoverinfo": "none",
         "line": {
          "smoothing": 1.3
         },
         "reversescale": true,
         "type": "contour",
         "x": [
          12.5,
          18,
          50,
          53,
          55,
          56,
          64,
          85,
          87,
          93,
          98,
          108,
          111,
          119,
          127,
          128,
          133.5
         ],
         "y": [
          0.0000011772116878372038,
          0.0000018026880416439437,
          0.000006110194222698653,
          0.000008934095436911755,
          0.00002069091513872115,
          0.00004343372030639474,
          0.0000579901943039493,
          0.00027280836015996737,
          0.000333943837435,
          0.000385071334440661,
          0.0005970916708683698,
          0.0013693618689800777,
          0.001949568098565191,
          0.0019954483139965045,
          0.0075294452086383384,
          0.009062349926649603,
          0.013877359535886017
         ],
         "z": [
          [
           null,
           null,
           null,
           null,
           null,
           null,
           null,
           null,
           null,
           null,
           null,
           null,
           null,
           null,
           null,
           null,
           null
          ],
          [
           null,
           null,
           null,
           null,
           null,
           null,
           null,
           null,
           null,
           null,
           null,
           null,
           0.6860760450363159,
           null,
           null,
           null,
           null
          ],
          [
           null,
           null,
           null,
           null,
           null,
           null,
           null,
           null,
           null,
           null,
           null,
           0.6594014167785645,
           null,
           null,
           null,
           null,
           null
          ],
          [
           null,
           null,
           null,
           null,
           null,
           0.6862455010414124,
           null,
           null,
           null,
           null,
           null,
           null,
           null,
           null,
           null,
           null,
           null
          ],
          [
           null,
           null,
           0.6365829110145569,
           null,
           null,
           null,
           null,
           null,
           null,
           null,
           null,
           null,
           null,
           null,
           null,
           null,
           null
          ],
          [
           null,
           null,
           null,
           null,
           0.5924705862998962,
           null,
           null,
           null,
           null,
           null,
           null,
           null,
           null,
           null,
           null,
           null,
           null
          ],
          [
           null,
           0.6077643632888794,
           null,
           null,
           null,
           null,
           null,
           null,
           null,
           null,
           null,
           null,
           null,
           null,
           null,
           null,
           null
          ],
          [
           null,
           null,
           null,
           null,
           null,
           null,
           null,
           null,
           0.6618139743804932,
           null,
           null,
           null,
           null,
           null,
           null,
           null,
           null
          ],
          [
           null,
           null,
           null,
           null,
           null,
           null,
           null,
           null,
           null,
           0.5939120650291443,
           null,
           null,
           null,
           null,
           null,
           null,
           null
          ],
          [
           null,
           null,
           null,
           null,
           null,
           null,
           null,
           null,
           null,
           null,
           0.547225832939148,
           null,
           null,
           null,
           null,
           null,
           null
          ],
          [
           null,
           null,
           null,
           0.585204541683197,
           null,
           null,
           null,
           null,
           null,
           null,
           null,
           null,
           null,
           null,
           null,
           null,
           null
          ],
          [
           null,
           null,
           null,
           null,
           null,
           null,
           null,
           null,
           null,
           null,
           null,
           null,
           null,
           0.5221923589706421,
           null,
           null,
           null
          ],
          [
           null,
           null,
           null,
           null,
           null,
           null,
           0.5475444197654724,
           null,
           null,
           null,
           null,
           null,
           null,
           null,
           null,
           null,
           null
          ],
          [
           null,
           null,
           null,
           null,
           null,
           null,
           null,
           null,
           null,
           null,
           null,
           null,
           null,
           null,
           0.5483694076538086,
           null,
           null
          ],
          [
           null,
           null,
           null,
           null,
           null,
           null,
           null,
           null,
           null,
           null,
           null,
           null,
           null,
           null,
           null,
           0.6931471824645996,
           null
          ],
          [
           null,
           null,
           null,
           null,
           null,
           null,
           null,
           0.6931472420692444,
           null,
           null,
           null,
           null,
           null,
           null,
           null,
           null,
           null
          ],
          [
           null,
           null,
           null,
           null,
           null,
           null,
           null,
           null,
           null,
           null,
           null,
           null,
           null,
           null,
           null,
           null,
           null
          ]
         ]
        },
        {
         "marker": {
          "color": "black",
          "line": {
           "color": "Gray",
           "width": 2
          }
         },
         "mode": "markers",
         "name": "Feasible Trial",
         "showlegend": false,
         "type": "scatter",
         "x": [
          50,
          64,
          108,
          119,
          53,
          55,
          98,
          56,
          111,
          18,
          128,
          93,
          87,
          127,
          85
         ],
         "y": [
          0.00002069091513872115,
          0.001949568098565191,
          0.000006110194222698653,
          0.0013693618689800777,
          0.0005970916708683698,
          0.00004343372030639474,
          0.000385071334440661,
          0.000008934095436911755,
          0.0000018026880416439437,
          0.0000579901943039493,
          0.0075294452086383384,
          0.000333943837435,
          0.00027280836015996737,
          0.0019954483139965045,
          0.009062349926649603
         ]
        },
        {
         "marker": {
          "color": "#cccccc",
          "line": {
           "color": "Gray",
           "width": 2
          }
         },
         "mode": "markers",
         "name": "Infeasible Trial",
         "showlegend": false,
         "type": "scatter",
         "x": [],
         "y": []
        }
       ],
       "layout": {
        "template": {
         "data": {
          "bar": [
           {
            "error_x": {
             "color": "#2a3f5f"
            },
            "error_y": {
             "color": "#2a3f5f"
            },
            "marker": {
             "line": {
              "color": "#E5ECF6",
              "width": 0.5
             },
             "pattern": {
              "fillmode": "overlay",
              "size": 10,
              "solidity": 0.2
             }
            },
            "type": "bar"
           }
          ],
          "barpolar": [
           {
            "marker": {
             "line": {
              "color": "#E5ECF6",
              "width": 0.5
             },
             "pattern": {
              "fillmode": "overlay",
              "size": 10,
              "solidity": 0.2
             }
            },
            "type": "barpolar"
           }
          ],
          "carpet": [
           {
            "aaxis": {
             "endlinecolor": "#2a3f5f",
             "gridcolor": "white",
             "linecolor": "white",
             "minorgridcolor": "white",
             "startlinecolor": "#2a3f5f"
            },
            "baxis": {
             "endlinecolor": "#2a3f5f",
             "gridcolor": "white",
             "linecolor": "white",
             "minorgridcolor": "white",
             "startlinecolor": "#2a3f5f"
            },
            "type": "carpet"
           }
          ],
          "choropleth": [
           {
            "colorbar": {
             "outlinewidth": 0,
             "ticks": ""
            },
            "type": "choropleth"
           }
          ],
          "contour": [
           {
            "colorbar": {
             "outlinewidth": 0,
             "ticks": ""
            },
            "colorscale": [
             [
              0,
              "#0d0887"
             ],
             [
              0.1111111111111111,
              "#46039f"
             ],
             [
              0.2222222222222222,
              "#7201a8"
             ],
             [
              0.3333333333333333,
              "#9c179e"
             ],
             [
              0.4444444444444444,
              "#bd3786"
             ],
             [
              0.5555555555555556,
              "#d8576b"
             ],
             [
              0.6666666666666666,
              "#ed7953"
             ],
             [
              0.7777777777777778,
              "#fb9f3a"
             ],
             [
              0.8888888888888888,
              "#fdca26"
             ],
             [
              1,
              "#f0f921"
             ]
            ],
            "type": "contour"
           }
          ],
          "contourcarpet": [
           {
            "colorbar": {
             "outlinewidth": 0,
             "ticks": ""
            },
            "type": "contourcarpet"
           }
          ],
          "heatmap": [
           {
            "colorbar": {
             "outlinewidth": 0,
             "ticks": ""
            },
            "colorscale": [
             [
              0,
              "#0d0887"
             ],
             [
              0.1111111111111111,
              "#46039f"
             ],
             [
              0.2222222222222222,
              "#7201a8"
             ],
             [
              0.3333333333333333,
              "#9c179e"
             ],
             [
              0.4444444444444444,
              "#bd3786"
             ],
             [
              0.5555555555555556,
              "#d8576b"
             ],
             [
              0.6666666666666666,
              "#ed7953"
             ],
             [
              0.7777777777777778,
              "#fb9f3a"
             ],
             [
              0.8888888888888888,
              "#fdca26"
             ],
             [
              1,
              "#f0f921"
             ]
            ],
            "type": "heatmap"
           }
          ],
          "heatmapgl": [
           {
            "colorbar": {
             "outlinewidth": 0,
             "ticks": ""
            },
            "colorscale": [
             [
              0,
              "#0d0887"
             ],
             [
              0.1111111111111111,
              "#46039f"
             ],
             [
              0.2222222222222222,
              "#7201a8"
             ],
             [
              0.3333333333333333,
              "#9c179e"
             ],
             [
              0.4444444444444444,
              "#bd3786"
             ],
             [
              0.5555555555555556,
              "#d8576b"
             ],
             [
              0.6666666666666666,
              "#ed7953"
             ],
             [
              0.7777777777777778,
              "#fb9f3a"
             ],
             [
              0.8888888888888888,
              "#fdca26"
             ],
             [
              1,
              "#f0f921"
             ]
            ],
            "type": "heatmapgl"
           }
          ],
          "histogram": [
           {
            "marker": {
             "pattern": {
              "fillmode": "overlay",
              "size": 10,
              "solidity": 0.2
             }
            },
            "type": "histogram"
           }
          ],
          "histogram2d": [
           {
            "colorbar": {
             "outlinewidth": 0,
             "ticks": ""
            },
            "colorscale": [
             [
              0,
              "#0d0887"
             ],
             [
              0.1111111111111111,
              "#46039f"
             ],
             [
              0.2222222222222222,
              "#7201a8"
             ],
             [
              0.3333333333333333,
              "#9c179e"
             ],
             [
              0.4444444444444444,
              "#bd3786"
             ],
             [
              0.5555555555555556,
              "#d8576b"
             ],
             [
              0.6666666666666666,
              "#ed7953"
             ],
             [
              0.7777777777777778,
              "#fb9f3a"
             ],
             [
              0.8888888888888888,
              "#fdca26"
             ],
             [
              1,
              "#f0f921"
             ]
            ],
            "type": "histogram2d"
           }
          ],
          "histogram2dcontour": [
           {
            "colorbar": {
             "outlinewidth": 0,
             "ticks": ""
            },
            "colorscale": [
             [
              0,
              "#0d0887"
             ],
             [
              0.1111111111111111,
              "#46039f"
             ],
             [
              0.2222222222222222,
              "#7201a8"
             ],
             [
              0.3333333333333333,
              "#9c179e"
             ],
             [
              0.4444444444444444,
              "#bd3786"
             ],
             [
              0.5555555555555556,
              "#d8576b"
             ],
             [
              0.6666666666666666,
              "#ed7953"
             ],
             [
              0.7777777777777778,
              "#fb9f3a"
             ],
             [
              0.8888888888888888,
              "#fdca26"
             ],
             [
              1,
              "#f0f921"
             ]
            ],
            "type": "histogram2dcontour"
           }
          ],
          "mesh3d": [
           {
            "colorbar": {
             "outlinewidth": 0,
             "ticks": ""
            },
            "type": "mesh3d"
           }
          ],
          "parcoords": [
           {
            "line": {
             "colorbar": {
              "outlinewidth": 0,
              "ticks": ""
             }
            },
            "type": "parcoords"
           }
          ],
          "pie": [
           {
            "automargin": true,
            "type": "pie"
           }
          ],
          "scatter": [
           {
            "fillpattern": {
             "fillmode": "overlay",
             "size": 10,
             "solidity": 0.2
            },
            "type": "scatter"
           }
          ],
          "scatter3d": [
           {
            "line": {
             "colorbar": {
              "outlinewidth": 0,
              "ticks": ""
             }
            },
            "marker": {
             "colorbar": {
              "outlinewidth": 0,
              "ticks": ""
             }
            },
            "type": "scatter3d"
           }
          ],
          "scattercarpet": [
           {
            "marker": {
             "colorbar": {
              "outlinewidth": 0,
              "ticks": ""
             }
            },
            "type": "scattercarpet"
           }
          ],
          "scattergeo": [
           {
            "marker": {
             "colorbar": {
              "outlinewidth": 0,
              "ticks": ""
             }
            },
            "type": "scattergeo"
           }
          ],
          "scattergl": [
           {
            "marker": {
             "colorbar": {
              "outlinewidth": 0,
              "ticks": ""
             }
            },
            "type": "scattergl"
           }
          ],
          "scattermapbox": [
           {
            "marker": {
             "colorbar": {
              "outlinewidth": 0,
              "ticks": ""
             }
            },
            "type": "scattermapbox"
           }
          ],
          "scatterpolar": [
           {
            "marker": {
             "colorbar": {
              "outlinewidth": 0,
              "ticks": ""
             }
            },
            "type": "scatterpolar"
           }
          ],
          "scatterpolargl": [
           {
            "marker": {
             "colorbar": {
              "outlinewidth": 0,
              "ticks": ""
             }
            },
            "type": "scatterpolargl"
           }
          ],
          "scatterternary": [
           {
            "marker": {
             "colorbar": {
              "outlinewidth": 0,
              "ticks": ""
             }
            },
            "type": "scatterternary"
           }
          ],
          "surface": [
           {
            "colorbar": {
             "outlinewidth": 0,
             "ticks": ""
            },
            "colorscale": [
             [
              0,
              "#0d0887"
             ],
             [
              0.1111111111111111,
              "#46039f"
             ],
             [
              0.2222222222222222,
              "#7201a8"
             ],
             [
              0.3333333333333333,
              "#9c179e"
             ],
             [
              0.4444444444444444,
              "#bd3786"
             ],
             [
              0.5555555555555556,
              "#d8576b"
             ],
             [
              0.6666666666666666,
              "#ed7953"
             ],
             [
              0.7777777777777778,
              "#fb9f3a"
             ],
             [
              0.8888888888888888,
              "#fdca26"
             ],
             [
              1,
              "#f0f921"
             ]
            ],
            "type": "surface"
           }
          ],
          "table": [
           {
            "cells": {
             "fill": {
              "color": "#EBF0F8"
             },
             "line": {
              "color": "white"
             }
            },
            "header": {
             "fill": {
              "color": "#C8D4E3"
             },
             "line": {
              "color": "white"
             }
            },
            "type": "table"
           }
          ]
         },
         "layout": {
          "annotationdefaults": {
           "arrowcolor": "#2a3f5f",
           "arrowhead": 0,
           "arrowwidth": 1
          },
          "autotypenumbers": "strict",
          "coloraxis": {
           "colorbar": {
            "outlinewidth": 0,
            "ticks": ""
           }
          },
          "colorscale": {
           "diverging": [
            [
             0,
             "#8e0152"
            ],
            [
             0.1,
             "#c51b7d"
            ],
            [
             0.2,
             "#de77ae"
            ],
            [
             0.3,
             "#f1b6da"
            ],
            [
             0.4,
             "#fde0ef"
            ],
            [
             0.5,
             "#f7f7f7"
            ],
            [
             0.6,
             "#e6f5d0"
            ],
            [
             0.7,
             "#b8e186"
            ],
            [
             0.8,
             "#7fbc41"
            ],
            [
             0.9,
             "#4d9221"
            ],
            [
             1,
             "#276419"
            ]
           ],
           "sequential": [
            [
             0,
             "#0d0887"
            ],
            [
             0.1111111111111111,
             "#46039f"
            ],
            [
             0.2222222222222222,
             "#7201a8"
            ],
            [
             0.3333333333333333,
             "#9c179e"
            ],
            [
             0.4444444444444444,
             "#bd3786"
            ],
            [
             0.5555555555555556,
             "#d8576b"
            ],
            [
             0.6666666666666666,
             "#ed7953"
            ],
            [
             0.7777777777777778,
             "#fb9f3a"
            ],
            [
             0.8888888888888888,
             "#fdca26"
            ],
            [
             1,
             "#f0f921"
            ]
           ],
           "sequentialminus": [
            [
             0,
             "#0d0887"
            ],
            [
             0.1111111111111111,
             "#46039f"
            ],
            [
             0.2222222222222222,
             "#7201a8"
            ],
            [
             0.3333333333333333,
             "#9c179e"
            ],
            [
             0.4444444444444444,
             "#bd3786"
            ],
            [
             0.5555555555555556,
             "#d8576b"
            ],
            [
             0.6666666666666666,
             "#ed7953"
            ],
            [
             0.7777777777777778,
             "#fb9f3a"
            ],
            [
             0.8888888888888888,
             "#fdca26"
            ],
            [
             1,
             "#f0f921"
            ]
           ]
          },
          "colorway": [
           "#636efa",
           "#EF553B",
           "#00cc96",
           "#ab63fa",
           "#FFA15A",
           "#19d3f3",
           "#FF6692",
           "#B6E880",
           "#FF97FF",
           "#FECB52"
          ],
          "font": {
           "color": "#2a3f5f"
          },
          "geo": {
           "bgcolor": "white",
           "lakecolor": "white",
           "landcolor": "#E5ECF6",
           "showlakes": true,
           "showland": true,
           "subunitcolor": "white"
          },
          "hoverlabel": {
           "align": "left"
          },
          "hovermode": "closest",
          "mapbox": {
           "style": "light"
          },
          "paper_bgcolor": "white",
          "plot_bgcolor": "#E5ECF6",
          "polar": {
           "angularaxis": {
            "gridcolor": "white",
            "linecolor": "white",
            "ticks": ""
           },
           "bgcolor": "#E5ECF6",
           "radialaxis": {
            "gridcolor": "white",
            "linecolor": "white",
            "ticks": ""
           }
          },
          "scene": {
           "xaxis": {
            "backgroundcolor": "#E5ECF6",
            "gridcolor": "white",
            "gridwidth": 2,
            "linecolor": "white",
            "showbackground": true,
            "ticks": "",
            "zerolinecolor": "white"
           },
           "yaxis": {
            "backgroundcolor": "#E5ECF6",
            "gridcolor": "white",
            "gridwidth": 2,
            "linecolor": "white",
            "showbackground": true,
            "ticks": "",
            "zerolinecolor": "white"
           },
           "zaxis": {
            "backgroundcolor": "#E5ECF6",
            "gridcolor": "white",
            "gridwidth": 2,
            "linecolor": "white",
            "showbackground": true,
            "ticks": "",
            "zerolinecolor": "white"
           }
          },
          "shapedefaults": {
           "line": {
            "color": "#2a3f5f"
           }
          },
          "ternary": {
           "aaxis": {
            "gridcolor": "white",
            "linecolor": "white",
            "ticks": ""
           },
           "baxis": {
            "gridcolor": "white",
            "linecolor": "white",
            "ticks": ""
           },
           "bgcolor": "#E5ECF6",
           "caxis": {
            "gridcolor": "white",
            "linecolor": "white",
            "ticks": ""
           }
          },
          "title": {
           "x": 0.05
          },
          "xaxis": {
           "automargin": true,
           "gridcolor": "white",
           "linecolor": "white",
           "ticks": "",
           "title": {
            "standoff": 15
           },
           "zerolinecolor": "white",
           "zerolinewidth": 2
          },
          "yaxis": {
           "automargin": true,
           "gridcolor": "white",
           "linecolor": "white",
           "ticks": "",
           "title": {
            "standoff": 15
           },
           "zerolinecolor": "white",
           "zerolinewidth": 2
          }
         }
        },
        "title": {
         "text": "Contour Plot"
        },
        "xaxis": {
         "range": [
          12.5,
          133.5
         ],
         "title": {
          "text": "opt_bs"
         }
        },
        "yaxis": {
         "range": [
          -5.929145434698484,
          -1.8576931598237607
         ],
         "title": {
          "text": "opt_lr"
         },
         "type": "log"
        }
       }
      }
     },
     "metadata": {},
     "output_type": "display_data"
    }
   ],
   "source": [
    "from optuna.visualization import plot_contour\n",
    "plot_contour(study, params=[\"opt_lr\", \"opt_bs\"])"
   ]
  },
  {
   "cell_type": "code",
   "execution_count": 11,
   "metadata": {},
   "outputs": [
    {
     "data": {
      "application/vnd.plotly.v1+json": {
       "config": {
        "plotlyServerURL": "https://plot.ly"
       },
       "data": [
        {
         "cliponaxis": false,
         "hovertemplate": [
          "opt_num_hidden_dense_units (IntDistribution): 0.09811893946693931<extra></extra>",
          "opt_bs (IntDistribution): 0.2048369921592072<extra></extra>",
          "opt_lr (FloatDistribution): 0.6970440683738535<extra></extra>"
         ],
         "name": "Objective Value",
         "orientation": "h",
         "text": [
          "0.10",
          "0.20",
          "0.70"
         ],
         "textposition": "outside",
         "type": "bar",
         "x": [
          0.09811893946693931,
          0.2048369921592072,
          0.6970440683738535
         ],
         "y": [
          "opt_num_hidden_dense_units",
          "opt_bs",
          "opt_lr"
         ]
        }
       ],
       "layout": {
        "template": {
         "data": {
          "bar": [
           {
            "error_x": {
             "color": "#2a3f5f"
            },
            "error_y": {
             "color": "#2a3f5f"
            },
            "marker": {
             "line": {
              "color": "#E5ECF6",
              "width": 0.5
             },
             "pattern": {
              "fillmode": "overlay",
              "size": 10,
              "solidity": 0.2
             }
            },
            "type": "bar"
           }
          ],
          "barpolar": [
           {
            "marker": {
             "line": {
              "color": "#E5ECF6",
              "width": 0.5
             },
             "pattern": {
              "fillmode": "overlay",
              "size": 10,
              "solidity": 0.2
             }
            },
            "type": "barpolar"
           }
          ],
          "carpet": [
           {
            "aaxis": {
             "endlinecolor": "#2a3f5f",
             "gridcolor": "white",
             "linecolor": "white",
             "minorgridcolor": "white",
             "startlinecolor": "#2a3f5f"
            },
            "baxis": {
             "endlinecolor": "#2a3f5f",
             "gridcolor": "white",
             "linecolor": "white",
             "minorgridcolor": "white",
             "startlinecolor": "#2a3f5f"
            },
            "type": "carpet"
           }
          ],
          "choropleth": [
           {
            "colorbar": {
             "outlinewidth": 0,
             "ticks": ""
            },
            "type": "choropleth"
           }
          ],
          "contour": [
           {
            "colorbar": {
             "outlinewidth": 0,
             "ticks": ""
            },
            "colorscale": [
             [
              0,
              "#0d0887"
             ],
             [
              0.1111111111111111,
              "#46039f"
             ],
             [
              0.2222222222222222,
              "#7201a8"
             ],
             [
              0.3333333333333333,
              "#9c179e"
             ],
             [
              0.4444444444444444,
              "#bd3786"
             ],
             [
              0.5555555555555556,
              "#d8576b"
             ],
             [
              0.6666666666666666,
              "#ed7953"
             ],
             [
              0.7777777777777778,
              "#fb9f3a"
             ],
             [
              0.8888888888888888,
              "#fdca26"
             ],
             [
              1,
              "#f0f921"
             ]
            ],
            "type": "contour"
           }
          ],
          "contourcarpet": [
           {
            "colorbar": {
             "outlinewidth": 0,
             "ticks": ""
            },
            "type": "contourcarpet"
           }
          ],
          "heatmap": [
           {
            "colorbar": {
             "outlinewidth": 0,
             "ticks": ""
            },
            "colorscale": [
             [
              0,
              "#0d0887"
             ],
             [
              0.1111111111111111,
              "#46039f"
             ],
             [
              0.2222222222222222,
              "#7201a8"
             ],
             [
              0.3333333333333333,
              "#9c179e"
             ],
             [
              0.4444444444444444,
              "#bd3786"
             ],
             [
              0.5555555555555556,
              "#d8576b"
             ],
             [
              0.6666666666666666,
              "#ed7953"
             ],
             [
              0.7777777777777778,
              "#fb9f3a"
             ],
             [
              0.8888888888888888,
              "#fdca26"
             ],
             [
              1,
              "#f0f921"
             ]
            ],
            "type": "heatmap"
           }
          ],
          "heatmapgl": [
           {
            "colorbar": {
             "outlinewidth": 0,
             "ticks": ""
            },
            "colorscale": [
             [
              0,
              "#0d0887"
             ],
             [
              0.1111111111111111,
              "#46039f"
             ],
             [
              0.2222222222222222,
              "#7201a8"
             ],
             [
              0.3333333333333333,
              "#9c179e"
             ],
             [
              0.4444444444444444,
              "#bd3786"
             ],
             [
              0.5555555555555556,
              "#d8576b"
             ],
             [
              0.6666666666666666,
              "#ed7953"
             ],
             [
              0.7777777777777778,
              "#fb9f3a"
             ],
             [
              0.8888888888888888,
              "#fdca26"
             ],
             [
              1,
              "#f0f921"
             ]
            ],
            "type": "heatmapgl"
           }
          ],
          "histogram": [
           {
            "marker": {
             "pattern": {
              "fillmode": "overlay",
              "size": 10,
              "solidity": 0.2
             }
            },
            "type": "histogram"
           }
          ],
          "histogram2d": [
           {
            "colorbar": {
             "outlinewidth": 0,
             "ticks": ""
            },
            "colorscale": [
             [
              0,
              "#0d0887"
             ],
             [
              0.1111111111111111,
              "#46039f"
             ],
             [
              0.2222222222222222,
              "#7201a8"
             ],
             [
              0.3333333333333333,
              "#9c179e"
             ],
             [
              0.4444444444444444,
              "#bd3786"
             ],
             [
              0.5555555555555556,
              "#d8576b"
             ],
             [
              0.6666666666666666,
              "#ed7953"
             ],
             [
              0.7777777777777778,
              "#fb9f3a"
             ],
             [
              0.8888888888888888,
              "#fdca26"
             ],
             [
              1,
              "#f0f921"
             ]
            ],
            "type": "histogram2d"
           }
          ],
          "histogram2dcontour": [
           {
            "colorbar": {
             "outlinewidth": 0,
             "ticks": ""
            },
            "colorscale": [
             [
              0,
              "#0d0887"
             ],
             [
              0.1111111111111111,
              "#46039f"
             ],
             [
              0.2222222222222222,
              "#7201a8"
             ],
             [
              0.3333333333333333,
              "#9c179e"
             ],
             [
              0.4444444444444444,
              "#bd3786"
             ],
             [
              0.5555555555555556,
              "#d8576b"
             ],
             [
              0.6666666666666666,
              "#ed7953"
             ],
             [
              0.7777777777777778,
              "#fb9f3a"
             ],
             [
              0.8888888888888888,
              "#fdca26"
             ],
             [
              1,
              "#f0f921"
             ]
            ],
            "type": "histogram2dcontour"
           }
          ],
          "mesh3d": [
           {
            "colorbar": {
             "outlinewidth": 0,
             "ticks": ""
            },
            "type": "mesh3d"
           }
          ],
          "parcoords": [
           {
            "line": {
             "colorbar": {
              "outlinewidth": 0,
              "ticks": ""
             }
            },
            "type": "parcoords"
           }
          ],
          "pie": [
           {
            "automargin": true,
            "type": "pie"
           }
          ],
          "scatter": [
           {
            "fillpattern": {
             "fillmode": "overlay",
             "size": 10,
             "solidity": 0.2
            },
            "type": "scatter"
           }
          ],
          "scatter3d": [
           {
            "line": {
             "colorbar": {
              "outlinewidth": 0,
              "ticks": ""
             }
            },
            "marker": {
             "colorbar": {
              "outlinewidth": 0,
              "ticks": ""
             }
            },
            "type": "scatter3d"
           }
          ],
          "scattercarpet": [
           {
            "marker": {
             "colorbar": {
              "outlinewidth": 0,
              "ticks": ""
             }
            },
            "type": "scattercarpet"
           }
          ],
          "scattergeo": [
           {
            "marker": {
             "colorbar": {
              "outlinewidth": 0,
              "ticks": ""
             }
            },
            "type": "scattergeo"
           }
          ],
          "scattergl": [
           {
            "marker": {
             "colorbar": {
              "outlinewidth": 0,
              "ticks": ""
             }
            },
            "type": "scattergl"
           }
          ],
          "scattermapbox": [
           {
            "marker": {
             "colorbar": {
              "outlinewidth": 0,
              "ticks": ""
             }
            },
            "type": "scattermapbox"
           }
          ],
          "scatterpolar": [
           {
            "marker": {
             "colorbar": {
              "outlinewidth": 0,
              "ticks": ""
             }
            },
            "type": "scatterpolar"
           }
          ],
          "scatterpolargl": [
           {
            "marker": {
             "colorbar": {
              "outlinewidth": 0,
              "ticks": ""
             }
            },
            "type": "scatterpolargl"
           }
          ],
          "scatterternary": [
           {
            "marker": {
             "colorbar": {
              "outlinewidth": 0,
              "ticks": ""
             }
            },
            "type": "scatterternary"
           }
          ],
          "surface": [
           {
            "colorbar": {
             "outlinewidth": 0,
             "ticks": ""
            },
            "colorscale": [
             [
              0,
              "#0d0887"
             ],
             [
              0.1111111111111111,
              "#46039f"
             ],
             [
              0.2222222222222222,
              "#7201a8"
             ],
             [
              0.3333333333333333,
              "#9c179e"
             ],
             [
              0.4444444444444444,
              "#bd3786"
             ],
             [
              0.5555555555555556,
              "#d8576b"
             ],
             [
              0.6666666666666666,
              "#ed7953"
             ],
             [
              0.7777777777777778,
              "#fb9f3a"
             ],
             [
              0.8888888888888888,
              "#fdca26"
             ],
             [
              1,
              "#f0f921"
             ]
            ],
            "type": "surface"
           }
          ],
          "table": [
           {
            "cells": {
             "fill": {
              "color": "#EBF0F8"
             },
             "line": {
              "color": "white"
             }
            },
            "header": {
             "fill": {
              "color": "#C8D4E3"
             },
             "line": {
              "color": "white"
             }
            },
            "type": "table"
           }
          ]
         },
         "layout": {
          "annotationdefaults": {
           "arrowcolor": "#2a3f5f",
           "arrowhead": 0,
           "arrowwidth": 1
          },
          "autotypenumbers": "strict",
          "coloraxis": {
           "colorbar": {
            "outlinewidth": 0,
            "ticks": ""
           }
          },
          "colorscale": {
           "diverging": [
            [
             0,
             "#8e0152"
            ],
            [
             0.1,
             "#c51b7d"
            ],
            [
             0.2,
             "#de77ae"
            ],
            [
             0.3,
             "#f1b6da"
            ],
            [
             0.4,
             "#fde0ef"
            ],
            [
             0.5,
             "#f7f7f7"
            ],
            [
             0.6,
             "#e6f5d0"
            ],
            [
             0.7,
             "#b8e186"
            ],
            [
             0.8,
             "#7fbc41"
            ],
            [
             0.9,
             "#4d9221"
            ],
            [
             1,
             "#276419"
            ]
           ],
           "sequential": [
            [
             0,
             "#0d0887"
            ],
            [
             0.1111111111111111,
             "#46039f"
            ],
            [
             0.2222222222222222,
             "#7201a8"
            ],
            [
             0.3333333333333333,
             "#9c179e"
            ],
            [
             0.4444444444444444,
             "#bd3786"
            ],
            [
             0.5555555555555556,
             "#d8576b"
            ],
            [
             0.6666666666666666,
             "#ed7953"
            ],
            [
             0.7777777777777778,
             "#fb9f3a"
            ],
            [
             0.8888888888888888,
             "#fdca26"
            ],
            [
             1,
             "#f0f921"
            ]
           ],
           "sequentialminus": [
            [
             0,
             "#0d0887"
            ],
            [
             0.1111111111111111,
             "#46039f"
            ],
            [
             0.2222222222222222,
             "#7201a8"
            ],
            [
             0.3333333333333333,
             "#9c179e"
            ],
            [
             0.4444444444444444,
             "#bd3786"
            ],
            [
             0.5555555555555556,
             "#d8576b"
            ],
            [
             0.6666666666666666,
             "#ed7953"
            ],
            [
             0.7777777777777778,
             "#fb9f3a"
            ],
            [
             0.8888888888888888,
             "#fdca26"
            ],
            [
             1,
             "#f0f921"
            ]
           ]
          },
          "colorway": [
           "#636efa",
           "#EF553B",
           "#00cc96",
           "#ab63fa",
           "#FFA15A",
           "#19d3f3",
           "#FF6692",
           "#B6E880",
           "#FF97FF",
           "#FECB52"
          ],
          "font": {
           "color": "#2a3f5f"
          },
          "geo": {
           "bgcolor": "white",
           "lakecolor": "white",
           "landcolor": "#E5ECF6",
           "showlakes": true,
           "showland": true,
           "subunitcolor": "white"
          },
          "hoverlabel": {
           "align": "left"
          },
          "hovermode": "closest",
          "mapbox": {
           "style": "light"
          },
          "paper_bgcolor": "white",
          "plot_bgcolor": "#E5ECF6",
          "polar": {
           "angularaxis": {
            "gridcolor": "white",
            "linecolor": "white",
            "ticks": ""
           },
           "bgcolor": "#E5ECF6",
           "radialaxis": {
            "gridcolor": "white",
            "linecolor": "white",
            "ticks": ""
           }
          },
          "scene": {
           "xaxis": {
            "backgroundcolor": "#E5ECF6",
            "gridcolor": "white",
            "gridwidth": 2,
            "linecolor": "white",
            "showbackground": true,
            "ticks": "",
            "zerolinecolor": "white"
           },
           "yaxis": {
            "backgroundcolor": "#E5ECF6",
            "gridcolor": "white",
            "gridwidth": 2,
            "linecolor": "white",
            "showbackground": true,
            "ticks": "",
            "zerolinecolor": "white"
           },
           "zaxis": {
            "backgroundcolor": "#E5ECF6",
            "gridcolor": "white",
            "gridwidth": 2,
            "linecolor": "white",
            "showbackground": true,
            "ticks": "",
            "zerolinecolor": "white"
           }
          },
          "shapedefaults": {
           "line": {
            "color": "#2a3f5f"
           }
          },
          "ternary": {
           "aaxis": {
            "gridcolor": "white",
            "linecolor": "white",
            "ticks": ""
           },
           "baxis": {
            "gridcolor": "white",
            "linecolor": "white",
            "ticks": ""
           },
           "bgcolor": "#E5ECF6",
           "caxis": {
            "gridcolor": "white",
            "linecolor": "white",
            "ticks": ""
           }
          },
          "title": {
           "x": 0.05
          },
          "xaxis": {
           "automargin": true,
           "gridcolor": "white",
           "linecolor": "white",
           "ticks": "",
           "title": {
            "standoff": 15
           },
           "zerolinecolor": "white",
           "zerolinewidth": 2
          },
          "yaxis": {
           "automargin": true,
           "gridcolor": "white",
           "linecolor": "white",
           "ticks": "",
           "title": {
            "standoff": 15
           },
           "zerolinecolor": "white",
           "zerolinewidth": 2
          }
         }
        },
        "title": {
         "text": "Hyperparameter Importances"
        },
        "xaxis": {
         "title": {
          "text": "Hyperparameter Importance"
         }
        },
        "yaxis": {
         "title": {
          "text": "Hyperparameter"
         }
        }
       }
      }
     },
     "metadata": {},
     "output_type": "display_data"
    }
   ],
   "source": [
    "from optuna.visualization import plot_param_importances\n",
    "plot_param_importances(study)"
   ]
  },
  {
   "cell_type": "code",
   "execution_count": 21,
   "metadata": {},
   "outputs": [
    {
     "name": "stdout",
     "output_type": "stream",
     "text": [
      "Found num hidden dense units: 60\n",
      "Found learning rate: 0.0013693618689800777\n",
      "Found batch size: 119\n"
     ]
    }
   ],
   "source": [
    "best_params = study.best_params\n",
    "found_opt_num_hidden_dense_units = best_params[\"opt_num_hidden_dense_units\"]\n",
    "found_opt_lr = best_params[\"opt_lr\"]\n",
    "found_opt_bs = best_params[\"opt_bs\"]\n",
    "print(\"Found num hidden dense units: {}\".format(found_opt_num_hidden_dense_units))\n",
    "print(\"Found learning rate: {}\".format(found_opt_lr))\n",
    "print(\"Found batch size: {}\".format(found_opt_bs))"
   ]
  },
  {
   "cell_type": "code",
   "execution_count": 22,
   "metadata": {},
   "outputs": [],
   "source": [
    "inputs = keras.Input(shape=(IMG_SIZE, IMG_SIZE, 3))\n",
    "x = layers.Rescaling(1./255)(inputs)\n",
    "x = layers.Conv2D(filters=8, kernel_size=3, activation=\"relu\")(x)\n",
    "x = layers.MaxPooling2D(pool_size=2)(x)\n",
    "x = layers.Conv2D(filters=16, kernel_size=3, activation=\"relu\")(x)\n",
    "x = layers.MaxPooling2D(pool_size=2)(x)\n",
    "x = layers.Conv2D(filters=32, kernel_size=3, activation=\"relu\")(x)\n",
    "x = layers.MaxPooling2D(pool_size=2)(x)\n",
    "x = layers.Flatten()(x)\n",
    "x = layers.Dropout(0.5)(x)\n",
    "x = layers.Dense(found_opt_num_hidden_dense_units, activation=\"relu\")(x)\n",
    "outputs = layers.Dense(1, activation=\"sigmoid\")(x)\n",
    "model = keras.Model(inputs=inputs, outputs=outputs)\n"
   ]
  },
  {
   "cell_type": "code",
   "execution_count": 23,
   "metadata": {},
   "outputs": [],
   "source": [
    "model.compile(\n",
    "    loss=\"binary_crossentropy\", \n",
    "    optimizer=tf.keras.optimizers.Adam(learning_rate=found_opt_lr), \n",
    "    metrics=['acc'])"
   ]
  },
  {
   "cell_type": "code",
   "execution_count": 25,
   "metadata": {},
   "outputs": [],
   "source": [
    "checkpoint_filepath = 'models/5-1/ch-{epoch:03d}.ckpt'\n",
    "callbacks = keras.callbacks.ModelCheckpoint(\n",
    "    filepath=checkpoint_filepath,\n",
    "    save_best_only=True,\n",
    "    monitor='val_loss',\n",
    "    verbose=1)"
   ]
  },
  {
   "cell_type": "code",
   "execution_count": 26,
   "metadata": {},
   "outputs": [
    {
     "name": "stdout",
     "output_type": "stream",
     "text": [
      "Epoch 1/80\n",
      "94/94 [==============================] - ETA: 0s - loss: 0.7439 - acc: 0.5330\n",
      "Epoch 1: val_loss improved from inf to 0.68566, saving model to models/5-1/ch-001.ckpt\n",
      "INFO:tensorflow:Assets written to: models/5-1/ch-001.ckpt/assets\n"
     ]
    },
    {
     "name": "stderr",
     "output_type": "stream",
     "text": [
      "INFO:tensorflow:Assets written to: models/5-1/ch-001.ckpt/assets\n"
     ]
    },
    {
     "name": "stdout",
     "output_type": "stream",
     "text": [
      "94/94 [==============================] - 7s 58ms/step - loss: 0.7439 - acc: 0.5330 - val_loss: 0.6857 - val_acc: 0.6540\n",
      "Epoch 2/80\n",
      "93/94 [============================>.] - ETA: 0s - loss: 0.6691 - acc: 0.6442\n",
      "Epoch 2: val_loss did not improve from 0.68566\n",
      "94/94 [==============================] - 5s 46ms/step - loss: 0.6678 - acc: 0.6457 - val_loss: 0.7584 - val_acc: 0.6040\n",
      "Epoch 3/80\n",
      "94/94 [==============================] - ETA: 0s - loss: 0.6069 - acc: 0.6850\n",
      "Epoch 3: val_loss improved from 0.68566 to 0.64730, saving model to models/5-1/ch-003.ckpt\n",
      "INFO:tensorflow:Assets written to: models/5-1/ch-003.ckpt/assets\n"
     ]
    },
    {
     "name": "stderr",
     "output_type": "stream",
     "text": [
      "INFO:tensorflow:Assets written to: models/5-1/ch-003.ckpt/assets\n"
     ]
    },
    {
     "name": "stdout",
     "output_type": "stream",
     "text": [
      "94/94 [==============================] - 6s 58ms/step - loss: 0.6069 - acc: 0.6850 - val_loss: 0.6473 - val_acc: 0.6350\n",
      "Epoch 4/80\n",
      "94/94 [==============================] - ETA: 0s - loss: 0.5297 - acc: 0.7340\n",
      "Epoch 4: val_loss improved from 0.64730 to 0.59690, saving model to models/5-1/ch-004.ckpt\n",
      "INFO:tensorflow:Assets written to: models/5-1/ch-004.ckpt/assets\n"
     ]
    },
    {
     "name": "stderr",
     "output_type": "stream",
     "text": [
      "INFO:tensorflow:Assets written to: models/5-1/ch-004.ckpt/assets\n"
     ]
    },
    {
     "name": "stdout",
     "output_type": "stream",
     "text": [
      "94/94 [==============================] - 5s 54ms/step - loss: 0.5297 - acc: 0.7340 - val_loss: 0.5969 - val_acc: 0.6990\n",
      "Epoch 5/80\n",
      "94/94 [==============================] - ETA: 0s - loss: 0.4702 - acc: 0.7630\n",
      "Epoch 5: val_loss improved from 0.59690 to 0.57705, saving model to models/5-1/ch-005.ckpt\n",
      "INFO:tensorflow:Assets written to: models/5-1/ch-005.ckpt/assets\n"
     ]
    },
    {
     "name": "stderr",
     "output_type": "stream",
     "text": [
      "INFO:tensorflow:Assets written to: models/5-1/ch-005.ckpt/assets\n"
     ]
    },
    {
     "name": "stdout",
     "output_type": "stream",
     "text": [
      "94/94 [==============================] - 5s 55ms/step - loss: 0.4702 - acc: 0.7630 - val_loss: 0.5770 - val_acc: 0.7140\n",
      "Epoch 6/80\n",
      "93/94 [============================>.] - ETA: 0s - loss: 0.4365 - acc: 0.7802\n",
      "Epoch 6: val_loss did not improve from 0.57705\n",
      "94/94 [==============================] - 5s 51ms/step - loss: 0.4357 - acc: 0.7807 - val_loss: 0.5969 - val_acc: 0.7240\n",
      "Epoch 7/80\n",
      "94/94 [==============================] - ETA: 0s - loss: 0.3973 - acc: 0.7990\n",
      "Epoch 7: val_loss did not improve from 0.57705\n",
      "94/94 [==============================] - 5s 47ms/step - loss: 0.3973 - acc: 0.7990 - val_loss: 0.5930 - val_acc: 0.7160\n",
      "Epoch 8/80\n",
      "94/94 [==============================] - ETA: 0s - loss: 0.3505 - acc: 0.8250\n",
      "Epoch 8: val_loss did not improve from 0.57705\n",
      "94/94 [==============================] - 5s 51ms/step - loss: 0.3505 - acc: 0.8250 - val_loss: 0.6666 - val_acc: 0.7110\n",
      "Epoch 9/80\n",
      "94/94 [==============================] - ETA: 0s - loss: 0.3084 - acc: 0.8537\n",
      "Epoch 9: val_loss did not improve from 0.57705\n",
      "94/94 [==============================] - 5s 54ms/step - loss: 0.3084 - acc: 0.8537 - val_loss: 0.7109 - val_acc: 0.7010\n",
      "Epoch 10/80\n",
      "93/94 [============================>.] - ETA: 0s - loss: 0.2674 - acc: 0.8800\n",
      "Epoch 10: val_loss did not improve from 0.57705\n",
      "94/94 [==============================] - 4s 43ms/step - loss: 0.2678 - acc: 0.8800 - val_loss: 0.7978 - val_acc: 0.7160\n",
      "Epoch 11/80\n",
      "94/94 [==============================] - ETA: 0s - loss: 0.2407 - acc: 0.8930\n",
      "Epoch 11: val_loss did not improve from 0.57705\n",
      "94/94 [==============================] - 4s 40ms/step - loss: 0.2407 - acc: 0.8930 - val_loss: 0.8169 - val_acc: 0.7200\n",
      "Epoch 12/80\n",
      "94/94 [==============================] - ETA: 0s - loss: 0.2062 - acc: 0.9143\n",
      "Epoch 12: val_loss did not improve from 0.57705\n",
      "94/94 [==============================] - 4s 42ms/step - loss: 0.2062 - acc: 0.9143 - val_loss: 1.0054 - val_acc: 0.7310\n",
      "Epoch 13/80\n",
      "94/94 [==============================] - ETA: 0s - loss: 0.1610 - acc: 0.9390\n",
      "Epoch 13: val_loss did not improve from 0.57705\n",
      "94/94 [==============================] - 4s 45ms/step - loss: 0.1610 - acc: 0.9390 - val_loss: 1.2010 - val_acc: 0.7210\n",
      "Epoch 14/80\n",
      "93/94 [============================>.] - ETA: 0s - loss: 0.1428 - acc: 0.9513\n",
      "Epoch 14: val_loss did not improve from 0.57705\n",
      "94/94 [==============================] - 5s 47ms/step - loss: 0.1430 - acc: 0.9513 - val_loss: 1.0984 - val_acc: 0.7300\n",
      "Epoch 15/80\n",
      "93/94 [============================>.] - ETA: 0s - loss: 0.1447 - acc: 0.9489\n",
      "Epoch 15: val_loss did not improve from 0.57705\n",
      "94/94 [==============================] - 4s 43ms/step - loss: 0.1439 - acc: 0.9493 - val_loss: 1.3345 - val_acc: 0.7110\n",
      "Epoch 16/80\n",
      "94/94 [==============================] - ETA: 0s - loss: 0.1013 - acc: 0.9637\n",
      "Epoch 16: val_loss did not improve from 0.57705\n",
      "94/94 [==============================] - 4s 43ms/step - loss: 0.1013 - acc: 0.9637 - val_loss: 1.5022 - val_acc: 0.7140\n",
      "Epoch 17/80\n",
      "93/94 [============================>.] - ETA: 0s - loss: 0.0716 - acc: 0.9768\n",
      "Epoch 17: val_loss did not improve from 0.57705\n",
      "94/94 [==============================] - 4s 44ms/step - loss: 0.0716 - acc: 0.9770 - val_loss: 1.6314 - val_acc: 0.7160\n",
      "Epoch 18/80\n",
      "93/94 [============================>.] - ETA: 0s - loss: 0.0645 - acc: 0.9825\n",
      "Epoch 18: val_loss did not improve from 0.57705\n",
      "94/94 [==============================] - 5s 49ms/step - loss: 0.0643 - acc: 0.9827 - val_loss: 1.8919 - val_acc: 0.7140\n",
      "Epoch 19/80\n",
      "93/94 [============================>.] - ETA: 0s - loss: 0.0598 - acc: 0.9812\n",
      "Epoch 19: val_loss did not improve from 0.57705\n",
      "94/94 [==============================] - 5s 53ms/step - loss: 0.0595 - acc: 0.9813 - val_loss: 1.8478 - val_acc: 0.7220\n",
      "Epoch 20/80\n",
      "93/94 [============================>.] - ETA: 0s - loss: 0.0516 - acc: 0.9872\n",
      "Epoch 20: val_loss did not improve from 0.57705\n",
      "94/94 [==============================] - 5s 55ms/step - loss: 0.0524 - acc: 0.9870 - val_loss: 1.9795 - val_acc: 0.7190\n",
      "Epoch 21/80\n",
      "94/94 [==============================] - ETA: 0s - loss: 0.0484 - acc: 0.9840\n",
      "Epoch 21: val_loss did not improve from 0.57705\n",
      "94/94 [==============================] - 4s 42ms/step - loss: 0.0484 - acc: 0.9840 - val_loss: 1.9777 - val_acc: 0.7250\n",
      "Epoch 22/80\n",
      "93/94 [============================>.] - ETA: 0s - loss: 0.0547 - acc: 0.9829\n",
      "Epoch 22: val_loss did not improve from 0.57705\n",
      "94/94 [==============================] - 4s 43ms/step - loss: 0.0545 - acc: 0.9830 - val_loss: 1.9818 - val_acc: 0.7160\n",
      "Epoch 23/80\n",
      "93/94 [============================>.] - ETA: 0s - loss: 0.0375 - acc: 0.9909\n",
      "Epoch 23: val_loss did not improve from 0.57705\n",
      "94/94 [==============================] - 6s 60ms/step - loss: 0.0372 - acc: 0.9910 - val_loss: 2.1122 - val_acc: 0.7400\n",
      "Epoch 24/80\n",
      "94/94 [==============================] - ETA: 0s - loss: 0.0332 - acc: 0.9910\n",
      "Epoch 24: val_loss did not improve from 0.57705\n",
      "94/94 [==============================] - 5s 48ms/step - loss: 0.0332 - acc: 0.9910 - val_loss: 2.2528 - val_acc: 0.7170\n",
      "Epoch 25/80\n",
      "94/94 [==============================] - ETA: 0s - loss: 0.0183 - acc: 0.9963\n",
      "Epoch 25: val_loss did not improve from 0.57705\n",
      "94/94 [==============================] - 4s 45ms/step - loss: 0.0183 - acc: 0.9963 - val_loss: 2.3639 - val_acc: 0.7180\n",
      "Epoch 26/80\n",
      "93/94 [============================>.] - ETA: 0s - loss: 0.1288 - acc: 0.9560\n",
      "Epoch 26: val_loss did not improve from 0.57705\n",
      "94/94 [==============================] - 4s 44ms/step - loss: 0.1283 - acc: 0.9563 - val_loss: 1.7412 - val_acc: 0.7170\n",
      "Epoch 27/80\n",
      "94/94 [==============================] - ETA: 0s - loss: 0.0477 - acc: 0.9853\n",
      "Epoch 27: val_loss did not improve from 0.57705\n",
      "94/94 [==============================] - 4s 40ms/step - loss: 0.0477 - acc: 0.9853 - val_loss: 2.0380 - val_acc: 0.7200\n",
      "Epoch 28/80\n",
      "93/94 [============================>.] - ETA: 0s - loss: 0.0343 - acc: 0.9909\n",
      "Epoch 28: val_loss did not improve from 0.57705\n",
      "94/94 [==============================] - 4s 41ms/step - loss: 0.0341 - acc: 0.9910 - val_loss: 2.1733 - val_acc: 0.7190\n",
      "Epoch 29/80\n",
      "94/94 [==============================] - ETA: 0s - loss: 0.0386 - acc: 0.9900\n",
      "Epoch 29: val_loss did not improve from 0.57705\n",
      "94/94 [==============================] - 4s 41ms/step - loss: 0.0386 - acc: 0.9900 - val_loss: 2.0555 - val_acc: 0.7300\n",
      "Epoch 30/80\n",
      "94/94 [==============================] - ETA: 0s - loss: 0.0329 - acc: 0.9917\n",
      "Epoch 30: val_loss did not improve from 0.57705\n",
      "94/94 [==============================] - 4s 42ms/step - loss: 0.0329 - acc: 0.9917 - val_loss: 2.4559 - val_acc: 0.7310\n",
      "Epoch 31/80\n",
      "93/94 [============================>.] - ETA: 0s - loss: 0.0476 - acc: 0.9886\n",
      "Epoch 31: val_loss did not improve from 0.57705\n",
      "94/94 [==============================] - 4s 40ms/step - loss: 0.0477 - acc: 0.9887 - val_loss: 2.1938 - val_acc: 0.7240\n",
      "Epoch 32/80\n",
      "93/94 [============================>.] - ETA: 0s - loss: 0.0196 - acc: 0.9950\n",
      "Epoch 32: val_loss did not improve from 0.57705\n",
      "94/94 [==============================] - 4s 43ms/step - loss: 0.0196 - acc: 0.9950 - val_loss: 2.4041 - val_acc: 0.7310\n",
      "Epoch 33/80\n",
      "93/94 [============================>.] - ETA: 0s - loss: 0.0293 - acc: 0.9936\n",
      "Epoch 33: val_loss did not improve from 0.57705\n",
      "94/94 [==============================] - 5s 48ms/step - loss: 0.0291 - acc: 0.9937 - val_loss: 2.3625 - val_acc: 0.7240\n",
      "Epoch 34/80\n",
      "94/94 [==============================] - ETA: 0s - loss: 0.0418 - acc: 0.9897\n",
      "Epoch 34: val_loss did not improve from 0.57705\n",
      "94/94 [==============================] - 6s 55ms/step - loss: 0.0418 - acc: 0.9897 - val_loss: 1.9757 - val_acc: 0.7350\n",
      "Epoch 35/80\n",
      "93/94 [============================>.] - ETA: 0s - loss: 0.0361 - acc: 0.9886\n",
      "Epoch 35: val_loss did not improve from 0.57705\n",
      "94/94 [==============================] - 5s 55ms/step - loss: 0.0359 - acc: 0.9887 - val_loss: 2.7863 - val_acc: 0.7290\n",
      "Epoch 36/80\n",
      "94/94 [==============================] - ETA: 0s - loss: 0.0173 - acc: 0.9963\n",
      "Epoch 36: val_loss did not improve from 0.57705\n",
      "94/94 [==============================] - 5s 56ms/step - loss: 0.0173 - acc: 0.9963 - val_loss: 2.8482 - val_acc: 0.7390\n",
      "Epoch 37/80\n",
      "94/94 [==============================] - ETA: 0s - loss: 0.0261 - acc: 0.9943\n",
      "Epoch 37: val_loss did not improve from 0.57705\n",
      "94/94 [==============================] - 5s 51ms/step - loss: 0.0261 - acc: 0.9943 - val_loss: 2.9966 - val_acc: 0.7320\n",
      "Epoch 38/80\n",
      "94/94 [==============================] - ETA: 0s - loss: 0.0232 - acc: 0.9957\n",
      "Epoch 38: val_loss did not improve from 0.57705\n",
      "94/94 [==============================] - 5s 48ms/step - loss: 0.0232 - acc: 0.9957 - val_loss: 2.7623 - val_acc: 0.7150\n",
      "Epoch 39/80\n",
      "93/94 [============================>.] - ETA: 0s - loss: 0.0295 - acc: 0.9909\n",
      "Epoch 39: val_loss did not improve from 0.57705\n",
      "94/94 [==============================] - 5s 45ms/step - loss: 0.0293 - acc: 0.9910 - val_loss: 2.4175 - val_acc: 0.7200\n",
      "Epoch 40/80\n",
      "93/94 [============================>.] - ETA: 0s - loss: 0.0306 - acc: 0.9906\n",
      "Epoch 40: val_loss did not improve from 0.57705\n",
      "94/94 [==============================] - 5s 51ms/step - loss: 0.0304 - acc: 0.9907 - val_loss: 2.7924 - val_acc: 0.7160\n",
      "Epoch 41/80\n",
      "93/94 [============================>.] - ETA: 0s - loss: 0.0171 - acc: 0.9953\n",
      "Epoch 41: val_loss did not improve from 0.57705\n",
      "94/94 [==============================] - 5s 48ms/step - loss: 0.0170 - acc: 0.9953 - val_loss: 2.8893 - val_acc: 0.7280\n",
      "Epoch 42/80\n",
      "94/94 [==============================] - ETA: 0s - loss: 0.0169 - acc: 0.9943\n",
      "Epoch 42: val_loss did not improve from 0.57705\n",
      "94/94 [==============================] - 5s 50ms/step - loss: 0.0169 - acc: 0.9943 - val_loss: 3.1946 - val_acc: 0.7190\n",
      "Epoch 43/80\n",
      "93/94 [============================>.] - ETA: 0s - loss: 0.0203 - acc: 0.9963\n",
      "Epoch 43: val_loss did not improve from 0.57705\n",
      "94/94 [==============================] - 5s 53ms/step - loss: 0.0202 - acc: 0.9963 - val_loss: 3.1757 - val_acc: 0.7320\n",
      "Epoch 44/80\n",
      "94/94 [==============================] - ETA: 0s - loss: 0.0192 - acc: 0.9953\n",
      "Epoch 44: val_loss did not improve from 0.57705\n",
      "94/94 [==============================] - 6s 60ms/step - loss: 0.0192 - acc: 0.9953 - val_loss: 3.0388 - val_acc: 0.7190\n",
      "Epoch 45/80\n",
      "93/94 [============================>.] - ETA: 0s - loss: 0.0092 - acc: 0.9973\n",
      "Epoch 45: val_loss did not improve from 0.57705\n",
      "94/94 [==============================] - 5s 46ms/step - loss: 0.0091 - acc: 0.9973 - val_loss: 3.0217 - val_acc: 0.7210\n",
      "Epoch 46/80\n",
      "94/94 [==============================] - ETA: 0s - loss: 0.0030 - acc: 0.9997\n",
      "Epoch 46: val_loss did not improve from 0.57705\n",
      "94/94 [==============================] - 5s 46ms/step - loss: 0.0030 - acc: 0.9997 - val_loss: 3.2251 - val_acc: 0.7200\n",
      "Epoch 47/80\n",
      "93/94 [============================>.] - ETA: 0s - loss: 0.0112 - acc: 0.9976\n",
      "Epoch 47: val_loss did not improve from 0.57705\n",
      "94/94 [==============================] - 4s 41ms/step - loss: 0.0111 - acc: 0.9977 - val_loss: 2.9546 - val_acc: 0.7040\n",
      "Epoch 48/80\n",
      "93/94 [============================>.] - ETA: 0s - loss: 0.0047 - acc: 0.9983\n",
      "Epoch 48: val_loss did not improve from 0.57705\n",
      "94/94 [==============================] - 4s 40ms/step - loss: 0.0046 - acc: 0.9983 - val_loss: 3.4048 - val_acc: 0.7200\n",
      "Epoch 49/80\n",
      "94/94 [==============================] - ETA: 0s - loss: 0.0083 - acc: 0.9980\n",
      "Epoch 49: val_loss did not improve from 0.57705\n",
      "94/94 [==============================] - 4s 40ms/step - loss: 0.0083 - acc: 0.9980 - val_loss: 3.3893 - val_acc: 0.7220\n",
      "Epoch 50/80\n",
      "94/94 [==============================] - ETA: 0s - loss: 0.0082 - acc: 0.9990\n",
      "Epoch 50: val_loss did not improve from 0.57705\n",
      "94/94 [==============================] - 5s 46ms/step - loss: 0.0082 - acc: 0.9990 - val_loss: 3.6914 - val_acc: 0.7320\n",
      "Epoch 51/80\n",
      "94/94 [==============================] - ETA: 0s - loss: 0.0129 - acc: 0.9967\n",
      "Epoch 51: val_loss did not improve from 0.57705\n",
      "94/94 [==============================] - 4s 44ms/step - loss: 0.0129 - acc: 0.9967 - val_loss: 3.3073 - val_acc: 0.7270\n",
      "Epoch 52/80\n",
      "93/94 [============================>.] - ETA: 0s - loss: 0.0088 - acc: 0.9976\n",
      "Epoch 52: val_loss did not improve from 0.57705\n",
      "94/94 [==============================] - 5s 54ms/step - loss: 0.0088 - acc: 0.9977 - val_loss: 3.5361 - val_acc: 0.7110\n",
      "Epoch 53/80\n",
      "94/94 [==============================] - ETA: 0s - loss: 0.0131 - acc: 0.9967\n",
      "Epoch 53: val_loss did not improve from 0.57705\n",
      "94/94 [==============================] - 5s 55ms/step - loss: 0.0131 - acc: 0.9967 - val_loss: 3.2570 - val_acc: 0.7170\n",
      "Epoch 54/80\n",
      "94/94 [==============================] - ETA: 0s - loss: 0.0176 - acc: 0.9957\n",
      "Epoch 54: val_loss did not improve from 0.57705\n",
      "94/94 [==============================] - 5s 53ms/step - loss: 0.0176 - acc: 0.9957 - val_loss: 3.2442 - val_acc: 0.7070\n",
      "Epoch 55/80\n",
      "94/94 [==============================] - ETA: 0s - loss: 0.0207 - acc: 0.9947\n",
      "Epoch 55: val_loss did not improve from 0.57705\n",
      "94/94 [==============================] - 5s 52ms/step - loss: 0.0207 - acc: 0.9947 - val_loss: 3.1998 - val_acc: 0.7360\n",
      "Epoch 56/80\n",
      "93/94 [============================>.] - ETA: 0s - loss: 0.0190 - acc: 0.9956\n",
      "Epoch 56: val_loss did not improve from 0.57705\n",
      "94/94 [==============================] - 5s 49ms/step - loss: 0.0188 - acc: 0.9957 - val_loss: 3.5983 - val_acc: 0.7120\n",
      "Epoch 57/80\n",
      "94/94 [==============================] - ETA: 0s - loss: 0.0084 - acc: 0.9980\n",
      "Epoch 57: val_loss did not improve from 0.57705\n",
      "94/94 [==============================] - 5s 51ms/step - loss: 0.0084 - acc: 0.9980 - val_loss: 3.9736 - val_acc: 0.7170\n",
      "Epoch 58/80\n",
      "94/94 [==============================] - ETA: 0s - loss: 0.0593 - acc: 0.9820\n",
      "Epoch 58: val_loss did not improve from 0.57705\n",
      "94/94 [==============================] - 5s 48ms/step - loss: 0.0593 - acc: 0.9820 - val_loss: 2.9919 - val_acc: 0.7260\n",
      "Epoch 59/80\n",
      "94/94 [==============================] - ETA: 0s - loss: 0.0246 - acc: 0.9920\n",
      "Epoch 59: val_loss did not improve from 0.57705\n",
      "94/94 [==============================] - 5s 48ms/step - loss: 0.0246 - acc: 0.9920 - val_loss: 3.0979 - val_acc: 0.7250\n",
      "Epoch 60/80\n",
      "93/94 [============================>.] - ETA: 0s - loss: 0.0205 - acc: 0.9953\n",
      "Epoch 60: val_loss did not improve from 0.57705\n",
      "94/94 [==============================] - 5s 47ms/step - loss: 0.0206 - acc: 0.9950 - val_loss: 3.2285 - val_acc: 0.7170\n",
      "Epoch 61/80\n",
      "94/94 [==============================] - ETA: 0s - loss: 0.0214 - acc: 0.9953\n",
      "Epoch 61: val_loss did not improve from 0.57705\n",
      "94/94 [==============================] - 5s 54ms/step - loss: 0.0214 - acc: 0.9953 - val_loss: 3.1373 - val_acc: 0.7070\n",
      "Epoch 62/80\n",
      "93/94 [============================>.] - ETA: 0s - loss: 0.0417 - acc: 0.9869\n",
      "Epoch 62: val_loss did not improve from 0.57705\n",
      "94/94 [==============================] - 5s 48ms/step - loss: 0.0414 - acc: 0.9870 - val_loss: 3.0526 - val_acc: 0.7100\n",
      "Epoch 63/80\n",
      "94/94 [==============================] - ETA: 0s - loss: 0.0103 - acc: 0.9970\n",
      "Epoch 63: val_loss did not improve from 0.57705\n",
      "94/94 [==============================] - 5s 52ms/step - loss: 0.0103 - acc: 0.9970 - val_loss: 3.0495 - val_acc: 0.7040\n",
      "Epoch 64/80\n",
      "94/94 [==============================] - ETA: 0s - loss: 0.0061 - acc: 0.9987\n",
      "Epoch 64: val_loss did not improve from 0.57705\n",
      "94/94 [==============================] - 5s 50ms/step - loss: 0.0061 - acc: 0.9987 - val_loss: 3.3304 - val_acc: 0.7170\n",
      "Epoch 65/80\n",
      "93/94 [============================>.] - ETA: 0s - loss: 0.0032 - acc: 0.9990\n",
      "Epoch 65: val_loss did not improve from 0.57705\n",
      "94/94 [==============================] - 5s 46ms/step - loss: 0.0032 - acc: 0.9990 - val_loss: 3.3136 - val_acc: 0.7050\n",
      "Epoch 66/80\n",
      "94/94 [==============================] - ETA: 0s - loss: 0.0127 - acc: 0.9970\n",
      "Epoch 66: val_loss did not improve from 0.57705\n",
      "94/94 [==============================] - 5s 51ms/step - loss: 0.0127 - acc: 0.9970 - val_loss: 3.1778 - val_acc: 0.7180\n",
      "Epoch 67/80\n",
      "93/94 [============================>.] - ETA: 0s - loss: 0.0081 - acc: 0.9970\n",
      "Epoch 67: val_loss did not improve from 0.57705\n",
      "94/94 [==============================] - 4s 45ms/step - loss: 0.0082 - acc: 0.9970 - val_loss: 3.5400 - val_acc: 0.7080\n",
      "Epoch 68/80\n",
      "93/94 [============================>.] - ETA: 0s - loss: 0.0056 - acc: 0.9987\n",
      "Epoch 68: val_loss did not improve from 0.57705\n",
      "94/94 [==============================] - 5s 44ms/step - loss: 0.0055 - acc: 0.9987 - val_loss: 3.6988 - val_acc: 0.7160\n",
      "Epoch 69/80\n",
      "94/94 [==============================] - ETA: 0s - loss: 0.0028 - acc: 0.9993\n",
      "Epoch 69: val_loss did not improve from 0.57705\n",
      "94/94 [==============================] - 4s 45ms/step - loss: 0.0028 - acc: 0.9993 - val_loss: 3.8161 - val_acc: 0.7040\n",
      "Epoch 70/80\n",
      "93/94 [============================>.] - ETA: 0s - loss: 0.0045 - acc: 0.9990\n",
      "Epoch 70: val_loss did not improve from 0.57705\n",
      "94/94 [==============================] - 4s 44ms/step - loss: 0.0045 - acc: 0.9990 - val_loss: 3.8785 - val_acc: 0.7200\n",
      "Epoch 71/80\n",
      "94/94 [==============================] - ETA: 0s - loss: 0.0121 - acc: 0.9967\n",
      "Epoch 71: val_loss did not improve from 0.57705\n",
      "94/94 [==============================] - 4s 44ms/step - loss: 0.0121 - acc: 0.9967 - val_loss: 3.4787 - val_acc: 0.7220\n",
      "Epoch 72/80\n",
      "94/94 [==============================] - ETA: 0s - loss: 0.0107 - acc: 0.9963\n",
      "Epoch 72: val_loss did not improve from 0.57705\n",
      "94/94 [==============================] - 5s 47ms/step - loss: 0.0107 - acc: 0.9963 - val_loss: 3.4314 - val_acc: 0.7120\n",
      "Epoch 73/80\n",
      "94/94 [==============================] - ETA: 0s - loss: 0.0025 - acc: 0.9997\n",
      "Epoch 73: val_loss did not improve from 0.57705\n",
      "94/94 [==============================] - 6s 59ms/step - loss: 0.0025 - acc: 0.9997 - val_loss: 3.8553 - val_acc: 0.7230\n",
      "Epoch 74/80\n",
      "93/94 [============================>.] - ETA: 0s - loss: 0.0092 - acc: 0.9966\n",
      "Epoch 74: val_loss did not improve from 0.57705\n",
      "94/94 [==============================] - 5s 51ms/step - loss: 0.0091 - acc: 0.9967 - val_loss: 3.8060 - val_acc: 0.7190\n",
      "Epoch 75/80\n",
      "94/94 [==============================] - ETA: 0s - loss: 0.0094 - acc: 0.9977\n",
      "Epoch 75: val_loss did not improve from 0.57705\n",
      "94/94 [==============================] - 5s 52ms/step - loss: 0.0094 - acc: 0.9977 - val_loss: 3.4037 - val_acc: 0.7230\n",
      "Epoch 76/80\n",
      "94/94 [==============================] - ETA: 0s - loss: 0.0200 - acc: 0.9950\n",
      "Epoch 76: val_loss did not improve from 0.57705\n",
      "94/94 [==============================] - 5s 46ms/step - loss: 0.0200 - acc: 0.9950 - val_loss: 3.9179 - val_acc: 0.7200\n",
      "Epoch 77/80\n",
      "93/94 [============================>.] - ETA: 0s - loss: 0.0177 - acc: 0.9966\n",
      "Epoch 77: val_loss did not improve from 0.57705\n",
      "94/94 [==============================] - 5s 55ms/step - loss: 0.0177 - acc: 0.9967 - val_loss: 3.4279 - val_acc: 0.7220\n",
      "Epoch 78/80\n",
      "93/94 [============================>.] - ETA: 0s - loss: 0.0181 - acc: 0.9973\n",
      "Epoch 78: val_loss did not improve from 0.57705\n",
      "94/94 [==============================] - 4s 43ms/step - loss: 0.0179 - acc: 0.9973 - val_loss: 4.0944 - val_acc: 0.7230\n",
      "Epoch 79/80\n",
      "94/94 [==============================] - ETA: 0s - loss: 0.0024 - acc: 0.9993\n",
      "Epoch 79: val_loss did not improve from 0.57705\n",
      "94/94 [==============================] - 5s 49ms/step - loss: 0.0024 - acc: 0.9993 - val_loss: 3.6766 - val_acc: 0.7120\n",
      "Epoch 80/80\n",
      "94/94 [==============================] - ETA: 0s - loss: 0.0037 - acc: 0.9987\n",
      "Epoch 80: val_loss did not improve from 0.57705\n",
      "94/94 [==============================] - 5s 54ms/step - loss: 0.0037 - acc: 0.9987 - val_loss: 3.8083 - val_acc: 0.7100\n"
     ]
    }
   ],
   "source": [
    "#Best Epoch = ?\n",
    "\n",
    "history = model.fit(train_dataset, epochs=80, batch_size=found_opt_bs, validation_data=test_dataset, callbacks=[callbacks])"
   ]
  },
  {
   "cell_type": "code",
   "execution_count": null,
   "metadata": {},
   "outputs": [],
   "source": [
    "history_2 = model.fit(train_dataset, epochs=10, batch_size=found_opt_bs, validation_data=test_dataset)"
   ]
  },
  {
   "cell_type": "code",
   "execution_count": null,
   "metadata": {},
   "outputs": [],
   "source": [
    "history_3 = model.fit(train_dataset, epochs=20, batch_size=found_opt_bs, validation_data=test_dataset)"
   ]
  },
  {
   "cell_type": "code",
   "execution_count": null,
   "metadata": {},
   "outputs": [],
   "source": [
    "history_4 = model.fit(train_dataset, epochs=30, batch_size=found_opt_bs, validation_data=test_dataset)"
   ]
  },
  {
   "cell_type": "code",
   "execution_count": 5,
   "metadata": {},
   "outputs": [],
   "source": [
    "model = keras.models.load_model('models/5-1/5-1-E.keras')"
   ]
  },
  {
   "cell_type": "code",
   "execution_count": 5,
   "metadata": {},
   "outputs": [
    {
     "ename": "NameError",
     "evalue": "name 'test_dataset' is not defined",
     "output_type": "error",
     "traceback": [
      "\u001b[0;31m---------------------------------------------------------------------------\u001b[0m",
      "\u001b[0;31mNameError\u001b[0m                                 Traceback (most recent call last)",
      "Cell \u001b[0;32mIn[5], line 1\u001b[0m\n\u001b[0;32m----> 1\u001b[0m val_loss, val_acc \u001b[38;5;241m=\u001b[39m model\u001b[38;5;241m.\u001b[39mevaluate(\u001b[43mtest_dataset\u001b[49m, batch_size\u001b[38;5;241m=\u001b[39m\u001b[38;5;241m32\u001b[39m)\n\u001b[1;32m      2\u001b[0m \u001b[38;5;28mprint\u001b[39m(val_loss, val_acc)\n",
      "\u001b[0;31mNameError\u001b[0m: name 'test_dataset' is not defined"
     ]
    }
   ],
   "source": [
    "val_loss, val_acc = model.evaluate(test_dataset, batch_size=32)\n",
    "print(val_loss, val_acc)"
   ]
  },
  {
   "cell_type": "code",
   "execution_count": null,
   "metadata": {},
   "outputs": [],
   "source": [
    "combined_history = {}\n",
    "for fit_history in [history, history_2, history_3, history_4]: \n",
    "    epochs = range(1, len(fit_history.history['acc']) + 1) \n",
    "\n",
    "    for metric in ['acc', 'val_acc', 'loss', 'val_loss']:\n",
    "        if metric not in combined_history:\n",
    "            combined_history[metric] = []\n",
    "        combined_history[metric].extend(fit_history.history[metric])"
   ]
  },
  {
   "cell_type": "code",
   "execution_count": 32,
   "metadata": {},
   "outputs": [
    {
     "data": {
      "image/png": "[encoded data removed]",
      "text/plain": [
       "<Figure size 640x480 with 1 Axes>"
      ]
     },
     "metadata": {},
     "output_type": "display_data"
    },
    {
     "data": {
      "image/png": "[encoded data removed]",
      "text/plain": [
       "<Figure size 640x480 with 1 Axes>"
      ]
     },
     "metadata": {},
     "output_type": "display_data"
    }
   ],
   "source": [
    "# acc = combined_history['acc']\n",
    "# val_acc = combined_history['val_acc']\n",
    "# loss = combined_history['loss']\n",
    "# val_loss = combined_history['val_loss']\n",
    "\n",
    "acc = history.history['acc']\n",
    "val_acc = history.history['val_acc']\n",
    "loss = history.history['loss']\n",
    "val_loss = history.history['val_loss']\n",
    "\n",
    "epochs = range(1, len(acc) + 1)\n",
    "plt.plot(epochs, acc, 'bo', label='Training acc')\n",
    "plt.plot(epochs, val_acc, 'b', label='Validation acc')\n",
    "plt.title('Training and validation accuracy')\n",
    "plt.legend()\n",
    "plt.savefig(\"graphs/5-1/train_test_loss\",dpi=100)\n",
    "plt.figure()\n",
    "plt.plot(epochs, loss, 'bo', label='Training loss')\n",
    "plt.plot(epochs, val_loss, 'b', label='Validation loss')\n",
    "plt.title('Training and validation loss')\n",
    "plt.legend()\n",
    "plt.savefig(\"graphs/5-1/train_test_acc\",dpi=100)\n",
    "plt.show()\n"
   ]
  },
  {
   "cell_type": "code",
   "execution_count": 33,
   "metadata": {},
   "outputs": [],
   "source": [
    "model.save('models/5-1/5-1-E.keras')"
   ]
  },
  {
   "cell_type": "code",
   "execution_count": 36,
   "metadata": {},
   "outputs": [
    {
     "name": "stdout",
     "output_type": "stream",
     "text": [
      "Found 1000 files belonging to 2 classes.\n"
     ]
    },
    {
     "name": "stdout",
     "output_type": "stream",
     "text": [
      "1/1 [==============================] - 0s 28ms/step\n",
      "1/1 [==============================] - 0s 29ms/step\n",
      "1/1 [==============================] - 0s 24ms/step\n",
      "1/1 [==============================] - 0s 44ms/step\n",
      "1/1 [==============================] - 0s 35ms/step\n",
      "1/1 [==============================] - 0s 25ms/step\n",
      "1/1 [==============================] - 0s 22ms/step\n",
      "1/1 [==============================] - 0s 27ms/step\n",
      "1/1 [==============================] - 0s 27ms/step\n",
      "1/1 [==============================] - 0s 25ms/step\n",
      "1/1 [==============================] - 0s 27ms/step\n",
      "1/1 [==============================] - 0s 29ms/step\n",
      "1/1 [==============================] - 0s 23ms/step\n",
      "1/1 [==============================] - 0s 25ms/step\n",
      "1/1 [==============================] - 0s 26ms/step\n",
      "1/1 [==============================] - 0s 23ms/step\n",
      "1/1 [==============================] - 0s 23ms/step\n",
      "1/1 [==============================] - 0s 26ms/step\n",
      "1/1 [==============================] - 0s 25ms/step\n",
      "1/1 [==============================] - 0s 23ms/step\n",
      "1/1 [==============================] - 0s 24ms/step\n",
      "1/1 [==============================] - 0s 24ms/step\n",
      "1/1 [==============================] - 0s 31ms/step\n",
      "1/1 [==============================] - 0s 32ms/step\n",
      "1/1 [==============================] - 0s 27ms/step\n",
      "1/1 [==============================] - 0s 24ms/step\n",
      "1/1 [==============================] - 0s 25ms/step\n",
      "1/1 [==============================] - 0s 25ms/step\n",
      "1/1 [==============================] - 0s 25ms/step\n",
      "1/1 [==============================] - 0s 19ms/step\n",
      "1/1 [==============================] - 0s 23ms/step\n",
      "1/1 [==============================] - 0s 23ms/step\n",
      "1/1 [==============================] - 0s 23ms/step\n",
      "1/1 [==============================] - 0s 25ms/step\n",
      "1/1 [==============================] - 0s 26ms/step\n",
      "1/1 [==============================] - 0s 31ms/step\n",
      "1/1 [==============================] - 0s 23ms/step\n",
      "1/1 [==============================] - 0s 33ms/step\n",
      "1/1 [==============================] - 0s 50ms/step\n",
      "1/1 [==============================] - 0s 25ms/step\n",
      "1/1 [==============================] - 0s 25ms/step\n",
      "1/1 [==============================] - 0s 23ms/step\n",
      "1/1 [==============================] - 0s 25ms/step\n",
      "1/1 [==============================] - 0s 25ms/step\n",
      "1/1 [==============================] - 0s 23ms/step\n",
      "1/1 [==============================] - 0s 26ms/step\n",
      "1/1 [==============================] - 0s 24ms/step\n",
      "1/1 [==============================] - 0s 24ms/step\n",
      "1/1 [==============================] - 0s 23ms/step\n",
      "1/1 [==============================] - 0s 29ms/step\n",
      "1/1 [==============================] - 0s 26ms/step\n",
      "1/1 [==============================] - 0s 25ms/step\n",
      "1/1 [==============================] - 0s 23ms/step\n",
      "1/1 [==============================] - 0s 24ms/step\n",
      "1/1 [==============================] - 0s 25ms/step\n",
      "1/1 [==============================] - 0s 25ms/step\n",
      "1/1 [==============================] - 0s 24ms/step\n",
      "1/1 [==============================] - 0s 23ms/step\n",
      "1/1 [==============================] - 0s 23ms/step\n",
      "1/1 [==============================] - 0s 24ms/step\n",
      "1/1 [==============================] - 0s 22ms/step\n",
      "1/1 [==============================] - 0s 25ms/step\n",
      "1/1 [==============================] - 0s 22ms/step\n",
      "1/1 [==============================] - 0s 23ms/step\n",
      "1/1 [==============================] - 0s 23ms/step\n",
      "1/1 [==============================] - 0s 24ms/step\n",
      "1/1 [==============================] - 0s 25ms/step\n",
      "1/1 [==============================] - 0s 25ms/step\n",
      "1/1 [==============================] - 0s 24ms/step\n",
      "1/1 [==============================] - 0s 24ms/step\n",
      "1/1 [==============================] - 0s 25ms/step\n",
      "1/1 [==============================] - 0s 24ms/step\n",
      "1/1 [==============================] - 0s 26ms/step\n",
      "1/1 [==============================] - 0s 25ms/step\n",
      "1/1 [==============================] - 0s 29ms/step\n",
      "1/1 [==============================] - 0s 35ms/step\n",
      "1/1 [==============================] - 0s 31ms/step\n",
      "1/1 [==============================] - 0s 26ms/step\n",
      "1/1 [==============================] - 0s 26ms/step\n",
      "1/1 [==============================] - 0s 26ms/step\n",
      "1/1 [==============================] - 0s 26ms/step\n",
      "1/1 [==============================] - 0s 27ms/step\n",
      "1/1 [==============================] - 0s 25ms/step\n",
      "1/1 [==============================] - 0s 23ms/step\n",
      "1/1 [==============================] - 0s 22ms/step\n",
      "1/1 [==============================] - 0s 22ms/step\n",
      "1/1 [==============================] - 0s 22ms/step\n",
      "1/1 [==============================] - 0s 26ms/step\n",
      "1/1 [==============================] - 0s 24ms/step\n",
      "1/1 [==============================] - 0s 23ms/step\n",
      "1/1 [==============================] - 0s 28ms/step\n",
      "1/1 [==============================] - 0s 24ms/step\n",
      "1/1 [==============================] - 0s 22ms/step\n",
      "1/1 [==============================] - 0s 28ms/step\n",
      "1/1 [==============================] - 0s 24ms/step\n",
      "1/1 [==============================] - 0s 23ms/step\n",
      "1/1 [==============================] - 0s 25ms/step\n",
      "1/1 [==============================] - 0s 24ms/step\n",
      "1/1 [==============================] - 0s 22ms/step\n",
      "1/1 [==============================] - 0s 25ms/step\n",
      "1/1 [==============================] - 0s 27ms/step\n",
      "1/1 [==============================] - 0s 22ms/step\n",
      "1/1 [==============================] - 0s 23ms/step\n",
      "1/1 [==============================] - 0s 25ms/step\n",
      "1/1 [==============================] - 0s 25ms/step\n",
      "1/1 [==============================] - 0s 24ms/step\n",
      "1/1 [==============================] - 0s 24ms/step\n",
      "1/1 [==============================] - 0s 23ms/step\n",
      "1/1 [==============================] - 0s 23ms/step\n",
      "1/1 [==============================] - 0s 21ms/step\n",
      "1/1 [==============================] - 0s 21ms/step\n",
      "1/1 [==============================] - 0s 24ms/step\n",
      "1/1 [==============================] - 0s 25ms/step\n",
      "1/1 [==============================] - 0s 23ms/step\n",
      "1/1 [==============================] - 0s 24ms/step\n",
      "1/1 [==============================] - 0s 23ms/step\n",
      "1/1 [==============================] - 0s 21ms/step\n",
      "1/1 [==============================] - 0s 22ms/step\n",
      "1/1 [==============================] - 0s 23ms/step\n",
      "1/1 [==============================] - 0s 23ms/step\n",
      "1/1 [==============================] - 0s 24ms/step\n",
      "1/1 [==============================] - 0s 22ms/step\n",
      "1/1 [==============================] - 0s 24ms/step\n",
      "1/1 [==============================] - 0s 23ms/step\n",
      "1/1 [==============================] - 0s 23ms/step\n",
      "1/1 [==============================] - 0s 23ms/step\n",
      "1/1 [==============================] - 0s 23ms/step\n",
      "1/1 [==============================] - 0s 25ms/step\n",
      "1/1 [==============================] - 0s 22ms/step\n",
      "1/1 [==============================] - 0s 23ms/step\n",
      "1/1 [==============================] - 0s 22ms/step\n",
      "1/1 [==============================] - 0s 24ms/step\n",
      "1/1 [==============================] - 0s 22ms/step\n",
      "1/1 [==============================] - 0s 24ms/step\n",
      "1/1 [==============================] - 0s 23ms/step\n",
      "1/1 [==============================] - 0s 24ms/step\n",
      "1/1 [==============================] - 0s 22ms/step\n",
      "1/1 [==============================] - 0s 61ms/step\n",
      "1/1 [==============================] - 0s 29ms/step\n",
      "1/1 [==============================] - 0s 26ms/step\n",
      "1/1 [==============================] - 0s 26ms/step\n",
      "1/1 [==============================] - 0s 25ms/step\n",
      "1/1 [==============================] - 0s 26ms/step\n",
      "1/1 [==============================] - 0s 24ms/step\n",
      "1/1 [==============================] - 0s 26ms/step\n",
      "1/1 [==============================] - 0s 26ms/step\n",
      "1/1 [==============================] - 0s 22ms/step\n",
      "1/1 [==============================] - 0s 23ms/step\n",
      "1/1 [==============================] - 0s 22ms/step\n",
      "1/1 [==============================] - 0s 23ms/step\n",
      "1/1 [==============================] - 0s 25ms/step\n",
      "1/1 [==============================] - 0s 27ms/step\n",
      "1/1 [==============================] - 0s 25ms/step\n",
      "1/1 [==============================] - 0s 24ms/step\n",
      "1/1 [==============================] - 0s 22ms/step\n",
      "1/1 [==============================] - 0s 23ms/step\n",
      "1/1 [==============================] - 0s 24ms/step\n",
      "1/1 [==============================] - 0s 24ms/step\n",
      "1/1 [==============================] - 0s 23ms/step\n",
      "1/1 [==============================] - 0s 24ms/step\n",
      "1/1 [==============================] - 0s 22ms/step\n",
      "1/1 [==============================] - 0s 26ms/step\n",
      "1/1 [==============================] - 0s 24ms/step\n",
      "1/1 [==============================] - 0s 23ms/step\n",
      "1/1 [==============================] - 0s 22ms/step\n",
      "1/1 [==============================] - 0s 25ms/step\n",
      "1/1 [==============================] - 0s 22ms/step\n",
      "1/1 [==============================] - 0s 23ms/step\n",
      "1/1 [==============================] - 0s 23ms/step\n",
      "1/1 [==============================] - 0s 23ms/step\n",
      "1/1 [==============================] - 0s 60ms/step\n",
      "1/1 [==============================] - 0s 25ms/step\n",
      "1/1 [==============================] - 0s 22ms/step\n",
      "1/1 [==============================] - 0s 22ms/step\n",
      "1/1 [==============================] - 0s 22ms/step\n",
      "1/1 [==============================] - 0s 25ms/step\n",
      "1/1 [==============================] - 0s 23ms/step\n",
      "1/1 [==============================] - 0s 26ms/step\n",
      "1/1 [==============================] - 0s 23ms/step\n",
      "1/1 [==============================] - 0s 23ms/step\n",
      "1/1 [==============================] - 0s 23ms/step\n",
      "1/1 [==============================] - 0s 22ms/step\n",
      "1/1 [==============================] - 0s 24ms/step\n",
      "1/1 [==============================] - 0s 23ms/step\n",
      "1/1 [==============================] - 0s 24ms/step\n",
      "1/1 [==============================] - 0s 25ms/step\n",
      "1/1 [==============================] - 0s 23ms/step\n",
      "1/1 [==============================] - 0s 24ms/step\n",
      "1/1 [==============================] - 0s 26ms/step\n",
      "1/1 [==============================] - 0s 24ms/step\n",
      "1/1 [==============================] - 0s 24ms/step\n",
      "1/1 [==============================] - 0s 34ms/step\n",
      "1/1 [==============================] - 0s 31ms/step\n",
      "1/1 [==============================] - 0s 29ms/step\n",
      "1/1 [==============================] - 0s 25ms/step\n",
      "1/1 [==============================] - 0s 26ms/step\n",
      "1/1 [==============================] - 0s 26ms/step\n",
      "1/1 [==============================] - 0s 26ms/step\n",
      "1/1 [==============================] - 0s 59ms/step\n",
      "1/1 [==============================] - 0s 37ms/step\n",
      "1/1 [==============================] - 0s 23ms/step\n",
      "1/1 [==============================] - 0s 23ms/step\n",
      "1/1 [==============================] - 0s 24ms/step\n",
      "1/1 [==============================] - 0s 24ms/step\n",
      "1/1 [==============================] - 0s 24ms/step\n",
      "1/1 [==============================] - 0s 25ms/step\n",
      "1/1 [==============================] - 0s 25ms/step\n",
      "1/1 [==============================] - 0s 24ms/step\n",
      "1/1 [==============================] - 0s 23ms/step\n",
      "1/1 [==============================] - 0s 22ms/step\n",
      "1/1 [==============================] - 0s 22ms/step\n",
      "1/1 [==============================] - 0s 22ms/step\n",
      "1/1 [==============================] - 0s 23ms/step\n",
      "1/1 [==============================] - 0s 24ms/step\n",
      "1/1 [==============================] - 0s 23ms/step\n",
      "1/1 [==============================] - 0s 24ms/step\n",
      "1/1 [==============================] - 0s 22ms/step\n",
      "1/1 [==============================] - 0s 22ms/step\n",
      "1/1 [==============================] - 0s 23ms/step\n",
      "1/1 [==============================] - 0s 27ms/step\n",
      "1/1 [==============================] - 0s 25ms/step\n",
      "1/1 [==============================] - 0s 22ms/step\n",
      "1/1 [==============================] - 0s 22ms/step\n",
      "1/1 [==============================] - 0s 23ms/step\n",
      "1/1 [==============================] - 0s 24ms/step\n",
      "1/1 [==============================] - 0s 23ms/step\n",
      "1/1 [==============================] - 0s 24ms/step\n",
      "1/1 [==============================] - 0s 26ms/step\n",
      "1/1 [==============================] - 0s 26ms/step\n",
      "1/1 [==============================] - 0s 24ms/step\n",
      "1/1 [==============================] - 0s 55ms/step\n",
      "1/1 [==============================] - 0s 24ms/step\n",
      "1/1 [==============================] - 0s 23ms/step\n",
      "1/1 [==============================] - 0s 24ms/step\n",
      "1/1 [==============================] - 0s 26ms/step\n",
      "1/1 [==============================] - 0s 33ms/step\n",
      "1/1 [==============================] - 0s 27ms/step\n",
      "1/1 [==============================] - 0s 31ms/step\n",
      "1/1 [==============================] - 0s 23ms/step\n",
      "1/1 [==============================] - 0s 27ms/step\n",
      "1/1 [==============================] - 0s 24ms/step\n",
      "1/1 [==============================] - 0s 26ms/step\n",
      "1/1 [==============================] - 0s 22ms/step\n",
      "1/1 [==============================] - 0s 21ms/step\n",
      "1/1 [==============================] - 0s 23ms/step\n",
      "1/1 [==============================] - 0s 24ms/step\n",
      "1/1 [==============================] - 0s 28ms/step\n",
      "1/1 [==============================] - 0s 26ms/step\n",
      "1/1 [==============================] - 0s 22ms/step\n",
      "1/1 [==============================] - 0s 27ms/step\n",
      "1/1 [==============================] - 0s 29ms/step\n",
      "1/1 [==============================] - 0s 27ms/step\n",
      "1/1 [==============================] - 0s 26ms/step\n",
      "1/1 [==============================] - 0s 22ms/step\n",
      "1/1 [==============================] - 0s 22ms/step\n",
      "1/1 [==============================] - 0s 23ms/step\n",
      "1/1 [==============================] - 0s 25ms/step\n",
      "1/1 [==============================] - 0s 25ms/step\n",
      "1/1 [==============================] - 0s 26ms/step\n",
      "1/1 [==============================] - 0s 24ms/step\n",
      "1/1 [==============================] - 0s 24ms/step\n",
      "1/1 [==============================] - 0s 26ms/step\n",
      "1/1 [==============================] - 0s 24ms/step\n",
      "1/1 [==============================] - 0s 26ms/step\n",
      "1/1 [==============================] - 0s 28ms/step\n",
      "1/1 [==============================] - 0s 27ms/step\n",
      "1/1 [==============================] - 0s 27ms/step\n",
      "1/1 [==============================] - 0s 22ms/step\n",
      "1/1 [==============================] - 0s 25ms/step\n",
      "1/1 [==============================] - 0s 23ms/step\n",
      "1/1 [==============================] - 0s 22ms/step\n",
      "1/1 [==============================] - 0s 49ms/step\n",
      "1/1 [==============================] - 0s 23ms/step\n",
      "1/1 [==============================] - 0s 22ms/step\n",
      "1/1 [==============================] - 0s 21ms/step\n",
      "1/1 [==============================] - 0s 22ms/step\n",
      "1/1 [==============================] - 0s 23ms/step\n",
      "1/1 [==============================] - 0s 21ms/step\n",
      "1/1 [==============================] - 0s 23ms/step\n",
      "1/1 [==============================] - 0s 22ms/step\n",
      "1/1 [==============================] - 0s 36ms/step\n",
      "1/1 [==============================] - 0s 28ms/step\n",
      "1/1 [==============================] - 0s 24ms/step\n",
      "1/1 [==============================] - 0s 25ms/step\n",
      "1/1 [==============================] - 0s 22ms/step\n",
      "1/1 [==============================] - 0s 22ms/step\n",
      "1/1 [==============================] - 0s 24ms/step\n",
      "1/1 [==============================] - 0s 24ms/step\n",
      "1/1 [==============================] - 0s 22ms/step\n",
      "1/1 [==============================] - 0s 23ms/step\n",
      "1/1 [==============================] - 0s 21ms/step\n",
      "1/1 [==============================] - 0s 22ms/step\n",
      "1/1 [==============================] - 0s 21ms/step\n",
      "1/1 [==============================] - 0s 24ms/step\n",
      "1/1 [==============================] - 0s 31ms/step\n",
      "1/1 [==============================] - 0s 24ms/step\n",
      "1/1 [==============================] - 0s 23ms/step\n",
      "1/1 [==============================] - 0s 26ms/step\n",
      "1/1 [==============================] - 0s 21ms/step\n",
      "1/1 [==============================] - 0s 22ms/step\n",
      "1/1 [==============================] - 0s 22ms/step\n",
      "1/1 [==============================] - 0s 23ms/step\n",
      "1/1 [==============================] - 0s 22ms/step\n",
      "1/1 [==============================] - 0s 24ms/step\n",
      "1/1 [==============================] - 0s 24ms/step\n",
      "1/1 [==============================] - 0s 22ms/step\n",
      "1/1 [==============================] - 0s 37ms/step\n",
      "1/1 [==============================] - 0s 27ms/step\n",
      "1/1 [==============================] - 0s 24ms/step\n",
      "1/1 [==============================] - 0s 25ms/step\n",
      "1/1 [==============================] - 0s 30ms/step\n",
      "1/1 [==============================] - 0s 64ms/step\n",
      "1/1 [==============================] - 0s 48ms/step\n",
      "1/1 [==============================] - 0s 24ms/step\n",
      "1/1 [==============================] - 0s 33ms/step\n",
      "1/1 [==============================] - 0s 31ms/step\n",
      "1/1 [==============================] - 0s 22ms/step\n",
      "1/1 [==============================] - 0s 25ms/step\n",
      "1/1 [==============================] - 0s 23ms/step\n",
      "1/1 [==============================] - 0s 22ms/step\n",
      "1/1 [==============================] - 0s 28ms/step\n",
      "1/1 [==============================] - 0s 30ms/step\n",
      "1/1 [==============================] - 0s 24ms/step\n",
      "1/1 [==============================] - 0s 27ms/step\n",
      "1/1 [==============================] - 0s 22ms/step\n",
      "1/1 [==============================] - 0s 39ms/step\n",
      "1/1 [==============================] - 0s 24ms/step\n",
      "1/1 [==============================] - 0s 21ms/step\n",
      "1/1 [==============================] - 0s 22ms/step\n",
      "1/1 [==============================] - 0s 22ms/step\n",
      "1/1 [==============================] - 0s 23ms/step\n",
      "1/1 [==============================] - 0s 21ms/step\n",
      "1/1 [==============================] - 0s 23ms/step\n",
      "1/1 [==============================] - 0s 23ms/step\n",
      "1/1 [==============================] - 0s 36ms/step\n",
      "1/1 [==============================] - 0s 23ms/step\n",
      "1/1 [==============================] - 0s 27ms/step\n",
      "1/1 [==============================] - 0s 22ms/step\n",
      "1/1 [==============================] - 0s 30ms/step\n",
      "1/1 [==============================] - 0s 28ms/step\n",
      "1/1 [==============================] - 0s 23ms/step\n",
      "1/1 [==============================] - 0s 23ms/step\n",
      "1/1 [==============================] - 0s 54ms/step\n",
      "1/1 [==============================] - 0s 29ms/step\n",
      "1/1 [==============================] - 0s 24ms/step\n",
      "1/1 [==============================] - 0s 23ms/step\n",
      "1/1 [==============================] - 0s 22ms/step\n",
      "1/1 [==============================] - 0s 24ms/step\n",
      "1/1 [==============================] - 0s 22ms/step\n",
      "1/1 [==============================] - 0s 23ms/step\n",
      "1/1 [==============================] - 0s 21ms/step\n",
      "1/1 [==============================] - 0s 23ms/step\n",
      "1/1 [==============================] - 0s 24ms/step\n",
      "1/1 [==============================] - 0s 24ms/step\n",
      "1/1 [==============================] - 0s 23ms/step\n",
      "1/1 [==============================] - 0s 26ms/step\n",
      "1/1 [==============================] - 0s 22ms/step\n",
      "1/1 [==============================] - 0s 23ms/step\n",
      "1/1 [==============================] - 0s 27ms/step\n",
      "1/1 [==============================] - 0s 24ms/step\n",
      "1/1 [==============================] - 0s 23ms/step\n",
      "1/1 [==============================] - 0s 24ms/step\n",
      "1/1 [==============================] - 0s 29ms/step\n",
      "1/1 [==============================] - 0s 28ms/step\n",
      "1/1 [==============================] - 0s 40ms/step\n",
      "1/1 [==============================] - 0s 38ms/step\n",
      "1/1 [==============================] - 0s 35ms/step\n",
      "1/1 [==============================] - 0s 30ms/step\n",
      "1/1 [==============================] - 0s 34ms/step\n",
      "1/1 [==============================] - 0s 22ms/step\n",
      "1/1 [==============================] - 0s 70ms/step\n",
      "1/1 [==============================] - 0s 22ms/step\n",
      "1/1 [==============================] - 0s 26ms/step\n",
      "1/1 [==============================] - 0s 35ms/step\n",
      "1/1 [==============================] - 0s 32ms/step\n",
      "1/1 [==============================] - 0s 39ms/step\n",
      "1/1 [==============================] - 0s 90ms/step\n",
      "1/1 [==============================] - 0s 29ms/step\n",
      "1/1 [==============================] - 0s 28ms/step\n",
      "1/1 [==============================] - 0s 35ms/step\n",
      "1/1 [==============================] - 0s 24ms/step\n",
      "1/1 [==============================] - 0s 24ms/step\n",
      "1/1 [==============================] - 0s 23ms/step\n",
      "1/1 [==============================] - 0s 22ms/step\n",
      "1/1 [==============================] - 0s 33ms/step\n",
      "1/1 [==============================] - 0s 26ms/step\n",
      "1/1 [==============================] - 0s 27ms/step\n",
      "1/1 [==============================] - 0s 24ms/step\n",
      "1/1 [==============================] - 0s 31ms/step\n",
      "1/1 [==============================] - 0s 24ms/step\n",
      "1/1 [==============================] - 0s 37ms/step\n",
      "1/1 [==============================] - 0s 24ms/step\n",
      "1/1 [==============================] - 0s 24ms/step\n",
      "1/1 [==============================] - 0s 28ms/step\n",
      "1/1 [==============================] - 0s 29ms/step\n",
      "1/1 [==============================] - 0s 32ms/step\n",
      "1/1 [==============================] - 0s 32ms/step\n",
      "1/1 [==============================] - 0s 25ms/step\n",
      "1/1 [==============================] - 0s 86ms/step\n",
      "1/1 [==============================] - 0s 28ms/step\n",
      "1/1 [==============================] - 0s 27ms/step\n",
      "1/1 [==============================] - 0s 27ms/step\n",
      "1/1 [==============================] - 0s 28ms/step\n",
      "1/1 [==============================] - 0s 30ms/step\n",
      "1/1 [==============================] - 0s 31ms/step\n",
      "1/1 [==============================] - 0s 26ms/step\n",
      "1/1 [==============================] - 0s 28ms/step\n",
      "1/1 [==============================] - 0s 25ms/step\n",
      "1/1 [==============================] - 0s 34ms/step\n",
      "1/1 [==============================] - 0s 26ms/step\n",
      "1/1 [==============================] - 0s 25ms/step\n",
      "1/1 [==============================] - 0s 35ms/step\n",
      "1/1 [==============================] - 0s 33ms/step\n",
      "1/1 [==============================] - 0s 30ms/step\n",
      "1/1 [==============================] - 0s 24ms/step\n",
      "1/1 [==============================] - 0s 26ms/step\n",
      "1/1 [==============================] - 0s 27ms/step\n",
      "1/1 [==============================] - 0s 23ms/step\n",
      "1/1 [==============================] - 0s 23ms/step\n",
      "1/1 [==============================] - 0s 26ms/step\n",
      "1/1 [==============================] - 0s 26ms/step\n",
      "1/1 [==============================] - 0s 25ms/step\n",
      "1/1 [==============================] - 0s 25ms/step\n",
      "1/1 [==============================] - 0s 36ms/step\n",
      "1/1 [==============================] - 0s 39ms/step\n",
      "1/1 [==============================] - 0s 38ms/step\n",
      "1/1 [==============================] - 0s 24ms/step\n",
      "1/1 [==============================] - 0s 25ms/step\n",
      "1/1 [==============================] - 0s 28ms/step\n",
      "1/1 [==============================] - 0s 34ms/step\n",
      "1/1 [==============================] - 0s 49ms/step\n",
      "1/1 [==============================] - 0s 23ms/step\n",
      "1/1 [==============================] - 0s 24ms/step\n",
      "1/1 [==============================] - 0s 23ms/step\n",
      "1/1 [==============================] - 0s 21ms/step\n",
      "1/1 [==============================] - 0s 24ms/step\n",
      "1/1 [==============================] - 0s 23ms/step\n",
      "1/1 [==============================] - 0s 22ms/step\n",
      "1/1 [==============================] - 0s 21ms/step\n",
      "1/1 [==============================] - 0s 28ms/step\n",
      "1/1 [==============================] - 0s 23ms/step\n",
      "1/1 [==============================] - 0s 25ms/step\n",
      "1/1 [==============================] - 0s 25ms/step\n",
      "1/1 [==============================] - 0s 24ms/step\n",
      "1/1 [==============================] - 0s 30ms/step\n",
      "1/1 [==============================] - 0s 33ms/step\n",
      "1/1 [==============================] - 0s 24ms/step\n",
      "1/1 [==============================] - 0s 26ms/step\n",
      "1/1 [==============================] - 0s 25ms/step\n",
      "1/1 [==============================] - 0s 25ms/step\n",
      "1/1 [==============================] - 0s 42ms/step\n",
      "1/1 [==============================] - 0s 50ms/step\n",
      "1/1 [==============================] - 0s 43ms/step\n",
      "1/1 [==============================] - 0s 26ms/step\n",
      "1/1 [==============================] - 0s 25ms/step\n",
      "1/1 [==============================] - 0s 26ms/step\n",
      "1/1 [==============================] - 0s 21ms/step\n",
      "1/1 [==============================] - 0s 25ms/step\n",
      "1/1 [==============================] - 0s 25ms/step\n",
      "1/1 [==============================] - 0s 23ms/step\n",
      "1/1 [==============================] - 0s 21ms/step\n",
      "1/1 [==============================] - 0s 27ms/step\n",
      "1/1 [==============================] - 0s 22ms/step\n",
      "1/1 [==============================] - 0s 23ms/step\n",
      "1/1 [==============================] - 0s 23ms/step\n",
      "1/1 [==============================] - 0s 23ms/step\n",
      "1/1 [==============================] - 0s 22ms/step\n",
      "1/1 [==============================] - 0s 24ms/step\n",
      "1/1 [==============================] - 0s 22ms/step\n",
      "1/1 [==============================] - 0s 32ms/step\n",
      "1/1 [==============================] - 0s 24ms/step\n",
      "1/1 [==============================] - 0s 21ms/step\n",
      "1/1 [==============================] - 0s 23ms/step\n",
      "1/1 [==============================] - 0s 21ms/step\n",
      "1/1 [==============================] - 0s 22ms/step\n",
      "1/1 [==============================] - 0s 30ms/step\n",
      "1/1 [==============================] - 0s 57ms/step\n",
      "1/1 [==============================] - 0s 49ms/step\n",
      "1/1 [==============================] - 0s 25ms/step\n",
      "1/1 [==============================] - 0s 24ms/step\n",
      "1/1 [==============================] - 0s 23ms/step\n",
      "1/1 [==============================] - 0s 23ms/step\n",
      "1/1 [==============================] - 0s 21ms/step\n",
      "1/1 [==============================] - 0s 21ms/step\n",
      "1/1 [==============================] - 0s 22ms/step\n",
      "1/1 [==============================] - 0s 21ms/step\n",
      "1/1 [==============================] - 0s 25ms/step\n",
      "1/1 [==============================] - 0s 20ms/step\n",
      "1/1 [==============================] - 0s 23ms/step\n",
      "1/1 [==============================] - 0s 22ms/step\n",
      "1/1 [==============================] - 0s 23ms/step\n",
      "1/1 [==============================] - 0s 21ms/step\n",
      "1/1 [==============================] - 0s 24ms/step\n",
      "1/1 [==============================] - 0s 24ms/step\n",
      "1/1 [==============================] - 0s 28ms/step\n",
      "1/1 [==============================] - 0s 22ms/step\n",
      "1/1 [==============================] - 0s 23ms/step\n",
      "1/1 [==============================] - 0s 24ms/step\n",
      "1/1 [==============================] - 0s 22ms/step\n",
      "1/1 [==============================] - 0s 35ms/step\n",
      "1/1 [==============================] - 0s 66ms/step\n",
      "1/1 [==============================] - 0s 41ms/step\n",
      "1/1 [==============================] - 0s 26ms/step\n",
      "1/1 [==============================] - 0s 23ms/step\n",
      "1/1 [==============================] - 0s 24ms/step\n",
      "1/1 [==============================] - 0s 23ms/step\n",
      "1/1 [==============================] - 0s 29ms/step\n",
      "1/1 [==============================] - 0s 40ms/step\n",
      "1/1 [==============================] - 0s 30ms/step\n",
      "1/1 [==============================] - 0s 23ms/step\n",
      "1/1 [==============================] - 0s 27ms/step\n",
      "1/1 [==============================] - 0s 23ms/step\n",
      "1/1 [==============================] - 0s 26ms/step\n",
      "1/1 [==============================] - 0s 92ms/step\n",
      "1/1 [==============================] - 0s 28ms/step\n",
      "1/1 [==============================] - 0s 26ms/step\n",
      "1/1 [==============================] - 0s 26ms/step\n",
      "1/1 [==============================] - 0s 26ms/step\n",
      "1/1 [==============================] - 0s 37ms/step\n",
      "1/1 [==============================] - 0s 34ms/step\n",
      "1/1 [==============================] - 0s 22ms/step\n",
      "1/1 [==============================] - 0s 24ms/step\n",
      "1/1 [==============================] - 0s 25ms/step\n",
      "1/1 [==============================] - 0s 27ms/step\n",
      "1/1 [==============================] - 0s 34ms/step\n",
      "1/1 [==============================] - 0s 68ms/step\n",
      "1/1 [==============================] - 0s 35ms/step\n",
      "1/1 [==============================] - 0s 25ms/step\n",
      "1/1 [==============================] - 0s 22ms/step\n",
      "1/1 [==============================] - 0s 25ms/step\n",
      "1/1 [==============================] - 0s 22ms/step\n",
      "1/1 [==============================] - 0s 23ms/step\n",
      "1/1 [==============================] - 0s 22ms/step\n",
      "1/1 [==============================] - 0s 25ms/step\n",
      "1/1 [==============================] - 0s 23ms/step\n",
      "1/1 [==============================] - 0s 22ms/step\n",
      "1/1 [==============================] - 0s 25ms/step\n",
      "1/1 [==============================] - 0s 24ms/step\n",
      "1/1 [==============================] - 0s 26ms/step\n",
      "1/1 [==============================] - 0s 24ms/step\n",
      "1/1 [==============================] - 0s 25ms/step\n",
      "1/1 [==============================] - 0s 22ms/step\n",
      "1/1 [==============================] - 0s 26ms/step\n",
      "1/1 [==============================] - 0s 22ms/step\n",
      "1/1 [==============================] - 0s 22ms/step\n",
      "1/1 [==============================] - 0s 27ms/step\n",
      "1/1 [==============================] - 0s 23ms/step\n",
      "1/1 [==============================] - 0s 30ms/step\n",
      "1/1 [==============================] - 0s 47ms/step\n",
      "1/1 [==============================] - 0s 53ms/step\n",
      "1/1 [==============================] - 0s 40ms/step\n",
      "1/1 [==============================] - 0s 23ms/step\n",
      "1/1 [==============================] - 0s 42ms/step\n",
      "1/1 [==============================] - 0s 23ms/step\n",
      "1/1 [==============================] - 0s 23ms/step\n",
      "1/1 [==============================] - 0s 23ms/step\n",
      "1/1 [==============================] - 0s 23ms/step\n",
      "1/1 [==============================] - 0s 22ms/step\n",
      "1/1 [==============================] - 0s 29ms/step\n",
      "1/1 [==============================] - 0s 27ms/step\n",
      "1/1 [==============================] - 0s 26ms/step\n",
      "1/1 [==============================] - 0s 22ms/step\n",
      "1/1 [==============================] - 0s 22ms/step\n",
      "1/1 [==============================] - 0s 23ms/step\n",
      "1/1 [==============================] - 0s 22ms/step\n",
      "1/1 [==============================] - 0s 22ms/step\n",
      "1/1 [==============================] - 0s 23ms/step\n",
      "1/1 [==============================] - 0s 22ms/step\n",
      "1/1 [==============================] - 0s 23ms/step\n",
      "1/1 [==============================] - 0s 24ms/step\n",
      "1/1 [==============================] - 0s 24ms/step\n",
      "1/1 [==============================] - 0s 23ms/step\n",
      "1/1 [==============================] - 0s 24ms/step\n",
      "1/1 [==============================] - 0s 57ms/step\n",
      "1/1 [==============================] - 0s 25ms/step\n",
      "1/1 [==============================] - 0s 24ms/step\n",
      "1/1 [==============================] - 0s 22ms/step\n",
      "1/1 [==============================] - 0s 24ms/step\n",
      "1/1 [==============================] - 0s 23ms/step\n",
      "1/1 [==============================] - 0s 22ms/step\n",
      "1/1 [==============================] - 0s 23ms/step\n",
      "1/1 [==============================] - 0s 23ms/step\n",
      "1/1 [==============================] - 0s 24ms/step\n",
      "1/1 [==============================] - 0s 23ms/step\n",
      "1/1 [==============================] - 0s 22ms/step\n",
      "1/1 [==============================] - 0s 23ms/step\n",
      "1/1 [==============================] - 0s 22ms/step\n",
      "1/1 [==============================] - 0s 24ms/step\n",
      "1/1 [==============================] - 0s 24ms/step\n",
      "1/1 [==============================] - 0s 24ms/step\n",
      "1/1 [==============================] - 0s 22ms/step\n",
      "1/1 [==============================] - 0s 23ms/step\n",
      "1/1 [==============================] - 0s 21ms/step\n",
      "1/1 [==============================] - 0s 24ms/step\n",
      "1/1 [==============================] - 0s 22ms/step\n",
      "1/1 [==============================] - 0s 22ms/step\n",
      "1/1 [==============================] - 0s 22ms/step\n",
      "1/1 [==============================] - 0s 27ms/step\n",
      "1/1 [==============================] - 0s 25ms/step\n",
      "1/1 [==============================] - 0s 22ms/step\n",
      "1/1 [==============================] - 0s 24ms/step\n",
      "1/1 [==============================] - 0s 24ms/step\n",
      "1/1 [==============================] - 0s 24ms/step\n",
      "1/1 [==============================] - 0s 25ms/step\n",
      "1/1 [==============================] - 0s 23ms/step\n",
      "1/1 [==============================] - 0s 25ms/step\n",
      "1/1 [==============================] - 0s 24ms/step\n",
      "1/1 [==============================] - 0s 24ms/step\n",
      "1/1 [==============================] - 0s 25ms/step\n",
      "1/1 [==============================] - 0s 23ms/step\n",
      "1/1 [==============================] - 0s 23ms/step\n",
      "1/1 [==============================] - 0s 23ms/step\n",
      "1/1 [==============================] - 0s 22ms/step\n",
      "1/1 [==============================] - 0s 23ms/step\n",
      "1/1 [==============================] - 0s 23ms/step\n",
      "1/1 [==============================] - 0s 23ms/step\n",
      "1/1 [==============================] - 0s 22ms/step\n",
      "1/1 [==============================] - 0s 22ms/step\n",
      "1/1 [==============================] - 0s 21ms/step\n",
      "1/1 [==============================] - 0s 23ms/step\n",
      "1/1 [==============================] - 0s 21ms/step\n",
      "1/1 [==============================] - 0s 22ms/step\n",
      "1/1 [==============================] - 0s 60ms/step\n",
      "1/1 [==============================] - 0s 26ms/step\n",
      "1/1 [==============================] - 0s 22ms/step\n",
      "1/1 [==============================] - 0s 23ms/step\n",
      "1/1 [==============================] - 0s 25ms/step\n",
      "1/1 [==============================] - 0s 26ms/step\n",
      "1/1 [==============================] - 0s 24ms/step\n",
      "1/1 [==============================] - 0s 23ms/step\n",
      "1/1 [==============================] - 0s 23ms/step\n",
      "1/1 [==============================] - 0s 24ms/step\n",
      "1/1 [==============================] - 0s 22ms/step\n",
      "1/1 [==============================] - 0s 23ms/step\n",
      "1/1 [==============================] - 0s 22ms/step\n",
      "1/1 [==============================] - 0s 24ms/step\n",
      "1/1 [==============================] - 0s 22ms/step\n",
      "1/1 [==============================] - 0s 22ms/step\n",
      "1/1 [==============================] - 0s 22ms/step\n",
      "1/1 [==============================] - 0s 24ms/step\n",
      "1/1 [==============================] - 0s 22ms/step\n",
      "1/1 [==============================] - 0s 24ms/step\n",
      "1/1 [==============================] - 0s 23ms/step\n",
      "1/1 [==============================] - 0s 22ms/step\n",
      "1/1 [==============================] - 0s 30ms/step\n",
      "1/1 [==============================] - 0s 43ms/step\n",
      "1/1 [==============================] - 0s 21ms/step\n",
      "1/1 [==============================] - 0s 23ms/step\n",
      "1/1 [==============================] - 0s 25ms/step\n",
      "1/1 [==============================] - 0s 24ms/step\n",
      "1/1 [==============================] - 0s 22ms/step\n",
      "1/1 [==============================] - 0s 26ms/step\n",
      "1/1 [==============================] - 0s 22ms/step\n",
      "1/1 [==============================] - 0s 23ms/step\n",
      "1/1 [==============================] - 0s 25ms/step\n",
      "1/1 [==============================] - 0s 22ms/step\n",
      "1/1 [==============================] - 0s 22ms/step\n",
      "1/1 [==============================] - 0s 22ms/step\n",
      "1/1 [==============================] - 0s 22ms/step\n",
      "1/1 [==============================] - 0s 23ms/step\n",
      "1/1 [==============================] - 0s 22ms/step\n",
      "1/1 [==============================] - 0s 24ms/step\n",
      "1/1 [==============================] - 0s 24ms/step\n",
      "1/1 [==============================] - 0s 23ms/step\n",
      "1/1 [==============================] - 0s 22ms/step\n",
      "1/1 [==============================] - 0s 25ms/step\n",
      "1/1 [==============================] - 0s 27ms/step\n",
      "1/1 [==============================] - 0s 35ms/step\n",
      "1/1 [==============================] - 0s 22ms/step\n",
      "1/1 [==============================] - 0s 22ms/step\n",
      "1/1 [==============================] - 0s 23ms/step\n",
      "1/1 [==============================] - 0s 22ms/step\n",
      "1/1 [==============================] - 0s 21ms/step\n",
      "1/1 [==============================] - 0s 22ms/step\n",
      "1/1 [==============================] - 0s 24ms/step\n",
      "1/1 [==============================] - 0s 25ms/step\n",
      "1/1 [==============================] - 0s 24ms/step\n",
      "1/1 [==============================] - 0s 26ms/step\n",
      "1/1 [==============================] - 0s 21ms/step\n",
      "1/1 [==============================] - 0s 22ms/step\n",
      "1/1 [==============================] - 0s 22ms/step\n",
      "1/1 [==============================] - 0s 23ms/step\n",
      "1/1 [==============================] - 0s 25ms/step\n",
      "1/1 [==============================] - 0s 22ms/step\n",
      "1/1 [==============================] - 0s 22ms/step\n",
      "1/1 [==============================] - 0s 24ms/step\n",
      "1/1 [==============================] - 0s 24ms/step\n",
      "1/1 [==============================] - 0s 23ms/step\n",
      "1/1 [==============================] - 0s 22ms/step\n",
      "1/1 [==============================] - 0s 23ms/step\n",
      "1/1 [==============================] - 0s 23ms/step\n",
      "1/1 [==============================] - 0s 56ms/step\n",
      "1/1 [==============================] - 0s 34ms/step\n",
      "1/1 [==============================] - 0s 23ms/step\n",
      "1/1 [==============================] - 0s 23ms/step\n",
      "1/1 [==============================] - 0s 24ms/step\n",
      "1/1 [==============================] - 0s 23ms/step\n",
      "1/1 [==============================] - 0s 24ms/step\n",
      "1/1 [==============================] - 0s 23ms/step\n",
      "1/1 [==============================] - 0s 23ms/step\n",
      "1/1 [==============================] - 0s 22ms/step\n",
      "1/1 [==============================] - 0s 23ms/step\n",
      "1/1 [==============================] - 0s 22ms/step\n",
      "1/1 [==============================] - 0s 22ms/step\n",
      "1/1 [==============================] - 0s 23ms/step\n",
      "1/1 [==============================] - 0s 22ms/step\n",
      "1/1 [==============================] - 0s 21ms/step\n",
      "1/1 [==============================] - 0s 22ms/step\n",
      "1/1 [==============================] - 0s 22ms/step\n",
      "1/1 [==============================] - 0s 23ms/step\n",
      "1/1 [==============================] - 0s 21ms/step\n",
      "1/1 [==============================] - 0s 24ms/step\n",
      "1/1 [==============================] - 0s 48ms/step\n",
      "1/1 [==============================] - 0s 40ms/step\n",
      "1/1 [==============================] - 0s 24ms/step\n",
      "1/1 [==============================] - 0s 22ms/step\n",
      "1/1 [==============================] - 0s 22ms/step\n",
      "1/1 [==============================] - 0s 22ms/step\n",
      "1/1 [==============================] - 0s 21ms/step\n",
      "1/1 [==============================] - 0s 22ms/step\n",
      "1/1 [==============================] - 0s 23ms/step\n",
      "1/1 [==============================] - 0s 25ms/step\n",
      "1/1 [==============================] - 0s 22ms/step\n",
      "1/1 [==============================] - 0s 22ms/step\n",
      "1/1 [==============================] - 0s 24ms/step\n",
      "1/1 [==============================] - 0s 24ms/step\n",
      "1/1 [==============================] - 0s 21ms/step\n",
      "1/1 [==============================] - 0s 22ms/step\n",
      "1/1 [==============================] - 0s 23ms/step\n",
      "1/1 [==============================] - 0s 24ms/step\n",
      "1/1 [==============================] - 0s 21ms/step\n",
      "1/1 [==============================] - 0s 25ms/step\n",
      "1/1 [==============================] - 0s 21ms/step\n",
      "1/1 [==============================] - 0s 21ms/step\n",
      "1/1 [==============================] - 0s 52ms/step\n",
      "1/1 [==============================] - 0s 37ms/step\n",
      "1/1 [==============================] - 0s 23ms/step\n",
      "1/1 [==============================] - 0s 23ms/step\n",
      "1/1 [==============================] - 0s 24ms/step\n",
      "1/1 [==============================] - 0s 22ms/step\n",
      "1/1 [==============================] - 0s 22ms/step\n",
      "1/1 [==============================] - 0s 22ms/step\n",
      "1/1 [==============================] - 0s 22ms/step\n",
      "1/1 [==============================] - 0s 23ms/step\n",
      "1/1 [==============================] - 0s 23ms/step\n",
      "1/1 [==============================] - 0s 22ms/step\n",
      "1/1 [==============================] - 0s 22ms/step\n",
      "1/1 [==============================] - 0s 22ms/step\n",
      "1/1 [==============================] - 0s 22ms/step\n",
      "1/1 [==============================] - 0s 22ms/step\n",
      "1/1 [==============================] - 0s 22ms/step\n",
      "1/1 [==============================] - 0s 25ms/step\n",
      "1/1 [==============================] - 0s 22ms/step\n",
      "1/1 [==============================] - 0s 27ms/step\n",
      "1/1 [==============================] - 0s 24ms/step\n",
      "1/1 [==============================] - 0s 22ms/step\n",
      "1/1 [==============================] - 0s 25ms/step\n",
      "1/1 [==============================] - 0s 40ms/step\n",
      "1/1 [==============================] - 0s 25ms/step\n",
      "1/1 [==============================] - 0s 24ms/step\n",
      "1/1 [==============================] - 0s 21ms/step\n",
      "1/1 [==============================] - 0s 22ms/step\n",
      "1/1 [==============================] - 0s 22ms/step\n",
      "1/1 [==============================] - 0s 24ms/step\n",
      "1/1 [==============================] - 0s 25ms/step\n",
      "1/1 [==============================] - 0s 26ms/step\n",
      "1/1 [==============================] - 0s 23ms/step\n",
      "1/1 [==============================] - 0s 23ms/step\n",
      "1/1 [==============================] - 0s 24ms/step\n",
      "1/1 [==============================] - 0s 23ms/step\n",
      "1/1 [==============================] - 0s 23ms/step\n",
      "1/1 [==============================] - 0s 23ms/step\n",
      "1/1 [==============================] - 0s 22ms/step\n",
      "1/1 [==============================] - 0s 22ms/step\n",
      "1/1 [==============================] - 0s 24ms/step\n",
      "1/1 [==============================] - 0s 24ms/step\n",
      "1/1 [==============================] - 0s 24ms/step\n",
      "1/1 [==============================] - 0s 45ms/step\n",
      "1/1 [==============================] - 0s 26ms/step\n",
      "1/1 [==============================] - 0s 25ms/step\n",
      "1/1 [==============================] - 0s 24ms/step\n",
      "1/1 [==============================] - 0s 23ms/step\n",
      "1/1 [==============================] - 0s 21ms/step\n",
      "1/1 [==============================] - 0s 24ms/step\n",
      "1/1 [==============================] - 0s 24ms/step\n",
      "1/1 [==============================] - 0s 24ms/step\n",
      "1/1 [==============================] - 0s 21ms/step\n",
      "1/1 [==============================] - 0s 23ms/step\n",
      "1/1 [==============================] - 0s 24ms/step\n",
      "1/1 [==============================] - 0s 43ms/step\n",
      "1/1 [==============================] - 0s 31ms/step\n",
      "1/1 [==============================] - 0s 24ms/step\n",
      "1/1 [==============================] - 0s 23ms/step\n",
      "1/1 [==============================] - 0s 24ms/step\n",
      "1/1 [==============================] - 0s 23ms/step\n",
      "1/1 [==============================] - 0s 21ms/step\n",
      "1/1 [==============================] - 0s 23ms/step\n",
      "1/1 [==============================] - 0s 24ms/step\n",
      "1/1 [==============================] - 0s 24ms/step\n",
      "1/1 [==============================] - 0s 91ms/step\n",
      "1/1 [==============================] - 0s 41ms/step\n",
      "1/1 [==============================] - 0s 24ms/step\n",
      "1/1 [==============================] - 0s 23ms/step\n",
      "1/1 [==============================] - 0s 22ms/step\n",
      "1/1 [==============================] - 0s 25ms/step\n",
      "1/1 [==============================] - 0s 25ms/step\n",
      "1/1 [==============================] - 0s 24ms/step\n",
      "1/1 [==============================] - 0s 24ms/step\n",
      "1/1 [==============================] - 0s 59ms/step\n",
      "1/1 [==============================] - 0s 22ms/step\n",
      "1/1 [==============================] - 0s 24ms/step\n",
      "1/1 [==============================] - 0s 24ms/step\n",
      "1/1 [==============================] - 0s 26ms/step\n",
      "1/1 [==============================] - 0s 25ms/step\n",
      "1/1 [==============================] - 0s 21ms/step\n",
      "1/1 [==============================] - 0s 22ms/step\n",
      "1/1 [==============================] - 0s 25ms/step\n",
      "1/1 [==============================] - 0s 24ms/step\n",
      "1/1 [==============================] - 0s 24ms/step\n",
      "1/1 [==============================] - 0s 24ms/step\n",
      "1/1 [==============================] - 0s 54ms/step\n",
      "1/1 [==============================] - 0s 30ms/step\n",
      "1/1 [==============================] - 0s 23ms/step\n",
      "1/1 [==============================] - 0s 23ms/step\n",
      "1/1 [==============================] - 0s 25ms/step\n",
      "1/1 [==============================] - 0s 23ms/step\n",
      "1/1 [==============================] - 0s 25ms/step\n",
      "1/1 [==============================] - 0s 23ms/step\n",
      "1/1 [==============================] - 0s 22ms/step\n",
      "1/1 [==============================] - 0s 24ms/step\n",
      "1/1 [==============================] - 0s 23ms/step\n",
      "1/1 [==============================] - 0s 22ms/step\n",
      "1/1 [==============================] - 0s 22ms/step\n",
      "1/1 [==============================] - 0s 22ms/step\n",
      "1/1 [==============================] - 0s 23ms/step\n",
      "1/1 [==============================] - 0s 22ms/step\n",
      "1/1 [==============================] - 0s 24ms/step\n",
      "1/1 [==============================] - 0s 22ms/step\n",
      "1/1 [==============================] - 0s 23ms/step\n",
      "1/1 [==============================] - 0s 23ms/step\n",
      "1/1 [==============================] - 0s 34ms/step\n",
      "1/1 [==============================] - 0s 34ms/step\n",
      "1/1 [==============================] - 0s 25ms/step\n",
      "1/1 [==============================] - 0s 22ms/step\n",
      "1/1 [==============================] - 0s 21ms/step\n",
      "1/1 [==============================] - 0s 23ms/step\n",
      "1/1 [==============================] - 0s 22ms/step\n",
      "1/1 [==============================] - 0s 26ms/step\n",
      "1/1 [==============================] - 0s 23ms/step\n",
      "1/1 [==============================] - 0s 22ms/step\n",
      "1/1 [==============================] - 0s 23ms/step\n",
      "1/1 [==============================] - 0s 24ms/step\n",
      "1/1 [==============================] - 0s 22ms/step\n",
      "1/1 [==============================] - 0s 22ms/step\n",
      "1/1 [==============================] - 0s 25ms/step\n",
      "1/1 [==============================] - 0s 25ms/step\n",
      "1/1 [==============================] - 0s 21ms/step\n",
      "1/1 [==============================] - 0s 22ms/step\n",
      "1/1 [==============================] - 0s 25ms/step\n",
      "1/1 [==============================] - 0s 22ms/step\n",
      "1/1 [==============================] - 0s 56ms/step\n",
      "1/1 [==============================] - 0s 24ms/step\n",
      "1/1 [==============================] - 0s 23ms/step\n",
      "1/1 [==============================] - 0s 26ms/step\n",
      "1/1 [==============================] - 0s 22ms/step\n",
      "1/1 [==============================] - 0s 24ms/step\n",
      "1/1 [==============================] - 0s 21ms/step\n",
      "1/1 [==============================] - 0s 23ms/step\n",
      "1/1 [==============================] - 0s 23ms/step\n",
      "1/1 [==============================] - 0s 21ms/step\n",
      "1/1 [==============================] - 0s 25ms/step\n",
      "1/1 [==============================] - 0s 27ms/step\n",
      "1/1 [==============================] - 0s 22ms/step\n",
      "1/1 [==============================] - 0s 24ms/step\n",
      "1/1 [==============================] - 0s 23ms/step\n",
      "1/1 [==============================] - 0s 21ms/step\n",
      "1/1 [==============================] - 0s 22ms/step\n",
      "1/1 [==============================] - 0s 21ms/step\n",
      "1/1 [==============================] - 0s 22ms/step\n",
      "1/1 [==============================] - 0s 23ms/step\n",
      "1/1 [==============================] - 0s 53ms/step\n",
      "1/1 [==============================] - 0s 25ms/step\n",
      "1/1 [==============================] - 0s 25ms/step\n",
      "1/1 [==============================] - 0s 24ms/step\n",
      "1/1 [==============================] - 0s 24ms/step\n",
      "1/1 [==============================] - 0s 22ms/step\n",
      "1/1 [==============================] - 0s 23ms/step\n",
      "1/1 [==============================] - 0s 23ms/step\n",
      "1/1 [==============================] - 0s 22ms/step\n",
      "1/1 [==============================] - 0s 24ms/step\n",
      "1/1 [==============================] - 0s 24ms/step\n",
      "1/1 [==============================] - 0s 21ms/step\n",
      "1/1 [==============================] - 0s 22ms/step\n",
      "1/1 [==============================] - 0s 22ms/step\n",
      "1/1 [==============================] - 0s 23ms/step\n",
      "1/1 [==============================] - 0s 22ms/step\n",
      "1/1 [==============================] - 0s 22ms/step\n",
      "1/1 [==============================] - 0s 23ms/step\n",
      "1/1 [==============================] - 0s 25ms/step\n",
      "1/1 [==============================] - 0s 21ms/step\n",
      "1/1 [==============================] - 0s 52ms/step\n",
      "1/1 [==============================] - 0s 46ms/step\n",
      "1/1 [==============================] - 0s 27ms/step\n",
      "1/1 [==============================] - 0s 24ms/step\n",
      "1/1 [==============================] - 0s 22ms/step\n",
      "1/1 [==============================] - 0s 23ms/step\n",
      "1/1 [==============================] - 0s 24ms/step\n",
      "1/1 [==============================] - 0s 23ms/step\n",
      "1/1 [==============================] - 0s 23ms/step\n",
      "1/1 [==============================] - 0s 40ms/step\n",
      "1/1 [==============================] - 0s 23ms/step\n",
      "1/1 [==============================] - 0s 24ms/step\n",
      "1/1 [==============================] - 0s 22ms/step\n",
      "1/1 [==============================] - 0s 22ms/step\n",
      "1/1 [==============================] - 0s 23ms/step\n",
      "1/1 [==============================] - 0s 24ms/step\n",
      "1/1 [==============================] - 0s 27ms/step\n",
      "1/1 [==============================] - 0s 24ms/step\n",
      "1/1 [==============================] - 0s 28ms/step\n",
      "1/1 [==============================] - 0s 36ms/step\n",
      "1/1 [==============================] - 0s 26ms/step\n",
      "1/1 [==============================] - 0s 47ms/step\n",
      "1/1 [==============================] - 0s 22ms/step\n",
      "1/1 [==============================] - 0s 22ms/step\n",
      "1/1 [==============================] - 0s 22ms/step\n",
      "1/1 [==============================] - 0s 23ms/step\n",
      "1/1 [==============================] - 0s 22ms/step\n",
      "1/1 [==============================] - 0s 26ms/step\n",
      "1/1 [==============================] - 0s 24ms/step\n",
      "1/1 [==============================] - 0s 24ms/step\n",
      "1/1 [==============================] - 0s 23ms/step\n",
      "1/1 [==============================] - 0s 25ms/step\n",
      "1/1 [==============================] - 0s 22ms/step\n",
      "1/1 [==============================] - 0s 22ms/step\n",
      "1/1 [==============================] - 0s 21ms/step\n",
      "1/1 [==============================] - 0s 23ms/step\n",
      "1/1 [==============================] - 0s 24ms/step\n",
      "1/1 [==============================] - 0s 25ms/step\n",
      "1/1 [==============================] - 0s 24ms/step\n",
      "1/1 [==============================] - 0s 22ms/step\n",
      "1/1 [==============================] - 0s 59ms/step\n",
      "1/1 [==============================] - 0s 38ms/step\n",
      "1/1 [==============================] - 0s 27ms/step\n",
      "1/1 [==============================] - 0s 24ms/step\n",
      "1/1 [==============================] - 0s 24ms/step\n",
      "1/1 [==============================] - 0s 25ms/step\n",
      "1/1 [==============================] - 0s 25ms/step\n",
      "1/1 [==============================] - 0s 23ms/step\n",
      "1/1 [==============================] - 0s 22ms/step\n",
      "1/1 [==============================] - 0s 23ms/step\n",
      "1/1 [==============================] - 0s 23ms/step\n",
      "1/1 [==============================] - 0s 21ms/step\n",
      "1/1 [==============================] - 0s 26ms/step\n",
      "1/1 [==============================] - 0s 25ms/step\n",
      "1/1 [==============================] - 0s 22ms/step\n",
      "1/1 [==============================] - 0s 23ms/step\n",
      "1/1 [==============================] - 0s 23ms/step\n",
      "1/1 [==============================] - 0s 22ms/step\n",
      "1/1 [==============================] - 0s 21ms/step\n",
      "1/1 [==============================] - 0s 37ms/step\n",
      "1/1 [==============================] - 0s 28ms/step\n",
      "1/1 [==============================] - 0s 23ms/step\n",
      "1/1 [==============================] - 0s 21ms/step\n",
      "1/1 [==============================] - 0s 22ms/step\n",
      "1/1 [==============================] - 0s 23ms/step\n",
      "1/1 [==============================] - 0s 22ms/step\n",
      "1/1 [==============================] - 0s 25ms/step\n",
      "1/1 [==============================] - 0s 22ms/step\n",
      "1/1 [==============================] - 0s 21ms/step\n",
      "1/1 [==============================] - 0s 24ms/step\n",
      "1/1 [==============================] - 0s 23ms/step\n",
      "1/1 [==============================] - 0s 22ms/step\n",
      "1/1 [==============================] - 0s 24ms/step\n",
      "1/1 [==============================] - 0s 22ms/step\n",
      "1/1 [==============================] - 0s 23ms/step\n",
      "1/1 [==============================] - 0s 26ms/step\n",
      "1/1 [==============================] - 0s 22ms/step\n",
      "1/1 [==============================] - 0s 30ms/step\n",
      "1/1 [==============================] - 0s 45ms/step\n",
      "1/1 [==============================] - 0s 23ms/step\n",
      "1/1 [==============================] - 0s 21ms/step\n",
      "1/1 [==============================] - 0s 22ms/step\n",
      "1/1 [==============================] - 0s 25ms/step\n",
      "1/1 [==============================] - 0s 21ms/step\n",
      "1/1 [==============================] - 0s 22ms/step\n",
      "1/1 [==============================] - 0s 24ms/step\n",
      "1/1 [==============================] - 0s 24ms/step\n",
      "1/1 [==============================] - 0s 22ms/step\n",
      "1/1 [==============================] - 0s 22ms/step\n",
      "1/1 [==============================] - 0s 23ms/step\n",
      "1/1 [==============================] - 0s 21ms/step\n",
      "1/1 [==============================] - 0s 23ms/step\n",
      "1/1 [==============================] - 0s 21ms/step\n",
      "1/1 [==============================] - 0s 23ms/step\n",
      "1/1 [==============================] - 0s 25ms/step\n",
      "1/1 [==============================] - 0s 22ms/step\n",
      "1/1 [==============================] - 0s 25ms/step\n",
      "1/1 [==============================] - 0s 31ms/step\n",
      "1/1 [==============================] - 0s 24ms/step\n",
      "1/1 [==============================] - 0s 22ms/step\n",
      "1000\n",
      "0\n",
      "290\n"
     ]
    }
   ],
   "source": [
    "file_paths = []\n",
    "wrong_filenames = []\n",
    "count = 0\n",
    "file_idx = 0\n",
    "\n",
    "# make sure we start in the beginning\n",
    "test_dataset = image_dataset_from_directory(\n",
    "    test_dir,\n",
    "    image_size=(IMG_SIZE, IMG_SIZE),\n",
    "    batch_size=1,\n",
    "    shuffle=False\n",
    "    )\n",
    "    \n",
    "file_paths = test_dataset.file_paths\n",
    "for data_batch, labels_batch in test_dataset:\n",
    "\n",
    "    predictions = model.predict(data_batch).flatten()\n",
    "    predictions = predictions.round()\n",
    "    predictions = predictions.astype(int)\n",
    "    labels_batch = labels_batch.numpy()\n",
    "    #pred_str = np.array2string(predictions, separator=', ')\n",
    "    #label_str = np.array2string(labels_batch, separator=', ')\n",
    "    for i in range(len(data_batch)):\n",
    "        if labels_batch[i] != predictions[i]:\n",
    "            wrong_filenames.append(file_paths[file_idx])\n",
    "    file_idx += 1\n",
    "\n",
    "# print(f\"Predictions: {pred_str}\")\n",
    "# print(f\"Labels: {label_str}\")\n",
    "print(file_idx)\n",
    "print(count)\n",
    "print(len(wrong_filenames))"
   ]
  },
  {
   "cell_type": "code",
   "execution_count": 38,
   "metadata": {},
   "outputs": [
    {
     "name": "stdout",
     "output_type": "stream",
     "text": [
      "../../Generator/Datasets/Dataset_E/test/circle/circle_10.png\n",
      "../../Generator/Datasets/Dataset_E/test/circle/circle_105.png\n",
      "../../Generator/Datasets/Dataset_E/test/circle/circle_106.png\n",
      "../../Generator/Datasets/Dataset_E/test/circle/circle_108.png\n",
      "../../Generator/Datasets/Dataset_E/test/circle/circle_111.png\n",
      "../../Generator/Datasets/Dataset_E/test/circle/circle_112.png\n",
      "../../Generator/Datasets/Dataset_E/test/circle/circle_117.png\n",
      "../../Generator/Datasets/Dataset_E/test/circle/circle_123.png\n",
      "../../Generator/Datasets/Dataset_E/test/circle/circle_124.png\n",
      "../../Generator/Datasets/Dataset_E/test/circle/circle_125.png\n",
      "../../Generator/Datasets/Dataset_E/test/circle/circle_137.png\n",
      "../../Generator/Datasets/Dataset_E/test/circle/circle_139.png\n",
      "../../Generator/Datasets/Dataset_E/test/circle/circle_14.png\n",
      "../../Generator/Datasets/Dataset_E/test/circle/circle_142.png\n",
      "../../Generator/Datasets/Dataset_E/test/circle/circle_145.png\n",
      "../../Generator/Datasets/Dataset_E/test/circle/circle_15.png\n",
      "../../Generator/Datasets/Dataset_E/test/circle/circle_153.png\n",
      "../../Generator/Datasets/Dataset_E/test/circle/circle_154.png\n",
      "../../Generator/Datasets/Dataset_E/test/circle/circle_155.png\n",
      "../../Generator/Datasets/Dataset_E/test/circle/circle_158.png\n",
      "../../Generator/Datasets/Dataset_E/test/circle/circle_159.png\n",
      "../../Generator/Datasets/Dataset_E/test/circle/circle_160.png\n",
      "../../Generator/Datasets/Dataset_E/test/circle/circle_164.png\n",
      "../../Generator/Datasets/Dataset_E/test/circle/circle_170.png\n",
      "../../Generator/Datasets/Dataset_E/test/circle/circle_176.png\n",
      "../../Generator/Datasets/Dataset_E/test/circle/circle_181.png\n",
      "../../Generator/Datasets/Dataset_E/test/circle/circle_185.png\n",
      "../../Generator/Datasets/Dataset_E/test/circle/circle_187.png\n",
      "../../Generator/Datasets/Dataset_E/test/circle/circle_188.png\n",
      "../../Generator/Datasets/Dataset_E/test/circle/circle_19.png\n",
      "../../Generator/Datasets/Dataset_E/test/circle/circle_192.png\n",
      "../../Generator/Datasets/Dataset_E/test/circle/circle_193.png\n",
      "../../Generator/Datasets/Dataset_E/test/circle/circle_203.png\n",
      "../../Generator/Datasets/Dataset_E/test/circle/circle_204.png\n",
      "../../Generator/Datasets/Dataset_E/test/circle/circle_209.png\n",
      "../../Generator/Datasets/Dataset_E/test/circle/circle_210.png\n",
      "../../Generator/Datasets/Dataset_E/test/circle/circle_212.png\n",
      "../../Generator/Datasets/Dataset_E/test/circle/circle_213.png\n",
      "../../Generator/Datasets/Dataset_E/test/circle/circle_215.png\n",
      "../../Generator/Datasets/Dataset_E/test/circle/circle_218.png\n",
      "../../Generator/Datasets/Dataset_E/test/circle/circle_22.png\n",
      "../../Generator/Datasets/Dataset_E/test/circle/circle_220.png\n",
      "../../Generator/Datasets/Dataset_E/test/circle/circle_229.png\n",
      "../../Generator/Datasets/Dataset_E/test/circle/circle_230.png\n",
      "../../Generator/Datasets/Dataset_E/test/circle/circle_232.png\n",
      "../../Generator/Datasets/Dataset_E/test/circle/circle_235.png\n",
      "../../Generator/Datasets/Dataset_E/test/circle/circle_239.png\n",
      "../../Generator/Datasets/Dataset_E/test/circle/circle_241.png\n",
      "../../Generator/Datasets/Dataset_E/test/circle/circle_245.png\n",
      "../../Generator/Datasets/Dataset_E/test/circle/circle_247.png\n",
      "../../Generator/Datasets/Dataset_E/test/circle/circle_25.png\n",
      "../../Generator/Datasets/Dataset_E/test/circle/circle_27.png\n",
      "../../Generator/Datasets/Dataset_E/test/circle/circle_28.png\n",
      "../../Generator/Datasets/Dataset_E/test/circle/circle_31.png\n",
      "../../Generator/Datasets/Dataset_E/test/circle/circle_34.png\n",
      "../../Generator/Datasets/Dataset_E/test/circle/circle_4.png\n",
      "../../Generator/Datasets/Dataset_E/test/circle/circle_41.png\n",
      "../../Generator/Datasets/Dataset_E/test/circle/circle_45.png\n",
      "../../Generator/Datasets/Dataset_E/test/circle/circle_47.png\n",
      "../../Generator/Datasets/Dataset_E/test/circle/circle_52.png\n",
      "../../Generator/Datasets/Dataset_E/test/circle/circle_57.png\n",
      "../../Generator/Datasets/Dataset_E/test/circle/circle_60.png\n",
      "../../Generator/Datasets/Dataset_E/test/circle/circle_63.png\n",
      "../../Generator/Datasets/Dataset_E/test/circle/circle_67.png\n",
      "../../Generator/Datasets/Dataset_E/test/circle/circle_69.png\n",
      "../../Generator/Datasets/Dataset_E/test/circle/circle_71.png\n",
      "../../Generator/Datasets/Dataset_E/test/circle/circle_73.png\n",
      "../../Generator/Datasets/Dataset_E/test/circle/circle_77.png\n",
      "../../Generator/Datasets/Dataset_E/test/circle/circle_79.png\n",
      "../../Generator/Datasets/Dataset_E/test/circle/circle_85.png\n",
      "../../Generator/Datasets/Dataset_E/test/circle/circle_86.png\n",
      "../../Generator/Datasets/Dataset_E/test/circle/circle_89.png\n",
      "../../Generator/Datasets/Dataset_E/test/circle/circle_9.png\n",
      "../../Generator/Datasets/Dataset_E/test/circle/circle_91.png\n",
      "../../Generator/Datasets/Dataset_E/test/circle/circle_94.png\n",
      "../../Generator/Datasets/Dataset_E/test/circle/circle_98.png\n",
      "../../Generator/Datasets/Dataset_E/test/circle/square_circle_101.png\n",
      "../../Generator/Datasets/Dataset_E/test/circle/square_circle_109.png\n",
      "../../Generator/Datasets/Dataset_E/test/circle/square_circle_11.png\n",
      "../../Generator/Datasets/Dataset_E/test/circle/square_circle_123.png\n",
      "../../Generator/Datasets/Dataset_E/test/circle/square_circle_125.png\n",
      "../../Generator/Datasets/Dataset_E/test/circle/square_circle_141.png\n",
      "../../Generator/Datasets/Dataset_E/test/circle/square_circle_144.png\n",
      "../../Generator/Datasets/Dataset_E/test/circle/square_circle_149.png\n",
      "../../Generator/Datasets/Dataset_E/test/circle/square_circle_156.png\n",
      "../../Generator/Datasets/Dataset_E/test/circle/square_circle_157.png\n",
      "../../Generator/Datasets/Dataset_E/test/circle/square_circle_159.png\n",
      "../../Generator/Datasets/Dataset_E/test/circle/square_circle_161.png\n",
      "../../Generator/Datasets/Dataset_E/test/circle/square_circle_166.png\n",
      "../../Generator/Datasets/Dataset_E/test/circle/square_circle_17.png\n",
      "../../Generator/Datasets/Dataset_E/test/circle/square_circle_174.png\n",
      "../../Generator/Datasets/Dataset_E/test/circle/square_circle_176.png\n",
      "../../Generator/Datasets/Dataset_E/test/circle/square_circle_178.png\n",
      "../../Generator/Datasets/Dataset_E/test/circle/square_circle_183.png\n",
      "../../Generator/Datasets/Dataset_E/test/circle/square_circle_188.png\n",
      "../../Generator/Datasets/Dataset_E/test/circle/square_circle_190.png\n",
      "../../Generator/Datasets/Dataset_E/test/circle/square_circle_196.png\n",
      "../../Generator/Datasets/Dataset_E/test/circle/square_circle_197.png\n",
      "../../Generator/Datasets/Dataset_E/test/circle/square_circle_203.png\n",
      "../../Generator/Datasets/Dataset_E/test/circle/square_circle_206.png\n",
      "../../Generator/Datasets/Dataset_E/test/circle/square_circle_209.png\n",
      "../../Generator/Datasets/Dataset_E/test/circle/square_circle_213.png\n",
      "../../Generator/Datasets/Dataset_E/test/circle/square_circle_215.png\n",
      "../../Generator/Datasets/Dataset_E/test/circle/square_circle_219.png\n",
      "../../Generator/Datasets/Dataset_E/test/circle/square_circle_234.png\n",
      "../../Generator/Datasets/Dataset_E/test/circle/square_circle_238.png\n",
      "../../Generator/Datasets/Dataset_E/test/circle/square_circle_245.png\n",
      "../../Generator/Datasets/Dataset_E/test/circle/square_circle_247.png\n",
      "../../Generator/Datasets/Dataset_E/test/circle/square_circle_26.png\n",
      "../../Generator/Datasets/Dataset_E/test/circle/square_circle_32.png\n",
      "../../Generator/Datasets/Dataset_E/test/circle/square_circle_35.png\n",
      "../../Generator/Datasets/Dataset_E/test/circle/square_circle_42.png\n",
      "../../Generator/Datasets/Dataset_E/test/circle/square_circle_47.png\n",
      "../../Generator/Datasets/Dataset_E/test/circle/square_circle_51.png\n",
      "../../Generator/Datasets/Dataset_E/test/circle/square_circle_52.png\n",
      "../../Generator/Datasets/Dataset_E/test/circle/square_circle_57.png\n",
      "../../Generator/Datasets/Dataset_E/test/circle/square_circle_6.png\n",
      "../../Generator/Datasets/Dataset_E/test/circle/square_circle_62.png\n",
      "../../Generator/Datasets/Dataset_E/test/circle/square_circle_64.png\n",
      "../../Generator/Datasets/Dataset_E/test/circle/square_circle_67.png\n",
      "../../Generator/Datasets/Dataset_E/test/circle/square_circle_69.png\n",
      "../../Generator/Datasets/Dataset_E/test/circle/square_circle_7.png\n",
      "../../Generator/Datasets/Dataset_E/test/circle/square_circle_71.png\n",
      "../../Generator/Datasets/Dataset_E/test/circle/square_circle_72.png\n",
      "../../Generator/Datasets/Dataset_E/test/circle/square_circle_78.png\n",
      "../../Generator/Datasets/Dataset_E/test/circle/square_circle_81.png\n",
      "../../Generator/Datasets/Dataset_E/test/circle/square_circle_86.png\n",
      "../../Generator/Datasets/Dataset_E/test/circle/square_circle_89.png\n",
      "../../Generator/Datasets/Dataset_E/test/circle/square_circle_9.png\n",
      "../../Generator/Datasets/Dataset_E/test/circle/square_circle_97.png\n",
      "../../Generator/Datasets/Dataset_E/test/no_circle/square_100.png\n",
      "../../Generator/Datasets/Dataset_E/test/no_circle/square_102.png\n",
      "../../Generator/Datasets/Dataset_E/test/no_circle/square_103.png\n",
      "../../Generator/Datasets/Dataset_E/test/no_circle/square_104.png\n",
      "../../Generator/Datasets/Dataset_E/test/no_circle/square_105.png\n",
      "../../Generator/Datasets/Dataset_E/test/no_circle/square_106.png\n",
      "../../Generator/Datasets/Dataset_E/test/no_circle/square_107.png\n",
      "../../Generator/Datasets/Dataset_E/test/no_circle/square_11.png\n",
      "../../Generator/Datasets/Dataset_E/test/no_circle/square_110.png\n",
      "../../Generator/Datasets/Dataset_E/test/no_circle/square_112.png\n",
      "../../Generator/Datasets/Dataset_E/test/no_circle/square_113.png\n",
      "../../Generator/Datasets/Dataset_E/test/no_circle/square_115.png\n",
      "../../Generator/Datasets/Dataset_E/test/no_circle/square_118.png\n",
      "../../Generator/Datasets/Dataset_E/test/no_circle/square_119.png\n",
      "../../Generator/Datasets/Dataset_E/test/no_circle/square_12.png\n",
      "../../Generator/Datasets/Dataset_E/test/no_circle/square_121.png\n",
      "../../Generator/Datasets/Dataset_E/test/no_circle/square_122.png\n",
      "../../Generator/Datasets/Dataset_E/test/no_circle/square_123.png\n",
      "../../Generator/Datasets/Dataset_E/test/no_circle/square_124.png\n",
      "../../Generator/Datasets/Dataset_E/test/no_circle/square_125.png\n",
      "../../Generator/Datasets/Dataset_E/test/no_circle/square_128.png\n",
      "../../Generator/Datasets/Dataset_E/test/no_circle/square_129.png\n",
      "../../Generator/Datasets/Dataset_E/test/no_circle/square_130.png\n",
      "../../Generator/Datasets/Dataset_E/test/no_circle/square_132.png\n",
      "../../Generator/Datasets/Dataset_E/test/no_circle/square_135.png\n",
      "../../Generator/Datasets/Dataset_E/test/no_circle/square_136.png\n",
      "../../Generator/Datasets/Dataset_E/test/no_circle/square_137.png\n",
      "../../Generator/Datasets/Dataset_E/test/no_circle/square_138.png\n",
      "../../Generator/Datasets/Dataset_E/test/no_circle/square_14.png\n",
      "../../Generator/Datasets/Dataset_E/test/no_circle/square_143.png\n",
      "../../Generator/Datasets/Dataset_E/test/no_circle/square_145.png\n",
      "../../Generator/Datasets/Dataset_E/test/no_circle/square_146.png\n",
      "../../Generator/Datasets/Dataset_E/test/no_circle/square_147.png\n",
      "../../Generator/Datasets/Dataset_E/test/no_circle/square_148.png\n",
      "../../Generator/Datasets/Dataset_E/test/no_circle/square_151.png\n",
      "../../Generator/Datasets/Dataset_E/test/no_circle/square_152.png\n",
      "../../Generator/Datasets/Dataset_E/test/no_circle/square_155.png\n",
      "../../Generator/Datasets/Dataset_E/test/no_circle/square_156.png\n",
      "../../Generator/Datasets/Dataset_E/test/no_circle/square_158.png\n",
      "../../Generator/Datasets/Dataset_E/test/no_circle/square_160.png\n",
      "../../Generator/Datasets/Dataset_E/test/no_circle/square_161.png\n",
      "../../Generator/Datasets/Dataset_E/test/no_circle/square_164.png\n",
      "../../Generator/Datasets/Dataset_E/test/no_circle/square_165.png\n",
      "../../Generator/Datasets/Dataset_E/test/no_circle/square_167.png\n",
      "../../Generator/Datasets/Dataset_E/test/no_circle/square_168.png\n",
      "../../Generator/Datasets/Dataset_E/test/no_circle/square_169.png\n",
      "../../Generator/Datasets/Dataset_E/test/no_circle/square_17.png\n",
      "../../Generator/Datasets/Dataset_E/test/no_circle/square_170.png\n",
      "../../Generator/Datasets/Dataset_E/test/no_circle/square_171.png\n",
      "../../Generator/Datasets/Dataset_E/test/no_circle/square_172.png\n",
      "../../Generator/Datasets/Dataset_E/test/no_circle/square_173.png\n",
      "../../Generator/Datasets/Dataset_E/test/no_circle/square_174.png\n",
      "../../Generator/Datasets/Dataset_E/test/no_circle/square_175.png\n",
      "../../Generator/Datasets/Dataset_E/test/no_circle/square_177.png\n",
      "../../Generator/Datasets/Dataset_E/test/no_circle/square_178.png\n",
      "../../Generator/Datasets/Dataset_E/test/no_circle/square_179.png\n",
      "../../Generator/Datasets/Dataset_E/test/no_circle/square_18.png\n",
      "../../Generator/Datasets/Dataset_E/test/no_circle/square_180.png\n",
      "../../Generator/Datasets/Dataset_E/test/no_circle/square_182.png\n",
      "../../Generator/Datasets/Dataset_E/test/no_circle/square_183.png\n",
      "../../Generator/Datasets/Dataset_E/test/no_circle/square_185.png\n",
      "../../Generator/Datasets/Dataset_E/test/no_circle/square_186.png\n",
      "../../Generator/Datasets/Dataset_E/test/no_circle/square_187.png\n",
      "../../Generator/Datasets/Dataset_E/test/no_circle/square_188.png\n",
      "../../Generator/Datasets/Dataset_E/test/no_circle/square_189.png\n",
      "../../Generator/Datasets/Dataset_E/test/no_circle/square_190.png\n",
      "../../Generator/Datasets/Dataset_E/test/no_circle/square_191.png\n",
      "../../Generator/Datasets/Dataset_E/test/no_circle/square_192.png\n",
      "../../Generator/Datasets/Dataset_E/test/no_circle/square_193.png\n",
      "../../Generator/Datasets/Dataset_E/test/no_circle/square_194.png\n",
      "../../Generator/Datasets/Dataset_E/test/no_circle/square_195.png\n",
      "../../Generator/Datasets/Dataset_E/test/no_circle/square_197.png\n",
      "../../Generator/Datasets/Dataset_E/test/no_circle/square_2.png\n",
      "../../Generator/Datasets/Dataset_E/test/no_circle/square_20.png\n",
      "../../Generator/Datasets/Dataset_E/test/no_circle/square_201.png\n",
      "../../Generator/Datasets/Dataset_E/test/no_circle/square_203.png\n",
      "../../Generator/Datasets/Dataset_E/test/no_circle/square_205.png\n",
      "../../Generator/Datasets/Dataset_E/test/no_circle/square_206.png\n",
      "../../Generator/Datasets/Dataset_E/test/no_circle/square_208.png\n",
      "../../Generator/Datasets/Dataset_E/test/no_circle/square_209.png\n",
      "../../Generator/Datasets/Dataset_E/test/no_circle/square_211.png\n",
      "../../Generator/Datasets/Dataset_E/test/no_circle/square_212.png\n",
      "../../Generator/Datasets/Dataset_E/test/no_circle/square_213.png\n",
      "../../Generator/Datasets/Dataset_E/test/no_circle/square_214.png\n",
      "../../Generator/Datasets/Dataset_E/test/no_circle/square_216.png\n",
      "../../Generator/Datasets/Dataset_E/test/no_circle/square_217.png\n",
      "../../Generator/Datasets/Dataset_E/test/no_circle/square_220.png\n",
      "../../Generator/Datasets/Dataset_E/test/no_circle/square_221.png\n",
      "../../Generator/Datasets/Dataset_E/test/no_circle/square_222.png\n",
      "../../Generator/Datasets/Dataset_E/test/no_circle/square_223.png\n",
      "../../Generator/Datasets/Dataset_E/test/no_circle/square_225.png\n",
      "../../Generator/Datasets/Dataset_E/test/no_circle/square_228.png\n",
      "../../Generator/Datasets/Dataset_E/test/no_circle/square_229.png\n",
      "../../Generator/Datasets/Dataset_E/test/no_circle/square_230.png\n",
      "../../Generator/Datasets/Dataset_E/test/no_circle/square_232.png\n",
      "../../Generator/Datasets/Dataset_E/test/no_circle/square_234.png\n",
      "../../Generator/Datasets/Dataset_E/test/no_circle/square_236.png\n",
      "../../Generator/Datasets/Dataset_E/test/no_circle/square_237.png\n",
      "../../Generator/Datasets/Dataset_E/test/no_circle/square_239.png\n",
      "../../Generator/Datasets/Dataset_E/test/no_circle/square_24.png\n",
      "../../Generator/Datasets/Dataset_E/test/no_circle/square_240.png\n",
      "../../Generator/Datasets/Dataset_E/test/no_circle/square_241.png\n",
      "../../Generator/Datasets/Dataset_E/test/no_circle/square_242.png\n",
      "../../Generator/Datasets/Dataset_E/test/no_circle/square_243.png\n",
      "../../Generator/Datasets/Dataset_E/test/no_circle/square_244.png\n",
      "../../Generator/Datasets/Dataset_E/test/no_circle/square_245.png\n",
      "../../Generator/Datasets/Dataset_E/test/no_circle/square_246.png\n",
      "../../Generator/Datasets/Dataset_E/test/no_circle/square_248.png\n",
      "../../Generator/Datasets/Dataset_E/test/no_circle/square_249.png\n",
      "../../Generator/Datasets/Dataset_E/test/no_circle/square_26.png\n",
      "../../Generator/Datasets/Dataset_E/test/no_circle/square_27.png\n",
      "../../Generator/Datasets/Dataset_E/test/no_circle/square_28.png\n",
      "../../Generator/Datasets/Dataset_E/test/no_circle/square_29.png\n",
      "../../Generator/Datasets/Dataset_E/test/no_circle/square_30.png\n",
      "../../Generator/Datasets/Dataset_E/test/no_circle/square_31.png\n",
      "../../Generator/Datasets/Dataset_E/test/no_circle/square_32.png\n",
      "../../Generator/Datasets/Dataset_E/test/no_circle/square_33.png\n",
      "../../Generator/Datasets/Dataset_E/test/no_circle/square_34.png\n",
      "../../Generator/Datasets/Dataset_E/test/no_circle/square_38.png\n",
      "../../Generator/Datasets/Dataset_E/test/no_circle/square_39.png\n",
      "../../Generator/Datasets/Dataset_E/test/no_circle/square_4.png\n",
      "../../Generator/Datasets/Dataset_E/test/no_circle/square_40.png\n",
      "../../Generator/Datasets/Dataset_E/test/no_circle/square_43.png\n",
      "../../Generator/Datasets/Dataset_E/test/no_circle/square_44.png\n",
      "../../Generator/Datasets/Dataset_E/test/no_circle/square_45.png\n",
      "../../Generator/Datasets/Dataset_E/test/no_circle/square_47.png\n",
      "../../Generator/Datasets/Dataset_E/test/no_circle/square_48.png\n",
      "../../Generator/Datasets/Dataset_E/test/no_circle/square_51.png\n",
      "../../Generator/Datasets/Dataset_E/test/no_circle/square_52.png\n",
      "../../Generator/Datasets/Dataset_E/test/no_circle/square_53.png\n",
      "../../Generator/Datasets/Dataset_E/test/no_circle/square_54.png\n",
      "../../Generator/Datasets/Dataset_E/test/no_circle/square_56.png\n",
      "../../Generator/Datasets/Dataset_E/test/no_circle/square_57.png\n",
      "../../Generator/Datasets/Dataset_E/test/no_circle/square_58.png\n",
      "../../Generator/Datasets/Dataset_E/test/no_circle/square_6.png\n",
      "../../Generator/Datasets/Dataset_E/test/no_circle/square_61.png\n",
      "../../Generator/Datasets/Dataset_E/test/no_circle/square_62.png\n",
      "../../Generator/Datasets/Dataset_E/test/no_circle/square_63.png\n",
      "../../Generator/Datasets/Dataset_E/test/no_circle/square_65.png\n",
      "../../Generator/Datasets/Dataset_E/test/no_circle/square_67.png\n",
      "../../Generator/Datasets/Dataset_E/test/no_circle/square_68.png\n",
      "../../Generator/Datasets/Dataset_E/test/no_circle/square_7.png\n",
      "../../Generator/Datasets/Dataset_E/test/no_circle/square_71.png\n",
      "../../Generator/Datasets/Dataset_E/test/no_circle/square_72.png\n",
      "../../Generator/Datasets/Dataset_E/test/no_circle/square_73.png\n",
      "../../Generator/Datasets/Dataset_E/test/no_circle/square_75.png\n",
      "../../Generator/Datasets/Dataset_E/test/no_circle/square_8.png\n",
      "../../Generator/Datasets/Dataset_E/test/no_circle/square_80.png\n",
      "../../Generator/Datasets/Dataset_E/test/no_circle/square_82.png\n",
      "../../Generator/Datasets/Dataset_E/test/no_circle/square_85.png\n",
      "../../Generator/Datasets/Dataset_E/test/no_circle/square_87.png\n",
      "../../Generator/Datasets/Dataset_E/test/no_circle/square_88.png\n",
      "../../Generator/Datasets/Dataset_E/test/no_circle/square_90.png\n",
      "../../Generator/Datasets/Dataset_E/test/no_circle/square_91.png\n",
      "../../Generator/Datasets/Dataset_E/test/no_circle/square_92.png\n",
      "../../Generator/Datasets/Dataset_E/test/no_circle/square_93.png\n",
      "../../Generator/Datasets/Dataset_E/test/no_circle/square_94.png\n",
      "../../Generator/Datasets/Dataset_E/test/no_circle/square_95.png\n",
      "../../Generator/Datasets/Dataset_E/test/no_circle/square_97.png\n",
      "../../Generator/Datasets/Dataset_E/test/no_circle/square_98.png\n",
      "290\n"
     ]
    }
   ],
   "source": [
    "for filename in wrong_filenames:\n",
    "    print(filename)\n",
    "\n",
    "print(len(wrong_filenames))"
   ]
  },
  {
   "cell_type": "code",
   "execution_count": 39,
   "metadata": {},
   "outputs": [],
   "source": [
    "# write the wrong filenames to a file\n",
    "with open('results/5-1/failed_filenames.txt', 'w') as f:\n",
    "    for item in wrong_filenames:\n",
    "        f.write(\"%s\\n\" % item)"
   ]
  },
  {
   "cell_type": "code",
   "execution_count": 43,
   "metadata": {},
   "outputs": [
    {
     "name": "stdout",
     "output_type": "stream",
     "text": [
      "Found 290 files belonging to 2 classes.\n"
     ]
    },
    {
     "name": "stdout",
     "output_type": "stream",
     "text": [
      "10/10 [==============================] - 1s 81ms/step - loss: 13.0781 - acc: 0.0000e+00\n",
      "13.078096389770508 0.0\n"
     ]
    }
   ],
   "source": [
    "failed_images_dataset = image_dataset_from_directory(\n",
    "    'results/5-1/failed_images',\n",
    "    image_size=(IMG_SIZE, IMG_SIZE),\n",
    "    batch_size=32)\n",
    "\n",
    "val_loss, val_acc = model.evaluate(failed_images_dataset, batch_size=32)\n",
    "print(val_loss, val_acc)"
   ]
  }
 ],
 "metadata": {
  "kernelspec": {
   "display_name": "What_Do_CNN_Know",
   "language": "python",
   "name": "python3"
  },
  "language_info": {
   "codemirror_mode": {
    "name": "ipython",
    "version": 3
   },
   "file_extension": ".py",
   "mimetype": "text/x-python",
   "name": "python",
   "nbconvert_exporter": "python",
   "pygments_lexer": "ipython3",
   "version": "3.11.8"
  }
 },
 "nbformat": 4,
 "nbformat_minor": 2
}
