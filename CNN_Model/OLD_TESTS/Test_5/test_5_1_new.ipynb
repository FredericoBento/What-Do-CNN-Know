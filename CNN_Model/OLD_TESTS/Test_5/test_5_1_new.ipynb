{
 "cells": [
  {
   "cell_type": "code",
   "execution_count": null,
   "metadata": {},
   "outputs": [],
   "source": [
    "# Test 5-1 Dataset E\n",
    "# Test to see if circle is present in the image"
   ]
  },
  {
   "cell_type": "code",
   "execution_count": 1,
   "metadata": {},
   "outputs": [
    {
     "name": "stderr",
     "output_type": "stream",
     "text": [
      "2024-04-03 02:44:12.073193: E external/local_xla/xla/stream_executor/cuda/cuda_dnn.cc:9261] Unable to register cuDNN factory: Attempting to register factory for plugin cuDNN when one has already been registered\n",
      "2024-04-03 02:44:12.073222: E external/local_xla/xla/stream_executor/cuda/cuda_fft.cc:607] Unable to register cuFFT factory: Attempting to register factory for plugin cuFFT when one has already been registered\n",
      "2024-04-03 02:44:12.074750: E external/local_xla/xla/stream_executor/cuda/cuda_blas.cc:1515] Unable to register cuBLAS factory: Attempting to register factory for plugin cuBLAS when one has already been registered\n",
      "2024-04-03 02:44:12.083619: I tensorflow/core/platform/cpu_feature_guard.cc:182] This TensorFlow binary is optimized to use available CPU instructions in performance-critical operations.\n",
      "To enable the following instructions: AVX2 FMA, in other operations, rebuild TensorFlow with the appropriate compiler flags.\n",
      "2024-04-03 02:44:13.057325: W tensorflow/compiler/tf2tensorrt/utils/py_utils.cc:38] TF-TRT Warning: Could not find TensorRT\n",
      "2024-04-03 02:44:13.951309: I external/local_xla/xla/stream_executor/cuda/cuda_executor.cc:901] successful NUMA node read from SysFS had negative value (-1), but there must be at least one NUMA node, so returning NUMA node zero. See more at https://github.com/torvalds/linux/blob/v6.0/Documentation/ABI/testing/sysfs-bus-pci#L344-L355\n",
      "2024-04-03 02:44:13.976367: I external/local_xla/xla/stream_executor/cuda/cuda_executor.cc:901] successful NUMA node read from SysFS had negative value (-1), but there must be at least one NUMA node, so returning NUMA node zero. See more at https://github.com/torvalds/linux/blob/v6.0/Documentation/ABI/testing/sysfs-bus-pci#L344-L355\n",
      "2024-04-03 02:44:13.976670: I external/local_xla/xla/stream_executor/cuda/cuda_executor.cc:901] successful NUMA node read from SysFS had negative value (-1), but there must be at least one NUMA node, so returning NUMA node zero. See more at https://github.com/torvalds/linux/blob/v6.0/Documentation/ABI/testing/sysfs-bus-pci#L344-L355\n"
     ]
    },
    {
     "data": {
      "text/plain": [
       "[PhysicalDevice(name='/physical_device:GPU:0', device_type='GPU')]"
      ]
     },
     "execution_count": 1,
     "metadata": {},
     "output_type": "execute_result"
    }
   ],
   "source": [
    "import numpy as np\n",
    "import optuna as opt\n",
    "from optuna.visualization import plot_optimization_history\n",
    "import random\n",
    "import matplotlib.pyplot as plt\n",
    "import tensorflow as tf\n",
    "from tensorflow import keras\n",
    "from keras import layers\n",
    "from keras.utils import image_dataset_from_directory\n",
    "tf.config.list_physical_devices('GPU')"
   ]
  },
  {
   "cell_type": "code",
   "execution_count": 2,
   "metadata": {},
   "outputs": [],
   "source": [
    "train_dir = '../../Generator/Datasets/Dataset_E2/train'\n",
    "test_dir = '../../Generator/Datasets/Dataset_E2/test'"
   ]
  },
  {
   "cell_type": "code",
   "execution_count": 3,
   "metadata": {},
   "outputs": [],
   "source": [
    "IMG_SIZE = 250\n",
    "BATCH_SIZE = 32"
   ]
  },
  {
   "cell_type": "code",
   "execution_count": 4,
   "metadata": {},
   "outputs": [
    {
     "name": "stdout",
     "output_type": "stream",
     "text": [
      "Found 3000 files belonging to 2 classes.\n"
     ]
    },
    {
     "name": "stderr",
     "output_type": "stream",
     "text": [
      "2024-04-03 02:44:19.837191: I external/local_xla/xla/stream_executor/cuda/cuda_executor.cc:901] successful NUMA node read from SysFS had negative value (-1), but there must be at least one NUMA node, so returning NUMA node zero. See more at https://github.com/torvalds/linux/blob/v6.0/Documentation/ABI/testing/sysfs-bus-pci#L344-L355\n",
      "2024-04-03 02:44:19.837578: I external/local_xla/xla/stream_executor/cuda/cuda_executor.cc:901] successful NUMA node read from SysFS had negative value (-1), but there must be at least one NUMA node, so returning NUMA node zero. See more at https://github.com/torvalds/linux/blob/v6.0/Documentation/ABI/testing/sysfs-bus-pci#L344-L355\n",
      "2024-04-03 02:44:19.837834: I external/local_xla/xla/stream_executor/cuda/cuda_executor.cc:901] successful NUMA node read from SysFS had negative value (-1), but there must be at least one NUMA node, so returning NUMA node zero. See more at https://github.com/torvalds/linux/blob/v6.0/Documentation/ABI/testing/sysfs-bus-pci#L344-L355\n",
      "2024-04-03 02:44:19.936765: I external/local_xla/xla/stream_executor/cuda/cuda_executor.cc:901] successful NUMA node read from SysFS had negative value (-1), but there must be at least one NUMA node, so returning NUMA node zero. See more at https://github.com/torvalds/linux/blob/v6.0/Documentation/ABI/testing/sysfs-bus-pci#L344-L355\n",
      "2024-04-03 02:44:19.937032: I external/local_xla/xla/stream_executor/cuda/cuda_executor.cc:901] successful NUMA node read from SysFS had negative value (-1), but there must be at least one NUMA node, so returning NUMA node zero. See more at https://github.com/torvalds/linux/blob/v6.0/Documentation/ABI/testing/sysfs-bus-pci#L344-L355\n",
      "2024-04-03 02:44:19.937273: I external/local_xla/xla/stream_executor/cuda/cuda_executor.cc:901] successful NUMA node read from SysFS had negative value (-1), but there must be at least one NUMA node, so returning NUMA node zero. See more at https://github.com/torvalds/linux/blob/v6.0/Documentation/ABI/testing/sysfs-bus-pci#L344-L355\n",
      "2024-04-03 02:44:19.937388: I tensorflow/core/common_runtime/gpu/gpu_device.cc:1929] Created device /job:localhost/replica:0/task:0/device:GPU:0 with 5501 MB memory:  -> device: 0, name: NVIDIA GeForce GTX 1060 with Max-Q Design, pci bus id: 0000:01:00.0, compute capability: 6.1\n",
      "2024-04-03 02:44:20.125637: I external/local_tsl/tsl/platform/default/subprocess.cc:304] Start cannot spawn child process: No such file or directory\n"
     ]
    },
    {
     "name": "stdout",
     "output_type": "stream",
     "text": [
      "Found 1000 files belonging to 2 classes.\n"
     ]
    }
   ],
   "source": [
    "train_dataset = image_dataset_from_directory(\n",
    "    train_dir,\n",
    "    image_size=(IMG_SIZE, IMG_SIZE),\n",
    "    batch_size=BATCH_SIZE,\n",
    "    )\n",
    "\n",
    "test_dataset = image_dataset_from_directory(\n",
    "    test_dir,\n",
    "    image_size=(IMG_SIZE, IMG_SIZE),\n",
    "    batch_size=BATCH_SIZE,\n",
    "    )"
   ]
  },
  {
   "cell_type": "code",
   "execution_count": 5,
   "metadata": {},
   "outputs": [],
   "source": [
    "checkpoint_filepath = 'models/5-1_optuna/ch-{epoch:03d}.ckpt'\n",
    "callbacks = keras.callbacks.ModelCheckpoint(\n",
    "    filepath=checkpoint_filepath,\n",
    "    save_best_only=True,\n",
    "    monitor='val_loss',\n",
    "    verbose=1)"
   ]
  },
  {
   "cell_type": "code",
   "execution_count": 7,
   "metadata": {},
   "outputs": [],
   "source": [
    "def objective(trial):\n",
    "    opt_num_hidden_dense_units = trial.suggest_int(\"opt_num_hidden_dense_units\", 10, 512)\n",
    "    opt_lr = trial.suggest_float(\"opt_lr\", 1e-6, 1e-2, log=True)\n",
    "    opt_bs = trial.suggest_int(\"opt_bs\", 16, 128)\n",
    "    inputs = keras.Input(shape=(IMG_SIZE, IMG_SIZE, 3))\n",
    "    x = layers.Rescaling(1./255)(inputs)\n",
    "    x = layers.Conv2D(filters=4, kernel_size=4, activation=\"relu\")(x)\n",
    "    x = layers.MaxPooling2D(pool_size=2)(x)\n",
    "    x = layers.Conv2D(filters=8, kernel_size=4, activation=\"relu\")(x)\n",
    "    x = layers.MaxPooling2D(pool_size=2)(x)\n",
    "    x = layers.Conv2D(filters=8, kernel_size=4, activation=\"relu\")(x)\n",
    "    x = layers.MaxPooling2D(pool_size=2)(x)\n",
    "    x = layers.Conv2D(filters=16, kernel_size=4, activation=\"relu\")(x)\n",
    "    x = layers.MaxPooling2D(pool_size=2)(x)\n",
    "    x = layers.Flatten()(x)\n",
    "    x = layers.Dropout(0.5)(x)\n",
    "    x = layers.Dense(opt_num_hidden_dense_units, activation=\"relu\")(x)\n",
    "    outputs = layers.Dense(1, activation=\"sigmoid\")(x)\n",
    "    model = keras.Model(inputs=inputs, outputs=outputs)\n",
    "    model.compile(loss=\"binary_crossentropy\", optimizer=tf.keras.optimizers.RMSprop(opt_lr), metrics=['acc'])\n",
    "    history = model.fit(train_dataset, epochs=10, batch_size=opt_bs, validation_data=test_dataset, callbacks=[callbacks])\n",
    "    min_val_loss = np.amin(history.history[\"val_loss\"])\n",
    "    return min_val_loss"
   ]
  },
  {
   "cell_type": "code",
   "execution_count": 8,
   "metadata": {},
   "outputs": [
    {
     "name": "stderr",
     "output_type": "stream",
     "text": [
      "[I 2024-04-03 02:44:46,499] A new study created in memory with name: no-name-17e0bfb6-cbf5-45d6-8d68-a7c6e40e405a\n"
     ]
    },
    {
     "name": "stdout",
     "output_type": "stream",
     "text": [
      "Epoch 1/10\n"
     ]
    },
    {
     "name": "stderr",
     "output_type": "stream",
     "text": [
      "2024-04-03 02:44:48.109018: I external/local_xla/xla/stream_executor/cuda/cuda_dnn.cc:454] Loaded cuDNN version 8904\n",
      "2024-04-03 02:44:48.231864: I external/local_tsl/tsl/platform/default/subprocess.cc:304] Start cannot spawn child process: No such file or directory\n",
      "2024-04-03 02:44:50.080869: I external/local_xla/xla/service/service.cc:168] XLA service 0x7f0d4c31f970 initialized for platform CUDA (this does not guarantee that XLA will be used). Devices:\n",
      "2024-04-03 02:44:50.080932: I external/local_xla/xla/service/service.cc:176]   StreamExecutor device (0): NVIDIA GeForce GTX 1060 with Max-Q Design, Compute Capability 6.1\n",
      "2024-04-03 02:44:50.088029: I tensorflow/compiler/mlir/tensorflow/utils/dump_mlir_util.cc:269] disabling MLIR crash reproducer, set env var `MLIR_CRASH_REPRODUCER_DIRECTORY` to enable.\n",
      "WARNING: All log messages before absl::InitializeLog() is called are written to STDERR\n",
      "I0000 00:00:1712108690.147024  120442 device_compiler.h:186] Compiled cluster using XLA!  This line is logged at most once for the lifetime of the process.\n"
     ]
    },
    {
     "name": "stdout",
     "output_type": "stream",
     "text": [
      "94/94 [==============================] - ETA: 0s - loss: 0.6894 - acc: 0.6757\n",
      "Epoch 1: val_loss improved from inf to 0.68645, saving model to models/5-1_optuna/ch-001.ckpt\n",
      "INFO:tensorflow:Assets written to: models/5-1_optuna/ch-001.ckpt/assets\n"
     ]
    },
    {
     "name": "stderr",
     "output_type": "stream",
     "text": [
      "INFO:tensorflow:Assets written to: models/5-1_optuna/ch-001.ckpt/assets\n"
     ]
    },
    {
     "name": "stdout",
     "output_type": "stream",
     "text": [
      "94/94 [==============================] - 12s 75ms/step - loss: 0.6894 - acc: 0.6757 - val_loss: 0.6865 - val_acc: 0.7100\n",
      "Epoch 2/10\n",
      "92/94 [============================>.] - ETA: 0s - loss: 0.6791 - acc: 0.7045\n",
      "Epoch 2: val_loss improved from 0.68645 to 0.67210, saving model to models/5-1_optuna/ch-002.ckpt\n",
      "INFO:tensorflow:Assets written to: models/5-1_optuna/ch-002.ckpt/assets\n"
     ]
    },
    {
     "name": "stderr",
     "output_type": "stream",
     "text": [
      "INFO:tensorflow:Assets written to: models/5-1_optuna/ch-002.ckpt/assets\n"
     ]
    },
    {
     "name": "stdout",
     "output_type": "stream",
     "text": [
      "94/94 [==============================] - 6s 59ms/step - loss: 0.6788 - acc: 0.7043 - val_loss: 0.6721 - val_acc: 0.7160\n",
      "Epoch 3/10\n",
      "92/94 [============================>.] - ETA: 0s - loss: 0.6624 - acc: 0.7143\n",
      "Epoch 3: val_loss improved from 0.67210 to 0.65815, saving model to models/5-1_optuna/ch-003.ckpt\n",
      "INFO:tensorflow:Assets written to: models/5-1_optuna/ch-003.ckpt/assets\n"
     ]
    },
    {
     "name": "stderr",
     "output_type": "stream",
     "text": [
      "INFO:tensorflow:Assets written to: models/5-1_optuna/ch-003.ckpt/assets\n"
     ]
    },
    {
     "name": "stdout",
     "output_type": "stream",
     "text": [
      "94/94 [==============================] - 6s 61ms/step - loss: 0.6613 - acc: 0.7167 - val_loss: 0.6581 - val_acc: 0.7090\n",
      "Epoch 4/10\n",
      "92/94 [============================>.] - ETA: 0s - loss: 0.6486 - acc: 0.7347\n",
      "Epoch 4: val_loss improved from 0.65815 to 0.64866, saving model to models/5-1_optuna/ch-004.ckpt\n",
      "INFO:tensorflow:Assets written to: models/5-1_optuna/ch-004.ckpt/assets\n"
     ]
    },
    {
     "name": "stderr",
     "output_type": "stream",
     "text": [
      "INFO:tensorflow:Assets written to: models/5-1_optuna/ch-004.ckpt/assets\n"
     ]
    },
    {
     "name": "stdout",
     "output_type": "stream",
     "text": [
      "94/94 [==============================] - 6s 57ms/step - loss: 0.6486 - acc: 0.7330 - val_loss: 0.6487 - val_acc: 0.7350\n",
      "Epoch 5/10\n",
      "93/94 [============================>.] - ETA: 0s - loss: 0.6416 - acc: 0.7406\n",
      "Epoch 5: val_loss improved from 0.64866 to 0.64349, saving model to models/5-1_optuna/ch-005.ckpt\n",
      "INFO:tensorflow:Assets written to: models/5-1_optuna/ch-005.ckpt/assets\n"
     ]
    },
    {
     "name": "stderr",
     "output_type": "stream",
     "text": [
      "INFO:tensorflow:Assets written to: models/5-1_optuna/ch-005.ckpt/assets\n"
     ]
    },
    {
     "name": "stdout",
     "output_type": "stream",
     "text": [
      "94/94 [==============================] - 6s 62ms/step - loss: 0.6419 - acc: 0.7400 - val_loss: 0.6435 - val_acc: 0.7480\n",
      "Epoch 6/10\n",
      "93/94 [============================>.] - ETA: 0s - loss: 0.6373 - acc: 0.7413\n",
      "Epoch 6: val_loss improved from 0.64349 to 0.63965, saving model to models/5-1_optuna/ch-006.ckpt\n",
      "INFO:tensorflow:Assets written to: models/5-1_optuna/ch-006.ckpt/assets\n"
     ]
    },
    {
     "name": "stderr",
     "output_type": "stream",
     "text": [
      "INFO:tensorflow:Assets written to: models/5-1_optuna/ch-006.ckpt/assets\n"
     ]
    },
    {
     "name": "stdout",
     "output_type": "stream",
     "text": [
      "94/94 [==============================] - 6s 56ms/step - loss: 0.6375 - acc: 0.7413 - val_loss: 0.6396 - val_acc: 0.7450\n",
      "Epoch 7/10\n",
      "93/94 [============================>.] - ETA: 0s - loss: 0.6338 - acc: 0.7419\n",
      "Epoch 7: val_loss improved from 0.63965 to 0.63545, saving model to models/5-1_optuna/ch-007.ckpt\n",
      "INFO:tensorflow:Assets written to: models/5-1_optuna/ch-007.ckpt/assets\n"
     ]
    },
    {
     "name": "stderr",
     "output_type": "stream",
     "text": [
      "INFO:tensorflow:Assets written to: models/5-1_optuna/ch-007.ckpt/assets\n"
     ]
    },
    {
     "name": "stdout",
     "output_type": "stream",
     "text": [
      "94/94 [==============================] - 6s 65ms/step - loss: 0.6338 - acc: 0.7423 - val_loss: 0.6355 - val_acc: 0.7460\n",
      "Epoch 8/10\n",
      "92/94 [============================>.] - ETA: 0s - loss: 0.6309 - acc: 0.7432\n",
      "Epoch 8: val_loss improved from 0.63545 to 0.63187, saving model to models/5-1_optuna/ch-008.ckpt\n",
      "INFO:tensorflow:Assets written to: models/5-1_optuna/ch-008.ckpt/assets\n"
     ]
    },
    {
     "name": "stderr",
     "output_type": "stream",
     "text": [
      "INFO:tensorflow:Assets written to: models/5-1_optuna/ch-008.ckpt/assets\n"
     ]
    },
    {
     "name": "stdout",
     "output_type": "stream",
     "text": [
      "94/94 [==============================] - 6s 57ms/step - loss: 0.6303 - acc: 0.7440 - val_loss: 0.6319 - val_acc: 0.7430\n",
      "Epoch 9/10\n",
      "92/94 [============================>.] - ETA: 0s - loss: 0.6270 - acc: 0.7398\n",
      "Epoch 9: val_loss did not improve from 0.63187\n",
      "94/94 [==============================] - 5s 49ms/step - loss: 0.6265 - acc: 0.7413 - val_loss: 0.6352 - val_acc: 0.7280\n",
      "Epoch 10/10\n",
      "92/94 [============================>.] - ETA: 0s - loss: 0.6241 - acc: 0.7378\n",
      "Epoch 10: val_loss improved from 0.63187 to 0.62445, saving model to models/5-1_optuna/ch-010.ckpt\n",
      "INFO:tensorflow:Assets written to: models/5-1_optuna/ch-010.ckpt/assets\n"
     ]
    },
    {
     "name": "stderr",
     "output_type": "stream",
     "text": [
      "INFO:tensorflow:Assets written to: models/5-1_optuna/ch-010.ckpt/assets\n"
     ]
    },
    {
     "name": "stdout",
     "output_type": "stream",
     "text": [
      "94/94 [==============================] - 6s 63ms/step - loss: 0.6233 - acc: 0.7403 - val_loss: 0.6245 - val_acc: 0.7430\n"
     ]
    },
    {
     "name": "stderr",
     "output_type": "stream",
     "text": [
      "[I 2024-04-03 02:45:55,092] Trial 0 finished with value: 0.6244527101516724 and parameters: {'opt_num_hidden_dense_units': 254, 'opt_lr': 5.06569341177556e-05, 'opt_bs': 104}. Best is trial 0 with value: 0.6244527101516724.\n"
     ]
    },
    {
     "name": "stdout",
     "output_type": "stream",
     "text": [
      "Epoch 1/10\n",
      "94/94 [==============================] - ETA: 0s - loss: 0.6906 - acc: 0.4997\n",
      "Epoch 1: val_loss did not improve from 0.62445\n",
      "94/94 [==============================] - 6s 50ms/step - loss: 0.6906 - acc: 0.4997 - val_loss: 0.6861 - val_acc: 0.5000\n",
      "Epoch 2/10\n",
      "93/94 [============================>.] - ETA: 0s - loss: 0.6779 - acc: 0.5689\n",
      "Epoch 2: val_loss did not improve from 0.62445\n",
      "94/94 [==============================] - 5s 46ms/step - loss: 0.6778 - acc: 0.5690 - val_loss: 0.6676 - val_acc: 0.6160\n",
      "Epoch 3/10\n",
      "94/94 [==============================] - ETA: 0s - loss: 0.6458 - acc: 0.6570\n",
      "Epoch 3: val_loss did not improve from 0.62445\n",
      "94/94 [==============================] - 5s 47ms/step - loss: 0.6458 - acc: 0.6570 - val_loss: 0.6364 - val_acc: 0.6520\n",
      "Epoch 4/10\n",
      "93/94 [============================>.] - ETA: 0s - loss: 0.6160 - acc: 0.7060\n",
      "Epoch 4: val_loss improved from 0.62445 to 0.61529, saving model to models/5-1_optuna/ch-004.ckpt\n",
      "INFO:tensorflow:Assets written to: models/5-1_optuna/ch-004.ckpt/assets\n"
     ]
    },
    {
     "name": "stderr",
     "output_type": "stream",
     "text": [
      "INFO:tensorflow:Assets written to: models/5-1_optuna/ch-004.ckpt/assets\n"
     ]
    },
    {
     "name": "stdout",
     "output_type": "stream",
     "text": [
      "94/94 [==============================] - 6s 60ms/step - loss: 0.6155 - acc: 0.7060 - val_loss: 0.6153 - val_acc: 0.7250\n",
      "Epoch 5/10\n",
      "93/94 [============================>.] - ETA: 0s - loss: 0.6025 - acc: 0.7040\n",
      "Epoch 5: val_loss improved from 0.61529 to 0.60026, saving model to models/5-1_optuna/ch-005.ckpt\n",
      "INFO:tensorflow:Assets written to: models/5-1_optuna/ch-005.ckpt/assets\n"
     ]
    },
    {
     "name": "stderr",
     "output_type": "stream",
     "text": [
      "INFO:tensorflow:Assets written to: models/5-1_optuna/ch-005.ckpt/assets\n"
     ]
    },
    {
     "name": "stdout",
     "output_type": "stream",
     "text": [
      "94/94 [==============================] - 6s 58ms/step - loss: 0.6017 - acc: 0.7050 - val_loss: 0.6003 - val_acc: 0.6960\n",
      "Epoch 6/10\n",
      "92/94 [============================>.] - ETA: 0s - loss: 0.5932 - acc: 0.7133\n",
      "Epoch 6: val_loss did not improve from 0.60026\n",
      "94/94 [==============================] - 5s 46ms/step - loss: 0.5940 - acc: 0.7130 - val_loss: 0.6138 - val_acc: 0.6680\n",
      "Epoch 7/10\n",
      "93/94 [============================>.] - ETA: 0s - loss: 0.5858 - acc: 0.7107\n",
      "Epoch 7: val_loss improved from 0.60026 to 0.58966, saving model to models/5-1_optuna/ch-007.ckpt\n",
      "INFO:tensorflow:Assets written to: models/5-1_optuna/ch-007.ckpt/assets\n"
     ]
    },
    {
     "name": "stderr",
     "output_type": "stream",
     "text": [
      "INFO:tensorflow:Assets written to: models/5-1_optuna/ch-007.ckpt/assets\n"
     ]
    },
    {
     "name": "stdout",
     "output_type": "stream",
     "text": [
      "94/94 [==============================] - 6s 58ms/step - loss: 0.5844 - acc: 0.7120 - val_loss: 0.5897 - val_acc: 0.7050\n",
      "Epoch 8/10\n",
      "94/94 [==============================] - ETA: 0s - loss: 0.5783 - acc: 0.7063\n",
      "Epoch 8: val_loss improved from 0.58966 to 0.58253, saving model to models/5-1_optuna/ch-008.ckpt\n",
      "INFO:tensorflow:Assets written to: models/5-1_optuna/ch-008.ckpt/assets\n"
     ]
    },
    {
     "name": "stderr",
     "output_type": "stream",
     "text": [
      "INFO:tensorflow:Assets written to: models/5-1_optuna/ch-008.ckpt/assets\n"
     ]
    },
    {
     "name": "stdout",
     "output_type": "stream",
     "text": [
      "94/94 [==============================] - 6s 56ms/step - loss: 0.5783 - acc: 0.7063 - val_loss: 0.5825 - val_acc: 0.6990\n",
      "Epoch 9/10\n",
      "93/94 [============================>.] - ETA: 0s - loss: 0.5717 - acc: 0.7103\n",
      "Epoch 9: val_loss improved from 0.58253 to 0.57621, saving model to models/5-1_optuna/ch-009.ckpt\n",
      "INFO:tensorflow:Assets written to: models/5-1_optuna/ch-009.ckpt/assets\n"
     ]
    },
    {
     "name": "stderr",
     "output_type": "stream",
     "text": [
      "INFO:tensorflow:Assets written to: models/5-1_optuna/ch-009.ckpt/assets\n"
     ]
    },
    {
     "name": "stdout",
     "output_type": "stream",
     "text": [
      "94/94 [==============================] - 6s 59ms/step - loss: 0.5714 - acc: 0.7103 - val_loss: 0.5762 - val_acc: 0.7190\n",
      "Epoch 10/10\n",
      "92/94 [============================>.] - ETA: 0s - loss: 0.5650 - acc: 0.7164\n",
      "Epoch 10: val_loss improved from 0.57621 to 0.57598, saving model to models/5-1_optuna/ch-010.ckpt\n",
      "INFO:tensorflow:Assets written to: models/5-1_optuna/ch-010.ckpt/assets\n"
     ]
    },
    {
     "name": "stderr",
     "output_type": "stream",
     "text": [
      "INFO:tensorflow:Assets written to: models/5-1_optuna/ch-010.ckpt/assets\n"
     ]
    },
    {
     "name": "stdout",
     "output_type": "stream",
     "text": [
      "94/94 [==============================] - 6s 58ms/step - loss: 0.5648 - acc: 0.7177 - val_loss: 0.5760 - val_acc: 0.6950\n"
     ]
    },
    {
     "name": "stderr",
     "output_type": "stream",
     "text": [
      "[I 2024-04-03 02:46:49,951] Trial 1 finished with value: 0.5759793519973755 and parameters: {'opt_num_hidden_dense_units': 21, 'opt_lr': 0.00014781481151701967, 'opt_bs': 26}. Best is trial 1 with value: 0.5759793519973755.\n"
     ]
    },
    {
     "name": "stdout",
     "output_type": "stream",
     "text": [
      "Epoch 1/10\n",
      "92/94 [============================>.] - ETA: 0s - loss: 0.6933 - acc: 0.4915\n",
      "Epoch 1: val_loss did not improve from 0.57598\n",
      "94/94 [==============================] - 6s 48ms/step - loss: 0.6935 - acc: 0.4897 - val_loss: 0.6933 - val_acc: 0.4530\n",
      "Epoch 2/10\n",
      "92/94 [============================>.] - ETA: 0s - loss: 0.6931 - acc: 0.4861\n",
      "Epoch 2: val_loss did not improve from 0.57598\n",
      "94/94 [==============================] - 4s 42ms/step - loss: 0.6931 - acc: 0.4867 - val_loss: 0.6930 - val_acc: 0.4560\n",
      "Epoch 3/10\n",
      "93/94 [============================>.] - ETA: 0s - loss: 0.6936 - acc: 0.4845\n",
      "Epoch 3: val_loss did not improve from 0.57598\n",
      "94/94 [==============================] - 4s 46ms/step - loss: 0.6937 - acc: 0.4830 - val_loss: 0.6927 - val_acc: 0.4570\n",
      "Epoch 4/10\n",
      "93/94 [============================>.] - ETA: 0s - loss: 0.6926 - acc: 0.4929\n",
      "Epoch 4: val_loss did not improve from 0.57598\n",
      "94/94 [==============================] - 5s 47ms/step - loss: 0.6927 - acc: 0.4920 - val_loss: 0.6924 - val_acc: 0.4720\n",
      "Epoch 5/10\n",
      "92/94 [============================>.] - ETA: 0s - loss: 0.6916 - acc: 0.5088\n",
      "Epoch 5: val_loss did not improve from 0.57598\n",
      "94/94 [==============================] - 4s 44ms/step - loss: 0.6916 - acc: 0.5103 - val_loss: 0.6922 - val_acc: 0.4840\n",
      "Epoch 6/10\n",
      "94/94 [==============================] - ETA: 0s - loss: 0.6918 - acc: 0.5040\n",
      "Epoch 6: val_loss did not improve from 0.57598\n",
      "94/94 [==============================] - 4s 44ms/step - loss: 0.6918 - acc: 0.5040 - val_loss: 0.6919 - val_acc: 0.4870\n",
      "Epoch 7/10\n",
      "92/94 [============================>.] - ETA: 0s - loss: 0.6920 - acc: 0.5054\n",
      "Epoch 7: val_loss did not improve from 0.57598\n",
      "94/94 [==============================] - 4s 45ms/step - loss: 0.6921 - acc: 0.5050 - val_loss: 0.6917 - val_acc: 0.4920\n",
      "Epoch 8/10\n",
      "93/94 [============================>.] - ETA: 0s - loss: 0.6919 - acc: 0.5013\n",
      "Epoch 8: val_loss did not improve from 0.57598\n",
      "94/94 [==============================] - 4s 45ms/step - loss: 0.6918 - acc: 0.5013 - val_loss: 0.6915 - val_acc: 0.4940\n",
      "Epoch 9/10\n",
      "93/94 [============================>.] - ETA: 0s - loss: 0.6916 - acc: 0.5010\n",
      "Epoch 9: val_loss did not improve from 0.57598\n",
      "94/94 [==============================] - 4s 45ms/step - loss: 0.6916 - acc: 0.5013 - val_loss: 0.6913 - val_acc: 0.4940\n",
      "Epoch 10/10\n",
      "93/94 [============================>.] - ETA: 0s - loss: 0.6909 - acc: 0.5155\n",
      "Epoch 10: val_loss did not improve from 0.57598\n",
      "94/94 [==============================] - 5s 50ms/step - loss: 0.6909 - acc: 0.5150 - val_loss: 0.6910 - val_acc: 0.4960\n"
     ]
    },
    {
     "name": "stderr",
     "output_type": "stream",
     "text": [
      "[I 2024-04-03 02:47:36,333] Trial 2 finished with value: 0.6910272836685181 and parameters: {'opt_num_hidden_dense_units': 441, 'opt_lr': 2.632315316012288e-06, 'opt_bs': 33}. Best is trial 1 with value: 0.5759793519973755.\n"
     ]
    },
    {
     "name": "stdout",
     "output_type": "stream",
     "text": [
      "Epoch 1/10\n",
      "93/94 [============================>.] - ETA: 0s - loss: 0.6918 - acc: 0.4997\n",
      "Epoch 1: val_loss did not improve from 0.57598\n",
      "94/94 [==============================] - 6s 45ms/step - loss: 0.6919 - acc: 0.4997 - val_loss: 0.6916 - val_acc: 0.4960\n",
      "Epoch 2/10\n",
      "93/94 [============================>.] - ETA: 0s - loss: 0.6914 - acc: 0.5118\n",
      "Epoch 2: val_loss did not improve from 0.57598\n",
      "94/94 [==============================] - 5s 50ms/step - loss: 0.6914 - acc: 0.5117 - val_loss: 0.6915 - val_acc: 0.4970\n",
      "Epoch 3/10\n",
      "93/94 [============================>.] - ETA: 0s - loss: 0.6910 - acc: 0.5027\n",
      "Epoch 3: val_loss did not improve from 0.57598\n",
      "94/94 [==============================] - 5s 52ms/step - loss: 0.6910 - acc: 0.5030 - val_loss: 0.6913 - val_acc: 0.4980\n",
      "Epoch 4/10\n",
      "93/94 [============================>.] - ETA: 0s - loss: 0.6911 - acc: 0.5091\n",
      "Epoch 4: val_loss did not improve from 0.57598\n",
      "94/94 [==============================] - 5s 53ms/step - loss: 0.6911 - acc: 0.5083 - val_loss: 0.6912 - val_acc: 0.4990\n",
      "Epoch 5/10\n",
      "92/94 [============================>.] - ETA: 0s - loss: 0.6916 - acc: 0.4952\n",
      "Epoch 5: val_loss did not improve from 0.57598\n",
      "94/94 [==============================] - 4s 45ms/step - loss: 0.6915 - acc: 0.4943 - val_loss: 0.6910 - val_acc: 0.4990\n",
      "Epoch 6/10\n",
      "92/94 [============================>.] - ETA: 0s - loss: 0.6907 - acc: 0.5146\n",
      "Epoch 6: val_loss did not improve from 0.57598\n",
      "94/94 [==============================] - 4s 44ms/step - loss: 0.6907 - acc: 0.5147 - val_loss: 0.6909 - val_acc: 0.4990\n",
      "Epoch 7/10\n",
      "94/94 [==============================] - ETA: 0s - loss: 0.6902 - acc: 0.5140\n",
      "Epoch 7: val_loss did not improve from 0.57598\n",
      "94/94 [==============================] - 5s 48ms/step - loss: 0.6902 - acc: 0.5140 - val_loss: 0.6907 - val_acc: 0.4990\n",
      "Epoch 8/10\n",
      "93/94 [============================>.] - ETA: 0s - loss: 0.6907 - acc: 0.5044\n",
      "Epoch 8: val_loss did not improve from 0.57598\n",
      "94/94 [==============================] - 5s 47ms/step - loss: 0.6907 - acc: 0.5037 - val_loss: 0.6906 - val_acc: 0.4990\n",
      "Epoch 9/10\n",
      "93/94 [============================>.] - ETA: 0s - loss: 0.6898 - acc: 0.5151\n",
      "Epoch 9: val_loss did not improve from 0.57598\n",
      "94/94 [==============================] - 6s 65ms/step - loss: 0.6899 - acc: 0.5140 - val_loss: 0.6904 - val_acc: 0.4990\n",
      "Epoch 10/10\n",
      "93/94 [============================>.] - ETA: 0s - loss: 0.6898 - acc: 0.5168\n",
      "Epoch 10: val_loss did not improve from 0.57598\n",
      "94/94 [==============================] - 5s 53ms/step - loss: 0.6898 - acc: 0.5170 - val_loss: 0.6903 - val_acc: 0.4990\n"
     ]
    },
    {
     "name": "stderr",
     "output_type": "stream",
     "text": [
      "[I 2024-04-03 02:48:27,495] Trial 3 finished with value: 0.6902658939361572 and parameters: {'opt_num_hidden_dense_units': 462, 'opt_lr': 1.0159524839499078e-06, 'opt_bs': 85}. Best is trial 1 with value: 0.5759793519973755.\n"
     ]
    },
    {
     "name": "stdout",
     "output_type": "stream",
     "text": [
      "Epoch 1/10\n",
      "92/94 [============================>.] - ETA: 0s - loss: 0.6922 - acc: 0.5034\n",
      "Epoch 1: val_loss did not improve from 0.57598\n",
      "94/94 [==============================] - 7s 56ms/step - loss: 0.6923 - acc: 0.5027 - val_loss: 0.6919 - val_acc: 0.5400\n",
      "Epoch 2/10\n",
      "93/94 [============================>.] - ETA: 0s - loss: 0.6927 - acc: 0.4940\n",
      "Epoch 2: val_loss did not improve from 0.57598\n",
      "94/94 [==============================] - 5s 46ms/step - loss: 0.6928 - acc: 0.4937 - val_loss: 0.6915 - val_acc: 0.5220\n",
      "Epoch 3/10\n",
      "93/94 [============================>.] - ETA: 0s - loss: 0.6918 - acc: 0.5192\n",
      "Epoch 3: val_loss did not improve from 0.57598\n",
      "94/94 [==============================] - 5s 50ms/step - loss: 0.6920 - acc: 0.5183 - val_loss: 0.6911 - val_acc: 0.4970\n",
      "Epoch 4/10\n",
      "93/94 [============================>.] - ETA: 0s - loss: 0.6916 - acc: 0.5054\n",
      "Epoch 4: val_loss did not improve from 0.57598\n",
      "94/94 [==============================] - 5s 47ms/step - loss: 0.6917 - acc: 0.5050 - val_loss: 0.6907 - val_acc: 0.4920\n",
      "Epoch 5/10\n",
      "93/94 [============================>.] - ETA: 0s - loss: 0.6923 - acc: 0.4950\n",
      "Epoch 5: val_loss did not improve from 0.57598\n",
      "94/94 [==============================] - 5s 52ms/step - loss: 0.6925 - acc: 0.4940 - val_loss: 0.6903 - val_acc: 0.4970\n",
      "Epoch 6/10\n",
      "92/94 [============================>.] - ETA: 0s - loss: 0.6901 - acc: 0.5099\n",
      "Epoch 6: val_loss did not improve from 0.57598\n",
      "94/94 [==============================] - 4s 44ms/step - loss: 0.6905 - acc: 0.5077 - val_loss: 0.6899 - val_acc: 0.4940\n",
      "Epoch 7/10\n",
      "94/94 [==============================] - ETA: 0s - loss: 0.6902 - acc: 0.5067\n",
      "Epoch 7: val_loss did not improve from 0.57598\n",
      "94/94 [==============================] - 5s 51ms/step - loss: 0.6902 - acc: 0.5067 - val_loss: 0.6895 - val_acc: 0.4980\n",
      "Epoch 8/10\n",
      "93/94 [============================>.] - ETA: 0s - loss: 0.6892 - acc: 0.5071\n",
      "Epoch 8: val_loss did not improve from 0.57598\n",
      "94/94 [==============================] - 5s 50ms/step - loss: 0.6893 - acc: 0.5067 - val_loss: 0.6891 - val_acc: 0.4980\n",
      "Epoch 9/10\n",
      "92/94 [============================>.] - ETA: 0s - loss: 0.6885 - acc: 0.5099\n",
      "Epoch 9: val_loss did not improve from 0.57598\n",
      "94/94 [==============================] - 5s 51ms/step - loss: 0.6884 - acc: 0.5107 - val_loss: 0.6888 - val_acc: 0.4990\n",
      "Epoch 10/10\n",
      "93/94 [============================>.] - ETA: 0s - loss: 0.6890 - acc: 0.5081\n",
      "Epoch 10: val_loss did not improve from 0.57598\n",
      "94/94 [==============================] - 4s 44ms/step - loss: 0.6890 - acc: 0.5087 - val_loss: 0.6884 - val_acc: 0.4980\n"
     ]
    },
    {
     "name": "stderr",
     "output_type": "stream",
     "text": [
      "[I 2024-04-03 02:49:18,755] Trial 4 finished with value: 0.6884282231330872 and parameters: {'opt_num_hidden_dense_units': 413, 'opt_lr': 3.28745327756644e-06, 'opt_bs': 89}. Best is trial 1 with value: 0.5759793519973755.\n"
     ]
    },
    {
     "name": "stdout",
     "output_type": "stream",
     "text": [
      "Epoch 1/10\n",
      "93/94 [============================>.] - ETA: 0s - loss: 0.6932 - acc: 0.5192\n",
      "Epoch 1: val_loss did not improve from 0.57598\n",
      "94/94 [==============================] - 6s 45ms/step - loss: 0.6933 - acc: 0.5183 - val_loss: 0.6907 - val_acc: 0.5560\n",
      "Epoch 2/10\n",
      "93/94 [============================>.] - ETA: 0s - loss: 0.6878 - acc: 0.5454\n",
      "Epoch 2: val_loss did not improve from 0.57598\n",
      "94/94 [==============================] - 4s 44ms/step - loss: 0.6877 - acc: 0.5463 - val_loss: 0.6832 - val_acc: 0.6120\n",
      "Epoch 3/10\n",
      "93/94 [============================>.] - ETA: 0s - loss: 0.6779 - acc: 0.6035\n",
      "Epoch 3: val_loss did not improve from 0.57598\n",
      "94/94 [==============================] - 4s 46ms/step - loss: 0.6778 - acc: 0.6040 - val_loss: 0.6719 - val_acc: 0.6220\n",
      "Epoch 4/10\n",
      "92/94 [============================>.] - ETA: 0s - loss: 0.6670 - acc: 0.6379\n",
      "Epoch 4: val_loss did not improve from 0.57598\n",
      "94/94 [==============================] - 5s 47ms/step - loss: 0.6662 - acc: 0.6407 - val_loss: 0.6604 - val_acc: 0.6300\n",
      "Epoch 5/10\n",
      "92/94 [============================>.] - ETA: 0s - loss: 0.6538 - acc: 0.6603\n",
      "Epoch 5: val_loss did not improve from 0.57598\n",
      "94/94 [==============================] - 4s 43ms/step - loss: 0.6531 - acc: 0.6613 - val_loss: 0.6530 - val_acc: 0.6180\n",
      "Epoch 6/10\n",
      "92/94 [============================>.] - ETA: 0s - loss: 0.6383 - acc: 0.6743\n",
      "Epoch 6: val_loss did not improve from 0.57598\n",
      "94/94 [==============================] - 4s 42ms/step - loss: 0.6384 - acc: 0.6747 - val_loss: 0.6353 - val_acc: 0.6570\n",
      "Epoch 7/10\n",
      "94/94 [==============================] - ETA: 0s - loss: 0.6289 - acc: 0.6850\n",
      "Epoch 7: val_loss did not improve from 0.57598\n",
      "94/94 [==============================] - 5s 50ms/step - loss: 0.6289 - acc: 0.6850 - val_loss: 0.6320 - val_acc: 0.6390\n",
      "Epoch 8/10\n",
      "93/94 [============================>.] - ETA: 0s - loss: 0.6192 - acc: 0.6868\n",
      "Epoch 8: val_loss did not improve from 0.57598\n",
      "94/94 [==============================] - 5s 49ms/step - loss: 0.6194 - acc: 0.6860 - val_loss: 0.6216 - val_acc: 0.6620\n",
      "Epoch 9/10\n",
      "92/94 [============================>.] - ETA: 0s - loss: 0.6163 - acc: 0.6875\n",
      "Epoch 9: val_loss did not improve from 0.57598\n",
      "94/94 [==============================] - 5s 46ms/step - loss: 0.6157 - acc: 0.6867 - val_loss: 0.6169 - val_acc: 0.6620\n",
      "Epoch 10/10\n",
      "93/94 [============================>.] - ETA: 0s - loss: 0.6093 - acc: 0.6939\n",
      "Epoch 10: val_loss did not improve from 0.57598\n",
      "94/94 [==============================] - 4s 45ms/step - loss: 0.6086 - acc: 0.6943 - val_loss: 0.6113 - val_acc: 0.6830\n"
     ]
    },
    {
     "name": "stderr",
     "output_type": "stream",
     "text": [
      "[I 2024-04-03 02:50:05,183] Trial 5 finished with value: 0.6113100647926331 and parameters: {'opt_num_hidden_dense_units': 243, 'opt_lr': 7.053501938507429e-05, 'opt_bs': 112}. Best is trial 1 with value: 0.5759793519973755.\n"
     ]
    },
    {
     "name": "stdout",
     "output_type": "stream",
     "text": [
      "Epoch 1/10\n",
      "92/94 [============================>.] - ETA: 0s - loss: 0.6976 - acc: 0.5115\n",
      "Epoch 1: val_loss did not improve from 0.57598\n",
      "94/94 [==============================] - 7s 50ms/step - loss: 0.6975 - acc: 0.5113 - val_loss: 0.6948 - val_acc: 0.5050\n",
      "Epoch 2/10\n",
      "93/94 [============================>.] - ETA: 0s - loss: 0.6928 - acc: 0.5114\n",
      "Epoch 2: val_loss did not improve from 0.57598\n",
      "94/94 [==============================] - 5s 47ms/step - loss: 0.6929 - acc: 0.5110 - val_loss: 0.6943 - val_acc: 0.5080\n",
      "Epoch 3/10\n",
      "92/94 [============================>.] - ETA: 0s - loss: 0.6891 - acc: 0.5353\n",
      "Epoch 3: val_loss did not improve from 0.57598\n",
      "94/94 [==============================] - 4s 44ms/step - loss: 0.6891 - acc: 0.5363 - val_loss: 0.6934 - val_acc: 0.5040\n",
      "Epoch 4/10\n",
      "92/94 [============================>.] - ETA: 0s - loss: 0.6912 - acc: 0.5156\n",
      "Epoch 4: val_loss did not improve from 0.57598\n",
      "94/94 [==============================] - 5s 47ms/step - loss: 0.6912 - acc: 0.5157 - val_loss: 0.6928 - val_acc: 0.5180\n",
      "Epoch 5/10\n",
      "93/94 [============================>.] - ETA: 0s - loss: 0.6903 - acc: 0.5397\n",
      "Epoch 5: val_loss did not improve from 0.57598\n",
      "94/94 [==============================] - 4s 43ms/step - loss: 0.6902 - acc: 0.5403 - val_loss: 0.6909 - val_acc: 0.5350\n",
      "Epoch 6/10\n",
      "93/94 [============================>.] - ETA: 0s - loss: 0.6851 - acc: 0.5554\n",
      "Epoch 6: val_loss did not improve from 0.57598\n",
      "94/94 [==============================] - 4s 40ms/step - loss: 0.6852 - acc: 0.5560 - val_loss: 0.6859 - val_acc: 0.5830\n",
      "Epoch 7/10\n",
      "93/94 [============================>.] - ETA: 0s - loss: 0.6837 - acc: 0.5507\n",
      "Epoch 7: val_loss did not improve from 0.57598\n",
      "94/94 [==============================] - 5s 51ms/step - loss: 0.6836 - acc: 0.5527 - val_loss: 0.6838 - val_acc: 0.5750\n",
      "Epoch 8/10\n",
      "92/94 [============================>.] - ETA: 0s - loss: 0.6756 - acc: 0.5754\n",
      "Epoch 8: val_loss did not improve from 0.57598\n",
      "94/94 [==============================] - 5s 48ms/step - loss: 0.6756 - acc: 0.5753 - val_loss: 0.6753 - val_acc: 0.6470\n",
      "Epoch 9/10\n",
      "93/94 [============================>.] - ETA: 0s - loss: 0.6696 - acc: 0.6035\n",
      "Epoch 9: val_loss did not improve from 0.57598\n",
      "94/94 [==============================] - 5s 48ms/step - loss: 0.6694 - acc: 0.6043 - val_loss: 0.6669 - val_acc: 0.6520\n",
      "Epoch 10/10\n",
      "93/94 [============================>.] - ETA: 0s - loss: 0.6636 - acc: 0.6418\n",
      "Epoch 10: val_loss did not improve from 0.57598\n",
      "94/94 [==============================] - 4s 42ms/step - loss: 0.6640 - acc: 0.6407 - val_loss: 0.6624 - val_acc: 0.6450\n"
     ]
    },
    {
     "name": "stderr",
     "output_type": "stream",
     "text": [
      "[I 2024-04-03 02:50:53,577] Trial 6 finished with value: 0.6624350547790527 and parameters: {'opt_num_hidden_dense_units': 13, 'opt_lr': 6.492007373925729e-05, 'opt_bs': 117}. Best is trial 1 with value: 0.5759793519973755.\n"
     ]
    },
    {
     "name": "stdout",
     "output_type": "stream",
     "text": [
      "Epoch 1/10\n",
      "92/94 [============================>.] - ETA: 0s - loss: 0.6959 - acc: 0.4976\n",
      "Epoch 1: val_loss did not improve from 0.57598\n",
      "94/94 [==============================] - 7s 59ms/step - loss: 0.6958 - acc: 0.4977 - val_loss: 0.6932 - val_acc: 0.4660\n",
      "Epoch 2/10\n",
      "92/94 [============================>.] - ETA: 0s - loss: 0.6962 - acc: 0.5003\n",
      "Epoch 2: val_loss did not improve from 0.57598\n",
      "94/94 [==============================] - 5s 47ms/step - loss: 0.6962 - acc: 0.5007 - val_loss: 0.6922 - val_acc: 0.4580\n",
      "Epoch 3/10\n",
      "92/94 [============================>.] - ETA: 0s - loss: 0.6919 - acc: 0.5194\n",
      "Epoch 3: val_loss did not improve from 0.57598\n",
      "94/94 [==============================] - 5s 48ms/step - loss: 0.6922 - acc: 0.5183 - val_loss: 0.6913 - val_acc: 0.4680\n",
      "Epoch 4/10\n",
      "93/94 [============================>.] - ETA: 0s - loss: 0.6943 - acc: 0.5124\n",
      "Epoch 4: val_loss did not improve from 0.57598\n",
      "94/94 [==============================] - 5s 50ms/step - loss: 0.6944 - acc: 0.5120 - val_loss: 0.6903 - val_acc: 0.4870\n",
      "Epoch 5/10\n",
      "93/94 [============================>.] - ETA: 0s - loss: 0.6920 - acc: 0.5144\n",
      "Epoch 5: val_loss did not improve from 0.57598\n",
      "94/94 [==============================] - 5s 49ms/step - loss: 0.6918 - acc: 0.5153 - val_loss: 0.6894 - val_acc: 0.4920\n",
      "Epoch 6/10\n",
      "92/94 [============================>.] - ETA: 0s - loss: 0.6893 - acc: 0.5309\n",
      "Epoch 6: val_loss did not improve from 0.57598\n",
      "94/94 [==============================] - 5s 48ms/step - loss: 0.6895 - acc: 0.5307 - val_loss: 0.6883 - val_acc: 0.4930\n",
      "Epoch 7/10\n",
      "93/94 [============================>.] - ETA: 0s - loss: 0.6891 - acc: 0.5188\n",
      "Epoch 7: val_loss did not improve from 0.57598\n",
      "94/94 [==============================] - 4s 43ms/step - loss: 0.6891 - acc: 0.5193 - val_loss: 0.6877 - val_acc: 0.6360\n",
      "Epoch 8/10\n",
      "93/94 [============================>.] - ETA: 0s - loss: 0.6886 - acc: 0.5427\n",
      "Epoch 8: val_loss did not improve from 0.57598\n",
      "94/94 [==============================] - 5s 47ms/step - loss: 0.6887 - acc: 0.5413 - val_loss: 0.6868 - val_acc: 0.6300\n",
      "Epoch 9/10\n",
      "93/94 [============================>.] - ETA: 0s - loss: 0.6859 - acc: 0.5407\n",
      "Epoch 9: val_loss did not improve from 0.57598\n",
      "94/94 [==============================] - 5s 46ms/step - loss: 0.6859 - acc: 0.5410 - val_loss: 0.6850 - val_acc: 0.6300\n",
      "Epoch 10/10\n",
      "94/94 [==============================] - ETA: 0s - loss: 0.6859 - acc: 0.5477\n",
      "Epoch 10: val_loss did not improve from 0.57598\n",
      "94/94 [==============================] - 4s 43ms/step - loss: 0.6859 - acc: 0.5477 - val_loss: 0.6837 - val_acc: 0.6000\n"
     ]
    },
    {
     "name": "stderr",
     "output_type": "stream",
     "text": [
      "[I 2024-04-03 02:51:47,293] Trial 7 finished with value: 0.6837165951728821 and parameters: {'opt_num_hidden_dense_units': 27, 'opt_lr': 1.8753279403802437e-05, 'opt_bs': 34}. Best is trial 1 with value: 0.5759793519973755.\n"
     ]
    },
    {
     "name": "stdout",
     "output_type": "stream",
     "text": [
      "Epoch 1/10\n",
      "92/94 [============================>.] - ETA: 0s - loss: 0.6642 - acc: 0.6525\n",
      "Epoch 1: val_loss did not improve from 0.57598\n",
      "94/94 [==============================] - 5s 43ms/step - loss: 0.6634 - acc: 0.6553 - val_loss: 0.6405 - val_acc: 0.7470\n",
      "Epoch 2/10\n",
      "92/94 [============================>.] - ETA: 0s - loss: 0.6184 - acc: 0.7422\n",
      "Epoch 2: val_loss did not improve from 0.57598\n",
      "94/94 [==============================] - 4s 42ms/step - loss: 0.6183 - acc: 0.7413 - val_loss: 0.6051 - val_acc: 0.7090\n",
      "Epoch 3/10\n",
      "93/94 [============================>.] - ETA: 0s - loss: 0.5722 - acc: 0.7235\n",
      "Epoch 3: val_loss improved from 0.57598 to 0.56683, saving model to models/5-1_optuna/ch-003.ckpt\n",
      "INFO:tensorflow:Assets written to: models/5-1_optuna/ch-003.ckpt/assets\n"
     ]
    },
    {
     "name": "stderr",
     "output_type": "stream",
     "text": [
      "INFO:tensorflow:Assets written to: models/5-1_optuna/ch-003.ckpt/assets\n"
     ]
    },
    {
     "name": "stdout",
     "output_type": "stream",
     "text": [
      "94/94 [==============================] - 5s 56ms/step - loss: 0.5717 - acc: 0.7233 - val_loss: 0.5668 - val_acc: 0.7360\n",
      "Epoch 4/10\n",
      "93/94 [============================>.] - ETA: 0s - loss: 0.5251 - acc: 0.7325\n",
      "Epoch 4: val_loss improved from 0.56683 to 0.53613, saving model to models/5-1_optuna/ch-004.ckpt\n",
      "INFO:tensorflow:Assets written to: models/5-1_optuna/ch-004.ckpt/assets\n"
     ]
    },
    {
     "name": "stderr",
     "output_type": "stream",
     "text": [
      "INFO:tensorflow:Assets written to: models/5-1_optuna/ch-004.ckpt/assets\n"
     ]
    },
    {
     "name": "stdout",
     "output_type": "stream",
     "text": [
      "94/94 [==============================] - 5s 55ms/step - loss: 0.5238 - acc: 0.7330 - val_loss: 0.5361 - val_acc: 0.7440\n",
      "Epoch 5/10\n",
      "94/94 [==============================] - ETA: 0s - loss: 0.5050 - acc: 0.7440\n",
      "Epoch 5: val_loss improved from 0.53613 to 0.50103, saving model to models/5-1_optuna/ch-005.ckpt\n",
      "INFO:tensorflow:Assets written to: models/5-1_optuna/ch-005.ckpt/assets\n"
     ]
    },
    {
     "name": "stderr",
     "output_type": "stream",
     "text": [
      "INFO:tensorflow:Assets written to: models/5-1_optuna/ch-005.ckpt/assets\n"
     ]
    },
    {
     "name": "stdout",
     "output_type": "stream",
     "text": [
      "94/94 [==============================] - 6s 59ms/step - loss: 0.5050 - acc: 0.7440 - val_loss: 0.5010 - val_acc: 0.7310\n",
      "Epoch 6/10\n",
      "93/94 [============================>.] - ETA: 0s - loss: 0.4819 - acc: 0.7480\n",
      "Epoch 6: val_loss improved from 0.50103 to 0.48527, saving model to models/5-1_optuna/ch-006.ckpt\n",
      "INFO:tensorflow:Assets written to: models/5-1_optuna/ch-006.ckpt/assets\n"
     ]
    },
    {
     "name": "stderr",
     "output_type": "stream",
     "text": [
      "INFO:tensorflow:Assets written to: models/5-1_optuna/ch-006.ckpt/assets\n"
     ]
    },
    {
     "name": "stdout",
     "output_type": "stream",
     "text": [
      "94/94 [==============================] - 6s 59ms/step - loss: 0.4813 - acc: 0.7490 - val_loss: 0.4853 - val_acc: 0.7470\n",
      "Epoch 7/10\n",
      "92/94 [============================>.] - ETA: 0s - loss: 0.4652 - acc: 0.7612\n",
      "Epoch 7: val_loss improved from 0.48527 to 0.48275, saving model to models/5-1_optuna/ch-007.ckpt\n",
      "INFO:tensorflow:Assets written to: models/5-1_optuna/ch-007.ckpt/assets\n"
     ]
    },
    {
     "name": "stderr",
     "output_type": "stream",
     "text": [
      "INFO:tensorflow:Assets written to: models/5-1_optuna/ch-007.ckpt/assets\n"
     ]
    },
    {
     "name": "stdout",
     "output_type": "stream",
     "text": [
      "94/94 [==============================] - 6s 61ms/step - loss: 0.4676 - acc: 0.7610 - val_loss: 0.4827 - val_acc: 0.7490\n",
      "Epoch 8/10\n",
      "93/94 [============================>.] - ETA: 0s - loss: 0.4489 - acc: 0.7732\n",
      "Epoch 8: val_loss improved from 0.48275 to 0.46935, saving model to models/5-1_optuna/ch-008.ckpt\n",
      "INFO:tensorflow:Assets written to: models/5-1_optuna/ch-008.ckpt/assets\n"
     ]
    },
    {
     "name": "stderr",
     "output_type": "stream",
     "text": [
      "INFO:tensorflow:Assets written to: models/5-1_optuna/ch-008.ckpt/assets\n"
     ]
    },
    {
     "name": "stdout",
     "output_type": "stream",
     "text": [
      "94/94 [==============================] - 5s 53ms/step - loss: 0.4478 - acc: 0.7737 - val_loss: 0.4694 - val_acc: 0.7570\n",
      "Epoch 9/10\n",
      "93/94 [============================>.] - ETA: 0s - loss: 0.4285 - acc: 0.7883\n",
      "Epoch 9: val_loss improved from 0.46935 to 0.45085, saving model to models/5-1_optuna/ch-009.ckpt\n",
      "INFO:tensorflow:Assets written to: models/5-1_optuna/ch-009.ckpt/assets\n"
     ]
    },
    {
     "name": "stderr",
     "output_type": "stream",
     "text": [
      "INFO:tensorflow:Assets written to: models/5-1_optuna/ch-009.ckpt/assets\n"
     ]
    },
    {
     "name": "stdout",
     "output_type": "stream",
     "text": [
      "94/94 [==============================] - 5s 53ms/step - loss: 0.4277 - acc: 0.7887 - val_loss: 0.4509 - val_acc: 0.7770\n",
      "Epoch 10/10\n",
      "93/94 [============================>.] - ETA: 0s - loss: 0.4137 - acc: 0.8058\n",
      "Epoch 10: val_loss improved from 0.45085 to 0.44859, saving model to models/5-1_optuna/ch-010.ckpt\n",
      "INFO:tensorflow:Assets written to: models/5-1_optuna/ch-010.ckpt/assets\n"
     ]
    },
    {
     "name": "stderr",
     "output_type": "stream",
     "text": [
      "INFO:tensorflow:Assets written to: models/5-1_optuna/ch-010.ckpt/assets\n"
     ]
    },
    {
     "name": "stdout",
     "output_type": "stream",
     "text": [
      "94/94 [==============================] - 5s 53ms/step - loss: 0.4149 - acc: 0.8053 - val_loss: 0.4486 - val_acc: 0.7750\n"
     ]
    },
    {
     "name": "stderr",
     "output_type": "stream",
     "text": [
      "[I 2024-04-03 02:52:46,185] Trial 8 finished with value: 0.4485880136489868 and parameters: {'opt_num_hidden_dense_units': 391, 'opt_lr': 0.0005142683811131112, 'opt_bs': 128}. Best is trial 8 with value: 0.4485880136489868.\n"
     ]
    },
    {
     "name": "stdout",
     "output_type": "stream",
     "text": [
      "Epoch 1/10\n",
      "94/94 [==============================] - ETA: 0s - loss: 0.6937 - acc: 0.4920\n",
      "Epoch 1: val_loss did not improve from 0.44859\n",
      "94/94 [==============================] - 6s 47ms/step - loss: 0.6937 - acc: 0.4920 - val_loss: 0.6924 - val_acc: 0.4980\n",
      "Epoch 2/10\n",
      "93/94 [============================>.] - ETA: 0s - loss: 0.6937 - acc: 0.4916\n",
      "Epoch 2: val_loss did not improve from 0.44859\n",
      "94/94 [==============================] - 4s 45ms/step - loss: 0.6936 - acc: 0.4920 - val_loss: 0.6923 - val_acc: 0.4990\n",
      "Epoch 3/10\n",
      "92/94 [============================>.] - ETA: 0s - loss: 0.6946 - acc: 0.4817\n",
      "Epoch 3: val_loss did not improve from 0.44859\n",
      "94/94 [==============================] - 5s 46ms/step - loss: 0.6945 - acc: 0.4830 - val_loss: 0.6921 - val_acc: 0.4990\n",
      "Epoch 4/10\n",
      "92/94 [============================>.] - ETA: 0s - loss: 0.6937 - acc: 0.4871\n",
      "Epoch 4: val_loss did not improve from 0.44859\n",
      "94/94 [==============================] - 4s 43ms/step - loss: 0.6937 - acc: 0.4883 - val_loss: 0.6920 - val_acc: 0.4990\n",
      "Epoch 5/10\n",
      "92/94 [============================>.] - ETA: 0s - loss: 0.6930 - acc: 0.4898\n",
      "Epoch 5: val_loss did not improve from 0.44859\n",
      "94/94 [==============================] - 4s 43ms/step - loss: 0.6932 - acc: 0.4890 - val_loss: 0.6918 - val_acc: 0.5000\n",
      "Epoch 6/10\n",
      "92/94 [============================>.] - ETA: 0s - loss: 0.6928 - acc: 0.4915\n",
      "Epoch 6: val_loss did not improve from 0.44859\n",
      "94/94 [==============================] - 4s 46ms/step - loss: 0.6930 - acc: 0.4907 - val_loss: 0.6916 - val_acc: 0.5010\n",
      "Epoch 7/10\n",
      "93/94 [============================>.] - ETA: 0s - loss: 0.6922 - acc: 0.4899\n",
      "Epoch 7: val_loss did not improve from 0.44859\n",
      "94/94 [==============================] - 4s 43ms/step - loss: 0.6922 - acc: 0.4893 - val_loss: 0.6915 - val_acc: 0.5010\n",
      "Epoch 8/10\n",
      "93/94 [============================>.] - ETA: 0s - loss: 0.6918 - acc: 0.4960\n",
      "Epoch 8: val_loss did not improve from 0.44859\n",
      "94/94 [==============================] - 4s 45ms/step - loss: 0.6918 - acc: 0.4953 - val_loss: 0.6913 - val_acc: 0.5030\n",
      "Epoch 9/10\n",
      "93/94 [============================>.] - ETA: 0s - loss: 0.6925 - acc: 0.4892\n",
      "Epoch 9: val_loss did not improve from 0.44859\n",
      "94/94 [==============================] - 5s 48ms/step - loss: 0.6926 - acc: 0.4890 - val_loss: 0.6911 - val_acc: 0.5030\n",
      "Epoch 10/10\n",
      "92/94 [============================>.] - ETA: 0s - loss: 0.6920 - acc: 0.4976\n",
      "Epoch 10: val_loss did not improve from 0.44859\n",
      "94/94 [==============================] - 4s 44ms/step - loss: 0.6921 - acc: 0.4973 - val_loss: 0.6909 - val_acc: 0.5030\n"
     ]
    },
    {
     "name": "stderr",
     "output_type": "stream",
     "text": [
      "[I 2024-04-03 02:53:33,173] Trial 9 finished with value: 0.6909499168395996 and parameters: {'opt_num_hidden_dense_units': 257, 'opt_lr': 1.6689791483663455e-06, 'opt_bs': 109}. Best is trial 8 with value: 0.4485880136489868.\n"
     ]
    },
    {
     "name": "stdout",
     "output_type": "stream",
     "text": [
      "Epoch 1/10\n",
      "93/94 [============================>.] - ETA: 0s - loss: 0.7948 - acc: 0.6200\n",
      "Epoch 1: val_loss did not improve from 0.44859\n",
      "94/94 [==============================] - 6s 44ms/step - loss: 0.7926 - acc: 0.6210 - val_loss: 0.5889 - val_acc: 0.6550\n",
      "Epoch 2/10\n",
      "93/94 [============================>.] - ETA: 0s - loss: 0.5639 - acc: 0.7120\n",
      "Epoch 2: val_loss did not improve from 0.44859\n",
      "94/94 [==============================] - 4s 44ms/step - loss: 0.5628 - acc: 0.7130 - val_loss: 0.5027 - val_acc: 0.7550\n",
      "Epoch 3/10\n",
      "93/94 [============================>.] - ETA: 0s - loss: 0.5138 - acc: 0.7510\n",
      "Epoch 3: val_loss did not improve from 0.44859\n",
      "94/94 [==============================] - 4s 43ms/step - loss: 0.5133 - acc: 0.7513 - val_loss: 0.5150 - val_acc: 0.7800\n",
      "Epoch 4/10\n",
      "92/94 [============================>.] - ETA: 0s - loss: 0.4194 - acc: 0.8186\n",
      "Epoch 4: val_loss improved from 0.44859 to 0.35168, saving model to models/5-1_optuna/ch-004.ckpt\n",
      "INFO:tensorflow:Assets written to: models/5-1_optuna/ch-004.ckpt/assets\n"
     ]
    },
    {
     "name": "stderr",
     "output_type": "stream",
     "text": [
      "INFO:tensorflow:Assets written to: models/5-1_optuna/ch-004.ckpt/assets\n"
     ]
    },
    {
     "name": "stdout",
     "output_type": "stream",
     "text": [
      "94/94 [==============================] - 5s 53ms/step - loss: 0.4178 - acc: 0.8190 - val_loss: 0.3517 - val_acc: 0.8740\n",
      "Epoch 5/10\n",
      "92/94 [============================>.] - ETA: 0s - loss: 0.3345 - acc: 0.8699\n",
      "Epoch 5: val_loss improved from 0.35168 to 0.30353, saving model to models/5-1_optuna/ch-005.ckpt\n",
      "INFO:tensorflow:Assets written to: models/5-1_optuna/ch-005.ckpt/assets\n"
     ]
    },
    {
     "name": "stderr",
     "output_type": "stream",
     "text": [
      "INFO:tensorflow:Assets written to: models/5-1_optuna/ch-005.ckpt/assets\n"
     ]
    },
    {
     "name": "stdout",
     "output_type": "stream",
     "text": [
      "94/94 [==============================] - 5s 56ms/step - loss: 0.3325 - acc: 0.8703 - val_loss: 0.3035 - val_acc: 0.8900\n",
      "Epoch 6/10\n",
      "94/94 [==============================] - ETA: 0s - loss: 0.2796 - acc: 0.8993\n",
      "Epoch 6: val_loss improved from 0.30353 to 0.29874, saving model to models/5-1_optuna/ch-006.ckpt\n",
      "INFO:tensorflow:Assets written to: models/5-1_optuna/ch-006.ckpt/assets\n"
     ]
    },
    {
     "name": "stderr",
     "output_type": "stream",
     "text": [
      "INFO:tensorflow:Assets written to: models/5-1_optuna/ch-006.ckpt/assets\n"
     ]
    },
    {
     "name": "stdout",
     "output_type": "stream",
     "text": [
      "94/94 [==============================] - 5s 54ms/step - loss: 0.2796 - acc: 0.8993 - val_loss: 0.2987 - val_acc: 0.9030\n",
      "Epoch 7/10\n",
      "92/94 [============================>.] - ETA: 0s - loss: 0.2630 - acc: 0.9032\n",
      "Epoch 7: val_loss improved from 0.29874 to 0.28843, saving model to models/5-1_optuna/ch-007.ckpt\n",
      "INFO:tensorflow:Assets written to: models/5-1_optuna/ch-007.ckpt/assets\n"
     ]
    },
    {
     "name": "stderr",
     "output_type": "stream",
     "text": [
      "INFO:tensorflow:Assets written to: models/5-1_optuna/ch-007.ckpt/assets\n"
     ]
    },
    {
     "name": "stdout",
     "output_type": "stream",
     "text": [
      "94/94 [==============================] - 5s 54ms/step - loss: 0.2617 - acc: 0.9033 - val_loss: 0.2884 - val_acc: 0.9070\n",
      "Epoch 8/10\n",
      "92/94 [============================>.] - ETA: 0s - loss: 0.2424 - acc: 0.9147\n",
      "Epoch 8: val_loss did not improve from 0.28843\n",
      "94/94 [==============================] - 5s 46ms/step - loss: 0.2404 - acc: 0.9157 - val_loss: 0.3492 - val_acc: 0.8990\n",
      "Epoch 9/10\n",
      "93/94 [============================>.] - ETA: 0s - loss: 0.2240 - acc: 0.9217\n",
      "Epoch 9: val_loss did not improve from 0.28843\n",
      "94/94 [==============================] - 4s 44ms/step - loss: 0.2254 - acc: 0.9213 - val_loss: 0.5278 - val_acc: 0.7740\n",
      "Epoch 10/10\n",
      "92/94 [============================>.] - ETA: 0s - loss: 0.1826 - acc: 0.9368\n",
      "Epoch 10: val_loss did not improve from 0.28843\n",
      "94/94 [==============================] - 4s 44ms/step - loss: 0.1833 - acc: 0.9370 - val_loss: 0.3166 - val_acc: 0.8940\n"
     ]
    },
    {
     "name": "stderr",
     "output_type": "stream",
     "text": [
      "[I 2024-04-03 02:54:22,087] Trial 10 finished with value: 0.2884315252304077 and parameters: {'opt_num_hidden_dense_units': 352, 'opt_lr': 0.0040764534079202296, 'opt_bs': 58}. Best is trial 10 with value: 0.2884315252304077.\n"
     ]
    },
    {
     "name": "stdout",
     "output_type": "stream",
     "text": [
      "Epoch 1/10\n",
      "93/94 [============================>.] - ETA: 0s - loss: 0.9212 - acc: 0.5239\n",
      "Epoch 1: val_loss did not improve from 0.28843\n",
      "94/94 [==============================] - 6s 49ms/step - loss: 0.9193 - acc: 0.5250 - val_loss: 0.6946 - val_acc: 0.5160\n",
      "Epoch 2/10\n",
      "93/94 [============================>.] - ETA: 0s - loss: 0.6583 - acc: 0.6468\n",
      "Epoch 2: val_loss did not improve from 0.28843\n",
      "94/94 [==============================] - 4s 45ms/step - loss: 0.6580 - acc: 0.6463 - val_loss: 0.5838 - val_acc: 0.7270\n",
      "Epoch 3/10\n",
      "92/94 [============================>.] - ETA: 0s - loss: 0.5816 - acc: 0.7014\n",
      "Epoch 3: val_loss did not improve from 0.28843\n",
      "94/94 [==============================] - 4s 44ms/step - loss: 0.5843 - acc: 0.6993 - val_loss: 0.6525 - val_acc: 0.7130\n",
      "Epoch 4/10\n",
      "93/94 [============================>.] - ETA: 0s - loss: 0.5601 - acc: 0.7117\n",
      "Epoch 4: val_loss did not improve from 0.28843\n",
      "94/94 [==============================] - 5s 47ms/step - loss: 0.5608 - acc: 0.7107 - val_loss: 0.6864 - val_acc: 0.5110\n",
      "Epoch 5/10\n",
      "93/94 [============================>.] - ETA: 0s - loss: 0.5225 - acc: 0.7372\n",
      "Epoch 5: val_loss did not improve from 0.28843\n",
      "94/94 [==============================] - 4s 45ms/step - loss: 0.5227 - acc: 0.7370 - val_loss: 0.5241 - val_acc: 0.7400\n",
      "Epoch 6/10\n",
      "93/94 [============================>.] - ETA: 0s - loss: 0.5030 - acc: 0.7560\n",
      "Epoch 6: val_loss did not improve from 0.28843\n",
      "94/94 [==============================] - 4s 45ms/step - loss: 0.5028 - acc: 0.7557 - val_loss: 0.4929 - val_acc: 0.7530\n",
      "Epoch 7/10\n",
      "94/94 [==============================] - ETA: 0s - loss: 0.4578 - acc: 0.7783\n",
      "Epoch 7: val_loss did not improve from 0.28843\n",
      "94/94 [==============================] - 4s 44ms/step - loss: 0.4578 - acc: 0.7783 - val_loss: 0.5049 - val_acc: 0.7660\n",
      "Epoch 8/10\n",
      "93/94 [============================>.] - ETA: 0s - loss: 0.4409 - acc: 0.7970\n",
      "Epoch 8: val_loss did not improve from 0.28843\n",
      "94/94 [==============================] - 4s 44ms/step - loss: 0.4404 - acc: 0.7980 - val_loss: 0.4429 - val_acc: 0.7840\n",
      "Epoch 9/10\n",
      "94/94 [==============================] - ETA: 0s - loss: 0.3951 - acc: 0.8237\n",
      "Epoch 9: val_loss did not improve from 0.28843\n",
      "94/94 [==============================] - 4s 44ms/step - loss: 0.3951 - acc: 0.8237 - val_loss: 0.4171 - val_acc: 0.8260\n",
      "Epoch 10/10\n",
      "93/94 [============================>.] - ETA: 0s - loss: 0.3591 - acc: 0.8417\n",
      "Epoch 10: val_loss did not improve from 0.28843\n",
      "94/94 [==============================] - 4s 44ms/step - loss: 0.3576 - acc: 0.8423 - val_loss: 0.3570 - val_acc: 0.8610\n"
     ]
    },
    {
     "name": "stderr",
     "output_type": "stream",
     "text": [
      "[I 2024-04-03 02:55:08,695] Trial 11 finished with value: 0.35701191425323486 and parameters: {'opt_num_hidden_dense_units': 351, 'opt_lr': 0.003812987128689077, 'opt_bs': 55}. Best is trial 10 with value: 0.2884315252304077.\n"
     ]
    },
    {
     "name": "stdout",
     "output_type": "stream",
     "text": [
      "Epoch 1/10\n",
      "93/94 [============================>.] - ETA: 0s - loss: 0.7650 - acc: 0.5060\n",
      "Epoch 1: val_loss did not improve from 0.28843\n",
      "94/94 [==============================] - 6s 46ms/step - loss: 0.7646 - acc: 0.5047 - val_loss: 0.6935 - val_acc: 0.5000\n",
      "Epoch 2/10\n",
      "92/94 [============================>.] - ETA: 0s - loss: 0.6950 - acc: 0.4915\n",
      "Epoch 2: val_loss did not improve from 0.28843\n",
      "94/94 [==============================] - 4s 44ms/step - loss: 0.6951 - acc: 0.4897 - val_loss: 0.6932 - val_acc: 0.5000\n",
      "Epoch 3/10\n",
      "92/94 [============================>.] - ETA: 0s - loss: 0.6939 - acc: 0.4885\n",
      "Epoch 3: val_loss did not improve from 0.28843\n",
      "94/94 [==============================] - 4s 43ms/step - loss: 0.6939 - acc: 0.4887 - val_loss: 0.6932 - val_acc: 0.5000\n",
      "Epoch 4/10\n",
      "93/94 [============================>.] - ETA: 0s - loss: 0.6943 - acc: 0.5027\n",
      "Epoch 4: val_loss did not improve from 0.28843\n",
      "94/94 [==============================] - 5s 47ms/step - loss: 0.6943 - acc: 0.5023 - val_loss: 0.6934 - val_acc: 0.5000\n",
      "Epoch 5/10\n",
      "93/94 [============================>.] - ETA: 0s - loss: 0.6936 - acc: 0.4839\n",
      "Epoch 5: val_loss did not improve from 0.28843\n",
      "94/94 [==============================] - 5s 47ms/step - loss: 0.6936 - acc: 0.4853 - val_loss: 0.6932 - val_acc: 0.5000\n",
      "Epoch 6/10\n",
      "92/94 [============================>.] - ETA: 0s - loss: 0.6936 - acc: 0.4857\n",
      "Epoch 6: val_loss did not improve from 0.28843\n",
      "94/94 [==============================] - 4s 44ms/step - loss: 0.6936 - acc: 0.4840 - val_loss: 0.6932 - val_acc: 0.5000\n",
      "Epoch 7/10\n",
      "93/94 [============================>.] - ETA: 0s - loss: 0.6935 - acc: 0.4839\n",
      "Epoch 7: val_loss did not improve from 0.28843\n",
      "94/94 [==============================] - 4s 44ms/step - loss: 0.6935 - acc: 0.4847 - val_loss: 0.6932 - val_acc: 0.5000\n",
      "Epoch 8/10\n",
      "92/94 [============================>.] - ETA: 0s - loss: 0.6934 - acc: 0.4901\n",
      "Epoch 8: val_loss did not improve from 0.28843\n",
      "94/94 [==============================] - 5s 46ms/step - loss: 0.6934 - acc: 0.4900 - val_loss: 0.6932 - val_acc: 0.5000\n",
      "Epoch 9/10\n",
      "92/94 [============================>.] - ETA: 0s - loss: 0.6934 - acc: 0.4861\n",
      "Epoch 9: val_loss did not improve from 0.28843\n",
      "94/94 [==============================] - 4s 44ms/step - loss: 0.6935 - acc: 0.4833 - val_loss: 0.6932 - val_acc: 0.5000\n",
      "Epoch 10/10\n",
      "92/94 [============================>.] - ETA: 0s - loss: 0.6935 - acc: 0.4891\n",
      "Epoch 10: val_loss did not improve from 0.28843\n",
      "94/94 [==============================] - 4s 44ms/step - loss: 0.6935 - acc: 0.4893 - val_loss: 0.6931 - val_acc: 0.5000\n"
     ]
    },
    {
     "name": "stderr",
     "output_type": "stream",
     "text": [
      "[I 2024-04-03 02:55:54,489] Trial 12 finished with value: 0.693149209022522 and parameters: {'opt_num_hidden_dense_units': 327, 'opt_lr': 0.007995447494835143, 'opt_bs': 55}. Best is trial 10 with value: 0.2884315252304077.\n"
     ]
    },
    {
     "name": "stdout",
     "output_type": "stream",
     "text": [
      "Epoch 1/10\n",
      "92/94 [============================>.] - ETA: 0s - loss: 0.9117 - acc: 0.4942\n",
      "Epoch 1: val_loss did not improve from 0.28843\n",
      "94/94 [==============================] - 6s 46ms/step - loss: 0.9076 - acc: 0.4963 - val_loss: 0.6937 - val_acc: 0.5000\n",
      "Epoch 2/10\n",
      "93/94 [============================>.] - ETA: 0s - loss: 0.6937 - acc: 0.4899\n",
      "Epoch 2: val_loss did not improve from 0.28843\n",
      "94/94 [==============================] - 4s 45ms/step - loss: 0.6937 - acc: 0.4887 - val_loss: 0.6932 - val_acc: 0.5000\n",
      "Epoch 3/10\n",
      "92/94 [============================>.] - ETA: 0s - loss: 0.6935 - acc: 0.4898\n",
      "Epoch 3: val_loss did not improve from 0.28843\n",
      "94/94 [==============================] - 4s 44ms/step - loss: 0.6935 - acc: 0.4873 - val_loss: 0.6932 - val_acc: 0.5000\n",
      "Epoch 4/10\n",
      "92/94 [============================>.] - ETA: 0s - loss: 0.6935 - acc: 0.4857\n",
      "Epoch 4: val_loss did not improve from 0.28843\n",
      "94/94 [==============================] - 5s 45ms/step - loss: 0.6935 - acc: 0.4853 - val_loss: 0.6932 - val_acc: 0.5000\n",
      "Epoch 5/10\n",
      "93/94 [============================>.] - ETA: 0s - loss: 0.6934 - acc: 0.4906\n",
      "Epoch 5: val_loss did not improve from 0.28843\n",
      "94/94 [==============================] - 4s 45ms/step - loss: 0.6934 - acc: 0.4893 - val_loss: 0.6931 - val_acc: 0.5000\n",
      "Epoch 6/10\n",
      "92/94 [============================>.] - ETA: 0s - loss: 0.6935 - acc: 0.4871\n",
      "Epoch 6: val_loss did not improve from 0.28843\n",
      "94/94 [==============================] - 5s 47ms/step - loss: 0.6935 - acc: 0.4853 - val_loss: 0.6931 - val_acc: 0.5000\n",
      "Epoch 7/10\n",
      "92/94 [============================>.] - ETA: 0s - loss: 0.6935 - acc: 0.4874\n",
      "Epoch 7: val_loss did not improve from 0.28843\n",
      "94/94 [==============================] - 5s 48ms/step - loss: 0.6935 - acc: 0.4873 - val_loss: 0.6932 - val_acc: 0.5000\n",
      "Epoch 8/10\n",
      "93/94 [============================>.] - ETA: 0s - loss: 0.6934 - acc: 0.4896\n",
      "Epoch 8: val_loss did not improve from 0.28843\n",
      "94/94 [==============================] - 5s 46ms/step - loss: 0.6934 - acc: 0.4887 - val_loss: 0.6931 - val_acc: 0.5000\n",
      "Epoch 9/10\n",
      "93/94 [============================>.] - ETA: 0s - loss: 0.6934 - acc: 0.4822\n",
      "Epoch 9: val_loss did not improve from 0.28843\n",
      "94/94 [==============================] - 5s 49ms/step - loss: 0.6934 - acc: 0.4827 - val_loss: 0.6932 - val_acc: 0.5000\n",
      "Epoch 10/10\n",
      "93/94 [============================>.] - ETA: 0s - loss: 0.6934 - acc: 0.4876\n",
      "Epoch 10: val_loss did not improve from 0.28843\n",
      "94/94 [==============================] - 4s 44ms/step - loss: 0.6934 - acc: 0.4887 - val_loss: 0.6933 - val_acc: 0.5000\n"
     ]
    },
    {
     "name": "stderr",
     "output_type": "stream",
     "text": [
      "[I 2024-04-03 02:56:42,072] Trial 13 finished with value: 0.6931485533714294 and parameters: {'opt_num_hidden_dense_units': 339, 'opt_lr': 0.008421281849991316, 'opt_bs': 57}. Best is trial 10 with value: 0.2884315252304077.\n"
     ]
    },
    {
     "name": "stdout",
     "output_type": "stream",
     "text": [
      "Epoch 1/10\n",
      "93/94 [============================>.] - ETA: 0s - loss: 0.6531 - acc: 0.6448\n",
      "Epoch 1: val_loss did not improve from 0.28843\n",
      "94/94 [==============================] - 6s 45ms/step - loss: 0.6527 - acc: 0.6457 - val_loss: 0.6274 - val_acc: 0.6160\n",
      "Epoch 2/10\n",
      "93/94 [============================>.] - ETA: 0s - loss: 0.5709 - acc: 0.7067\n",
      "Epoch 2: val_loss did not improve from 0.28843\n",
      "94/94 [==============================] - 4s 43ms/step - loss: 0.5708 - acc: 0.7060 - val_loss: 0.5507 - val_acc: 0.7040\n",
      "Epoch 3/10\n",
      "94/94 [==============================] - ETA: 0s - loss: 0.5253 - acc: 0.7250\n",
      "Epoch 3: val_loss did not improve from 0.28843\n",
      "94/94 [==============================] - 4s 45ms/step - loss: 0.5253 - acc: 0.7250 - val_loss: 0.5191 - val_acc: 0.7300\n",
      "Epoch 4/10\n",
      "93/94 [============================>.] - ETA: 0s - loss: 0.5105 - acc: 0.7379\n",
      "Epoch 4: val_loss did not improve from 0.28843\n",
      "94/94 [==============================] - 4s 44ms/step - loss: 0.5101 - acc: 0.7390 - val_loss: 0.5166 - val_acc: 0.7340\n",
      "Epoch 5/10\n",
      "93/94 [============================>.] - ETA: 0s - loss: 0.4716 - acc: 0.7540\n",
      "Epoch 5: val_loss did not improve from 0.28843\n",
      "94/94 [==============================] - 4s 45ms/step - loss: 0.4720 - acc: 0.7543 - val_loss: 0.4942 - val_acc: 0.7440\n",
      "Epoch 6/10\n",
      "93/94 [============================>.] - ETA: 0s - loss: 0.4487 - acc: 0.7782\n",
      "Epoch 6: val_loss did not improve from 0.28843\n",
      "94/94 [==============================] - 4s 44ms/step - loss: 0.4495 - acc: 0.7777 - val_loss: 0.4865 - val_acc: 0.7370\n",
      "Epoch 7/10\n",
      "93/94 [============================>.] - ETA: 0s - loss: 0.4266 - acc: 0.7863\n",
      "Epoch 7: val_loss did not improve from 0.28843\n",
      "94/94 [==============================] - 4s 46ms/step - loss: 0.4271 - acc: 0.7857 - val_loss: 0.5580 - val_acc: 0.7620\n",
      "Epoch 8/10\n",
      "93/94 [============================>.] - ETA: 0s - loss: 0.4000 - acc: 0.7977\n",
      "Epoch 8: val_loss did not improve from 0.28843\n",
      "94/94 [==============================] - 4s 45ms/step - loss: 0.3999 - acc: 0.7987 - val_loss: 0.4542 - val_acc: 0.7720\n",
      "Epoch 9/10\n",
      "92/94 [============================>.] - ETA: 0s - loss: 0.3850 - acc: 0.8213\n",
      "Epoch 9: val_loss did not improve from 0.28843\n",
      "94/94 [==============================] - 4s 46ms/step - loss: 0.3849 - acc: 0.8213 - val_loss: 0.4497 - val_acc: 0.7710\n",
      "Epoch 10/10\n",
      "92/94 [============================>.] - ETA: 0s - loss: 0.3471 - acc: 0.8393\n",
      "Epoch 10: val_loss did not improve from 0.28843\n",
      "94/94 [==============================] - 5s 50ms/step - loss: 0.3463 - acc: 0.8407 - val_loss: 0.4333 - val_acc: 0.7870\n"
     ]
    },
    {
     "name": "stderr",
     "output_type": "stream",
     "text": [
      "[I 2024-04-03 02:57:29,678] Trial 14 finished with value: 0.4332897663116455 and parameters: {'opt_num_hidden_dense_units': 167, 'opt_lr': 0.0015444589512302795, 'opt_bs': 60}. Best is trial 10 with value: 0.2884315252304077.\n"
     ]
    }
   ],
   "source": [
    "study = opt.create_study()\n",
    "study.optimize(objective, n_trials=15)"
   ]
  },
  {
   "cell_type": "code",
   "execution_count": 9,
   "metadata": {},
   "outputs": [
    {
     "data": {
      "application/vnd.plotly.v1+json": {
       "config": {
        "plotlyServerURL": "https://plot.ly"
       },
       "data": [
        {
         "mode": "markers",
         "name": "Objective Value",
         "type": "scatter",
         "x": [
          0,
          1,
          2,
          3,
          4,
          5,
          6,
          7,
          8,
          9,
          10,
          11,
          12,
          13,
          14
         ],
         "y": [
          0.6244527101516724,
          0.5759793519973755,
          0.6910272836685181,
          0.6902658939361572,
          0.6884282231330872,
          0.6113100647926331,
          0.6624350547790527,
          0.6837165951728821,
          0.4485880136489868,
          0.6909499168395996,
          0.2884315252304077,
          0.35701191425323486,
          0.693149209022522,
          0.6931485533714294,
          0.4332897663116455
         ]
        },
        {
         "mode": "lines",
         "name": "Best Value",
         "type": "scatter",
         "x": [
          0,
          1,
          2,
          3,
          4,
          5,
          6,
          7,
          8,
          9,
          10,
          11,
          12,
          13,
          14
         ],
         "y": [
          0.6244527101516724,
          0.5759793519973755,
          0.5759793519973755,
          0.5759793519973755,
          0.5759793519973755,
          0.5759793519973755,
          0.5759793519973755,
          0.5759793519973755,
          0.4485880136489868,
          0.4485880136489868,
          0.2884315252304077,
          0.2884315252304077,
          0.2884315252304077,
          0.2884315252304077,
          0.2884315252304077
         ]
        },
        {
         "marker": {
          "color": "#cccccc"
         },
         "mode": "markers",
         "name": "Infeasible Trial",
         "showlegend": false,
         "type": "scatter",
         "x": [],
         "y": []
        }
       ],
       "layout": {
        "template": {
         "data": {
          "bar": [
           {
            "error_x": {
             "color": "#2a3f5f"
            },
            "error_y": {
             "color": "#2a3f5f"
            },
            "marker": {
             "line": {
              "color": "#E5ECF6",
              "width": 0.5
             },
             "pattern": {
              "fillmode": "overlay",
              "size": 10,
              "solidity": 0.2
             }
            },
            "type": "bar"
           }
          ],
          "barpolar": [
           {
            "marker": {
             "line": {
              "color": "#E5ECF6",
              "width": 0.5
             },
             "pattern": {
              "fillmode": "overlay",
              "size": 10,
              "solidity": 0.2
             }
            },
            "type": "barpolar"
           }
          ],
          "carpet": [
           {
            "aaxis": {
             "endlinecolor": "#2a3f5f",
             "gridcolor": "white",
             "linecolor": "white",
             "minorgridcolor": "white",
             "startlinecolor": "#2a3f5f"
            },
            "baxis": {
             "endlinecolor": "#2a3f5f",
             "gridcolor": "white",
             "linecolor": "white",
             "minorgridcolor": "white",
             "startlinecolor": "#2a3f5f"
            },
            "type": "carpet"
           }
          ],
          "choropleth": [
           {
            "colorbar": {
             "outlinewidth": 0,
             "ticks": ""
            },
            "type": "choropleth"
           }
          ],
          "contour": [
           {
            "colorbar": {
             "outlinewidth": 0,
             "ticks": ""
            },
            "colorscale": [
             [
              0,
              "#0d0887"
             ],
             [
              0.1111111111111111,
              "#46039f"
             ],
             [
              0.2222222222222222,
              "#7201a8"
             ],
             [
              0.3333333333333333,
              "#9c179e"
             ],
             [
              0.4444444444444444,
              "#bd3786"
             ],
             [
              0.5555555555555556,
              "#d8576b"
             ],
             [
              0.6666666666666666,
              "#ed7953"
             ],
             [
              0.7777777777777778,
              "#fb9f3a"
             ],
             [
              0.8888888888888888,
              "#fdca26"
             ],
             [
              1,
              "#f0f921"
             ]
            ],
            "type": "contour"
           }
          ],
          "contourcarpet": [
           {
            "colorbar": {
             "outlinewidth": 0,
             "ticks": ""
            },
            "type": "contourcarpet"
           }
          ],
          "heatmap": [
           {
            "colorbar": {
             "outlinewidth": 0,
             "ticks": ""
            },
            "colorscale": [
             [
              0,
              "#0d0887"
             ],
             [
              0.1111111111111111,
              "#46039f"
             ],
             [
              0.2222222222222222,
              "#7201a8"
             ],
             [
              0.3333333333333333,
              "#9c179e"
             ],
             [
              0.4444444444444444,
              "#bd3786"
             ],
             [
              0.5555555555555556,
              "#d8576b"
             ],
             [
              0.6666666666666666,
              "#ed7953"
             ],
             [
              0.7777777777777778,
              "#fb9f3a"
             ],
             [
              0.8888888888888888,
              "#fdca26"
             ],
             [
              1,
              "#f0f921"
             ]
            ],
            "type": "heatmap"
           }
          ],
          "heatmapgl": [
           {
            "colorbar": {
             "outlinewidth": 0,
             "ticks": ""
            },
            "colorscale": [
             [
              0,
              "#0d0887"
             ],
             [
              0.1111111111111111,
              "#46039f"
             ],
             [
              0.2222222222222222,
              "#7201a8"
             ],
             [
              0.3333333333333333,
              "#9c179e"
             ],
             [
              0.4444444444444444,
              "#bd3786"
             ],
             [
              0.5555555555555556,
              "#d8576b"
             ],
             [
              0.6666666666666666,
              "#ed7953"
             ],
             [
              0.7777777777777778,
              "#fb9f3a"
             ],
             [
              0.8888888888888888,
              "#fdca26"
             ],
             [
              1,
              "#f0f921"
             ]
            ],
            "type": "heatmapgl"
           }
          ],
          "histogram": [
           {
            "marker": {
             "pattern": {
              "fillmode": "overlay",
              "size": 10,
              "solidity": 0.2
             }
            },
            "type": "histogram"
           }
          ],
          "histogram2d": [
           {
            "colorbar": {
             "outlinewidth": 0,
             "ticks": ""
            },
            "colorscale": [
             [
              0,
              "#0d0887"
             ],
             [
              0.1111111111111111,
              "#46039f"
             ],
             [
              0.2222222222222222,
              "#7201a8"
             ],
             [
              0.3333333333333333,
              "#9c179e"
             ],
             [
              0.4444444444444444,
              "#bd3786"
             ],
             [
              0.5555555555555556,
              "#d8576b"
             ],
             [
              0.6666666666666666,
              "#ed7953"
             ],
             [
              0.7777777777777778,
              "#fb9f3a"
             ],
             [
              0.8888888888888888,
              "#fdca26"
             ],
             [
              1,
              "#f0f921"
             ]
            ],
            "type": "histogram2d"
           }
          ],
          "histogram2dcontour": [
           {
            "colorbar": {
             "outlinewidth": 0,
             "ticks": ""
            },
            "colorscale": [
             [
              0,
              "#0d0887"
             ],
             [
              0.1111111111111111,
              "#46039f"
             ],
             [
              0.2222222222222222,
              "#7201a8"
             ],
             [
              0.3333333333333333,
              "#9c179e"
             ],
             [
              0.4444444444444444,
              "#bd3786"
             ],
             [
              0.5555555555555556,
              "#d8576b"
             ],
             [
              0.6666666666666666,
              "#ed7953"
             ],
             [
              0.7777777777777778,
              "#fb9f3a"
             ],
             [
              0.8888888888888888,
              "#fdca26"
             ],
             [
              1,
              "#f0f921"
             ]
            ],
            "type": "histogram2dcontour"
           }
          ],
          "mesh3d": [
           {
            "colorbar": {
             "outlinewidth": 0,
             "ticks": ""
            },
            "type": "mesh3d"
           }
          ],
          "parcoords": [
           {
            "line": {
             "colorbar": {
              "outlinewidth": 0,
              "ticks": ""
             }
            },
            "type": "parcoords"
           }
          ],
          "pie": [
           {
            "automargin": true,
            "type": "pie"
           }
          ],
          "scatter": [
           {
            "fillpattern": {
             "fillmode": "overlay",
             "size": 10,
             "solidity": 0.2
            },
            "type": "scatter"
           }
          ],
          "scatter3d": [
           {
            "line": {
             "colorbar": {
              "outlinewidth": 0,
              "ticks": ""
             }
            },
            "marker": {
             "colorbar": {
              "outlinewidth": 0,
              "ticks": ""
             }
            },
            "type": "scatter3d"
           }
          ],
          "scattercarpet": [
           {
            "marker": {
             "colorbar": {
              "outlinewidth": 0,
              "ticks": ""
             }
            },
            "type": "scattercarpet"
           }
          ],
          "scattergeo": [
           {
            "marker": {
             "colorbar": {
              "outlinewidth": 0,
              "ticks": ""
             }
            },
            "type": "scattergeo"
           }
          ],
          "scattergl": [
           {
            "marker": {
             "colorbar": {
              "outlinewidth": 0,
              "ticks": ""
             }
            },
            "type": "scattergl"
           }
          ],
          "scattermapbox": [
           {
            "marker": {
             "colorbar": {
              "outlinewidth": 0,
              "ticks": ""
             }
            },
            "type": "scattermapbox"
           }
          ],
          "scatterpolar": [
           {
            "marker": {
             "colorbar": {
              "outlinewidth": 0,
              "ticks": ""
             }
            },
            "type": "scatterpolar"
           }
          ],
          "scatterpolargl": [
           {
            "marker": {
             "colorbar": {
              "outlinewidth": 0,
              "ticks": ""
             }
            },
            "type": "scatterpolargl"
           }
          ],
          "scatterternary": [
           {
            "marker": {
             "colorbar": {
              "outlinewidth": 0,
              "ticks": ""
             }
            },
            "type": "scatterternary"
           }
          ],
          "surface": [
           {
            "colorbar": {
             "outlinewidth": 0,
             "ticks": ""
            },
            "colorscale": [
             [
              0,
              "#0d0887"
             ],
             [
              0.1111111111111111,
              "#46039f"
             ],
             [
              0.2222222222222222,
              "#7201a8"
             ],
             [
              0.3333333333333333,
              "#9c179e"
             ],
             [
              0.4444444444444444,
              "#bd3786"
             ],
             [
              0.5555555555555556,
              "#d8576b"
             ],
             [
              0.6666666666666666,
              "#ed7953"
             ],
             [
              0.7777777777777778,
              "#fb9f3a"
             ],
             [
              0.8888888888888888,
              "#fdca26"
             ],
             [
              1,
              "#f0f921"
             ]
            ],
            "type": "surface"
           }
          ],
          "table": [
           {
            "cells": {
             "fill": {
              "color": "#EBF0F8"
             },
             "line": {
              "color": "white"
             }
            },
            "header": {
             "fill": {
              "color": "#C8D4E3"
             },
             "line": {
              "color": "white"
             }
            },
            "type": "table"
           }
          ]
         },
         "layout": {
          "annotationdefaults": {
           "arrowcolor": "#2a3f5f",
           "arrowhead": 0,
           "arrowwidth": 1
          },
          "autotypenumbers": "strict",
          "coloraxis": {
           "colorbar": {
            "outlinewidth": 0,
            "ticks": ""
           }
          },
          "colorscale": {
           "diverging": [
            [
             0,
             "#8e0152"
            ],
            [
             0.1,
             "#c51b7d"
            ],
            [
             0.2,
             "#de77ae"
            ],
            [
             0.3,
             "#f1b6da"
            ],
            [
             0.4,
             "#fde0ef"
            ],
            [
             0.5,
             "#f7f7f7"
            ],
            [
             0.6,
             "#e6f5d0"
            ],
            [
             0.7,
             "#b8e186"
            ],
            [
             0.8,
             "#7fbc41"
            ],
            [
             0.9,
             "#4d9221"
            ],
            [
             1,
             "#276419"
            ]
           ],
           "sequential": [
            [
             0,
             "#0d0887"
            ],
            [
             0.1111111111111111,
             "#46039f"
            ],
            [
             0.2222222222222222,
             "#7201a8"
            ],
            [
             0.3333333333333333,
             "#9c179e"
            ],
            [
             0.4444444444444444,
             "#bd3786"
            ],
            [
             0.5555555555555556,
             "#d8576b"
            ],
            [
             0.6666666666666666,
             "#ed7953"
            ],
            [
             0.7777777777777778,
             "#fb9f3a"
            ],
            [
             0.8888888888888888,
             "#fdca26"
            ],
            [
             1,
             "#f0f921"
            ]
           ],
           "sequentialminus": [
            [
             0,
             "#0d0887"
            ],
            [
             0.1111111111111111,
             "#46039f"
            ],
            [
             0.2222222222222222,
             "#7201a8"
            ],
            [
             0.3333333333333333,
             "#9c179e"
            ],
            [
             0.4444444444444444,
             "#bd3786"
            ],
            [
             0.5555555555555556,
             "#d8576b"
            ],
            [
             0.6666666666666666,
             "#ed7953"
            ],
            [
             0.7777777777777778,
             "#fb9f3a"
            ],
            [
             0.8888888888888888,
             "#fdca26"
            ],
            [
             1,
             "#f0f921"
            ]
           ]
          },
          "colorway": [
           "#636efa",
           "#EF553B",
           "#00cc96",
           "#ab63fa",
           "#FFA15A",
           "#19d3f3",
           "#FF6692",
           "#B6E880",
           "#FF97FF",
           "#FECB52"
          ],
          "font": {
           "color": "#2a3f5f"
          },
          "geo": {
           "bgcolor": "white",
           "lakecolor": "white",
           "landcolor": "#E5ECF6",
           "showlakes": true,
           "showland": true,
           "subunitcolor": "white"
          },
          "hoverlabel": {
           "align": "left"
          },
          "hovermode": "closest",
          "mapbox": {
           "style": "light"
          },
          "paper_bgcolor": "white",
          "plot_bgcolor": "#E5ECF6",
          "polar": {
           "angularaxis": {
            "gridcolor": "white",
            "linecolor": "white",
            "ticks": ""
           },
           "bgcolor": "#E5ECF6",
           "radialaxis": {
            "gridcolor": "white",
            "linecolor": "white",
            "ticks": ""
           }
          },
          "scene": {
           "xaxis": {
            "backgroundcolor": "#E5ECF6",
            "gridcolor": "white",
            "gridwidth": 2,
            "linecolor": "white",
            "showbackground": true,
            "ticks": "",
            "zerolinecolor": "white"
           },
           "yaxis": {
            "backgroundcolor": "#E5ECF6",
            "gridcolor": "white",
            "gridwidth": 2,
            "linecolor": "white",
            "showbackground": true,
            "ticks": "",
            "zerolinecolor": "white"
           },
           "zaxis": {
            "backgroundcolor": "#E5ECF6",
            "gridcolor": "white",
            "gridwidth": 2,
            "linecolor": "white",
            "showbackground": true,
            "ticks": "",
            "zerolinecolor": "white"
           }
          },
          "shapedefaults": {
           "line": {
            "color": "#2a3f5f"
           }
          },
          "ternary": {
           "aaxis": {
            "gridcolor": "white",
            "linecolor": "white",
            "ticks": ""
           },
           "baxis": {
            "gridcolor": "white",
            "linecolor": "white",
            "ticks": ""
           },
           "bgcolor": "#E5ECF6",
           "caxis": {
            "gridcolor": "white",
            "linecolor": "white",
            "ticks": ""
           }
          },
          "title": {
           "x": 0.05
          },
          "xaxis": {
           "automargin": true,
           "gridcolor": "white",
           "linecolor": "white",
           "ticks": "",
           "title": {
            "standoff": 15
           },
           "zerolinecolor": "white",
           "zerolinewidth": 2
          },
          "yaxis": {
           "automargin": true,
           "gridcolor": "white",
           "linecolor": "white",
           "ticks": "",
           "title": {
            "standoff": 15
           },
           "zerolinecolor": "white",
           "zerolinewidth": 2
          }
         }
        },
        "title": {
         "text": "Optimization History Plot"
        },
        "xaxis": {
         "title": {
          "text": "Trial"
         }
        },
        "yaxis": {
         "title": {
          "text": "Objective Value"
         }
        }
       }
      }
     },
     "metadata": {},
     "output_type": "display_data"
    }
   ],
   "source": [
    "plot_optimization_history(study)"
   ]
  },
  {
   "cell_type": "code",
   "execution_count": 10,
   "metadata": {},
   "outputs": [
    {
     "data": {
      "application/vnd.plotly.v1+json": {
       "config": {
        "plotlyServerURL": "https://plot.ly"
       },
       "data": [
        {
         "colorbar": {
          "title": {
           "text": "Objective Value"
          }
         },
         "colorscale": [
          [
           0,
           "rgb(247,251,255)"
          ],
          [
           0.125,
           "rgb(222,235,247)"
          ],
          [
           0.25,
           "rgb(198,219,239)"
          ],
          [
           0.375,
           "rgb(158,202,225)"
          ],
          [
           0.5,
           "rgb(107,174,214)"
          ],
          [
           0.625,
           "rgb(66,146,198)"
          ],
          [
           0.75,
           "rgb(33,113,181)"
          ],
          [
           0.875,
           "rgb(8,81,156)"
          ],
          [
           1,
           "rgb(8,48,107)"
          ]
         ],
         "connectgaps": true,
         "contours": {
          "coloring": "heatmap"
         },
         "hoverinfo": "none",
         "line": {
          "smoothing": 1.3
         },
         "reversescale": true,
         "type": "contour",
         "x": [
          20.9,
          26,
          33,
          34,
          55,
          57,
          58,
          60,
          85,
          89,
          104,
          109,
          112,
          117,
          128,
          133.1
         ],
         "y": [
          6.470653678191735e-7,
          0.0000010159524839499078,
          0.0000016689791483663455,
          0.000002632315316012288,
          0.00000328745327756644,
          0.000018753279403802437,
          0.0000506569341177556,
          0.00006492007373925729,
          0.00007053501938507429,
          0.00014781481151701967,
          0.0005142683811131112,
          0.0015444589512302795,
          0.003812987128689077,
          0.0040764534079202296,
          0.007995447494835143,
          0.008421281849991316,
          0.013222191511154828
         ],
         "z": [
          [
           null,
           null,
           null,
           null,
           null,
           null,
           null,
           null,
           null,
           null,
           null,
           null,
           null,
           null,
           null,
           null
          ],
          [
           null,
           null,
           null,
           null,
           null,
           null,
           null,
           null,
           0.6902658939361572,
           null,
           null,
           null,
           null,
           null,
           null,
           null
          ],
          [
           null,
           null,
           null,
           null,
           null,
           null,
           null,
           null,
           null,
           null,
           null,
           0.6909499168395996,
           null,
           null,
           null,
           null
          ],
          [
           null,
           null,
           0.6910272836685181,
           null,
           null,
           null,
           null,
           null,
           null,
           null,
           null,
           null,
           null,
           null,
           null,
           null
          ],
          [
           null,
           null,
           null,
           null,
           null,
           null,
           null,
           null,
           null,
           0.6884282231330872,
           null,
           null,
           null,
           null,
           null,
           null
          ],
          [
           null,
           null,
           null,
           0.6837165951728821,
           null,
           null,
           null,
           null,
           null,
           null,
           null,
           null,
           null,
           null,
           null,
           null
          ],
          [
           null,
           null,
           null,
           null,
           null,
           null,
           null,
           null,
           null,
           null,
           0.6244527101516724,
           null,
           null,
           null,
           null,
           null
          ],
          [
           null,
           null,
           null,
           null,
           null,
           null,
           null,
           null,
           null,
           null,
           null,
           null,
           null,
           0.6624350547790527,
           null,
           null
          ],
          [
           null,
           null,
           null,
           null,
           null,
           null,
           null,
           null,
           null,
           null,
           null,
           null,
           0.6113100647926331,
           null,
           null,
           null
          ],
          [
           null,
           0.5759793519973755,
           null,
           null,
           null,
           null,
           null,
           null,
           null,
           null,
           null,
           null,
           null,
           null,
           null,
           null
          ],
          [
           null,
           null,
           null,
           null,
           null,
           null,
           null,
           null,
           null,
           null,
           null,
           null,
           null,
           null,
           0.4485880136489868,
           null
          ],
          [
           null,
           null,
           null,
           null,
           null,
           null,
           null,
           0.4332897663116455,
           null,
           null,
           null,
           null,
           null,
           null,
           null,
           null
          ],
          [
           null,
           null,
           null,
           null,
           0.35701191425323486,
           null,
           null,
           null,
           null,
           null,
           null,
           null,
           null,
           null,
           null,
           null
          ],
          [
           null,
           null,
           null,
           null,
           null,
           null,
           0.2884315252304077,
           null,
           null,
           null,
           null,
           null,
           null,
           null,
           null,
           null
          ],
          [
           null,
           null,
           null,
           null,
           0.693149209022522,
           null,
           null,
           null,
           null,
           null,
           null,
           null,
           null,
           null,
           null,
           null
          ],
          [
           null,
           null,
           null,
           null,
           null,
           0.6931485533714294,
           null,
           null,
           null,
           null,
           null,
           null,
           null,
           null,
           null,
           null
          ],
          [
           null,
           null,
           null,
           null,
           null,
           null,
           null,
           null,
           null,
           null,
           null,
           null,
           null,
           null,
           null,
           null
          ]
         ]
        },
        {
         "marker": {
          "color": "black",
          "line": {
           "color": "Gray",
           "width": 2
          }
         },
         "mode": "markers",
         "name": "Feasible Trial",
         "showlegend": false,
         "type": "scatter",
         "x": [
          104,
          26,
          33,
          85,
          89,
          112,
          117,
          34,
          128,
          109,
          58,
          55,
          55,
          57,
          60
         ],
         "y": [
          0.0000506569341177556,
          0.00014781481151701967,
          0.000002632315316012288,
          0.0000010159524839499078,
          0.00000328745327756644,
          0.00007053501938507429,
          0.00006492007373925729,
          0.000018753279403802437,
          0.0005142683811131112,
          0.0000016689791483663455,
          0.0040764534079202296,
          0.003812987128689077,
          0.007995447494835143,
          0.008421281849991316,
          0.0015444589512302795
         ]
        },
        {
         "marker": {
          "color": "#cccccc",
          "line": {
           "color": "Gray",
           "width": 2
          }
         },
         "mode": "markers",
         "name": "Infeasible Trial",
         "showlegend": false,
         "type": "scatter",
         "x": [],
         "y": []
        }
       ],
       "layout": {
        "template": {
         "data": {
          "bar": [
           {
            "error_x": {
             "color": "#2a3f5f"
            },
            "error_y": {
             "color": "#2a3f5f"
            },
            "marker": {
             "line": {
              "color": "#E5ECF6",
              "width": 0.5
             },
             "pattern": {
              "fillmode": "overlay",
              "size": 10,
              "solidity": 0.2
             }
            },
            "type": "bar"
           }
          ],
          "barpolar": [
           {
            "marker": {
             "line": {
              "color": "#E5ECF6",
              "width": 0.5
             },
             "pattern": {
              "fillmode": "overlay",
              "size": 10,
              "solidity": 0.2
             }
            },
            "type": "barpolar"
           }
          ],
          "carpet": [
           {
            "aaxis": {
             "endlinecolor": "#2a3f5f",
             "gridcolor": "white",
             "linecolor": "white",
             "minorgridcolor": "white",
             "startlinecolor": "#2a3f5f"
            },
            "baxis": {
             "endlinecolor": "#2a3f5f",
             "gridcolor": "white",
             "linecolor": "white",
             "minorgridcolor": "white",
             "startlinecolor": "#2a3f5f"
            },
            "type": "carpet"
           }
          ],
          "choropleth": [
           {
            "colorbar": {
             "outlinewidth": 0,
             "ticks": ""
            },
            "type": "choropleth"
           }
          ],
          "contour": [
           {
            "colorbar": {
             "outlinewidth": 0,
             "ticks": ""
            },
            "colorscale": [
             [
              0,
              "#0d0887"
             ],
             [
              0.1111111111111111,
              "#46039f"
             ],
             [
              0.2222222222222222,
              "#7201a8"
             ],
             [
              0.3333333333333333,
              "#9c179e"
             ],
             [
              0.4444444444444444,
              "#bd3786"
             ],
             [
              0.5555555555555556,
              "#d8576b"
             ],
             [
              0.6666666666666666,
              "#ed7953"
             ],
             [
              0.7777777777777778,
              "#fb9f3a"
             ],
             [
              0.8888888888888888,
              "#fdca26"
             ],
             [
              1,
              "#f0f921"
             ]
            ],
            "type": "contour"
           }
          ],
          "contourcarpet": [
           {
            "colorbar": {
             "outlinewidth": 0,
             "ticks": ""
            },
            "type": "contourcarpet"
           }
          ],
          "heatmap": [
           {
            "colorbar": {
             "outlinewidth": 0,
             "ticks": ""
            },
            "colorscale": [
             [
              0,
              "#0d0887"
             ],
             [
              0.1111111111111111,
              "#46039f"
             ],
             [
              0.2222222222222222,
              "#7201a8"
             ],
             [
              0.3333333333333333,
              "#9c179e"
             ],
             [
              0.4444444444444444,
              "#bd3786"
             ],
             [
              0.5555555555555556,
              "#d8576b"
             ],
             [
              0.6666666666666666,
              "#ed7953"
             ],
             [
              0.7777777777777778,
              "#fb9f3a"
             ],
             [
              0.8888888888888888,
              "#fdca26"
             ],
             [
              1,
              "#f0f921"
             ]
            ],
            "type": "heatmap"
           }
          ],
          "heatmapgl": [
           {
            "colorbar": {
             "outlinewidth": 0,
             "ticks": ""
            },
            "colorscale": [
             [
              0,
              "#0d0887"
             ],
             [
              0.1111111111111111,
              "#46039f"
             ],
             [
              0.2222222222222222,
              "#7201a8"
             ],
             [
              0.3333333333333333,
              "#9c179e"
             ],
             [
              0.4444444444444444,
              "#bd3786"
             ],
             [
              0.5555555555555556,
              "#d8576b"
             ],
             [
              0.6666666666666666,
              "#ed7953"
             ],
             [
              0.7777777777777778,
              "#fb9f3a"
             ],
             [
              0.8888888888888888,
              "#fdca26"
             ],
             [
              1,
              "#f0f921"
             ]
            ],
            "type": "heatmapgl"
           }
          ],
          "histogram": [
           {
            "marker": {
             "pattern": {
              "fillmode": "overlay",
              "size": 10,
              "solidity": 0.2
             }
            },
            "type": "histogram"
           }
          ],
          "histogram2d": [
           {
            "colorbar": {
             "outlinewidth": 0,
             "ticks": ""
            },
            "colorscale": [
             [
              0,
              "#0d0887"
             ],
             [
              0.1111111111111111,
              "#46039f"
             ],
             [
              0.2222222222222222,
              "#7201a8"
             ],
             [
              0.3333333333333333,
              "#9c179e"
             ],
             [
              0.4444444444444444,
              "#bd3786"
             ],
             [
              0.5555555555555556,
              "#d8576b"
             ],
             [
              0.6666666666666666,
              "#ed7953"
             ],
             [
              0.7777777777777778,
              "#fb9f3a"
             ],
             [
              0.8888888888888888,
              "#fdca26"
             ],
             [
              1,
              "#f0f921"
             ]
            ],
            "type": "histogram2d"
           }
          ],
          "histogram2dcontour": [
           {
            "colorbar": {
             "outlinewidth": 0,
             "ticks": ""
            },
            "colorscale": [
             [
              0,
              "#0d0887"
             ],
             [
              0.1111111111111111,
              "#46039f"
             ],
             [
              0.2222222222222222,
              "#7201a8"
             ],
             [
              0.3333333333333333,
              "#9c179e"
             ],
             [
              0.4444444444444444,
              "#bd3786"
             ],
             [
              0.5555555555555556,
              "#d8576b"
             ],
             [
              0.6666666666666666,
              "#ed7953"
             ],
             [
              0.7777777777777778,
              "#fb9f3a"
             ],
             [
              0.8888888888888888,
              "#fdca26"
             ],
             [
              1,
              "#f0f921"
             ]
            ],
            "type": "histogram2dcontour"
           }
          ],
          "mesh3d": [
           {
            "colorbar": {
             "outlinewidth": 0,
             "ticks": ""
            },
            "type": "mesh3d"
           }
          ],
          "parcoords": [
           {
            "line": {
             "colorbar": {
              "outlinewidth": 0,
              "ticks": ""
             }
            },
            "type": "parcoords"
           }
          ],
          "pie": [
           {
            "automargin": true,
            "type": "pie"
           }
          ],
          "scatter": [
           {
            "fillpattern": {
             "fillmode": "overlay",
             "size": 10,
             "solidity": 0.2
            },
            "type": "scatter"
           }
          ],
          "scatter3d": [
           {
            "line": {
             "colorbar": {
              "outlinewidth": 0,
              "ticks": ""
             }
            },
            "marker": {
             "colorbar": {
              "outlinewidth": 0,
              "ticks": ""
             }
            },
            "type": "scatter3d"
           }
          ],
          "scattercarpet": [
           {
            "marker": {
             "colorbar": {
              "outlinewidth": 0,
              "ticks": ""
             }
            },
            "type": "scattercarpet"
           }
          ],
          "scattergeo": [
           {
            "marker": {
             "colorbar": {
              "outlinewidth": 0,
              "ticks": ""
             }
            },
            "type": "scattergeo"
           }
          ],
          "scattergl": [
           {
            "marker": {
             "colorbar": {
              "outlinewidth": 0,
              "ticks": ""
             }
            },
            "type": "scattergl"
           }
          ],
          "scattermapbox": [
           {
            "marker": {
             "colorbar": {
              "outlinewidth": 0,
              "ticks": ""
             }
            },
            "type": "scattermapbox"
           }
          ],
          "scatterpolar": [
           {
            "marker": {
             "colorbar": {
              "outlinewidth": 0,
              "ticks": ""
             }
            },
            "type": "scatterpolar"
           }
          ],
          "scatterpolargl": [
           {
            "marker": {
             "colorbar": {
              "outlinewidth": 0,
              "ticks": ""
             }
            },
            "type": "scatterpolargl"
           }
          ],
          "scatterternary": [
           {
            "marker": {
             "colorbar": {
              "outlinewidth": 0,
              "ticks": ""
             }
            },
            "type": "scatterternary"
           }
          ],
          "surface": [
           {
            "colorbar": {
             "outlinewidth": 0,
             "ticks": ""
            },
            "colorscale": [
             [
              0,
              "#0d0887"
             ],
             [
              0.1111111111111111,
              "#46039f"
             ],
             [
              0.2222222222222222,
              "#7201a8"
             ],
             [
              0.3333333333333333,
              "#9c179e"
             ],
             [
              0.4444444444444444,
              "#bd3786"
             ],
             [
              0.5555555555555556,
              "#d8576b"
             ],
             [
              0.6666666666666666,
              "#ed7953"
             ],
             [
              0.7777777777777778,
              "#fb9f3a"
             ],
             [
              0.8888888888888888,
              "#fdca26"
             ],
             [
              1,
              "#f0f921"
             ]
            ],
            "type": "surface"
           }
          ],
          "table": [
           {
            "cells": {
             "fill": {
              "color": "#EBF0F8"
             },
             "line": {
              "color": "white"
             }
            },
            "header": {
             "fill": {
              "color": "#C8D4E3"
             },
             "line": {
              "color": "white"
             }
            },
            "type": "table"
           }
          ]
         },
         "layout": {
          "annotationdefaults": {
           "arrowcolor": "#2a3f5f",
           "arrowhead": 0,
           "arrowwidth": 1
          },
          "autotypenumbers": "strict",
          "coloraxis": {
           "colorbar": {
            "outlinewidth": 0,
            "ticks": ""
           }
          },
          "colorscale": {
           "diverging": [
            [
             0,
             "#8e0152"
            ],
            [
             0.1,
             "#c51b7d"
            ],
            [
             0.2,
             "#de77ae"
            ],
            [
             0.3,
             "#f1b6da"
            ],
            [
             0.4,
             "#fde0ef"
            ],
            [
             0.5,
             "#f7f7f7"
            ],
            [
             0.6,
             "#e6f5d0"
            ],
            [
             0.7,
             "#b8e186"
            ],
            [
             0.8,
             "#7fbc41"
            ],
            [
             0.9,
             "#4d9221"
            ],
            [
             1,
             "#276419"
            ]
           ],
           "sequential": [
            [
             0,
             "#0d0887"
            ],
            [
             0.1111111111111111,
             "#46039f"
            ],
            [
             0.2222222222222222,
             "#7201a8"
            ],
            [
             0.3333333333333333,
             "#9c179e"
            ],
            [
             0.4444444444444444,
             "#bd3786"
            ],
            [
             0.5555555555555556,
             "#d8576b"
            ],
            [
             0.6666666666666666,
             "#ed7953"
            ],
            [
             0.7777777777777778,
             "#fb9f3a"
            ],
            [
             0.8888888888888888,
             "#fdca26"
            ],
            [
             1,
             "#f0f921"
            ]
           ],
           "sequentialminus": [
            [
             0,
             "#0d0887"
            ],
            [
             0.1111111111111111,
             "#46039f"
            ],
            [
             0.2222222222222222,
             "#7201a8"
            ],
            [
             0.3333333333333333,
             "#9c179e"
            ],
            [
             0.4444444444444444,
             "#bd3786"
            ],
            [
             0.5555555555555556,
             "#d8576b"
            ],
            [
             0.6666666666666666,
             "#ed7953"
            ],
            [
             0.7777777777777778,
             "#fb9f3a"
            ],
            [
             0.8888888888888888,
             "#fdca26"
            ],
            [
             1,
             "#f0f921"
            ]
           ]
          },
          "colorway": [
           "#636efa",
           "#EF553B",
           "#00cc96",
           "#ab63fa",
           "#FFA15A",
           "#19d3f3",
           "#FF6692",
           "#B6E880",
           "#FF97FF",
           "#FECB52"
          ],
          "font": {
           "color": "#2a3f5f"
          },
          "geo": {
           "bgcolor": "white",
           "lakecolor": "white",
           "landcolor": "#E5ECF6",
           "showlakes": true,
           "showland": true,
           "subunitcolor": "white"
          },
          "hoverlabel": {
           "align": "left"
          },
          "hovermode": "closest",
          "mapbox": {
           "style": "light"
          },
          "paper_bgcolor": "white",
          "plot_bgcolor": "#E5ECF6",
          "polar": {
           "angularaxis": {
            "gridcolor": "white",
            "linecolor": "white",
            "ticks": ""
           },
           "bgcolor": "#E5ECF6",
           "radialaxis": {
            "gridcolor": "white",
            "linecolor": "white",
            "ticks": ""
           }
          },
          "scene": {
           "xaxis": {
            "backgroundcolor": "#E5ECF6",
            "gridcolor": "white",
            "gridwidth": 2,
            "linecolor": "white",
            "showbackground": true,
            "ticks": "",
            "zerolinecolor": "white"
           },
           "yaxis": {
            "backgroundcolor": "#E5ECF6",
            "gridcolor": "white",
            "gridwidth": 2,
            "linecolor": "white",
            "showbackground": true,
            "ticks": "",
            "zerolinecolor": "white"
           },
           "zaxis": {
            "backgroundcolor": "#E5ECF6",
            "gridcolor": "white",
            "gridwidth": 2,
            "linecolor": "white",
            "showbackground": true,
            "ticks": "",
            "zerolinecolor": "white"
           }
          },
          "shapedefaults": {
           "line": {
            "color": "#2a3f5f"
           }
          },
          "ternary": {
           "aaxis": {
            "gridcolor": "white",
            "linecolor": "white",
            "ticks": ""
           },
           "baxis": {
            "gridcolor": "white",
            "linecolor": "white",
            "ticks": ""
           },
           "bgcolor": "#E5ECF6",
           "caxis": {
            "gridcolor": "white",
            "linecolor": "white",
            "ticks": ""
           }
          },
          "title": {
           "x": 0.05
          },
          "xaxis": {
           "automargin": true,
           "gridcolor": "white",
           "linecolor": "white",
           "ticks": "",
           "title": {
            "standoff": 15
           },
           "zerolinecolor": "white",
           "zerolinewidth": 2
          },
          "yaxis": {
           "automargin": true,
           "gridcolor": "white",
           "linecolor": "white",
           "ticks": "",
           "title": {
            "standoff": 15
           },
           "zerolinecolor": "white",
           "zerolinewidth": 2
          }
         }
        },
        "title": {
         "text": "Contour Plot"
        },
        "xaxis": {
         "range": [
          20.9,
          133.1
         ],
         "title": {
          "text": "opt_bs"
         }
        },
        "yaxis": {
         "range": [
          -6.189051843830276,
          -1.8786965567775784
         ],
         "title": {
          "text": "opt_lr"
         },
         "type": "log"
        }
       }
      }
     },
     "metadata": {},
     "output_type": "display_data"
    }
   ],
   "source": [
    "from optuna.visualization import plot_contour\n",
    "plot_contour(study, params=[\"opt_lr\", \"opt_bs\"])"
   ]
  },
  {
   "cell_type": "code",
   "execution_count": 11,
   "metadata": {},
   "outputs": [
    {
     "data": {
      "application/vnd.plotly.v1+json": {
       "config": {
        "plotlyServerURL": "https://plot.ly"
       },
       "data": [
        {
         "cliponaxis": false,
         "hovertemplate": [
          "opt_bs (IntDistribution): 0.17948012103015093<extra></extra>",
          "opt_lr (FloatDistribution): 0.40841130901427974<extra></extra>",
          "opt_num_hidden_dense_units (IntDistribution): 0.4121085699555694<extra></extra>"
         ],
         "name": "Objective Value",
         "orientation": "h",
         "text": [
          "0.18",
          "0.41",
          "0.41"
         ],
         "textposition": "outside",
         "type": "bar",
         "x": [
          0.17948012103015093,
          0.40841130901427974,
          0.4121085699555694
         ],
         "y": [
          "opt_bs",
          "opt_lr",
          "opt_num_hidden_dense_units"
         ]
        }
       ],
       "layout": {
        "template": {
         "data": {
          "bar": [
           {
            "error_x": {
             "color": "#2a3f5f"
            },
            "error_y": {
             "color": "#2a3f5f"
            },
            "marker": {
             "line": {
              "color": "#E5ECF6",
              "width": 0.5
             },
             "pattern": {
              "fillmode": "overlay",
              "size": 10,
              "solidity": 0.2
             }
            },
            "type": "bar"
           }
          ],
          "barpolar": [
           {
            "marker": {
             "line": {
              "color": "#E5ECF6",
              "width": 0.5
             },
             "pattern": {
              "fillmode": "overlay",
              "size": 10,
              "solidity": 0.2
             }
            },
            "type": "barpolar"
           }
          ],
          "carpet": [
           {
            "aaxis": {
             "endlinecolor": "#2a3f5f",
             "gridcolor": "white",
             "linecolor": "white",
             "minorgridcolor": "white",
             "startlinecolor": "#2a3f5f"
            },
            "baxis": {
             "endlinecolor": "#2a3f5f",
             "gridcolor": "white",
             "linecolor": "white",
             "minorgridcolor": "white",
             "startlinecolor": "#2a3f5f"
            },
            "type": "carpet"
           }
          ],
          "choropleth": [
           {
            "colorbar": {
             "outlinewidth": 0,
             "ticks": ""
            },
            "type": "choropleth"
           }
          ],
          "contour": [
           {
            "colorbar": {
             "outlinewidth": 0,
             "ticks": ""
            },
            "colorscale": [
             [
              0,
              "#0d0887"
             ],
             [
              0.1111111111111111,
              "#46039f"
             ],
             [
              0.2222222222222222,
              "#7201a8"
             ],
             [
              0.3333333333333333,
              "#9c179e"
             ],
             [
              0.4444444444444444,
              "#bd3786"
             ],
             [
              0.5555555555555556,
              "#d8576b"
             ],
             [
              0.6666666666666666,
              "#ed7953"
             ],
             [
              0.7777777777777778,
              "#fb9f3a"
             ],
             [
              0.8888888888888888,
              "#fdca26"
             ],
             [
              1,
              "#f0f921"
             ]
            ],
            "type": "contour"
           }
          ],
          "contourcarpet": [
           {
            "colorbar": {
             "outlinewidth": 0,
             "ticks": ""
            },
            "type": "contourcarpet"
           }
          ],
          "heatmap": [
           {
            "colorbar": {
             "outlinewidth": 0,
             "ticks": ""
            },
            "colorscale": [
             [
              0,
              "#0d0887"
             ],
             [
              0.1111111111111111,
              "#46039f"
             ],
             [
              0.2222222222222222,
              "#7201a8"
             ],
             [
              0.3333333333333333,
              "#9c179e"
             ],
             [
              0.4444444444444444,
              "#bd3786"
             ],
             [
              0.5555555555555556,
              "#d8576b"
             ],
             [
              0.6666666666666666,
              "#ed7953"
             ],
             [
              0.7777777777777778,
              "#fb9f3a"
             ],
             [
              0.8888888888888888,
              "#fdca26"
             ],
             [
              1,
              "#f0f921"
             ]
            ],
            "type": "heatmap"
           }
          ],
          "heatmapgl": [
           {
            "colorbar": {
             "outlinewidth": 0,
             "ticks": ""
            },
            "colorscale": [
             [
              0,
              "#0d0887"
             ],
             [
              0.1111111111111111,
              "#46039f"
             ],
             [
              0.2222222222222222,
              "#7201a8"
             ],
             [
              0.3333333333333333,
              "#9c179e"
             ],
             [
              0.4444444444444444,
              "#bd3786"
             ],
             [
              0.5555555555555556,
              "#d8576b"
             ],
             [
              0.6666666666666666,
              "#ed7953"
             ],
             [
              0.7777777777777778,
              "#fb9f3a"
             ],
             [
              0.8888888888888888,
              "#fdca26"
             ],
             [
              1,
              "#f0f921"
             ]
            ],
            "type": "heatmapgl"
           }
          ],
          "histogram": [
           {
            "marker": {
             "pattern": {
              "fillmode": "overlay",
              "size": 10,
              "solidity": 0.2
             }
            },
            "type": "histogram"
           }
          ],
          "histogram2d": [
           {
            "colorbar": {
             "outlinewidth": 0,
             "ticks": ""
            },
            "colorscale": [
             [
              0,
              "#0d0887"
             ],
             [
              0.1111111111111111,
              "#46039f"
             ],
             [
              0.2222222222222222,
              "#7201a8"
             ],
             [
              0.3333333333333333,
              "#9c179e"
             ],
             [
              0.4444444444444444,
              "#bd3786"
             ],
             [
              0.5555555555555556,
              "#d8576b"
             ],
             [
              0.6666666666666666,
              "#ed7953"
             ],
             [
              0.7777777777777778,
              "#fb9f3a"
             ],
             [
              0.8888888888888888,
              "#fdca26"
             ],
             [
              1,
              "#f0f921"
             ]
            ],
            "type": "histogram2d"
           }
          ],
          "histogram2dcontour": [
           {
            "colorbar": {
             "outlinewidth": 0,
             "ticks": ""
            },
            "colorscale": [
             [
              0,
              "#0d0887"
             ],
             [
              0.1111111111111111,
              "#46039f"
             ],
             [
              0.2222222222222222,
              "#7201a8"
             ],
             [
              0.3333333333333333,
              "#9c179e"
             ],
             [
              0.4444444444444444,
              "#bd3786"
             ],
             [
              0.5555555555555556,
              "#d8576b"
             ],
             [
              0.6666666666666666,
              "#ed7953"
             ],
             [
              0.7777777777777778,
              "#fb9f3a"
             ],
             [
              0.8888888888888888,
              "#fdca26"
             ],
             [
              1,
              "#f0f921"
             ]
            ],
            "type": "histogram2dcontour"
           }
          ],
          "mesh3d": [
           {
            "colorbar": {
             "outlinewidth": 0,
             "ticks": ""
            },
            "type": "mesh3d"
           }
          ],
          "parcoords": [
           {
            "line": {
             "colorbar": {
              "outlinewidth": 0,
              "ticks": ""
             }
            },
            "type": "parcoords"
           }
          ],
          "pie": [
           {
            "automargin": true,
            "type": "pie"
           }
          ],
          "scatter": [
           {
            "fillpattern": {
             "fillmode": "overlay",
             "size": 10,
             "solidity": 0.2
            },
            "type": "scatter"
           }
          ],
          "scatter3d": [
           {
            "line": {
             "colorbar": {
              "outlinewidth": 0,
              "ticks": ""
             }
            },
            "marker": {
             "colorbar": {
              "outlinewidth": 0,
              "ticks": ""
             }
            },
            "type": "scatter3d"
           }
          ],
          "scattercarpet": [
           {
            "marker": {
             "colorbar": {
              "outlinewidth": 0,
              "ticks": ""
             }
            },
            "type": "scattercarpet"
           }
          ],
          "scattergeo": [
           {
            "marker": {
             "colorbar": {
              "outlinewidth": 0,
              "ticks": ""
             }
            },
            "type": "scattergeo"
           }
          ],
          "scattergl": [
           {
            "marker": {
             "colorbar": {
              "outlinewidth": 0,
              "ticks": ""
             }
            },
            "type": "scattergl"
           }
          ],
          "scattermapbox": [
           {
            "marker": {
             "colorbar": {
              "outlinewidth": 0,
              "ticks": ""
             }
            },
            "type": "scattermapbox"
           }
          ],
          "scatterpolar": [
           {
            "marker": {
             "colorbar": {
              "outlinewidth": 0,
              "ticks": ""
             }
            },
            "type": "scatterpolar"
           }
          ],
          "scatterpolargl": [
           {
            "marker": {
             "colorbar": {
              "outlinewidth": 0,
              "ticks": ""
             }
            },
            "type": "scatterpolargl"
           }
          ],
          "scatterternary": [
           {
            "marker": {
             "colorbar": {
              "outlinewidth": 0,
              "ticks": ""
             }
            },
            "type": "scatterternary"
           }
          ],
          "surface": [
           {
            "colorbar": {
             "outlinewidth": 0,
             "ticks": ""
            },
            "colorscale": [
             [
              0,
              "#0d0887"
             ],
             [
              0.1111111111111111,
              "#46039f"
             ],
             [
              0.2222222222222222,
              "#7201a8"
             ],
             [
              0.3333333333333333,
              "#9c179e"
             ],
             [
              0.4444444444444444,
              "#bd3786"
             ],
             [
              0.5555555555555556,
              "#d8576b"
             ],
             [
              0.6666666666666666,
              "#ed7953"
             ],
             [
              0.7777777777777778,
              "#fb9f3a"
             ],
             [
              0.8888888888888888,
              "#fdca26"
             ],
             [
              1,
              "#f0f921"
             ]
            ],
            "type": "surface"
           }
          ],
          "table": [
           {
            "cells": {
             "fill": {
              "color": "#EBF0F8"
             },
             "line": {
              "color": "white"
             }
            },
            "header": {
             "fill": {
              "color": "#C8D4E3"
             },
             "line": {
              "color": "white"
             }
            },
            "type": "table"
           }
          ]
         },
         "layout": {
          "annotationdefaults": {
           "arrowcolor": "#2a3f5f",
           "arrowhead": 0,
           "arrowwidth": 1
          },
          "autotypenumbers": "strict",
          "coloraxis": {
           "colorbar": {
            "outlinewidth": 0,
            "ticks": ""
           }
          },
          "colorscale": {
           "diverging": [
            [
             0,
             "#8e0152"
            ],
            [
             0.1,
             "#c51b7d"
            ],
            [
             0.2,
             "#de77ae"
            ],
            [
             0.3,
             "#f1b6da"
            ],
            [
             0.4,
             "#fde0ef"
            ],
            [
             0.5,
             "#f7f7f7"
            ],
            [
             0.6,
             "#e6f5d0"
            ],
            [
             0.7,
             "#b8e186"
            ],
            [
             0.8,
             "#7fbc41"
            ],
            [
             0.9,
             "#4d9221"
            ],
            [
             1,
             "#276419"
            ]
           ],
           "sequential": [
            [
             0,
             "#0d0887"
            ],
            [
             0.1111111111111111,
             "#46039f"
            ],
            [
             0.2222222222222222,
             "#7201a8"
            ],
            [
             0.3333333333333333,
             "#9c179e"
            ],
            [
             0.4444444444444444,
             "#bd3786"
            ],
            [
             0.5555555555555556,
             "#d8576b"
            ],
            [
             0.6666666666666666,
             "#ed7953"
            ],
            [
             0.7777777777777778,
             "#fb9f3a"
            ],
            [
             0.8888888888888888,
             "#fdca26"
            ],
            [
             1,
             "#f0f921"
            ]
           ],
           "sequentialminus": [
            [
             0,
             "#0d0887"
            ],
            [
             0.1111111111111111,
             "#46039f"
            ],
            [
             0.2222222222222222,
             "#7201a8"
            ],
            [
             0.3333333333333333,
             "#9c179e"
            ],
            [
             0.4444444444444444,
             "#bd3786"
            ],
            [
             0.5555555555555556,
             "#d8576b"
            ],
            [
             0.6666666666666666,
             "#ed7953"
            ],
            [
             0.7777777777777778,
             "#fb9f3a"
            ],
            [
             0.8888888888888888,
             "#fdca26"
            ],
            [
             1,
             "#f0f921"
            ]
           ]
          },
          "colorway": [
           "#636efa",
           "#EF553B",
           "#00cc96",
           "#ab63fa",
           "#FFA15A",
           "#19d3f3",
           "#FF6692",
           "#B6E880",
           "#FF97FF",
           "#FECB52"
          ],
          "font": {
           "color": "#2a3f5f"
          },
          "geo": {
           "bgcolor": "white",
           "lakecolor": "white",
           "landcolor": "#E5ECF6",
           "showlakes": true,
           "showland": true,
           "subunitcolor": "white"
          },
          "hoverlabel": {
           "align": "left"
          },
          "hovermode": "closest",
          "mapbox": {
           "style": "light"
          },
          "paper_bgcolor": "white",
          "plot_bgcolor": "#E5ECF6",
          "polar": {
           "angularaxis": {
            "gridcolor": "white",
            "linecolor": "white",
            "ticks": ""
           },
           "bgcolor": "#E5ECF6",
           "radialaxis": {
            "gridcolor": "white",
            "linecolor": "white",
            "ticks": ""
           }
          },
          "scene": {
           "xaxis": {
            "backgroundcolor": "#E5ECF6",
            "gridcolor": "white",
            "gridwidth": 2,
            "linecolor": "white",
            "showbackground": true,
            "ticks": "",
            "zerolinecolor": "white"
           },
           "yaxis": {
            "backgroundcolor": "#E5ECF6",
            "gridcolor": "white",
            "gridwidth": 2,
            "linecolor": "white",
            "showbackground": true,
            "ticks": "",
            "zerolinecolor": "white"
           },
           "zaxis": {
            "backgroundcolor": "#E5ECF6",
            "gridcolor": "white",
            "gridwidth": 2,
            "linecolor": "white",
            "showbackground": true,
            "ticks": "",
            "zerolinecolor": "white"
           }
          },
          "shapedefaults": {
           "line": {
            "color": "#2a3f5f"
           }
          },
          "ternary": {
           "aaxis": {
            "gridcolor": "white",
            "linecolor": "white",
            "ticks": ""
           },
           "baxis": {
            "gridcolor": "white",
            "linecolor": "white",
            "ticks": ""
           },
           "bgcolor": "#E5ECF6",
           "caxis": {
            "gridcolor": "white",
            "linecolor": "white",
            "ticks": ""
           }
          },
          "title": {
           "x": 0.05
          },
          "xaxis": {
           "automargin": true,
           "gridcolor": "white",
           "linecolor": "white",
           "ticks": "",
           "title": {
            "standoff": 15
           },
           "zerolinecolor": "white",
           "zerolinewidth": 2
          },
          "yaxis": {
           "automargin": true,
           "gridcolor": "white",
           "linecolor": "white",
           "ticks": "",
           "title": {
            "standoff": 15
           },
           "zerolinecolor": "white",
           "zerolinewidth": 2
          }
         }
        },
        "title": {
         "text": "Hyperparameter Importances"
        },
        "xaxis": {
         "title": {
          "text": "Hyperparameter Importance"
         }
        },
        "yaxis": {
         "title": {
          "text": "Hyperparameter"
         }
        }
       }
      }
     },
     "metadata": {},
     "output_type": "display_data"
    }
   ],
   "source": [
    "from optuna.visualization import plot_param_importances\n",
    "plot_param_importances(study)"
   ]
  },
  {
   "cell_type": "code",
   "execution_count": 12,
   "metadata": {},
   "outputs": [
    {
     "name": "stdout",
     "output_type": "stream",
     "text": [
      "Found num hidden dense units: 352\n",
      "Found learning rate: 0.0040764534079202296\n",
      "Found batch size: 58\n"
     ]
    }
   ],
   "source": [
    "best_params = study.best_params\n",
    "found_opt_num_hidden_dense_units = best_params[\"opt_num_hidden_dense_units\"]\n",
    "found_opt_lr = best_params[\"opt_lr\"]\n",
    "found_opt_bs = best_params[\"opt_bs\"]\n",
    "print(\"Found num hidden dense units: {}\".format(found_opt_num_hidden_dense_units))\n",
    "print(\"Found learning rate: {}\".format(found_opt_lr))\n",
    "print(\"Found batch size: {}\".format(found_opt_bs))"
   ]
  },
  {
   "cell_type": "code",
   "execution_count": 13,
   "metadata": {},
   "outputs": [],
   "source": [
    "inputs = keras.Input(shape=(IMG_SIZE, IMG_SIZE, 3))\n",
    "x = layers.Rescaling(1./255)(inputs)\n",
    "x = layers.Conv2D(filters=4, kernel_size=4, activation=\"relu\")(x)\n",
    "x = layers.MaxPooling2D(pool_size=2)(x)\n",
    "x = layers.Conv2D(filters=8, kernel_size=4, activation=\"relu\")(x)\n",
    "x = layers.MaxPooling2D(pool_size=2)(x)\n",
    "x = layers.Conv2D(filters=8, kernel_size=4, activation=\"relu\")(x)\n",
    "x = layers.MaxPooling2D(pool_size=2)(x)\n",
    "x = layers.Conv2D(filters=16, kernel_size=4, activation=\"relu\")(x)\n",
    "x = layers.MaxPooling2D(pool_size=2)(x)\n",
    "x = layers.Flatten()(x)\n",
    "x = layers.Dropout(0.5)(x)\n",
    "x = layers.Dense(found_opt_num_hidden_dense_units, activation=\"relu\")(x)\n",
    "outputs = layers.Dense(1, activation=\"sigmoid\")(x)\n",
    "model = keras.Model(inputs=inputs, outputs=outputs)\n"
   ]
  },
  {
   "cell_type": "code",
   "execution_count": 14,
   "metadata": {},
   "outputs": [],
   "source": [
    "model.compile(\n",
    "    loss=\"binary_crossentropy\", \n",
    "    optimizer=tf.keras.optimizers.RMSprop(learning_rate=found_opt_lr), \n",
    "    metrics=['acc'])"
   ]
  },
  {
   "cell_type": "code",
   "execution_count": 15,
   "metadata": {},
   "outputs": [],
   "source": [
    "checkpoint_filepath = 'models/5-1/ch-{epoch:03d}.ckpt'\n",
    "callbacks = keras.callbacks.ModelCheckpoint(\n",
    "    filepath=checkpoint_filepath,\n",
    "    save_best_only=True,\n",
    "    monitor='val_loss',\n",
    "    verbose=1)\n",
    "early_stop = tf.keras.callbacks.EarlyStopping(monitor='val_loss', patience=5)"
   ]
  },
  {
   "cell_type": "code",
   "execution_count": 16,
   "metadata": {},
   "outputs": [
    {
     "name": "stdout",
     "output_type": "stream",
     "text": [
      "Epoch 1/40\n"
     ]
    },
    {
     "name": "stdout",
     "output_type": "stream",
     "text": [
      "93/94 [============================>.] - ETA: 0s - loss: 0.7474 - acc: 0.4976\n",
      "Epoch 1: val_loss improved from inf to 0.69189, saving model to models/5-1/ch-001.ckpt\n",
      "INFO:tensorflow:Assets written to: models/5-1/ch-001.ckpt/assets\n"
     ]
    },
    {
     "name": "stderr",
     "output_type": "stream",
     "text": [
      "INFO:tensorflow:Assets written to: models/5-1/ch-001.ckpt/assets\n"
     ]
    },
    {
     "name": "stdout",
     "output_type": "stream",
     "text": [
      "94/94 [==============================] - 8s 64ms/step - loss: 0.7471 - acc: 0.4957 - val_loss: 0.6919 - val_acc: 0.5460\n",
      "Epoch 2/40\n",
      "92/94 [============================>.] - ETA: 0s - loss: 0.6553 - acc: 0.6566\n",
      "Epoch 2: val_loss improved from 0.69189 to 0.64009, saving model to models/5-1/ch-002.ckpt\n",
      "INFO:tensorflow:Assets written to: models/5-1/ch-002.ckpt/assets\n"
     ]
    },
    {
     "name": "stderr",
     "output_type": "stream",
     "text": [
      "INFO:tensorflow:Assets written to: models/5-1/ch-002.ckpt/assets\n"
     ]
    },
    {
     "name": "stdout",
     "output_type": "stream",
     "text": [
      "94/94 [==============================] - 6s 63ms/step - loss: 0.6529 - acc: 0.6583 - val_loss: 0.6401 - val_acc: 0.5930\n",
      "Epoch 3/40\n",
      "92/94 [============================>.] - ETA: 0s - loss: 0.5304 - acc: 0.7554\n",
      "Epoch 3: val_loss improved from 0.64009 to 0.45306, saving model to models/5-1/ch-003.ckpt\n",
      "INFO:tensorflow:Assets written to: models/5-1/ch-003.ckpt/assets\n"
     ]
    },
    {
     "name": "stderr",
     "output_type": "stream",
     "text": [
      "INFO:tensorflow:Assets written to: models/5-1/ch-003.ckpt/assets\n"
     ]
    },
    {
     "name": "stdout",
     "output_type": "stream",
     "text": [
      "94/94 [==============================] - 5s 54ms/step - loss: 0.5293 - acc: 0.7553 - val_loss: 0.4531 - val_acc: 0.8260\n",
      "Epoch 4/40\n",
      "93/94 [============================>.] - ETA: 0s - loss: 0.4211 - acc: 0.8202\n",
      "Epoch 4: val_loss improved from 0.45306 to 0.39314, saving model to models/5-1/ch-004.ckpt\n",
      "INFO:tensorflow:Assets written to: models/5-1/ch-004.ckpt/assets\n"
     ]
    },
    {
     "name": "stderr",
     "output_type": "stream",
     "text": [
      "INFO:tensorflow:Assets written to: models/5-1/ch-004.ckpt/assets\n"
     ]
    },
    {
     "name": "stdout",
     "output_type": "stream",
     "text": [
      "94/94 [==============================] - 6s 61ms/step - loss: 0.4198 - acc: 0.8210 - val_loss: 0.3931 - val_acc: 0.8440\n",
      "Epoch 5/40\n",
      "94/94 [==============================] - ETA: 0s - loss: 0.3194 - acc: 0.8783\n",
      "Epoch 5: val_loss improved from 0.39314 to 0.37001, saving model to models/5-1/ch-005.ckpt\n",
      "INFO:tensorflow:Assets written to: models/5-1/ch-005.ckpt/assets\n"
     ]
    },
    {
     "name": "stderr",
     "output_type": "stream",
     "text": [
      "INFO:tensorflow:Assets written to: models/5-1/ch-005.ckpt/assets\n"
     ]
    },
    {
     "name": "stdout",
     "output_type": "stream",
     "text": [
      "94/94 [==============================] - 6s 59ms/step - loss: 0.3194 - acc: 0.8783 - val_loss: 0.3700 - val_acc: 0.8500\n",
      "Epoch 6/40\n",
      "92/94 [============================>.] - ETA: 0s - loss: 0.2673 - acc: 0.9012\n",
      "Epoch 6: val_loss improved from 0.37001 to 0.29269, saving model to models/5-1/ch-006.ckpt\n",
      "INFO:tensorflow:Assets written to: models/5-1/ch-006.ckpt/assets\n"
     ]
    },
    {
     "name": "stderr",
     "output_type": "stream",
     "text": [
      "INFO:tensorflow:Assets written to: models/5-1/ch-006.ckpt/assets\n"
     ]
    },
    {
     "name": "stdout",
     "output_type": "stream",
     "text": [
      "94/94 [==============================] - 6s 58ms/step - loss: 0.2661 - acc: 0.9013 - val_loss: 0.2927 - val_acc: 0.8960\n",
      "Epoch 7/40\n",
      "93/94 [============================>.] - ETA: 0s - loss: 0.2382 - acc: 0.9160\n",
      "Epoch 7: val_loss improved from 0.29269 to 0.27242, saving model to models/5-1/ch-007.ckpt\n",
      "INFO:tensorflow:Assets written to: models/5-1/ch-007.ckpt/assets\n"
     ]
    },
    {
     "name": "stderr",
     "output_type": "stream",
     "text": [
      "INFO:tensorflow:Assets written to: models/5-1/ch-007.ckpt/assets\n"
     ]
    },
    {
     "name": "stdout",
     "output_type": "stream",
     "text": [
      "94/94 [==============================] - 6s 61ms/step - loss: 0.2407 - acc: 0.9157 - val_loss: 0.2724 - val_acc: 0.9060\n",
      "Epoch 8/40\n",
      "92/94 [============================>.] - ETA: 0s - loss: 0.2081 - acc: 0.9236\n",
      "Epoch 8: val_loss did not improve from 0.27242\n",
      "94/94 [==============================] - 5s 46ms/step - loss: 0.2069 - acc: 0.9243 - val_loss: 0.3124 - val_acc: 0.9070\n",
      "Epoch 9/40\n",
      "93/94 [============================>.] - ETA: 0s - loss: 0.2004 - acc: 0.9345\n",
      "Epoch 9: val_loss improved from 0.27242 to 0.24593, saving model to models/5-1/ch-009.ckpt\n",
      "INFO:tensorflow:Assets written to: models/5-1/ch-009.ckpt/assets\n"
     ]
    },
    {
     "name": "stderr",
     "output_type": "stream",
     "text": [
      "INFO:tensorflow:Assets written to: models/5-1/ch-009.ckpt/assets\n"
     ]
    },
    {
     "name": "stdout",
     "output_type": "stream",
     "text": [
      "94/94 [==============================] - 6s 59ms/step - loss: 0.2003 - acc: 0.9343 - val_loss: 0.2459 - val_acc: 0.9160\n",
      "Epoch 10/40\n",
      "93/94 [============================>.] - ETA: 0s - loss: 0.1522 - acc: 0.9435\n",
      "Epoch 10: val_loss did not improve from 0.24593\n",
      "94/94 [==============================] - 5s 49ms/step - loss: 0.1517 - acc: 0.9437 - val_loss: 0.2519 - val_acc: 0.9180\n",
      "Epoch 11/40\n",
      "93/94 [============================>.] - ETA: 0s - loss: 0.1481 - acc: 0.9449\n",
      "Epoch 11: val_loss did not improve from 0.24593\n",
      "94/94 [==============================] - 5s 46ms/step - loss: 0.1473 - acc: 0.9453 - val_loss: 0.3101 - val_acc: 0.9230\n",
      "Epoch 12/40\n",
      "92/94 [============================>.] - ETA: 0s - loss: 0.1369 - acc: 0.9545\n",
      "Epoch 12: val_loss did not improve from 0.24593\n",
      "94/94 [==============================] - 4s 43ms/step - loss: 0.1351 - acc: 0.9553 - val_loss: 0.3048 - val_acc: 0.9330\n",
      "Epoch 13/40\n",
      "94/94 [==============================] - ETA: 0s - loss: 0.1560 - acc: 0.9543\n",
      "Epoch 13: val_loss did not improve from 0.24593\n",
      "94/94 [==============================] - 4s 42ms/step - loss: 0.1560 - acc: 0.9543 - val_loss: 0.3400 - val_acc: 0.9260\n",
      "Epoch 14/40\n",
      "93/94 [============================>.] - ETA: 0s - loss: 0.1308 - acc: 0.9563\n",
      "Epoch 14: val_loss did not improve from 0.24593\n",
      "94/94 [==============================] - 5s 50ms/step - loss: 0.1313 - acc: 0.9563 - val_loss: 0.3631 - val_acc: 0.9170\n",
      "Epoch 15/40\n",
      "92/94 [============================>.] - ETA: 0s - loss: 0.1025 - acc: 0.9626\n",
      "Epoch 15: val_loss did not improve from 0.24593\n",
      "94/94 [==============================] - 5s 46ms/step - loss: 0.1045 - acc: 0.9617 - val_loss: 0.3734 - val_acc: 0.9280\n",
      "Epoch 16/40\n",
      "93/94 [============================>.] - ETA: 0s - loss: 0.0993 - acc: 0.9688\n",
      "Epoch 16: val_loss did not improve from 0.24593\n",
      "94/94 [==============================] - 4s 44ms/step - loss: 0.0998 - acc: 0.9687 - val_loss: 0.3293 - val_acc: 0.9340\n",
      "Epoch 17/40\n",
      "94/94 [==============================] - ETA: 0s - loss: 0.1004 - acc: 0.9673\n",
      "Epoch 17: val_loss did not improve from 0.24593\n",
      "94/94 [==============================] - 4s 46ms/step - loss: 0.1004 - acc: 0.9673 - val_loss: 0.3739 - val_acc: 0.9310\n",
      "Epoch 18/40\n",
      "93/94 [============================>.] - ETA: 0s - loss: 0.0878 - acc: 0.9731\n",
      "Epoch 18: val_loss did not improve from 0.24593\n",
      "94/94 [==============================] - 5s 50ms/step - loss: 0.0872 - acc: 0.9733 - val_loss: 0.4692 - val_acc: 0.9260\n",
      "Epoch 19/40\n",
      "93/94 [============================>.] - ETA: 0s - loss: 0.1021 - acc: 0.9731\n",
      "Epoch 19: val_loss did not improve from 0.24593\n",
      "94/94 [==============================] - 5s 48ms/step - loss: 0.1019 - acc: 0.9730 - val_loss: 0.3876 - val_acc: 0.9130\n",
      "Epoch 20/40\n",
      "93/94 [============================>.] - ETA: 0s - loss: 0.0849 - acc: 0.9765\n",
      "Epoch 20: val_loss did not improve from 0.24593\n",
      "94/94 [==============================] - 5s 48ms/step - loss: 0.0843 - acc: 0.9767 - val_loss: 0.4586 - val_acc: 0.9310\n",
      "Epoch 21/40\n",
      "93/94 [============================>.] - ETA: 0s - loss: 0.0930 - acc: 0.9724\n",
      "Epoch 21: val_loss did not improve from 0.24593\n",
      "94/94 [==============================] - 6s 60ms/step - loss: 0.0939 - acc: 0.9723 - val_loss: 0.4868 - val_acc: 0.9390\n",
      "Epoch 22/40\n",
      "92/94 [============================>.] - ETA: 0s - loss: 0.0721 - acc: 0.9783\n",
      "Epoch 22: val_loss did not improve from 0.24593\n",
      "94/94 [==============================] - 5s 46ms/step - loss: 0.0757 - acc: 0.9780 - val_loss: 0.3981 - val_acc: 0.9280\n",
      "Epoch 23/40\n",
      "92/94 [============================>.] - ETA: 0s - loss: 0.0788 - acc: 0.9776\n",
      "Epoch 23: val_loss did not improve from 0.24593\n",
      "94/94 [==============================] - 5s 47ms/step - loss: 0.0785 - acc: 0.9773 - val_loss: 0.4950 - val_acc: 0.9280\n",
      "Epoch 24/40\n",
      "92/94 [============================>.] - ETA: 0s - loss: 0.0820 - acc: 0.9755\n",
      "Epoch 24: val_loss did not improve from 0.24593\n",
      "94/94 [==============================] - 5s 47ms/step - loss: 0.0809 - acc: 0.9760 - val_loss: 0.3293 - val_acc: 0.9350\n",
      "Epoch 25/40\n",
      "93/94 [============================>.] - ETA: 0s - loss: 0.0824 - acc: 0.9775\n",
      "Epoch 25: val_loss did not improve from 0.24593\n",
      "94/94 [==============================] - 5s 49ms/step - loss: 0.0828 - acc: 0.9773 - val_loss: 0.4882 - val_acc: 0.9330\n",
      "Epoch 26/40\n",
      "93/94 [============================>.] - ETA: 0s - loss: 0.0672 - acc: 0.9825\n",
      "Epoch 26: val_loss did not improve from 0.24593\n",
      "94/94 [==============================] - 5s 46ms/step - loss: 0.0666 - acc: 0.9827 - val_loss: 0.4875 - val_acc: 0.9290\n",
      "Epoch 27/40\n",
      "93/94 [============================>.] - ETA: 0s - loss: 0.0832 - acc: 0.9808\n",
      "Epoch 27: val_loss did not improve from 0.24593\n",
      "94/94 [==============================] - 5s 47ms/step - loss: 0.0827 - acc: 0.9810 - val_loss: 0.4097 - val_acc: 0.9360\n",
      "Epoch 28/40\n",
      "92/94 [============================>.] - ETA: 0s - loss: 0.0593 - acc: 0.9779\n",
      "Epoch 28: val_loss did not improve from 0.24593\n",
      "94/94 [==============================] - 5s 45ms/step - loss: 0.0614 - acc: 0.9777 - val_loss: 0.6978 - val_acc: 0.9240\n",
      "Epoch 29/40\n",
      "92/94 [============================>.] - ETA: 0s - loss: 0.0759 - acc: 0.9817\n",
      "Epoch 29: val_loss did not improve from 0.24593\n",
      "94/94 [==============================] - 5s 46ms/step - loss: 0.0751 - acc: 0.9817 - val_loss: 0.5175 - val_acc: 0.9360\n",
      "Epoch 30/40\n",
      "93/94 [============================>.] - ETA: 0s - loss: 0.0485 - acc: 0.9832\n",
      "Epoch 30: val_loss did not improve from 0.24593\n",
      "94/94 [==============================] - 5s 48ms/step - loss: 0.0481 - acc: 0.9833 - val_loss: 0.7204 - val_acc: 0.9310\n",
      "Epoch 31/40\n",
      "93/94 [============================>.] - ETA: 0s - loss: 0.0872 - acc: 0.9772\n",
      "Epoch 31: val_loss did not improve from 0.24593\n",
      "94/94 [==============================] - 5s 48ms/step - loss: 0.0865 - acc: 0.9773 - val_loss: 0.5239 - val_acc: 0.9370\n",
      "Epoch 32/40\n",
      "92/94 [============================>.] - ETA: 0s - loss: 0.0471 - acc: 0.9878\n",
      "Epoch 32: val_loss did not improve from 0.24593\n",
      "94/94 [==============================] - 5s 45ms/step - loss: 0.0463 - acc: 0.9880 - val_loss: 0.7474 - val_acc: 0.9340\n",
      "Epoch 33/40\n",
      "93/94 [============================>.] - ETA: 0s - loss: 0.0409 - acc: 0.9872\n",
      "Epoch 33: val_loss did not improve from 0.24593\n",
      "94/94 [==============================] - 5s 46ms/step - loss: 0.0406 - acc: 0.9873 - val_loss: 0.9216 - val_acc: 0.9330\n",
      "Epoch 34/40\n",
      "93/94 [============================>.] - ETA: 0s - loss: 0.0578 - acc: 0.9829\n",
      "Epoch 34: val_loss did not improve from 0.24593\n",
      "94/94 [==============================] - 5s 48ms/step - loss: 0.0573 - acc: 0.9830 - val_loss: 0.7490 - val_acc: 0.9380\n",
      "Epoch 35/40\n",
      "93/94 [============================>.] - ETA: 0s - loss: 0.0561 - acc: 0.9829\n",
      "Epoch 35: val_loss did not improve from 0.24593\n",
      "94/94 [==============================] - 5s 47ms/step - loss: 0.0560 - acc: 0.9827 - val_loss: 0.9309 - val_acc: 0.9240\n",
      "Epoch 36/40\n",
      "92/94 [============================>.] - ETA: 0s - loss: 0.0709 - acc: 0.9857\n",
      "Epoch 36: val_loss did not improve from 0.24593\n",
      "94/94 [==============================] - 6s 58ms/step - loss: 0.0697 - acc: 0.9860 - val_loss: 0.6203 - val_acc: 0.9310\n",
      "Epoch 37/40\n",
      "93/94 [============================>.] - ETA: 0s - loss: 0.0517 - acc: 0.9879\n",
      "Epoch 37: val_loss did not improve from 0.24593\n",
      "94/94 [==============================] - 5s 53ms/step - loss: 0.0536 - acc: 0.9877 - val_loss: 0.6302 - val_acc: 0.9280\n",
      "Epoch 38/40\n",
      "92/94 [============================>.] - ETA: 0s - loss: 0.0707 - acc: 0.9796\n",
      "Epoch 38: val_loss did not improve from 0.24593\n",
      "94/94 [==============================] - 6s 58ms/step - loss: 0.0695 - acc: 0.9800 - val_loss: 0.5757 - val_acc: 0.9380\n",
      "Epoch 39/40\n",
      "92/94 [============================>.] - ETA: 0s - loss: 0.0514 - acc: 0.9861\n",
      "Epoch 39: val_loss did not improve from 0.24593\n",
      "94/94 [==============================] - 5s 52ms/step - loss: 0.0506 - acc: 0.9863 - val_loss: 0.5449 - val_acc: 0.9440\n",
      "Epoch 40/40\n",
      "92/94 [============================>.] - ETA: 0s - loss: 0.0591 - acc: 0.9861\n",
      "Epoch 40: val_loss did not improve from 0.24593\n",
      "94/94 [==============================] - 5s 52ms/step - loss: 0.0580 - acc: 0.9863 - val_loss: 0.6420 - val_acc: 0.9360\n"
     ]
    }
   ],
   "source": [
    "#Best Epoch = ?\n",
    "\n",
    "history = model.fit(train_dataset, epochs=40, batch_size=found_opt_bs, validation_data=test_dataset, callbacks=[callbacks,early_stop])"
   ]
  },
  {
   "cell_type": "code",
   "execution_count": 21,
   "metadata": {},
   "outputs": [
    {
     "name": "stderr",
     "output_type": "stream",
     "text": [
      "/home/fred/.local/lib/python3.11/site-packages/keras/src/engine/training.py:3103: UserWarning:\n",
      "\n",
      "You are saving your model as an HDF5 file via `model.save()`. This file format is considered legacy. We recommend using instead the native Keras format, e.g. `model.save('my_model.keras')`.\n",
      "\n"
     ]
    }
   ],
   "source": [
    "model.save('models/5-1/5-1-E.h5')"
   ]
  },
  {
   "cell_type": "code",
   "execution_count": 22,
   "metadata": {},
   "outputs": [
    {
     "name": "stdout",
     "output_type": "stream",
     "text": [
      "[]\n",
      "[]\n",
      "[array([[[[-0.29912835, -0.19579819,  0.40471113, -0.09645652],\n",
      "         [-0.11635174,  0.06084597,  0.1300671 , -0.1601791 ],\n",
      "         [ 0.2264259 ,  0.15405354,  0.14159472, -0.5485701 ]],\n",
      "\n",
      "        [[-0.22559229, -0.16200502,  0.21082866,  0.01834656],\n",
      "         [-0.22144414, -0.23202749, -0.1833897 , -0.16162303],\n",
      "         [-0.1732075 , -0.06173323, -0.06299909,  0.20765196]],\n",
      "\n",
      "        [[-0.41743755, -0.01377664, -0.30919543, -0.01720738],\n",
      "         [-0.03910001, -0.07205524, -0.39036974, -0.24869506],\n",
      "         [ 0.23764072,  0.01040754, -0.28881806,  0.2512855 ]],\n",
      "\n",
      "        [[-0.17044812,  0.01876623, -0.3238632 ,  0.11138159],\n",
      "         [ 0.00445572, -0.08143798, -0.099054  ,  0.3426267 ],\n",
      "         [ 0.17586546,  0.05658899,  0.23684287, -0.16246203]]],\n",
      "\n",
      "\n",
      "       [[[-0.23262323,  0.09396009,  0.4461905 , -0.24122328],\n",
      "         [-0.19730379, -0.12230551, -0.12442066, -0.25664794],\n",
      "         [ 0.23450641,  0.15723744,  0.03016668,  0.251674  ]],\n",
      "\n",
      "        [[-0.37076977, -0.04794919, -0.08568978,  0.08926556],\n",
      "         [-0.08472673, -0.21384807, -0.21791609,  0.00631896],\n",
      "         [ 0.00269001,  0.03021414, -0.23791115,  0.36795723]],\n",
      "\n",
      "        [[-0.408531  ,  0.04119556, -0.34581167, -0.05110385],\n",
      "         [ 0.29449114, -0.00906587,  0.11486515,  0.40277794],\n",
      "         [ 0.05717557,  0.02529385,  0.19067775, -0.045557  ]],\n",
      "\n",
      "        [[-0.32772171,  0.04188164,  0.06707304,  0.10836039],\n",
      "         [ 0.3090191 , -0.09559987,  0.2730447 , -0.07188418],\n",
      "         [-0.04403872, -0.21311267,  0.20620914, -0.23628908]]],\n",
      "\n",
      "\n",
      "       [[[-0.25199243,  0.00504166,  0.02556595,  0.10839187],\n",
      "         [-0.28577572,  0.0867863 ,  0.00947144,  0.2321204 ],\n",
      "         [-0.20582332, -0.09296405,  0.19801879,  0.32378942]],\n",
      "\n",
      "        [[-0.26772684, -0.09103075, -0.3090806 , -0.1786168 ],\n",
      "         [-0.1535467 , -0.20030402, -0.06892066,  0.40311983],\n",
      "         [-0.06596655, -0.06081459,  0.0488242 ,  0.04297229]],\n",
      "\n",
      "        [[-0.04557646, -0.00531971, -0.15638807,  0.1882656 ],\n",
      "         [ 0.02020543,  0.1024821 ,  0.07966531,  0.37202418],\n",
      "         [ 0.14656354, -0.20550182, -0.07637061, -0.23983753]],\n",
      "\n",
      "        [[-0.32688713,  0.04054212, -0.05659439, -0.10452428],\n",
      "         [-0.01086816,  0.04528902,  0.14053048, -0.13734436],\n",
      "         [ 0.08520151, -0.09753792, -0.0588072 ,  0.07859757]]],\n",
      "\n",
      "\n",
      "       [[[-0.31482494, -0.05553225, -0.20194432, -0.04357925],\n",
      "         [-0.13318232,  0.04718745,  0.0631681 ,  0.30738336],\n",
      "         [-0.1111789 , -0.12512049, -0.21648666,  0.05585575]],\n",
      "\n",
      "        [[-0.14295778, -0.03522668, -0.09770795,  0.23546681],\n",
      "         [ 0.16197205, -0.23083979,  0.04271079,  0.01442294],\n",
      "         [-0.05524228, -0.03477485, -0.06858856, -0.30497736]],\n",
      "\n",
      "        [[-0.2651645 , -0.17044477,  0.1460644 ,  0.06403406],\n",
      "         [-0.14553438, -0.14049199,  0.05015085, -0.3438394 ],\n",
      "         [ 0.00386486,  0.06711012, -0.1163063 ,  0.05065108]],\n",
      "\n",
      "        [[-0.1488703 , -0.1698524 ,  0.25840518,  0.05372933],\n",
      "         [ 0.2992775 , -0.16177085,  0.02337233, -0.43127084],\n",
      "         [ 0.13245083, -0.25867382,  0.11547136,  0.07968693]]]],\n",
      "      dtype=float32), array([ 0.06342832, -0.02607755,  0.03820014, -0.15687533], dtype=float32)]\n",
      "[]\n",
      "[array([[[[ 1.97300792e-01,  8.06645770e-03, -1.31406859e-01,\n",
      "           1.67025447e-01,  3.41184810e-02, -2.43368834e-01,\n",
      "           5.21466881e-02, -1.58161700e-01],\n",
      "         [-1.52969301e-01,  9.57144275e-02, -1.69208497e-01,\n",
      "           1.81319900e-02, -9.74434614e-02, -1.00528672e-01,\n",
      "           6.49646297e-02, -7.15994611e-02],\n",
      "         [-2.21210524e-01, -2.01828584e-01, -2.76042074e-02,\n",
      "           3.68049592e-02,  6.78980798e-02,  6.14558794e-02,\n",
      "          -2.30945393e-01,  1.82420807e-03],\n",
      "         [ 9.29121580e-03, -2.05038041e-01, -6.93408698e-02,\n",
      "           4.37016755e-01, -3.15332860e-02,  4.61080894e-02,\n",
      "          -4.78218377e-01,  1.00325160e-01]],\n",
      "\n",
      "        [[-6.24834597e-02, -9.00419950e-02,  9.01972279e-02,\n",
      "           5.12258932e-02, -1.98852047e-01,  2.38826238e-02,\n",
      "           6.60585463e-02, -5.85177653e-02],\n",
      "         [-1.61989972e-01, -1.37750775e-01,  2.00851467e-02,\n",
      "          -3.75328697e-02,  6.78956360e-02, -2.73781735e-02,\n",
      "          -4.17199321e-02,  1.58542730e-02],\n",
      "         [ 1.95000634e-01,  2.29689494e-01,  8.83312523e-02,\n",
      "          -8.72189924e-02,  5.89189790e-02, -7.45417997e-02,\n",
      "          -1.65946215e-01, -6.78598555e-03],\n",
      "         [-2.40347043e-01, -7.10407421e-02,  3.43401432e-01,\n",
      "           1.93661332e-01, -1.25115871e-01, -7.86583722e-02,\n",
      "           7.00326636e-03, -3.14979732e-01]],\n",
      "\n",
      "        [[ 6.25274703e-02, -5.06478697e-02, -1.46079272e-01,\n",
      "          -5.33039942e-02, -1.49092987e-01,  7.87784532e-02,\n",
      "          -4.06209901e-02,  5.24958409e-03],\n",
      "         [ 6.95171505e-02,  7.13890046e-02,  1.83794588e-01,\n",
      "          -7.30661079e-02,  1.42010897e-01,  1.28593966e-01,\n",
      "           9.39645618e-02,  6.22177869e-02],\n",
      "         [-1.86588705e-01,  4.10430819e-01, -1.32150888e-01,\n",
      "           1.61675379e-01, -2.23457336e-01,  4.15917970e-02,\n",
      "           1.33403406e-01, -3.67256850e-01],\n",
      "         [-1.61317009e-02,  1.69764280e-01,  4.57738727e-01,\n",
      "          -1.50039643e-01,  1.74999580e-01,  3.40574235e-01,\n",
      "           8.10343698e-02,  1.49101570e-01]],\n",
      "\n",
      "        [[ 1.35499135e-01,  1.04811445e-01,  2.13723369e-02,\n",
      "          -2.28081256e-01,  1.55191896e-02,  2.01916154e-02,\n",
      "           1.38367668e-01, -8.23251903e-02],\n",
      "         [ 8.96155685e-02, -1.69979841e-01, -1.08676746e-01,\n",
      "           7.49959499e-02,  9.34498310e-02, -9.55484137e-02,\n",
      "          -3.67559940e-02,  1.20694727e-01],\n",
      "         [-9.04360488e-02, -5.15233517e-01,  4.16909903e-01,\n",
      "          -1.07949466e-01, -2.12634072e-01, -2.05680549e-01,\n",
      "          -2.97997862e-01,  1.88527733e-01],\n",
      "         [ 6.47537559e-02, -1.15343630e-01,  2.08647206e-01,\n",
      "          -9.76237003e-03, -3.21897089e-01, -2.03627020e-01,\n",
      "          -4.35249835e-01,  3.05747002e-01]]],\n",
      "\n",
      "\n",
      "       [[[ 1.28199458e-01, -2.05410942e-02, -1.37201861e-01,\n",
      "          -6.03215061e-02, -1.46664858e-01,  1.22332878e-01,\n",
      "           3.21596377e-02,  1.65025279e-01],\n",
      "         [ 8.65470022e-02,  1.07151464e-01,  5.40128350e-02,\n",
      "           8.68509412e-02, -1.21752433e-01, -1.69403046e-01,\n",
      "           7.68616125e-02, -1.97020516e-01],\n",
      "         [-2.35200852e-01,  3.40092450e-01, -3.77589725e-02,\n",
      "          -1.82567149e-01, -3.06507379e-01,  1.73189417e-01,\n",
      "          -2.32062146e-01,  3.02255321e-02],\n",
      "         [-1.89351887e-01,  1.27525419e-01, -1.24612600e-02,\n",
      "           2.67897815e-01, -9.58097875e-02,  1.36823095e-02,\n",
      "          -9.00967121e-02, -3.12901855e-01]],\n",
      "\n",
      "        [[-1.46828607e-01,  2.96498448e-01, -2.46342015e-03,\n",
      "          -1.78766996e-03, -1.08761929e-01,  3.02910596e-01,\n",
      "           5.21836206e-02,  9.16966051e-02],\n",
      "         [-5.73200732e-02, -9.62972417e-02, -6.52770251e-02,\n",
      "          -1.40981302e-01, -2.06098557e-01,  1.70045584e-01,\n",
      "          -4.31004167e-02, -1.67841494e-01],\n",
      "         [ 2.34746307e-01,  3.76644492e-01, -2.24402566e-02,\n",
      "          -2.50247270e-01,  6.97316155e-02,  1.88983873e-01,\n",
      "           2.29117423e-01, -3.79833758e-01],\n",
      "         [-4.35053945e-01,  3.05239946e-01, -1.29059464e-01,\n",
      "           2.12693468e-01, -2.67034620e-01,  3.74411523e-01,\n",
      "          -5.00172488e-02,  1.46767318e-01]],\n",
      "\n",
      "        [[-3.80220115e-02, -9.73448083e-02, -1.15134999e-01,\n",
      "           7.03056827e-02, -1.51076004e-01,  1.60111234e-01,\n",
      "           3.23765259e-03, -9.05737504e-02],\n",
      "         [ 1.34165168e-01, -4.83912826e-02, -1.31726712e-01,\n",
      "          -1.26033515e-01,  5.19222058e-02, -9.68241319e-02,\n",
      "          -1.09812573e-01,  9.88995805e-02],\n",
      "         [-3.47437188e-02, -2.59932876e-01,  3.17937322e-02,\n",
      "          -1.25388786e-01,  2.52998974e-02, -1.66091416e-02,\n",
      "           1.99579433e-01,  1.75581127e-01],\n",
      "         [ 1.00038245e-01, -1.73457742e-01, -3.17010045e-01,\n",
      "          -2.96459407e-01, -3.33943129e-01,  4.36325036e-02,\n",
      "          -2.27078408e-01,  2.07725450e-01]],\n",
      "\n",
      "        [[ 1.36739075e-01, -9.96777788e-02,  1.28490925e-01,\n",
      "          -4.66745580e-03,  9.63670164e-02,  9.35505331e-02,\n",
      "          -1.35817721e-01, -1.01278819e-01],\n",
      "         [-1.20104767e-01,  9.14564729e-02,  9.46503580e-02,\n",
      "           1.23171881e-02,  9.10710022e-02,  3.08521930e-03,\n",
      "          -1.99240688e-02,  1.20989941e-01],\n",
      "         [-1.44382343e-01, -1.07867844e-01, -2.10279264e-02,\n",
      "           4.08184826e-02,  2.42686763e-01,  6.94161132e-02,\n",
      "          -1.65313527e-01,  1.42757818e-01],\n",
      "         [-6.64664060e-02, -1.99964792e-01,  1.28471151e-01,\n",
      "          -2.16281805e-02,  1.50621369e-01, -8.97559226e-02,\n",
      "          -1.66884616e-01, -3.64855647e-01]]],\n",
      "\n",
      "\n",
      "       [[[-6.14975803e-02,  6.16734885e-02, -1.41620245e-02,\n",
      "           1.04127331e-02,  6.71012774e-02, -3.69150117e-02,\n",
      "           1.95260420e-01,  3.87060717e-02],\n",
      "         [-5.49130104e-02, -2.46541761e-02, -1.19895667e-01,\n",
      "           1.46119326e-01,  3.47262584e-02,  1.32888898e-01,\n",
      "          -6.69269934e-02,  4.67305854e-02],\n",
      "         [ 7.00880513e-02,  2.28355527e-01, -1.79391712e-01,\n",
      "          -4.30977792e-02, -5.73896207e-02,  1.31821156e-01,\n",
      "           4.95250113e-02, -2.87239015e-01],\n",
      "         [ 1.28627196e-01,  4.94453788e-01, -7.51806647e-02,\n",
      "          -1.19101435e-01,  1.39362261e-01,  2.11678162e-01,\n",
      "          -6.15940951e-02,  1.72104418e-01]],\n",
      "\n",
      "        [[-3.17073226e-01,  1.14279754e-01, -1.18143521e-01,\n",
      "          -7.24140182e-02, -4.88556921e-03, -5.70693053e-02,\n",
      "          -1.73695609e-01, -4.70680259e-02],\n",
      "         [ 8.29220414e-02, -1.31451879e-02,  1.92079186e-01,\n",
      "           5.05179018e-02,  4.09282520e-02, -7.61807105e-03,\n",
      "           1.61760390e-01,  1.63880274e-01],\n",
      "         [ 3.70384961e-01, -1.00905895e-01,  6.57366663e-02,\n",
      "           7.48245865e-02, -1.54556543e-01, -1.35830328e-01,\n",
      "           6.58751354e-02,  1.22246310e-01],\n",
      "         [-4.12764326e-02, -2.74606068e-02, -2.71288335e-01,\n",
      "           4.01963182e-02,  8.02449957e-02, -3.03700864e-01,\n",
      "           8.05390477e-02,  2.84846365e-01]],\n",
      "\n",
      "        [[-1.04427755e-01,  5.72592020e-02, -6.39432371e-02,\n",
      "           1.01479441e-01, -2.78177351e-01, -9.22539756e-02,\n",
      "          -2.76305098e-02, -8.04352090e-02],\n",
      "         [-1.54910952e-01,  7.49935731e-02,  1.57457352e-01,\n",
      "          -3.22982408e-02,  1.56731308e-01,  5.18821366e-02,\n",
      "          -9.11598280e-02, -9.84012634e-02],\n",
      "         [-3.21984217e-02,  8.52864310e-02,  1.07385535e-02,\n",
      "           1.22858331e-01,  1.79202199e-01, -2.77638525e-01,\n",
      "          -1.11752421e-01,  2.89164752e-01],\n",
      "         [ 1.64247334e-01,  1.89317599e-01,  4.97835968e-03,\n",
      "          -4.36317176e-02, -4.61781062e-02, -1.71056971e-01,\n",
      "           9.03077871e-02, -5.51773719e-02]],\n",
      "\n",
      "        [[-1.24229782e-03, -7.15015158e-02,  1.93808168e-01,\n",
      "          -1.47067845e-01,  1.27939835e-01, -1.17353812e-01,\n",
      "          -3.77731062e-02,  1.20936505e-01],\n",
      "         [-6.69670179e-02,  4.72672656e-02,  6.96048215e-02,\n",
      "          -9.49268416e-03, -7.41088912e-02,  2.34314799e-02,\n",
      "          -8.93465616e-03, -1.75952196e-01],\n",
      "         [-4.97212037e-02, -1.76991168e-02, -2.55739003e-01,\n",
      "           4.81970944e-02,  1.18597426e-01, -1.68929204e-01,\n",
      "           9.49694291e-02, -7.70843774e-02],\n",
      "         [ 8.50561708e-02, -9.07247141e-02, -9.66654494e-02,\n",
      "          -2.38191023e-01,  4.97900873e-01, -1.11578226e-01,\n",
      "          -1.74781118e-04, -1.72033682e-01]]],\n",
      "\n",
      "\n",
      "       [[[-1.23977020e-01,  1.70886546e-01,  1.86145619e-01,\n",
      "          -1.45990169e-02,  8.66304636e-02, -4.60462458e-02,\n",
      "          -1.33977637e-01,  8.81781057e-02],\n",
      "         [ 1.50128722e-01,  1.32311672e-01, -1.39903560e-01,\n",
      "          -5.72164655e-02, -1.50366247e-01,  8.39949921e-02,\n",
      "          -8.67209360e-02,  7.84307718e-02],\n",
      "         [ 1.24669977e-01, -5.80032617e-02, -9.31210537e-03,\n",
      "          -4.43925932e-02, -1.79601043e-01,  1.04753874e-01,\n",
      "           1.31064430e-01, -1.26397744e-01],\n",
      "         [ 3.45641792e-01, -2.62188196e-01, -1.55950338e-01,\n",
      "          -4.05639224e-02, -3.89462620e-01, -2.89808363e-01,\n",
      "           6.45724013e-02,  3.13788772e-01]],\n",
      "\n",
      "        [[-1.81594253e-01,  1.84423372e-01,  2.06339970e-01,\n",
      "           5.03634103e-02,  2.59971172e-01,  9.99922752e-02,\n",
      "           1.13170736e-01,  2.55698740e-01],\n",
      "         [ 1.43942554e-02, -9.19551700e-02, -1.09423026e-01,\n",
      "           9.56829190e-02,  1.81384757e-01,  1.20917531e-02,\n",
      "          -6.56085759e-02, -1.01579964e-01],\n",
      "         [ 3.84494066e-01, -2.85103589e-01, -7.72711784e-02,\n",
      "          -1.64664388e-01,  2.49297023e-01, -2.52328701e-02,\n",
      "          -9.07330215e-02,  4.29839015e-01],\n",
      "         [ 1.11866325e-01, -1.61526710e-01, -1.43820211e-01,\n",
      "           6.43948764e-02, -1.57008126e-01, -2.17988938e-01,\n",
      "          -4.36053425e-01, -3.41065407e-01]],\n",
      "\n",
      "        [[ 7.95226842e-02, -1.12568304e-01, -3.48115712e-02,\n",
      "           1.48190737e-01,  1.19777881e-01,  1.06991813e-01,\n",
      "          -6.96807802e-02,  1.53988764e-01],\n",
      "         [-1.34722605e-01, -4.06145714e-02, -1.64315075e-01,\n",
      "          -1.13797188e-01,  4.83178049e-02, -9.88501906e-02,\n",
      "           4.08586003e-02,  3.03963181e-02],\n",
      "         [ 1.81250796e-01, -1.22782409e-01, -3.61406833e-01,\n",
      "           1.56204164e-01,  8.46195817e-02, -5.30512854e-02,\n",
      "          -1.48570716e-01, -2.81201780e-01],\n",
      "         [-1.60577781e-02,  5.85824139e-02,  3.55490707e-02,\n",
      "          -2.83993334e-02,  4.92950678e-01, -2.03041613e-01,\n",
      "          -2.12953806e-01, -1.92002684e-01]],\n",
      "\n",
      "        [[ 1.66688368e-01,  2.16148552e-02, -8.49457234e-02,\n",
      "          -1.15949646e-01,  2.54093856e-01, -4.50657830e-02,\n",
      "          -6.21756613e-02,  2.19022539e-02],\n",
      "         [ 1.50943398e-01, -1.47909880e-01,  1.33854300e-01,\n",
      "           5.93878403e-02, -6.78802431e-02,  1.20152734e-01,\n",
      "           2.58361716e-02,  2.88329576e-03],\n",
      "         [-2.50877351e-01, -5.56956977e-02, -1.54864609e-01,\n",
      "           1.40195414e-01,  1.03952466e-02, -1.47575885e-01,\n",
      "          -1.42762706e-01,  1.57838076e-01],\n",
      "         [-8.96615759e-02,  9.25868675e-02, -1.62696555e-01,\n",
      "          -2.03296125e-01,  1.83864564e-01, -9.11397114e-02,\n",
      "          -6.19264282e-02, -9.58860964e-02]]]], dtype=float32), array([-0.1148049 ,  0.03087204,  0.0007204 , -0.12112539,  0.02712363,\n",
      "        0.00403479, -0.0844299 ,  0.03656252], dtype=float32)]\n",
      "[]\n",
      "[array([[[[ 1.88981984e-02,  3.14249158e-01, -9.06870589e-02, ...,\n",
      "          -6.40894398e-02,  2.00709507e-01,  5.83852082e-02],\n",
      "         [ 6.60307333e-02,  5.59421293e-02, -3.60745549e-01, ...,\n",
      "           2.05980893e-02, -1.04196787e-01, -2.02355057e-01],\n",
      "         [ 2.38726333e-01, -6.14640601e-02, -2.58523464e-01, ...,\n",
      "           8.15501362e-02,  8.15946832e-02, -1.48490280e-01],\n",
      "         ...,\n",
      "         [ 7.95415044e-02,  1.90309286e-01, -2.29737893e-01, ...,\n",
      "           6.94985092e-02, -4.89964224e-02,  1.17007764e-02],\n",
      "         [ 1.05766252e-01,  3.13893437e-01, -1.82646303e-03, ...,\n",
      "           2.71022357e-02, -1.14176467e-01,  4.23246548e-02],\n",
      "         [ 7.57387355e-02,  4.31461670e-02, -8.88109505e-02, ...,\n",
      "           1.43646047e-01, -4.64905463e-02, -2.88329750e-01]],\n",
      "\n",
      "        [[ 1.31411059e-02, -3.67034316e-01, -2.32923627e-02, ...,\n",
      "           4.29532379e-02,  7.87850320e-02, -4.52507399e-02],\n",
      "         [ 1.91438109e-01,  1.34557456e-01,  5.49432002e-02, ...,\n",
      "          -7.41218105e-02,  1.06189892e-01, -1.35071561e-01],\n",
      "         [ 3.76787893e-02, -8.35971460e-02,  3.88883725e-02, ...,\n",
      "           1.13782406e-01,  2.75927084e-03, -1.58810914e-01],\n",
      "         ...,\n",
      "         [-6.80987444e-03, -2.44165733e-01, -6.14317320e-02, ...,\n",
      "           3.61700431e-02,  1.17482491e-01,  9.53288153e-02],\n",
      "         [ 4.57701385e-02, -2.95117199e-01, -2.08417490e-01, ...,\n",
      "           1.66350961e-01,  1.31824479e-01, -9.64120999e-02],\n",
      "         [-1.69019744e-01, -1.39580116e-01,  2.17067376e-01, ...,\n",
      "          -6.98089376e-02, -2.98949666e-02, -4.06361610e-01]],\n",
      "\n",
      "        [[-4.43426706e-02, -2.80546516e-01, -2.82887429e-01, ...,\n",
      "           4.52495888e-02, -2.71810412e-01, -1.14863768e-01],\n",
      "         [-1.46465823e-01, -4.11134839e-01,  4.60834175e-01, ...,\n",
      "           1.45245731e-01,  2.34099984e-01, -1.73752874e-01],\n",
      "         [ 1.84487492e-01,  6.27046153e-02,  2.06186742e-01, ...,\n",
      "          -1.60416096e-01, -2.61721581e-01, -8.70681405e-02],\n",
      "         ...,\n",
      "         [-1.87020063e-01, -4.89838034e-01,  2.50030369e-01, ...,\n",
      "           1.47183195e-01,  7.99071863e-02, -3.29846680e-01],\n",
      "         [-3.34712714e-01,  5.34260161e-02, -1.47922307e-01, ...,\n",
      "          -9.91421193e-02,  6.94843102e-03, -7.95641169e-02],\n",
      "         [-1.05518669e-01, -2.79122740e-01,  9.07854661e-02, ...,\n",
      "          -2.78943837e-01, -8.79692510e-02, -5.90338132e-05]],\n",
      "\n",
      "        [[ 2.86485832e-02, -1.95123464e-01, -2.66724974e-01, ...,\n",
      "          -2.77105480e-01, -1.81098089e-01, -7.81795308e-02],\n",
      "         [ 2.66044199e-01,  1.84764624e-01, -4.58342433e-01, ...,\n",
      "          -4.80371751e-02, -3.14869314e-01,  1.20574892e-01],\n",
      "         [ 2.22924754e-01,  1.77269861e-01, -2.67613322e-01, ...,\n",
      "          -5.95021136e-02,  1.36065513e-01,  3.26586783e-01],\n",
      "         ...,\n",
      "         [ 2.25118980e-01,  7.75733888e-02, -2.98882067e-01, ...,\n",
      "          -4.35696930e-01, -4.33950096e-01,  1.57788083e-01],\n",
      "         [ 3.50628681e-02,  1.37873918e-01, -3.91368806e-01, ...,\n",
      "          -1.86743721e-01, -3.32615852e-01, -2.22949505e-01],\n",
      "         [ 3.53995740e-01,  4.43121195e-01, -4.66590047e-01, ...,\n",
      "          -5.37362158e-01,  9.14214998e-02,  5.12290061e-01]]],\n",
      "\n",
      "\n",
      "       [[[ 1.00411084e-02, -2.50828415e-01, -1.19497001e-01, ...,\n",
      "           1.46621853e-01,  1.28035471e-01, -1.55108765e-01],\n",
      "         [-1.88786894e-01,  9.03441161e-02,  3.81712735e-01, ...,\n",
      "          -2.13071868e-01, -3.85227194e-03, -2.90925130e-02],\n",
      "         [-1.90642864e-01,  2.57425047e-02, -1.19946264e-01, ...,\n",
      "          -1.16591796e-01, -1.60299748e-01, -2.07488060e-01],\n",
      "         ...,\n",
      "         [ 8.15724116e-03,  1.97125942e-01,  1.20180294e-01, ...,\n",
      "          -2.73666441e-01,  4.08441648e-02,  3.57562490e-02],\n",
      "         [-1.31797001e-01, -3.10850829e-01, -2.30177626e-01, ...,\n",
      "           1.30265504e-01, -2.94850133e-02,  1.20910453e-02],\n",
      "         [-1.47837147e-01,  2.31651459e-02,  3.10431331e-01, ...,\n",
      "          -4.98291627e-02, -2.18524948e-01, -2.40968406e-01]],\n",
      "\n",
      "        [[-2.67548244e-02, -2.04389215e-01, -6.16795905e-02, ...,\n",
      "          -9.78074446e-02, -3.29251558e-01, -3.80776882e-01],\n",
      "         [ 1.49548307e-01, -1.76312804e-01,  3.00580770e-01, ...,\n",
      "          -2.60974407e-01,  5.13442457e-02, -4.41620797e-02],\n",
      "         [-2.31470779e-01, -1.95437983e-01, -9.31756850e-03, ...,\n",
      "          -1.11883216e-01, -8.35017785e-02, -3.65087502e-02],\n",
      "         ...,\n",
      "         [ 1.34094795e-02, -2.90805578e-01,  1.69746712e-01, ...,\n",
      "          -9.10991803e-02, -5.96035458e-02, -1.19316384e-01],\n",
      "         [-1.37511551e-01, -4.77214828e-02, -6.53084069e-02, ...,\n",
      "          -1.95313007e-01, -1.16504975e-01,  6.15862086e-02],\n",
      "         [-4.70471829e-02,  1.42352268e-01,  2.02852964e-01, ...,\n",
      "          -2.06411723e-02, -1.78805217e-01,  8.24008361e-02]],\n",
      "\n",
      "        [[-3.09509605e-01, -4.27270114e-01, -8.21713284e-02, ...,\n",
      "          -1.81622386e-01, -9.03883204e-02, -3.08112144e-01],\n",
      "         [ 2.36094773e-01,  1.70407355e-01, -3.70382726e-01, ...,\n",
      "           4.24572006e-02, -2.09736466e-01,  7.60066062e-02],\n",
      "         [-1.40972342e-02, -7.83904791e-02, -2.20471963e-01, ...,\n",
      "          -4.01060022e-02,  7.13500753e-02, -3.06134745e-02],\n",
      "         ...,\n",
      "         [ 3.72688174e-02,  1.18852235e-01, -4.30618078e-01, ...,\n",
      "          -3.05073589e-01, -4.36178483e-02,  1.40650481e-01],\n",
      "         [ 5.51554263e-02,  9.50430520e-04, -1.05141588e-01, ...,\n",
      "          -7.34672183e-03,  1.01566598e-01, -3.38889390e-01],\n",
      "         [ 2.31707543e-01,  2.59880811e-01, -2.44427845e-01, ...,\n",
      "          -2.29358479e-01,  3.38836312e-02,  2.90867656e-01]],\n",
      "\n",
      "        [[ 1.35066316e-01, -1.83456048e-01, -2.48989716e-01, ...,\n",
      "          -3.20845008e-01, -1.10457465e-01, -1.27121344e-01],\n",
      "         [-1.11921586e-01, -8.19027200e-02, -2.50561178e-01, ...,\n",
      "          -2.79802471e-01,  4.64325011e-01,  3.50856364e-01],\n",
      "         [-5.98698854e-02, -9.78471786e-02, -8.24450701e-02, ...,\n",
      "           1.12905644e-01, -9.98619273e-02, -1.66618273e-01],\n",
      "         ...,\n",
      "         [-1.05820477e-01,  6.77821934e-02, -3.14052440e-02, ...,\n",
      "          -5.42519577e-02,  2.85530277e-02,  2.28076622e-01],\n",
      "         [-5.94816357e-02,  1.66061595e-02, -9.83216390e-02, ...,\n",
      "          -2.98967332e-01,  1.04266904e-01,  2.48084575e-01],\n",
      "         [-2.18494415e-01, -4.02996004e-01, -2.67169774e-01, ...,\n",
      "           1.23936310e-01,  2.91043460e-01, -2.86393076e-01]]],\n",
      "\n",
      "\n",
      "       [[[-1.25814438e-01, -5.46690166e-01, -3.21441032e-02, ...,\n",
      "          -1.60283059e-01,  1.10288881e-01, -8.99539813e-02],\n",
      "         [-2.87685782e-01, -2.92941958e-01,  3.06881011e-01, ...,\n",
      "           8.65973234e-02, -2.47984640e-02, -5.28176129e-03],\n",
      "         [-1.05919369e-01,  2.02098027e-01,  2.71426383e-02, ...,\n",
      "          -1.66482836e-01, -3.70432556e-01,  7.15519562e-02],\n",
      "         ...,\n",
      "         [-2.14932069e-01, -3.79137397e-01,  2.34041438e-01, ...,\n",
      "          -2.21540313e-02, -3.52273062e-02,  1.00531280e-02],\n",
      "         [-1.03127155e-02, -4.18445855e-01, -5.36597939e-03, ...,\n",
      "           4.95686121e-02, -1.57174468e-02, -7.53772035e-02],\n",
      "         [-6.69060159e-04, -9.10307020e-02, -6.80964068e-02, ...,\n",
      "           1.05381340e-01, -2.52999723e-01, -1.57021701e-01]],\n",
      "\n",
      "        [[-1.23428153e-02, -4.10253763e-01, -6.50145579e-03, ...,\n",
      "           4.09873612e-02, -3.68427694e-01, -3.03972423e-01],\n",
      "         [ 5.37040643e-02,  1.84843540e-02, -2.52668113e-01, ...,\n",
      "          -2.89493740e-01, -6.22272901e-02, -1.76983371e-01],\n",
      "         [ 3.83154228e-02,  1.48437880e-02, -7.61462823e-02, ...,\n",
      "          -9.70199853e-02,  1.97596952e-01,  2.00999334e-01],\n",
      "         ...,\n",
      "         [ 5.53658456e-02,  1.01865195e-01, -2.99162883e-02, ...,\n",
      "          -7.78242052e-02, -8.81039873e-02, -1.91457365e-02],\n",
      "         [-6.71870559e-02,  2.40067035e-01, -2.56660134e-01, ...,\n",
      "          -3.86621058e-02, -2.53000647e-01,  3.54920365e-02],\n",
      "         [ 3.39408040e-01,  2.15063393e-01, -2.14013338e-01, ...,\n",
      "          -3.57967801e-02,  1.30364120e-01,  3.03937018e-01]],\n",
      "\n",
      "        [[ 1.80030957e-01, -1.66655079e-01, -1.19602107e-01, ...,\n",
      "          -9.86353233e-02, -2.53568202e-01, -1.22482024e-01],\n",
      "         [-4.47689146e-02,  4.21255268e-02, -2.48325821e-02, ...,\n",
      "          -4.34360877e-02,  3.96277934e-01,  2.15471908e-01],\n",
      "         [ 1.06427364e-01, -1.63312435e-01, -8.09280109e-03, ...,\n",
      "           1.52242512e-01,  1.96425602e-01, -1.97608583e-02],\n",
      "         ...,\n",
      "         [ 6.02964684e-02,  1.81437321e-02, -3.36357094e-02, ...,\n",
      "          -3.27014476e-02,  1.64729580e-01,  2.50400126e-01],\n",
      "         [-1.56144172e-01, -1.67112917e-01,  4.83715758e-02, ...,\n",
      "          -2.93034375e-01,  9.26693678e-02,  1.39520839e-01],\n",
      "         [-1.02936454e-01, -6.90762401e-02, -2.37226248e-01, ...,\n",
      "           1.09351359e-01,  1.04888059e-01,  5.43094426e-02]],\n",
      "\n",
      "        [[ 1.18416704e-01,  7.29598701e-02, -6.34046830e-03, ...,\n",
      "          -2.45482445e-01, -9.77220479e-04,  2.99476776e-02],\n",
      "         [-3.24526131e-01, -2.39424512e-01, -7.88450986e-02, ...,\n",
      "           2.17858166e-01,  4.19885740e-02, -2.88395613e-01],\n",
      "         [-3.24048489e-01, -6.56740069e-02, -1.51949689e-01, ...,\n",
      "          -1.04195870e-01, -3.95482257e-02, -3.29372197e-01],\n",
      "         ...,\n",
      "         [-7.69443577e-03, -4.15233634e-02,  9.91558209e-02, ...,\n",
      "          -1.60357580e-02, -1.27312783e-02, -1.71335965e-01],\n",
      "         [-1.60191774e-01, -1.87762320e-01,  1.35439545e-01, ...,\n",
      "           1.56775173e-02,  1.71362072e-01, -1.52262696e-03],\n",
      "         [-1.88723654e-01, -1.96050823e-01,  8.50622952e-02, ...,\n",
      "           2.06932649e-01,  1.74947128e-01, -2.12377146e-01]]],\n",
      "\n",
      "\n",
      "       [[[-1.58948675e-01, -5.90258688e-02, -1.13683574e-01, ...,\n",
      "          -2.17481107e-01, -4.10989434e-01,  2.07672454e-02],\n",
      "         [ 1.59251556e-01,  1.19234361e-02, -2.79125333e-01, ...,\n",
      "          -1.72776207e-01, -3.97043765e-01, -2.89964437e-01],\n",
      "         [-1.02534704e-01, -1.16476662e-01, -4.21134718e-02, ...,\n",
      "          -5.80537021e-02,  3.53633046e-01, -4.08036895e-02],\n",
      "         ...,\n",
      "         [ 1.90770224e-01, -1.01813944e-02, -3.03455681e-01, ...,\n",
      "          -9.74452719e-02, -1.33056715e-01, -2.26184070e-01],\n",
      "         [ 5.80365136e-02,  9.92525890e-02, -3.04277033e-01, ...,\n",
      "           3.48603353e-02, -2.92016208e-01,  6.66700155e-02],\n",
      "         [ 5.06459117e-01,  3.19240451e-01, -9.58505496e-02, ...,\n",
      "          -4.38187063e-01, -1.17985338e-01,  1.97833508e-01]],\n",
      "\n",
      "        [[ 4.06113803e-01, -2.99551815e-01, -3.65104437e-01, ...,\n",
      "          -4.14431721e-01, -9.43853036e-02, -2.76182741e-01],\n",
      "         [ 1.32953793e-01,  2.22115293e-01, -1.79803163e-01, ...,\n",
      "          -2.27856170e-02,  2.29312211e-01,  4.38333720e-01],\n",
      "         [-3.67224477e-02, -7.71017596e-02, -1.11965992e-01, ...,\n",
      "          -4.75072041e-02,  1.10034063e-01, -2.88933218e-02],\n",
      "         ...,\n",
      "         [ 1.03417657e-01,  1.35990247e-01, -8.84738937e-02, ...,\n",
      "          -1.15444563e-01,  1.31636679e-01,  1.00530349e-01],\n",
      "         [-5.43495268e-02, -1.02995381e-01, -1.35289252e-01, ...,\n",
      "          -1.70254380e-01,  3.19837272e-01,  2.07663372e-01],\n",
      "         [ 1.99726503e-03,  7.57312402e-03,  1.29618689e-01, ...,\n",
      "           2.22319469e-01,  9.65836942e-02,  1.04560003e-01]],\n",
      "\n",
      "        [[ 7.51465261e-02, -4.77391124e-01,  8.00119489e-02, ...,\n",
      "          -2.34904274e-01, -9.97004956e-02, -1.39471978e-01],\n",
      "         [-1.21689953e-01, -1.39548644e-01, -1.38012514e-01, ...,\n",
      "           1.45424232e-01,  2.27765486e-01, -4.44875248e-02],\n",
      "         [-6.29571900e-02,  8.43019411e-02, -2.23171879e-02, ...,\n",
      "           1.05162054e-01,  1.16107628e-01,  2.57371962e-02],\n",
      "         ...,\n",
      "         [-4.17228788e-02, -2.75348961e-01,  1.84309393e-01, ...,\n",
      "           9.73993316e-02, -5.45559963e-03, -1.18742876e-01],\n",
      "         [-2.30702057e-01, -1.80712000e-01, -1.22181959e-01, ...,\n",
      "          -3.31442803e-02, -1.90303072e-01, -1.72839373e-01],\n",
      "         [-2.55962163e-01, -8.13696068e-04,  2.62984127e-01, ...,\n",
      "           1.52897581e-01,  1.18778825e-01, -9.68047604e-02]],\n",
      "\n",
      "        [[-2.11357102e-01, -2.98569560e-01, -1.81336813e-02, ...,\n",
      "          -1.74689680e-01, -1.22963181e-02, -1.74980447e-01],\n",
      "         [-3.04474711e-01,  3.80975485e-01,  2.61798799e-01, ...,\n",
      "           5.21602342e-03, -3.53367209e-01, -3.45024735e-01],\n",
      "         [ 4.19592857e-02,  3.12659517e-02,  2.95020938e-01, ...,\n",
      "          -3.19593877e-01, -7.77744427e-02, -3.64184305e-02],\n",
      "         ...,\n",
      "         [-9.89076346e-02,  7.75063857e-02,  2.08880424e-01, ...,\n",
      "          -3.06723788e-02, -1.66352671e-02, -2.14178234e-01],\n",
      "         [-1.31268874e-01, -2.88022161e-01,  2.87857264e-01, ...,\n",
      "          -7.80562982e-02, -1.33235440e-01,  1.21467270e-01],\n",
      "         [-1.99325174e-01, -1.04840875e-01,  6.33008182e-02, ...,\n",
      "           7.75980297e-03, -6.57719225e-02, -1.85417801e-01]]]],\n",
      "      dtype=float32), array([ 0.00542157,  0.01873989, -0.02729235, -0.13971682,  0.01152628,\n",
      "        0.03089231,  0.02221978,  0.02680274], dtype=float32)]\n",
      "[]\n",
      "[array([[[[ 1.46220073e-01, -3.05994064e-01, -4.15335506e-01, ...,\n",
      "          -6.38925955e-02, -2.29016349e-01,  1.05830580e-01],\n",
      "         [ 9.45457146e-02, -5.30306483e-03, -3.35481353e-02, ...,\n",
      "           1.37753606e-01, -2.55648196e-01,  1.95529938e-01],\n",
      "         [ 1.32020086e-01,  5.80618382e-02,  3.90517078e-02, ...,\n",
      "           6.47921786e-02, -8.69822949e-02,  9.45409834e-02],\n",
      "         ...,\n",
      "         [ 3.50430124e-02, -2.62990534e-01,  1.92457661e-01, ...,\n",
      "          -8.06791335e-02, -1.55261278e-01,  4.51813728e-01],\n",
      "         [ 2.37710610e-01, -3.73202980e-01,  1.25067875e-01, ...,\n",
      "          -1.58737704e-01, -8.24094638e-02,  3.47492844e-01],\n",
      "         [ 1.71004504e-01,  1.93909794e-01,  1.07967153e-01, ...,\n",
      "          -6.42202199e-02,  2.20659152e-02,  3.35726678e-01]],\n",
      "\n",
      "        [[-8.20667967e-02, -2.48586163e-01,  1.64137959e-01, ...,\n",
      "          -1.43351272e-01, -4.35287148e-01,  7.00949132e-02],\n",
      "         [-1.88266393e-02, -1.59541205e-01,  2.61723012e-01, ...,\n",
      "          -2.30964255e-02, -3.33609074e-01, -1.87387183e-01],\n",
      "         [ 4.55638766e-02,  8.73530582e-02,  1.55558050e-01, ...,\n",
      "          -5.16029745e-02, -3.82819504e-01,  3.49410057e-01],\n",
      "         ...,\n",
      "         [-1.61838487e-01,  1.66967094e-01,  8.87032524e-02, ...,\n",
      "          -2.83763379e-01,  6.12163134e-02, -5.23708701e-01],\n",
      "         [-1.71101838e-01,  7.23795295e-02,  2.78785735e-01, ...,\n",
      "          -1.09717481e-01,  3.26230489e-02, -4.46824953e-02],\n",
      "         [ 1.99563488e-01,  1.60914436e-01,  3.87262434e-01, ...,\n",
      "           2.95328405e-02, -6.77126591e-05,  1.98767111e-02]],\n",
      "\n",
      "        [[-3.13672930e-01,  3.05846184e-01,  1.51597604e-01, ...,\n",
      "          -2.24364355e-01, -1.60101652e-01, -5.59572816e-01],\n",
      "         [-3.87775972e-02,  3.29386145e-01,  2.37193391e-01, ...,\n",
      "           3.00028957e-02,  9.82134342e-02, -3.38470846e-01],\n",
      "         [ 1.41566899e-02, -1.07987449e-01,  3.06791037e-01, ...,\n",
      "          -2.03874856e-02, -2.56305903e-01, -2.01311857e-01],\n",
      "         ...,\n",
      "         [-1.90965012e-01, -2.35108882e-02,  7.82598648e-03, ...,\n",
      "          -1.30565971e-01, -5.34512579e-01, -3.62261869e-02],\n",
      "         [ 1.06272496e-01,  2.22607806e-01, -3.26834559e-01, ...,\n",
      "          -3.02673923e-03, -1.34320527e-01, -3.34364980e-01],\n",
      "         [-1.45988926e-01,  3.30585599e-01, -1.87250767e-02, ...,\n",
      "          -4.37556058e-01, -4.49411422e-02, -4.12869334e-01]],\n",
      "\n",
      "        [[-1.38954535e-01, -2.44019348e-02, -2.14861721e-01, ...,\n",
      "           4.17421125e-02, -5.93326166e-02,  3.63268167e-01],\n",
      "         [-1.35063320e-01, -2.47684419e-02,  1.67974368e-01, ...,\n",
      "          -1.05623432e-01,  3.31715494e-02,  3.45184535e-01],\n",
      "         [-2.49345526e-02,  1.85326114e-01,  1.41052350e-01, ...,\n",
      "          -9.19308886e-03,  3.90320897e-01, -3.93759668e-01],\n",
      "         ...,\n",
      "         [-1.78308189e-01,  2.12756738e-01,  2.26818040e-01, ...,\n",
      "           2.00621542e-02,  2.94588692e-02,  3.40582669e-01],\n",
      "         [-1.29022852e-01,  2.47459680e-01,  7.16876239e-02, ...,\n",
      "          -9.60920826e-02,  1.22649655e-01,  6.08849525e-01],\n",
      "         [-2.19503462e-01,  3.06512509e-02, -1.27527742e-02, ...,\n",
      "          -5.25643341e-02,  1.76095635e-01,  2.90181160e-01]]],\n",
      "\n",
      "\n",
      "       [[[ 1.82723373e-01, -3.71232629e-01, -2.30244026e-01, ...,\n",
      "          -1.97210163e-02, -8.72177184e-02,  2.20363379e-01],\n",
      "         [-4.97511066e-02, -2.73966882e-03, -4.07889634e-01, ...,\n",
      "           1.97964851e-02, -7.06021786e-02,  2.58801490e-01],\n",
      "         [ 3.15814912e-01,  5.85832335e-02, -2.33833477e-01, ...,\n",
      "           1.61495417e-01, -2.05115050e-01,  1.38932988e-02],\n",
      "         ...,\n",
      "         [ 1.60664469e-01, -1.74117625e-01, -3.22760418e-02, ...,\n",
      "          -2.45439380e-01, -7.04650730e-02, -1.54906511e-01],\n",
      "         [-2.18114052e-02, -8.30939338e-02, -2.06919298e-01, ...,\n",
      "          -2.18298331e-01,  1.18839554e-01,  2.07528874e-01],\n",
      "         [ 9.95338112e-02,  1.57644898e-02, -5.17401360e-02, ...,\n",
      "           1.24751888e-02, -9.23316926e-02,  2.07821399e-01]],\n",
      "\n",
      "        [[-8.10549557e-02, -1.12802954e-02,  1.36812180e-01, ...,\n",
      "          -1.41289636e-01, -2.59634435e-01, -5.00357628e-01],\n",
      "         [-2.69507021e-01, -4.82523218e-02, -1.59571826e-01, ...,\n",
      "          -8.70822594e-02, -1.48590072e-03, -3.60928714e-01],\n",
      "         [-1.88197240e-01,  9.97815281e-02,  1.08905733e-01, ...,\n",
      "          -1.48249239e-01, -1.08429961e-01,  1.95628241e-01],\n",
      "         ...,\n",
      "         [ 1.44591510e-01, -2.03494728e-01, -8.88957754e-02, ...,\n",
      "           3.32821645e-02,  6.57387897e-02, -1.20088542e-02],\n",
      "         [ 5.25253378e-02,  1.77889675e-01, -3.76253843e-01, ...,\n",
      "           1.82393476e-01,  5.58307879e-02, -4.98104215e-01],\n",
      "         [-2.29972959e-01, -6.92823678e-02, -9.02969539e-02, ...,\n",
      "          -3.59819382e-02,  4.64711804e-03, -4.21748340e-01]],\n",
      "\n",
      "        [[-6.50792718e-02, -2.86355671e-02, -3.88357826e-02, ...,\n",
      "           5.93411326e-02, -1.03254452e-01,  1.19564407e-01],\n",
      "         [-8.54385346e-02, -1.54246032e-01,  2.44560122e-01, ...,\n",
      "          -1.89157531e-01, -7.28696063e-02,  7.23055704e-03],\n",
      "         [-3.20621669e-01,  5.06798029e-02, -4.59660869e-03, ...,\n",
      "          -3.16413879e-01, -1.44710600e-01, -1.33432403e-01],\n",
      "         ...,\n",
      "         [-1.11323688e-02,  4.18845229e-02,  1.52834252e-01, ...,\n",
      "          -1.82727069e-01, -1.88968197e-01,  4.77394881e-03],\n",
      "         [-3.29014733e-02,  1.56292856e-01,  2.39624619e-01, ...,\n",
      "           1.14119425e-01,  1.17790379e-01,  1.75101727e-01],\n",
      "         [ 4.68466692e-02, -2.10532442e-01,  2.11059704e-01, ...,\n",
      "          -1.16354391e-01,  1.16104834e-01,  6.00350276e-03]],\n",
      "\n",
      "        [[-1.64552808e-01,  1.30990490e-01,  3.02802771e-01, ...,\n",
      "           2.45763868e-01, -1.87149033e-01,  3.55593562e-01],\n",
      "         [-9.81088579e-02,  1.00666501e-01,  2.27016345e-01, ...,\n",
      "          -2.88132787e-01, -1.02953650e-01,  1.78165175e-02],\n",
      "         [-3.19851518e-01, -1.11327730e-01,  2.41100073e-01, ...,\n",
      "           1.82260484e-01,  3.39406244e-02,  1.12632355e-02],\n",
      "         ...,\n",
      "         [-1.67851403e-01,  1.40823454e-01,  2.47211456e-01, ...,\n",
      "          -3.59488666e-01,  2.45684549e-01, -3.07237685e-01],\n",
      "         [ 5.16246399e-03,  1.74004853e-01,  3.98897946e-01, ...,\n",
      "          -3.80105793e-01,  1.50393113e-01,  1.15562193e-01],\n",
      "         [ 2.61277966e-02,  1.02893487e-01,  4.66397554e-01, ...,\n",
      "          -1.95810705e-01, -2.78817654e-01,  1.48815304e-01]]],\n",
      "\n",
      "\n",
      "       [[[-2.02982515e-01, -1.25784919e-01, -3.38325232e-01, ...,\n",
      "           4.65984568e-02, -1.43636629e-01, -4.02134061e-01],\n",
      "         [-1.60934627e-01, -1.55526862e-01, -4.15596426e-01, ...,\n",
      "           1.35330930e-01, -7.77541995e-02, -2.45904773e-01],\n",
      "         [-1.31678144e-02, -1.22378029e-01, -4.98619288e-01, ...,\n",
      "          -9.16081443e-02, -1.27167478e-01, -2.94187646e-02],\n",
      "         ...,\n",
      "         [-1.53527305e-01,  5.66940121e-02, -2.82816857e-01, ...,\n",
      "           4.82743531e-02, -9.94908735e-02, -2.50106275e-01],\n",
      "         [-4.11651105e-01, -1.98763907e-01, -1.37802944e-01, ...,\n",
      "           8.06799829e-02, -5.57195581e-02, -6.94005191e-01],\n",
      "         [-3.65598768e-01, -1.47348553e-01, -1.46305010e-01, ...,\n",
      "           2.24252027e-02, -3.02715991e-02, -7.02829599e-01]],\n",
      "\n",
      "        [[-2.98747212e-01,  3.28873433e-02, -1.20458610e-01, ...,\n",
      "          -1.96442865e-02, -6.72567487e-02,  2.62783859e-02],\n",
      "         [-2.20931232e-01, -4.23018605e-01, -6.80762390e-03, ...,\n",
      "          -2.41523713e-01, -4.25588191e-02,  2.01092705e-01],\n",
      "         [-2.34060988e-01, -3.97465020e-01, -2.37470418e-01, ...,\n",
      "          -2.23171383e-01, -3.72783035e-01, -3.02490294e-01],\n",
      "         ...,\n",
      "         [ 7.44446516e-02, -1.68054536e-01, -2.59019732e-01, ...,\n",
      "          -4.99505317e-03, -4.06956702e-01, -2.47357786e-02],\n",
      "         [-3.68536897e-02, -5.00947386e-02, -5.06966300e-02, ...,\n",
      "           1.54110298e-01, -1.08854480e-01,  3.12440451e-02],\n",
      "         [-1.39084622e-01, -2.98956424e-01, -3.31084311e-01, ...,\n",
      "           8.89355130e-03, -1.07601769e-01,  1.48605794e-01]],\n",
      "\n",
      "        [[ 2.83599775e-02, -1.31197914e-01,  3.52061279e-02, ...,\n",
      "           9.19931456e-02,  1.86739773e-01,  2.63183415e-01],\n",
      "         [ 2.75471419e-01, -1.18397154e-01, -1.07590765e-01, ...,\n",
      "          -8.11690539e-02, -3.03524882e-01, -3.44427675e-02],\n",
      "         [-7.07853213e-02, -2.72141337e-01, -1.45786330e-01, ...,\n",
      "          -1.25019908e-01, -1.14007540e-01,  2.21578419e-01],\n",
      "         ...,\n",
      "         [ 1.16658747e-01, -1.45926803e-01, -2.86081247e-03, ...,\n",
      "           9.15988609e-02, -6.47656098e-02, -8.81385431e-02],\n",
      "         [ 2.18007356e-01, -1.45815507e-01, -1.31420016e-01, ...,\n",
      "          -2.13420197e-01, -2.02021807e-01,  5.59972525e-02],\n",
      "         [-8.45328867e-02, -6.72376007e-02,  1.55549958e-01, ...,\n",
      "          -1.63240746e-01,  6.54888451e-02, -1.19189799e-01]],\n",
      "\n",
      "        [[ 3.38575989e-02, -1.79801565e-02, -2.83290520e-02, ...,\n",
      "          -1.33748874e-01, -1.33960351e-01, -1.77809879e-01],\n",
      "         [ 4.59735729e-02, -1.44169465e-01, -1.32720008e-01, ...,\n",
      "          -1.26468956e-01,  1.36383370e-01,  3.57288718e-02],\n",
      "         [-2.01847911e-01,  1.58913791e-01,  3.33065569e-01, ...,\n",
      "          -1.35779753e-01,  7.16804042e-02,  1.95736215e-01],\n",
      "         ...,\n",
      "         [-1.78408340e-01, -8.76680762e-02,  7.17637539e-02, ...,\n",
      "           2.52595961e-01,  8.56472030e-02, -6.28483236e-01],\n",
      "         [-1.43713072e-01, -4.64503646e-01,  2.84346461e-01, ...,\n",
      "           4.25604917e-02, -1.61224037e-01, -7.43634939e-01],\n",
      "         [ 3.66671942e-02, -1.57736704e-01, -2.18256474e-01, ...,\n",
      "          -2.36222278e-02,  1.84542567e-01, -1.59450337e-01]]],\n",
      "\n",
      "\n",
      "       [[[ 2.32584819e-01,  1.31116718e-01,  8.81663114e-02, ...,\n",
      "           8.62021819e-02,  1.45300135e-01, -4.64462042e-01],\n",
      "         [ 1.50447726e-01, -8.95599946e-02,  1.58345401e-01, ...,\n",
      "           2.16882586e-01,  9.06647816e-02, -1.96018904e-01],\n",
      "         [-3.52527022e-01, -3.23730588e-01, -5.05010903e-01, ...,\n",
      "          -1.11545925e-03, -2.59290010e-01, -4.56149936e-01],\n",
      "         ...,\n",
      "         [ 7.56021515e-02,  1.27710402e-02, -6.16276085e-01, ...,\n",
      "           3.51251930e-01, -3.99487428e-02,  3.49702328e-01],\n",
      "         [ 1.85228720e-01, -6.44570799e-04, -1.82713583e-01, ...,\n",
      "           3.74372095e-01, -2.25110888e-01,  3.19969714e-01],\n",
      "         [ 7.41393417e-02, -1.62224583e-02, -8.63586366e-02, ...,\n",
      "           3.93261969e-01, -1.51957765e-01,  2.53414303e-01]],\n",
      "\n",
      "        [[ 7.25814998e-02, -1.23296663e-01, -1.32547513e-01, ...,\n",
      "           2.61940956e-01,  6.82482570e-02,  3.87887031e-01],\n",
      "         [ 3.55940536e-02, -3.26778978e-01, -5.01166403e-01, ...,\n",
      "           1.68638721e-01, -2.05405518e-01,  1.61846951e-01],\n",
      "         [-3.00750975e-02, -2.75970936e-01, -3.99322629e-01, ...,\n",
      "          -7.55377263e-02, -3.01394701e-01, -2.77735144e-01],\n",
      "         ...,\n",
      "         [-1.95176676e-01, -2.28533760e-01, -2.81133711e-01, ...,\n",
      "          -4.23052534e-02, -7.81681761e-02, -1.33336619e-01],\n",
      "         [-8.59490503e-03, -9.80701894e-02, -2.25613579e-01, ...,\n",
      "           9.78755429e-02, -2.15390384e-01,  2.86334246e-01],\n",
      "         [ 8.88486728e-02, -1.17476329e-01, -1.45116270e-01, ...,\n",
      "           1.22207329e-01, -3.55996527e-02,  2.69194007e-01]],\n",
      "\n",
      "        [[-1.37725845e-01,  5.69057241e-02, -1.02159195e-01, ...,\n",
      "          -8.68545473e-03, -2.50427932e-01, -2.59638578e-01],\n",
      "         [-1.02022782e-01, -1.59466401e-01, -5.42134941e-01, ...,\n",
      "           9.27713662e-02,  1.23647049e-01, -1.85632426e-02],\n",
      "         [ 2.24508449e-01, -1.29725292e-01, -3.44291687e-01, ...,\n",
      "           1.81988358e-01,  2.34919667e-01,  2.22190365e-01],\n",
      "         ...,\n",
      "         [-1.25809371e-01, -2.21998505e-02,  9.44636837e-02, ...,\n",
      "           8.91537890e-02, -3.76545638e-02, -1.12380497e-01],\n",
      "         [-6.95229173e-02, -1.67997539e-01, -4.35910136e-01, ...,\n",
      "          -1.07445769e-01, -1.62739486e-01, -7.67537296e-01],\n",
      "         [-5.65859191e-02, -2.82555193e-01, -3.64340544e-01, ...,\n",
      "          -3.04911405e-01, -7.95935318e-02, -2.77234465e-01]],\n",
      "\n",
      "        [[-1.98771924e-01,  1.35766417e-01, -8.83346647e-02, ...,\n",
      "           2.74254739e-01,  2.59801954e-01, -3.50363225e-01],\n",
      "         [-1.17690548e-01,  6.76740855e-02, -5.99805452e-02, ...,\n",
      "           2.30745897e-01,  4.10259217e-01, -1.00255519e-01],\n",
      "         [ 3.33632044e-02, -2.59346031e-02, -1.97524786e-01, ...,\n",
      "           8.66816416e-02,  3.54766250e-01,  2.02045560e-01],\n",
      "         ...,\n",
      "         [-6.23622201e-02, -2.65486594e-02, -2.41677061e-01, ...,\n",
      "           8.48810598e-02,  4.11183119e-01,  5.35007536e-01],\n",
      "         [-1.56470865e-01, -7.70801231e-02, -4.59376544e-01, ...,\n",
      "           2.35544905e-01,  2.50453651e-01,  1.00408889e-01],\n",
      "         [-4.23017778e-02,  6.23934530e-02, -3.05022687e-01, ...,\n",
      "           4.96743798e-01,  1.20927796e-01, -1.89232737e-01]]]],\n",
      "      dtype=float32), array([ 0.03361156,  0.01959177, -0.0291521 , -0.03955584,  0.00223856,\n",
      "        0.0073125 , -0.10483699,  0.0085066 ,  0.02518461,  0.0072519 ,\n",
      "        0.00358754, -0.15646094, -0.0052345 , -0.05645234,  0.01744357,\n",
      "        0.00489636], dtype=float32)]\n",
      "[]\n",
      "[]\n",
      "[]\n",
      "[array([[ 0.05751978,  0.01614198,  0.01461758, ...,  0.19073407,\n",
      "         0.12802878,  0.04780341],\n",
      "       [ 0.06753774,  0.19581458,  0.12127212, ...,  0.06207145,\n",
      "         0.03450034, -0.01787972],\n",
      "       [ 0.03342086,  0.09565481,  0.02943046, ...,  0.0856298 ,\n",
      "         0.02680439, -0.00569818],\n",
      "       ...,\n",
      "       [ 0.35489678,  0.02753069,  0.25041115, ...,  0.22293264,\n",
      "         0.205261  , -0.31893384],\n",
      "       [ 0.09678368, -0.04105701,  0.23540361, ...,  0.19327745,\n",
      "         0.1491656 , -0.28204572],\n",
      "       [ 0.06615477, -0.17115349,  0.02581349, ..., -0.07053064,\n",
      "         0.08295683,  0.25269508]], dtype=float32), array([-7.51542766e-03, -1.42394572e-01, -4.14531790e-02, -2.69811898e-01,\n",
      "       -2.85968602e-01, -3.73667590e-02, -2.62563676e-01,  3.46974492e-01,\n",
      "       -2.77915180e-01, -1.65559664e-01, -2.00414613e-01, -9.76051986e-02,\n",
      "       -3.00815236e-02, -1.79920509e-01, -6.09690249e-02, -1.61669314e-01,\n",
      "       -1.66990347e-02, -8.95124227e-02, -1.76184028e-01, -2.88569242e-01,\n",
      "        3.62768084e-01, -1.53930068e-01, -2.68297121e-02,  3.49372417e-01,\n",
      "       -2.94144694e-02, -1.68171182e-01, -1.53429404e-01, -2.53413804e-02,\n",
      "       -2.39575088e-01, -2.24224299e-01, -1.13411792e-01, -2.91687489e-01,\n",
      "       -2.94637382e-01, -6.32944033e-02, -1.84878588e-01, -1.92165717e-01,\n",
      "       -2.43882760e-01, -3.41701061e-01, -1.86091721e-01, -1.93632275e-01,\n",
      "       -2.05336049e-01, -1.73924282e-01, -2.07503676e-01, -1.72319468e-02,\n",
      "       -2.15896279e-01, -1.94098979e-01, -9.46779847e-02, -7.20881000e-02,\n",
      "        2.99016889e-02, -2.41495058e-01, -5.39602116e-02, -2.26157352e-01,\n",
      "       -1.16560631e-01, -3.08045000e-01, -5.70478663e-02, -1.05116419e-01,\n",
      "       -1.22606158e-01, -1.75380170e-01, -1.61051288e-01, -3.65168154e-01,\n",
      "        3.50870222e-01,  3.03320557e-01,  3.48495632e-01, -5.62906405e-03,\n",
      "        1.70819722e-02, -3.63938287e-02, -1.39638692e-01,  3.79755586e-01,\n",
      "       -2.29584113e-01,  2.91553915e-01,  3.42680186e-01, -1.79440171e-01,\n",
      "       -2.84464061e-01,  4.04520541e-01, -1.40189394e-01, -2.02586487e-01,\n",
      "       -5.07026305e-03, -2.43815854e-01, -7.60980323e-02, -6.16200119e-02,\n",
      "       -2.15397790e-01, -2.29410619e-01, -1.17045566e-01, -1.18632272e-01,\n",
      "       -2.69184083e-01, -2.62066960e-01, -1.94390669e-01, -2.36331269e-01,\n",
      "       -1.17391482e-01, -3.45387250e-01, -6.81072846e-02,  3.25149387e-01,\n",
      "       -2.11923301e-01, -2.46295750e-01, -2.53709722e-02, -1.60391822e-01,\n",
      "       -2.25131333e-01, -9.77250561e-03, -1.83242023e-01, -2.33150348e-01,\n",
      "        2.67624229e-01, -3.48557308e-02, -2.59461813e-03, -1.55529544e-01,\n",
      "        3.56635332e-01, -1.32240489e-01, -1.01214923e-01, -1.65123880e-01,\n",
      "       -1.02796964e-03,  5.10506425e-03, -9.31584388e-02, -1.69858992e-01,\n",
      "       -1.16325310e-02, -1.24473341e-01, -3.49981897e-02, -1.98272049e-01,\n",
      "        3.71152721e-03, -6.87871054e-02, -1.85431808e-01, -3.15121323e-01,\n",
      "       -1.89050883e-01, -4.12698478e-01,  3.31964523e-01, -2.00261444e-01,\n",
      "       -5.60405338e-03, -3.04434240e-01, -1.99174181e-01, -2.75699705e-01,\n",
      "       -3.91243041e-01, -2.22332150e-01, -9.91373789e-03,  3.96548808e-01,\n",
      "       -4.19127103e-03, -1.99608020e-02, -3.04064415e-02,  1.84025485e-02,\n",
      "       -1.86054081e-01, -4.89356637e-01, -1.14660844e-01, -2.22422406e-01,\n",
      "       -3.15386117e-01, -1.85384616e-01, -7.93055892e-02, -2.21738547e-01,\n",
      "       -2.29073837e-01, -1.25781298e-01, -1.37110680e-01,  3.61709356e-01,\n",
      "       -3.66160005e-01, -2.16750458e-01, -9.68686268e-02, -1.30574763e-01,\n",
      "       -3.03787231e-01, -1.40739605e-01, -3.44962478e-01, -9.23736915e-02,\n",
      "        5.25332928e-01, -4.06785637e-01, -8.58027264e-02, -1.95678055e-01,\n",
      "       -2.20238343e-02, -2.01185971e-01, -3.26704085e-01,  3.26803029e-01,\n",
      "       -1.19799741e-01, -1.57442361e-01, -3.56784791e-01, -3.69726866e-02,\n",
      "       -1.34040061e-02,  5.85040310e-03,  2.74938762e-01, -4.46618050e-01,\n",
      "       -8.39495957e-02, -1.32576033e-01, -3.19715858e-01, -4.34559315e-01,\n",
      "       -3.06123316e-01, -1.21246047e-01, -1.91733629e-01, -2.36320004e-01,\n",
      "        2.18760848e-01, -1.30589664e-01, -3.13782811e-01, -1.31982550e-01,\n",
      "       -1.47058502e-01,  4.17011557e-03, -2.05000192e-02, -1.91396832e-01,\n",
      "       -2.99810201e-01, -8.17687735e-02, -1.46854833e-01, -2.37271860e-01,\n",
      "       -1.19708873e-01, -1.04876488e-01, -4.21282619e-01, -9.25015062e-02,\n",
      "       -1.19177096e-01,  1.53454230e-03, -4.04444247e-01,  2.93967187e-01,\n",
      "        3.45189571e-01,  2.67807633e-01, -4.19987738e-02,  3.81221473e-01,\n",
      "       -1.30893916e-01,  3.41773421e-01, -2.78454602e-01, -3.13966215e-01,\n",
      "       -1.37709275e-01,  3.75839055e-01, -7.88887516e-02, -7.09119290e-02,\n",
      "       -1.67990867e-02, -1.64452106e-01, -2.09784925e-01, -2.10660920e-01,\n",
      "       -2.36070350e-01,  3.50658200e-03, -1.41074741e-02, -2.39197955e-01,\n",
      "        3.02600920e-01, -4.46743751e-03, -2.13325158e-01, -1.54075921e-01,\n",
      "       -3.20169151e-01, -4.73381966e-01, -1.20915525e-01, -1.30188957e-01,\n",
      "       -1.48309544e-01, -3.18351030e-01, -2.82317162e-01, -7.92151466e-02,\n",
      "       -2.23230645e-01, -2.27965519e-01, -1.12440415e-01, -3.51984829e-01,\n",
      "       -3.15768421e-01, -2.36080781e-01, -3.75808150e-01, -2.19429001e-01,\n",
      "       -2.79596478e-01, -1.72225535e-01, -1.09974675e-01, -2.33848616e-01,\n",
      "       -3.22357044e-02, -2.84342736e-01, -3.19037199e-01, -2.09714592e-01,\n",
      "       -1.54915959e-01, -1.39085054e-01, -1.65235862e-01, -8.02374184e-02,\n",
      "       -1.20733999e-01, -8.49546213e-03, -4.21866477e-02, -1.60040498e-01,\n",
      "       -1.46415785e-01, -7.28146508e-02, -2.02373654e-01, -1.35703176e-01,\n",
      "        4.14343566e-01, -3.24058712e-01, -7.48372972e-02, -1.00346953e-01,\n",
      "       -2.27694258e-01, -2.39400029e-01, -2.18472153e-01,  4.79605108e-01,\n",
      "        2.95885410e-02, -1.55973867e-01, -2.81354368e-01, -6.69000819e-02,\n",
      "       -3.19030464e-01, -2.80019641e-01, -1.90365493e-01,  1.43740000e-02,\n",
      "        1.75071098e-02,  1.15865041e-02,  3.02364558e-01, -2.40144476e-01,\n",
      "       -4.16601032e-01, -1.15592092e-01, -3.47782493e-01, -1.46288663e-01,\n",
      "       -1.58344477e-01, -1.55356899e-01,  3.44070315e-01, -1.15263052e-01,\n",
      "       -1.56646580e-01, -3.09187651e-01, -1.62596740e-02, -2.34733075e-01,\n",
      "       -3.48065585e-01, -1.20384507e-01, -2.18174502e-01, -1.93978712e-01,\n",
      "       -5.62153421e-02, -1.43237367e-01, -3.52009565e-01, -1.08483426e-01,\n",
      "       -1.85201783e-02, -1.14343911e-01, -1.20804057e-01, -3.08406036e-02,\n",
      "        4.33800071e-01, -1.67315483e-01, -1.00221515e-01, -1.97474528e-02,\n",
      "       -3.37973088e-01, -4.11171377e-01, -2.17645168e-01, -1.32686749e-01,\n",
      "       -2.22894266e-01, -1.17514372e-01, -1.35830089e-01,  3.28462839e-01,\n",
      "       -4.56455350e-03, -1.03168376e-01, -5.45486622e-02, -1.67929068e-01,\n",
      "       -2.02936396e-01, -1.06940351e-01,  1.05732819e-04, -2.96062857e-01,\n",
      "       -9.26246867e-02, -2.81803191e-01, -1.68113664e-01,  3.24514687e-01,\n",
      "       -1.48001745e-01, -1.63608063e-02, -4.57857132e-01, -1.98082924e-01,\n",
      "        3.57414722e-01, -2.10528485e-02, -1.29573449e-01, -3.31060827e-01,\n",
      "       -1.62487939e-01, -6.33711740e-02, -1.46307405e-02, -1.21440589e-01,\n",
      "       -3.25462930e-02, -1.35227844e-01, -3.07569116e-01, -8.08245167e-02,\n",
      "       -1.76041856e-01, -6.70355791e-03, -1.42483979e-01, -2.14084834e-01,\n",
      "       -2.03472748e-01, -1.32857068e-02, -4.94534411e-02,  5.12743235e-01],\n",
      "      dtype=float32)]\n",
      "[array([[-3.45723391e-01],\n",
      "       [-3.95081013e-01],\n",
      "       [-4.63746160e-01],\n",
      "       [-2.44809031e-01],\n",
      "       [ 2.53226519e-01],\n",
      "       [-2.72208571e-01],\n",
      "       [ 3.42543691e-01],\n",
      "       [ 3.52675885e-01],\n",
      "       [-1.38456583e-01],\n",
      "       [-1.75508350e-01],\n",
      "       [-3.06741297e-01],\n",
      "       [ 3.58316243e-01],\n",
      "       [-9.80555415e-02],\n",
      "       [ 5.46301961e-01],\n",
      "       [-5.50781637e-02],\n",
      "       [-3.35848153e-01],\n",
      "       [-4.43811387e-01],\n",
      "       [ 2.67658442e-01],\n",
      "       [-1.52209461e-01],\n",
      "       [-1.47335589e-01],\n",
      "       [ 3.92933011e-01],\n",
      "       [-4.08764511e-01],\n",
      "       [-3.35683405e-01],\n",
      "       [ 2.79680848e-01],\n",
      "       [-1.59466237e-01],\n",
      "       [ 1.70148268e-01],\n",
      "       [-1.94009274e-01],\n",
      "       [-3.83578926e-01],\n",
      "       [-1.48868650e-01],\n",
      "       [-1.43687993e-01],\n",
      "       [-2.47064114e-01],\n",
      "       [-2.60666758e-01],\n",
      "       [-2.94942886e-01],\n",
      "       [-2.35902026e-01],\n",
      "       [-7.92806894e-02],\n",
      "       [ 5.17580092e-01],\n",
      "       [ 6.72551692e-01],\n",
      "       [ 1.81150094e-01],\n",
      "       [ 3.60336393e-01],\n",
      "       [-2.98045576e-01],\n",
      "       [ 3.20192456e-01],\n",
      "       [-2.16507435e-01],\n",
      "       [-7.39256367e-02],\n",
      "       [-3.11004788e-01],\n",
      "       [-6.34607524e-02],\n",
      "       [-3.54362398e-01],\n",
      "       [-2.21425876e-01],\n",
      "       [-1.92217335e-01],\n",
      "       [-5.05400121e-01],\n",
      "       [ 2.57770985e-01],\n",
      "       [-1.71889946e-01],\n",
      "       [ 6.09213710e-01],\n",
      "       [-1.32087797e-01],\n",
      "       [-1.79419696e-01],\n",
      "       [-1.19377486e-01],\n",
      "       [-6.55270293e-02],\n",
      "       [-4.91020223e-03],\n",
      "       [-2.66705126e-01],\n",
      "       [-1.31675735e-01],\n",
      "       [-1.57691553e-01],\n",
      "       [ 3.61228198e-01],\n",
      "       [ 4.88710701e-01],\n",
      "       [ 1.90559968e-01],\n",
      "       [-3.83440465e-01],\n",
      "       [-4.79103476e-01],\n",
      "       [-4.81733739e-01],\n",
      "       [-3.72867435e-01],\n",
      "       [ 2.98625737e-01],\n",
      "       [-2.75362045e-01],\n",
      "       [ 3.29594672e-01],\n",
      "       [ 2.30162799e-01],\n",
      "       [-2.57233739e-01],\n",
      "       [-1.91049710e-01],\n",
      "       [ 4.79023367e-01],\n",
      "       [ 3.30441684e-01],\n",
      "       [ 3.16302478e-01],\n",
      "       [-2.38926232e-01],\n",
      "       [-3.76989841e-02],\n",
      "       [-1.15086816e-01],\n",
      "       [-4.05266613e-01],\n",
      "       [ 2.24220306e-01],\n",
      "       [ 5.51924407e-01],\n",
      "       [-1.63603574e-01],\n",
      "       [ 1.47336930e-01],\n",
      "       [-1.95572302e-01],\n",
      "       [-1.77725062e-01],\n",
      "       [ 1.22600265e-01],\n",
      "       [-2.68042684e-01],\n",
      "       [-1.83774278e-01],\n",
      "       [-1.30588308e-01],\n",
      "       [-2.13827491e-01],\n",
      "       [ 3.57980907e-01],\n",
      "       [-5.37794791e-02],\n",
      "       [ 5.61292350e-01],\n",
      "       [-1.49228841e-01],\n",
      "       [ 2.23799571e-01],\n",
      "       [-1.40033334e-01],\n",
      "       [-2.04770371e-01],\n",
      "       [-9.20140669e-02],\n",
      "       [-9.02790949e-02],\n",
      "       [ 4.44617361e-01],\n",
      "       [-2.40851313e-01],\n",
      "       [-1.92275122e-01],\n",
      "       [ 4.75096315e-01],\n",
      "       [ 3.03103268e-01],\n",
      "       [-2.30221167e-01],\n",
      "       [-2.58870631e-01],\n",
      "       [-2.22740799e-01],\n",
      "       [-3.47749472e-01],\n",
      "       [-2.35391378e-01],\n",
      "       [-2.72762179e-01],\n",
      "       [-2.96506286e-01],\n",
      "       [-3.24720055e-01],\n",
      "       [-1.14607386e-01],\n",
      "       [-3.41867834e-01],\n",
      "       [-5.58256209e-02],\n",
      "       [-2.51008511e-01],\n",
      "       [-3.60845298e-01],\n",
      "       [-1.57553062e-01],\n",
      "       [-2.69821018e-01],\n",
      "       [-2.02081710e-01],\n",
      "       [-3.36083412e-01],\n",
      "       [ 2.66511112e-01],\n",
      "       [-1.27985299e-01],\n",
      "       [-3.95622730e-01],\n",
      "       [-6.09369241e-02],\n",
      "       [-1.47941917e-01],\n",
      "       [-1.26330495e-01],\n",
      "       [-1.39047831e-01],\n",
      "       [-2.83967286e-01],\n",
      "       [ 2.94516325e-01],\n",
      "       [ 2.99140692e-01],\n",
      "       [-1.52489975e-01],\n",
      "       [-3.72537583e-01],\n",
      "       [-1.55083895e-01],\n",
      "       [-5.08663058e-01],\n",
      "       [-1.95504248e-01],\n",
      "       [-2.37434074e-01],\n",
      "       [-3.20119917e-01],\n",
      "       [-1.68134004e-01],\n",
      "       [-2.78387398e-01],\n",
      "       [-3.76187079e-02],\n",
      "       [-2.42324144e-01],\n",
      "       [-2.02426046e-01],\n",
      "       [-4.59487855e-01],\n",
      "       [-2.72007972e-01],\n",
      "       [ 5.49604475e-01],\n",
      "       [ 4.14927483e-01],\n",
      "       [ 6.47232592e-01],\n",
      "       [-1.89045966e-01],\n",
      "       [-1.07640140e-01],\n",
      "       [ 9.48968157e-03],\n",
      "       [-3.02042663e-01],\n",
      "       [-1.68634117e-01],\n",
      "       [-1.20832764e-01],\n",
      "       [-9.46596265e-02],\n",
      "       [ 3.72480214e-01],\n",
      "       [-1.57664731e-01],\n",
      "       [ 3.35792899e-01],\n",
      "       [ 2.70436704e-01],\n",
      "       [ 2.08235994e-01],\n",
      "       [ 1.17306598e-01],\n",
      "       [-2.48142138e-01],\n",
      "       [ 3.22015584e-01],\n",
      "       [ 5.37252784e-01],\n",
      "       [ 4.87012953e-01],\n",
      "       [-2.08658487e-01],\n",
      "       [-2.46443883e-01],\n",
      "       [-3.78894597e-01],\n",
      "       [-1.94496289e-01],\n",
      "       [ 4.79558349e-01],\n",
      "       [-1.76690929e-02],\n",
      "       [-3.35367844e-02],\n",
      "       [-4.06274617e-01],\n",
      "       [-9.47280750e-02],\n",
      "       [-2.23044589e-01],\n",
      "       [-1.97299093e-01],\n",
      "       [-2.26108178e-01],\n",
      "       [ 3.85011435e-01],\n",
      "       [-1.28837928e-01],\n",
      "       [ 4.57089901e-01],\n",
      "       [-1.58260167e-01],\n",
      "       [ 5.11466503e-01],\n",
      "       [-1.40440881e-01],\n",
      "       [-2.08843425e-01],\n",
      "       [-2.66718149e-01],\n",
      "       [-3.98541451e-01],\n",
      "       [ 4.82322723e-01],\n",
      "       [-1.96428224e-01],\n",
      "       [ 4.65165585e-01],\n",
      "       [ 2.47568578e-01],\n",
      "       [-3.05698425e-01],\n",
      "       [ 5.70124805e-01],\n",
      "       [ 1.61363423e-01],\n",
      "       [-1.36646956e-01],\n",
      "       [-2.13784605e-01],\n",
      "       [ 1.33688703e-01],\n",
      "       [-4.96850222e-01],\n",
      "       [-1.74691483e-01],\n",
      "       [ 3.23273689e-01],\n",
      "       [ 3.18072587e-01],\n",
      "       [ 4.12477225e-01],\n",
      "       [-2.94331253e-01],\n",
      "       [ 5.05620480e-01],\n",
      "       [ 2.45242685e-01],\n",
      "       [ 3.81137043e-01],\n",
      "       [-1.24303997e-01],\n",
      "       [-4.52682637e-02],\n",
      "       [ 3.87579650e-01],\n",
      "       [ 2.52620012e-01],\n",
      "       [-2.11123630e-01],\n",
      "       [-4.94162291e-01],\n",
      "       [-4.54647630e-01],\n",
      "       [ 5.34049928e-01],\n",
      "       [-2.98358709e-01],\n",
      "       [-9.95850191e-02],\n",
      "       [ 8.01466231e-04],\n",
      "       [-1.93910897e-01],\n",
      "       [-4.10213917e-01],\n",
      "       [ 3.80415618e-01],\n",
      "       [ 4.21765417e-01],\n",
      "       [-2.67207086e-01],\n",
      "       [-5.89228272e-02],\n",
      "       [-2.30163664e-01],\n",
      "       [-1.81374848e-01],\n",
      "       [-1.98881015e-01],\n",
      "       [-1.58267580e-02],\n",
      "       [-1.57674640e-01],\n",
      "       [ 4.89395171e-01],\n",
      "       [-8.36525634e-02],\n",
      "       [-2.21029073e-01],\n",
      "       [-3.23971450e-01],\n",
      "       [-1.82146296e-01],\n",
      "       [ 2.34719932e-01],\n",
      "       [ 2.38995880e-01],\n",
      "       [-1.82421654e-01],\n",
      "       [ 5.40283799e-01],\n",
      "       [ 3.09375137e-01],\n",
      "       [-3.02416515e-02],\n",
      "       [-1.10621244e-01],\n",
      "       [-1.67249009e-01],\n",
      "       [ 3.47922564e-01],\n",
      "       [-2.11138114e-01],\n",
      "       [-4.42825928e-02],\n",
      "       [-1.57973453e-01],\n",
      "       [-9.50156376e-02],\n",
      "       [-9.94321778e-02],\n",
      "       [-1.57222897e-01],\n",
      "       [ 1.26996577e-01],\n",
      "       [-3.60148638e-01],\n",
      "       [-1.38276830e-01],\n",
      "       [-1.89372301e-01],\n",
      "       [ 4.19264704e-01],\n",
      "       [-3.06235909e-01],\n",
      "       [-3.02493691e-01],\n",
      "       [-3.85421574e-01],\n",
      "       [-2.45873168e-01],\n",
      "       [-2.52989829e-01],\n",
      "       [-7.71745965e-02],\n",
      "       [ 4.53043044e-01],\n",
      "       [ 6.01837456e-01],\n",
      "       [-8.15221667e-02],\n",
      "       [-3.62002999e-01],\n",
      "       [-2.27572814e-01],\n",
      "       [-2.92281806e-01],\n",
      "       [ 6.26468599e-01],\n",
      "       [-3.30803096e-01],\n",
      "       [ 3.71976018e-01],\n",
      "       [-4.64353353e-01],\n",
      "       [ 6.75141811e-01],\n",
      "       [-1.36834085e-01],\n",
      "       [-8.58418867e-02],\n",
      "       [-2.40968704e-01],\n",
      "       [ 5.74836373e-01],\n",
      "       [-1.79572329e-02],\n",
      "       [-3.50097686e-01],\n",
      "       [-4.16950792e-01],\n",
      "       [-2.89677769e-01],\n",
      "       [ 2.75789559e-01],\n",
      "       [-7.84720033e-02],\n",
      "       [-2.76846766e-01],\n",
      "       [-1.78995550e-01],\n",
      "       [-2.87837118e-01],\n",
      "       [ 3.01768035e-01],\n",
      "       [ 3.49800527e-01],\n",
      "       [ 6.25127852e-01],\n",
      "       [ 2.46795028e-01],\n",
      "       [ 2.13703569e-02],\n",
      "       [-1.50443673e-01],\n",
      "       [ 4.28564027e-02],\n",
      "       [-1.25462711e-01],\n",
      "       [-2.18492076e-01],\n",
      "       [-1.35605171e-01],\n",
      "       [ 1.22659974e-01],\n",
      "       [-2.38190398e-01],\n",
      "       [ 2.05058485e-01],\n",
      "       [-9.21342149e-02],\n",
      "       [-2.37590253e-01],\n",
      "       [-2.47237250e-01],\n",
      "       [ 3.93669963e-01],\n",
      "       [-3.37550849e-01],\n",
      "       [-5.98737113e-02],\n",
      "       [-8.39455202e-02],\n",
      "       [-3.15717608e-01],\n",
      "       [ 2.50580251e-01],\n",
      "       [-1.53565556e-01],\n",
      "       [ 4.36686814e-01],\n",
      "       [-2.47216791e-01],\n",
      "       [ 3.43644880e-02],\n",
      "       [-1.74411252e-01],\n",
      "       [-1.83318406e-01],\n",
      "       [ 1.65399477e-01],\n",
      "       [-3.62707376e-01],\n",
      "       [-2.66081750e-01],\n",
      "       [ 2.50215322e-01],\n",
      "       [ 4.55975384e-01],\n",
      "       [-1.74208984e-01],\n",
      "       [-3.07295263e-01],\n",
      "       [-1.41478673e-01],\n",
      "       [-2.15329736e-01],\n",
      "       [-1.72467858e-01],\n",
      "       [-6.60213903e-02],\n",
      "       [-4.01083291e-01],\n",
      "       [ 1.37559131e-01],\n",
      "       [-3.12427431e-01],\n",
      "       [-6.33204654e-02],\n",
      "       [-2.31444493e-01],\n",
      "       [ 3.37360591e-01],\n",
      "       [-4.62390156e-03],\n",
      "       [-2.09804520e-01],\n",
      "       [-1.28017291e-01],\n",
      "       [ 3.73029412e-04],\n",
      "       [ 1.74479097e-01],\n",
      "       [-2.70183504e-01],\n",
      "       [-2.00790673e-01],\n",
      "       [ 5.35729468e-01],\n",
      "       [-2.16382876e-01],\n",
      "       [ 4.73664433e-01],\n",
      "       [-2.40565687e-01],\n",
      "       [ 1.29334196e-01],\n",
      "       [-1.98002532e-01],\n",
      "       [-1.56111762e-01],\n",
      "       [ 5.79746850e-02],\n",
      "       [ 1.94926903e-01],\n",
      "       [-1.28778800e-01],\n",
      "       [-3.26324135e-01],\n",
      "       [-1.49028003e-01],\n",
      "       [ 3.80666740e-03],\n",
      "       [-2.11694628e-01],\n",
      "       [-4.59397703e-01],\n",
      "       [-2.12528616e-01],\n",
      "       [ 4.86603856e-01]], dtype=float32), array([0.75086254], dtype=float32)]\n"
     ]
    }
   ],
   "source": [
    "# print weights\n",
    "for layer in model.layers:\n",
    "    weights = layer.get_weights()\n",
    "    print(weights)"
   ]
  },
  {
   "cell_type": "code",
   "execution_count": 23,
   "metadata": {},
   "outputs": [
    {
     "name": "stdout",
     "output_type": "stream",
     "text": [
      "32/32 [==============================] - 1s 27ms/step - loss: 0.6420 - acc: 0.9360\n",
      "0.6420246958732605 0.9359999895095825\n"
     ]
    }
   ],
   "source": [
    "val_loss, val_acc = model.evaluate(test_dataset, batch_size=32)\n",
    "print(val_loss, val_acc)"
   ]
  },
  {
   "cell_type": "code",
   "execution_count": 18,
   "metadata": {},
   "outputs": [
    {
     "data": {
      "image/png": "[encoded data removed]",
      "text/plain": [
       "<Figure size 640x480 with 1 Axes>"
      ]
     },
     "metadata": {},
     "output_type": "display_data"
    },
    {
     "data": {
      "image/png": "[encoded data removed]",
      "text/plain": [
       "<Figure size 640x480 with 1 Axes>"
      ]
     },
     "metadata": {},
     "output_type": "display_data"
    }
   ],
   "source": [
    "acc = history.history['acc']\n",
    "val_acc = history.history['val_acc']\n",
    "loss = history.history['loss']\n",
    "val_loss = history.history['val_loss']\n",
    "\n",
    "epochs = range(1, len(acc) + 1)\n",
    "plt.plot(epochs, acc, 'bo', label='Training acc')\n",
    "plt.plot(epochs, val_acc, 'b', label='Validation acc')\n",
    "plt.title('Training and validation accuracy')\n",
    "plt.legend()\n",
    "plt.savefig(\"graphs/5-1/train_test_acc\",dpi=100)\n",
    "plt.figure()\n",
    "plt.plot(epochs, loss, 'bo', label='Training loss')\n",
    "plt.plot(epochs, val_loss, 'b', label='Validation loss')\n",
    "plt.title('Training and validation loss')\n",
    "plt.legend()\n",
    "plt.savefig(\"graphs/5-1/train_test_loss\",dpi=100)\n",
    "plt.show()\n"
   ]
  },
  {
   "cell_type": "code",
   "execution_count": 24,
   "metadata": {},
   "outputs": [
    {
     "name": "stdout",
     "output_type": "stream",
     "text": [
      "Found 1000 files belonging to 2 classes.\n",
      "1/1 [==============================] - 0s 319ms/step\n",
      "1/1 [==============================] - 0s 20ms/step\n",
      "1/1 [==============================] - 0s 20ms/step\n",
      "1/1 [==============================] - 0s 20ms/step\n",
      "1/1 [==============================] - 0s 21ms/step\n",
      "1/1 [==============================] - 0s 26ms/step\n",
      "1/1 [==============================] - 0s 49ms/step\n",
      "1/1 [==============================] - 0s 58ms/step\n",
      "1/1 [==============================] - 0s 29ms/step\n",
      "1/1 [==============================] - 0s 20ms/step\n",
      "1/1 [==============================] - 0s 21ms/step\n",
      "1/1 [==============================] - 0s 20ms/step\n",
      "1/1 [==============================] - 0s 20ms/step\n",
      "1/1 [==============================] - 0s 19ms/step\n",
      "1/1 [==============================] - 0s 21ms/step\n",
      "1/1 [==============================] - 0s 19ms/step\n",
      "1/1 [==============================] - 0s 20ms/step\n",
      "1/1 [==============================] - 0s 20ms/step\n",
      "1/1 [==============================] - 0s 23ms/step\n",
      "1/1 [==============================] - 0s 22ms/step\n",
      "1/1 [==============================] - 0s 37ms/step\n",
      "1/1 [==============================] - 0s 50ms/step\n",
      "1/1 [==============================] - 0s 21ms/step\n",
      "1/1 [==============================] - 0s 19ms/step\n",
      "1/1 [==============================] - 0s 20ms/step\n",
      "1/1 [==============================] - 0s 18ms/step\n",
      "1/1 [==============================] - 0s 19ms/step\n",
      "1/1 [==============================] - 0s 20ms/step\n",
      "1/1 [==============================] - 0s 21ms/step\n",
      "1/1 [==============================] - 0s 20ms/step\n",
      "1/1 [==============================] - 0s 19ms/step\n",
      "1/1 [==============================] - 0s 22ms/step\n",
      "1/1 [==============================] - 0s 17ms/step\n",
      "1/1 [==============================] - 0s 20ms/step\n",
      "1/1 [==============================] - 0s 25ms/step\n",
      "1/1 [==============================] - 0s 18ms/step\n",
      "1/1 [==============================] - 0s 45ms/step\n",
      "1/1 [==============================] - 0s 20ms/step\n",
      "1/1 [==============================] - 0s 19ms/step\n",
      "1/1 [==============================] - 0s 19ms/step\n",
      "1/1 [==============================] - 0s 22ms/step\n",
      "1/1 [==============================] - 0s 20ms/step\n",
      "1/1 [==============================] - 0s 20ms/step\n",
      "1/1 [==============================] - 0s 19ms/step\n",
      "1/1 [==============================] - 0s 20ms/step\n",
      "1/1 [==============================] - 0s 20ms/step\n",
      "1/1 [==============================] - 0s 20ms/step\n",
      "1/1 [==============================] - 0s 20ms/step\n",
      "1/1 [==============================] - 0s 21ms/step\n",
      "1/1 [==============================] - 0s 23ms/step\n",
      "1/1 [==============================] - 0s 45ms/step\n",
      "1/1 [==============================] - 0s 32ms/step\n",
      "1/1 [==============================] - 0s 20ms/step\n",
      "1/1 [==============================] - 0s 19ms/step\n",
      "1/1 [==============================] - 0s 20ms/step\n",
      "1/1 [==============================] - 0s 21ms/step\n",
      "1/1 [==============================] - 0s 19ms/step\n",
      "1/1 [==============================] - 0s 18ms/step\n",
      "1/1 [==============================] - 0s 21ms/step\n",
      "1/1 [==============================] - 0s 19ms/step\n",
      "1/1 [==============================] - 0s 19ms/step\n",
      "1/1 [==============================] - 0s 19ms/step\n",
      "1/1 [==============================] - 0s 19ms/step\n",
      "1/1 [==============================] - 0s 19ms/step\n",
      "1/1 [==============================] - 0s 23ms/step\n",
      "1/1 [==============================] - 0s 20ms/step\n",
      "1/1 [==============================] - 0s 22ms/step\n",
      "1/1 [==============================] - 0s 43ms/step\n",
      "1/1 [==============================] - 0s 30ms/step\n",
      "1/1 [==============================] - 0s 20ms/step\n",
      "1/1 [==============================] - 0s 18ms/step\n",
      "1/1 [==============================] - 0s 21ms/step\n",
      "1/1 [==============================] - 0s 20ms/step\n",
      "1/1 [==============================] - 0s 22ms/step\n",
      "1/1 [==============================] - 0s 20ms/step\n",
      "1/1 [==============================] - 0s 18ms/step\n",
      "1/1 [==============================] - 0s 22ms/step\n",
      "1/1 [==============================] - 0s 18ms/step\n",
      "1/1 [==============================] - 0s 19ms/step\n",
      "1/1 [==============================] - 0s 18ms/step\n",
      "1/1 [==============================] - 0s 19ms/step\n",
      "1/1 [==============================] - 0s 18ms/step\n",
      "1/1 [==============================] - 0s 19ms/step\n",
      "1/1 [==============================] - 0s 19ms/step\n",
      "1/1 [==============================] - 0s 19ms/step\n",
      "1/1 [==============================] - 0s 18ms/step\n",
      "1/1 [==============================] - 0s 51ms/step\n",
      "1/1 [==============================] - 0s 36ms/step\n",
      "1/1 [==============================] - 0s 41ms/step\n",
      "1/1 [==============================] - 0s 22ms/step\n",
      "1/1 [==============================] - 0s 19ms/step\n",
      "1/1 [==============================] - 0s 19ms/step\n",
      "1/1 [==============================] - 0s 20ms/step\n",
      "1/1 [==============================] - 0s 21ms/step\n",
      "1/1 [==============================] - 0s 21ms/step\n",
      "1/1 [==============================] - 0s 21ms/step\n",
      "1/1 [==============================] - 0s 21ms/step\n",
      "1/1 [==============================] - 0s 21ms/step\n",
      "1/1 [==============================] - 0s 24ms/step\n",
      "1/1 [==============================] - 0s 22ms/step\n",
      "1/1 [==============================] - 0s 21ms/step\n",
      "1/1 [==============================] - 0s 19ms/step\n",
      "1/1 [==============================] - 0s 20ms/step\n",
      "1/1 [==============================] - 0s 20ms/step\n",
      "1/1 [==============================] - 0s 47ms/step\n",
      "1/1 [==============================] - 0s 19ms/step\n",
      "1/1 [==============================] - 0s 19ms/step\n",
      "1/1 [==============================] - 0s 19ms/step\n",
      "1/1 [==============================] - 0s 19ms/step\n",
      "1/1 [==============================] - 0s 18ms/step\n",
      "1/1 [==============================] - 0s 19ms/step\n",
      "1/1 [==============================] - 0s 18ms/step\n",
      "1/1 [==============================] - 0s 22ms/step\n",
      "1/1 [==============================] - 0s 22ms/step\n",
      "1/1 [==============================] - 0s 21ms/step\n",
      "1/1 [==============================] - 0s 20ms/step\n",
      "1/1 [==============================] - 0s 19ms/step\n",
      "1/1 [==============================] - 0s 19ms/step\n",
      "1/1 [==============================] - 0s 19ms/step\n",
      "1/1 [==============================] - 0s 18ms/step\n",
      "1/1 [==============================] - 0s 49ms/step\n",
      "1/1 [==============================] - 0s 20ms/step\n",
      "1/1 [==============================] - 0s 20ms/step\n",
      "1/1 [==============================] - 0s 20ms/step\n",
      "1/1 [==============================] - 0s 28ms/step\n",
      "1/1 [==============================] - 0s 20ms/step\n",
      "1/1 [==============================] - 0s 20ms/step\n",
      "1/1 [==============================] - 0s 20ms/step\n",
      "1/1 [==============================] - 0s 20ms/step\n",
      "1/1 [==============================] - 0s 22ms/step\n",
      "1/1 [==============================] - 0s 19ms/step\n",
      "1/1 [==============================] - 0s 18ms/step\n",
      "1/1 [==============================] - 0s 21ms/step\n",
      "1/1 [==============================] - 0s 21ms/step\n",
      "1/1 [==============================] - 0s 60ms/step\n",
      "1/1 [==============================] - 0s 61ms/step\n",
      "1/1 [==============================] - 0s 20ms/step\n",
      "1/1 [==============================] - 0s 17ms/step\n",
      "1/1 [==============================] - 0s 18ms/step\n",
      "1/1 [==============================] - 0s 18ms/step\n",
      "1/1 [==============================] - 0s 19ms/step\n",
      "1/1 [==============================] - 0s 23ms/step\n",
      "1/1 [==============================] - 0s 19ms/step\n",
      "1/1 [==============================] - 0s 19ms/step\n",
      "1/1 [==============================] - 0s 18ms/step\n",
      "1/1 [==============================] - 0s 18ms/step\n",
      "1/1 [==============================] - 0s 20ms/step\n",
      "1/1 [==============================] - 0s 18ms/step\n",
      "1/1 [==============================] - 0s 21ms/step\n",
      "1/1 [==============================] - 0s 20ms/step\n",
      "1/1 [==============================] - 0s 19ms/step\n",
      "1/1 [==============================] - 0s 19ms/step\n",
      "1/1 [==============================] - 0s 33ms/step\n",
      "1/1 [==============================] - 0s 24ms/step\n",
      "1/1 [==============================] - 0s 19ms/step\n",
      "1/1 [==============================] - 0s 19ms/step\n",
      "1/1 [==============================] - 0s 23ms/step\n",
      "1/1 [==============================] - 0s 19ms/step\n",
      "1/1 [==============================] - 0s 19ms/step\n",
      "1/1 [==============================] - 0s 21ms/step\n",
      "1/1 [==============================] - 0s 21ms/step\n",
      "1/1 [==============================] - 0s 20ms/step\n",
      "1/1 [==============================] - 0s 26ms/step\n",
      "1/1 [==============================] - 0s 18ms/step\n",
      "1/1 [==============================] - 0s 21ms/step\n",
      "1/1 [==============================] - 0s 24ms/step\n",
      "1/1 [==============================] - 0s 68ms/step\n",
      "1/1 [==============================] - 0s 29ms/step\n",
      "1/1 [==============================] - 0s 30ms/step\n",
      "1/1 [==============================] - 0s 21ms/step\n",
      "1/1 [==============================] - 0s 22ms/step\n",
      "1/1 [==============================] - 0s 23ms/step\n",
      "1/1 [==============================] - 0s 22ms/step\n",
      "1/1 [==============================] - 0s 19ms/step\n",
      "1/1 [==============================] - 0s 19ms/step\n",
      "1/1 [==============================] - 0s 21ms/step\n",
      "1/1 [==============================] - 0s 20ms/step\n",
      "1/1 [==============================] - 0s 19ms/step\n",
      "1/1 [==============================] - 0s 22ms/step\n",
      "1/1 [==============================] - 0s 19ms/step\n",
      "1/1 [==============================] - 0s 21ms/step\n",
      "1/1 [==============================] - 0s 19ms/step\n",
      "1/1 [==============================] - 0s 19ms/step\n",
      "1/1 [==============================] - 0s 19ms/step\n",
      "1/1 [==============================] - 0s 41ms/step\n",
      "1/1 [==============================] - 0s 20ms/step\n",
      "1/1 [==============================] - 0s 19ms/step\n",
      "1/1 [==============================] - 0s 19ms/step\n",
      "1/1 [==============================] - 0s 20ms/step\n",
      "1/1 [==============================] - 0s 20ms/step\n",
      "1/1 [==============================] - 0s 19ms/step\n",
      "1/1 [==============================] - 0s 19ms/step\n",
      "1/1 [==============================] - 0s 19ms/step\n",
      "1/1 [==============================] - 0s 18ms/step\n",
      "1/1 [==============================] - 0s 19ms/step\n",
      "1/1 [==============================] - 0s 19ms/step\n",
      "1/1 [==============================] - 0s 18ms/step\n",
      "1/1 [==============================] - 0s 25ms/step\n",
      "1/1 [==============================] - 0s 19ms/step\n",
      "1/1 [==============================] - 0s 48ms/step\n",
      "1/1 [==============================] - 0s 37ms/step\n",
      "1/1 [==============================] - 0s 20ms/step\n",
      "1/1 [==============================] - 0s 18ms/step\n",
      "1/1 [==============================] - 0s 17ms/step\n",
      "1/1 [==============================] - 0s 18ms/step\n",
      "1/1 [==============================] - 0s 19ms/step\n",
      "1/1 [==============================] - 0s 23ms/step\n",
      "1/1 [==============================] - 0s 24ms/step\n",
      "1/1 [==============================] - 0s 24ms/step\n",
      "1/1 [==============================] - 0s 19ms/step\n",
      "1/1 [==============================] - 0s 20ms/step\n",
      "1/1 [==============================] - 0s 20ms/step\n",
      "1/1 [==============================] - 0s 23ms/step\n",
      "1/1 [==============================] - 0s 19ms/step\n",
      "1/1 [==============================] - 0s 19ms/step\n",
      "1/1 [==============================] - 0s 66ms/step\n",
      "1/1 [==============================] - 0s 24ms/step\n",
      "1/1 [==============================] - 0s 26ms/step\n",
      "1/1 [==============================] - 0s 26ms/step\n",
      "1/1 [==============================] - 0s 20ms/step\n",
      "1/1 [==============================] - 0s 20ms/step\n",
      "1/1 [==============================] - 0s 21ms/step\n",
      "1/1 [==============================] - 0s 22ms/step\n",
      "1/1 [==============================] - 0s 21ms/step\n",
      "1/1 [==============================] - 0s 22ms/step\n",
      "1/1 [==============================] - 0s 19ms/step\n",
      "1/1 [==============================] - 0s 20ms/step\n",
      "1/1 [==============================] - 0s 20ms/step\n",
      "1/1 [==============================] - 0s 23ms/step\n",
      "1/1 [==============================] - 0s 24ms/step\n",
      "1/1 [==============================] - 0s 36ms/step\n",
      "1/1 [==============================] - 0s 40ms/step\n",
      "1/1 [==============================] - 0s 39ms/step\n",
      "1/1 [==============================] - 0s 20ms/step\n",
      "1/1 [==============================] - 0s 22ms/step\n",
      "1/1 [==============================] - 0s 21ms/step\n",
      "1/1 [==============================] - 0s 22ms/step\n",
      "1/1 [==============================] - 0s 21ms/step\n",
      "1/1 [==============================] - 0s 24ms/step\n",
      "1/1 [==============================] - 0s 20ms/step\n",
      "1/1 [==============================] - 0s 19ms/step\n",
      "1/1 [==============================] - 0s 20ms/step\n",
      "1/1 [==============================] - 0s 20ms/step\n",
      "1/1 [==============================] - 0s 19ms/step\n",
      "1/1 [==============================] - 0s 23ms/step\n",
      "1/1 [==============================] - 0s 19ms/step\n",
      "1/1 [==============================] - 0s 56ms/step\n",
      "1/1 [==============================] - 0s 43ms/step\n",
      "1/1 [==============================] - 0s 23ms/step\n",
      "1/1 [==============================] - 0s 21ms/step\n",
      "1/1 [==============================] - 0s 19ms/step\n",
      "1/1 [==============================] - 0s 23ms/step\n",
      "1/1 [==============================] - 0s 20ms/step\n",
      "1/1 [==============================] - 0s 19ms/step\n",
      "1/1 [==============================] - 0s 23ms/step\n",
      "1/1 [==============================] - 0s 24ms/step\n",
      "1/1 [==============================] - 0s 21ms/step\n",
      "1/1 [==============================] - 0s 20ms/step\n",
      "1/1 [==============================] - 0s 27ms/step\n",
      "1/1 [==============================] - 0s 22ms/step\n",
      "1/1 [==============================] - 0s 47ms/step\n",
      "1/1 [==============================] - 0s 44ms/step\n",
      "1/1 [==============================] - 0s 18ms/step\n",
      "1/1 [==============================] - 0s 25ms/step\n",
      "1/1 [==============================] - 0s 22ms/step\n",
      "1/1 [==============================] - 0s 20ms/step\n",
      "1/1 [==============================] - 0s 20ms/step\n",
      "1/1 [==============================] - 0s 17ms/step\n",
      "1/1 [==============================] - 0s 28ms/step\n",
      "1/1 [==============================] - 0s 22ms/step\n",
      "1/1 [==============================] - 0s 33ms/step\n",
      "1/1 [==============================] - 0s 22ms/step\n",
      "1/1 [==============================] - 0s 25ms/step\n",
      "1/1 [==============================] - 0s 29ms/step\n",
      "1/1 [==============================] - 0s 20ms/step\n",
      "1/1 [==============================] - 0s 21ms/step\n",
      "1/1 [==============================] - 0s 34ms/step\n",
      "1/1 [==============================] - 0s 34ms/step\n",
      "1/1 [==============================] - 0s 19ms/step\n",
      "1/1 [==============================] - 0s 18ms/step\n",
      "1/1 [==============================] - 0s 20ms/step\n",
      "1/1 [==============================] - 0s 20ms/step\n",
      "1/1 [==============================] - 0s 20ms/step\n",
      "1/1 [==============================] - 0s 21ms/step\n",
      "1/1 [==============================] - 0s 19ms/step\n",
      "1/1 [==============================] - 0s 18ms/step\n",
      "1/1 [==============================] - 0s 21ms/step\n",
      "1/1 [==============================] - 0s 19ms/step\n",
      "1/1 [==============================] - 0s 19ms/step\n",
      "1/1 [==============================] - 0s 20ms/step\n",
      "1/1 [==============================] - 0s 35ms/step\n",
      "1/1 [==============================] - 0s 37ms/step\n",
      "1/1 [==============================] - 0s 19ms/step\n",
      "1/1 [==============================] - 0s 20ms/step\n",
      "1/1 [==============================] - 0s 23ms/step\n",
      "1/1 [==============================] - 0s 19ms/step\n",
      "1/1 [==============================] - 0s 20ms/step\n",
      "1/1 [==============================] - 0s 21ms/step\n",
      "1/1 [==============================] - 0s 19ms/step\n",
      "1/1 [==============================] - 0s 19ms/step\n",
      "1/1 [==============================] - 0s 19ms/step\n",
      "1/1 [==============================] - 0s 18ms/step\n",
      "1/1 [==============================] - 0s 18ms/step\n",
      "1/1 [==============================] - 0s 23ms/step\n",
      "1/1 [==============================] - 0s 71ms/step\n",
      "1/1 [==============================] - 0s 18ms/step\n",
      "1/1 [==============================] - 0s 19ms/step\n",
      "1/1 [==============================] - 0s 19ms/step\n",
      "1/1 [==============================] - 0s 20ms/step\n",
      "1/1 [==============================] - 0s 22ms/step\n",
      "1/1 [==============================] - 0s 20ms/step\n",
      "1/1 [==============================] - 0s 20ms/step\n",
      "1/1 [==============================] - 0s 21ms/step\n",
      "1/1 [==============================] - 0s 21ms/step\n",
      "1/1 [==============================] - 0s 23ms/step\n",
      "1/1 [==============================] - 0s 22ms/step\n",
      "1/1 [==============================] - 0s 50ms/step\n",
      "1/1 [==============================] - 0s 21ms/step\n",
      "1/1 [==============================] - 0s 20ms/step\n",
      "1/1 [==============================] - 0s 18ms/step\n",
      "1/1 [==============================] - 0s 24ms/step\n",
      "1/1 [==============================] - 0s 18ms/step\n",
      "1/1 [==============================] - 0s 23ms/step\n",
      "1/1 [==============================] - 0s 20ms/step\n",
      "1/1 [==============================] - 0s 25ms/step\n",
      "1/1 [==============================] - 0s 19ms/step\n",
      "1/1 [==============================] - 0s 20ms/step\n",
      "1/1 [==============================] - 0s 20ms/step\n",
      "1/1 [==============================] - 0s 19ms/step\n",
      "1/1 [==============================] - 0s 19ms/step\n",
      "1/1 [==============================] - 0s 27ms/step\n",
      "1/1 [==============================] - 0s 19ms/step\n",
      "1/1 [==============================] - 0s 20ms/step\n",
      "1/1 [==============================] - 0s 21ms/step\n",
      "1/1 [==============================] - 0s 25ms/step\n",
      "1/1 [==============================] - 0s 22ms/step\n",
      "1/1 [==============================] - 0s 40ms/step\n",
      "1/1 [==============================] - 0s 23ms/step\n",
      "1/1 [==============================] - 0s 21ms/step\n",
      "1/1 [==============================] - 0s 19ms/step\n",
      "1/1 [==============================] - 0s 19ms/step\n",
      "1/1 [==============================] - 0s 19ms/step\n",
      "1/1 [==============================] - 0s 19ms/step\n",
      "1/1 [==============================] - 0s 18ms/step\n",
      "1/1 [==============================] - 0s 19ms/step\n",
      "1/1 [==============================] - 0s 20ms/step\n",
      "1/1 [==============================] - 0s 21ms/step\n",
      "1/1 [==============================] - 0s 23ms/step\n",
      "1/1 [==============================] - 0s 24ms/step\n",
      "1/1 [==============================] - 0s 22ms/step\n",
      "1/1 [==============================] - 0s 21ms/step\n",
      "1/1 [==============================] - 0s 28ms/step\n",
      "1/1 [==============================] - 0s 28ms/step\n",
      "1/1 [==============================] - 0s 21ms/step\n",
      "1/1 [==============================] - 0s 21ms/step\n",
      "1/1 [==============================] - 0s 25ms/step\n",
      "1/1 [==============================] - 0s 24ms/step\n",
      "1/1 [==============================] - 0s 21ms/step\n",
      "1/1 [==============================] - 0s 21ms/step\n",
      "1/1 [==============================] - 0s 21ms/step\n",
      "1/1 [==============================] - 0s 19ms/step\n",
      "1/1 [==============================] - 0s 18ms/step\n",
      "1/1 [==============================] - 0s 19ms/step\n",
      "1/1 [==============================] - 0s 19ms/step\n",
      "1/1 [==============================] - 0s 22ms/step\n",
      "1/1 [==============================] - 0s 49ms/step\n",
      "1/1 [==============================] - 0s 51ms/step\n",
      "1/1 [==============================] - 0s 18ms/step\n",
      "1/1 [==============================] - 0s 18ms/step\n",
      "1/1 [==============================] - 0s 16ms/step\n",
      "1/1 [==============================] - 0s 18ms/step\n",
      "1/1 [==============================] - 0s 18ms/step\n",
      "1/1 [==============================] - 0s 18ms/step\n",
      "1/1 [==============================] - 0s 19ms/step\n",
      "1/1 [==============================] - 0s 20ms/step\n",
      "1/1 [==============================] - 0s 23ms/step\n",
      "1/1 [==============================] - 0s 20ms/step\n",
      "1/1 [==============================] - 0s 18ms/step\n",
      "1/1 [==============================] - 0s 21ms/step\n",
      "1/1 [==============================] - 0s 18ms/step\n",
      "1/1 [==============================] - 0s 22ms/step\n",
      "1/1 [==============================] - 0s 35ms/step\n",
      "1/1 [==============================] - 0s 29ms/step\n",
      "1/1 [==============================] - 0s 19ms/step\n",
      "1/1 [==============================] - 0s 23ms/step\n",
      "1/1 [==============================] - 0s 22ms/step\n",
      "1/1 [==============================] - 0s 41ms/step\n",
      "1/1 [==============================] - 0s 40ms/step\n",
      "1/1 [==============================] - 0s 21ms/step\n",
      "1/1 [==============================] - 0s 19ms/step\n",
      "1/1 [==============================] - 0s 19ms/step\n",
      "1/1 [==============================] - 0s 18ms/step\n",
      "1/1 [==============================] - 0s 19ms/step\n",
      "1/1 [==============================] - 0s 20ms/step\n",
      "1/1 [==============================] - 0s 37ms/step\n",
      "1/1 [==============================] - 0s 26ms/step\n",
      "1/1 [==============================] - 0s 26ms/step\n",
      "1/1 [==============================] - 0s 19ms/step\n",
      "1/1 [==============================] - 0s 21ms/step\n",
      "1/1 [==============================] - 0s 19ms/step\n",
      "1/1 [==============================] - 0s 20ms/step\n",
      "1/1 [==============================] - 0s 20ms/step\n",
      "1/1 [==============================] - 0s 18ms/step\n",
      "1/1 [==============================] - 0s 27ms/step\n",
      "1/1 [==============================] - 0s 24ms/step\n",
      "1/1 [==============================] - 0s 21ms/step\n",
      "1/1 [==============================] - 0s 20ms/step\n",
      "1/1 [==============================] - 0s 19ms/step\n",
      "1/1 [==============================] - 0s 19ms/step\n",
      "1/1 [==============================] - 0s 53ms/step\n",
      "1/1 [==============================] - 0s 19ms/step\n",
      "1/1 [==============================] - 0s 19ms/step\n",
      "1/1 [==============================] - 0s 20ms/step\n",
      "1/1 [==============================] - 0s 18ms/step\n",
      "1/1 [==============================] - 0s 19ms/step\n",
      "1/1 [==============================] - 0s 18ms/step\n",
      "1/1 [==============================] - 0s 19ms/step\n",
      "1/1 [==============================] - 0s 19ms/step\n",
      "1/1 [==============================] - 0s 18ms/step\n",
      "1/1 [==============================] - 0s 18ms/step\n",
      "1/1 [==============================] - 0s 23ms/step\n",
      "1/1 [==============================] - 0s 17ms/step\n",
      "1/1 [==============================] - 0s 76ms/step\n",
      "1/1 [==============================] - 0s 24ms/step\n",
      "1/1 [==============================] - 0s 20ms/step\n",
      "1/1 [==============================] - 0s 18ms/step\n",
      "1/1 [==============================] - 0s 19ms/step\n",
      "1/1 [==============================] - 0s 25ms/step\n",
      "1/1 [==============================] - 0s 23ms/step\n",
      "1/1 [==============================] - 0s 24ms/step\n",
      "1/1 [==============================] - 0s 23ms/step\n",
      "1/1 [==============================] - 0s 20ms/step\n",
      "1/1 [==============================] - 0s 19ms/step\n",
      "1/1 [==============================] - 0s 18ms/step\n",
      "1/1 [==============================] - 0s 18ms/step\n",
      "1/1 [==============================] - 0s 18ms/step\n",
      "1/1 [==============================] - 0s 52ms/step\n",
      "1/1 [==============================] - 0s 34ms/step\n",
      "1/1 [==============================] - 0s 20ms/step\n",
      "1/1 [==============================] - 0s 27ms/step\n",
      "1/1 [==============================] - 0s 21ms/step\n",
      "1/1 [==============================] - 0s 20ms/step\n",
      "1/1 [==============================] - 0s 24ms/step\n",
      "1/1 [==============================] - 0s 20ms/step\n",
      "1/1 [==============================] - 0s 20ms/step\n",
      "1/1 [==============================] - 0s 24ms/step\n",
      "1/1 [==============================] - 0s 22ms/step\n",
      "1/1 [==============================] - 0s 20ms/step\n",
      "1/1 [==============================] - 0s 20ms/step\n",
      "1/1 [==============================] - 0s 18ms/step\n",
      "1/1 [==============================] - 0s 20ms/step\n",
      "1/1 [==============================] - 0s 21ms/step\n",
      "1/1 [==============================] - 0s 20ms/step\n",
      "1/1 [==============================] - 0s 41ms/step\n",
      "1/1 [==============================] - 0s 31ms/step\n",
      "1/1 [==============================] - 0s 19ms/step\n",
      "1/1 [==============================] - 0s 27ms/step\n",
      "1/1 [==============================] - 0s 19ms/step\n",
      "1/1 [==============================] - 0s 18ms/step\n",
      "1/1 [==============================] - 0s 18ms/step\n",
      "1/1 [==============================] - 0s 23ms/step\n",
      "1/1 [==============================] - 0s 21ms/step\n",
      "1/1 [==============================] - 0s 21ms/step\n",
      "1/1 [==============================] - 0s 22ms/step\n",
      "1/1 [==============================] - 0s 19ms/step\n",
      "1/1 [==============================] - 0s 19ms/step\n",
      "1/1 [==============================] - 0s 21ms/step\n",
      "1/1 [==============================] - 0s 19ms/step\n",
      "1/1 [==============================] - 0s 47ms/step\n",
      "1/1 [==============================] - 0s 32ms/step\n",
      "1/1 [==============================] - 0s 18ms/step\n",
      "1/1 [==============================] - 0s 18ms/step\n",
      "1/1 [==============================] - 0s 18ms/step\n",
      "1/1 [==============================] - 0s 19ms/step\n",
      "1/1 [==============================] - 0s 18ms/step\n",
      "1/1 [==============================] - 0s 18ms/step\n",
      "1/1 [==============================] - 0s 18ms/step\n",
      "1/1 [==============================] - 0s 18ms/step\n",
      "1/1 [==============================] - 0s 18ms/step\n",
      "1/1 [==============================] - 0s 19ms/step\n",
      "1/1 [==============================] - 0s 23ms/step\n",
      "1/1 [==============================] - 0s 22ms/step\n",
      "1/1 [==============================] - 0s 47ms/step\n",
      "1/1 [==============================] - 0s 28ms/step\n",
      "1/1 [==============================] - 0s 18ms/step\n",
      "1/1 [==============================] - 0s 18ms/step\n",
      "1/1 [==============================] - 0s 18ms/step\n",
      "1/1 [==============================] - 0s 20ms/step\n",
      "1/1 [==============================] - 0s 21ms/step\n",
      "1/1 [==============================] - 0s 20ms/step\n",
      "1/1 [==============================] - 0s 20ms/step\n",
      "1/1 [==============================] - 0s 19ms/step\n",
      "1/1 [==============================] - 0s 18ms/step\n",
      "1/1 [==============================] - 0s 18ms/step\n",
      "1/1 [==============================] - 0s 26ms/step\n",
      "1/1 [==============================] - 0s 20ms/step\n",
      "1/1 [==============================] - 0s 30ms/step\n",
      "1/1 [==============================] - 0s 19ms/step\n",
      "1/1 [==============================] - 0s 18ms/step\n",
      "1/1 [==============================] - 0s 18ms/step\n",
      "1/1 [==============================] - 0s 19ms/step\n",
      "1/1 [==============================] - 0s 19ms/step\n",
      "1/1 [==============================] - 0s 23ms/step\n",
      "1/1 [==============================] - 0s 20ms/step\n",
      "1/1 [==============================] - 0s 19ms/step\n",
      "1/1 [==============================] - 0s 18ms/step\n",
      "1/1 [==============================] - 0s 52ms/step\n",
      "1/1 [==============================] - 0s 19ms/step\n",
      "1/1 [==============================] - 0s 20ms/step\n",
      "1/1 [==============================] - 0s 56ms/step\n",
      "1/1 [==============================] - 0s 33ms/step\n",
      "1/1 [==============================] - 0s 18ms/step\n",
      "1/1 [==============================] - 0s 19ms/step\n",
      "1/1 [==============================] - 0s 20ms/step\n",
      "1/1 [==============================] - 0s 21ms/step\n",
      "1/1 [==============================] - 0s 31ms/step\n",
      "1/1 [==============================] - 0s 20ms/step\n",
      "1/1 [==============================] - 0s 22ms/step\n",
      "1/1 [==============================] - 0s 21ms/step\n",
      "1/1 [==============================] - 0s 19ms/step\n",
      "1/1 [==============================] - 0s 20ms/step\n",
      "1/1 [==============================] - 0s 20ms/step\n",
      "1/1 [==============================] - 0s 20ms/step\n",
      "1/1 [==============================] - 0s 34ms/step\n",
      "1/1 [==============================] - 0s 20ms/step\n",
      "1/1 [==============================] - 0s 19ms/step\n",
      "1/1 [==============================] - 0s 18ms/step\n",
      "1/1 [==============================] - 0s 18ms/step\n",
      "1/1 [==============================] - 0s 19ms/step\n",
      "1/1 [==============================] - 0s 18ms/step\n",
      "1/1 [==============================] - 0s 18ms/step\n",
      "1/1 [==============================] - 0s 18ms/step\n",
      "1/1 [==============================] - 0s 20ms/step\n",
      "1/1 [==============================] - 0s 24ms/step\n",
      "1/1 [==============================] - 0s 22ms/step\n",
      "1/1 [==============================] - 0s 18ms/step\n",
      "1/1 [==============================] - 0s 18ms/step\n",
      "1/1 [==============================] - 0s 18ms/step\n",
      "1/1 [==============================] - 0s 18ms/step\n",
      "1/1 [==============================] - 0s 81ms/step\n",
      "1/1 [==============================] - 0s 51ms/step\n",
      "1/1 [==============================] - 0s 20ms/step\n",
      "1/1 [==============================] - 0s 21ms/step\n",
      "1/1 [==============================] - 0s 19ms/step\n",
      "1/1 [==============================] - 0s 21ms/step\n",
      "1/1 [==============================] - 0s 19ms/step\n",
      "1/1 [==============================] - 0s 20ms/step\n",
      "1/1 [==============================] - 0s 20ms/step\n",
      "1/1 [==============================] - 0s 21ms/step\n",
      "1/1 [==============================] - 0s 18ms/step\n",
      "1/1 [==============================] - 0s 19ms/step\n",
      "1/1 [==============================] - 0s 43ms/step\n",
      "1/1 [==============================] - 0s 20ms/step\n",
      "1/1 [==============================] - 0s 62ms/step\n",
      "1/1 [==============================] - 0s 28ms/step\n",
      "1/1 [==============================] - 0s 20ms/step\n",
      "1/1 [==============================] - 0s 19ms/step\n",
      "1/1 [==============================] - 0s 19ms/step\n",
      "1/1 [==============================] - 0s 27ms/step\n",
      "1/1 [==============================] - 0s 18ms/step\n",
      "1/1 [==============================] - 0s 19ms/step\n",
      "1/1 [==============================] - 0s 18ms/step\n",
      "1/1 [==============================] - 0s 19ms/step\n",
      "1/1 [==============================] - 0s 18ms/step\n",
      "1/1 [==============================] - 0s 19ms/step\n",
      "1/1 [==============================] - 0s 21ms/step\n",
      "1/1 [==============================] - 0s 77ms/step\n",
      "1/1 [==============================] - 0s 29ms/step\n",
      "1/1 [==============================] - 0s 22ms/step\n",
      "1/1 [==============================] - 0s 23ms/step\n",
      "1/1 [==============================] - 0s 19ms/step\n",
      "1/1 [==============================] - 0s 23ms/step\n",
      "1/1 [==============================] - 0s 21ms/step\n",
      "1/1 [==============================] - 0s 19ms/step\n",
      "1/1 [==============================] - 0s 21ms/step\n",
      "1/1 [==============================] - 0s 19ms/step\n",
      "1/1 [==============================] - 0s 20ms/step\n",
      "1/1 [==============================] - 0s 21ms/step\n",
      "1/1 [==============================] - 0s 23ms/step\n",
      "1/1 [==============================] - 0s 26ms/step\n",
      "1/1 [==============================] - 0s 74ms/step\n",
      "1/1 [==============================] - 0s 17ms/step\n",
      "1/1 [==============================] - 0s 21ms/step\n",
      "1/1 [==============================] - 0s 22ms/step\n",
      "1/1 [==============================] - 0s 22ms/step\n",
      "1/1 [==============================] - 0s 21ms/step\n",
      "1/1 [==============================] - 0s 20ms/step\n",
      "1/1 [==============================] - 0s 19ms/step\n",
      "1/1 [==============================] - 0s 21ms/step\n",
      "1/1 [==============================] - 0s 20ms/step\n",
      "1/1 [==============================] - 0s 20ms/step\n",
      "1/1 [==============================] - 0s 19ms/step\n",
      "1/1 [==============================] - 0s 22ms/step\n",
      "1/1 [==============================] - 0s 36ms/step\n",
      "1/1 [==============================] - 0s 29ms/step\n",
      "1/1 [==============================] - 0s 19ms/step\n",
      "1/1 [==============================] - 0s 22ms/step\n",
      "1/1 [==============================] - 0s 19ms/step\n",
      "1/1 [==============================] - 0s 21ms/step\n",
      "1/1 [==============================] - 0s 19ms/step\n",
      "1/1 [==============================] - 0s 19ms/step\n",
      "1/1 [==============================] - 0s 18ms/step\n",
      "1/1 [==============================] - 0s 21ms/step\n",
      "1/1 [==============================] - 0s 21ms/step\n",
      "1/1 [==============================] - 0s 19ms/step\n",
      "1/1 [==============================] - 0s 18ms/step\n",
      "1/1 [==============================] - 0s 49ms/step\n",
      "1/1 [==============================] - 0s 21ms/step\n",
      "1/1 [==============================] - 0s 18ms/step\n",
      "1/1 [==============================] - 0s 19ms/step\n",
      "1/1 [==============================] - 0s 19ms/step\n",
      "1/1 [==============================] - 0s 19ms/step\n",
      "1/1 [==============================] - 0s 19ms/step\n",
      "1/1 [==============================] - 0s 18ms/step\n",
      "1/1 [==============================] - 0s 23ms/step\n",
      "1/1 [==============================] - 0s 57ms/step\n",
      "1/1 [==============================] - 0s 24ms/step\n",
      "1/1 [==============================] - 0s 19ms/step\n",
      "1/1 [==============================] - 0s 20ms/step\n",
      "1/1 [==============================] - 0s 61ms/step\n",
      "1/1 [==============================] - 0s 23ms/step\n",
      "1/1 [==============================] - 0s 20ms/step\n",
      "1/1 [==============================] - 0s 20ms/step\n",
      "1/1 [==============================] - 0s 20ms/step\n",
      "1/1 [==============================] - 0s 20ms/step\n",
      "1/1 [==============================] - 0s 19ms/step\n",
      "1/1 [==============================] - 0s 20ms/step\n",
      "1/1 [==============================] - 0s 19ms/step\n",
      "1/1 [==============================] - 0s 18ms/step\n",
      "1/1 [==============================] - 0s 19ms/step\n",
      "1/1 [==============================] - 0s 18ms/step\n",
      "1/1 [==============================] - 0s 19ms/step\n",
      "1/1 [==============================] - 0s 21ms/step\n",
      "1/1 [==============================] - 0s 54ms/step\n",
      "1/1 [==============================] - 0s 21ms/step\n",
      "1/1 [==============================] - 0s 19ms/step\n",
      "1/1 [==============================] - 0s 18ms/step\n",
      "1/1 [==============================] - 0s 19ms/step\n",
      "1/1 [==============================] - 0s 20ms/step\n",
      "1/1 [==============================] - 0s 19ms/step\n",
      "1/1 [==============================] - 0s 19ms/step\n",
      "1/1 [==============================] - 0s 17ms/step\n",
      "1/1 [==============================] - 0s 19ms/step\n",
      "1/1 [==============================] - 0s 17ms/step\n",
      "1/1 [==============================] - 0s 18ms/step\n",
      "1/1 [==============================] - 0s 18ms/step\n",
      "1/1 [==============================] - 0s 58ms/step\n",
      "1/1 [==============================] - 0s 20ms/step\n",
      "1/1 [==============================] - 0s 20ms/step\n",
      "1/1 [==============================] - 0s 20ms/step\n",
      "1/1 [==============================] - 0s 18ms/step\n",
      "1/1 [==============================] - 0s 19ms/step\n",
      "1/1 [==============================] - 0s 20ms/step\n",
      "1/1 [==============================] - 0s 20ms/step\n",
      "1/1 [==============================] - 0s 20ms/step\n",
      "1/1 [==============================] - 0s 17ms/step\n",
      "1/1 [==============================] - 0s 20ms/step\n",
      "1/1 [==============================] - 0s 18ms/step\n",
      "1/1 [==============================] - 0s 23ms/step\n",
      "1/1 [==============================] - 0s 18ms/step\n",
      "1/1 [==============================] - 0s 18ms/step\n",
      "1/1 [==============================] - 0s 16ms/step\n",
      "1/1 [==============================] - 0s 20ms/step\n",
      "1/1 [==============================] - 0s 21ms/step\n",
      "1/1 [==============================] - 0s 22ms/step\n",
      "1/1 [==============================] - 0s 19ms/step\n",
      "1/1 [==============================] - 0s 19ms/step\n",
      "1/1 [==============================] - 0s 18ms/step\n",
      "1/1 [==============================] - 0s 19ms/step\n",
      "1/1 [==============================] - 0s 21ms/step\n",
      "1/1 [==============================] - 0s 20ms/step\n",
      "1/1 [==============================] - 0s 28ms/step\n",
      "1/1 [==============================] - 0s 20ms/step\n",
      "1/1 [==============================] - 0s 20ms/step\n",
      "1/1 [==============================] - 0s 22ms/step\n",
      "1/1 [==============================] - 0s 19ms/step\n",
      "1/1 [==============================] - 0s 19ms/step\n",
      "1/1 [==============================] - 0s 17ms/step\n",
      "1/1 [==============================] - 0s 19ms/step\n",
      "1/1 [==============================] - 0s 25ms/step\n",
      "1/1 [==============================] - 0s 21ms/step\n",
      "1/1 [==============================] - 0s 20ms/step\n",
      "1/1 [==============================] - 0s 20ms/step\n",
      "1/1 [==============================] - 0s 22ms/step\n",
      "1/1 [==============================] - 0s 36ms/step\n",
      "1/1 [==============================] - 0s 22ms/step\n",
      "1/1 [==============================] - 0s 19ms/step\n",
      "1/1 [==============================] - 0s 18ms/step\n",
      "1/1 [==============================] - 0s 21ms/step\n",
      "1/1 [==============================] - 0s 19ms/step\n",
      "1/1 [==============================] - 0s 20ms/step\n",
      "1/1 [==============================] - 0s 20ms/step\n",
      "1/1 [==============================] - 0s 18ms/step\n",
      "1/1 [==============================] - 0s 18ms/step\n",
      "1/1 [==============================] - 0s 20ms/step\n",
      "1/1 [==============================] - 0s 20ms/step\n",
      "1/1 [==============================] - 0s 20ms/step\n",
      "1/1 [==============================] - 0s 49ms/step\n",
      "1/1 [==============================] - 0s 18ms/step\n",
      "1/1 [==============================] - 0s 19ms/step\n",
      "1/1 [==============================] - 0s 18ms/step\n",
      "1/1 [==============================] - 0s 17ms/step\n",
      "1/1 [==============================] - 0s 17ms/step\n",
      "1/1 [==============================] - 0s 19ms/step\n",
      "1/1 [==============================] - 0s 21ms/step\n",
      "1/1 [==============================] - 0s 19ms/step\n",
      "1/1 [==============================] - 0s 18ms/step\n",
      "1/1 [==============================] - 0s 18ms/step\n",
      "1/1 [==============================] - 0s 18ms/step\n",
      "1/1 [==============================] - 0s 22ms/step\n",
      "1/1 [==============================] - 0s 20ms/step\n",
      "1/1 [==============================] - 0s 67ms/step\n",
      "1/1 [==============================] - 0s 28ms/step\n",
      "1/1 [==============================] - 0s 19ms/step\n",
      "1/1 [==============================] - 0s 19ms/step\n",
      "1/1 [==============================] - 0s 20ms/step\n",
      "1/1 [==============================] - 0s 18ms/step\n",
      "1/1 [==============================] - 0s 18ms/step\n",
      "1/1 [==============================] - 0s 18ms/step\n",
      "1/1 [==============================] - 0s 20ms/step\n",
      "1/1 [==============================] - 0s 18ms/step\n",
      "1/1 [==============================] - 0s 18ms/step\n",
      "1/1 [==============================] - 0s 18ms/step\n",
      "1/1 [==============================] - 0s 17ms/step\n",
      "1/1 [==============================] - 0s 20ms/step\n",
      "1/1 [==============================] - 0s 38ms/step\n",
      "1/1 [==============================] - 0s 41ms/step\n",
      "1/1 [==============================] - 0s 21ms/step\n",
      "1/1 [==============================] - 0s 20ms/step\n",
      "1/1 [==============================] - 0s 20ms/step\n",
      "1/1 [==============================] - 0s 19ms/step\n",
      "1/1 [==============================] - 0s 19ms/step\n",
      "1/1 [==============================] - 0s 21ms/step\n",
      "1/1 [==============================] - 0s 18ms/step\n",
      "1/1 [==============================] - 0s 18ms/step\n",
      "1/1 [==============================] - 0s 19ms/step\n",
      "1/1 [==============================] - 0s 20ms/step\n",
      "1/1 [==============================] - 0s 18ms/step\n",
      "1/1 [==============================] - 0s 20ms/step\n",
      "1/1 [==============================] - 0s 57ms/step\n",
      "1/1 [==============================] - 0s 22ms/step\n",
      "1/1 [==============================] - 0s 20ms/step\n",
      "1/1 [==============================] - 0s 19ms/step\n",
      "1/1 [==============================] - 0s 18ms/step\n",
      "1/1 [==============================] - 0s 21ms/step\n",
      "1/1 [==============================] - 0s 19ms/step\n",
      "1/1 [==============================] - 0s 20ms/step\n",
      "1/1 [==============================] - 0s 19ms/step\n",
      "1/1 [==============================] - 0s 20ms/step\n",
      "1/1 [==============================] - 0s 19ms/step\n",
      "1/1 [==============================] - 0s 19ms/step\n",
      "1/1 [==============================] - 0s 17ms/step\n",
      "1/1 [==============================] - 0s 20ms/step\n",
      "1/1 [==============================] - 0s 50ms/step\n",
      "1/1 [==============================] - 0s 19ms/step\n",
      "1/1 [==============================] - 0s 20ms/step\n",
      "1/1 [==============================] - 0s 20ms/step\n",
      "1/1 [==============================] - 0s 21ms/step\n",
      "1/1 [==============================] - 0s 19ms/step\n",
      "1/1 [==============================] - 0s 19ms/step\n",
      "1/1 [==============================] - 0s 21ms/step\n",
      "1/1 [==============================] - 0s 23ms/step\n",
      "1/1 [==============================] - 0s 21ms/step\n",
      "1/1 [==============================] - 0s 18ms/step\n",
      "1/1 [==============================] - 0s 19ms/step\n",
      "1/1 [==============================] - 0s 18ms/step\n",
      "1/1 [==============================] - 0s 79ms/step\n",
      "1/1 [==============================] - 0s 25ms/step\n",
      "1/1 [==============================] - 0s 34ms/step\n",
      "1/1 [==============================] - 0s 21ms/step\n",
      "1/1 [==============================] - 0s 22ms/step\n",
      "1/1 [==============================] - 0s 23ms/step\n",
      "1/1 [==============================] - 0s 21ms/step\n",
      "1/1 [==============================] - 0s 20ms/step\n",
      "1/1 [==============================] - 0s 22ms/step\n",
      "1/1 [==============================] - 0s 19ms/step\n",
      "1/1 [==============================] - 0s 19ms/step\n",
      "1/1 [==============================] - 0s 18ms/step\n",
      "1/1 [==============================] - 0s 19ms/step\n",
      "1/1 [==============================] - 0s 19ms/step\n",
      "1/1 [==============================] - 0s 53ms/step\n",
      "1/1 [==============================] - 0s 37ms/step\n",
      "1/1 [==============================] - 0s 18ms/step\n",
      "1/1 [==============================] - 0s 18ms/step\n",
      "1/1 [==============================] - 0s 19ms/step\n",
      "1/1 [==============================] - 0s 20ms/step\n",
      "1/1 [==============================] - 0s 19ms/step\n",
      "1/1 [==============================] - 0s 19ms/step\n",
      "1/1 [==============================] - 0s 22ms/step\n",
      "1/1 [==============================] - 0s 27ms/step\n",
      "1/1 [==============================] - 0s 19ms/step\n",
      "1/1 [==============================] - 0s 20ms/step\n",
      "1/1 [==============================] - 0s 20ms/step\n",
      "1/1 [==============================] - 0s 18ms/step\n",
      "1/1 [==============================] - 0s 79ms/step\n",
      "1/1 [==============================] - 0s 34ms/step\n",
      "1/1 [==============================] - 0s 85ms/step\n",
      "1/1 [==============================] - 0s 26ms/step\n",
      "1/1 [==============================] - 0s 23ms/step\n",
      "1/1 [==============================] - 0s 22ms/step\n",
      "1/1 [==============================] - 0s 19ms/step\n",
      "1/1 [==============================] - 0s 19ms/step\n",
      "1/1 [==============================] - 0s 18ms/step\n",
      "1/1 [==============================] - 0s 21ms/step\n",
      "1/1 [==============================] - 0s 19ms/step\n",
      "1/1 [==============================] - 0s 20ms/step\n",
      "1/1 [==============================] - 0s 21ms/step\n",
      "1/1 [==============================] - 0s 23ms/step\n",
      "1/1 [==============================] - 0s 46ms/step\n",
      "1/1 [==============================] - 0s 34ms/step\n",
      "1/1 [==============================] - 0s 18ms/step\n",
      "1/1 [==============================] - 0s 21ms/step\n",
      "1/1 [==============================] - 0s 24ms/step\n",
      "1/1 [==============================] - 0s 20ms/step\n",
      "1/1 [==============================] - 0s 19ms/step\n",
      "1/1 [==============================] - 0s 22ms/step\n",
      "1/1 [==============================] - 0s 23ms/step\n",
      "1/1 [==============================] - 0s 25ms/step\n",
      "1/1 [==============================] - 0s 20ms/step\n",
      "1/1 [==============================] - 0s 19ms/step\n",
      "1/1 [==============================] - 0s 19ms/step\n",
      "1/1 [==============================] - 0s 37ms/step\n",
      "1/1 [==============================] - 0s 35ms/step\n",
      "1/1 [==============================] - 0s 19ms/step\n",
      "1/1 [==============================] - 0s 21ms/step\n",
      "1/1 [==============================] - 0s 21ms/step\n",
      "1/1 [==============================] - 0s 20ms/step\n",
      "1/1 [==============================] - 0s 22ms/step\n",
      "1/1 [==============================] - 0s 25ms/step\n",
      "1/1 [==============================] - 0s 25ms/step\n",
      "1/1 [==============================] - 0s 21ms/step\n",
      "1/1 [==============================] - 0s 20ms/step\n",
      "1/1 [==============================] - 0s 19ms/step\n",
      "1/1 [==============================] - 0s 18ms/step\n",
      "1/1 [==============================] - 0s 70ms/step\n",
      "1/1 [==============================] - 0s 18ms/step\n",
      "1/1 [==============================] - 0s 18ms/step\n",
      "1/1 [==============================] - 0s 18ms/step\n",
      "1/1 [==============================] - 0s 21ms/step\n",
      "1/1 [==============================] - 0s 18ms/step\n",
      "1/1 [==============================] - 0s 19ms/step\n",
      "1/1 [==============================] - 0s 19ms/step\n",
      "1/1 [==============================] - 0s 20ms/step\n",
      "1/1 [==============================] - 0s 19ms/step\n",
      "1/1 [==============================] - 0s 19ms/step\n",
      "1/1 [==============================] - 0s 18ms/step\n",
      "1/1 [==============================] - 0s 20ms/step\n",
      "1/1 [==============================] - 0s 29ms/step\n",
      "1/1 [==============================] - 0s 22ms/step\n",
      "1/1 [==============================] - 0s 21ms/step\n",
      "1/1 [==============================] - 0s 19ms/step\n",
      "1/1 [==============================] - 0s 20ms/step\n",
      "1/1 [==============================] - 0s 20ms/step\n",
      "1/1 [==============================] - 0s 19ms/step\n",
      "1/1 [==============================] - 0s 19ms/step\n",
      "1/1 [==============================] - 0s 18ms/step\n",
      "1/1 [==============================] - 0s 20ms/step\n",
      "1/1 [==============================] - 0s 19ms/step\n",
      "1/1 [==============================] - 0s 20ms/step\n",
      "1/1 [==============================] - 0s 21ms/step\n",
      "1/1 [==============================] - 0s 41ms/step\n",
      "1/1 [==============================] - 0s 18ms/step\n",
      "1/1 [==============================] - 0s 18ms/step\n",
      "1/1 [==============================] - 0s 19ms/step\n",
      "1/1 [==============================] - 0s 19ms/step\n",
      "1/1 [==============================] - 0s 18ms/step\n",
      "1/1 [==============================] - 0s 21ms/step\n",
      "1/1 [==============================] - 0s 22ms/step\n",
      "1/1 [==============================] - 0s 22ms/step\n",
      "1/1 [==============================] - 0s 24ms/step\n",
      "1/1 [==============================] - 0s 19ms/step\n",
      "1/1 [==============================] - 0s 20ms/step\n",
      "1/1 [==============================] - 0s 54ms/step\n",
      "1/1 [==============================] - 0s 46ms/step\n",
      "1/1 [==============================] - 0s 18ms/step\n",
      "1/1 [==============================] - 0s 20ms/step\n",
      "1/1 [==============================] - 0s 21ms/step\n",
      "1/1 [==============================] - 0s 20ms/step\n",
      "1/1 [==============================] - 0s 20ms/step\n",
      "1/1 [==============================] - 0s 19ms/step\n",
      "1/1 [==============================] - 0s 21ms/step\n",
      "1/1 [==============================] - 0s 21ms/step\n",
      "1/1 [==============================] - 0s 23ms/step\n",
      "1/1 [==============================] - 0s 21ms/step\n",
      "1/1 [==============================] - 0s 22ms/step\n",
      "1/1 [==============================] - 0s 21ms/step\n",
      "1/1 [==============================] - 0s 42ms/step\n",
      "1/1 [==============================] - 0s 21ms/step\n",
      "1/1 [==============================] - 0s 19ms/step\n",
      "1/1 [==============================] - 0s 18ms/step\n",
      "1/1 [==============================] - 0s 20ms/step\n",
      "1/1 [==============================] - 0s 22ms/step\n",
      "1/1 [==============================] - 0s 20ms/step\n",
      "1/1 [==============================] - 0s 18ms/step\n",
      "1/1 [==============================] - 0s 21ms/step\n",
      "1/1 [==============================] - 0s 20ms/step\n",
      "1/1 [==============================] - 0s 20ms/step\n",
      "1/1 [==============================] - 0s 19ms/step\n",
      "1/1 [==============================] - 0s 49ms/step\n",
      "1/1 [==============================] - 0s 44ms/step\n",
      "1/1 [==============================] - 0s 17ms/step\n",
      "1/1 [==============================] - 0s 20ms/step\n",
      "1/1 [==============================] - 0s 20ms/step\n",
      "1/1 [==============================] - 0s 24ms/step\n",
      "1/1 [==============================] - 0s 21ms/step\n",
      "1/1 [==============================] - 0s 19ms/step\n",
      "1/1 [==============================] - 0s 19ms/step\n",
      "1/1 [==============================] - 0s 19ms/step\n",
      "1/1 [==============================] - 0s 19ms/step\n",
      "1/1 [==============================] - 0s 19ms/step\n",
      "1/1 [==============================] - 0s 60ms/step\n",
      "1/1 [==============================] - 0s 24ms/step\n",
      "1/1 [==============================] - 0s 19ms/step\n",
      "1/1 [==============================] - 0s 17ms/step\n",
      "1/1 [==============================] - 0s 20ms/step\n",
      "1/1 [==============================] - 0s 20ms/step\n",
      "1/1 [==============================] - 0s 20ms/step\n",
      "1/1 [==============================] - 0s 18ms/step\n",
      "1/1 [==============================] - 0s 19ms/step\n",
      "1/1 [==============================] - 0s 19ms/step\n",
      "1/1 [==============================] - 0s 20ms/step\n",
      "1/1 [==============================] - 0s 18ms/step\n",
      "1/1 [==============================] - 0s 18ms/step\n",
      "1/1 [==============================] - 0s 49ms/step\n",
      "1/1 [==============================] - 0s 79ms/step\n",
      "1/1 [==============================] - 0s 22ms/step\n",
      "1/1 [==============================] - 0s 26ms/step\n",
      "1/1 [==============================] - 0s 20ms/step\n",
      "1/1 [==============================] - 0s 21ms/step\n",
      "1/1 [==============================] - 0s 19ms/step\n",
      "1/1 [==============================] - 0s 20ms/step\n",
      "1/1 [==============================] - 0s 19ms/step\n",
      "1/1 [==============================] - 0s 22ms/step\n",
      "1/1 [==============================] - 0s 20ms/step\n",
      "1/1 [==============================] - 0s 18ms/step\n",
      "1/1 [==============================] - 0s 20ms/step\n",
      "1/1 [==============================] - 0s 61ms/step\n",
      "1/1 [==============================] - 0s 45ms/step\n",
      "1/1 [==============================] - 0s 19ms/step\n",
      "1/1 [==============================] - 0s 21ms/step\n",
      "1/1 [==============================] - 0s 18ms/step\n",
      "1/1 [==============================] - 0s 17ms/step\n",
      "1/1 [==============================] - 0s 20ms/step\n",
      "1/1 [==============================] - 0s 20ms/step\n",
      "1/1 [==============================] - 0s 18ms/step\n",
      "1/1 [==============================] - 0s 23ms/step\n",
      "1/1 [==============================] - 0s 22ms/step\n",
      "1/1 [==============================] - 0s 33ms/step\n",
      "1/1 [==============================] - 0s 19ms/step\n",
      "1/1 [==============================] - 0s 19ms/step\n",
      "1/1 [==============================] - 0s 58ms/step\n",
      "1/1 [==============================] - 0s 22ms/step\n",
      "1/1 [==============================] - 0s 21ms/step\n",
      "1/1 [==============================] - 0s 19ms/step\n",
      "1/1 [==============================] - 0s 19ms/step\n",
      "1/1 [==============================] - 0s 18ms/step\n",
      "1/1 [==============================] - 0s 21ms/step\n",
      "1/1 [==============================] - 0s 22ms/step\n",
      "1/1 [==============================] - 0s 23ms/step\n",
      "1/1 [==============================] - 0s 22ms/step\n",
      "1/1 [==============================] - 0s 22ms/step\n",
      "1/1 [==============================] - 0s 20ms/step\n",
      "1/1 [==============================] - 0s 35ms/step\n",
      "1/1 [==============================] - 0s 34ms/step\n",
      "1/1 [==============================] - 0s 24ms/step\n",
      "1/1 [==============================] - 0s 18ms/step\n",
      "1/1 [==============================] - 0s 19ms/step\n",
      "1/1 [==============================] - 0s 20ms/step\n",
      "1/1 [==============================] - 0s 20ms/step\n",
      "1/1 [==============================] - 0s 19ms/step\n",
      "1/1 [==============================] - 0s 19ms/step\n",
      "1/1 [==============================] - 0s 19ms/step\n",
      "1/1 [==============================] - 0s 18ms/step\n",
      "1/1 [==============================] - 0s 19ms/step\n",
      "1/1 [==============================] - 0s 21ms/step\n",
      "1/1 [==============================] - 0s 17ms/step\n",
      "1/1 [==============================] - 0s 41ms/step\n",
      "1/1 [==============================] - 0s 21ms/step\n",
      "1/1 [==============================] - 0s 22ms/step\n",
      "1/1 [==============================] - 0s 20ms/step\n",
      "1/1 [==============================] - 0s 42ms/step\n",
      "1/1 [==============================] - 0s 19ms/step\n",
      "1/1 [==============================] - 0s 23ms/step\n",
      "1/1 [==============================] - 0s 18ms/step\n",
      "1/1 [==============================] - 0s 18ms/step\n",
      "1/1 [==============================] - 0s 23ms/step\n",
      "1/1 [==============================] - 0s 22ms/step\n",
      "1/1 [==============================] - 0s 20ms/step\n",
      "1/1 [==============================] - 0s 28ms/step\n",
      "1/1 [==============================] - 0s 19ms/step\n",
      "1/1 [==============================] - 0s 19ms/step\n",
      "1/1 [==============================] - 0s 20ms/step\n",
      "1/1 [==============================] - 0s 23ms/step\n",
      "1/1 [==============================] - 0s 24ms/step\n",
      "1/1 [==============================] - 0s 19ms/step\n",
      "1/1 [==============================] - 0s 18ms/step\n",
      "1/1 [==============================] - 0s 20ms/step\n",
      "1/1 [==============================] - 0s 19ms/step\n",
      "1/1 [==============================] - 0s 20ms/step\n",
      "1/1 [==============================] - 0s 20ms/step\n",
      "1000\n",
      "0\n",
      "64\n"
     ]
    }
   ],
   "source": [
    "file_paths = []\n",
    "wrong_filenames = []\n",
    "count = 0\n",
    "file_idx = 0\n",
    "\n",
    "# make sure we start in the beginning\n",
    "test_dataset = image_dataset_from_directory(\n",
    "    test_dir,\n",
    "    image_size=(IMG_SIZE, IMG_SIZE),\n",
    "    batch_size=1,\n",
    "    shuffle=False\n",
    "    )\n",
    "    \n",
    "file_paths = test_dataset.file_paths\n",
    "for data_batch, labels_batch in test_dataset:\n",
    "\n",
    "    predictions = model.predict(data_batch).flatten()\n",
    "    predictions = predictions.round()\n",
    "    predictions = predictions.astype(int)\n",
    "    labels_batch = labels_batch.numpy()\n",
    "    #pred_str = np.array2string(predictions, separator=', ')\n",
    "    #label_str = np.array2string(labels_batch, separator=', ')\n",
    "    for i in range(len(data_batch)):\n",
    "        if labels_batch[i] != predictions[i]:\n",
    "            wrong_filenames.append(file_paths[file_idx])\n",
    "    file_idx += 1\n",
    "\n",
    "# print(f\"Predictions: {pred_str}\")\n",
    "# print(f\"Labels: {label_str}\")\n",
    "print(file_idx)\n",
    "print(count)\n",
    "print(len(wrong_filenames))"
   ]
  },
  {
   "cell_type": "code",
   "execution_count": 25,
   "metadata": {},
   "outputs": [],
   "source": [
    "# write the wrong filenames to a file\n",
    "with open('results/5-1/failed_filenames.txt', 'w') as f:\n",
    "    for item in wrong_filenames:\n",
    "        f.write(\"%s\\n\" % item)"
   ]
  },
  {
   "cell_type": "code",
   "execution_count": 26,
   "metadata": {},
   "outputs": [
    {
     "name": "stdout",
     "output_type": "stream",
     "text": [
      "Found 64 files belonging to 2 classes.\n",
      "2/2 [==============================] - 0s 17ms/step - loss: 9.8228 - acc: 0.0000e+00\n",
      "9.822793960571289 0.0\n"
     ]
    }
   ],
   "source": [
    "failed_images_dataset = image_dataset_from_directory(\n",
    "    'results/5-1/failed_images',\n",
    "    image_size=(IMG_SIZE, IMG_SIZE),\n",
    "    batch_size=32)\n",
    "\n",
    "val_loss, val_acc = model.evaluate(failed_images_dataset, batch_size=32)\n",
    "print(val_loss, val_acc)"
   ]
  }
 ],
 "metadata": {
  "kernelspec": {
   "display_name": "What_Do_CNN_Know",
   "language": "python",
   "name": "python3"
  },
  "language_info": {
   "codemirror_mode": {
    "name": "ipython",
    "version": 3
   },
   "file_extension": ".py",
   "mimetype": "text/x-python",
   "name": "python",
   "nbconvert_exporter": "python",
   "pygments_lexer": "ipython3",
   "version": "3.11.8"
  }
 },
 "nbformat": 4,
 "nbformat_minor": 2
}
