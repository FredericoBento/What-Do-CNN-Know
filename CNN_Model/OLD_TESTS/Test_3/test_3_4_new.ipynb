{
 "cells": [
  {
   "cell_type": "code",
   "execution_count": null,
   "metadata": {},
   "outputs": [],
   "source": [
    "# Test 3-4 Dataset C\n",
    "# This test uses a simple CNN to classify between having an Square or a Circle"
   ]
  },
  {
   "cell_type": "code",
   "execution_count": 8,
   "metadata": {},
   "outputs": [
    {
     "data": {
      "text/plain": [
       "[PhysicalDevice(name='/physical_device:GPU:0', device_type='GPU')]"
      ]
     },
     "execution_count": 8,
     "metadata": {},
     "output_type": "execute_result"
    }
   ],
   "source": [
    "import numpy as np\n",
    "import optuna as opt\n",
    "from optuna.visualization import plot_optimization_history\n",
    "import random\n",
    "import matplotlib.pyplot as plt\n",
    "import tensorflow as tf\n",
    "from tensorflow import keras\n",
    "from keras import layers\n",
    "from keras.utils import image_dataset_from_directory\n",
    "tf.config.list_physical_devices('GPU')"
   ]
  },
  {
   "cell_type": "code",
   "execution_count": 9,
   "metadata": {},
   "outputs": [],
   "source": [
    "train_dir = '../../Generator/Datasets/Dataset_C2/train'\n",
    "test_dir = '../../Generator/Datasets/Dataset_C2/test'"
   ]
  },
  {
   "cell_type": "code",
   "execution_count": 10,
   "metadata": {},
   "outputs": [],
   "source": [
    "IMG_SIZE = 250\n",
    "BATCH_SIZE = 32"
   ]
  },
  {
   "cell_type": "code",
   "execution_count": 11,
   "metadata": {},
   "outputs": [
    {
     "name": "stdout",
     "output_type": "stream",
     "text": [
      "Found 3000 files belonging to 2 classes.\n",
      "Found 1000 files belonging to 2 classes.\n"
     ]
    }
   ],
   "source": [
    "train_dataset = image_dataset_from_directory(\n",
    "    train_dir,\n",
    "    image_size=(IMG_SIZE, IMG_SIZE),\n",
    "    batch_size=BATCH_SIZE,\n",
    "    )\n",
    "\n",
    "test_dataset = image_dataset_from_directory(\n",
    "    test_dir,\n",
    "    image_size=(IMG_SIZE, IMG_SIZE),\n",
    "    batch_size=BATCH_SIZE,\n",
    "    )"
   ]
  },
  {
   "cell_type": "code",
   "execution_count": 14,
   "metadata": {},
   "outputs": [],
   "source": [
    "checkpoint_filepath = 'models/3-4_optuna/ch-{epoch:03d}.ckpt'\n",
    "callbacks = keras.callbacks.ModelCheckpoint(\n",
    "    filepath=checkpoint_filepath,\n",
    "    save_best_only=True,\n",
    "    monitor='val_loss',\n",
    "    verbose=1)"
   ]
  },
  {
   "cell_type": "code",
   "execution_count": 15,
   "metadata": {},
   "outputs": [],
   "source": [
    "def objective(trial):\n",
    "    opt_num_hidden_dense_units = trial.suggest_int(\"opt_num_hidden_dense_units\", 10, 512)\n",
    "    opt_lr = trial.suggest_float(\"opt_lr\", 1e-6, 1e-2, log=True)\n",
    "    opt_bs = trial.suggest_int(\"opt_bs\", 16, 128)\n",
    "    inputs = keras.Input(shape=(IMG_SIZE, IMG_SIZE, 3))\n",
    "    x = layers.Rescaling(1./255)(inputs)\n",
    "    x = layers.Conv2D(filters=4, kernel_size=5, activation=\"relu\")(x)\n",
    "    x = layers.MaxPooling2D(pool_size=2)(x)\n",
    "    x = layers.Conv2D(filters=8, kernel_size=5, activation=\"relu\")(x)\n",
    "    x = layers.MaxPooling2D(pool_size=2)(x)\n",
    "    x = layers.Conv2D(filters=8, kernel_size=5, activation=\"relu\")(x)\n",
    "    x = layers.MaxPooling2D(pool_size=2)(x)\n",
    "    x = layers.Conv2D(filters=16, kernel_size=5, activation=\"relu\")(x)\n",
    "    x = layers.MaxPooling2D(pool_size=2)(x)\n",
    "    x = layers.Flatten()(x)\n",
    "    x = layers.Dropout(0.5)(x)\n",
    "    x = layers.Dense(opt_num_hidden_dense_units, activation=\"relu\")(x)\n",
    "    outputs = layers.Dense(1, activation=\"sigmoid\")(x)\n",
    "    model = keras.Model(inputs=inputs, outputs=outputs)\n",
    "    model.compile(loss=\"binary_crossentropy\", optimizer=tf.keras.optimizers.RMSprop(opt_lr), metrics=['acc'])\n",
    "    history = model.fit(train_dataset, epochs=10, batch_size=opt_bs, validation_data=test_dataset, callbacks=[callbacks])\n",
    "    min_val_loss = np.amin(history.history[\"val_loss\"])\n",
    "    return min_val_loss"
   ]
  },
  {
   "cell_type": "code",
   "execution_count": 16,
   "metadata": {},
   "outputs": [
    {
     "name": "stderr",
     "output_type": "stream",
     "text": [
      "[I 2024-04-03 02:12:14,652] A new study created in memory with name: no-name-3665ee3b-55a4-4987-bd31-d174dfbe57ea\n"
     ]
    },
    {
     "name": "stdout",
     "output_type": "stream",
     "text": [
      "Epoch 1/10\n",
      "94/94 [==============================] - ETA: 0s - loss: 0.6935 - acc: 0.4977\n",
      "Epoch 1: val_loss improved from inf to 0.69311, saving model to models/3-4_optuna/ch-001.ckpt\n",
      "INFO:tensorflow:Assets written to: models/3-4_optuna/ch-001.ckpt/assets\n"
     ]
    },
    {
     "name": "stderr",
     "output_type": "stream",
     "text": [
      "INFO:tensorflow:Assets written to: models/3-4_optuna/ch-001.ckpt/assets\n"
     ]
    },
    {
     "name": "stdout",
     "output_type": "stream",
     "text": [
      "94/94 [==============================] - 10s 69ms/step - loss: 0.6935 - acc: 0.4977 - val_loss: 0.6931 - val_acc: 0.5070\n",
      "Epoch 2/10\n",
      "94/94 [==============================] - ETA: 0s - loss: 0.6931 - acc: 0.4797\n",
      "Epoch 2: val_loss improved from 0.69311 to 0.69295, saving model to models/3-4_optuna/ch-002.ckpt\n",
      "INFO:tensorflow:Assets written to: models/3-4_optuna/ch-002.ckpt/assets\n"
     ]
    },
    {
     "name": "stderr",
     "output_type": "stream",
     "text": [
      "INFO:tensorflow:Assets written to: models/3-4_optuna/ch-002.ckpt/assets\n"
     ]
    },
    {
     "name": "stdout",
     "output_type": "stream",
     "text": [
      "94/94 [==============================] - 6s 56ms/step - loss: 0.6931 - acc: 0.4797 - val_loss: 0.6929 - val_acc: 0.5120\n",
      "Epoch 3/10\n",
      "93/94 [============================>.] - ETA: 0s - loss: 0.6926 - acc: 0.5077\n",
      "Epoch 3: val_loss improved from 0.69295 to 0.69278, saving model to models/3-4_optuna/ch-003.ckpt\n",
      "INFO:tensorflow:Assets written to: models/3-4_optuna/ch-003.ckpt/assets\n"
     ]
    },
    {
     "name": "stderr",
     "output_type": "stream",
     "text": [
      "INFO:tensorflow:Assets written to: models/3-4_optuna/ch-003.ckpt/assets\n"
     ]
    },
    {
     "name": "stdout",
     "output_type": "stream",
     "text": [
      "94/94 [==============================] - 5s 53ms/step - loss: 0.6925 - acc: 0.5073 - val_loss: 0.6928 - val_acc: 0.5040\n",
      "Epoch 4/10\n",
      "93/94 [============================>.] - ETA: 0s - loss: 0.6922 - acc: 0.5024\n",
      "Epoch 4: val_loss improved from 0.69278 to 0.69260, saving model to models/3-4_optuna/ch-004.ckpt\n",
      "INFO:tensorflow:Assets written to: models/3-4_optuna/ch-004.ckpt/assets\n"
     ]
    },
    {
     "name": "stderr",
     "output_type": "stream",
     "text": [
      "INFO:tensorflow:Assets written to: models/3-4_optuna/ch-004.ckpt/assets\n"
     ]
    },
    {
     "name": "stdout",
     "output_type": "stream",
     "text": [
      "94/94 [==============================] - 5s 54ms/step - loss: 0.6921 - acc: 0.5037 - val_loss: 0.6926 - val_acc: 0.4950\n",
      "Epoch 5/10\n",
      "93/94 [============================>.] - ETA: 0s - loss: 0.6925 - acc: 0.5007\n",
      "Epoch 5: val_loss improved from 0.69260 to 0.69244, saving model to models/3-4_optuna/ch-005.ckpt\n",
      "INFO:tensorflow:Assets written to: models/3-4_optuna/ch-005.ckpt/assets\n"
     ]
    },
    {
     "name": "stderr",
     "output_type": "stream",
     "text": [
      "INFO:tensorflow:Assets written to: models/3-4_optuna/ch-005.ckpt/assets\n"
     ]
    },
    {
     "name": "stdout",
     "output_type": "stream",
     "text": [
      "94/94 [==============================] - 5s 54ms/step - loss: 0.6925 - acc: 0.5007 - val_loss: 0.6924 - val_acc: 0.4970\n",
      "Epoch 6/10\n",
      "94/94 [==============================] - ETA: 0s - loss: 0.6923 - acc: 0.5200\n",
      "Epoch 6: val_loss improved from 0.69244 to 0.69234, saving model to models/3-4_optuna/ch-006.ckpt\n",
      "INFO:tensorflow:Assets written to: models/3-4_optuna/ch-006.ckpt/assets\n"
     ]
    },
    {
     "name": "stderr",
     "output_type": "stream",
     "text": [
      "INFO:tensorflow:Assets written to: models/3-4_optuna/ch-006.ckpt/assets\n"
     ]
    },
    {
     "name": "stdout",
     "output_type": "stream",
     "text": [
      "94/94 [==============================] - 5s 55ms/step - loss: 0.6923 - acc: 0.5200 - val_loss: 0.6923 - val_acc: 0.4990\n",
      "Epoch 7/10\n",
      "93/94 [============================>.] - ETA: 0s - loss: 0.6919 - acc: 0.5128\n",
      "Epoch 7: val_loss improved from 0.69234 to 0.69217, saving model to models/3-4_optuna/ch-007.ckpt\n",
      "INFO:tensorflow:Assets written to: models/3-4_optuna/ch-007.ckpt/assets\n"
     ]
    },
    {
     "name": "stderr",
     "output_type": "stream",
     "text": [
      "INFO:tensorflow:Assets written to: models/3-4_optuna/ch-007.ckpt/assets\n"
     ]
    },
    {
     "name": "stdout",
     "output_type": "stream",
     "text": [
      "94/94 [==============================] - 5s 54ms/step - loss: 0.6918 - acc: 0.5130 - val_loss: 0.6922 - val_acc: 0.5000\n",
      "Epoch 8/10\n",
      "94/94 [==============================] - ETA: 0s - loss: 0.6919 - acc: 0.5030\n",
      "Epoch 8: val_loss improved from 0.69217 to 0.69195, saving model to models/3-4_optuna/ch-008.ckpt\n",
      "INFO:tensorflow:Assets written to: models/3-4_optuna/ch-008.ckpt/assets\n"
     ]
    },
    {
     "name": "stderr",
     "output_type": "stream",
     "text": [
      "INFO:tensorflow:Assets written to: models/3-4_optuna/ch-008.ckpt/assets\n"
     ]
    },
    {
     "name": "stdout",
     "output_type": "stream",
     "text": [
      "94/94 [==============================] - 5s 55ms/step - loss: 0.6919 - acc: 0.5030 - val_loss: 0.6919 - val_acc: 0.5000\n",
      "Epoch 9/10\n",
      "93/94 [============================>.] - ETA: 0s - loss: 0.6920 - acc: 0.5027\n",
      "Epoch 9: val_loss improved from 0.69195 to 0.69177, saving model to models/3-4_optuna/ch-009.ckpt\n",
      "INFO:tensorflow:Assets written to: models/3-4_optuna/ch-009.ckpt/assets\n"
     ]
    },
    {
     "name": "stderr",
     "output_type": "stream",
     "text": [
      "INFO:tensorflow:Assets written to: models/3-4_optuna/ch-009.ckpt/assets\n"
     ]
    },
    {
     "name": "stdout",
     "output_type": "stream",
     "text": [
      "94/94 [==============================] - 6s 58ms/step - loss: 0.6919 - acc: 0.5037 - val_loss: 0.6918 - val_acc: 0.5030\n",
      "Epoch 10/10\n",
      "93/94 [============================>.] - ETA: 0s - loss: 0.6918 - acc: 0.5121\n",
      "Epoch 10: val_loss improved from 0.69177 to 0.69165, saving model to models/3-4_optuna/ch-010.ckpt\n",
      "INFO:tensorflow:Assets written to: models/3-4_optuna/ch-010.ckpt/assets\n"
     ]
    },
    {
     "name": "stderr",
     "output_type": "stream",
     "text": [
      "INFO:tensorflow:Assets written to: models/3-4_optuna/ch-010.ckpt/assets\n"
     ]
    },
    {
     "name": "stdout",
     "output_type": "stream",
     "text": [
      "94/94 [==============================] - 5s 54ms/step - loss: 0.6918 - acc: 0.5117 - val_loss: 0.6916 - val_acc: 0.5000\n"
     ]
    },
    {
     "name": "stderr",
     "output_type": "stream",
     "text": [
      "[I 2024-04-03 02:13:12,921] Trial 0 finished with value: 0.6916497349739075 and parameters: {'opt_num_hidden_dense_units': 124, 'opt_lr': 1.5084285565888708e-05, 'opt_bs': 26}. Best is trial 0 with value: 0.6916497349739075.\n"
     ]
    },
    {
     "name": "stdout",
     "output_type": "stream",
     "text": [
      "Epoch 1/10\n",
      "93/94 [============================>.] - ETA: 0s - loss: 0.6934 - acc: 0.4815\n",
      "Epoch 1: val_loss did not improve from 0.69165\n",
      "94/94 [==============================] - 6s 45ms/step - loss: 0.6934 - acc: 0.4813 - val_loss: 0.6928 - val_acc: 0.5010\n",
      "Epoch 2/10\n",
      "93/94 [============================>.] - ETA: 0s - loss: 0.6930 - acc: 0.5128\n",
      "Epoch 2: val_loss did not improve from 0.69165\n",
      "94/94 [==============================] - 5s 47ms/step - loss: 0.6930 - acc: 0.5127 - val_loss: 0.6928 - val_acc: 0.5090\n",
      "Epoch 3/10\n",
      "93/94 [============================>.] - ETA: 0s - loss: 0.6930 - acc: 0.4923\n",
      "Epoch 3: val_loss did not improve from 0.69165\n",
      "94/94 [==============================] - 4s 44ms/step - loss: 0.6930 - acc: 0.4920 - val_loss: 0.6925 - val_acc: 0.5190\n",
      "Epoch 4/10\n",
      "94/94 [==============================] - ETA: 0s - loss: 0.6921 - acc: 0.5163\n",
      "Epoch 4: val_loss did not improve from 0.69165\n",
      "94/94 [==============================] - 4s 44ms/step - loss: 0.6921 - acc: 0.5163 - val_loss: 0.6924 - val_acc: 0.5250\n",
      "Epoch 5/10\n",
      "94/94 [==============================] - ETA: 0s - loss: 0.6913 - acc: 0.5113\n",
      "Epoch 5: val_loss did not improve from 0.69165\n",
      "94/94 [==============================] - 5s 46ms/step - loss: 0.6913 - acc: 0.5113 - val_loss: 0.6920 - val_acc: 0.5150\n",
      "Epoch 6/10\n",
      "93/94 [============================>.] - ETA: 0s - loss: 0.6909 - acc: 0.5228\n",
      "Epoch 6: val_loss improved from 0.69165 to 0.69160, saving model to models/3-4_optuna/ch-006.ckpt\n",
      "INFO:tensorflow:Assets written to: models/3-4_optuna/ch-006.ckpt/assets\n"
     ]
    },
    {
     "name": "stderr",
     "output_type": "stream",
     "text": [
      "INFO:tensorflow:Assets written to: models/3-4_optuna/ch-006.ckpt/assets\n"
     ]
    },
    {
     "name": "stdout",
     "output_type": "stream",
     "text": [
      "94/94 [==============================] - 6s 56ms/step - loss: 0.6908 - acc: 0.5233 - val_loss: 0.6916 - val_acc: 0.5210\n",
      "Epoch 7/10\n",
      "93/94 [============================>.] - ETA: 0s - loss: 0.6905 - acc: 0.5202\n",
      "Epoch 7: val_loss improved from 0.69160 to 0.69148, saving model to models/3-4_optuna/ch-007.ckpt\n",
      "INFO:tensorflow:Assets written to: models/3-4_optuna/ch-007.ckpt/assets\n"
     ]
    },
    {
     "name": "stderr",
     "output_type": "stream",
     "text": [
      "INFO:tensorflow:Assets written to: models/3-4_optuna/ch-007.ckpt/assets\n"
     ]
    },
    {
     "name": "stdout",
     "output_type": "stream",
     "text": [
      "94/94 [==============================] - 5s 49ms/step - loss: 0.6906 - acc: 0.5200 - val_loss: 0.6915 - val_acc: 0.5430\n",
      "Epoch 8/10\n",
      "93/94 [============================>.] - ETA: 0s - loss: 0.6902 - acc: 0.5212\n",
      "Epoch 8: val_loss improved from 0.69148 to 0.69123, saving model to models/3-4_optuna/ch-008.ckpt\n",
      "INFO:tensorflow:Assets written to: models/3-4_optuna/ch-008.ckpt/assets\n"
     ]
    },
    {
     "name": "stderr",
     "output_type": "stream",
     "text": [
      "INFO:tensorflow:Assets written to: models/3-4_optuna/ch-008.ckpt/assets\n"
     ]
    },
    {
     "name": "stdout",
     "output_type": "stream",
     "text": [
      "94/94 [==============================] - 5s 54ms/step - loss: 0.6902 - acc: 0.5220 - val_loss: 0.6912 - val_acc: 0.5470\n",
      "Epoch 9/10\n",
      "92/94 [============================>.] - ETA: 0s - loss: 0.6891 - acc: 0.5408\n",
      "Epoch 9: val_loss improved from 0.69123 to 0.69095, saving model to models/3-4_optuna/ch-009.ckpt\n",
      "INFO:tensorflow:Assets written to: models/3-4_optuna/ch-009.ckpt/assets\n"
     ]
    },
    {
     "name": "stderr",
     "output_type": "stream",
     "text": [
      "INFO:tensorflow:Assets written to: models/3-4_optuna/ch-009.ckpt/assets\n"
     ]
    },
    {
     "name": "stdout",
     "output_type": "stream",
     "text": [
      "94/94 [==============================] - 5s 55ms/step - loss: 0.6890 - acc: 0.5413 - val_loss: 0.6910 - val_acc: 0.5370\n",
      "Epoch 10/10\n",
      "93/94 [============================>.] - ETA: 0s - loss: 0.6877 - acc: 0.5309\n",
      "Epoch 10: val_loss improved from 0.69095 to 0.69090, saving model to models/3-4_optuna/ch-010.ckpt\n",
      "INFO:tensorflow:Assets written to: models/3-4_optuna/ch-010.ckpt/assets\n"
     ]
    },
    {
     "name": "stderr",
     "output_type": "stream",
     "text": [
      "INFO:tensorflow:Assets written to: models/3-4_optuna/ch-010.ckpt/assets\n"
     ]
    },
    {
     "name": "stdout",
     "output_type": "stream",
     "text": [
      "94/94 [==============================] - 5s 55ms/step - loss: 0.6877 - acc: 0.5320 - val_loss: 0.6909 - val_acc: 0.5450\n"
     ]
    },
    {
     "name": "stderr",
     "output_type": "stream",
     "text": [
      "[I 2024-04-03 02:14:03,482] Trial 1 finished with value: 0.6908963918685913 and parameters: {'opt_num_hidden_dense_units': 18, 'opt_lr': 7.332780706696832e-05, 'opt_bs': 87}. Best is trial 1 with value: 0.6908963918685913.\n"
     ]
    },
    {
     "name": "stdout",
     "output_type": "stream",
     "text": [
      "Epoch 1/10\n",
      "93/94 [============================>.] - ETA: 0s - loss: 0.6935 - acc: 0.4976\n",
      "Epoch 1: val_loss did not improve from 0.69090\n",
      "94/94 [==============================] - 5s 43ms/step - loss: 0.6935 - acc: 0.4980 - val_loss: 0.6930 - val_acc: 0.5110\n",
      "Epoch 2/10\n",
      "94/94 [==============================] - ETA: 0s - loss: 0.6926 - acc: 0.5173\n",
      "Epoch 2: val_loss did not improve from 0.69090\n",
      "94/94 [==============================] - 4s 44ms/step - loss: 0.6926 - acc: 0.5173 - val_loss: 0.6930 - val_acc: 0.5050\n",
      "Epoch 3/10\n",
      "94/94 [==============================] - ETA: 0s - loss: 0.6925 - acc: 0.5137\n",
      "Epoch 3: val_loss did not improve from 0.69090\n",
      "94/94 [==============================] - 4s 44ms/step - loss: 0.6925 - acc: 0.5137 - val_loss: 0.6930 - val_acc: 0.4930\n",
      "Epoch 4/10\n",
      "93/94 [============================>.] - ETA: 0s - loss: 0.6933 - acc: 0.4859\n",
      "Epoch 4: val_loss did not improve from 0.69090\n",
      "94/94 [==============================] - 4s 43ms/step - loss: 0.6933 - acc: 0.4867 - val_loss: 0.6930 - val_acc: 0.4900\n",
      "Epoch 5/10\n",
      "93/94 [============================>.] - ETA: 0s - loss: 0.6930 - acc: 0.5050\n",
      "Epoch 5: val_loss did not improve from 0.69090\n",
      "94/94 [==============================] - 4s 43ms/step - loss: 0.6930 - acc: 0.5040 - val_loss: 0.6930 - val_acc: 0.5140\n",
      "Epoch 6/10\n",
      "94/94 [==============================] - ETA: 0s - loss: 0.6934 - acc: 0.5013\n",
      "Epoch 6: val_loss did not improve from 0.69090\n",
      "94/94 [==============================] - 4s 43ms/step - loss: 0.6934 - acc: 0.5013 - val_loss: 0.6930 - val_acc: 0.5130\n",
      "Epoch 7/10\n",
      "94/94 [==============================] - ETA: 0s - loss: 0.6929 - acc: 0.5027\n",
      "Epoch 7: val_loss did not improve from 0.69090\n",
      "94/94 [==============================] - 5s 46ms/step - loss: 0.6929 - acc: 0.5027 - val_loss: 0.6930 - val_acc: 0.5160\n",
      "Epoch 8/10\n",
      "93/94 [============================>.] - ETA: 0s - loss: 0.6931 - acc: 0.5040\n",
      "Epoch 8: val_loss did not improve from 0.69090\n",
      "94/94 [==============================] - 4s 43ms/step - loss: 0.6932 - acc: 0.5037 - val_loss: 0.6930 - val_acc: 0.5170\n",
      "Epoch 9/10\n",
      "94/94 [==============================] - ETA: 0s - loss: 0.6930 - acc: 0.5110\n",
      "Epoch 9: val_loss did not improve from 0.69090\n",
      "94/94 [==============================] - 4s 42ms/step - loss: 0.6930 - acc: 0.5110 - val_loss: 0.6930 - val_acc: 0.5250\n",
      "Epoch 10/10\n",
      "94/94 [==============================] - ETA: 0s - loss: 0.6930 - acc: 0.5023\n",
      "Epoch 10: val_loss did not improve from 0.69090\n",
      "94/94 [==============================] - 5s 46ms/step - loss: 0.6930 - acc: 0.5023 - val_loss: 0.6930 - val_acc: 0.5260\n"
     ]
    },
    {
     "name": "stderr",
     "output_type": "stream",
     "text": [
      "[I 2024-04-03 02:14:48,913] Trial 2 finished with value: 0.69298255443573 and parameters: {'opt_num_hidden_dense_units': 131, 'opt_lr': 1.5145027221310157e-06, 'opt_bs': 73}. Best is trial 1 with value: 0.6908963918685913.\n"
     ]
    },
    {
     "name": "stdout",
     "output_type": "stream",
     "text": [
      "Epoch 1/10\n",
      "94/94 [==============================] - ETA: 0s - loss: 1.6749 - acc: 0.4993\n",
      "Epoch 1: val_loss did not improve from 0.69090\n",
      "94/94 [==============================] - 6s 48ms/step - loss: 1.6749 - acc: 0.4993 - val_loss: 0.6934 - val_acc: 0.5000\n",
      "Epoch 2/10\n",
      "93/94 [============================>.] - ETA: 0s - loss: 0.6936 - acc: 0.4892\n",
      "Epoch 2: val_loss did not improve from 0.69090\n",
      "94/94 [==============================] - 4s 42ms/step - loss: 0.6936 - acc: 0.4913 - val_loss: 0.6932 - val_acc: 0.5000\n",
      "Epoch 3/10\n",
      "93/94 [============================>.] - ETA: 0s - loss: 0.6935 - acc: 0.4956\n",
      "Epoch 3: val_loss did not improve from 0.69090\n",
      "94/94 [==============================] - 4s 41ms/step - loss: 0.6935 - acc: 0.4963 - val_loss: 0.6932 - val_acc: 0.5000\n",
      "Epoch 4/10\n",
      "93/94 [============================>.] - ETA: 0s - loss: 0.6937 - acc: 0.4950\n",
      "Epoch 4: val_loss did not improve from 0.69090\n",
      "94/94 [==============================] - 4s 42ms/step - loss: 0.6937 - acc: 0.4950 - val_loss: 0.6932 - val_acc: 0.5000\n",
      "Epoch 5/10\n",
      "93/94 [============================>.] - ETA: 0s - loss: 0.6935 - acc: 0.4839\n",
      "Epoch 5: val_loss did not improve from 0.69090\n",
      "94/94 [==============================] - 4s 42ms/step - loss: 0.6935 - acc: 0.4840 - val_loss: 0.6932 - val_acc: 0.5000\n",
      "Epoch 6/10\n",
      "94/94 [==============================] - ETA: 0s - loss: 0.6934 - acc: 0.4907\n",
      "Epoch 6: val_loss did not improve from 0.69090\n",
      "94/94 [==============================] - 4s 45ms/step - loss: 0.6934 - acc: 0.4907 - val_loss: 0.6932 - val_acc: 0.5000\n",
      "Epoch 7/10\n",
      "94/94 [==============================] - ETA: 0s - loss: 0.6935 - acc: 0.4887\n",
      "Epoch 7: val_loss did not improve from 0.69090\n",
      "94/94 [==============================] - 4s 44ms/step - loss: 0.6935 - acc: 0.4887 - val_loss: 0.6932 - val_acc: 0.5000\n",
      "Epoch 8/10\n",
      "94/94 [==============================] - ETA: 0s - loss: 0.6934 - acc: 0.4947\n",
      "Epoch 8: val_loss did not improve from 0.69090\n",
      "94/94 [==============================] - 5s 46ms/step - loss: 0.6934 - acc: 0.4947 - val_loss: 0.6932 - val_acc: 0.5000\n",
      "Epoch 9/10\n",
      "93/94 [============================>.] - ETA: 0s - loss: 0.6934 - acc: 0.5037\n",
      "Epoch 9: val_loss did not improve from 0.69090\n",
      "94/94 [==============================] - 4s 44ms/step - loss: 0.6934 - acc: 0.5033 - val_loss: 0.6932 - val_acc: 0.5000\n",
      "Epoch 10/10\n",
      "93/94 [============================>.] - ETA: 0s - loss: 0.6934 - acc: 0.5060\n",
      "Epoch 10: val_loss did not improve from 0.69090\n",
      "94/94 [==============================] - 4s 41ms/step - loss: 0.6933 - acc: 0.5067 - val_loss: 0.6932 - val_acc: 0.5000\n"
     ]
    },
    {
     "name": "stderr",
     "output_type": "stream",
     "text": [
      "[I 2024-04-03 02:15:33,589] Trial 3 finished with value: 0.6931701898574829 and parameters: {'opt_num_hidden_dense_units': 40, 'opt_lr': 0.007632916499516756, 'opt_bs': 116}. Best is trial 1 with value: 0.6908963918685913.\n"
     ]
    },
    {
     "name": "stdout",
     "output_type": "stream",
     "text": [
      "Epoch 1/10\n",
      "94/94 [==============================] - ETA: 0s - loss: 0.6939 - acc: 0.4947\n",
      "Epoch 1: val_loss did not improve from 0.69090\n",
      "94/94 [==============================] - 6s 47ms/step - loss: 0.6939 - acc: 0.4947 - val_loss: 0.7024 - val_acc: 0.5000\n",
      "Epoch 2/10\n",
      "93/94 [============================>.] - ETA: 0s - loss: 0.6939 - acc: 0.5050\n",
      "Epoch 2: val_loss did not improve from 0.69090\n",
      "94/94 [==============================] - 5s 47ms/step - loss: 0.6939 - acc: 0.5047 - val_loss: 0.6928 - val_acc: 0.4970\n",
      "Epoch 3/10\n",
      "94/94 [==============================] - ETA: 0s - loss: 0.6935 - acc: 0.5067\n",
      "Epoch 3: val_loss did not improve from 0.69090\n",
      "94/94 [==============================] - 4s 44ms/step - loss: 0.6935 - acc: 0.5067 - val_loss: 0.6929 - val_acc: 0.5250\n",
      "Epoch 4/10\n",
      "93/94 [============================>.] - ETA: 0s - loss: 0.6922 - acc: 0.5245\n",
      "Epoch 4: val_loss did not improve from 0.69090\n",
      "94/94 [==============================] - 4s 43ms/step - loss: 0.6922 - acc: 0.5257 - val_loss: 0.6929 - val_acc: 0.5140\n",
      "Epoch 5/10\n",
      "94/94 [==============================] - ETA: 0s - loss: 0.6901 - acc: 0.5397\n",
      "Epoch 5: val_loss did not improve from 0.69090\n",
      "94/94 [==============================] - 5s 51ms/step - loss: 0.6901 - acc: 0.5397 - val_loss: 0.6944 - val_acc: 0.5270\n",
      "Epoch 6/10\n",
      "93/94 [============================>.] - ETA: 0s - loss: 0.6881 - acc: 0.5413\n",
      "Epoch 6: val_loss did not improve from 0.69090\n",
      "94/94 [==============================] - 4s 41ms/step - loss: 0.6880 - acc: 0.5420 - val_loss: 0.6952 - val_acc: 0.5320\n",
      "Epoch 7/10\n",
      "94/94 [==============================] - ETA: 0s - loss: 0.6837 - acc: 0.5607\n",
      "Epoch 7: val_loss did not improve from 0.69090\n",
      "94/94 [==============================] - 4s 44ms/step - loss: 0.6837 - acc: 0.5607 - val_loss: 0.6984 - val_acc: 0.5240\n",
      "Epoch 8/10\n",
      "94/94 [==============================] - ETA: 0s - loss: 0.6795 - acc: 0.5710\n",
      "Epoch 8: val_loss did not improve from 0.69090\n",
      "94/94 [==============================] - 5s 52ms/step - loss: 0.6795 - acc: 0.5710 - val_loss: 0.7025 - val_acc: 0.5370\n",
      "Epoch 9/10\n",
      "93/94 [============================>.] - ETA: 0s - loss: 0.6728 - acc: 0.5776\n",
      "Epoch 9: val_loss did not improve from 0.69090\n",
      "94/94 [==============================] - 4s 43ms/step - loss: 0.6728 - acc: 0.5780 - val_loss: 0.6951 - val_acc: 0.5300\n",
      "Epoch 10/10\n",
      "93/94 [============================>.] - ETA: 0s - loss: 0.6686 - acc: 0.5806\n",
      "Epoch 10: val_loss did not improve from 0.69090\n",
      "94/94 [==============================] - 4s 41ms/step - loss: 0.6683 - acc: 0.5813 - val_loss: 0.6994 - val_acc: 0.5450\n"
     ]
    },
    {
     "name": "stderr",
     "output_type": "stream",
     "text": [
      "[I 2024-04-03 02:16:19,763] Trial 4 finished with value: 0.692771315574646 and parameters: {'opt_num_hidden_dense_units': 18, 'opt_lr': 0.0006352786333452022, 'opt_bs': 99}. Best is trial 1 with value: 0.6908963918685913.\n"
     ]
    },
    {
     "name": "stdout",
     "output_type": "stream",
     "text": [
      "Epoch 1/10\n",
      "93/94 [============================>.] - ETA: 0s - loss: 0.7074 - acc: 0.4892\n",
      "Epoch 1: val_loss did not improve from 0.69090\n",
      "94/94 [==============================] - 6s 46ms/step - loss: 0.7073 - acc: 0.4893 - val_loss: 0.6959 - val_acc: 0.4760\n",
      "Epoch 2/10\n",
      "93/94 [============================>.] - ETA: 0s - loss: 0.7018 - acc: 0.4872\n",
      "Epoch 2: val_loss did not improve from 0.69090\n",
      "94/94 [==============================] - 5s 46ms/step - loss: 0.7014 - acc: 0.4893 - val_loss: 0.6954 - val_acc: 0.4770\n",
      "Epoch 3/10\n",
      "93/94 [============================>.] - ETA: 0s - loss: 0.7001 - acc: 0.4936\n",
      "Epoch 3: val_loss did not improve from 0.69090\n",
      "94/94 [==============================] - 4s 42ms/step - loss: 0.6999 - acc: 0.4940 - val_loss: 0.6951 - val_acc: 0.4780\n",
      "Epoch 4/10\n",
      "93/94 [============================>.] - ETA: 0s - loss: 0.6998 - acc: 0.4946\n",
      "Epoch 4: val_loss did not improve from 0.69090\n",
      "94/94 [==============================] - 5s 47ms/step - loss: 0.6998 - acc: 0.4937 - val_loss: 0.6947 - val_acc: 0.4730\n",
      "Epoch 5/10\n",
      "94/94 [==============================] - ETA: 0s - loss: 0.6984 - acc: 0.4987\n",
      "Epoch 5: val_loss did not improve from 0.69090\n",
      "94/94 [==============================] - 4s 43ms/step - loss: 0.6984 - acc: 0.4987 - val_loss: 0.6945 - val_acc: 0.4700\n",
      "Epoch 6/10\n",
      "93/94 [============================>.] - ETA: 0s - loss: 0.6971 - acc: 0.4903\n",
      "Epoch 6: val_loss did not improve from 0.69090\n",
      "94/94 [==============================] - 4s 42ms/step - loss: 0.6969 - acc: 0.4913 - val_loss: 0.6943 - val_acc: 0.4840\n",
      "Epoch 7/10\n",
      "94/94 [==============================] - ETA: 0s - loss: 0.6948 - acc: 0.5207\n",
      "Epoch 7: val_loss did not improve from 0.69090\n",
      "94/94 [==============================] - 4s 43ms/step - loss: 0.6948 - acc: 0.5207 - val_loss: 0.6941 - val_acc: 0.4940\n",
      "Epoch 8/10\n",
      "93/94 [============================>.] - ETA: 0s - loss: 0.6958 - acc: 0.5040\n",
      "Epoch 8: val_loss did not improve from 0.69090\n",
      "94/94 [==============================] - 4s 43ms/step - loss: 0.6957 - acc: 0.5040 - val_loss: 0.6940 - val_acc: 0.4910\n",
      "Epoch 9/10\n",
      "93/94 [============================>.] - ETA: 0s - loss: 0.6932 - acc: 0.5067\n",
      "Epoch 9: val_loss did not improve from 0.69090\n",
      "94/94 [==============================] - 4s 41ms/step - loss: 0.6933 - acc: 0.5073 - val_loss: 0.6940 - val_acc: 0.4900\n",
      "Epoch 10/10\n",
      "93/94 [============================>.] - ETA: 0s - loss: 0.6946 - acc: 0.5044\n",
      "Epoch 10: val_loss did not improve from 0.69090\n",
      "94/94 [==============================] - 4s 40ms/step - loss: 0.6946 - acc: 0.5040 - val_loss: 0.6939 - val_acc: 0.4970\n"
     ]
    },
    {
     "name": "stderr",
     "output_type": "stream",
     "text": [
      "[I 2024-04-03 02:17:04,167] Trial 5 finished with value: 0.6939082741737366 and parameters: {'opt_num_hidden_dense_units': 233, 'opt_lr': 9.983146167680267e-06, 'opt_bs': 19}. Best is trial 1 with value: 0.6908963918685913.\n"
     ]
    },
    {
     "name": "stdout",
     "output_type": "stream",
     "text": [
      "Epoch 1/10\n",
      "93/94 [============================>.] - ETA: 0s - loss: 0.6975 - acc: 0.5067\n",
      "Epoch 1: val_loss did not improve from 0.69090\n",
      "94/94 [==============================] - 5s 41ms/step - loss: 0.6975 - acc: 0.5067 - val_loss: 0.6932 - val_acc: 0.5040\n",
      "Epoch 2/10\n",
      "93/94 [============================>.] - ETA: 0s - loss: 0.6946 - acc: 0.5054\n",
      "Epoch 2: val_loss did not improve from 0.69090\n",
      "94/94 [==============================] - 4s 41ms/step - loss: 0.6946 - acc: 0.5063 - val_loss: 0.6935 - val_acc: 0.4930\n",
      "Epoch 3/10\n",
      "93/94 [============================>.] - ETA: 0s - loss: 0.6949 - acc: 0.5047\n",
      "Epoch 3: val_loss did not improve from 0.69090\n",
      "94/94 [==============================] - 4s 41ms/step - loss: 0.6949 - acc: 0.5057 - val_loss: 0.6939 - val_acc: 0.4860\n",
      "Epoch 4/10\n",
      "94/94 [==============================] - ETA: 0s - loss: 0.6962 - acc: 0.5090\n",
      "Epoch 4: val_loss did not improve from 0.69090\n",
      "94/94 [==============================] - 4s 39ms/step - loss: 0.6962 - acc: 0.5090 - val_loss: 0.6940 - val_acc: 0.4880\n",
      "Epoch 5/10\n",
      "93/94 [============================>.] - ETA: 0s - loss: 0.6961 - acc: 0.5054\n",
      "Epoch 5: val_loss did not improve from 0.69090\n",
      "94/94 [==============================] - 4s 40ms/step - loss: 0.6960 - acc: 0.5063 - val_loss: 0.6941 - val_acc: 0.4900\n",
      "Epoch 6/10\n",
      "94/94 [==============================] - ETA: 0s - loss: 0.6972 - acc: 0.4957\n",
      "Epoch 6: val_loss did not improve from 0.69090\n",
      "94/94 [==============================] - 4s 38ms/step - loss: 0.6972 - acc: 0.4957 - val_loss: 0.6941 - val_acc: 0.4860\n",
      "Epoch 7/10\n",
      "93/94 [============================>.] - ETA: 0s - loss: 0.6948 - acc: 0.5218\n",
      "Epoch 7: val_loss did not improve from 0.69090\n",
      "94/94 [==============================] - 4s 39ms/step - loss: 0.6947 - acc: 0.5223 - val_loss: 0.6942 - val_acc: 0.4880\n",
      "Epoch 8/10\n",
      "94/94 [==============================] - ETA: 0s - loss: 0.6972 - acc: 0.5017\n",
      "Epoch 8: val_loss did not improve from 0.69090\n",
      "94/94 [==============================] - 4s 39ms/step - loss: 0.6972 - acc: 0.5017 - val_loss: 0.6941 - val_acc: 0.4880\n",
      "Epoch 9/10\n",
      "93/94 [============================>.] - ETA: 0s - loss: 0.6966 - acc: 0.5027\n",
      "Epoch 9: val_loss did not improve from 0.69090\n",
      "94/94 [==============================] - 4s 39ms/step - loss: 0.6965 - acc: 0.5023 - val_loss: 0.6940 - val_acc: 0.4870\n",
      "Epoch 10/10\n",
      "93/94 [============================>.] - ETA: 0s - loss: 0.6955 - acc: 0.5121\n",
      "Epoch 10: val_loss did not improve from 0.69090\n",
      "94/94 [==============================] - 5s 46ms/step - loss: 0.6956 - acc: 0.5120 - val_loss: 0.6942 - val_acc: 0.4880\n"
     ]
    },
    {
     "name": "stderr",
     "output_type": "stream",
     "text": [
      "[I 2024-04-03 02:17:45,542] Trial 6 finished with value: 0.6932004690170288 and parameters: {'opt_num_hidden_dense_units': 396, 'opt_lr': 2.0395379930276825e-06, 'opt_bs': 37}. Best is trial 1 with value: 0.6908963918685913.\n"
     ]
    },
    {
     "name": "stdout",
     "output_type": "stream",
     "text": [
      "Epoch 1/10\n",
      "94/94 [==============================] - ETA: 0s - loss: 0.6997 - acc: 0.4963\n",
      "Epoch 1: val_loss did not improve from 0.69090\n",
      "94/94 [==============================] - 6s 46ms/step - loss: 0.6997 - acc: 0.4963 - val_loss: 0.6930 - val_acc: 0.5020\n",
      "Epoch 2/10\n",
      "94/94 [==============================] - ETA: 0s - loss: 0.6934 - acc: 0.5060\n",
      "Epoch 2: val_loss did not improve from 0.69090\n",
      "94/94 [==============================] - 4s 42ms/step - loss: 0.6934 - acc: 0.5060 - val_loss: 0.6944 - val_acc: 0.4950\n",
      "Epoch 3/10\n",
      "93/94 [============================>.] - ETA: 0s - loss: 0.6940 - acc: 0.5326\n",
      "Epoch 3: val_loss did not improve from 0.69090\n",
      "94/94 [==============================] - 4s 44ms/step - loss: 0.6941 - acc: 0.5320 - val_loss: 0.6959 - val_acc: 0.5160\n",
      "Epoch 4/10\n",
      "94/94 [==============================] - ETA: 0s - loss: 0.6912 - acc: 0.5280\n",
      "Epoch 4: val_loss did not improve from 0.69090\n",
      "94/94 [==============================] - 4s 43ms/step - loss: 0.6912 - acc: 0.5280 - val_loss: 0.6937 - val_acc: 0.5040\n",
      "Epoch 5/10\n",
      "94/94 [==============================] - ETA: 0s - loss: 0.6820 - acc: 0.5593\n",
      "Epoch 5: val_loss improved from 0.69090 to 0.69017, saving model to models/3-4_optuna/ch-005.ckpt\n",
      "INFO:tensorflow:Assets written to: models/3-4_optuna/ch-005.ckpt/assets\n"
     ]
    },
    {
     "name": "stderr",
     "output_type": "stream",
     "text": [
      "INFO:tensorflow:Assets written to: models/3-4_optuna/ch-005.ckpt/assets\n"
     ]
    },
    {
     "name": "stdout",
     "output_type": "stream",
     "text": [
      "94/94 [==============================] - 7s 71ms/step - loss: 0.6820 - acc: 0.5593 - val_loss: 0.6902 - val_acc: 0.5250\n",
      "Epoch 6/10\n",
      "94/94 [==============================] - ETA: 0s - loss: 0.6653 - acc: 0.6017\n",
      "Epoch 6: val_loss improved from 0.69017 to 0.66296, saving model to models/3-4_optuna/ch-006.ckpt\n",
      "INFO:tensorflow:Assets written to: models/3-4_optuna/ch-006.ckpt/assets\n"
     ]
    },
    {
     "name": "stderr",
     "output_type": "stream",
     "text": [
      "INFO:tensorflow:Assets written to: models/3-4_optuna/ch-006.ckpt/assets\n"
     ]
    },
    {
     "name": "stdout",
     "output_type": "stream",
     "text": [
      "94/94 [==============================] - 6s 58ms/step - loss: 0.6653 - acc: 0.6017 - val_loss: 0.6630 - val_acc: 0.6240\n",
      "Epoch 7/10\n",
      "94/94 [==============================] - ETA: 0s - loss: 0.5856 - acc: 0.7170\n",
      "Epoch 7: val_loss improved from 0.66296 to 0.49535, saving model to models/3-4_optuna/ch-007.ckpt\n",
      "INFO:tensorflow:Assets written to: models/3-4_optuna/ch-007.ckpt/assets\n"
     ]
    },
    {
     "name": "stderr",
     "output_type": "stream",
     "text": [
      "INFO:tensorflow:Assets written to: models/3-4_optuna/ch-007.ckpt/assets\n"
     ]
    },
    {
     "name": "stdout",
     "output_type": "stream",
     "text": [
      "94/94 [==============================] - 6s 60ms/step - loss: 0.5856 - acc: 0.7170 - val_loss: 0.4954 - val_acc: 0.8160\n",
      "Epoch 8/10\n",
      "93/94 [============================>.] - ETA: 0s - loss: 0.3808 - acc: 0.8458\n",
      "Epoch 8: val_loss did not improve from 0.49535\n",
      "94/94 [==============================] - 5s 46ms/step - loss: 0.3893 - acc: 0.8430 - val_loss: 0.5338 - val_acc: 0.7430\n",
      "Epoch 9/10\n",
      "93/94 [============================>.] - ETA: 0s - loss: 0.2264 - acc: 0.9157\n",
      "Epoch 9: val_loss improved from 0.49535 to 0.22239, saving model to models/3-4_optuna/ch-009.ckpt\n",
      "INFO:tensorflow:Assets written to: models/3-4_optuna/ch-009.ckpt/assets\n"
     ]
    },
    {
     "name": "stderr",
     "output_type": "stream",
     "text": [
      "INFO:tensorflow:Assets written to: models/3-4_optuna/ch-009.ckpt/assets\n"
     ]
    },
    {
     "name": "stdout",
     "output_type": "stream",
     "text": [
      "94/94 [==============================] - 5s 55ms/step - loss: 0.2255 - acc: 0.9160 - val_loss: 0.2224 - val_acc: 0.9330\n",
      "Epoch 10/10\n",
      "93/94 [============================>.] - ETA: 0s - loss: 0.1737 - acc: 0.9375\n",
      "Epoch 10: val_loss improved from 0.22239 to 0.19723, saving model to models/3-4_optuna/ch-010.ckpt\n",
      "INFO:tensorflow:Assets written to: models/3-4_optuna/ch-010.ckpt/assets\n"
     ]
    },
    {
     "name": "stderr",
     "output_type": "stream",
     "text": [
      "INFO:tensorflow:Assets written to: models/3-4_optuna/ch-010.ckpt/assets\n"
     ]
    },
    {
     "name": "stdout",
     "output_type": "stream",
     "text": [
      "94/94 [==============================] - 6s 63ms/step - loss: 0.1732 - acc: 0.9373 - val_loss: 0.1972 - val_acc: 0.9300\n"
     ]
    },
    {
     "name": "stderr",
     "output_type": "stream",
     "text": [
      "[I 2024-04-03 02:18:38,894] Trial 7 finished with value: 0.1972348988056183 and parameters: {'opt_num_hidden_dense_units': 504, 'opt_lr': 0.001779648066993526, 'opt_bs': 78}. Best is trial 7 with value: 0.1972348988056183.\n"
     ]
    },
    {
     "name": "stdout",
     "output_type": "stream",
     "text": [
      "Epoch 1/10\n",
      "93/94 [============================>.] - ETA: 0s - loss: 0.6994 - acc: 0.4960\n",
      "Epoch 1: val_loss did not improve from 0.19723\n",
      "94/94 [==============================] - 7s 53ms/step - loss: 0.6994 - acc: 0.4953 - val_loss: 0.6937 - val_acc: 0.4940\n",
      "Epoch 2/10\n",
      "94/94 [==============================] - ETA: 0s - loss: 0.6947 - acc: 0.5007\n",
      "Epoch 2: val_loss did not improve from 0.19723\n",
      "94/94 [==============================] - 5s 49ms/step - loss: 0.6947 - acc: 0.5007 - val_loss: 0.6930 - val_acc: 0.5060\n",
      "Epoch 3/10\n",
      "93/94 [============================>.] - ETA: 0s - loss: 0.6931 - acc: 0.4980\n",
      "Epoch 3: val_loss did not improve from 0.19723\n",
      "94/94 [==============================] - 4s 42ms/step - loss: 0.6931 - acc: 0.4987 - val_loss: 0.6936 - val_acc: 0.5000\n",
      "Epoch 4/10\n",
      "93/94 [============================>.] - ETA: 0s - loss: 0.6942 - acc: 0.5185\n",
      "Epoch 4: val_loss did not improve from 0.19723\n",
      "94/94 [==============================] - 4s 44ms/step - loss: 0.6943 - acc: 0.5183 - val_loss: 0.6934 - val_acc: 0.5080\n",
      "Epoch 5/10\n",
      "94/94 [==============================] - ETA: 0s - loss: 0.6897 - acc: 0.5440\n",
      "Epoch 5: val_loss did not improve from 0.19723\n",
      "94/94 [==============================] - 5s 49ms/step - loss: 0.6897 - acc: 0.5440 - val_loss: 0.6959 - val_acc: 0.5120\n",
      "Epoch 6/10\n",
      "94/94 [==============================] - ETA: 0s - loss: 0.6886 - acc: 0.5360\n",
      "Epoch 6: val_loss did not improve from 0.19723\n",
      "94/94 [==============================] - 5s 50ms/step - loss: 0.6886 - acc: 0.5360 - val_loss: 0.6948 - val_acc: 0.5280\n",
      "Epoch 7/10\n",
      "93/94 [============================>.] - ETA: 0s - loss: 0.6810 - acc: 0.5575\n",
      "Epoch 7: val_loss did not improve from 0.19723\n",
      "94/94 [==============================] - 5s 47ms/step - loss: 0.6805 - acc: 0.5583 - val_loss: 0.6984 - val_acc: 0.5570\n",
      "Epoch 8/10\n",
      "93/94 [============================>.] - ETA: 0s - loss: 0.6687 - acc: 0.5847\n",
      "Epoch 8: val_loss did not improve from 0.19723\n",
      "94/94 [==============================] - 4s 45ms/step - loss: 0.6684 - acc: 0.5857 - val_loss: 0.6945 - val_acc: 0.5530\n",
      "Epoch 9/10\n",
      "93/94 [============================>.] - ETA: 0s - loss: 0.6547 - acc: 0.6095\n",
      "Epoch 9: val_loss did not improve from 0.19723\n",
      "94/94 [==============================] - 4s 44ms/step - loss: 0.6544 - acc: 0.6107 - val_loss: 0.7025 - val_acc: 0.5810\n",
      "Epoch 10/10\n",
      "94/94 [==============================] - ETA: 0s - loss: 0.6276 - acc: 0.6440\n",
      "Epoch 10: val_loss did not improve from 0.19723\n",
      "94/94 [==============================] - 4s 44ms/step - loss: 0.6276 - acc: 0.6440 - val_loss: 0.6787 - val_acc: 0.5900\n"
     ]
    },
    {
     "name": "stderr",
     "output_type": "stream",
     "text": [
      "[I 2024-04-03 02:19:27,789] Trial 8 finished with value: 0.6787333488464355 and parameters: {'opt_num_hidden_dense_units': 157, 'opt_lr': 0.0012768805291675715, 'opt_bs': 125}. Best is trial 7 with value: 0.1972348988056183.\n"
     ]
    },
    {
     "name": "stdout",
     "output_type": "stream",
     "text": [
      "Epoch 1/10\n",
      "93/94 [============================>.] - ETA: 0s - loss: 0.6961 - acc: 0.4987\n",
      "Epoch 1: val_loss did not improve from 0.19723\n",
      "94/94 [==============================] - 6s 46ms/step - loss: 0.6961 - acc: 0.4983 - val_loss: 0.6950 - val_acc: 0.5000\n",
      "Epoch 2/10\n",
      "93/94 [============================>.] - ETA: 0s - loss: 0.6954 - acc: 0.4976\n",
      "Epoch 2: val_loss did not improve from 0.19723\n",
      "94/94 [==============================] - 4s 43ms/step - loss: 0.6954 - acc: 0.4973 - val_loss: 0.6944 - val_acc: 0.4990\n",
      "Epoch 3/10\n",
      "93/94 [============================>.] - ETA: 0s - loss: 0.6960 - acc: 0.4923\n",
      "Epoch 3: val_loss did not improve from 0.19723\n",
      "94/94 [==============================] - 5s 45ms/step - loss: 0.6959 - acc: 0.4930 - val_loss: 0.6939 - val_acc: 0.5000\n",
      "Epoch 4/10\n",
      "94/94 [==============================] - ETA: 0s - loss: 0.6945 - acc: 0.5020\n",
      "Epoch 4: val_loss did not improve from 0.19723\n",
      "94/94 [==============================] - 5s 51ms/step - loss: 0.6945 - acc: 0.5020 - val_loss: 0.6937 - val_acc: 0.4980\n",
      "Epoch 5/10\n",
      "94/94 [==============================] - ETA: 0s - loss: 0.6938 - acc: 0.4993\n",
      "Epoch 5: val_loss did not improve from 0.19723\n",
      "94/94 [==============================] - 5s 47ms/step - loss: 0.6938 - acc: 0.4993 - val_loss: 0.6935 - val_acc: 0.4940\n",
      "Epoch 6/10\n",
      "94/94 [==============================] - ETA: 0s - loss: 0.6939 - acc: 0.5067\n",
      "Epoch 6: val_loss did not improve from 0.19723\n",
      "94/94 [==============================] - 5s 49ms/step - loss: 0.6939 - acc: 0.5067 - val_loss: 0.6935 - val_acc: 0.4970\n",
      "Epoch 7/10\n",
      "93/94 [============================>.] - ETA: 0s - loss: 0.6944 - acc: 0.4869\n",
      "Epoch 7: val_loss did not improve from 0.19723\n",
      "94/94 [==============================] - 5s 47ms/step - loss: 0.6945 - acc: 0.4867 - val_loss: 0.6934 - val_acc: 0.5010\n",
      "Epoch 8/10\n",
      "93/94 [============================>.] - ETA: 0s - loss: 0.6940 - acc: 0.5034\n",
      "Epoch 8: val_loss did not improve from 0.19723\n",
      "94/94 [==============================] - 5s 48ms/step - loss: 0.6941 - acc: 0.5033 - val_loss: 0.6933 - val_acc: 0.5040\n",
      "Epoch 9/10\n",
      "93/94 [============================>.] - ETA: 0s - loss: 0.6956 - acc: 0.4795\n",
      "Epoch 9: val_loss did not improve from 0.19723\n",
      "94/94 [==============================] - 5s 48ms/step - loss: 0.6955 - acc: 0.4800 - val_loss: 0.6933 - val_acc: 0.5080\n",
      "Epoch 10/10\n",
      "93/94 [============================>.] - ETA: 0s - loss: 0.6955 - acc: 0.4866\n",
      "Epoch 10: val_loss did not improve from 0.19723\n",
      "94/94 [==============================] - 4s 42ms/step - loss: 0.6955 - acc: 0.4863 - val_loss: 0.6933 - val_acc: 0.5070\n"
     ]
    },
    {
     "name": "stderr",
     "output_type": "stream",
     "text": [
      "[I 2024-04-03 02:20:15,485] Trial 9 finished with value: 0.6932966709136963 and parameters: {'opt_num_hidden_dense_units': 385, 'opt_lr': 2.013667315088752e-06, 'opt_bs': 113}. Best is trial 7 with value: 0.1972348988056183.\n"
     ]
    }
   ],
   "source": [
    "study = opt.create_study()\n",
    "study.optimize(objective, n_trials=10)"
   ]
  },
  {
   "cell_type": "code",
   "execution_count": 17,
   "metadata": {},
   "outputs": [
    {
     "data": {
      "application/vnd.plotly.v1+json": {
       "config": {
        "plotlyServerURL": "https://plot.ly"
       },
       "data": [
        {
         "mode": "markers",
         "name": "Objective Value",
         "type": "scatter",
         "x": [
          0,
          1,
          2,
          3,
          4,
          5,
          6,
          7,
          8,
          9
         ],
         "y": [
          0.6916497349739075,
          0.6908963918685913,
          0.69298255443573,
          0.6931701898574829,
          0.692771315574646,
          0.6939082741737366,
          0.6932004690170288,
          0.1972348988056183,
          0.6787333488464355,
          0.6932966709136963
         ]
        },
        {
         "mode": "lines",
         "name": "Best Value",
         "type": "scatter",
         "x": [
          0,
          1,
          2,
          3,
          4,
          5,
          6,
          7,
          8,
          9
         ],
         "y": [
          0.6916497349739075,
          0.6908963918685913,
          0.6908963918685913,
          0.6908963918685913,
          0.6908963918685913,
          0.6908963918685913,
          0.6908963918685913,
          0.1972348988056183,
          0.1972348988056183,
          0.1972348988056183
         ]
        },
        {
         "marker": {
          "color": "#cccccc"
         },
         "mode": "markers",
         "name": "Infeasible Trial",
         "showlegend": false,
         "type": "scatter",
         "x": [],
         "y": []
        }
       ],
       "layout": {
        "template": {
         "data": {
          "bar": [
           {
            "error_x": {
             "color": "#2a3f5f"
            },
            "error_y": {
             "color": "#2a3f5f"
            },
            "marker": {
             "line": {
              "color": "#E5ECF6",
              "width": 0.5
             },
             "pattern": {
              "fillmode": "overlay",
              "size": 10,
              "solidity": 0.2
             }
            },
            "type": "bar"
           }
          ],
          "barpolar": [
           {
            "marker": {
             "line": {
              "color": "#E5ECF6",
              "width": 0.5
             },
             "pattern": {
              "fillmode": "overlay",
              "size": 10,
              "solidity": 0.2
             }
            },
            "type": "barpolar"
           }
          ],
          "carpet": [
           {
            "aaxis": {
             "endlinecolor": "#2a3f5f",
             "gridcolor": "white",
             "linecolor": "white",
             "minorgridcolor": "white",
             "startlinecolor": "#2a3f5f"
            },
            "baxis": {
             "endlinecolor": "#2a3f5f",
             "gridcolor": "white",
             "linecolor": "white",
             "minorgridcolor": "white",
             "startlinecolor": "#2a3f5f"
            },
            "type": "carpet"
           }
          ],
          "choropleth": [
           {
            "colorbar": {
             "outlinewidth": 0,
             "ticks": ""
            },
            "type": "choropleth"
           }
          ],
          "contour": [
           {
            "colorbar": {
             "outlinewidth": 0,
             "ticks": ""
            },
            "colorscale": [
             [
              0,
              "#0d0887"
             ],
             [
              0.1111111111111111,
              "#46039f"
             ],
             [
              0.2222222222222222,
              "#7201a8"
             ],
             [
              0.3333333333333333,
              "#9c179e"
             ],
             [
              0.4444444444444444,
              "#bd3786"
             ],
             [
              0.5555555555555556,
              "#d8576b"
             ],
             [
              0.6666666666666666,
              "#ed7953"
             ],
             [
              0.7777777777777778,
              "#fb9f3a"
             ],
             [
              0.8888888888888888,
              "#fdca26"
             ],
             [
              1,
              "#f0f921"
             ]
            ],
            "type": "contour"
           }
          ],
          "contourcarpet": [
           {
            "colorbar": {
             "outlinewidth": 0,
             "ticks": ""
            },
            "type": "contourcarpet"
           }
          ],
          "heatmap": [
           {
            "colorbar": {
             "outlinewidth": 0,
             "ticks": ""
            },
            "colorscale": [
             [
              0,
              "#0d0887"
             ],
             [
              0.1111111111111111,
              "#46039f"
             ],
             [
              0.2222222222222222,
              "#7201a8"
             ],
             [
              0.3333333333333333,
              "#9c179e"
             ],
             [
              0.4444444444444444,
              "#bd3786"
             ],
             [
              0.5555555555555556,
              "#d8576b"
             ],
             [
              0.6666666666666666,
              "#ed7953"
             ],
             [
              0.7777777777777778,
              "#fb9f3a"
             ],
             [
              0.8888888888888888,
              "#fdca26"
             ],
             [
              1,
              "#f0f921"
             ]
            ],
            "type": "heatmap"
           }
          ],
          "heatmapgl": [
           {
            "colorbar": {
             "outlinewidth": 0,
             "ticks": ""
            },
            "colorscale": [
             [
              0,
              "#0d0887"
             ],
             [
              0.1111111111111111,
              "#46039f"
             ],
             [
              0.2222222222222222,
              "#7201a8"
             ],
             [
              0.3333333333333333,
              "#9c179e"
             ],
             [
              0.4444444444444444,
              "#bd3786"
             ],
             [
              0.5555555555555556,
              "#d8576b"
             ],
             [
              0.6666666666666666,
              "#ed7953"
             ],
             [
              0.7777777777777778,
              "#fb9f3a"
             ],
             [
              0.8888888888888888,
              "#fdca26"
             ],
             [
              1,
              "#f0f921"
             ]
            ],
            "type": "heatmapgl"
           }
          ],
          "histogram": [
           {
            "marker": {
             "pattern": {
              "fillmode": "overlay",
              "size": 10,
              "solidity": 0.2
             }
            },
            "type": "histogram"
           }
          ],
          "histogram2d": [
           {
            "colorbar": {
             "outlinewidth": 0,
             "ticks": ""
            },
            "colorscale": [
             [
              0,
              "#0d0887"
             ],
             [
              0.1111111111111111,
              "#46039f"
             ],
             [
              0.2222222222222222,
              "#7201a8"
             ],
             [
              0.3333333333333333,
              "#9c179e"
             ],
             [
              0.4444444444444444,
              "#bd3786"
             ],
             [
              0.5555555555555556,
              "#d8576b"
             ],
             [
              0.6666666666666666,
              "#ed7953"
             ],
             [
              0.7777777777777778,
              "#fb9f3a"
             ],
             [
              0.8888888888888888,
              "#fdca26"
             ],
             [
              1,
              "#f0f921"
             ]
            ],
            "type": "histogram2d"
           }
          ],
          "histogram2dcontour": [
           {
            "colorbar": {
             "outlinewidth": 0,
             "ticks": ""
            },
            "colorscale": [
             [
              0,
              "#0d0887"
             ],
             [
              0.1111111111111111,
              "#46039f"
             ],
             [
              0.2222222222222222,
              "#7201a8"
             ],
             [
              0.3333333333333333,
              "#9c179e"
             ],
             [
              0.4444444444444444,
              "#bd3786"
             ],
             [
              0.5555555555555556,
              "#d8576b"
             ],
             [
              0.6666666666666666,
              "#ed7953"
             ],
             [
              0.7777777777777778,
              "#fb9f3a"
             ],
             [
              0.8888888888888888,
              "#fdca26"
             ],
             [
              1,
              "#f0f921"
             ]
            ],
            "type": "histogram2dcontour"
           }
          ],
          "mesh3d": [
           {
            "colorbar": {
             "outlinewidth": 0,
             "ticks": ""
            },
            "type": "mesh3d"
           }
          ],
          "parcoords": [
           {
            "line": {
             "colorbar": {
              "outlinewidth": 0,
              "ticks": ""
             }
            },
            "type": "parcoords"
           }
          ],
          "pie": [
           {
            "automargin": true,
            "type": "pie"
           }
          ],
          "scatter": [
           {
            "fillpattern": {
             "fillmode": "overlay",
             "size": 10,
             "solidity": 0.2
            },
            "type": "scatter"
           }
          ],
          "scatter3d": [
           {
            "line": {
             "colorbar": {
              "outlinewidth": 0,
              "ticks": ""
             }
            },
            "marker": {
             "colorbar": {
              "outlinewidth": 0,
              "ticks": ""
             }
            },
            "type": "scatter3d"
           }
          ],
          "scattercarpet": [
           {
            "marker": {
             "colorbar": {
              "outlinewidth": 0,
              "ticks": ""
             }
            },
            "type": "scattercarpet"
           }
          ],
          "scattergeo": [
           {
            "marker": {
             "colorbar": {
              "outlinewidth": 0,
              "ticks": ""
             }
            },
            "type": "scattergeo"
           }
          ],
          "scattergl": [
           {
            "marker": {
             "colorbar": {
              "outlinewidth": 0,
              "ticks": ""
             }
            },
            "type": "scattergl"
           }
          ],
          "scattermapbox": [
           {
            "marker": {
             "colorbar": {
              "outlinewidth": 0,
              "ticks": ""
             }
            },
            "type": "scattermapbox"
           }
          ],
          "scatterpolar": [
           {
            "marker": {
             "colorbar": {
              "outlinewidth": 0,
              "ticks": ""
             }
            },
            "type": "scatterpolar"
           }
          ],
          "scatterpolargl": [
           {
            "marker": {
             "colorbar": {
              "outlinewidth": 0,
              "ticks": ""
             }
            },
            "type": "scatterpolargl"
           }
          ],
          "scatterternary": [
           {
            "marker": {
             "colorbar": {
              "outlinewidth": 0,
              "ticks": ""
             }
            },
            "type": "scatterternary"
           }
          ],
          "surface": [
           {
            "colorbar": {
             "outlinewidth": 0,
             "ticks": ""
            },
            "colorscale": [
             [
              0,
              "#0d0887"
             ],
             [
              0.1111111111111111,
              "#46039f"
             ],
             [
              0.2222222222222222,
              "#7201a8"
             ],
             [
              0.3333333333333333,
              "#9c179e"
             ],
             [
              0.4444444444444444,
              "#bd3786"
             ],
             [
              0.5555555555555556,
              "#d8576b"
             ],
             [
              0.6666666666666666,
              "#ed7953"
             ],
             [
              0.7777777777777778,
              "#fb9f3a"
             ],
             [
              0.8888888888888888,
              "#fdca26"
             ],
             [
              1,
              "#f0f921"
             ]
            ],
            "type": "surface"
           }
          ],
          "table": [
           {
            "cells": {
             "fill": {
              "color": "#EBF0F8"
             },
             "line": {
              "color": "white"
             }
            },
            "header": {
             "fill": {
              "color": "#C8D4E3"
             },
             "line": {
              "color": "white"
             }
            },
            "type": "table"
           }
          ]
         },
         "layout": {
          "annotationdefaults": {
           "arrowcolor": "#2a3f5f",
           "arrowhead": 0,
           "arrowwidth": 1
          },
          "autotypenumbers": "strict",
          "coloraxis": {
           "colorbar": {
            "outlinewidth": 0,
            "ticks": ""
           }
          },
          "colorscale": {
           "diverging": [
            [
             0,
             "#8e0152"
            ],
            [
             0.1,
             "#c51b7d"
            ],
            [
             0.2,
             "#de77ae"
            ],
            [
             0.3,
             "#f1b6da"
            ],
            [
             0.4,
             "#fde0ef"
            ],
            [
             0.5,
             "#f7f7f7"
            ],
            [
             0.6,
             "#e6f5d0"
            ],
            [
             0.7,
             "#b8e186"
            ],
            [
             0.8,
             "#7fbc41"
            ],
            [
             0.9,
             "#4d9221"
            ],
            [
             1,
             "#276419"
            ]
           ],
           "sequential": [
            [
             0,
             "#0d0887"
            ],
            [
             0.1111111111111111,
             "#46039f"
            ],
            [
             0.2222222222222222,
             "#7201a8"
            ],
            [
             0.3333333333333333,
             "#9c179e"
            ],
            [
             0.4444444444444444,
             "#bd3786"
            ],
            [
             0.5555555555555556,
             "#d8576b"
            ],
            [
             0.6666666666666666,
             "#ed7953"
            ],
            [
             0.7777777777777778,
             "#fb9f3a"
            ],
            [
             0.8888888888888888,
             "#fdca26"
            ],
            [
             1,
             "#f0f921"
            ]
           ],
           "sequentialminus": [
            [
             0,
             "#0d0887"
            ],
            [
             0.1111111111111111,
             "#46039f"
            ],
            [
             0.2222222222222222,
             "#7201a8"
            ],
            [
             0.3333333333333333,
             "#9c179e"
            ],
            [
             0.4444444444444444,
             "#bd3786"
            ],
            [
             0.5555555555555556,
             "#d8576b"
            ],
            [
             0.6666666666666666,
             "#ed7953"
            ],
            [
             0.7777777777777778,
             "#fb9f3a"
            ],
            [
             0.8888888888888888,
             "#fdca26"
            ],
            [
             1,
             "#f0f921"
            ]
           ]
          },
          "colorway": [
           "#636efa",
           "#EF553B",
           "#00cc96",
           "#ab63fa",
           "#FFA15A",
           "#19d3f3",
           "#FF6692",
           "#B6E880",
           "#FF97FF",
           "#FECB52"
          ],
          "font": {
           "color": "#2a3f5f"
          },
          "geo": {
           "bgcolor": "white",
           "lakecolor": "white",
           "landcolor": "#E5ECF6",
           "showlakes": true,
           "showland": true,
           "subunitcolor": "white"
          },
          "hoverlabel": {
           "align": "left"
          },
          "hovermode": "closest",
          "mapbox": {
           "style": "light"
          },
          "paper_bgcolor": "white",
          "plot_bgcolor": "#E5ECF6",
          "polar": {
           "angularaxis": {
            "gridcolor": "white",
            "linecolor": "white",
            "ticks": ""
           },
           "bgcolor": "#E5ECF6",
           "radialaxis": {
            "gridcolor": "white",
            "linecolor": "white",
            "ticks": ""
           }
          },
          "scene": {
           "xaxis": {
            "backgroundcolor": "#E5ECF6",
            "gridcolor": "white",
            "gridwidth": 2,
            "linecolor": "white",
            "showbackground": true,
            "ticks": "",
            "zerolinecolor": "white"
           },
           "yaxis": {
            "backgroundcolor": "#E5ECF6",
            "gridcolor": "white",
            "gridwidth": 2,
            "linecolor": "white",
            "showbackground": true,
            "ticks": "",
            "zerolinecolor": "white"
           },
           "zaxis": {
            "backgroundcolor": "#E5ECF6",
            "gridcolor": "white",
            "gridwidth": 2,
            "linecolor": "white",
            "showbackground": true,
            "ticks": "",
            "zerolinecolor": "white"
           }
          },
          "shapedefaults": {
           "line": {
            "color": "#2a3f5f"
           }
          },
          "ternary": {
           "aaxis": {
            "gridcolor": "white",
            "linecolor": "white",
            "ticks": ""
           },
           "baxis": {
            "gridcolor": "white",
            "linecolor": "white",
            "ticks": ""
           },
           "bgcolor": "#E5ECF6",
           "caxis": {
            "gridcolor": "white",
            "linecolor": "white",
            "ticks": ""
           }
          },
          "title": {
           "x": 0.05
          },
          "xaxis": {
           "automargin": true,
           "gridcolor": "white",
           "linecolor": "white",
           "ticks": "",
           "title": {
            "standoff": 15
           },
           "zerolinecolor": "white",
           "zerolinewidth": 2
          },
          "yaxis": {
           "automargin": true,
           "gridcolor": "white",
           "linecolor": "white",
           "ticks": "",
           "title": {
            "standoff": 15
           },
           "zerolinecolor": "white",
           "zerolinewidth": 2
          }
         }
        },
        "title": {
         "text": "Optimization History Plot"
        },
        "xaxis": {
         "title": {
          "text": "Trial"
         }
        },
        "yaxis": {
         "title": {
          "text": "Objective Value"
         }
        }
       }
      }
     },
     "metadata": {},
     "output_type": "display_data"
    }
   ],
   "source": [
    "plot_optimization_history(study)"
   ]
  },
  {
   "cell_type": "code",
   "execution_count": 18,
   "metadata": {},
   "outputs": [
    {
     "data": {
      "application/vnd.plotly.v1+json": {
       "config": {
        "plotlyServerURL": "https://plot.ly"
       },
       "data": [
        {
         "colorbar": {
          "title": {
           "text": "Objective Value"
          }
         },
         "colorscale": [
          [
           0,
           "rgb(247,251,255)"
          ],
          [
           0.125,
           "rgb(222,235,247)"
          ],
          [
           0.25,
           "rgb(198,219,239)"
          ],
          [
           0.375,
           "rgb(158,202,225)"
          ],
          [
           0.5,
           "rgb(107,174,214)"
          ],
          [
           0.625,
           "rgb(66,146,198)"
          ],
          [
           0.75,
           "rgb(33,113,181)"
          ],
          [
           0.875,
           "rgb(8,81,156)"
          ],
          [
           1,
           "rgb(8,48,107)"
          ]
         ],
         "connectgaps": true,
         "contours": {
          "coloring": "heatmap"
         },
         "hoverinfo": "none",
         "line": {
          "smoothing": 1.3
         },
         "reversescale": true,
         "type": "contour",
         "x": [
          13.7,
          19,
          26,
          37,
          73,
          78,
          87,
          99,
          113,
          116,
          125,
          130.3
         ],
         "y": [
          9.888923918238456e-7,
          0.0000015145027221310157,
          0.000002013667315088752,
          0.0000020395379930276825,
          0.000009983146167680267,
          0.000015084285565888708,
          0.00007332780706696832,
          0.0006352786333452022,
          0.0012768805291675715,
          0.001779648066993526,
          0.007632916499516756,
          0.01168991986579678
         ],
         "z": [
          [
           null,
           null,
           null,
           null,
           null,
           null,
           null,
           null,
           null,
           null,
           null,
           null
          ],
          [
           null,
           null,
           null,
           null,
           0.69298255443573,
           null,
           null,
           null,
           null,
           null,
           null,
           null
          ],
          [
           null,
           null,
           null,
           null,
           null,
           null,
           null,
           null,
           0.6932966709136963,
           null,
           null,
           null
          ],
          [
           null,
           null,
           null,
           0.6932004690170288,
           null,
           null,
           null,
           null,
           null,
           null,
           null,
           null
          ],
          [
           null,
           0.6939082741737366,
           null,
           null,
           null,
           null,
           null,
           null,
           null,
           null,
           null,
           null
          ],
          [
           null,
           null,
           0.6916497349739075,
           null,
           null,
           null,
           null,
           null,
           null,
           null,
           null,
           null
          ],
          [
           null,
           null,
           null,
           null,
           null,
           null,
           0.6908963918685913,
           null,
           null,
           null,
           null,
           null
          ],
          [
           null,
           null,
           null,
           null,
           null,
           null,
           null,
           0.692771315574646,
           null,
           null,
           null,
           null
          ],
          [
           null,
           null,
           null,
           null,
           null,
           null,
           null,
           null,
           null,
           null,
           0.6787333488464355,
           null
          ],
          [
           null,
           null,
           null,
           null,
           null,
           0.1972348988056183,
           null,
           null,
           null,
           null,
           null,
           null
          ],
          [
           null,
           null,
           null,
           null,
           null,
           null,
           null,
           null,
           null,
           0.6931701898574829,
           null,
           null
          ],
          [
           null,
           null,
           null,
           null,
           null,
           null,
           null,
           null,
           null,
           null,
           null,
           null
          ]
         ]
        },
        {
         "marker": {
          "color": "black",
          "line": {
           "color": "Gray",
           "width": 2
          }
         },
         "mode": "markers",
         "name": "Feasible Trial",
         "showlegend": false,
         "type": "scatter",
         "x": [
          26,
          87,
          73,
          116,
          99,
          19,
          37,
          78,
          125,
          113
         ],
         "y": [
          0.000015084285565888708,
          0.00007332780706696832,
          0.0000015145027221310157,
          0.007632916499516756,
          0.0006352786333452022,
          0.000009983146167680267,
          0.0000020395379930276825,
          0.001779648066993526,
          0.0012768805291675715,
          0.000002013667315088752
         ]
        },
        {
         "marker": {
          "color": "#cccccc",
          "line": {
           "color": "Gray",
           "width": 2
          }
         },
         "mode": "markers",
         "name": "Infeasible Trial",
         "showlegend": false,
         "type": "scatter",
         "x": [],
         "y": []
        }
       ],
       "layout": {
        "template": {
         "data": {
          "bar": [
           {
            "error_x": {
             "color": "#2a3f5f"
            },
            "error_y": {
             "color": "#2a3f5f"
            },
            "marker": {
             "line": {
              "color": "#E5ECF6",
              "width": 0.5
             },
             "pattern": {
              "fillmode": "overlay",
              "size": 10,
              "solidity": 0.2
             }
            },
            "type": "bar"
           }
          ],
          "barpolar": [
           {
            "marker": {
             "line": {
              "color": "#E5ECF6",
              "width": 0.5
             },
             "pattern": {
              "fillmode": "overlay",
              "size": 10,
              "solidity": 0.2
             }
            },
            "type": "barpolar"
           }
          ],
          "carpet": [
           {
            "aaxis": {
             "endlinecolor": "#2a3f5f",
             "gridcolor": "white",
             "linecolor": "white",
             "minorgridcolor": "white",
             "startlinecolor": "#2a3f5f"
            },
            "baxis": {
             "endlinecolor": "#2a3f5f",
             "gridcolor": "white",
             "linecolor": "white",
             "minorgridcolor": "white",
             "startlinecolor": "#2a3f5f"
            },
            "type": "carpet"
           }
          ],
          "choropleth": [
           {
            "colorbar": {
             "outlinewidth": 0,
             "ticks": ""
            },
            "type": "choropleth"
           }
          ],
          "contour": [
           {
            "colorbar": {
             "outlinewidth": 0,
             "ticks": ""
            },
            "colorscale": [
             [
              0,
              "#0d0887"
             ],
             [
              0.1111111111111111,
              "#46039f"
             ],
             [
              0.2222222222222222,
              "#7201a8"
             ],
             [
              0.3333333333333333,
              "#9c179e"
             ],
             [
              0.4444444444444444,
              "#bd3786"
             ],
             [
              0.5555555555555556,
              "#d8576b"
             ],
             [
              0.6666666666666666,
              "#ed7953"
             ],
             [
              0.7777777777777778,
              "#fb9f3a"
             ],
             [
              0.8888888888888888,
              "#fdca26"
             ],
             [
              1,
              "#f0f921"
             ]
            ],
            "type": "contour"
           }
          ],
          "contourcarpet": [
           {
            "colorbar": {
             "outlinewidth": 0,
             "ticks": ""
            },
            "type": "contourcarpet"
           }
          ],
          "heatmap": [
           {
            "colorbar": {
             "outlinewidth": 0,
             "ticks": ""
            },
            "colorscale": [
             [
              0,
              "#0d0887"
             ],
             [
              0.1111111111111111,
              "#46039f"
             ],
             [
              0.2222222222222222,
              "#7201a8"
             ],
             [
              0.3333333333333333,
              "#9c179e"
             ],
             [
              0.4444444444444444,
              "#bd3786"
             ],
             [
              0.5555555555555556,
              "#d8576b"
             ],
             [
              0.6666666666666666,
              "#ed7953"
             ],
             [
              0.7777777777777778,
              "#fb9f3a"
             ],
             [
              0.8888888888888888,
              "#fdca26"
             ],
             [
              1,
              "#f0f921"
             ]
            ],
            "type": "heatmap"
           }
          ],
          "heatmapgl": [
           {
            "colorbar": {
             "outlinewidth": 0,
             "ticks": ""
            },
            "colorscale": [
             [
              0,
              "#0d0887"
             ],
             [
              0.1111111111111111,
              "#46039f"
             ],
             [
              0.2222222222222222,
              "#7201a8"
             ],
             [
              0.3333333333333333,
              "#9c179e"
             ],
             [
              0.4444444444444444,
              "#bd3786"
             ],
             [
              0.5555555555555556,
              "#d8576b"
             ],
             [
              0.6666666666666666,
              "#ed7953"
             ],
             [
              0.7777777777777778,
              "#fb9f3a"
             ],
             [
              0.8888888888888888,
              "#fdca26"
             ],
             [
              1,
              "#f0f921"
             ]
            ],
            "type": "heatmapgl"
           }
          ],
          "histogram": [
           {
            "marker": {
             "pattern": {
              "fillmode": "overlay",
              "size": 10,
              "solidity": 0.2
             }
            },
            "type": "histogram"
           }
          ],
          "histogram2d": [
           {
            "colorbar": {
             "outlinewidth": 0,
             "ticks": ""
            },
            "colorscale": [
             [
              0,
              "#0d0887"
             ],
             [
              0.1111111111111111,
              "#46039f"
             ],
             [
              0.2222222222222222,
              "#7201a8"
             ],
             [
              0.3333333333333333,
              "#9c179e"
             ],
             [
              0.4444444444444444,
              "#bd3786"
             ],
             [
              0.5555555555555556,
              "#d8576b"
             ],
             [
              0.6666666666666666,
              "#ed7953"
             ],
             [
              0.7777777777777778,
              "#fb9f3a"
             ],
             [
              0.8888888888888888,
              "#fdca26"
             ],
             [
              1,
              "#f0f921"
             ]
            ],
            "type": "histogram2d"
           }
          ],
          "histogram2dcontour": [
           {
            "colorbar": {
             "outlinewidth": 0,
             "ticks": ""
            },
            "colorscale": [
             [
              0,
              "#0d0887"
             ],
             [
              0.1111111111111111,
              "#46039f"
             ],
             [
              0.2222222222222222,
              "#7201a8"
             ],
             [
              0.3333333333333333,
              "#9c179e"
             ],
             [
              0.4444444444444444,
              "#bd3786"
             ],
             [
              0.5555555555555556,
              "#d8576b"
             ],
             [
              0.6666666666666666,
              "#ed7953"
             ],
             [
              0.7777777777777778,
              "#fb9f3a"
             ],
             [
              0.8888888888888888,
              "#fdca26"
             ],
             [
              1,
              "#f0f921"
             ]
            ],
            "type": "histogram2dcontour"
           }
          ],
          "mesh3d": [
           {
            "colorbar": {
             "outlinewidth": 0,
             "ticks": ""
            },
            "type": "mesh3d"
           }
          ],
          "parcoords": [
           {
            "line": {
             "colorbar": {
              "outlinewidth": 0,
              "ticks": ""
             }
            },
            "type": "parcoords"
           }
          ],
          "pie": [
           {
            "automargin": true,
            "type": "pie"
           }
          ],
          "scatter": [
           {
            "fillpattern": {
             "fillmode": "overlay",
             "size": 10,
             "solidity": 0.2
            },
            "type": "scatter"
           }
          ],
          "scatter3d": [
           {
            "line": {
             "colorbar": {
              "outlinewidth": 0,
              "ticks": ""
             }
            },
            "marker": {
             "colorbar": {
              "outlinewidth": 0,
              "ticks": ""
             }
            },
            "type": "scatter3d"
           }
          ],
          "scattercarpet": [
           {
            "marker": {
             "colorbar": {
              "outlinewidth": 0,
              "ticks": ""
             }
            },
            "type": "scattercarpet"
           }
          ],
          "scattergeo": [
           {
            "marker": {
             "colorbar": {
              "outlinewidth": 0,
              "ticks": ""
             }
            },
            "type": "scattergeo"
           }
          ],
          "scattergl": [
           {
            "marker": {
             "colorbar": {
              "outlinewidth": 0,
              "ticks": ""
             }
            },
            "type": "scattergl"
           }
          ],
          "scattermapbox": [
           {
            "marker": {
             "colorbar": {
              "outlinewidth": 0,
              "ticks": ""
             }
            },
            "type": "scattermapbox"
           }
          ],
          "scatterpolar": [
           {
            "marker": {
             "colorbar": {
              "outlinewidth": 0,
              "ticks": ""
             }
            },
            "type": "scatterpolar"
           }
          ],
          "scatterpolargl": [
           {
            "marker": {
             "colorbar": {
              "outlinewidth": 0,
              "ticks": ""
             }
            },
            "type": "scatterpolargl"
           }
          ],
          "scatterternary": [
           {
            "marker": {
             "colorbar": {
              "outlinewidth": 0,
              "ticks": ""
             }
            },
            "type": "scatterternary"
           }
          ],
          "surface": [
           {
            "colorbar": {
             "outlinewidth": 0,
             "ticks": ""
            },
            "colorscale": [
             [
              0,
              "#0d0887"
             ],
             [
              0.1111111111111111,
              "#46039f"
             ],
             [
              0.2222222222222222,
              "#7201a8"
             ],
             [
              0.3333333333333333,
              "#9c179e"
             ],
             [
              0.4444444444444444,
              "#bd3786"
             ],
             [
              0.5555555555555556,
              "#d8576b"
             ],
             [
              0.6666666666666666,
              "#ed7953"
             ],
             [
              0.7777777777777778,
              "#fb9f3a"
             ],
             [
              0.8888888888888888,
              "#fdca26"
             ],
             [
              1,
              "#f0f921"
             ]
            ],
            "type": "surface"
           }
          ],
          "table": [
           {
            "cells": {
             "fill": {
              "color": "#EBF0F8"
             },
             "line": {
              "color": "white"
             }
            },
            "header": {
             "fill": {
              "color": "#C8D4E3"
             },
             "line": {
              "color": "white"
             }
            },
            "type": "table"
           }
          ]
         },
         "layout": {
          "annotationdefaults": {
           "arrowcolor": "#2a3f5f",
           "arrowhead": 0,
           "arrowwidth": 1
          },
          "autotypenumbers": "strict",
          "coloraxis": {
           "colorbar": {
            "outlinewidth": 0,
            "ticks": ""
           }
          },
          "colorscale": {
           "diverging": [
            [
             0,
             "#8e0152"
            ],
            [
             0.1,
             "#c51b7d"
            ],
            [
             0.2,
             "#de77ae"
            ],
            [
             0.3,
             "#f1b6da"
            ],
            [
             0.4,
             "#fde0ef"
            ],
            [
             0.5,
             "#f7f7f7"
            ],
            [
             0.6,
             "#e6f5d0"
            ],
            [
             0.7,
             "#b8e186"
            ],
            [
             0.8,
             "#7fbc41"
            ],
            [
             0.9,
             "#4d9221"
            ],
            [
             1,
             "#276419"
            ]
           ],
           "sequential": [
            [
             0,
             "#0d0887"
            ],
            [
             0.1111111111111111,
             "#46039f"
            ],
            [
             0.2222222222222222,
             "#7201a8"
            ],
            [
             0.3333333333333333,
             "#9c179e"
            ],
            [
             0.4444444444444444,
             "#bd3786"
            ],
            [
             0.5555555555555556,
             "#d8576b"
            ],
            [
             0.6666666666666666,
             "#ed7953"
            ],
            [
             0.7777777777777778,
             "#fb9f3a"
            ],
            [
             0.8888888888888888,
             "#fdca26"
            ],
            [
             1,
             "#f0f921"
            ]
           ],
           "sequentialminus": [
            [
             0,
             "#0d0887"
            ],
            [
             0.1111111111111111,
             "#46039f"
            ],
            [
             0.2222222222222222,
             "#7201a8"
            ],
            [
             0.3333333333333333,
             "#9c179e"
            ],
            [
             0.4444444444444444,
             "#bd3786"
            ],
            [
             0.5555555555555556,
             "#d8576b"
            ],
            [
             0.6666666666666666,
             "#ed7953"
            ],
            [
             0.7777777777777778,
             "#fb9f3a"
            ],
            [
             0.8888888888888888,
             "#fdca26"
            ],
            [
             1,
             "#f0f921"
            ]
           ]
          },
          "colorway": [
           "#636efa",
           "#EF553B",
           "#00cc96",
           "#ab63fa",
           "#FFA15A",
           "#19d3f3",
           "#FF6692",
           "#B6E880",
           "#FF97FF",
           "#FECB52"
          ],
          "font": {
           "color": "#2a3f5f"
          },
          "geo": {
           "bgcolor": "white",
           "lakecolor": "white",
           "landcolor": "#E5ECF6",
           "showlakes": true,
           "showland": true,
           "subunitcolor": "white"
          },
          "hoverlabel": {
           "align": "left"
          },
          "hovermode": "closest",
          "mapbox": {
           "style": "light"
          },
          "paper_bgcolor": "white",
          "plot_bgcolor": "#E5ECF6",
          "polar": {
           "angularaxis": {
            "gridcolor": "white",
            "linecolor": "white",
            "ticks": ""
           },
           "bgcolor": "#E5ECF6",
           "radialaxis": {
            "gridcolor": "white",
            "linecolor": "white",
            "ticks": ""
           }
          },
          "scene": {
           "xaxis": {
            "backgroundcolor": "#E5ECF6",
            "gridcolor": "white",
            "gridwidth": 2,
            "linecolor": "white",
            "showbackground": true,
            "ticks": "",
            "zerolinecolor": "white"
           },
           "yaxis": {
            "backgroundcolor": "#E5ECF6",
            "gridcolor": "white",
            "gridwidth": 2,
            "linecolor": "white",
            "showbackground": true,
            "ticks": "",
            "zerolinecolor": "white"
           },
           "zaxis": {
            "backgroundcolor": "#E5ECF6",
            "gridcolor": "white",
            "gridwidth": 2,
            "linecolor": "white",
            "showbackground": true,
            "ticks": "",
            "zerolinecolor": "white"
           }
          },
          "shapedefaults": {
           "line": {
            "color": "#2a3f5f"
           }
          },
          "ternary": {
           "aaxis": {
            "gridcolor": "white",
            "linecolor": "white",
            "ticks": ""
           },
           "baxis": {
            "gridcolor": "white",
            "linecolor": "white",
            "ticks": ""
           },
           "bgcolor": "#E5ECF6",
           "caxis": {
            "gridcolor": "white",
            "linecolor": "white",
            "ticks": ""
           }
          },
          "title": {
           "x": 0.05
          },
          "xaxis": {
           "automargin": true,
           "gridcolor": "white",
           "linecolor": "white",
           "ticks": "",
           "title": {
            "standoff": 15
           },
           "zerolinecolor": "white",
           "zerolinewidth": 2
          },
          "yaxis": {
           "automargin": true,
           "gridcolor": "white",
           "linecolor": "white",
           "ticks": "",
           "title": {
            "standoff": 15
           },
           "zerolinecolor": "white",
           "zerolinewidth": 2
          }
         }
        },
        "title": {
         "text": "Contour Plot"
        },
        "xaxis": {
         "range": [
          13.7,
          130.3
         ],
         "title": {
          "text": "opt_bs"
         }
        },
        "yaxis": {
         "range": [
          -6.004850964398496,
          -1.9321884659092936
         ],
         "title": {
          "text": "opt_lr"
         },
         "type": "log"
        }
       }
      }
     },
     "metadata": {},
     "output_type": "display_data"
    }
   ],
   "source": [
    "from optuna.visualization import plot_contour\n",
    "plot_contour(study, params=[\"opt_lr\", \"opt_bs\"])"
   ]
  },
  {
   "cell_type": "code",
   "execution_count": 19,
   "metadata": {},
   "outputs": [
    {
     "data": {
      "application/vnd.plotly.v1+json": {
       "config": {
        "plotlyServerURL": "https://plot.ly"
       },
       "data": [
        {
         "cliponaxis": false,
         "hovertemplate": [
          "opt_lr (FloatDistribution): 0.14288755330086902<extra></extra>",
          "opt_bs (IntDistribution): 0.2733913704917298<extra></extra>",
          "opt_num_hidden_dense_units (IntDistribution): 0.5837210762074013<extra></extra>"
         ],
         "name": "Objective Value",
         "orientation": "h",
         "text": [
          "0.14",
          "0.27",
          "0.58"
         ],
         "textposition": "outside",
         "type": "bar",
         "x": [
          0.14288755330086902,
          0.2733913704917298,
          0.5837210762074013
         ],
         "y": [
          "opt_lr",
          "opt_bs",
          "opt_num_hidden_dense_units"
         ]
        }
       ],
       "layout": {
        "template": {
         "data": {
          "bar": [
           {
            "error_x": {
             "color": "#2a3f5f"
            },
            "error_y": {
             "color": "#2a3f5f"
            },
            "marker": {
             "line": {
              "color": "#E5ECF6",
              "width": 0.5
             },
             "pattern": {
              "fillmode": "overlay",
              "size": 10,
              "solidity": 0.2
             }
            },
            "type": "bar"
           }
          ],
          "barpolar": [
           {
            "marker": {
             "line": {
              "color": "#E5ECF6",
              "width": 0.5
             },
             "pattern": {
              "fillmode": "overlay",
              "size": 10,
              "solidity": 0.2
             }
            },
            "type": "barpolar"
           }
          ],
          "carpet": [
           {
            "aaxis": {
             "endlinecolor": "#2a3f5f",
             "gridcolor": "white",
             "linecolor": "white",
             "minorgridcolor": "white",
             "startlinecolor": "#2a3f5f"
            },
            "baxis": {
             "endlinecolor": "#2a3f5f",
             "gridcolor": "white",
             "linecolor": "white",
             "minorgridcolor": "white",
             "startlinecolor": "#2a3f5f"
            },
            "type": "carpet"
           }
          ],
          "choropleth": [
           {
            "colorbar": {
             "outlinewidth": 0,
             "ticks": ""
            },
            "type": "choropleth"
           }
          ],
          "contour": [
           {
            "colorbar": {
             "outlinewidth": 0,
             "ticks": ""
            },
            "colorscale": [
             [
              0,
              "#0d0887"
             ],
             [
              0.1111111111111111,
              "#46039f"
             ],
             [
              0.2222222222222222,
              "#7201a8"
             ],
             [
              0.3333333333333333,
              "#9c179e"
             ],
             [
              0.4444444444444444,
              "#bd3786"
             ],
             [
              0.5555555555555556,
              "#d8576b"
             ],
             [
              0.6666666666666666,
              "#ed7953"
             ],
             [
              0.7777777777777778,
              "#fb9f3a"
             ],
             [
              0.8888888888888888,
              "#fdca26"
             ],
             [
              1,
              "#f0f921"
             ]
            ],
            "type": "contour"
           }
          ],
          "contourcarpet": [
           {
            "colorbar": {
             "outlinewidth": 0,
             "ticks": ""
            },
            "type": "contourcarpet"
           }
          ],
          "heatmap": [
           {
            "colorbar": {
             "outlinewidth": 0,
             "ticks": ""
            },
            "colorscale": [
             [
              0,
              "#0d0887"
             ],
             [
              0.1111111111111111,
              "#46039f"
             ],
             [
              0.2222222222222222,
              "#7201a8"
             ],
             [
              0.3333333333333333,
              "#9c179e"
             ],
             [
              0.4444444444444444,
              "#bd3786"
             ],
             [
              0.5555555555555556,
              "#d8576b"
             ],
             [
              0.6666666666666666,
              "#ed7953"
             ],
             [
              0.7777777777777778,
              "#fb9f3a"
             ],
             [
              0.8888888888888888,
              "#fdca26"
             ],
             [
              1,
              "#f0f921"
             ]
            ],
            "type": "heatmap"
           }
          ],
          "heatmapgl": [
           {
            "colorbar": {
             "outlinewidth": 0,
             "ticks": ""
            },
            "colorscale": [
             [
              0,
              "#0d0887"
             ],
             [
              0.1111111111111111,
              "#46039f"
             ],
             [
              0.2222222222222222,
              "#7201a8"
             ],
             [
              0.3333333333333333,
              "#9c179e"
             ],
             [
              0.4444444444444444,
              "#bd3786"
             ],
             [
              0.5555555555555556,
              "#d8576b"
             ],
             [
              0.6666666666666666,
              "#ed7953"
             ],
             [
              0.7777777777777778,
              "#fb9f3a"
             ],
             [
              0.8888888888888888,
              "#fdca26"
             ],
             [
              1,
              "#f0f921"
             ]
            ],
            "type": "heatmapgl"
           }
          ],
          "histogram": [
           {
            "marker": {
             "pattern": {
              "fillmode": "overlay",
              "size": 10,
              "solidity": 0.2
             }
            },
            "type": "histogram"
           }
          ],
          "histogram2d": [
           {
            "colorbar": {
             "outlinewidth": 0,
             "ticks": ""
            },
            "colorscale": [
             [
              0,
              "#0d0887"
             ],
             [
              0.1111111111111111,
              "#46039f"
             ],
             [
              0.2222222222222222,
              "#7201a8"
             ],
             [
              0.3333333333333333,
              "#9c179e"
             ],
             [
              0.4444444444444444,
              "#bd3786"
             ],
             [
              0.5555555555555556,
              "#d8576b"
             ],
             [
              0.6666666666666666,
              "#ed7953"
             ],
             [
              0.7777777777777778,
              "#fb9f3a"
             ],
             [
              0.8888888888888888,
              "#fdca26"
             ],
             [
              1,
              "#f0f921"
             ]
            ],
            "type": "histogram2d"
           }
          ],
          "histogram2dcontour": [
           {
            "colorbar": {
             "outlinewidth": 0,
             "ticks": ""
            },
            "colorscale": [
             [
              0,
              "#0d0887"
             ],
             [
              0.1111111111111111,
              "#46039f"
             ],
             [
              0.2222222222222222,
              "#7201a8"
             ],
             [
              0.3333333333333333,
              "#9c179e"
             ],
             [
              0.4444444444444444,
              "#bd3786"
             ],
             [
              0.5555555555555556,
              "#d8576b"
             ],
             [
              0.6666666666666666,
              "#ed7953"
             ],
             [
              0.7777777777777778,
              "#fb9f3a"
             ],
             [
              0.8888888888888888,
              "#fdca26"
             ],
             [
              1,
              "#f0f921"
             ]
            ],
            "type": "histogram2dcontour"
           }
          ],
          "mesh3d": [
           {
            "colorbar": {
             "outlinewidth": 0,
             "ticks": ""
            },
            "type": "mesh3d"
           }
          ],
          "parcoords": [
           {
            "line": {
             "colorbar": {
              "outlinewidth": 0,
              "ticks": ""
             }
            },
            "type": "parcoords"
           }
          ],
          "pie": [
           {
            "automargin": true,
            "type": "pie"
           }
          ],
          "scatter": [
           {
            "fillpattern": {
             "fillmode": "overlay",
             "size": 10,
             "solidity": 0.2
            },
            "type": "scatter"
           }
          ],
          "scatter3d": [
           {
            "line": {
             "colorbar": {
              "outlinewidth": 0,
              "ticks": ""
             }
            },
            "marker": {
             "colorbar": {
              "outlinewidth": 0,
              "ticks": ""
             }
            },
            "type": "scatter3d"
           }
          ],
          "scattercarpet": [
           {
            "marker": {
             "colorbar": {
              "outlinewidth": 0,
              "ticks": ""
             }
            },
            "type": "scattercarpet"
           }
          ],
          "scattergeo": [
           {
            "marker": {
             "colorbar": {
              "outlinewidth": 0,
              "ticks": ""
             }
            },
            "type": "scattergeo"
           }
          ],
          "scattergl": [
           {
            "marker": {
             "colorbar": {
              "outlinewidth": 0,
              "ticks": ""
             }
            },
            "type": "scattergl"
           }
          ],
          "scattermapbox": [
           {
            "marker": {
             "colorbar": {
              "outlinewidth": 0,
              "ticks": ""
             }
            },
            "type": "scattermapbox"
           }
          ],
          "scatterpolar": [
           {
            "marker": {
             "colorbar": {
              "outlinewidth": 0,
              "ticks": ""
             }
            },
            "type": "scatterpolar"
           }
          ],
          "scatterpolargl": [
           {
            "marker": {
             "colorbar": {
              "outlinewidth": 0,
              "ticks": ""
             }
            },
            "type": "scatterpolargl"
           }
          ],
          "scatterternary": [
           {
            "marker": {
             "colorbar": {
              "outlinewidth": 0,
              "ticks": ""
             }
            },
            "type": "scatterternary"
           }
          ],
          "surface": [
           {
            "colorbar": {
             "outlinewidth": 0,
             "ticks": ""
            },
            "colorscale": [
             [
              0,
              "#0d0887"
             ],
             [
              0.1111111111111111,
              "#46039f"
             ],
             [
              0.2222222222222222,
              "#7201a8"
             ],
             [
              0.3333333333333333,
              "#9c179e"
             ],
             [
              0.4444444444444444,
              "#bd3786"
             ],
             [
              0.5555555555555556,
              "#d8576b"
             ],
             [
              0.6666666666666666,
              "#ed7953"
             ],
             [
              0.7777777777777778,
              "#fb9f3a"
             ],
             [
              0.8888888888888888,
              "#fdca26"
             ],
             [
              1,
              "#f0f921"
             ]
            ],
            "type": "surface"
           }
          ],
          "table": [
           {
            "cells": {
             "fill": {
              "color": "#EBF0F8"
             },
             "line": {
              "color": "white"
             }
            },
            "header": {
             "fill": {
              "color": "#C8D4E3"
             },
             "line": {
              "color": "white"
             }
            },
            "type": "table"
           }
          ]
         },
         "layout": {
          "annotationdefaults": {
           "arrowcolor": "#2a3f5f",
           "arrowhead": 0,
           "arrowwidth": 1
          },
          "autotypenumbers": "strict",
          "coloraxis": {
           "colorbar": {
            "outlinewidth": 0,
            "ticks": ""
           }
          },
          "colorscale": {
           "diverging": [
            [
             0,
             "#8e0152"
            ],
            [
             0.1,
             "#c51b7d"
            ],
            [
             0.2,
             "#de77ae"
            ],
            [
             0.3,
             "#f1b6da"
            ],
            [
             0.4,
             "#fde0ef"
            ],
            [
             0.5,
             "#f7f7f7"
            ],
            [
             0.6,
             "#e6f5d0"
            ],
            [
             0.7,
             "#b8e186"
            ],
            [
             0.8,
             "#7fbc41"
            ],
            [
             0.9,
             "#4d9221"
            ],
            [
             1,
             "#276419"
            ]
           ],
           "sequential": [
            [
             0,
             "#0d0887"
            ],
            [
             0.1111111111111111,
             "#46039f"
            ],
            [
             0.2222222222222222,
             "#7201a8"
            ],
            [
             0.3333333333333333,
             "#9c179e"
            ],
            [
             0.4444444444444444,
             "#bd3786"
            ],
            [
             0.5555555555555556,
             "#d8576b"
            ],
            [
             0.6666666666666666,
             "#ed7953"
            ],
            [
             0.7777777777777778,
             "#fb9f3a"
            ],
            [
             0.8888888888888888,
             "#fdca26"
            ],
            [
             1,
             "#f0f921"
            ]
           ],
           "sequentialminus": [
            [
             0,
             "#0d0887"
            ],
            [
             0.1111111111111111,
             "#46039f"
            ],
            [
             0.2222222222222222,
             "#7201a8"
            ],
            [
             0.3333333333333333,
             "#9c179e"
            ],
            [
             0.4444444444444444,
             "#bd3786"
            ],
            [
             0.5555555555555556,
             "#d8576b"
            ],
            [
             0.6666666666666666,
             "#ed7953"
            ],
            [
             0.7777777777777778,
             "#fb9f3a"
            ],
            [
             0.8888888888888888,
             "#fdca26"
            ],
            [
             1,
             "#f0f921"
            ]
           ]
          },
          "colorway": [
           "#636efa",
           "#EF553B",
           "#00cc96",
           "#ab63fa",
           "#FFA15A",
           "#19d3f3",
           "#FF6692",
           "#B6E880",
           "#FF97FF",
           "#FECB52"
          ],
          "font": {
           "color": "#2a3f5f"
          },
          "geo": {
           "bgcolor": "white",
           "lakecolor": "white",
           "landcolor": "#E5ECF6",
           "showlakes": true,
           "showland": true,
           "subunitcolor": "white"
          },
          "hoverlabel": {
           "align": "left"
          },
          "hovermode": "closest",
          "mapbox": {
           "style": "light"
          },
          "paper_bgcolor": "white",
          "plot_bgcolor": "#E5ECF6",
          "polar": {
           "angularaxis": {
            "gridcolor": "white",
            "linecolor": "white",
            "ticks": ""
           },
           "bgcolor": "#E5ECF6",
           "radialaxis": {
            "gridcolor": "white",
            "linecolor": "white",
            "ticks": ""
           }
          },
          "scene": {
           "xaxis": {
            "backgroundcolor": "#E5ECF6",
            "gridcolor": "white",
            "gridwidth": 2,
            "linecolor": "white",
            "showbackground": true,
            "ticks": "",
            "zerolinecolor": "white"
           },
           "yaxis": {
            "backgroundcolor": "#E5ECF6",
            "gridcolor": "white",
            "gridwidth": 2,
            "linecolor": "white",
            "showbackground": true,
            "ticks": "",
            "zerolinecolor": "white"
           },
           "zaxis": {
            "backgroundcolor": "#E5ECF6",
            "gridcolor": "white",
            "gridwidth": 2,
            "linecolor": "white",
            "showbackground": true,
            "ticks": "",
            "zerolinecolor": "white"
           }
          },
          "shapedefaults": {
           "line": {
            "color": "#2a3f5f"
           }
          },
          "ternary": {
           "aaxis": {
            "gridcolor": "white",
            "linecolor": "white",
            "ticks": ""
           },
           "baxis": {
            "gridcolor": "white",
            "linecolor": "white",
            "ticks": ""
           },
           "bgcolor": "#E5ECF6",
           "caxis": {
            "gridcolor": "white",
            "linecolor": "white",
            "ticks": ""
           }
          },
          "title": {
           "x": 0.05
          },
          "xaxis": {
           "automargin": true,
           "gridcolor": "white",
           "linecolor": "white",
           "ticks": "",
           "title": {
            "standoff": 15
           },
           "zerolinecolor": "white",
           "zerolinewidth": 2
          },
          "yaxis": {
           "automargin": true,
           "gridcolor": "white",
           "linecolor": "white",
           "ticks": "",
           "title": {
            "standoff": 15
           },
           "zerolinecolor": "white",
           "zerolinewidth": 2
          }
         }
        },
        "title": {
         "text": "Hyperparameter Importances"
        },
        "xaxis": {
         "title": {
          "text": "Hyperparameter Importance"
         }
        },
        "yaxis": {
         "title": {
          "text": "Hyperparameter"
         }
        }
       }
      }
     },
     "metadata": {},
     "output_type": "display_data"
    }
   ],
   "source": [
    "from optuna.visualization import plot_param_importances\n",
    "plot_param_importances(study)"
   ]
  },
  {
   "cell_type": "code",
   "execution_count": 20,
   "metadata": {},
   "outputs": [
    {
     "name": "stdout",
     "output_type": "stream",
     "text": [
      "Found num hidden dense units: 504\n",
      "Found learning rate: 0.001779648066993526\n",
      "Found batch size: 78\n"
     ]
    }
   ],
   "source": [
    "best_params = study.best_params\n",
    "found_opt_num_hidden_dense_units = best_params[\"opt_num_hidden_dense_units\"]\n",
    "found_opt_lr = best_params[\"opt_lr\"]\n",
    "found_opt_bs = best_params[\"opt_bs\"]\n",
    "print(\"Found num hidden dense units: {}\".format(found_opt_num_hidden_dense_units))\n",
    "print(\"Found learning rate: {}\".format(found_opt_lr))\n",
    "print(\"Found batch size: {}\".format(found_opt_bs))"
   ]
  },
  {
   "cell_type": "code",
   "execution_count": 24,
   "metadata": {},
   "outputs": [],
   "source": [
    "inputs = keras.Input(shape=(IMG_SIZE, IMG_SIZE, 3))\n",
    "x = layers.Rescaling(1./255)(inputs)\n",
    "x = layers.Conv2D(filters=4, kernel_size=5, activation=\"relu\")(x)\n",
    "x = layers.MaxPooling2D(pool_size=2)(x)\n",
    "x = layers.Conv2D(filters=8, kernel_size=5, activation=\"relu\")(x)\n",
    "x = layers.MaxPooling2D(pool_size=2)(x)\n",
    "x = layers.Conv2D(filters=8, kernel_size=5, activation=\"relu\")(x)\n",
    "x = layers.MaxPooling2D(pool_size=2)(x)\n",
    "x = layers.Conv2D(filters=16, kernel_size=5, activation=\"relu\")(x)\n",
    "x = layers.MaxPooling2D(pool_size=2)(x)\n",
    "x = layers.Flatten()(x)\n",
    "x = layers.Dropout(0.5)(x)\n",
    "x = layers.Dense(found_opt_num_hidden_dense_units, activation=\"relu\")(x)\n",
    "outputs = layers.Dense(1, activation=\"sigmoid\")(x)\n",
    "model = keras.Model(inputs=inputs, outputs=outputs)\n"
   ]
  },
  {
   "cell_type": "code",
   "execution_count": 26,
   "metadata": {},
   "outputs": [],
   "source": [
    "model.compile(\n",
    "    loss=\"binary_crossentropy\", \n",
    "    optimizer=tf.keras.optimizers.RMSprop(learning_rate=found_opt_lr), \n",
    "    metrics=['acc'])"
   ]
  },
  {
   "cell_type": "code",
   "execution_count": 25,
   "metadata": {},
   "outputs": [],
   "source": [
    "checkpoint_filepath = 'models/3-4/ch-{epoch:03d}.ckpt'\n",
    "callbacks = keras.callbacks.ModelCheckpoint(\n",
    "    filepath=checkpoint_filepath,\n",
    "    save_best_only=True,\n",
    "    monitor='val_loss',\n",
    "    verbose=1)"
   ]
  },
  {
   "cell_type": "code",
   "execution_count": 27,
   "metadata": {},
   "outputs": [
    {
     "name": "stdout",
     "output_type": "stream",
     "text": [
      "Epoch 1/40\n",
      "94/94 [==============================] - ETA: 0s - loss: 0.6986 - acc: 0.4907\n",
      "Epoch 1: val_loss improved from inf to 0.69284, saving model to models/3-4/ch-001.ckpt\n",
      "INFO:tensorflow:Assets written to: models/3-4/ch-001.ckpt/assets\n"
     ]
    },
    {
     "name": "stderr",
     "output_type": "stream",
     "text": [
      "INFO:tensorflow:Assets written to: models/3-4/ch-001.ckpt/assets\n"
     ]
    },
    {
     "name": "stdout",
     "output_type": "stream",
     "text": [
      "94/94 [==============================] - 7s 59ms/step - loss: 0.6986 - acc: 0.4907 - val_loss: 0.6928 - val_acc: 0.5130\n",
      "Epoch 2/40\n",
      "93/94 [============================>.] - ETA: 0s - loss: 0.6965 - acc: 0.5168\n",
      "Epoch 2: val_loss improved from 0.69284 to 0.69238, saving model to models/3-4/ch-002.ckpt\n",
      "INFO:tensorflow:Assets written to: models/3-4/ch-002.ckpt/assets\n"
     ]
    },
    {
     "name": "stderr",
     "output_type": "stream",
     "text": [
      "INFO:tensorflow:Assets written to: models/3-4/ch-002.ckpt/assets\n"
     ]
    },
    {
     "name": "stdout",
     "output_type": "stream",
     "text": [
      "94/94 [==============================] - 6s 62ms/step - loss: 0.6964 - acc: 0.5170 - val_loss: 0.6924 - val_acc: 0.5190\n",
      "Epoch 3/40\n",
      "94/94 [==============================] - ETA: 0s - loss: 0.6934 - acc: 0.5117\n",
      "Epoch 3: val_loss did not improve from 0.69238\n",
      "94/94 [==============================] - 5s 47ms/step - loss: 0.6934 - acc: 0.5117 - val_loss: 0.6935 - val_acc: 0.5070\n",
      "Epoch 4/40\n",
      "93/94 [============================>.] - ETA: 0s - loss: 0.6949 - acc: 0.5339\n",
      "Epoch 4: val_loss improved from 0.69238 to 0.69095, saving model to models/3-4/ch-004.ckpt\n",
      "INFO:tensorflow:Assets written to: models/3-4/ch-004.ckpt/assets\n"
     ]
    },
    {
     "name": "stderr",
     "output_type": "stream",
     "text": [
      "INFO:tensorflow:Assets written to: models/3-4/ch-004.ckpt/assets\n"
     ]
    },
    {
     "name": "stdout",
     "output_type": "stream",
     "text": [
      "94/94 [==============================] - 5s 55ms/step - loss: 0.6948 - acc: 0.5343 - val_loss: 0.6910 - val_acc: 0.5300\n",
      "Epoch 5/40\n",
      "93/94 [============================>.] - ETA: 0s - loss: 0.6883 - acc: 0.5390\n",
      "Epoch 5: val_loss did not improve from 0.69095\n",
      "94/94 [==============================] - 4s 43ms/step - loss: 0.6883 - acc: 0.5377 - val_loss: 0.6930 - val_acc: 0.5430\n",
      "Epoch 6/40\n",
      "93/94 [============================>.] - ETA: 0s - loss: 0.6782 - acc: 0.5806\n",
      "Epoch 6: val_loss improved from 0.69095 to 0.68823, saving model to models/3-4/ch-006.ckpt\n",
      "INFO:tensorflow:Assets written to: models/3-4/ch-006.ckpt/assets\n"
     ]
    },
    {
     "name": "stderr",
     "output_type": "stream",
     "text": [
      "INFO:tensorflow:Assets written to: models/3-4/ch-006.ckpt/assets\n"
     ]
    },
    {
     "name": "stdout",
     "output_type": "stream",
     "text": [
      "94/94 [==============================] - 5s 51ms/step - loss: 0.6783 - acc: 0.5807 - val_loss: 0.6882 - val_acc: 0.5460\n",
      "Epoch 7/40\n",
      "93/94 [============================>.] - ETA: 0s - loss: 0.6305 - acc: 0.6707\n",
      "Epoch 7: val_loss improved from 0.68823 to 0.57849, saving model to models/3-4/ch-007.ckpt\n",
      "INFO:tensorflow:Assets written to: models/3-4/ch-007.ckpt/assets\n"
     ]
    },
    {
     "name": "stderr",
     "output_type": "stream",
     "text": [
      "INFO:tensorflow:Assets written to: models/3-4/ch-007.ckpt/assets\n"
     ]
    },
    {
     "name": "stdout",
     "output_type": "stream",
     "text": [
      "94/94 [==============================] - 5s 55ms/step - loss: 0.6304 - acc: 0.6707 - val_loss: 0.5785 - val_acc: 0.7140\n",
      "Epoch 8/40\n",
      "94/94 [==============================] - ETA: 0s - loss: 0.4379 - acc: 0.8223\n",
      "Epoch 8: val_loss improved from 0.57849 to 0.34372, saving model to models/3-4/ch-008.ckpt\n",
      "INFO:tensorflow:Assets written to: models/3-4/ch-008.ckpt/assets\n"
     ]
    },
    {
     "name": "stderr",
     "output_type": "stream",
     "text": [
      "INFO:tensorflow:Assets written to: models/3-4/ch-008.ckpt/assets\n"
     ]
    },
    {
     "name": "stdout",
     "output_type": "stream",
     "text": [
      "94/94 [==============================] - 5s 53ms/step - loss: 0.4379 - acc: 0.8223 - val_loss: 0.3437 - val_acc: 0.8800\n",
      "Epoch 9/40\n",
      "94/94 [==============================] - ETA: 0s - loss: 0.2886 - acc: 0.8913\n",
      "Epoch 9: val_loss improved from 0.34372 to 0.22871, saving model to models/3-4/ch-009.ckpt\n",
      "INFO:tensorflow:Assets written to: models/3-4/ch-009.ckpt/assets\n"
     ]
    },
    {
     "name": "stderr",
     "output_type": "stream",
     "text": [
      "INFO:tensorflow:Assets written to: models/3-4/ch-009.ckpt/assets\n"
     ]
    },
    {
     "name": "stdout",
     "output_type": "stream",
     "text": [
      "94/94 [==============================] - 5s 54ms/step - loss: 0.2886 - acc: 0.8913 - val_loss: 0.2287 - val_acc: 0.9280\n",
      "Epoch 10/40\n",
      "94/94 [==============================] - ETA: 0s - loss: 0.2327 - acc: 0.9060\n",
      "Epoch 10: val_loss improved from 0.22871 to 0.20601, saving model to models/3-4/ch-010.ckpt\n",
      "INFO:tensorflow:Assets written to: models/3-4/ch-010.ckpt/assets\n"
     ]
    },
    {
     "name": "stderr",
     "output_type": "stream",
     "text": [
      "INFO:tensorflow:Assets written to: models/3-4/ch-010.ckpt/assets\n"
     ]
    },
    {
     "name": "stdout",
     "output_type": "stream",
     "text": [
      "94/94 [==============================] - 5s 55ms/step - loss: 0.2327 - acc: 0.9060 - val_loss: 0.2060 - val_acc: 0.9420\n",
      "Epoch 11/40\n",
      "93/94 [============================>.] - ETA: 0s - loss: 0.1867 - acc: 0.9308\n",
      "Epoch 11: val_loss improved from 0.20601 to 0.19132, saving model to models/3-4/ch-011.ckpt\n",
      "INFO:tensorflow:Assets written to: models/3-4/ch-011.ckpt/assets\n"
     ]
    },
    {
     "name": "stderr",
     "output_type": "stream",
     "text": [
      "INFO:tensorflow:Assets written to: models/3-4/ch-011.ckpt/assets\n"
     ]
    },
    {
     "name": "stdout",
     "output_type": "stream",
     "text": [
      "94/94 [==============================] - 6s 59ms/step - loss: 0.1859 - acc: 0.9310 - val_loss: 0.1913 - val_acc: 0.9460\n",
      "Epoch 12/40\n",
      "93/94 [============================>.] - ETA: 0s - loss: 0.1689 - acc: 0.9395\n",
      "Epoch 12: val_loss improved from 0.19132 to 0.17900, saving model to models/3-4/ch-012.ckpt\n",
      "INFO:tensorflow:Assets written to: models/3-4/ch-012.ckpt/assets\n"
     ]
    },
    {
     "name": "stderr",
     "output_type": "stream",
     "text": [
      "INFO:tensorflow:Assets written to: models/3-4/ch-012.ckpt/assets\n"
     ]
    },
    {
     "name": "stdout",
     "output_type": "stream",
     "text": [
      "94/94 [==============================] - 5s 55ms/step - loss: 0.1692 - acc: 0.9393 - val_loss: 0.1790 - val_acc: 0.9420\n",
      "Epoch 13/40\n",
      "93/94 [============================>.] - ETA: 0s - loss: 0.1554 - acc: 0.9412\n",
      "Epoch 13: val_loss improved from 0.17900 to 0.14664, saving model to models/3-4/ch-013.ckpt\n",
      "INFO:tensorflow:Assets written to: models/3-4/ch-013.ckpt/assets\n"
     ]
    },
    {
     "name": "stderr",
     "output_type": "stream",
     "text": [
      "INFO:tensorflow:Assets written to: models/3-4/ch-013.ckpt/assets\n"
     ]
    },
    {
     "name": "stdout",
     "output_type": "stream",
     "text": [
      "94/94 [==============================] - 5s 53ms/step - loss: 0.1551 - acc: 0.9410 - val_loss: 0.1466 - val_acc: 0.9470\n",
      "Epoch 14/40\n",
      "94/94 [==============================] - ETA: 0s - loss: 0.1277 - acc: 0.9580\n",
      "Epoch 14: val_loss did not improve from 0.14664\n",
      "94/94 [==============================] - 5s 46ms/step - loss: 0.1277 - acc: 0.9580 - val_loss: 0.2021 - val_acc: 0.9440\n",
      "Epoch 15/40\n",
      "94/94 [==============================] - ETA: 0s - loss: 0.1091 - acc: 0.9563\n",
      "Epoch 15: val_loss did not improve from 0.14664\n",
      "94/94 [==============================] - 5s 46ms/step - loss: 0.1091 - acc: 0.9563 - val_loss: 0.1850 - val_acc: 0.9590\n",
      "Epoch 16/40\n",
      "93/94 [============================>.] - ETA: 0s - loss: 0.1027 - acc: 0.9603\n",
      "Epoch 16: val_loss did not improve from 0.14664\n",
      "94/94 [==============================] - 4s 45ms/step - loss: 0.1025 - acc: 0.9603 - val_loss: 0.1476 - val_acc: 0.9470\n",
      "Epoch 17/40\n",
      "93/94 [============================>.] - ETA: 0s - loss: 0.0988 - acc: 0.9620\n",
      "Epoch 17: val_loss did not improve from 0.14664\n",
      "94/94 [==============================] - 4s 43ms/step - loss: 0.0983 - acc: 0.9620 - val_loss: 0.1820 - val_acc: 0.9610\n",
      "Epoch 18/40\n",
      "93/94 [============================>.] - ETA: 0s - loss: 0.0948 - acc: 0.9671\n",
      "Epoch 18: val_loss did not improve from 0.14664\n",
      "94/94 [==============================] - 5s 46ms/step - loss: 0.0942 - acc: 0.9673 - val_loss: 0.1681 - val_acc: 0.9590\n",
      "Epoch 19/40\n",
      "94/94 [==============================] - ETA: 0s - loss: 0.0859 - acc: 0.9647\n",
      "Epoch 19: val_loss did not improve from 0.14664\n",
      "94/94 [==============================] - 4s 45ms/step - loss: 0.0859 - acc: 0.9647 - val_loss: 0.1743 - val_acc: 0.9570\n",
      "Epoch 20/40\n",
      "94/94 [==============================] - ETA: 0s - loss: 0.0879 - acc: 0.9673\n",
      "Epoch 20: val_loss did not improve from 0.14664\n",
      "94/94 [==============================] - 4s 44ms/step - loss: 0.0879 - acc: 0.9673 - val_loss: 0.1836 - val_acc: 0.9590\n",
      "Epoch 21/40\n",
      "94/94 [==============================] - ETA: 0s - loss: 0.0758 - acc: 0.9737\n",
      "Epoch 21: val_loss improved from 0.14664 to 0.11917, saving model to models/3-4/ch-021.ckpt\n",
      "INFO:tensorflow:Assets written to: models/3-4/ch-021.ckpt/assets\n"
     ]
    },
    {
     "name": "stderr",
     "output_type": "stream",
     "text": [
      "INFO:tensorflow:Assets written to: models/3-4/ch-021.ckpt/assets\n"
     ]
    },
    {
     "name": "stdout",
     "output_type": "stream",
     "text": [
      "94/94 [==============================] - 5s 54ms/step - loss: 0.0758 - acc: 0.9737 - val_loss: 0.1192 - val_acc: 0.9590\n",
      "Epoch 22/40\n",
      "94/94 [==============================] - ETA: 0s - loss: 0.0746 - acc: 0.9710\n",
      "Epoch 22: val_loss did not improve from 0.11917\n",
      "94/94 [==============================] - 5s 45ms/step - loss: 0.0746 - acc: 0.9710 - val_loss: 0.1501 - val_acc: 0.9590\n",
      "Epoch 23/40\n",
      "94/94 [==============================] - ETA: 0s - loss: 0.0634 - acc: 0.9757\n",
      "Epoch 23: val_loss did not improve from 0.11917\n",
      "94/94 [==============================] - 4s 45ms/step - loss: 0.0634 - acc: 0.9757 - val_loss: 0.1666 - val_acc: 0.9620\n",
      "Epoch 24/40\n",
      "93/94 [============================>.] - ETA: 0s - loss: 0.0711 - acc: 0.9761\n",
      "Epoch 24: val_loss did not improve from 0.11917\n",
      "94/94 [==============================] - 4s 45ms/step - loss: 0.0713 - acc: 0.9760 - val_loss: 0.1869 - val_acc: 0.9580\n",
      "Epoch 25/40\n",
      "93/94 [============================>.] - ETA: 0s - loss: 0.0564 - acc: 0.9795\n",
      "Epoch 25: val_loss improved from 0.11917 to 0.11028, saving model to models/3-4/ch-025.ckpt\n",
      "INFO:tensorflow:Assets written to: models/3-4/ch-025.ckpt/assets\n"
     ]
    },
    {
     "name": "stderr",
     "output_type": "stream",
     "text": [
      "INFO:tensorflow:Assets written to: models/3-4/ch-025.ckpt/assets\n"
     ]
    },
    {
     "name": "stdout",
     "output_type": "stream",
     "text": [
      "94/94 [==============================] - 5s 56ms/step - loss: 0.0633 - acc: 0.9787 - val_loss: 0.1103 - val_acc: 0.9610\n",
      "Epoch 26/40\n",
      "94/94 [==============================] - ETA: 0s - loss: 0.0614 - acc: 0.9760\n",
      "Epoch 26: val_loss improved from 0.11028 to 0.10452, saving model to models/3-4/ch-026.ckpt\n",
      "INFO:tensorflow:Assets written to: models/3-4/ch-026.ckpt/assets\n"
     ]
    },
    {
     "name": "stderr",
     "output_type": "stream",
     "text": [
      "INFO:tensorflow:Assets written to: models/3-4/ch-026.ckpt/assets\n"
     ]
    },
    {
     "name": "stdout",
     "output_type": "stream",
     "text": [
      "94/94 [==============================] - 5s 54ms/step - loss: 0.0614 - acc: 0.9760 - val_loss: 0.1045 - val_acc: 0.9690\n",
      "Epoch 27/40\n",
      "94/94 [==============================] - ETA: 0s - loss: 0.0514 - acc: 0.9810\n",
      "Epoch 27: val_loss did not improve from 0.10452\n",
      "94/94 [==============================] - 4s 44ms/step - loss: 0.0514 - acc: 0.9810 - val_loss: 0.1319 - val_acc: 0.9580\n",
      "Epoch 28/40\n",
      "93/94 [============================>.] - ETA: 0s - loss: 0.0697 - acc: 0.9798\n",
      "Epoch 28: val_loss improved from 0.10452 to 0.08458, saving model to models/3-4/ch-028.ckpt\n",
      "INFO:tensorflow:Assets written to: models/3-4/ch-028.ckpt/assets\n"
     ]
    },
    {
     "name": "stderr",
     "output_type": "stream",
     "text": [
      "INFO:tensorflow:Assets written to: models/3-4/ch-028.ckpt/assets\n"
     ]
    },
    {
     "name": "stdout",
     "output_type": "stream",
     "text": [
      "94/94 [==============================] - 5s 53ms/step - loss: 0.0702 - acc: 0.9793 - val_loss: 0.0846 - val_acc: 0.9700\n",
      "Epoch 29/40\n",
      "94/94 [==============================] - ETA: 0s - loss: 0.0498 - acc: 0.9840\n",
      "Epoch 29: val_loss did not improve from 0.08458\n",
      "94/94 [==============================] - 5s 46ms/step - loss: 0.0498 - acc: 0.9840 - val_loss: 0.1457 - val_acc: 0.9600\n",
      "Epoch 30/40\n",
      "93/94 [============================>.] - ETA: 0s - loss: 0.0557 - acc: 0.9832\n",
      "Epoch 30: val_loss did not improve from 0.08458\n",
      "94/94 [==============================] - 4s 43ms/step - loss: 0.0553 - acc: 0.9833 - val_loss: 0.1160 - val_acc: 0.9660\n",
      "Epoch 31/40\n",
      "94/94 [==============================] - ETA: 0s - loss: 0.0359 - acc: 0.9880\n",
      "Epoch 31: val_loss did not improve from 0.08458\n",
      "94/94 [==============================] - 4s 44ms/step - loss: 0.0359 - acc: 0.9880 - val_loss: 0.1610 - val_acc: 0.9670\n",
      "Epoch 32/40\n",
      "93/94 [============================>.] - ETA: 0s - loss: 0.0358 - acc: 0.9859\n",
      "Epoch 32: val_loss did not improve from 0.08458\n",
      "94/94 [==============================] - 5s 46ms/step - loss: 0.0358 - acc: 0.9860 - val_loss: 0.1318 - val_acc: 0.9610\n",
      "Epoch 33/40\n",
      "93/94 [============================>.] - ETA: 0s - loss: 0.0484 - acc: 0.9879\n",
      "Epoch 33: val_loss did not improve from 0.08458\n",
      "94/94 [==============================] - 4s 44ms/step - loss: 0.0481 - acc: 0.9880 - val_loss: 0.1412 - val_acc: 0.9730\n",
      "Epoch 34/40\n",
      "94/94 [==============================] - ETA: 0s - loss: 0.0366 - acc: 0.9893\n",
      "Epoch 34: val_loss did not improve from 0.08458\n",
      "94/94 [==============================] - 5s 46ms/step - loss: 0.0366 - acc: 0.9893 - val_loss: 0.1142 - val_acc: 0.9580\n",
      "Epoch 35/40\n",
      "93/94 [============================>.] - ETA: 0s - loss: 0.0352 - acc: 0.9872\n",
      "Epoch 35: val_loss did not improve from 0.08458\n",
      "94/94 [==============================] - 4s 43ms/step - loss: 0.0349 - acc: 0.9873 - val_loss: 0.1200 - val_acc: 0.9710\n",
      "Epoch 36/40\n",
      "94/94 [==============================] - ETA: 0s - loss: 0.0384 - acc: 0.9883\n",
      "Epoch 36: val_loss did not improve from 0.08458\n",
      "94/94 [==============================] - 5s 46ms/step - loss: 0.0384 - acc: 0.9883 - val_loss: 0.1342 - val_acc: 0.9680\n",
      "Epoch 37/40\n",
      "93/94 [============================>.] - ETA: 0s - loss: 0.0362 - acc: 0.9906\n",
      "Epoch 37: val_loss did not improve from 0.08458\n",
      "94/94 [==============================] - 5s 49ms/step - loss: 0.0359 - acc: 0.9907 - val_loss: 0.1287 - val_acc: 0.9680\n",
      "Epoch 38/40\n",
      "94/94 [==============================] - ETA: 0s - loss: 0.0372 - acc: 0.9877\n",
      "Epoch 38: val_loss did not improve from 0.08458\n",
      "94/94 [==============================] - 5s 48ms/step - loss: 0.0372 - acc: 0.9877 - val_loss: 0.1289 - val_acc: 0.9730\n",
      "Epoch 39/40\n",
      "93/94 [============================>.] - ETA: 0s - loss: 0.0257 - acc: 0.9919\n",
      "Epoch 39: val_loss did not improve from 0.08458\n",
      "94/94 [==============================] - 5s 47ms/step - loss: 0.0256 - acc: 0.9920 - val_loss: 0.2102 - val_acc: 0.9660\n",
      "Epoch 40/40\n",
      "93/94 [============================>.] - ETA: 0s - loss: 0.0441 - acc: 0.9882\n",
      "Epoch 40: val_loss did not improve from 0.08458\n",
      "94/94 [==============================] - 5s 46ms/step - loss: 0.0438 - acc: 0.9883 - val_loss: 0.1379 - val_acc: 0.9710\n"
     ]
    }
   ],
   "source": [
    "#Best Epoch = ?\n",
    "\n",
    "history = model.fit(train_dataset, epochs=40, batch_size=found_opt_bs, validation_data=test_dataset, callbacks=[callbacks])"
   ]
  },
  {
   "cell_type": "code",
   "execution_count": null,
   "metadata": {},
   "outputs": [],
   "source": [
    "model = keras.models.load_model('models/3-4/3-4-C.keras')"
   ]
  },
  {
   "cell_type": "code",
   "execution_count": 28,
   "metadata": {},
   "outputs": [
    {
     "name": "stdout",
     "output_type": "stream",
     "text": [
      "32/32 [==============================] - 1s 30ms/step - loss: 0.1379 - acc: 0.9710\n",
      "0.13786199688911438 0.9710000157356262\n"
     ]
    }
   ],
   "source": [
    "val_loss, val_acc = model.evaluate(test_dataset, batch_size=64)\n",
    "print(val_loss, val_acc)"
   ]
  },
  {
   "cell_type": "code",
   "execution_count": null,
   "metadata": {},
   "outputs": [],
   "source": [
    "# show model architecture\n",
    "model.summary()"
   ]
  },
  {
   "cell_type": "code",
   "execution_count": 35,
   "metadata": {},
   "outputs": [
    {
     "data": {
      "image/png": "[encoded data removed]",
      "text/plain": [
       "<Figure size 640x480 with 1 Axes>"
      ]
     },
     "metadata": {},
     "output_type": "display_data"
    },
    {
     "data": {
      "image/png": "[encoded data removed]",
      "text/plain": [
       "<Figure size 640x480 with 1 Axes>"
      ]
     },
     "metadata": {},
     "output_type": "display_data"
    }
   ],
   "source": [
    "acc = history.history['acc']\n",
    "val_acc = history.history['val_acc']\n",
    "loss = history.history['loss']\n",
    "val_loss = history.history['val_loss']\n",
    "epochs = range(1, len(acc) + 1)\n",
    "plt.plot(epochs, acc, 'bo', label='Training acc')\n",
    "plt.plot(epochs, val_acc, 'b', label='Validation acc')\n",
    "plt.title('Training and validation accuracy')\n",
    "plt.legend()\n",
    "plt.savefig(\"graphs/3-4/train_test_acc\",dpi=100)\n",
    "plt.figure()\n",
    "plt.plot(epochs, loss, 'bo', label='Training loss')\n",
    "plt.plot(epochs, val_loss, 'b', label='Validation loss')\n",
    "plt.title('Training and validation loss')\n",
    "plt.legend()\n",
    "plt.savefig(\"graphs/3-4/train_test_loss\",dpi=100)\n",
    "plt.show()\n"
   ]
  },
  {
   "cell_type": "code",
   "execution_count": 31,
   "metadata": {},
   "outputs": [
    {
     "name": "stderr",
     "output_type": "stream",
     "text": [
      "/home/fred/.local/lib/python3.11/site-packages/keras/src/engine/training.py:3103: UserWarning:\n",
      "\n",
      "You are saving your model as an HDF5 file via `model.save()`. This file format is considered legacy. We recommend using instead the native Keras format, e.g. `model.save('my_model.keras')`.\n",
      "\n"
     ]
    }
   ],
   "source": [
    "model.save('models/3-4/3-4-C.h5')"
   ]
  },
  {
   "cell_type": "code",
   "execution_count": 36,
   "metadata": {},
   "outputs": [
    {
     "name": "stdout",
     "output_type": "stream",
     "text": [
      "Found 1000 files belonging to 2 classes.\n",
      "1/1 [==============================] - 0s 365ms/step\n",
      "1/1 [==============================] - 0s 21ms/step\n",
      "1/1 [==============================] - 0s 21ms/step\n",
      "1/1 [==============================] - 0s 20ms/step\n",
      "1/1 [==============================] - 0s 22ms/step\n",
      "1/1 [==============================] - 0s 20ms/step\n",
      "1/1 [==============================] - 0s 20ms/step\n",
      "1/1 [==============================] - 0s 22ms/step\n",
      "1/1 [==============================] - 0s 24ms/step\n",
      "1/1 [==============================] - 0s 23ms/step\n",
      "1/1 [==============================] - 0s 26ms/step\n",
      "1/1 [==============================] - 0s 19ms/step\n",
      "1/1 [==============================] - 0s 22ms/step\n",
      "1/1 [==============================] - 0s 19ms/step\n",
      "1/1 [==============================] - 0s 21ms/step\n",
      "1/1 [==============================] - 0s 21ms/step\n",
      "1/1 [==============================] - 0s 21ms/step\n",
      "1/1 [==============================] - 0s 20ms/step\n",
      "1/1 [==============================] - 0s 21ms/step\n",
      "1/1 [==============================] - 0s 24ms/step\n",
      "1/1 [==============================] - 0s 24ms/step\n",
      "1/1 [==============================] - 0s 23ms/step\n",
      "1/1 [==============================] - 0s 37ms/step\n",
      "1/1 [==============================] - 0s 25ms/step\n",
      "1/1 [==============================] - 0s 22ms/step\n",
      "1/1 [==============================] - 0s 21ms/step\n",
      "1/1 [==============================] - 0s 22ms/step\n",
      "1/1 [==============================] - 0s 21ms/step\n",
      "1/1 [==============================] - 0s 22ms/step\n",
      "1/1 [==============================] - 0s 20ms/step\n",
      "1/1 [==============================] - 0s 23ms/step\n",
      "1/1 [==============================] - 0s 20ms/step\n",
      "1/1 [==============================] - 0s 21ms/step\n",
      "1/1 [==============================] - 0s 23ms/step\n",
      "1/1 [==============================] - 0s 24ms/step\n",
      "1/1 [==============================] - 0s 25ms/step\n",
      "1/1 [==============================] - 0s 22ms/step\n",
      "1/1 [==============================] - 0s 34ms/step\n",
      "1/1 [==============================] - 0s 29ms/step\n",
      "1/1 [==============================] - 0s 19ms/step\n",
      "1/1 [==============================] - 0s 20ms/step\n",
      "1/1 [==============================] - 0s 21ms/step\n",
      "1/1 [==============================] - 0s 21ms/step\n",
      "1/1 [==============================] - 0s 21ms/step\n",
      "1/1 [==============================] - 0s 20ms/step\n",
      "1/1 [==============================] - 0s 21ms/step\n",
      "1/1 [==============================] - 0s 21ms/step\n",
      "1/1 [==============================] - 0s 21ms/step\n",
      "1/1 [==============================] - 0s 20ms/step\n",
      "1/1 [==============================] - 0s 20ms/step\n",
      "1/1 [==============================] - 0s 19ms/step\n",
      "1/1 [==============================] - 0s 19ms/step\n",
      "1/1 [==============================] - 0s 22ms/step\n",
      "1/1 [==============================] - 0s 19ms/step\n",
      "1/1 [==============================] - 0s 20ms/step\n",
      "1/1 [==============================] - 0s 20ms/step\n",
      "1/1 [==============================] - 0s 20ms/step\n",
      "1/1 [==============================] - 0s 22ms/step\n",
      "1/1 [==============================] - 0s 23ms/step\n",
      "1/1 [==============================] - 0s 26ms/step\n",
      "1/1 [==============================] - 0s 23ms/step\n",
      "1/1 [==============================] - 0s 21ms/step\n",
      "1/1 [==============================] - 0s 25ms/step\n",
      "1/1 [==============================] - 0s 21ms/step\n",
      "1/1 [==============================] - 0s 46ms/step\n",
      "1/1 [==============================] - 0s 24ms/step\n",
      "1/1 [==============================] - 0s 21ms/step\n",
      "1/1 [==============================] - 0s 21ms/step\n",
      "1/1 [==============================] - 0s 20ms/step\n",
      "1/1 [==============================] - 0s 20ms/step\n",
      "1/1 [==============================] - 0s 20ms/step\n",
      "1/1 [==============================] - 0s 20ms/step\n",
      "1/1 [==============================] - 0s 21ms/step\n",
      "1/1 [==============================] - 0s 21ms/step\n",
      "1/1 [==============================] - 0s 22ms/step\n",
      "1/1 [==============================] - 0s 20ms/step\n",
      "1/1 [==============================] - 0s 20ms/step\n",
      "1/1 [==============================] - 0s 19ms/step\n",
      "1/1 [==============================] - 0s 22ms/step\n",
      "1/1 [==============================] - 0s 19ms/step\n",
      "1/1 [==============================] - 0s 18ms/step\n",
      "1/1 [==============================] - 0s 20ms/step\n",
      "1/1 [==============================] - 0s 19ms/step\n",
      "1/1 [==============================] - 0s 20ms/step\n",
      "1/1 [==============================] - 0s 20ms/step\n",
      "1/1 [==============================] - 0s 20ms/step\n",
      "1/1 [==============================] - 0s 20ms/step\n",
      "1/1 [==============================] - 0s 20ms/step\n",
      "1/1 [==============================] - 0s 20ms/step\n",
      "1/1 [==============================] - 0s 20ms/step\n",
      "1/1 [==============================] - 0s 20ms/step\n",
      "1/1 [==============================] - 0s 20ms/step\n",
      "1/1 [==============================] - 0s 21ms/step\n",
      "1/1 [==============================] - 0s 19ms/step\n",
      "1/1 [==============================] - 0s 19ms/step\n",
      "1/1 [==============================] - 0s 19ms/step\n",
      "1/1 [==============================] - 0s 21ms/step\n",
      "1/1 [==============================] - 0s 21ms/step\n",
      "1/1 [==============================] - 0s 22ms/step\n",
      "1/1 [==============================] - 0s 19ms/step\n",
      "1/1 [==============================] - 0s 22ms/step\n",
      "1/1 [==============================] - 0s 20ms/step\n",
      "1/1 [==============================] - 0s 46ms/step\n",
      "1/1 [==============================] - 0s 20ms/step\n",
      "1/1 [==============================] - 0s 22ms/step\n",
      "1/1 [==============================] - 0s 19ms/step\n",
      "1/1 [==============================] - 0s 21ms/step\n",
      "1/1 [==============================] - 0s 21ms/step\n",
      "1/1 [==============================] - 0s 21ms/step\n",
      "1/1 [==============================] - 0s 23ms/step\n",
      "1/1 [==============================] - 0s 23ms/step\n",
      "1/1 [==============================] - 0s 20ms/step\n",
      "1/1 [==============================] - 0s 20ms/step\n",
      "1/1 [==============================] - 0s 20ms/step\n",
      "1/1 [==============================] - 0s 20ms/step\n",
      "1/1 [==============================] - 0s 19ms/step\n",
      "1/1 [==============================] - 0s 20ms/step\n",
      "1/1 [==============================] - 0s 19ms/step\n",
      "1/1 [==============================] - 0s 19ms/step\n",
      "1/1 [==============================] - 0s 19ms/step\n",
      "1/1 [==============================] - 0s 20ms/step\n",
      "1/1 [==============================] - 0s 23ms/step\n",
      "1/1 [==============================] - 0s 19ms/step\n",
      "1/1 [==============================] - 0s 19ms/step\n",
      "1/1 [==============================] - 0s 21ms/step\n",
      "1/1 [==============================] - 0s 21ms/step\n",
      "1/1 [==============================] - 0s 21ms/step\n",
      "1/1 [==============================] - 0s 21ms/step\n",
      "1/1 [==============================] - 0s 21ms/step\n",
      "1/1 [==============================] - 0s 20ms/step\n",
      "1/1 [==============================] - 0s 20ms/step\n",
      "1/1 [==============================] - 0s 20ms/step\n",
      "1/1 [==============================] - 0s 21ms/step\n",
      "1/1 [==============================] - 0s 23ms/step\n",
      "1/1 [==============================] - 0s 25ms/step\n",
      "1/1 [==============================] - 0s 24ms/step\n",
      "1/1 [==============================] - 0s 22ms/step\n",
      "1/1 [==============================] - 0s 65ms/step\n",
      "1/1 [==============================] - 0s 24ms/step\n",
      "1/1 [==============================] - 0s 20ms/step\n",
      "1/1 [==============================] - 0s 21ms/step\n",
      "1/1 [==============================] - 0s 21ms/step\n",
      "1/1 [==============================] - 0s 23ms/step\n",
      "1/1 [==============================] - 0s 21ms/step\n",
      "1/1 [==============================] - 0s 23ms/step\n",
      "1/1 [==============================] - 0s 24ms/step\n",
      "1/1 [==============================] - 0s 27ms/step\n",
      "1/1 [==============================] - 0s 21ms/step\n",
      "1/1 [==============================] - 0s 20ms/step\n",
      "1/1 [==============================] - 0s 20ms/step\n",
      "1/1 [==============================] - 0s 22ms/step\n",
      "1/1 [==============================] - 0s 21ms/step\n",
      "1/1 [==============================] - 0s 19ms/step\n",
      "1/1 [==============================] - 0s 18ms/step\n",
      "1/1 [==============================] - 0s 20ms/step\n",
      "1/1 [==============================] - 0s 19ms/step\n",
      "1/1 [==============================] - 0s 26ms/step\n",
      "1/1 [==============================] - 0s 29ms/step\n",
      "1/1 [==============================] - 0s 21ms/step\n",
      "1/1 [==============================] - 0s 22ms/step\n",
      "1/1 [==============================] - 0s 46ms/step\n",
      "1/1 [==============================] - 0s 23ms/step\n",
      "1/1 [==============================] - 0s 21ms/step\n",
      "1/1 [==============================] - 0s 20ms/step\n",
      "1/1 [==============================] - 0s 22ms/step\n",
      "1/1 [==============================] - 0s 22ms/step\n",
      "1/1 [==============================] - 0s 21ms/step\n",
      "1/1 [==============================] - 0s 52ms/step\n",
      "1/1 [==============================] - 0s 25ms/step\n",
      "1/1 [==============================] - 0s 21ms/step\n",
      "1/1 [==============================] - 0s 24ms/step\n",
      "1/1 [==============================] - 0s 19ms/step\n",
      "1/1 [==============================] - 0s 21ms/step\n",
      "1/1 [==============================] - 0s 20ms/step\n",
      "1/1 [==============================] - 0s 22ms/step\n",
      "1/1 [==============================] - 0s 25ms/step\n",
      "1/1 [==============================] - 0s 24ms/step\n",
      "1/1 [==============================] - 0s 18ms/step\n",
      "1/1 [==============================] - 0s 17ms/step\n",
      "1/1 [==============================] - 0s 17ms/step\n",
      "1/1 [==============================] - 0s 19ms/step\n",
      "1/1 [==============================] - 0s 19ms/step\n",
      "1/1 [==============================] - 0s 23ms/step\n",
      "1/1 [==============================] - 0s 20ms/step\n",
      "1/1 [==============================] - 0s 20ms/step\n",
      "1/1 [==============================] - 0s 18ms/step\n",
      "1/1 [==============================] - 0s 17ms/step\n",
      "1/1 [==============================] - 0s 22ms/step\n",
      "1/1 [==============================] - 0s 18ms/step\n",
      "1/1 [==============================] - 0s 20ms/step\n",
      "1/1 [==============================] - 0s 22ms/step\n",
      "1/1 [==============================] - 0s 20ms/step\n",
      "1/1 [==============================] - 0s 21ms/step\n",
      "1/1 [==============================] - 0s 19ms/step\n",
      "1/1 [==============================] - 0s 20ms/step\n",
      "1/1 [==============================] - 0s 19ms/step\n",
      "1/1 [==============================] - 0s 45ms/step\n",
      "1/1 [==============================] - 0s 38ms/step\n",
      "1/1 [==============================] - 0s 18ms/step\n",
      "1/1 [==============================] - 0s 18ms/step\n",
      "1/1 [==============================] - 0s 17ms/step\n",
      "1/1 [==============================] - 0s 19ms/step\n",
      "1/1 [==============================] - 0s 20ms/step\n",
      "1/1 [==============================] - 0s 21ms/step\n",
      "1/1 [==============================] - 0s 19ms/step\n",
      "1/1 [==============================] - 0s 19ms/step\n",
      "1/1 [==============================] - 0s 21ms/step\n",
      "1/1 [==============================] - 0s 21ms/step\n",
      "1/1 [==============================] - 0s 21ms/step\n",
      "1/1 [==============================] - 0s 21ms/step\n",
      "1/1 [==============================] - 0s 21ms/step\n",
      "1/1 [==============================] - 0s 20ms/step\n",
      "1/1 [==============================] - 0s 20ms/step\n",
      "1/1 [==============================] - 0s 21ms/step\n",
      "1/1 [==============================] - 0s 20ms/step\n",
      "1/1 [==============================] - 0s 22ms/step\n",
      "1/1 [==============================] - 0s 21ms/step\n",
      "1/1 [==============================] - 0s 21ms/step\n",
      "1/1 [==============================] - 0s 20ms/step\n",
      "1/1 [==============================] - 0s 18ms/step\n",
      "1/1 [==============================] - 0s 20ms/step\n",
      "1/1 [==============================] - 0s 21ms/step\n",
      "1/1 [==============================] - 0s 26ms/step\n",
      "1/1 [==============================] - 0s 20ms/step\n",
      "1/1 [==============================] - 0s 19ms/step\n",
      "1/1 [==============================] - 0s 17ms/step\n",
      "1/1 [==============================] - 0s 17ms/step\n",
      "1/1 [==============================] - 0s 19ms/step\n",
      "1/1 [==============================] - 0s 18ms/step\n",
      "1/1 [==============================] - 0s 17ms/step\n",
      "1/1 [==============================] - 0s 54ms/step\n",
      "1/1 [==============================] - 0s 18ms/step\n",
      "1/1 [==============================] - 0s 17ms/step\n",
      "1/1 [==============================] - 0s 20ms/step\n",
      "1/1 [==============================] - 0s 19ms/step\n",
      "1/1 [==============================] - 0s 18ms/step\n",
      "1/1 [==============================] - 0s 18ms/step\n",
      "1/1 [==============================] - 0s 17ms/step\n",
      "1/1 [==============================] - 0s 18ms/step\n",
      "1/1 [==============================] - 0s 17ms/step\n",
      "1/1 [==============================] - 0s 17ms/step\n",
      "1/1 [==============================] - 0s 17ms/step\n",
      "1/1 [==============================] - 0s 17ms/step\n",
      "1/1 [==============================] - 0s 19ms/step\n",
      "1/1 [==============================] - 0s 17ms/step\n",
      "1/1 [==============================] - 0s 18ms/step\n",
      "1/1 [==============================] - 0s 17ms/step\n",
      "1/1 [==============================] - 0s 19ms/step\n",
      "1/1 [==============================] - 0s 18ms/step\n",
      "1/1 [==============================] - 0s 17ms/step\n",
      "1/1 [==============================] - 0s 26ms/step\n",
      "1/1 [==============================] - 0s 21ms/step\n",
      "1/1 [==============================] - 0s 23ms/step\n",
      "1/1 [==============================] - 0s 20ms/step\n",
      "1/1 [==============================] - 0s 21ms/step\n",
      "1/1 [==============================] - 0s 20ms/step\n",
      "1/1 [==============================] - 0s 20ms/step\n",
      "1/1 [==============================] - 0s 27ms/step\n",
      "1/1 [==============================] - 0s 21ms/step\n",
      "1/1 [==============================] - 0s 20ms/step\n",
      "1/1 [==============================] - 0s 20ms/step\n",
      "1/1 [==============================] - 0s 27ms/step\n",
      "1/1 [==============================] - 0s 21ms/step\n",
      "1/1 [==============================] - 0s 21ms/step\n",
      "1/1 [==============================] - 0s 58ms/step\n",
      "1/1 [==============================] - 0s 35ms/step\n",
      "1/1 [==============================] - 0s 20ms/step\n",
      "1/1 [==============================] - 0s 21ms/step\n",
      "1/1 [==============================] - 0s 27ms/step\n",
      "1/1 [==============================] - 0s 20ms/step\n",
      "1/1 [==============================] - 0s 20ms/step\n",
      "1/1 [==============================] - 0s 20ms/step\n",
      "1/1 [==============================] - 0s 21ms/step\n",
      "1/1 [==============================] - 0s 22ms/step\n",
      "1/1 [==============================] - 0s 23ms/step\n",
      "1/1 [==============================] - 0s 20ms/step\n",
      "1/1 [==============================] - 0s 21ms/step\n",
      "1/1 [==============================] - 0s 25ms/step\n",
      "1/1 [==============================] - 0s 22ms/step\n",
      "1/1 [==============================] - 0s 20ms/step\n",
      "1/1 [==============================] - 0s 19ms/step\n",
      "1/1 [==============================] - 0s 22ms/step\n",
      "1/1 [==============================] - 0s 20ms/step\n",
      "1/1 [==============================] - 0s 19ms/step\n",
      "1/1 [==============================] - 0s 20ms/step\n",
      "1/1 [==============================] - 0s 21ms/step\n",
      "1/1 [==============================] - 0s 19ms/step\n",
      "1/1 [==============================] - 0s 21ms/step\n",
      "1/1 [==============================] - 0s 24ms/step\n",
      "1/1 [==============================] - 0s 21ms/step\n",
      "1/1 [==============================] - 0s 19ms/step\n",
      "1/1 [==============================] - 0s 20ms/step\n",
      "1/1 [==============================] - 0s 19ms/step\n",
      "1/1 [==============================] - 0s 22ms/step\n",
      "1/1 [==============================] - 0s 23ms/step\n",
      "1/1 [==============================] - 0s 21ms/step\n",
      "1/1 [==============================] - 0s 19ms/step\n",
      "1/1 [==============================] - 0s 23ms/step\n",
      "1/1 [==============================] - 0s 28ms/step\n",
      "1/1 [==============================] - 0s 20ms/step\n",
      "1/1 [==============================] - 0s 20ms/step\n",
      "1/1 [==============================] - 0s 19ms/step\n",
      "1/1 [==============================] - 0s 23ms/step\n",
      "1/1 [==============================] - 0s 21ms/step\n",
      "1/1 [==============================] - 0s 21ms/step\n",
      "1/1 [==============================] - 0s 21ms/step\n",
      "1/1 [==============================] - 0s 21ms/step\n",
      "1/1 [==============================] - 0s 20ms/step\n",
      "1/1 [==============================] - 0s 20ms/step\n",
      "1/1 [==============================] - 0s 24ms/step\n",
      "1/1 [==============================] - 0s 21ms/step\n",
      "1/1 [==============================] - 0s 21ms/step\n",
      "1/1 [==============================] - 0s 23ms/step\n",
      "1/1 [==============================] - 0s 24ms/step\n",
      "1/1 [==============================] - 0s 22ms/step\n",
      "1/1 [==============================] - 0s 20ms/step\n",
      "1/1 [==============================] - 0s 21ms/step\n",
      "1/1 [==============================] - 0s 25ms/step\n",
      "1/1 [==============================] - 0s 29ms/step\n",
      "1/1 [==============================] - 0s 54ms/step\n",
      "1/1 [==============================] - 0s 21ms/step\n",
      "1/1 [==============================] - 0s 19ms/step\n",
      "1/1 [==============================] - 0s 21ms/step\n",
      "1/1 [==============================] - 0s 21ms/step\n",
      "1/1 [==============================] - 0s 21ms/step\n",
      "1/1 [==============================] - 0s 20ms/step\n",
      "1/1 [==============================] - 0s 21ms/step\n",
      "1/1 [==============================] - 0s 22ms/step\n",
      "1/1 [==============================] - 0s 21ms/step\n",
      "1/1 [==============================] - 0s 19ms/step\n",
      "1/1 [==============================] - 0s 22ms/step\n",
      "1/1 [==============================] - 0s 22ms/step\n",
      "1/1 [==============================] - 0s 19ms/step\n",
      "1/1 [==============================] - 0s 19ms/step\n",
      "1/1 [==============================] - 0s 19ms/step\n",
      "1/1 [==============================] - 0s 19ms/step\n",
      "1/1 [==============================] - 0s 21ms/step\n",
      "1/1 [==============================] - 0s 19ms/step\n",
      "1/1 [==============================] - 0s 21ms/step\n",
      "1/1 [==============================] - 0s 21ms/step\n",
      "1/1 [==============================] - 0s 20ms/step\n",
      "1/1 [==============================] - 0s 19ms/step\n",
      "1/1 [==============================] - 0s 23ms/step\n",
      "1/1 [==============================] - 0s 22ms/step\n",
      "1/1 [==============================] - 0s 19ms/step\n",
      "1/1 [==============================] - 0s 20ms/step\n",
      "1/1 [==============================] - 0s 19ms/step\n",
      "1/1 [==============================] - 0s 20ms/step\n",
      "1/1 [==============================] - 0s 58ms/step\n",
      "1/1 [==============================] - 0s 19ms/step\n",
      "1/1 [==============================] - 0s 20ms/step\n",
      "1/1 [==============================] - 0s 20ms/step\n",
      "1/1 [==============================] - 0s 21ms/step\n",
      "1/1 [==============================] - 0s 19ms/step\n",
      "1/1 [==============================] - 0s 19ms/step\n",
      "1/1 [==============================] - 0s 23ms/step\n",
      "1/1 [==============================] - 0s 22ms/step\n",
      "1/1 [==============================] - 0s 24ms/step\n",
      "1/1 [==============================] - 0s 21ms/step\n",
      "1/1 [==============================] - 0s 19ms/step\n",
      "1/1 [==============================] - 0s 19ms/step\n",
      "1/1 [==============================] - 0s 20ms/step\n",
      "1/1 [==============================] - 0s 21ms/step\n",
      "1/1 [==============================] - 0s 18ms/step\n",
      "1/1 [==============================] - 0s 20ms/step\n",
      "1/1 [==============================] - 0s 19ms/step\n",
      "1/1 [==============================] - 0s 23ms/step\n",
      "1/1 [==============================] - 0s 24ms/step\n",
      "1/1 [==============================] - 0s 21ms/step\n",
      "1/1 [==============================] - 0s 20ms/step\n",
      "1/1 [==============================] - 0s 21ms/step\n",
      "1/1 [==============================] - 0s 37ms/step\n",
      "1/1 [==============================] - 0s 32ms/step\n",
      "1/1 [==============================] - 0s 23ms/step\n",
      "1/1 [==============================] - 0s 19ms/step\n",
      "1/1 [==============================] - 0s 19ms/step\n",
      "1/1 [==============================] - 0s 20ms/step\n",
      "1/1 [==============================] - 0s 19ms/step\n",
      "1/1 [==============================] - 0s 25ms/step\n",
      "1/1 [==============================] - 0s 23ms/step\n",
      "1/1 [==============================] - 0s 24ms/step\n",
      "1/1 [==============================] - 0s 19ms/step\n",
      "1/1 [==============================] - 0s 23ms/step\n",
      "1/1 [==============================] - 0s 21ms/step\n",
      "1/1 [==============================] - 0s 20ms/step\n",
      "1/1 [==============================] - 0s 21ms/step\n",
      "1/1 [==============================] - 0s 20ms/step\n",
      "1/1 [==============================] - 0s 19ms/step\n",
      "1/1 [==============================] - 0s 25ms/step\n",
      "1/1 [==============================] - 0s 24ms/step\n",
      "1/1 [==============================] - 0s 20ms/step\n",
      "1/1 [==============================] - 0s 19ms/step\n",
      "1/1 [==============================] - 0s 22ms/step\n",
      "1/1 [==============================] - 0s 21ms/step\n",
      "1/1 [==============================] - 0s 19ms/step\n",
      "1/1 [==============================] - 0s 20ms/step\n",
      "1/1 [==============================] - 0s 21ms/step\n",
      "1/1 [==============================] - 0s 20ms/step\n",
      "1/1 [==============================] - 0s 48ms/step\n",
      "1/1 [==============================] - 0s 22ms/step\n",
      "1/1 [==============================] - 0s 20ms/step\n",
      "1/1 [==============================] - 0s 24ms/step\n",
      "1/1 [==============================] - 0s 22ms/step\n",
      "1/1 [==============================] - 0s 19ms/step\n",
      "1/1 [==============================] - 0s 20ms/step\n",
      "1/1 [==============================] - 0s 20ms/step\n",
      "1/1 [==============================] - 0s 23ms/step\n",
      "1/1 [==============================] - 0s 24ms/step\n",
      "1/1 [==============================] - 0s 26ms/step\n",
      "1/1 [==============================] - 0s 23ms/step\n",
      "1/1 [==============================] - 0s 20ms/step\n",
      "1/1 [==============================] - 0s 22ms/step\n",
      "1/1 [==============================] - 0s 22ms/step\n",
      "1/1 [==============================] - 0s 21ms/step\n",
      "1/1 [==============================] - 0s 18ms/step\n",
      "1/1 [==============================] - 0s 19ms/step\n",
      "1/1 [==============================] - 0s 22ms/step\n",
      "1/1 [==============================] - 0s 22ms/step\n",
      "1/1 [==============================] - 0s 20ms/step\n",
      "1/1 [==============================] - 0s 19ms/step\n",
      "1/1 [==============================] - 0s 22ms/step\n",
      "1/1 [==============================] - 0s 20ms/step\n",
      "1/1 [==============================] - 0s 20ms/step\n",
      "1/1 [==============================] - 0s 20ms/step\n",
      "1/1 [==============================] - 0s 20ms/step\n",
      "1/1 [==============================] - 0s 22ms/step\n",
      "1/1 [==============================] - 0s 25ms/step\n",
      "1/1 [==============================] - 0s 35ms/step\n",
      "1/1 [==============================] - 0s 18ms/step\n",
      "1/1 [==============================] - 0s 18ms/step\n",
      "1/1 [==============================] - 0s 20ms/step\n",
      "1/1 [==============================] - 0s 25ms/step\n",
      "1/1 [==============================] - 0s 19ms/step\n",
      "1/1 [==============================] - 0s 18ms/step\n",
      "1/1 [==============================] - 0s 20ms/step\n",
      "1/1 [==============================] - 0s 18ms/step\n",
      "1/1 [==============================] - 0s 19ms/step\n",
      "1/1 [==============================] - 0s 19ms/step\n",
      "1/1 [==============================] - 0s 18ms/step\n",
      "1/1 [==============================] - 0s 19ms/step\n",
      "1/1 [==============================] - 0s 19ms/step\n",
      "1/1 [==============================] - 0s 20ms/step\n",
      "1/1 [==============================] - 0s 22ms/step\n",
      "1/1 [==============================] - 0s 19ms/step\n",
      "1/1 [==============================] - 0s 19ms/step\n",
      "1/1 [==============================] - 0s 20ms/step\n",
      "1/1 [==============================] - 0s 19ms/step\n",
      "1/1 [==============================] - 0s 19ms/step\n",
      "1/1 [==============================] - 0s 19ms/step\n",
      "1/1 [==============================] - 0s 19ms/step\n",
      "1/1 [==============================] - 0s 19ms/step\n",
      "1/1 [==============================] - 0s 19ms/step\n",
      "1/1 [==============================] - 0s 20ms/step\n",
      "1/1 [==============================] - 0s 21ms/step\n",
      "1/1 [==============================] - 0s 21ms/step\n",
      "1/1 [==============================] - 0s 24ms/step\n",
      "1/1 [==============================] - 0s 40ms/step\n",
      "1/1 [==============================] - 0s 18ms/step\n",
      "1/1 [==============================] - 0s 19ms/step\n",
      "1/1 [==============================] - 0s 19ms/step\n",
      "1/1 [==============================] - 0s 21ms/step\n",
      "1/1 [==============================] - 0s 20ms/step\n",
      "1/1 [==============================] - 0s 21ms/step\n",
      "1/1 [==============================] - 0s 20ms/step\n",
      "1/1 [==============================] - 0s 22ms/step\n",
      "1/1 [==============================] - 0s 20ms/step\n",
      "1/1 [==============================] - 0s 19ms/step\n",
      "1/1 [==============================] - 0s 20ms/step\n",
      "1/1 [==============================] - 0s 19ms/step\n",
      "1/1 [==============================] - 0s 19ms/step\n",
      "1/1 [==============================] - 0s 20ms/step\n",
      "1/1 [==============================] - 0s 22ms/step\n",
      "1/1 [==============================] - 0s 22ms/step\n",
      "1/1 [==============================] - 0s 20ms/step\n",
      "1/1 [==============================] - 0s 22ms/step\n",
      "1/1 [==============================] - 0s 19ms/step\n",
      "1/1 [==============================] - 0s 20ms/step\n",
      "1/1 [==============================] - 0s 19ms/step\n",
      "1/1 [==============================] - 0s 20ms/step\n",
      "1/1 [==============================] - 0s 19ms/step\n",
      "1/1 [==============================] - 0s 20ms/step\n",
      "1/1 [==============================] - 0s 19ms/step\n",
      "1/1 [==============================] - 0s 20ms/step\n",
      "1/1 [==============================] - 0s 18ms/step\n",
      "1/1 [==============================] - 0s 71ms/step\n",
      "1/1 [==============================] - 0s 21ms/step\n",
      "1/1 [==============================] - 0s 19ms/step\n",
      "1/1 [==============================] - 0s 21ms/step\n",
      "1/1 [==============================] - 0s 19ms/step\n",
      "1/1 [==============================] - 0s 18ms/step\n",
      "1/1 [==============================] - 0s 19ms/step\n",
      "1/1 [==============================] - 0s 19ms/step\n",
      "1/1 [==============================] - 0s 21ms/step\n",
      "1/1 [==============================] - 0s 19ms/step\n",
      "1/1 [==============================] - 0s 19ms/step\n",
      "1/1 [==============================] - 0s 19ms/step\n",
      "1/1 [==============================] - 0s 20ms/step\n",
      "1/1 [==============================] - 0s 17ms/step\n",
      "1/1 [==============================] - 0s 21ms/step\n",
      "1/1 [==============================] - 0s 20ms/step\n",
      "1/1 [==============================] - 0s 21ms/step\n",
      "1/1 [==============================] - 0s 20ms/step\n",
      "1/1 [==============================] - 0s 20ms/step\n",
      "1/1 [==============================] - 0s 18ms/step\n",
      "1/1 [==============================] - 0s 20ms/step\n",
      "1/1 [==============================] - 0s 22ms/step\n",
      "1/1 [==============================] - 0s 56ms/step\n",
      "1/1 [==============================] - 0s 21ms/step\n",
      "1/1 [==============================] - 0s 19ms/step\n",
      "1/1 [==============================] - 0s 19ms/step\n",
      "1/1 [==============================] - 0s 44ms/step\n",
      "1/1 [==============================] - 0s 42ms/step\n",
      "1/1 [==============================] - 0s 26ms/step\n",
      "1/1 [==============================] - 0s 21ms/step\n",
      "1/1 [==============================] - 0s 21ms/step\n",
      "1/1 [==============================] - 0s 23ms/step\n",
      "1/1 [==============================] - 0s 23ms/step\n",
      "1/1 [==============================] - 0s 21ms/step\n",
      "1/1 [==============================] - 0s 19ms/step\n",
      "1/1 [==============================] - 0s 19ms/step\n",
      "1/1 [==============================] - 0s 19ms/step\n",
      "1/1 [==============================] - 0s 20ms/step\n",
      "1/1 [==============================] - 0s 21ms/step\n",
      "1/1 [==============================] - 0s 20ms/step\n",
      "1/1 [==============================] - 0s 21ms/step\n",
      "1/1 [==============================] - 0s 20ms/step\n",
      "1/1 [==============================] - 0s 21ms/step\n",
      "1/1 [==============================] - 0s 20ms/step\n",
      "1/1 [==============================] - 0s 21ms/step\n",
      "1/1 [==============================] - 0s 22ms/step\n",
      "1/1 [==============================] - 0s 20ms/step\n",
      "1/1 [==============================] - 0s 19ms/step\n",
      "1/1 [==============================] - 0s 20ms/step\n",
      "1/1 [==============================] - 0s 20ms/step\n",
      "1/1 [==============================] - 0s 24ms/step\n",
      "1/1 [==============================] - 0s 22ms/step\n",
      "1/1 [==============================] - 0s 21ms/step\n",
      "1/1 [==============================] - 0s 22ms/step\n",
      "1/1 [==============================] - 0s 19ms/step\n",
      "1/1 [==============================] - 0s 20ms/step\n",
      "1/1 [==============================] - 0s 19ms/step\n",
      "1/1 [==============================] - 0s 60ms/step\n",
      "1/1 [==============================] - 0s 25ms/step\n",
      "1/1 [==============================] - 0s 19ms/step\n",
      "1/1 [==============================] - 0s 22ms/step\n",
      "1/1 [==============================] - 0s 19ms/step\n",
      "1/1 [==============================] - 0s 20ms/step\n",
      "1/1 [==============================] - 0s 19ms/step\n",
      "1/1 [==============================] - 0s 19ms/step\n",
      "1/1 [==============================] - 0s 20ms/step\n",
      "1/1 [==============================] - 0s 19ms/step\n",
      "1/1 [==============================] - 0s 19ms/step\n",
      "1/1 [==============================] - 0s 19ms/step\n",
      "1/1 [==============================] - 0s 19ms/step\n",
      "1/1 [==============================] - 0s 20ms/step\n",
      "1/1 [==============================] - 0s 18ms/step\n",
      "1/1 [==============================] - 0s 19ms/step\n",
      "1/1 [==============================] - 0s 20ms/step\n",
      "1/1 [==============================] - 0s 19ms/step\n",
      "1/1 [==============================] - 0s 19ms/step\n",
      "1/1 [==============================] - 0s 22ms/step\n",
      "1/1 [==============================] - 0s 19ms/step\n",
      "1/1 [==============================] - 0s 20ms/step\n",
      "1/1 [==============================] - 0s 19ms/step\n",
      "1/1 [==============================] - 0s 20ms/step\n",
      "1/1 [==============================] - 0s 18ms/step\n",
      "1/1 [==============================] - 0s 19ms/step\n",
      "1/1 [==============================] - 0s 19ms/step\n",
      "1/1 [==============================] - 0s 43ms/step\n",
      "1/1 [==============================] - 0s 37ms/step\n",
      "1/1 [==============================] - 0s 21ms/step\n",
      "1/1 [==============================] - 0s 18ms/step\n",
      "1/1 [==============================] - 0s 21ms/step\n",
      "1/1 [==============================] - 0s 19ms/step\n",
      "1/1 [==============================] - 0s 20ms/step\n",
      "1/1 [==============================] - 0s 20ms/step\n",
      "1/1 [==============================] - 0s 21ms/step\n",
      "1/1 [==============================] - 0s 19ms/step\n",
      "1/1 [==============================] - 0s 20ms/step\n",
      "1/1 [==============================] - 0s 20ms/step\n",
      "1/1 [==============================] - 0s 20ms/step\n",
      "1/1 [==============================] - 0s 20ms/step\n",
      "1/1 [==============================] - 0s 19ms/step\n",
      "1/1 [==============================] - 0s 18ms/step\n",
      "1/1 [==============================] - 0s 19ms/step\n",
      "1/1 [==============================] - 0s 19ms/step\n",
      "1/1 [==============================] - 0s 20ms/step\n",
      "1/1 [==============================] - 0s 18ms/step\n",
      "1/1 [==============================] - 0s 20ms/step\n",
      "1/1 [==============================] - 0s 19ms/step\n",
      "1/1 [==============================] - 0s 19ms/step\n",
      "1/1 [==============================] - 0s 19ms/step\n",
      "1/1 [==============================] - 0s 20ms/step\n",
      "1/1 [==============================] - 0s 21ms/step\n",
      "1/1 [==============================] - 0s 50ms/step\n",
      "1/1 [==============================] - 0s 42ms/step\n",
      "1/1 [==============================] - 0s 20ms/step\n",
      "1/1 [==============================] - 0s 19ms/step\n",
      "1/1 [==============================] - 0s 20ms/step\n",
      "1/1 [==============================] - 0s 20ms/step\n",
      "1/1 [==============================] - 0s 19ms/step\n",
      "1/1 [==============================] - 0s 20ms/step\n",
      "1/1 [==============================] - 0s 20ms/step\n",
      "1/1 [==============================] - 0s 18ms/step\n",
      "1/1 [==============================] - 0s 20ms/step\n",
      "1/1 [==============================] - 0s 19ms/step\n",
      "1/1 [==============================] - 0s 19ms/step\n",
      "1/1 [==============================] - 0s 20ms/step\n",
      "1/1 [==============================] - 0s 19ms/step\n",
      "1/1 [==============================] - 0s 19ms/step\n",
      "1/1 [==============================] - 0s 19ms/step\n",
      "1/1 [==============================] - 0s 18ms/step\n",
      "1/1 [==============================] - 0s 16ms/step\n",
      "1/1 [==============================] - 0s 18ms/step\n",
      "1/1 [==============================] - 0s 19ms/step\n",
      "1/1 [==============================] - 0s 19ms/step\n",
      "1/1 [==============================] - 0s 22ms/step\n",
      "1/1 [==============================] - 0s 18ms/step\n",
      "1/1 [==============================] - 0s 23ms/step\n",
      "1/1 [==============================] - 0s 43ms/step\n",
      "1/1 [==============================] - 0s 28ms/step\n",
      "1/1 [==============================] - 0s 19ms/step\n",
      "1/1 [==============================] - 0s 20ms/step\n",
      "1/1 [==============================] - 0s 19ms/step\n",
      "1/1 [==============================] - 0s 22ms/step\n",
      "1/1 [==============================] - 0s 23ms/step\n",
      "1/1 [==============================] - 0s 21ms/step\n",
      "1/1 [==============================] - 0s 20ms/step\n",
      "1/1 [==============================] - 0s 20ms/step\n",
      "1/1 [==============================] - 0s 18ms/step\n",
      "1/1 [==============================] - 0s 20ms/step\n",
      "1/1 [==============================] - 0s 18ms/step\n",
      "1/1 [==============================] - 0s 18ms/step\n",
      "1/1 [==============================] - 0s 19ms/step\n",
      "1/1 [==============================] - 0s 20ms/step\n",
      "1/1 [==============================] - 0s 21ms/step\n",
      "1/1 [==============================] - 0s 18ms/step\n",
      "1/1 [==============================] - 0s 19ms/step\n",
      "1/1 [==============================] - 0s 20ms/step\n",
      "1/1 [==============================] - 0s 19ms/step\n",
      "1/1 [==============================] - 0s 20ms/step\n",
      "1/1 [==============================] - 0s 18ms/step\n",
      "1/1 [==============================] - 0s 19ms/step\n",
      "1/1 [==============================] - 0s 19ms/step\n",
      "1/1 [==============================] - 0s 77ms/step\n",
      "1/1 [==============================] - 0s 30ms/step\n",
      "1/1 [==============================] - 0s 19ms/step\n",
      "1/1 [==============================] - 0s 19ms/step\n",
      "1/1 [==============================] - 0s 19ms/step\n",
      "1/1 [==============================] - 0s 19ms/step\n",
      "1/1 [==============================] - 0s 19ms/step\n",
      "1/1 [==============================] - 0s 19ms/step\n",
      "1/1 [==============================] - 0s 20ms/step\n",
      "1/1 [==============================] - 0s 17ms/step\n",
      "1/1 [==============================] - 0s 19ms/step\n",
      "1/1 [==============================] - 0s 19ms/step\n",
      "1/1 [==============================] - 0s 19ms/step\n",
      "1/1 [==============================] - 0s 18ms/step\n",
      "1/1 [==============================] - 0s 18ms/step\n",
      "1/1 [==============================] - 0s 19ms/step\n",
      "1/1 [==============================] - 0s 20ms/step\n",
      "1/1 [==============================] - 0s 19ms/step\n",
      "1/1 [==============================] - 0s 22ms/step\n",
      "1/1 [==============================] - 0s 18ms/step\n",
      "1/1 [==============================] - 0s 21ms/step\n",
      "1/1 [==============================] - 0s 18ms/step\n",
      "1/1 [==============================] - 0s 20ms/step\n",
      "1/1 [==============================] - 0s 26ms/step\n",
      "1/1 [==============================] - 0s 61ms/step\n",
      "1/1 [==============================] - 0s 27ms/step\n",
      "1/1 [==============================] - 0s 21ms/step\n",
      "1/1 [==============================] - 0s 19ms/step\n",
      "1/1 [==============================] - 0s 20ms/step\n",
      "1/1 [==============================] - 0s 18ms/step\n",
      "1/1 [==============================] - 0s 20ms/step\n",
      "1/1 [==============================] - 0s 19ms/step\n",
      "1/1 [==============================] - 0s 19ms/step\n",
      "1/1 [==============================] - 0s 19ms/step\n",
      "1/1 [==============================] - 0s 18ms/step\n",
      "1/1 [==============================] - 0s 18ms/step\n",
      "1/1 [==============================] - 0s 19ms/step\n",
      "1/1 [==============================] - 0s 19ms/step\n",
      "1/1 [==============================] - 0s 19ms/step\n",
      "1/1 [==============================] - 0s 18ms/step\n",
      "1/1 [==============================] - 0s 20ms/step\n",
      "1/1 [==============================] - 0s 19ms/step\n",
      "1/1 [==============================] - 0s 20ms/step\n",
      "1/1 [==============================] - 0s 20ms/step\n",
      "1/1 [==============================] - 0s 19ms/step\n",
      "1/1 [==============================] - 0s 20ms/step\n",
      "1/1 [==============================] - 0s 20ms/step\n",
      "1/1 [==============================] - 0s 19ms/step\n",
      "1/1 [==============================] - 0s 21ms/step\n",
      "1/1 [==============================] - 0s 40ms/step\n",
      "1/1 [==============================] - 0s 19ms/step\n",
      "1/1 [==============================] - 0s 20ms/step\n",
      "1/1 [==============================] - 0s 19ms/step\n",
      "1/1 [==============================] - 0s 18ms/step\n",
      "1/1 [==============================] - 0s 21ms/step\n",
      "1/1 [==============================] - 0s 19ms/step\n",
      "1/1 [==============================] - 0s 21ms/step\n",
      "1/1 [==============================] - 0s 20ms/step\n",
      "1/1 [==============================] - 0s 19ms/step\n",
      "1/1 [==============================] - 0s 19ms/step\n",
      "1/1 [==============================] - 0s 18ms/step\n",
      "1/1 [==============================] - 0s 18ms/step\n",
      "1/1 [==============================] - 0s 20ms/step\n",
      "1/1 [==============================] - 0s 20ms/step\n",
      "1/1 [==============================] - 0s 19ms/step\n",
      "1/1 [==============================] - 0s 18ms/step\n",
      "1/1 [==============================] - 0s 19ms/step\n",
      "1/1 [==============================] - 0s 18ms/step\n",
      "1/1 [==============================] - 0s 21ms/step\n",
      "1/1 [==============================] - 0s 19ms/step\n",
      "1/1 [==============================] - 0s 19ms/step\n",
      "1/1 [==============================] - 0s 19ms/step\n",
      "1/1 [==============================] - 0s 42ms/step\n",
      "1/1 [==============================] - 0s 38ms/step\n",
      "1/1 [==============================] - 0s 20ms/step\n",
      "1/1 [==============================] - 0s 20ms/step\n",
      "1/1 [==============================] - 0s 20ms/step\n",
      "1/1 [==============================] - 0s 19ms/step\n",
      "1/1 [==============================] - 0s 19ms/step\n",
      "1/1 [==============================] - 0s 19ms/step\n",
      "1/1 [==============================] - 0s 20ms/step\n",
      "1/1 [==============================] - 0s 20ms/step\n",
      "1/1 [==============================] - 0s 19ms/step\n",
      "1/1 [==============================] - 0s 19ms/step\n",
      "1/1 [==============================] - 0s 18ms/step\n",
      "1/1 [==============================] - 0s 20ms/step\n",
      "1/1 [==============================] - 0s 19ms/step\n",
      "1/1 [==============================] - 0s 19ms/step\n",
      "1/1 [==============================] - 0s 23ms/step\n",
      "1/1 [==============================] - 0s 21ms/step\n",
      "1/1 [==============================] - 0s 21ms/step\n",
      "1/1 [==============================] - 0s 21ms/step\n",
      "1/1 [==============================] - 0s 21ms/step\n",
      "1/1 [==============================] - 0s 20ms/step\n",
      "1/1 [==============================] - 0s 20ms/step\n",
      "1/1 [==============================] - 0s 19ms/step\n",
      "1/1 [==============================] - 0s 23ms/step\n",
      "1/1 [==============================] - 0s 25ms/step\n",
      "1/1 [==============================] - 0s 23ms/step\n",
      "1/1 [==============================] - 0s 19ms/step\n",
      "1/1 [==============================] - 0s 21ms/step\n",
      "1/1 [==============================] - 0s 18ms/step\n",
      "1/1 [==============================] - 0s 18ms/step\n",
      "1/1 [==============================] - 0s 18ms/step\n",
      "1/1 [==============================] - 0s 19ms/step\n",
      "1/1 [==============================] - 0s 19ms/step\n",
      "1/1 [==============================] - 0s 19ms/step\n",
      "1/1 [==============================] - 0s 19ms/step\n",
      "1/1 [==============================] - 0s 20ms/step\n",
      "1/1 [==============================] - 0s 18ms/step\n",
      "1/1 [==============================] - 0s 19ms/step\n",
      "1/1 [==============================] - 0s 19ms/step\n",
      "1/1 [==============================] - 0s 24ms/step\n",
      "1/1 [==============================] - 0s 18ms/step\n",
      "1/1 [==============================] - 0s 19ms/step\n",
      "1/1 [==============================] - 0s 18ms/step\n",
      "1/1 [==============================] - 0s 19ms/step\n",
      "1/1 [==============================] - 0s 20ms/step\n",
      "1/1 [==============================] - 0s 19ms/step\n",
      "1/1 [==============================] - 0s 22ms/step\n",
      "1/1 [==============================] - 0s 21ms/step\n",
      "1/1 [==============================] - 0s 32ms/step\n",
      "1/1 [==============================] - 0s 20ms/step\n",
      "1/1 [==============================] - 0s 21ms/step\n",
      "1/1 [==============================] - 0s 19ms/step\n",
      "1/1 [==============================] - 0s 19ms/step\n",
      "1/1 [==============================] - 0s 18ms/step\n",
      "1/1 [==============================] - 0s 16ms/step\n",
      "1/1 [==============================] - 0s 19ms/step\n",
      "1/1 [==============================] - 0s 18ms/step\n",
      "1/1 [==============================] - 0s 20ms/step\n",
      "1/1 [==============================] - 0s 17ms/step\n",
      "1/1 [==============================] - 0s 19ms/step\n",
      "1/1 [==============================] - 0s 19ms/step\n",
      "1/1 [==============================] - 0s 19ms/step\n",
      "1/1 [==============================] - 0s 20ms/step\n",
      "1/1 [==============================] - 0s 18ms/step\n",
      "1/1 [==============================] - 0s 18ms/step\n",
      "1/1 [==============================] - 0s 20ms/step\n",
      "1/1 [==============================] - 0s 19ms/step\n",
      "1/1 [==============================] - 0s 20ms/step\n",
      "1/1 [==============================] - 0s 19ms/step\n",
      "1/1 [==============================] - 0s 39ms/step\n",
      "1/1 [==============================] - 0s 19ms/step\n",
      "1/1 [==============================] - 0s 19ms/step\n",
      "1/1 [==============================] - 0s 19ms/step\n",
      "1/1 [==============================] - 0s 37ms/step\n",
      "1/1 [==============================] - 0s 21ms/step\n",
      "1/1 [==============================] - 0s 20ms/step\n",
      "1/1 [==============================] - 0s 20ms/step\n",
      "1/1 [==============================] - 0s 19ms/step\n",
      "1/1 [==============================] - 0s 19ms/step\n",
      "1/1 [==============================] - 0s 18ms/step\n",
      "1/1 [==============================] - 0s 19ms/step\n",
      "1/1 [==============================] - 0s 22ms/step\n",
      "1/1 [==============================] - 0s 20ms/step\n",
      "1/1 [==============================] - 0s 21ms/step\n",
      "1/1 [==============================] - 0s 18ms/step\n",
      "1/1 [==============================] - 0s 19ms/step\n",
      "1/1 [==============================] - 0s 19ms/step\n",
      "1/1 [==============================] - 0s 19ms/step\n",
      "1/1 [==============================] - 0s 20ms/step\n",
      "1/1 [==============================] - 0s 20ms/step\n",
      "1/1 [==============================] - 0s 47ms/step\n",
      "1/1 [==============================] - 0s 42ms/step\n",
      "1/1 [==============================] - 0s 20ms/step\n",
      "1/1 [==============================] - 0s 21ms/step\n",
      "1/1 [==============================] - 0s 19ms/step\n",
      "1/1 [==============================] - 0s 20ms/step\n",
      "1/1 [==============================] - 0s 18ms/step\n",
      "1/1 [==============================] - 0s 20ms/step\n",
      "1/1 [==============================] - 0s 19ms/step\n",
      "1/1 [==============================] - 0s 19ms/step\n",
      "1/1 [==============================] - 0s 19ms/step\n",
      "1/1 [==============================] - 0s 18ms/step\n",
      "1/1 [==============================] - 0s 18ms/step\n",
      "1/1 [==============================] - 0s 18ms/step\n",
      "1/1 [==============================] - 0s 20ms/step\n",
      "1/1 [==============================] - 0s 20ms/step\n",
      "1/1 [==============================] - 0s 18ms/step\n",
      "1/1 [==============================] - 0s 20ms/step\n",
      "1/1 [==============================] - 0s 20ms/step\n",
      "1/1 [==============================] - 0s 20ms/step\n",
      "1/1 [==============================] - 0s 18ms/step\n",
      "1/1 [==============================] - 0s 20ms/step\n",
      "1/1 [==============================] - 0s 25ms/step\n",
      "1/1 [==============================] - 0s 22ms/step\n",
      "1/1 [==============================] - 0s 20ms/step\n",
      "1/1 [==============================] - 0s 19ms/step\n",
      "1/1 [==============================] - 0s 19ms/step\n",
      "1/1 [==============================] - 0s 19ms/step\n",
      "1/1 [==============================] - 0s 19ms/step\n",
      "1/1 [==============================] - 0s 21ms/step\n",
      "1/1 [==============================] - 0s 22ms/step\n",
      "1/1 [==============================] - 0s 19ms/step\n",
      "1/1 [==============================] - 0s 19ms/step\n",
      "1/1 [==============================] - 0s 20ms/step\n",
      "1/1 [==============================] - 0s 18ms/step\n",
      "1/1 [==============================] - 0s 20ms/step\n",
      "1/1 [==============================] - 0s 18ms/step\n",
      "1/1 [==============================] - 0s 20ms/step\n",
      "1/1 [==============================] - 0s 20ms/step\n",
      "1/1 [==============================] - 0s 19ms/step\n",
      "1/1 [==============================] - 0s 19ms/step\n",
      "1/1 [==============================] - 0s 19ms/step\n",
      "1/1 [==============================] - 0s 29ms/step\n",
      "1/1 [==============================] - 0s 36ms/step\n",
      "1/1 [==============================] - 0s 19ms/step\n",
      "1/1 [==============================] - 0s 21ms/step\n",
      "1/1 [==============================] - 0s 20ms/step\n",
      "1/1 [==============================] - 0s 20ms/step\n",
      "1/1 [==============================] - 0s 22ms/step\n",
      "1/1 [==============================] - 0s 19ms/step\n",
      "1/1 [==============================] - 0s 19ms/step\n",
      "1/1 [==============================] - 0s 20ms/step\n",
      "1/1 [==============================] - 0s 19ms/step\n",
      "1/1 [==============================] - 0s 19ms/step\n",
      "1/1 [==============================] - 0s 18ms/step\n",
      "1/1 [==============================] - 0s 21ms/step\n",
      "1/1 [==============================] - 0s 17ms/step\n",
      "1/1 [==============================] - 0s 20ms/step\n",
      "1/1 [==============================] - 0s 20ms/step\n",
      "1/1 [==============================] - 0s 19ms/step\n",
      "1/1 [==============================] - 0s 19ms/step\n",
      "1/1 [==============================] - 0s 19ms/step\n",
      "1/1 [==============================] - 0s 19ms/step\n",
      "1/1 [==============================] - 0s 19ms/step\n",
      "1/1 [==============================] - 0s 19ms/step\n",
      "1/1 [==============================] - 0s 20ms/step\n",
      "1/1 [==============================] - 0s 18ms/step\n",
      "1/1 [==============================] - 0s 26ms/step\n",
      "1/1 [==============================] - 0s 56ms/step\n",
      "1/1 [==============================] - 0s 19ms/step\n",
      "1/1 [==============================] - 0s 19ms/step\n",
      "1/1 [==============================] - 0s 20ms/step\n",
      "1/1 [==============================] - 0s 18ms/step\n",
      "1/1 [==============================] - 0s 19ms/step\n",
      "1/1 [==============================] - 0s 18ms/step\n",
      "1/1 [==============================] - 0s 19ms/step\n",
      "1/1 [==============================] - 0s 20ms/step\n",
      "1/1 [==============================] - 0s 21ms/step\n",
      "1/1 [==============================] - 0s 19ms/step\n",
      "1/1 [==============================] - 0s 20ms/step\n",
      "1/1 [==============================] - 0s 19ms/step\n",
      "1/1 [==============================] - 0s 20ms/step\n",
      "1/1 [==============================] - 0s 19ms/step\n",
      "1/1 [==============================] - 0s 19ms/step\n",
      "1/1 [==============================] - 0s 19ms/step\n",
      "1/1 [==============================] - 0s 22ms/step\n",
      "1/1 [==============================] - 0s 19ms/step\n",
      "1/1 [==============================] - 0s 19ms/step\n",
      "1/1 [==============================] - 0s 18ms/step\n",
      "1/1 [==============================] - 0s 19ms/step\n",
      "1/1 [==============================] - 0s 37ms/step\n",
      "1/1 [==============================] - 0s 29ms/step\n",
      "1/1 [==============================] - 0s 18ms/step\n",
      "1/1 [==============================] - 0s 20ms/step\n",
      "1/1 [==============================] - 0s 18ms/step\n",
      "1/1 [==============================] - 0s 19ms/step\n",
      "1/1 [==============================] - 0s 21ms/step\n",
      "1/1 [==============================] - 0s 20ms/step\n",
      "1/1 [==============================] - 0s 19ms/step\n",
      "1/1 [==============================] - 0s 19ms/step\n",
      "1/1 [==============================] - 0s 19ms/step\n",
      "1/1 [==============================] - 0s 20ms/step\n",
      "1/1 [==============================] - 0s 18ms/step\n",
      "1/1 [==============================] - 0s 19ms/step\n",
      "1/1 [==============================] - 0s 19ms/step\n",
      "1/1 [==============================] - 0s 19ms/step\n",
      "1/1 [==============================] - 0s 18ms/step\n",
      "1/1 [==============================] - 0s 19ms/step\n",
      "1/1 [==============================] - 0s 18ms/step\n",
      "1/1 [==============================] - 0s 19ms/step\n",
      "1/1 [==============================] - 0s 19ms/step\n",
      "1/1 [==============================] - 0s 19ms/step\n",
      "1/1 [==============================] - 0s 21ms/step\n",
      "1/1 [==============================] - 0s 22ms/step\n",
      "1/1 [==============================] - 0s 18ms/step\n",
      "1/1 [==============================] - 0s 18ms/step\n",
      "1/1 [==============================] - 0s 18ms/step\n",
      "1/1 [==============================] - 0s 19ms/step\n",
      "1/1 [==============================] - 0s 19ms/step\n",
      "1/1 [==============================] - 0s 20ms/step\n",
      "1/1 [==============================] - 0s 18ms/step\n",
      "1/1 [==============================] - 0s 20ms/step\n",
      "1/1 [==============================] - 0s 16ms/step\n",
      "1/1 [==============================] - 0s 19ms/step\n",
      "1/1 [==============================] - 0s 20ms/step\n",
      "1/1 [==============================] - 0s 20ms/step\n",
      "1/1 [==============================] - 0s 18ms/step\n",
      "1/1 [==============================] - 0s 19ms/step\n",
      "1/1 [==============================] - 0s 18ms/step\n",
      "1/1 [==============================] - 0s 20ms/step\n",
      "1/1 [==============================] - 0s 18ms/step\n",
      "1/1 [==============================] - 0s 20ms/step\n",
      "1/1 [==============================] - 0s 19ms/step\n",
      "1/1 [==============================] - 0s 33ms/step\n",
      "1/1 [==============================] - 0s 39ms/step\n",
      "1/1 [==============================] - 0s 22ms/step\n",
      "1/1 [==============================] - 0s 19ms/step\n",
      "1/1 [==============================] - 0s 18ms/step\n",
      "1/1 [==============================] - 0s 24ms/step\n",
      "1/1 [==============================] - 0s 19ms/step\n",
      "1/1 [==============================] - 0s 18ms/step\n",
      "1/1 [==============================] - 0s 19ms/step\n",
      "1/1 [==============================] - 0s 20ms/step\n",
      "1/1 [==============================] - 0s 19ms/step\n",
      "1/1 [==============================] - 0s 19ms/step\n",
      "1/1 [==============================] - 0s 19ms/step\n",
      "1/1 [==============================] - 0s 20ms/step\n",
      "1/1 [==============================] - 0s 19ms/step\n",
      "1/1 [==============================] - 0s 19ms/step\n",
      "1/1 [==============================] - 0s 19ms/step\n",
      "1/1 [==============================] - 0s 18ms/step\n",
      "1/1 [==============================] - 0s 19ms/step\n",
      "1/1 [==============================] - 0s 19ms/step\n",
      "1/1 [==============================] - 0s 19ms/step\n",
      "1/1 [==============================] - 0s 19ms/step\n",
      "1/1 [==============================] - 0s 20ms/step\n",
      "1/1 [==============================] - 0s 35ms/step\n",
      "1/1 [==============================] - 0s 33ms/step\n",
      "1/1 [==============================] - 0s 19ms/step\n",
      "1/1 [==============================] - 0s 20ms/step\n",
      "1/1 [==============================] - 0s 19ms/step\n",
      "1/1 [==============================] - 0s 19ms/step\n",
      "1/1 [==============================] - 0s 19ms/step\n",
      "1/1 [==============================] - 0s 21ms/step\n",
      "1/1 [==============================] - 0s 21ms/step\n",
      "1/1 [==============================] - 0s 23ms/step\n",
      "1/1 [==============================] - 0s 21ms/step\n",
      "1/1 [==============================] - 0s 19ms/step\n",
      "1/1 [==============================] - 0s 19ms/step\n",
      "1/1 [==============================] - 0s 20ms/step\n",
      "1/1 [==============================] - 0s 18ms/step\n",
      "1/1 [==============================] - 0s 20ms/step\n",
      "1/1 [==============================] - 0s 21ms/step\n",
      "1/1 [==============================] - 0s 19ms/step\n",
      "1/1 [==============================] - 0s 18ms/step\n",
      "1/1 [==============================] - 0s 19ms/step\n",
      "1/1 [==============================] - 0s 18ms/step\n",
      "1/1 [==============================] - 0s 19ms/step\n",
      "1/1 [==============================] - 0s 19ms/step\n",
      "1/1 [==============================] - 0s 46ms/step\n",
      "1/1 [==============================] - 0s 25ms/step\n",
      "1/1 [==============================] - 0s 19ms/step\n",
      "1/1 [==============================] - 0s 19ms/step\n",
      "1/1 [==============================] - 0s 19ms/step\n",
      "1/1 [==============================] - 0s 19ms/step\n",
      "1/1 [==============================] - 0s 19ms/step\n",
      "1/1 [==============================] - 0s 18ms/step\n",
      "1/1 [==============================] - 0s 20ms/step\n",
      "1/1 [==============================] - 0s 19ms/step\n",
      "1/1 [==============================] - 0s 19ms/step\n",
      "1/1 [==============================] - 0s 20ms/step\n",
      "1/1 [==============================] - 0s 19ms/step\n",
      "1/1 [==============================] - 0s 18ms/step\n",
      "1000\n",
      "0\n",
      "29\n"
     ]
    }
   ],
   "source": [
    "file_paths = []\n",
    "wrong_filenames = []\n",
    "count = 0\n",
    "file_idx = 0\n",
    "\n",
    "# make sure we start in the beginning\n",
    "test_dataset = image_dataset_from_directory(\n",
    "    test_dir,\n",
    "    image_size=(IMG_SIZE, IMG_SIZE),\n",
    "    batch_size=1,\n",
    "    shuffle=False\n",
    "    )\n",
    "    \n",
    "file_paths = test_dataset.file_paths\n",
    "for data_batch, labels_batch in test_dataset:\n",
    "\n",
    "    predictions = model.predict(data_batch).flatten()\n",
    "    predictions = predictions.round()\n",
    "    predictions = predictions.astype(int)\n",
    "    labels_batch = labels_batch.numpy()\n",
    "    #pred_str = np.array2string(predictions, separator=', ')\n",
    "    #label_str = np.array2string(labels_batch, separator=', ')\n",
    "    for i in range(len(data_batch)):\n",
    "        if labels_batch[i] != predictions[i]:\n",
    "            wrong_filenames.append(file_paths[file_idx])\n",
    "    file_idx += 1\n",
    "\n",
    "# print(f\"Predictions: {pred_str}\")\n",
    "# print(f\"Labels: {label_str}\")\n",
    "print(file_idx)\n",
    "print(count)\n",
    "print(len(wrong_filenames))"
   ]
  },
  {
   "cell_type": "code",
   "execution_count": 37,
   "metadata": {},
   "outputs": [],
   "source": [
    "# write the wrong filenames to a file\n",
    "with open('results/3-4/failed_filenames.txt', 'w') as f:\n",
    "    for item in wrong_filenames:\n",
    "        f.write(\"%s\\n\" % item)"
   ]
  }
 ],
 "metadata": {
  "kernelspec": {
   "display_name": "What_Do_CNN_Know",
   "language": "python",
   "name": "python3"
  },
  "language_info": {
   "codemirror_mode": {
    "name": "ipython",
    "version": 3
   },
   "file_extension": ".py",
   "mimetype": "text/x-python",
   "name": "python",
   "nbconvert_exporter": "python",
   "pygments_lexer": "ipython3",
   "version": "3.11.8"
  }
 },
 "nbformat": 4,
 "nbformat_minor": 2
}
