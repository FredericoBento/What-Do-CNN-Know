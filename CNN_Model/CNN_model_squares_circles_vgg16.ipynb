{
 "cells": [
  {
   "cell_type": "code",
   "execution_count": 1,
   "metadata": {},
   "outputs": [
    {
     "name": "stderr",
     "output_type": "stream",
     "text": [
      "2024-03-13 00:07:41.775280: E external/local_xla/xla/stream_executor/cuda/cuda_dnn.cc:9261] Unable to register cuDNN factory: Attempting to register factory for plugin cuDNN when one has already been registered\n",
      "2024-03-13 00:07:41.775308: E external/local_xla/xla/stream_executor/cuda/cuda_fft.cc:607] Unable to register cuFFT factory: Attempting to register factory for plugin cuFFT when one has already been registered\n",
      "2024-03-13 00:07:41.776894: E external/local_xla/xla/stream_executor/cuda/cuda_blas.cc:1515] Unable to register cuBLAS factory: Attempting to register factory for plugin cuBLAS when one has already been registered\n",
      "2024-03-13 00:07:41.786113: I tensorflow/core/platform/cpu_feature_guard.cc:182] This TensorFlow binary is optimized to use available CPU instructions in performance-critical operations.\n",
      "To enable the following instructions: AVX2 FMA, in other operations, rebuild TensorFlow with the appropriate compiler flags.\n",
      "2024-03-13 00:07:42.729082: W tensorflow/compiler/tf2tensorrt/utils/py_utils.cc:38] TF-TRT Warning: Could not find TensorRT\n",
      "2024-03-13 00:07:43.591699: I external/local_xla/xla/stream_executor/cuda/cuda_executor.cc:901] successful NUMA node read from SysFS had negative value (-1), but there must be at least one NUMA node, so returning NUMA node zero. See more at https://github.com/torvalds/linux/blob/v6.0/Documentation/ABI/testing/sysfs-bus-pci#L344-L355\n",
      "2024-03-13 00:07:43.619316: I external/local_xla/xla/stream_executor/cuda/cuda_executor.cc:901] successful NUMA node read from SysFS had negative value (-1), but there must be at least one NUMA node, so returning NUMA node zero. See more at https://github.com/torvalds/linux/blob/v6.0/Documentation/ABI/testing/sysfs-bus-pci#L344-L355\n",
      "2024-03-13 00:07:43.619506: I external/local_xla/xla/stream_executor/cuda/cuda_executor.cc:901] successful NUMA node read from SysFS had negative value (-1), but there must be at least one NUMA node, so returning NUMA node zero. See more at https://github.com/torvalds/linux/blob/v6.0/Documentation/ABI/testing/sysfs-bus-pci#L344-L355\n"
     ]
    },
    {
     "data": {
      "text/plain": [
       "[PhysicalDevice(name='/physical_device:GPU:0', device_type='GPU')]"
      ]
     },
     "execution_count": 1,
     "metadata": {},
     "output_type": "execute_result"
    }
   ],
   "source": [
    "import numpy as np\n",
    "import random\n",
    "import matplotlib.pyplot as plt\n",
    "import tensorflow as tf\n",
    "from tensorflow import keras\n",
    "from keras import layers\n",
    "from keras.utils import image_dataset_from_directory\n",
    "from keras.applications.vgg16 import VGG16\n",
    "from keras.applications.vgg16 import preprocess_input\n",
    "tf.config.list_physical_devices('GPU')"
   ]
  },
  {
   "cell_type": "code",
   "execution_count": 2,
   "metadata": {},
   "outputs": [],
   "source": [
    "train_dir = '../Generator/dataset1/train'\n",
    "test_dir = '../Generator/dataset1/test'"
   ]
  },
  {
   "cell_type": "code",
   "execution_count": 3,
   "metadata": {},
   "outputs": [
    {
     "name": "stdout",
     "output_type": "stream",
     "text": [
      "17\n"
     ]
    }
   ],
   "source": [
    "IMG_SIZE = 150\n",
    "BATCH_SIZE = 32\n",
    "RANDOM_SEED = random.randint(0, 1000)\n",
    "print(RANDOM_SEED)"
   ]
  },
  {
   "cell_type": "code",
   "execution_count": 4,
   "metadata": {},
   "outputs": [
    {
     "name": "stdout",
     "output_type": "stream",
     "text": [
      "Found 3000 files belonging to 4 classes.\n"
     ]
    },
    {
     "name": "stderr",
     "output_type": "stream",
     "text": [
      "2024-03-13 00:07:47.376367: I external/local_xla/xla/stream_executor/cuda/cuda_executor.cc:901] successful NUMA node read from SysFS had negative value (-1), but there must be at least one NUMA node, so returning NUMA node zero. See more at https://github.com/torvalds/linux/blob/v6.0/Documentation/ABI/testing/sysfs-bus-pci#L344-L355\n",
      "2024-03-13 00:07:47.376708: I external/local_xla/xla/stream_executor/cuda/cuda_executor.cc:901] successful NUMA node read from SysFS had negative value (-1), but there must be at least one NUMA node, so returning NUMA node zero. See more at https://github.com/torvalds/linux/blob/v6.0/Documentation/ABI/testing/sysfs-bus-pci#L344-L355\n",
      "2024-03-13 00:07:47.376866: I external/local_xla/xla/stream_executor/cuda/cuda_executor.cc:901] successful NUMA node read from SysFS had negative value (-1), but there must be at least one NUMA node, so returning NUMA node zero. See more at https://github.com/torvalds/linux/blob/v6.0/Documentation/ABI/testing/sysfs-bus-pci#L344-L355\n",
      "2024-03-13 00:07:47.457419: I external/local_xla/xla/stream_executor/cuda/cuda_executor.cc:901] successful NUMA node read from SysFS had negative value (-1), but there must be at least one NUMA node, so returning NUMA node zero. See more at https://github.com/torvalds/linux/blob/v6.0/Documentation/ABI/testing/sysfs-bus-pci#L344-L355\n",
      "2024-03-13 00:07:47.457611: I external/local_xla/xla/stream_executor/cuda/cuda_executor.cc:901] successful NUMA node read from SysFS had negative value (-1), but there must be at least one NUMA node, so returning NUMA node zero. See more at https://github.com/torvalds/linux/blob/v6.0/Documentation/ABI/testing/sysfs-bus-pci#L344-L355\n",
      "2024-03-13 00:07:47.457764: I external/local_xla/xla/stream_executor/cuda/cuda_executor.cc:901] successful NUMA node read from SysFS had negative value (-1), but there must be at least one NUMA node, so returning NUMA node zero. See more at https://github.com/torvalds/linux/blob/v6.0/Documentation/ABI/testing/sysfs-bus-pci#L344-L355\n",
      "2024-03-13 00:07:47.457878: I tensorflow/core/common_runtime/gpu/gpu_device.cc:1929] Created device /job:localhost/replica:0/task:0/device:GPU:0 with 188 MB memory:  -> device: 0, name: NVIDIA GeForce GTX 1060 with Max-Q Design, pci bus id: 0000:01:00.0, compute capability: 6.1\n",
      "2024-03-13 00:07:47.635288: I external/local_tsl/tsl/platform/default/subprocess.cc:304] Start cannot spawn child process: No such file or directory\n"
     ]
    },
    {
     "name": "stdout",
     "output_type": "stream",
     "text": [
      "Found 1000 files belonging to 4 classes.\n"
     ]
    }
   ],
   "source": [
    "train_dataset = image_dataset_from_directory(\n",
    "    train_dir,\n",
    "    image_size=(IMG_SIZE, IMG_SIZE),\n",
    "    batch_size=BATCH_SIZE,\n",
    "    seed=RANDOM_SEED,\n",
    "    label_mode='categorical',\n",
    "    shuffle=True,\n",
    "    )\n",
    "\n",
    "test_dataset = image_dataset_from_directory(\n",
    "    test_dir,\n",
    "    label_mode='categorical',\n",
    "    image_size=(IMG_SIZE, IMG_SIZE),\n",
    "    batch_size=BATCH_SIZE,\n",
    "    seed=RANDOM_SEED,\n",
    "    shuffle=True\n",
    "    )\n"
   ]
  },
  {
   "cell_type": "code",
   "execution_count": 5,
   "metadata": {},
   "outputs": [],
   "source": [
    "conv_base = VGG16(weights=\"imagenet\", include_top=False)\n",
    "conv_base.trainable = True\n",
    "for layer in conv_base.layers[:-4]:\n",
    "    layer.trainable = False"
   ]
  },
  {
   "cell_type": "code",
   "execution_count": null,
   "metadata": {},
   "outputs": [],
   "source": [
    "AUTOTUNE = tf.data.AUTOTUNE\n",
    "\n",
    "train_dataset = train_dataset.cache().shuffle(1000).prefetch(buffer_size=AUTOTUNE)\n",
    "test_dataset = test_dataset.cache().prefetch(buffer_size=AUTOTUNE)"
   ]
  },
  {
   "cell_type": "code",
   "execution_count": 6,
   "metadata": {},
   "outputs": [
    {
     "name": "stderr",
     "output_type": "stream",
     "text": [
      "2024-03-13 00:08:02.725782: W external/local_tsl/tsl/framework/bfc_allocator.cc:485] Allocator (GPU_0_bfc) ran out of memory trying to allocate 112.50MiB (rounded to 117964800)requested by op Mul\n",
      "If the cause is memory fragmentation maybe the environment variable 'TF_GPU_ALLOCATOR=cuda_malloc_async' will improve the situation. \n",
      "Current allocation summary follows.\n",
      "Current allocation summary follows.\n",
      "2024-03-13 00:08:02.725806: I external/local_tsl/tsl/framework/bfc_allocator.cc:1039] BFCAllocator dump for GPU_0_bfc\n",
      "2024-03-13 00:08:02.725815: I external/local_tsl/tsl/framework/bfc_allocator.cc:1046] Bin (256): \tTotal Chunks: 38, Chunks in use: 38. 9.5KiB allocated for chunks. 9.5KiB in use in bin. 773B client-requested in use in bin.\n",
      "2024-03-13 00:08:02.725821: I external/local_tsl/tsl/framework/bfc_allocator.cc:1046] Bin (512): \tTotal Chunks: 2, Chunks in use: 2. 1.0KiB allocated for chunks. 1.0KiB in use in bin. 1.0KiB client-requested in use in bin.\n",
      "2024-03-13 00:08:02.725827: I external/local_tsl/tsl/framework/bfc_allocator.cc:1046] Bin (1024): \tTotal Chunks: 4, Chunks in use: 4. 4.2KiB allocated for chunks. 4.2KiB in use in bin. 4.0KiB client-requested in use in bin.\n",
      "2024-03-13 00:08:02.725833: I external/local_tsl/tsl/framework/bfc_allocator.cc:1046] Bin (2048): \tTotal Chunks: 6, Chunks in use: 6. 12.0KiB allocated for chunks. 12.0KiB in use in bin. 12.0KiB client-requested in use in bin.\n",
      "2024-03-13 00:08:02.725838: I external/local_tsl/tsl/framework/bfc_allocator.cc:1046] Bin (4096): \tTotal Chunks: 2, Chunks in use: 1. 11.2KiB allocated for chunks. 6.8KiB in use in bin. 6.8KiB client-requested in use in bin.\n",
      "2024-03-13 00:08:02.725844: I external/local_tsl/tsl/framework/bfc_allocator.cc:1046] Bin (8192): \tTotal Chunks: 0, Chunks in use: 0. 0B allocated for chunks. 0B in use in bin. 0B client-requested in use in bin.\n",
      "2024-03-13 00:08:02.725849: I external/local_tsl/tsl/framework/bfc_allocator.cc:1046] Bin (16384): \tTotal Chunks: 0, Chunks in use: 0. 0B allocated for chunks. 0B in use in bin. 0B client-requested in use in bin.\n",
      "2024-03-13 00:08:02.725854: I external/local_tsl/tsl/framework/bfc_allocator.cc:1046] Bin (32768): \tTotal Chunks: 0, Chunks in use: 0. 0B allocated for chunks. 0B in use in bin. 0B client-requested in use in bin.\n",
      "2024-03-13 00:08:02.725859: I external/local_tsl/tsl/framework/bfc_allocator.cc:1046] Bin (65536): \tTotal Chunks: 0, Chunks in use: 0. 0B allocated for chunks. 0B in use in bin. 0B client-requested in use in bin.\n",
      "2024-03-13 00:08:02.725864: I external/local_tsl/tsl/framework/bfc_allocator.cc:1046] Bin (131072): \tTotal Chunks: 0, Chunks in use: 0. 0B allocated for chunks. 0B in use in bin. 0B client-requested in use in bin.\n",
      "2024-03-13 00:08:02.725870: I external/local_tsl/tsl/framework/bfc_allocator.cc:1046] Bin (262144): \tTotal Chunks: 2, Chunks in use: 2. 707.2KiB allocated for chunks. 707.2KiB in use in bin. 432.0KiB client-requested in use in bin.\n",
      "2024-03-13 00:08:02.725877: I external/local_tsl/tsl/framework/bfc_allocator.cc:1046] Bin (524288): \tTotal Chunks: 1, Chunks in use: 1. 576.0KiB allocated for chunks. 576.0KiB in use in bin. 576.0KiB client-requested in use in bin.\n",
      "2024-03-13 00:08:02.725882: I external/local_tsl/tsl/framework/bfc_allocator.cc:1046] Bin (1048576): \tTotal Chunks: 1, Chunks in use: 1. 1.97MiB allocated for chunks. 1.97MiB in use in bin. 1.12MiB client-requested in use in bin.\n",
      "2024-03-13 00:08:02.725888: I external/local_tsl/tsl/framework/bfc_allocator.cc:1046] Bin (2097152): \tTotal Chunks: 2, Chunks in use: 2. 4.50MiB allocated for chunks. 4.50MiB in use in bin. 4.50MiB client-requested in use in bin.\n",
      "2024-03-13 00:08:02.725894: I external/local_tsl/tsl/framework/bfc_allocator.cc:1046] Bin (4194304): \tTotal Chunks: 2, Chunks in use: 1. 10.69MiB allocated for chunks. 4.50MiB in use in bin. 4.50MiB client-requested in use in bin.\n",
      "2024-03-13 00:08:02.725900: I external/local_tsl/tsl/framework/bfc_allocator.cc:1046] Bin (8388608): \tTotal Chunks: 5, Chunks in use: 5. 45.00MiB allocated for chunks. 45.00MiB in use in bin. 45.00MiB client-requested in use in bin.\n",
      "2024-03-13 00:08:02.725905: I external/local_tsl/tsl/framework/bfc_allocator.cc:1046] Bin (16777216): \tTotal Chunks: 0, Chunks in use: 0. 0B allocated for chunks. 0B in use in bin. 0B client-requested in use in bin.\n",
      "2024-03-13 00:08:02.725911: I external/local_tsl/tsl/framework/bfc_allocator.cc:1046] Bin (33554432): \tTotal Chunks: 0, Chunks in use: 0. 0B allocated for chunks. 0B in use in bin. 0B client-requested in use in bin.\n",
      "2024-03-13 00:08:02.725918: I external/local_tsl/tsl/framework/bfc_allocator.cc:1046] Bin (67108864): \tTotal Chunks: 1, Chunks in use: 1. 124.62MiB allocated for chunks. 124.62MiB in use in bin. 112.50MiB client-requested in use in bin.\n",
      "2024-03-13 00:08:02.725944: I external/local_tsl/tsl/framework/bfc_allocator.cc:1046] Bin (134217728): \tTotal Chunks: 0, Chunks in use: 0. 0B allocated for chunks. 0B in use in bin. 0B client-requested in use in bin.\n",
      "2024-03-13 00:08:02.725949: I external/local_tsl/tsl/framework/bfc_allocator.cc:1046] Bin (268435456): \tTotal Chunks: 0, Chunks in use: 0. 0B allocated for chunks. 0B in use in bin. 0B client-requested in use in bin.\n",
      "2024-03-13 00:08:02.725976: I external/local_tsl/tsl/framework/bfc_allocator.cc:1062] Bin for 112.50MiB was 64.00MiB, Chunk State: \n",
      "2024-03-13 00:08:02.725981: I external/local_tsl/tsl/framework/bfc_allocator.cc:1075] Next region of size 197197824\n",
      "2024-03-13 00:08:02.725987: I external/local_tsl/tsl/framework/bfc_allocator.cc:1095] InUse at 7fddb4000000 of size 1280 next 1\n",
      "2024-03-13 00:08:02.725993: I external/local_tsl/tsl/framework/bfc_allocator.cc:1095] InUse at 7fddb4000500 of size 256 next 2\n",
      "2024-03-13 00:08:02.725998: I external/local_tsl/tsl/framework/bfc_allocator.cc:1095] InUse at 7fddb4000600 of size 256 next 3\n",
      "2024-03-13 00:08:02.726003: I external/local_tsl/tsl/framework/bfc_allocator.cc:1095] InUse at 7fddb4000700 of size 256 next 4\n",
      "2024-03-13 00:08:02.726007: I external/local_tsl/tsl/framework/bfc_allocator.cc:1095] InUse at 7fddb4000800 of size 256 next 5\n",
      "2024-03-13 00:08:02.726012: I external/local_tsl/tsl/framework/bfc_allocator.cc:1095] InUse at 7fddb4000900 of size 256 next 6\n",
      "2024-03-13 00:08:02.726016: I external/local_tsl/tsl/framework/bfc_allocator.cc:1095] InUse at 7fddb4000a00 of size 256 next 7\n",
      "2024-03-13 00:08:02.726021: I external/local_tsl/tsl/framework/bfc_allocator.cc:1095] InUse at 7fddb4000b00 of size 256 next 8\n",
      "2024-03-13 00:08:02.726025: I external/local_tsl/tsl/framework/bfc_allocator.cc:1095] InUse at 7fddb4000c00 of size 256 next 9\n",
      "2024-03-13 00:08:02.726046: I external/local_tsl/tsl/framework/bfc_allocator.cc:1095] InUse at 7fddb4000d00 of size 256 next 10\n",
      "2024-03-13 00:08:02.726051: I external/local_tsl/tsl/framework/bfc_allocator.cc:1095] InUse at 7fddb4000e00 of size 256 next 11\n",
      "2024-03-13 00:08:02.726055: I external/local_tsl/tsl/framework/bfc_allocator.cc:1095] InUse at 7fddb4000f00 of size 256 next 12\n",
      "2024-03-13 00:08:02.726059: I external/local_tsl/tsl/framework/bfc_allocator.cc:1095] InUse at 7fddb4001000 of size 256 next 13\n",
      "2024-03-13 00:08:02.726064: I external/local_tsl/tsl/framework/bfc_allocator.cc:1095] InUse at 7fddb4001100 of size 256 next 15\n",
      "2024-03-13 00:08:02.726085: I external/local_tsl/tsl/framework/bfc_allocator.cc:1095] InUse at 7fddb4001200 of size 256 next 16\n",
      "2024-03-13 00:08:02.726089: I external/local_tsl/tsl/framework/bfc_allocator.cc:1095] InUse at 7fddb4001300 of size 256 next 14\n",
      "2024-03-13 00:08:02.726094: I external/local_tsl/tsl/framework/bfc_allocator.cc:1095] InUse at 7fddb4001400 of size 256 next 17\n",
      "2024-03-13 00:08:02.726098: I external/local_tsl/tsl/framework/bfc_allocator.cc:1095] InUse at 7fddb4001500 of size 256 next 22\n",
      "2024-03-13 00:08:02.726103: I external/local_tsl/tsl/framework/bfc_allocator.cc:1095] InUse at 7fddb4001600 of size 256 next 20\n",
      "2024-03-13 00:08:02.726107: I external/local_tsl/tsl/framework/bfc_allocator.cc:1095] InUse at 7fddb4001700 of size 256 next 21\n",
      "2024-03-13 00:08:02.726112: I external/local_tsl/tsl/framework/bfc_allocator.cc:1095] InUse at 7fddb4001800 of size 512 next 25\n",
      "2024-03-13 00:08:02.726117: I external/local_tsl/tsl/framework/bfc_allocator.cc:1095] InUse at 7fddb4001a00 of size 256 next 26\n",
      "2024-03-13 00:08:02.726122: I external/local_tsl/tsl/framework/bfc_allocator.cc:1095] InUse at 7fddb4001b00 of size 256 next 29\n",
      "2024-03-13 00:08:02.726127: I external/local_tsl/tsl/framework/bfc_allocator.cc:1095] InUse at 7fddb4001c00 of size 256 next 60\n",
      "2024-03-13 00:08:02.726131: I external/local_tsl/tsl/framework/bfc_allocator.cc:1095] InUse at 7fddb4001d00 of size 256 next 32\n",
      "2024-03-13 00:08:02.726136: I external/local_tsl/tsl/framework/bfc_allocator.cc:1095] InUse at 7fddb4001e00 of size 256 next 30\n",
      "2024-03-13 00:08:02.726140: I external/local_tsl/tsl/framework/bfc_allocator.cc:1095] InUse at 7fddb4001f00 of size 256 next 31\n",
      "2024-03-13 00:08:02.726145: I external/local_tsl/tsl/framework/bfc_allocator.cc:1095] InUse at 7fddb4002000 of size 1024 next 35\n",
      "2024-03-13 00:08:02.726150: I external/local_tsl/tsl/framework/bfc_allocator.cc:1095] InUse at 7fddb4002400 of size 256 next 36\n",
      "2024-03-13 00:08:02.726155: I external/local_tsl/tsl/framework/bfc_allocator.cc:1095] InUse at 7fddb4002500 of size 256 next 39\n",
      "2024-03-13 00:08:02.726160: I external/local_tsl/tsl/framework/bfc_allocator.cc:1095] InUse at 7fddb4002600 of size 1024 next 42\n",
      "2024-03-13 00:08:02.726165: I external/local_tsl/tsl/framework/bfc_allocator.cc:1095] InUse at 7fddb4002a00 of size 256 next 63\n",
      "2024-03-13 00:08:02.726170: I external/local_tsl/tsl/framework/bfc_allocator.cc:1095] InUse at 7fddb4002b00 of size 256 next 58\n",
      "2024-03-13 00:08:02.726175: I external/local_tsl/tsl/framework/bfc_allocator.cc:1095] InUse at 7fddb4002c00 of size 256 next 34\n",
      "2024-03-13 00:08:02.726179: I external/local_tsl/tsl/framework/bfc_allocator.cc:1095] InUse at 7fddb4002d00 of size 256 next 45\n",
      "2024-03-13 00:08:02.726184: I external/local_tsl/tsl/framework/bfc_allocator.cc:1095] InUse at 7fddb4002e00 of size 256 next 40\n",
      "2024-03-13 00:08:02.726188: I external/local_tsl/tsl/framework/bfc_allocator.cc:1095] InUse at 7fddb4002f00 of size 256 next 41\n",
      "2024-03-13 00:08:02.726193: I external/local_tsl/tsl/framework/bfc_allocator.cc:1095] InUse at 7fddb4003000 of size 2048 next 47\n",
      "2024-03-13 00:08:02.726198: I external/local_tsl/tsl/framework/bfc_allocator.cc:1095] InUse at 7fddb4003800 of size 256 next 48\n",
      "2024-03-13 00:08:02.726203: I external/local_tsl/tsl/framework/bfc_allocator.cc:1095] InUse at 7fddb4003900 of size 256 next 51\n",
      "2024-03-13 00:08:02.726208: I external/local_tsl/tsl/framework/bfc_allocator.cc:1095] InUse at 7fddb4003a00 of size 2048 next 54\n",
      "2024-03-13 00:08:02.726213: I external/local_tsl/tsl/framework/bfc_allocator.cc:1095] InUse at 7fddb4004200 of size 2048 next 18\n",
      "2024-03-13 00:08:02.726217: I external/local_tsl/tsl/framework/bfc_allocator.cc:1095] InUse at 7fddb4004a00 of size 256 next 52\n",
      "2024-03-13 00:08:02.726222: I external/local_tsl/tsl/framework/bfc_allocator.cc:1095] InUse at 7fddb4004b00 of size 512 next 27\n",
      "2024-03-13 00:08:02.726227: I external/local_tsl/tsl/framework/bfc_allocator.cc:1095] InUse at 7fddb4004d00 of size 1024 next 38\n",
      "2024-03-13 00:08:02.726231: I external/local_tsl/tsl/framework/bfc_allocator.cc:1095] InUse at 7fddb4005100 of size 2048 next 49\n",
      "2024-03-13 00:08:02.726236: I external/local_tsl/tsl/framework/bfc_allocator.cc:1095] InUse at 7fddb4005900 of size 2048 next 59\n",
      "2024-03-13 00:08:02.726240: I external/local_tsl/tsl/framework/bfc_allocator.cc:1095] InUse at 7fddb4006100 of size 2048 next 61\n",
      "2024-03-13 00:08:02.726245: I external/local_tsl/tsl/framework/bfc_allocator.cc:1095] InUse at 7fddb4006900 of size 256 next 64\n",
      "2024-03-13 00:08:02.726250: I external/local_tsl/tsl/framework/bfc_allocator.cc:1095] InUse at 7fddb4006a00 of size 256 next 65\n",
      "2024-03-13 00:08:02.726255: I external/local_tsl/tsl/framework/bfc_allocator.cc:1095] Free  at 7fddb4006b00 of size 4608 next 62\n",
      "2024-03-13 00:08:02.726260: I external/local_tsl/tsl/framework/bfc_allocator.cc:1095] InUse at 7fddb4007d00 of size 6912 next 57\n",
      "2024-03-13 00:08:02.726265: I external/local_tsl/tsl/framework/bfc_allocator.cc:1095] InUse at 7fddb4009800 of size 281856 next 24\n",
      "2024-03-13 00:08:02.726270: I external/local_tsl/tsl/framework/bfc_allocator.cc:1095] InUse at 7fddb404e500 of size 442368 next 28\n",
      "2024-03-13 00:08:02.726275: I external/local_tsl/tsl/framework/bfc_allocator.cc:1095] InUse at 7fddb40ba500 of size 2064384 next 33\n",
      "2024-03-13 00:08:02.726280: I external/local_tsl/tsl/framework/bfc_allocator.cc:1095] InUse at 7fddb42b2500 of size 589824 next 23\n",
      "2024-03-13 00:08:02.726284: I external/local_tsl/tsl/framework/bfc_allocator.cc:1095] InUse at 7fddb4342500 of size 4718592 next 43\n",
      "2024-03-13 00:08:02.726289: I external/local_tsl/tsl/framework/bfc_allocator.cc:1095] Free  at 7fddb47c2500 of size 6488064 next 46\n",
      "2024-03-13 00:08:02.726294: I external/local_tsl/tsl/framework/bfc_allocator.cc:1095] InUse at 7fddb4df2500 of size 2359296 next 37\n",
      "2024-03-13 00:08:02.726299: I external/local_tsl/tsl/framework/bfc_allocator.cc:1095] InUse at 7fddb5032500 of size 2359296 next 50\n",
      "2024-03-13 00:08:02.726304: I external/local_tsl/tsl/framework/bfc_allocator.cc:1095] InUse at 7fddb5272500 of size 9437184 next 44\n",
      "2024-03-13 00:08:02.726325: I external/local_tsl/tsl/framework/bfc_allocator.cc:1095] InUse at 7fddb5b72500 of size 9437184 next 56\n",
      "2024-03-13 00:08:02.726329: I external/local_tsl/tsl/framework/bfc_allocator.cc:1095] InUse at 7fddb6472500 of size 9437184 next 55\n",
      "2024-03-13 00:08:02.726334: I external/local_tsl/tsl/framework/bfc_allocator.cc:1095] InUse at 7fddb6d72500 of size 9437184 next 19\n",
      "2024-03-13 00:08:02.726339: I external/local_tsl/tsl/framework/bfc_allocator.cc:1095] InUse at 7fddb7672500 of size 9437184 next 53\n",
      "2024-03-13 00:08:02.726344: I external/local_tsl/tsl/framework/bfc_allocator.cc:1095] InUse at 7fddb7f72500 of size 130669312 next 18446744073709551615\n",
      "2024-03-13 00:08:02.726349: I external/local_tsl/tsl/framework/bfc_allocator.cc:1100]      Summary of in-use Chunks by size: \n",
      "2024-03-13 00:08:02.726371: I external/local_tsl/tsl/framework/bfc_allocator.cc:1103] 38 Chunks of size 256 totalling 9.5KiB\n",
      "2024-03-13 00:08:02.726377: I external/local_tsl/tsl/framework/bfc_allocator.cc:1103] 2 Chunks of size 512 totalling 1.0KiB\n",
      "2024-03-13 00:08:02.726382: I external/local_tsl/tsl/framework/bfc_allocator.cc:1103] 3 Chunks of size 1024 totalling 3.0KiB\n",
      "2024-03-13 00:08:02.726388: I external/local_tsl/tsl/framework/bfc_allocator.cc:1103] 1 Chunks of size 1280 totalling 1.2KiB\n",
      "2024-03-13 00:08:02.726393: I external/local_tsl/tsl/framework/bfc_allocator.cc:1103] 6 Chunks of size 2048 totalling 12.0KiB\n",
      "2024-03-13 00:08:02.726415: I external/local_tsl/tsl/framework/bfc_allocator.cc:1103] 1 Chunks of size 6912 totalling 6.8KiB\n",
      "2024-03-13 00:08:02.726436: I external/local_tsl/tsl/framework/bfc_allocator.cc:1103] 1 Chunks of size 281856 totalling 275.2KiB\n",
      "2024-03-13 00:08:02.726442: I external/local_tsl/tsl/framework/bfc_allocator.cc:1103] 1 Chunks of size 442368 totalling 432.0KiB\n",
      "2024-03-13 00:08:02.726447: I external/local_tsl/tsl/framework/bfc_allocator.cc:1103] 1 Chunks of size 589824 totalling 576.0KiB\n",
      "2024-03-13 00:08:02.726453: I external/local_tsl/tsl/framework/bfc_allocator.cc:1103] 1 Chunks of size 2064384 totalling 1.97MiB\n",
      "2024-03-13 00:08:02.726458: I external/local_tsl/tsl/framework/bfc_allocator.cc:1103] 2 Chunks of size 2359296 totalling 4.50MiB\n",
      "2024-03-13 00:08:02.726463: I external/local_tsl/tsl/framework/bfc_allocator.cc:1103] 1 Chunks of size 4718592 totalling 4.50MiB\n",
      "2024-03-13 00:08:02.726468: I external/local_tsl/tsl/framework/bfc_allocator.cc:1103] 5 Chunks of size 9437184 totalling 45.00MiB\n",
      "2024-03-13 00:08:02.726474: I external/local_tsl/tsl/framework/bfc_allocator.cc:1103] 1 Chunks of size 130669312 totalling 124.62MiB\n",
      "2024-03-13 00:08:02.726480: I external/local_tsl/tsl/framework/bfc_allocator.cc:1107] Sum Total of in-use chunks: 181.87MiB\n",
      "2024-03-13 00:08:02.726485: I external/local_tsl/tsl/framework/bfc_allocator.cc:1109] Total bytes in pool: 197197824 memory_limit_: 197197824 available bytes: 0 curr_region_allocation_bytes_: 394395648\n",
      "2024-03-13 00:08:02.726494: I external/local_tsl/tsl/framework/bfc_allocator.cc:1114] Stats: \n",
      "Limit:                       197197824\n",
      "InUse:                       190705152\n",
      "MaxInUse:                    190705152\n",
      "NumAllocs:                         167\n",
      "MaxAllocSize:                130669312\n",
      "Reserved:                            0\n",
      "PeakReserved:                        0\n",
      "LargestFreeBlock:                    0\n",
      "\n",
      "2024-03-13 00:08:02.726502: W external/local_tsl/tsl/framework/bfc_allocator.cc:497] *****__***************************************************************************************xxxxxx\n",
      "2024-03-13 00:08:02.726513: W tensorflow/core/framework/op_kernel.cc:1827] RESOURCE_EXHAUSTED: failed to allocate memory\n"
     ]
    },
    {
     "ename": "ResourceExhaustedError",
     "evalue": "{{function_node __wrapped__Mul_device_/job:localhost/replica:0/task:0/device:GPU:0}} failed to allocate memory [Op:Mul] name: ",
     "output_type": "error",
     "traceback": [
      "\u001b[0;31m---------------------------------------------------------------------------\u001b[0m",
      "\u001b[0;31mResourceExhaustedError\u001b[0m                    Traceback (most recent call last)",
      "Cell \u001b[0;32mIn[6], line 12\u001b[0m\n\u001b[1;32m     10\u001b[0m x \u001b[38;5;241m=\u001b[39m conv_base(x)\n\u001b[1;32m     11\u001b[0m x \u001b[38;5;241m=\u001b[39m layers\u001b[38;5;241m.\u001b[39mFlatten()(x)\n\u001b[0;32m---> 12\u001b[0m x \u001b[38;5;241m=\u001b[39m \u001b[43mlayers\u001b[49m\u001b[38;5;241;43m.\u001b[39;49m\u001b[43mDense\u001b[49m\u001b[43m(\u001b[49m\u001b[38;5;241;43m256\u001b[39;49m\u001b[43m)\u001b[49m\u001b[43m(\u001b[49m\u001b[43mx\u001b[49m\u001b[43m)\u001b[49m\n\u001b[1;32m     13\u001b[0m x \u001b[38;5;241m=\u001b[39m layers\u001b[38;5;241m.\u001b[39mDropout(\u001b[38;5;241m0.5\u001b[39m)(x)\n\u001b[1;32m     14\u001b[0m outputs \u001b[38;5;241m=\u001b[39m layers\u001b[38;5;241m.\u001b[39mDense(\u001b[38;5;241m4\u001b[39m, activation\u001b[38;5;241m=\u001b[39m\u001b[38;5;124m\"\u001b[39m\u001b[38;5;124msoftmax\u001b[39m\u001b[38;5;124m\"\u001b[39m)(x)\n",
      "File \u001b[0;32m~/.local/lib/python3.11/site-packages/keras/src/utils/traceback_utils.py:70\u001b[0m, in \u001b[0;36mfilter_traceback.<locals>.error_handler\u001b[0;34m(*args, **kwargs)\u001b[0m\n\u001b[1;32m     67\u001b[0m     filtered_tb \u001b[38;5;241m=\u001b[39m _process_traceback_frames(e\u001b[38;5;241m.\u001b[39m__traceback__)\n\u001b[1;32m     68\u001b[0m     \u001b[38;5;66;03m# To get the full stack trace, call:\u001b[39;00m\n\u001b[1;32m     69\u001b[0m     \u001b[38;5;66;03m# `tf.debugging.disable_traceback_filtering()`\u001b[39;00m\n\u001b[0;32m---> 70\u001b[0m     \u001b[38;5;28;01mraise\u001b[39;00m e\u001b[38;5;241m.\u001b[39mwith_traceback(filtered_tb) \u001b[38;5;28;01mfrom\u001b[39;00m \u001b[38;5;28;01mNone\u001b[39;00m\n\u001b[1;32m     71\u001b[0m \u001b[38;5;28;01mfinally\u001b[39;00m:\n\u001b[1;32m     72\u001b[0m     \u001b[38;5;28;01mdel\u001b[39;00m filtered_tb\n",
      "File \u001b[0;32m~/.local/lib/python3.11/site-packages/keras/src/backend.py:2100\u001b[0m, in \u001b[0;36mRandomGenerator.random_uniform\u001b[0;34m(self, shape, minval, maxval, dtype, nonce)\u001b[0m\n\u001b[1;32m   2098\u001b[0m     \u001b[38;5;28;01mif\u001b[39;00m nonce:\n\u001b[1;32m   2099\u001b[0m         seed \u001b[38;5;241m=\u001b[39m tf\u001b[38;5;241m.\u001b[39mrandom\u001b[38;5;241m.\u001b[39mexperimental\u001b[38;5;241m.\u001b[39mstateless_fold_in(seed, nonce)\n\u001b[0;32m-> 2100\u001b[0m     \u001b[38;5;28;01mreturn\u001b[39;00m \u001b[43mtf\u001b[49m\u001b[38;5;241;43m.\u001b[39;49m\u001b[43mrandom\u001b[49m\u001b[38;5;241;43m.\u001b[39;49m\u001b[43mstateless_uniform\u001b[49m\u001b[43m(\u001b[49m\n\u001b[1;32m   2101\u001b[0m \u001b[43m        \u001b[49m\u001b[43mshape\u001b[49m\u001b[38;5;241;43m=\u001b[39;49m\u001b[43mshape\u001b[49m\u001b[43m,\u001b[49m\n\u001b[1;32m   2102\u001b[0m \u001b[43m        \u001b[49m\u001b[43mminval\u001b[49m\u001b[38;5;241;43m=\u001b[39;49m\u001b[43mminval\u001b[49m\u001b[43m,\u001b[49m\n\u001b[1;32m   2103\u001b[0m \u001b[43m        \u001b[49m\u001b[43mmaxval\u001b[49m\u001b[38;5;241;43m=\u001b[39;49m\u001b[43mmaxval\u001b[49m\u001b[43m,\u001b[49m\n\u001b[1;32m   2104\u001b[0m \u001b[43m        \u001b[49m\u001b[43mdtype\u001b[49m\u001b[38;5;241;43m=\u001b[39;49m\u001b[43mdtype\u001b[49m\u001b[43m,\u001b[49m\n\u001b[1;32m   2105\u001b[0m \u001b[43m        \u001b[49m\u001b[43mseed\u001b[49m\u001b[38;5;241;43m=\u001b[39;49m\u001b[43mseed\u001b[49m\u001b[43m,\u001b[49m\n\u001b[1;32m   2106\u001b[0m \u001b[43m    \u001b[49m\u001b[43m)\u001b[49m\n\u001b[1;32m   2107\u001b[0m \u001b[38;5;28;01mreturn\u001b[39;00m tf\u001b[38;5;241m.\u001b[39mrandom\u001b[38;5;241m.\u001b[39muniform(\n\u001b[1;32m   2108\u001b[0m     shape\u001b[38;5;241m=\u001b[39mshape,\n\u001b[1;32m   2109\u001b[0m     minval\u001b[38;5;241m=\u001b[39mminval,\n\u001b[0;32m   (...)\u001b[0m\n\u001b[1;32m   2112\u001b[0m     seed\u001b[38;5;241m=\u001b[39m\u001b[38;5;28mself\u001b[39m\u001b[38;5;241m.\u001b[39mmake_legacy_seed(),\n\u001b[1;32m   2113\u001b[0m )\n",
      "\u001b[0;31mResourceExhaustedError\u001b[0m: {{function_node __wrapped__Mul_device_/job:localhost/replica:0/task:0/device:GPU:0}} failed to allocate memory [Op:Mul] name: "
     ]
    }
   ],
   "source": [
    "data_augmentation = keras.Sequential(\n",
    "[\n",
    "    layers.RandomFlip(\"horizontal\"),\n",
    "    layers.RandomRotation(0.1),\n",
    "    layers.RandomZoom(0.2),\n",
    "])\n",
    "\n",
    "inputs = keras.Input(shape=(150, 150, 3))\n",
    "x = data_augmentation(inputs)\n",
    "x = keras.applications.vgg16.preprocess_input(x)\n",
    "x = conv_base(x)\n",
    "x = layers.Flatten()(x)\n",
    "x = layers.Dense(256)(x)\n",
    "x = layers.Dropout(0.5)(x)\n",
    "outputs = layers.Dense(4, activation=\"softmax\")(x)\n",
    "model = keras.Model(inputs, outputs)"
   ]
  },
  {
   "cell_type": "code",
   "execution_count": null,
   "metadata": {},
   "outputs": [],
   "source": [
    "model.summary()"
   ]
  },
  {
   "cell_type": "code",
   "execution_count": null,
   "metadata": {},
   "outputs": [],
   "source": [
    "model.compile(loss=\"categorical_crossentropy\", optimizer=tf.keras.optimizers.RMSprop(learning_rate=1e-4), metrics=['acc'])"
   ]
  },
  {
   "cell_type": "code",
   "execution_count": null,
   "metadata": {},
   "outputs": [],
   "source": [
    "history = model.fit(train_dataset, epochs=20, batch_size=32)"
   ]
  },
  {
   "cell_type": "code",
   "execution_count": null,
   "metadata": {},
   "outputs": [],
   "source": [
    "model.save('models/shape_classifier.h5')"
   ]
  },
  {
   "cell_type": "markdown",
   "metadata": {},
   "source": []
  },
  {
   "cell_type": "code",
   "execution_count": null,
   "metadata": {},
   "outputs": [],
   "source": [
    "img = np.array([])\n",
    "for data_batch, label in test_dataset.take(1):\n",
    "        image = data_batch[random.randint(0,10)].numpy().astype(\"uint8\")\n",
    "        img = np.append(img, image)\n",
    "        plt.imshow(image)\n",
    "        plt.show()\n",
    "        break\n",
    "img = img.reshape(IMG_SIZE, IMG_SIZE, 3)\n",
    "img.astype(\"float32\") / 255\n",
    "img = np.expand_dims(img, axis=0)\n",
    "\n",
    "print(model.predict(img).round())"
   ]
  },
  {
   "cell_type": "code",
   "execution_count": null,
   "metadata": {},
   "outputs": [],
   "source": [
    "val_loss, val_acc = model.evaluate(test_dataset, batch_size=64)\n",
    "print(val_loss, val_acc)"
   ]
  },
  {
   "cell_type": "code",
   "execution_count": null,
   "metadata": {},
   "outputs": [],
   "source": [
    "acc = history.history['acc']\n",
    "loss = history.history['loss']\n",
    "\n",
    "epochs = range(len(acc))\n",
    "plt.plot(epochs, acc, 'r', label='Training accuracy')\n",
    "\n",
    "ax = plt.gca()\n",
    "ax.set_ylim([0, 1])\n",
    "plt.title('Training accuracy')\n",
    "plt.legend(loc=0)\n",
    "plt.figure()\n",
    "plt.show()"
   ]
  },
  {
   "cell_type": "code",
   "execution_count": null,
   "metadata": {},
   "outputs": [],
   "source": [
    "acc = history.history['acc']\n",
    "val_acc = history.history['val_acc']\n",
    "loss = history.history['loss']\n",
    "val_loss = history.history['val_loss']\n",
    "epochs = range(1, len(acc) + 1)\n",
    "\n",
    "plt.plot(epochs, acc, 'bo', label='Training acc')\n",
    "plt.plot(epochs, val_acc, 'b', label='Validation acc')\n",
    "plt.title('Training and validation accuracy')\n",
    "plt.legend()\n",
    "plt.figure()\n",
    "plt.plot(epochs, loss, 'bo', label='Training loss')\n",
    "plt.plot(epochs, val_loss, 'b', label='Validation loss')\n",
    "plt.title('Training and validation loss')\n",
    "plt.legend()\n",
    "plt.show()"
   ]
  },
  {
   "cell_type": "code",
   "execution_count": null,
   "metadata": {},
   "outputs": [],
   "source": [
    "img = tf.keras.preprocessing.image.load_img('cats_and_dogs_small/validation/dogs/dog.1010.jpg', target_size=(150, 150), interpolation='bilinear')"
   ]
  },
  {
   "cell_type": "code",
   "execution_count": null,
   "metadata": {},
   "outputs": [],
   "source": [
    "img_array = tf.keras.preprocessing.image.img_to_array(img)\n",
    "img_array = tf.expand_dims(img_array, 0)\n",
    "print(img_array.shape)\n",
    "result = model.predict(img_array)\n",
    "print(\"Result: \", result.round())"
   ]
  }
 ],
 "metadata": {
  "kernelspec": {
   "display_name": "py3.11.4",
   "language": "python",
   "name": "python3"
  },
  "language_info": {
   "codemirror_mode": {
    "name": "ipython",
    "version": 3
   },
   "file_extension": ".py",
   "mimetype": "text/x-python",
   "name": "python",
   "nbconvert_exporter": "python",
   "pygments_lexer": "ipython3",
   "version": "3.11.8"
  }
 },
 "nbformat": 4,
 "nbformat_minor": 2
}
