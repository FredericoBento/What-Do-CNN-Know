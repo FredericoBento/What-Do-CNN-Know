{
 "cells": [
  {
   "cell_type": "code",
   "execution_count": 1,
   "metadata": {},
   "outputs": [
    {
     "name": "stderr",
     "output_type": "stream",
     "text": [
      "2024-03-10 21:23:21.871200: E external/local_xla/xla/stream_executor/cuda/cuda_dnn.cc:9261] Unable to register cuDNN factory: Attempting to register factory for plugin cuDNN when one has already been registered\n",
      "2024-03-10 21:23:21.871262: E external/local_xla/xla/stream_executor/cuda/cuda_fft.cc:607] Unable to register cuFFT factory: Attempting to register factory for plugin cuFFT when one has already been registered\n",
      "2024-03-10 21:23:21.906301: E external/local_xla/xla/stream_executor/cuda/cuda_blas.cc:1515] Unable to register cuBLAS factory: Attempting to register factory for plugin cuBLAS when one has already been registered\n",
      "2024-03-10 21:23:21.989998: I tensorflow/core/platform/cpu_feature_guard.cc:182] This TensorFlow binary is optimized to use available CPU instructions in performance-critical operations.\n",
      "To enable the following instructions: AVX2 FMA, in other operations, rebuild TensorFlow with the appropriate compiler flags.\n",
      "2024-03-10 21:23:23.947397: W tensorflow/compiler/tf2tensorrt/utils/py_utils.cc:38] TF-TRT Warning: Could not find TensorRT\n",
      "2024-03-10 21:23:25.470425: I external/local_xla/xla/stream_executor/cuda/cuda_executor.cc:901] successful NUMA node read from SysFS had negative value (-1), but there must be at least one NUMA node, so returning NUMA node zero. See more at https://github.com/torvalds/linux/blob/v6.0/Documentation/ABI/testing/sysfs-bus-pci#L344-L355\n",
      "2024-03-10 21:23:25.616044: I external/local_xla/xla/stream_executor/cuda/cuda_executor.cc:901] successful NUMA node read from SysFS had negative value (-1), but there must be at least one NUMA node, so returning NUMA node zero. See more at https://github.com/torvalds/linux/blob/v6.0/Documentation/ABI/testing/sysfs-bus-pci#L344-L355\n",
      "2024-03-10 21:23:25.616516: I external/local_xla/xla/stream_executor/cuda/cuda_executor.cc:901] successful NUMA node read from SysFS had negative value (-1), but there must be at least one NUMA node, so returning NUMA node zero. See more at https://github.com/torvalds/linux/blob/v6.0/Documentation/ABI/testing/sysfs-bus-pci#L344-L355\n"
     ]
    },
    {
     "data": {
      "text/plain": [
       "[PhysicalDevice(name='/physical_device:GPU:0', device_type='GPU')]"
      ]
     },
     "execution_count": 1,
     "metadata": {},
     "output_type": "execute_result"
    }
   ],
   "source": [
    "import numpy as np\n",
    "import random\n",
    "import matplotlib.pyplot as plt\n",
    "import tensorflow as tf\n",
    "from tensorflow import keras\n",
    "from keras import layers\n",
    "from keras.utils import image_dataset_from_directory\n",
    "\n",
    "tf.config.list_physical_devices('GPU')"
   ]
  },
  {
   "cell_type": "code",
   "execution_count": 2,
   "metadata": {},
   "outputs": [],
   "source": [
    "train_dir = '../Generator/dataset/train'\n",
    "test_dir = '../Generator/dataset/test'"
   ]
  },
  {
   "cell_type": "code",
   "execution_count": 3,
   "metadata": {},
   "outputs": [
    {
     "name": "stdout",
     "output_type": "stream",
     "text": [
      "516\n"
     ]
    }
   ],
   "source": [
    "IMG_SIZE = 500\n",
    "BATCH_SIZE = 32\n",
    "RANDOM_SEED = random.randint(0, 1000)\n",
    "print(RANDOM_SEED)"
   ]
  },
  {
   "cell_type": "code",
   "execution_count": 4,
   "metadata": {},
   "outputs": [
    {
     "name": "stdout",
     "output_type": "stream",
     "text": [
      "Found 3000 files belonging to 4 classes.\n"
     ]
    },
    {
     "name": "stderr",
     "output_type": "stream",
     "text": [
      "2024-03-10 21:23:39.938598: I external/local_xla/xla/stream_executor/cuda/cuda_executor.cc:901] successful NUMA node read from SysFS had negative value (-1), but there must be at least one NUMA node, so returning NUMA node zero. See more at https://github.com/torvalds/linux/blob/v6.0/Documentation/ABI/testing/sysfs-bus-pci#L344-L355\n",
      "2024-03-10 21:23:39.938970: I external/local_xla/xla/stream_executor/cuda/cuda_executor.cc:901] successful NUMA node read from SysFS had negative value (-1), but there must be at least one NUMA node, so returning NUMA node zero. See more at https://github.com/torvalds/linux/blob/v6.0/Documentation/ABI/testing/sysfs-bus-pci#L344-L355\n",
      "2024-03-10 21:23:39.939238: I external/local_xla/xla/stream_executor/cuda/cuda_executor.cc:901] successful NUMA node read from SysFS had negative value (-1), but there must be at least one NUMA node, so returning NUMA node zero. See more at https://github.com/torvalds/linux/blob/v6.0/Documentation/ABI/testing/sysfs-bus-pci#L344-L355\n",
      "2024-03-10 21:23:40.046042: I external/local_xla/xla/stream_executor/cuda/cuda_executor.cc:901] successful NUMA node read from SysFS had negative value (-1), but there must be at least one NUMA node, so returning NUMA node zero. See more at https://github.com/torvalds/linux/blob/v6.0/Documentation/ABI/testing/sysfs-bus-pci#L344-L355\n",
      "2024-03-10 21:23:40.046313: I external/local_xla/xla/stream_executor/cuda/cuda_executor.cc:901] successful NUMA node read from SysFS had negative value (-1), but there must be at least one NUMA node, so returning NUMA node zero. See more at https://github.com/torvalds/linux/blob/v6.0/Documentation/ABI/testing/sysfs-bus-pci#L344-L355\n",
      "2024-03-10 21:23:40.046562: I external/local_xla/xla/stream_executor/cuda/cuda_executor.cc:901] successful NUMA node read from SysFS had negative value (-1), but there must be at least one NUMA node, so returning NUMA node zero. See more at https://github.com/torvalds/linux/blob/v6.0/Documentation/ABI/testing/sysfs-bus-pci#L344-L355\n",
      "2024-03-10 21:23:40.046685: I tensorflow/core/common_runtime/gpu/gpu_device.cc:1929] Created device /job:localhost/replica:0/task:0/device:GPU:0 with 5501 MB memory:  -> device: 0, name: NVIDIA GeForce GTX 1060 with Max-Q Design, pci bus id: 0000:01:00.0, compute capability: 6.1\n",
      "2024-03-10 21:23:40.308835: I external/local_tsl/tsl/platform/default/subprocess.cc:304] Start cannot spawn child process: No such file or directory\n"
     ]
    },
    {
     "name": "stdout",
     "output_type": "stream",
     "text": [
      "Found 1000 files belonging to 4 classes.\n"
     ]
    }
   ],
   "source": [
    "train_dataset = image_dataset_from_directory(\n",
    "    train_dir,\n",
    "    #labels='inferred',\n",
    "    #validation_split=0.2,\n",
    "    #subset=\"training\",\n",
    "    image_size=(IMG_SIZE, IMG_SIZE),\n",
    "    batch_size=BATCH_SIZE,\n",
    "    seed=RANDOM_SEED\n",
    "    )\n",
    "\n",
    "test_dataset = image_dataset_from_directory(\n",
    "    test_dir,\n",
    "    image_size=(IMG_SIZE, IMG_SIZE),\n",
    "    batch_size=BATCH_SIZE,\n",
    "    seed=RANDOM_SEED\n",
    "    )\n"
   ]
  },
  {
   "cell_type": "code",
   "execution_count": 5,
   "metadata": {},
   "outputs": [
    {
     "name": "stdout",
     "output_type": "stream",
     "text": [
      "(32, 500, 500, 3)\n",
      "(32,)\n"
     ]
    }
   ],
   "source": [
    "for image_batch, labels_batch in train_dataset:\n",
    "  print(image_batch.shape)\n",
    "  print(labels_batch.shape)\n",
    "  break"
   ]
  },
  {
   "cell_type": "code",
   "execution_count": null,
   "metadata": {},
   "outputs": [],
   "source": [
    "AUTOTUNE = tf.data.AUTOTUNE\n",
    "\n",
    "train_dataset = train_dataset.cache().shuffle(1000).prefetch(buffer_size=AUTOTUNE)\n",
    "test_dataset = test_dataset.cache().prefetch(buffer_size=AUTOTUNE)"
   ]
  },
  {
   "cell_type": "code",
   "execution_count": 13,
   "metadata": {},
   "outputs": [],
   "source": [
    "data_augmentation = keras.Sequential([\n",
    "    layers.RandomFlip(\"horizontal\"),\n",
    "    layers.RandomRotation(0.1),\n",
    "    layers.RandomZoom(0.2),\n",
    "    layers.RandomBrightness(0.1),\n",
    "    layers.RandomContrast(0.1),\n",
    "    layers.RandomCrop(IMG_SIZE, IMG_SIZE)\n",
    "])\n",
    "\n",
    "inputs = keras.Input(shape=(IMG_SIZE, IMG_SIZE, 3))\n",
    "x = data_augmentation(inputs)\n",
    "x = layers.Rescaling(1./255)(inputs)\n",
    "x = layers.Conv2D(filters=32, kernel_size=3, activation=\"relu\")(x)\n",
    "x = layers.MaxPooling2D(pool_size=2)(x)\n",
    "x = layers.Conv2D(filters=64, kernel_size=3, activation=\"relu\")(x)\n",
    "x = layers.MaxPooling2D(pool_size=2)(x)\n",
    "x = layers.Conv2D(filters=128, kernel_size=3, activation=\"relu\")(x)\n",
    "x = layers.MaxPooling2D(pool_size=2)(x)\n",
    "x = layers.Flatten()(x)\n",
    "x = layers.Dropout(0.5)(x)\n",
    "x = layers.Dense(256, activation=\"relu\")(x)\n",
    "outputs = layers.Dense(4, activation=\"sigmoid\")(x)\n",
    "model = keras.Model(inputs=inputs, outputs=outputs)"
   ]
  },
  {
   "cell_type": "code",
   "execution_count": null,
   "metadata": {},
   "outputs": [],
   "source": [
    "model.summary()"
   ]
  },
  {
   "cell_type": "code",
   "execution_count": 14,
   "metadata": {},
   "outputs": [],
   "source": [
    "model.compile(loss=tf.keras.losses.SparseCategoricalCrossentropy(), optimizer=tf.keras.optimizers.RMSprop(learning_rate=1e-4), metrics=['acc'])"
   ]
  },
  {
   "cell_type": "code",
   "execution_count": 18,
   "metadata": {},
   "outputs": [
    {
     "name": "stdout",
     "output_type": "stream",
     "text": [
      "Epoch 1/25\n",
      "94/94 [==============================] - 37s 391ms/step - loss: 1.1620 - acc: 0.4823 - val_loss: 1.3154 - val_acc: 0.3930\n",
      "Epoch 2/25\n",
      "94/94 [==============================] - 37s 393ms/step - loss: 1.1550 - acc: 0.4880 - val_loss: 1.2737 - val_acc: 0.3840\n",
      "Epoch 3/25\n",
      "94/94 [==============================] - 37s 393ms/step - loss: 1.1442 - acc: 0.4947 - val_loss: 1.3172 - val_acc: 0.3540\n",
      "Epoch 4/25\n",
      "94/94 [==============================] - 37s 392ms/step - loss: 1.1221 - acc: 0.5063 - val_loss: 1.2483 - val_acc: 0.4260\n",
      "Epoch 5/25\n",
      "94/94 [==============================] - 37s 394ms/step - loss: 1.1155 - acc: 0.5063 - val_loss: 1.2756 - val_acc: 0.4200\n",
      "Epoch 6/25\n",
      "94/94 [==============================] - 37s 395ms/step - loss: 1.1024 - acc: 0.5290 - val_loss: 1.3590 - val_acc: 0.4160\n",
      "Epoch 7/25\n",
      "94/94 [==============================] - 37s 395ms/step - loss: 1.0929 - acc: 0.5293 - val_loss: 1.2875 - val_acc: 0.3790\n",
      "Epoch 8/25\n",
      "94/94 [==============================] - 37s 393ms/step - loss: 1.0750 - acc: 0.5280 - val_loss: 1.2683 - val_acc: 0.4180\n",
      "Epoch 9/25\n",
      "94/94 [==============================] - 37s 395ms/step - loss: 1.0656 - acc: 0.5410 - val_loss: 1.2933 - val_acc: 0.4320\n",
      "Epoch 10/25\n",
      "94/94 [==============================] - 37s 395ms/step - loss: 1.0564 - acc: 0.5393 - val_loss: 1.3042 - val_acc: 0.3830\n",
      "Epoch 11/25\n",
      "94/94 [==============================] - 37s 396ms/step - loss: 1.0359 - acc: 0.5653 - val_loss: 1.3160 - val_acc: 0.4270\n",
      "Epoch 12/25\n",
      "94/94 [==============================] - 37s 394ms/step - loss: 1.0174 - acc: 0.5723 - val_loss: 1.3797 - val_acc: 0.3450\n",
      "Epoch 13/25\n",
      "94/94 [==============================] - 37s 395ms/step - loss: 1.0040 - acc: 0.5750 - val_loss: 1.2710 - val_acc: 0.4610\n",
      "Epoch 14/25\n",
      "94/94 [==============================] - 37s 394ms/step - loss: 0.9974 - acc: 0.6000 - val_loss: 1.2563 - val_acc: 0.4330\n",
      "Epoch 15/25\n",
      "94/94 [==============================] - 37s 395ms/step - loss: 0.9725 - acc: 0.6030 - val_loss: 1.2652 - val_acc: 0.4400\n",
      "Epoch 16/25\n",
      "94/94 [==============================] - 37s 396ms/step - loss: 0.9489 - acc: 0.6140 - val_loss: 1.4025 - val_acc: 0.3450\n",
      "Epoch 17/25\n",
      "94/94 [==============================] - 37s 395ms/step - loss: 0.9419 - acc: 0.6183 - val_loss: 1.2349 - val_acc: 0.4550\n",
      "Epoch 18/25\n",
      "94/94 [==============================] - 37s 396ms/step - loss: 0.9041 - acc: 0.6330 - val_loss: 1.3304 - val_acc: 0.3630\n",
      "Epoch 19/25\n",
      "94/94 [==============================] - 37s 396ms/step - loss: 0.9059 - acc: 0.6353 - val_loss: 1.2565 - val_acc: 0.4580\n",
      "Epoch 20/25\n",
      "94/94 [==============================] - 37s 396ms/step - loss: 0.8775 - acc: 0.6540 - val_loss: 1.2650 - val_acc: 0.4400\n",
      "Epoch 21/25\n",
      "94/94 [==============================] - 37s 395ms/step - loss: 0.8520 - acc: 0.6700 - val_loss: 1.2977 - val_acc: 0.4450\n",
      "Epoch 22/25\n",
      "94/94 [==============================] - 37s 395ms/step - loss: 0.8224 - acc: 0.6847 - val_loss: 1.2303 - val_acc: 0.4850\n",
      "Epoch 23/25\n",
      "94/94 [==============================] - 38s 397ms/step - loss: 0.8105 - acc: 0.6877 - val_loss: 1.2302 - val_acc: 0.4770\n",
      "Epoch 24/25\n",
      "94/94 [==============================] - 37s 395ms/step - loss: 0.7758 - acc: 0.7073 - val_loss: 1.3334 - val_acc: 0.4080\n",
      "Epoch 25/25\n",
      "94/94 [==============================] - 37s 396ms/step - loss: 0.7557 - acc: 0.7150 - val_loss: 1.2891 - val_acc: 0.4520\n"
     ]
    }
   ],
   "source": [
    "history = model.fit(train_dataset, epochs=25, batch_size=32, validation_data=test_dataset)"
   ]
  },
  {
   "cell_type": "code",
   "execution_count": 19,
   "metadata": {},
   "outputs": [],
   "source": [
    "model.save('models/shape_classifier.h5')"
   ]
  },
  {
   "cell_type": "markdown",
   "metadata": {},
   "source": []
  },
  {
   "cell_type": "code",
   "execution_count": 11,
   "metadata": {},
   "outputs": [
    {
     "data": {
      "image/png": "[encoded data removed]",
      "text/plain": [
       "<Figure size 640x480 with 1 Axes>"
      ]
     },
     "metadata": {},
     "output_type": "display_data"
    },
    {
     "name": "stdout",
     "output_type": "stream",
     "text": [
      "1/1 [==============================] - 0s 22ms/step\n",
      "[[0. 0. 1. 0.]]\n"
     ]
    }
   ],
   "source": [
    "img = np.array([])\n",
    "for data_batch, label in test_dataset.take(1):\n",
    "        image = data_batch[random.randint(0,10)].numpy().astype(\"uint8\")\n",
    "        img = np.append(img, image)\n",
    "        plt.imshow(image)\n",
    "        plt.show()\n",
    "        break\n",
    "img = img.reshape(IMG_SIZE, IMG_SIZE, 3)\n",
    "img.astype(\"float32\") / 255\n",
    "img = np.expand_dims(img, axis=0)\n",
    "\n",
    "print(model.predict(img).round())"
   ]
  },
  {
   "cell_type": "code",
   "execution_count": 17,
   "metadata": {},
   "outputs": [
    {
     "name": "stdout",
     "output_type": "stream",
     "text": [
      "32/32 [==============================] - 4s 111ms/step - loss: 1.2988 - acc: 0.4070\n",
      "1.298773169517517 0.40700000524520874\n"
     ]
    }
   ],
   "source": [
    "val_loss, val_acc = model.evaluate(test_dataset, batch_size=64)\n",
    "print(val_loss, val_acc)"
   ]
  },
  {
   "cell_type": "code",
   "execution_count": null,
   "metadata": {},
   "outputs": [],
   "source": [
    "acc = history.history['acc']\n",
    "loss = history.history['loss']\n",
    "\n",
    "epochs = range(len(acc))\n",
    "plt.plot(epochs, acc, 'r', label='Training accuracy')\n",
    "\n",
    "ax = plt.gca()\n",
    "ax.set_ylim([0, 1])\n",
    "plt.title('Training accuracy')\n",
    "plt.legend(loc=0)\n",
    "plt.figure()\n",
    "plt.show()"
   ]
  },
  {
   "cell_type": "code",
   "execution_count": null,
   "metadata": {},
   "outputs": [],
   "source": [
    "acc = history.history['acc']\n",
    "val_acc = history.history['val_acc']\n",
    "loss = history.history['loss']\n",
    "val_loss = history.history['val_loss']\n",
    "epochs = range(1, len(acc) + 1)\n",
    "\n",
    "plt.plot(epochs, acc, 'bo', label='Training acc')\n",
    "plt.plot(epochs, val_acc, 'b', label='Validation acc')\n",
    "plt.title('Training and validation accuracy')\n",
    "plt.legend()\n",
    "plt.figure()\n",
    "plt.plot(epochs, loss, 'bo', label='Training loss')\n",
    "plt.plot(epochs, val_loss, 'b', label='Validation loss')\n",
    "plt.title('Training and validation loss')\n",
    "plt.legend()\n",
    "plt.show()"
   ]
  },
  {
   "cell_type": "code",
   "execution_count": null,
   "metadata": {},
   "outputs": [],
   "source": [
    "img = tf.keras.preprocessing.image.load_img('cats_and_dogs_small/validation/dogs/dog.1010.jpg', target_size=(150, 150), interpolation='bilinear')"
   ]
  },
  {
   "cell_type": "code",
   "execution_count": null,
   "metadata": {},
   "outputs": [],
   "source": [
    "img_array = tf.keras.preprocessing.image.img_to_array(img)\n",
    "img_array = tf.expand_dims(img_array, 0)\n",
    "print(img_array.shape)\n",
    "result = model.predict(img_array)\n",
    "print(\"Result: \", result.round())"
   ]
  }
 ],
 "metadata": {
  "kernelspec": {
   "display_name": "py3.11.4",
   "language": "python",
   "name": "python3"
  },
  "language_info": {
   "codemirror_mode": {
    "name": "ipython",
    "version": 3
   },
   "file_extension": ".py",
   "mimetype": "text/x-python",
   "name": "python",
   "nbconvert_exporter": "python",
   "pygments_lexer": "ipython3",
   "version": "3.11.8"
  }
 },
 "nbformat": 4,
 "nbformat_minor": 2
}
