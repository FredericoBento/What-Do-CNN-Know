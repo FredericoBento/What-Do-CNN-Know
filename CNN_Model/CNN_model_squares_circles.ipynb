{
 "cells": [
  {
   "cell_type": "code",
   "execution_count": 1,
   "metadata": {},
   "outputs": [
    {
     "name": "stderr",
     "output_type": "stream",
     "text": [
      "2024-03-08 19:28:31.153818: E external/local_xla/xla/stream_executor/cuda/cuda_dnn.cc:9261] Unable to register cuDNN factory: Attempting to register factory for plugin cuDNN when one has already been registered\n",
      "2024-03-08 19:28:31.153903: E external/local_xla/xla/stream_executor/cuda/cuda_fft.cc:607] Unable to register cuFFT factory: Attempting to register factory for plugin cuFFT when one has already been registered\n",
      "2024-03-08 19:28:31.155426: E external/local_xla/xla/stream_executor/cuda/cuda_blas.cc:1515] Unable to register cuBLAS factory: Attempting to register factory for plugin cuBLAS when one has already been registered\n",
      "2024-03-08 19:28:31.163758: I tensorflow/core/platform/cpu_feature_guard.cc:182] This TensorFlow binary is optimized to use available CPU instructions in performance-critical operations.\n",
      "To enable the following instructions: AVX2 FMA, in other operations, rebuild TensorFlow with the appropriate compiler flags.\n",
      "2024-03-08 19:28:32.154192: W tensorflow/compiler/tf2tensorrt/utils/py_utils.cc:38] TF-TRT Warning: Could not find TensorRT\n",
      "2024-03-08 19:28:33.070492: I external/local_xla/xla/stream_executor/cuda/cuda_executor.cc:901] successful NUMA node read from SysFS had negative value (-1), but there must be at least one NUMA node, so returning NUMA node zero. See more at https://github.com/torvalds/linux/blob/v6.0/Documentation/ABI/testing/sysfs-bus-pci#L344-L355\n",
      "2024-03-08 19:28:33.099221: I external/local_xla/xla/stream_executor/cuda/cuda_executor.cc:901] successful NUMA node read from SysFS had negative value (-1), but there must be at least one NUMA node, so returning NUMA node zero. See more at https://github.com/torvalds/linux/blob/v6.0/Documentation/ABI/testing/sysfs-bus-pci#L344-L355\n",
      "2024-03-08 19:28:33.099521: I external/local_xla/xla/stream_executor/cuda/cuda_executor.cc:901] successful NUMA node read from SysFS had negative value (-1), but there must be at least one NUMA node, so returning NUMA node zero. See more at https://github.com/torvalds/linux/blob/v6.0/Documentation/ABI/testing/sysfs-bus-pci#L344-L355\n"
     ]
    },
    {
     "data": {
      "text/plain": [
       "[PhysicalDevice(name='/physical_device:GPU:0', device_type='GPU')]"
      ]
     },
     "execution_count": 1,
     "metadata": {},
     "output_type": "execute_result"
    }
   ],
   "source": [
    "import os, shutil\n",
    "import matplotlib.pyplot as plt\n",
    "from keras.utils import image_dataset_from_directory\n",
    "from tensorflow import keras\n",
    "from keras import layers\n",
    "from keras import models\n",
    "import tensorflow as tf\n",
    "from keras.preprocessing import image\n",
    "tf.config.list_physical_devices('GPU')"
   ]
  },
  {
   "cell_type": "code",
   "execution_count": 2,
   "metadata": {},
   "outputs": [],
   "source": [
    "train_dir = '../Generator/dataset/train'\n",
    "test_dir = '../Generator/dataset/test'\n",
    "\n",
    "train_square_dir = train_dir + '/square'\n",
    "train_circle_dir = train_dir + '/circle'\n",
    "train_none_dir = train_dir + '/none'\n",
    "train_circle_square_dir = train_dir + '/square_circle'\n",
    "test_cirlce_square_dir = test_dir + '/square_and_circle'"
   ]
  },
  {
   "cell_type": "code",
   "execution_count": 3,
   "metadata": {},
   "outputs": [
    {
     "name": "stdout",
     "output_type": "stream",
     "text": [
      "Found 3000 files belonging to 4 classes.\n"
     ]
    },
    {
     "name": "stderr",
     "output_type": "stream",
     "text": [
      "2024-03-08 19:28:37.795592: I external/local_xla/xla/stream_executor/cuda/cuda_executor.cc:901] successful NUMA node read from SysFS had negative value (-1), but there must be at least one NUMA node, so returning NUMA node zero. See more at https://github.com/torvalds/linux/blob/v6.0/Documentation/ABI/testing/sysfs-bus-pci#L344-L355\n",
      "2024-03-08 19:28:37.795997: I external/local_xla/xla/stream_executor/cuda/cuda_executor.cc:901] successful NUMA node read from SysFS had negative value (-1), but there must be at least one NUMA node, so returning NUMA node zero. See more at https://github.com/torvalds/linux/blob/v6.0/Documentation/ABI/testing/sysfs-bus-pci#L344-L355\n",
      "2024-03-08 19:28:37.796546: I external/local_xla/xla/stream_executor/cuda/cuda_executor.cc:901] successful NUMA node read from SysFS had negative value (-1), but there must be at least one NUMA node, so returning NUMA node zero. See more at https://github.com/torvalds/linux/blob/v6.0/Documentation/ABI/testing/sysfs-bus-pci#L344-L355\n",
      "2024-03-08 19:28:37.914258: I external/local_xla/xla/stream_executor/cuda/cuda_executor.cc:901] successful NUMA node read from SysFS had negative value (-1), but there must be at least one NUMA node, so returning NUMA node zero. See more at https://github.com/torvalds/linux/blob/v6.0/Documentation/ABI/testing/sysfs-bus-pci#L344-L355\n",
      "2024-03-08 19:28:37.914519: I external/local_xla/xla/stream_executor/cuda/cuda_executor.cc:901] successful NUMA node read from SysFS had negative value (-1), but there must be at least one NUMA node, so returning NUMA node zero. See more at https://github.com/torvalds/linux/blob/v6.0/Documentation/ABI/testing/sysfs-bus-pci#L344-L355\n",
      "2024-03-08 19:28:37.914705: I external/local_xla/xla/stream_executor/cuda/cuda_executor.cc:901] successful NUMA node read from SysFS had negative value (-1), but there must be at least one NUMA node, so returning NUMA node zero. See more at https://github.com/torvalds/linux/blob/v6.0/Documentation/ABI/testing/sysfs-bus-pci#L344-L355\n",
      "2024-03-08 19:28:37.914819: I tensorflow/core/common_runtime/gpu/gpu_device.cc:1929] Created device /job:localhost/replica:0/task:0/device:GPU:0 with 5501 MB memory:  -> device: 0, name: NVIDIA GeForce GTX 1060 with Max-Q Design, pci bus id: 0000:01:00.0, compute capability: 6.1\n",
      "2024-03-08 19:28:38.351944: I external/local_tsl/tsl/platform/default/subprocess.cc:304] Start cannot spawn child process: No such file or directory\n"
     ]
    }
   ],
   "source": [
    "IMG_SIZE = 500\n",
    "train_dataset = image_dataset_from_directory(train_dir, image_size=(IMG_SIZE, IMG_SIZE), batch_size=32)\n",
    "test_dataset = image_dataset_from_directory(test_dir, image_size=(IMG_SIZE, IMG_SIZE), batch_size=32)"
   ]
  },
  {
   "cell_type": "code",
   "execution_count": 4,
   "metadata": {},
   "outputs": [
    {
     "name": "stdout",
     "output_type": "stream",
     "text": [
      "data batch shape: tf.Tensor(\n",
      "[[[[ 37.  36. 155.]\n",
      "   [ 37.  36. 155.]\n",
      "   [ 37.  36. 155.]\n",
      "   ...\n",
      "   [ 37.  36. 155.]\n",
      "   [ 37.  36. 155.]\n",
      "   [ 37.  36. 155.]]\n",
      "\n",
      "  [[ 37.  36. 155.]\n",
      "   [ 37.  36. 155.]\n",
      "   [ 37.  36. 155.]\n",
      "   ...\n",
      "   [ 37.  36. 155.]\n",
      "   [ 37.  36. 155.]\n",
      "   [ 37.  36. 155.]]\n",
      "\n",
      "  [[ 37.  36. 155.]\n",
      "   [ 37.  36. 155.]\n",
      "   [ 37.  36. 155.]\n",
      "   ...\n",
      "   [ 37.  36. 155.]\n",
      "   [ 37.  36. 155.]\n",
      "   [ 37.  36. 155.]]\n",
      "\n",
      "  ...\n",
      "\n",
      "  [[ 37.  36. 155.]\n",
      "   [ 37.  36. 155.]\n",
      "   [ 37.  36. 155.]\n",
      "   ...\n",
      "   [ 37.  36. 155.]\n",
      "   [ 37.  36. 155.]\n",
      "   [ 37.  36. 155.]]\n",
      "\n",
      "  [[ 37.  36. 155.]\n",
      "   [ 37.  36. 155.]\n",
      "   [ 37.  36. 155.]\n",
      "   ...\n",
      "   [ 37.  36. 155.]\n",
      "   [ 37.  36. 155.]\n",
      "   [ 37.  36. 155.]]\n",
      "\n",
      "  [[ 37.  36. 155.]\n",
      "   [ 37.  36. 155.]\n",
      "   [ 37.  36. 155.]\n",
      "   ...\n",
      "   [ 37.  36. 155.]\n",
      "   [ 37.  36. 155.]\n",
      "   [ 37.  36. 155.]]]\n",
      "\n",
      "\n",
      " [[[173.  55. 251.]\n",
      "   [173.  55. 251.]\n",
      "   [173.  55. 251.]\n",
      "   ...\n",
      "   [173.  55. 251.]\n",
      "   [173.  55. 251.]\n",
      "   [173.  55. 251.]]\n",
      "\n",
      "  [[173.  55. 251.]\n",
      "   [173.  55. 251.]\n",
      "   [173.  55. 251.]\n",
      "   ...\n",
      "   [173.  55. 251.]\n",
      "   [173.  55. 251.]\n",
      "   [173.  55. 251.]]\n",
      "\n",
      "  [[173.  55. 251.]\n",
      "   [173.  55. 251.]\n",
      "   [173.  55. 251.]\n",
      "   ...\n",
      "   [173.  55. 251.]\n",
      "   [173.  55. 251.]\n",
      "   [173.  55. 251.]]\n",
      "\n",
      "  ...\n",
      "\n",
      "  [[173.  55. 251.]\n",
      "   [173.  55. 251.]\n",
      "   [173.  55. 251.]\n",
      "   ...\n",
      "   [173.  55. 251.]\n",
      "   [173.  55. 251.]\n",
      "   [173.  55. 251.]]\n",
      "\n",
      "  [[173.  55. 251.]\n",
      "   [173.  55. 251.]\n",
      "   [173.  55. 251.]\n",
      "   ...\n",
      "   [173.  55. 251.]\n",
      "   [173.  55. 251.]\n",
      "   [173.  55. 251.]]\n",
      "\n",
      "  [[173.  55. 251.]\n",
      "   [173.  55. 251.]\n",
      "   [173.  55. 251.]\n",
      "   ...\n",
      "   [173.  55. 251.]\n",
      "   [173.  55. 251.]\n",
      "   [173.  55. 251.]]]\n",
      "\n",
      "\n",
      " [[[148.  88. 236.]\n",
      "   [148.  88. 236.]\n",
      "   [148.  88. 236.]\n",
      "   ...\n",
      "   [148.  88. 236.]\n",
      "   [148.  88. 236.]\n",
      "   [148.  88. 236.]]\n",
      "\n",
      "  [[148.  88. 236.]\n",
      "   [148.  88. 236.]\n",
      "   [148.  88. 236.]\n",
      "   ...\n",
      "   [148.  88. 236.]\n",
      "   [148.  88. 236.]\n",
      "   [148.  88. 236.]]\n",
      "\n",
      "  [[148.  88. 236.]\n",
      "   [148.  88. 236.]\n",
      "   [148.  88. 236.]\n",
      "   ...\n",
      "   [148.  88. 236.]\n",
      "   [148.  88. 236.]\n",
      "   [148.  88. 236.]]\n",
      "\n",
      "  ...\n",
      "\n",
      "  [[148.  88. 236.]\n",
      "   [148.  88. 236.]\n",
      "   [148.  88. 236.]\n",
      "   ...\n",
      "   [148.  88. 236.]\n",
      "   [148.  88. 236.]\n",
      "   [148.  88. 236.]]\n",
      "\n",
      "  [[148.  88. 236.]\n",
      "   [148.  88. 236.]\n",
      "   [148.  88. 236.]\n",
      "   ...\n",
      "   [148.  88. 236.]\n",
      "   [148.  88. 236.]\n",
      "   [148.  88. 236.]]\n",
      "\n",
      "  [[148.  88. 236.]\n",
      "   [148.  88. 236.]\n",
      "   [148.  88. 236.]\n",
      "   ...\n",
      "   [148.  88. 236.]\n",
      "   [148.  88. 236.]\n",
      "   [148.  88. 236.]]]\n",
      "\n",
      "\n",
      " ...\n",
      "\n",
      "\n",
      " [[[201. 228.  11.]\n",
      "   [201. 228.  11.]\n",
      "   [201. 228.  11.]\n",
      "   ...\n",
      "   [201. 228.  11.]\n",
      "   [201. 228.  11.]\n",
      "   [201. 228.  11.]]\n",
      "\n",
      "  [[201. 228.  11.]\n",
      "   [201. 228.  11.]\n",
      "   [201. 228.  11.]\n",
      "   ...\n",
      "   [201. 228.  11.]\n",
      "   [201. 228.  11.]\n",
      "   [201. 228.  11.]]\n",
      "\n",
      "  [[201. 228.  11.]\n",
      "   [201. 228.  11.]\n",
      "   [201. 228.  11.]\n",
      "   ...\n",
      "   [201. 228.  11.]\n",
      "   [201. 228.  11.]\n",
      "   [201. 228.  11.]]\n",
      "\n",
      "  ...\n",
      "\n",
      "  [[201. 228.  11.]\n",
      "   [201. 228.  11.]\n",
      "   [201. 228.  11.]\n",
      "   ...\n",
      "   [201. 228.  11.]\n",
      "   [201. 228.  11.]\n",
      "   [201. 228.  11.]]\n",
      "\n",
      "  [[201. 228.  11.]\n",
      "   [201. 228.  11.]\n",
      "   [201. 228.  11.]\n",
      "   ...\n",
      "   [201. 228.  11.]\n",
      "   [201. 228.  11.]\n",
      "   [201. 228.  11.]]\n",
      "\n",
      "  [[201. 228.  11.]\n",
      "   [201. 228.  11.]\n",
      "   [201. 228.  11.]\n",
      "   ...\n",
      "   [201. 228.  11.]\n",
      "   [201. 228.  11.]\n",
      "   [201. 228.  11.]]]\n",
      "\n",
      "\n",
      " [[[142.  51. 232.]\n",
      "   [142.  51. 232.]\n",
      "   [142.  51. 232.]\n",
      "   ...\n",
      "   [142.  51. 234.]\n",
      "   [142.  51. 234.]\n",
      "   [142.  51. 234.]]\n",
      "\n",
      "  [[142.  51. 232.]\n",
      "   [142.  51. 232.]\n",
      "   [142.  51. 232.]\n",
      "   ...\n",
      "   [142.  51. 234.]\n",
      "   [142.  51. 234.]\n",
      "   [142.  51. 234.]]\n",
      "\n",
      "  [[142.  51. 232.]\n",
      "   [142.  51. 232.]\n",
      "   [142.  51. 232.]\n",
      "   ...\n",
      "   [142.  51. 234.]\n",
      "   [142.  51. 234.]\n",
      "   [142.  51. 234.]]\n",
      "\n",
      "  ...\n",
      "\n",
      "  [[142.  51. 234.]\n",
      "   [142.  51. 234.]\n",
      "   [142.  51. 234.]\n",
      "   ...\n",
      "   [142.  51. 234.]\n",
      "   [142.  51. 234.]\n",
      "   [142.  51. 234.]]\n",
      "\n",
      "  [[142.  51. 234.]\n",
      "   [142.  51. 234.]\n",
      "   [142.  51. 234.]\n",
      "   ...\n",
      "   [142.  51. 234.]\n",
      "   [142.  51. 234.]\n",
      "   [142.  51. 234.]]\n",
      "\n",
      "  [[142.  51. 234.]\n",
      "   [142.  51. 234.]\n",
      "   [142.  51. 234.]\n",
      "   ...\n",
      "   [142.  51. 234.]\n",
      "   [142.  51. 234.]\n",
      "   [142.  51. 234.]]]\n",
      "\n",
      "\n",
      " [[[115. 154. 159.]\n",
      "   [115. 154. 159.]\n",
      "   [115. 154. 159.]\n",
      "   ...\n",
      "   [115. 154. 159.]\n",
      "   [115. 154. 159.]\n",
      "   [115. 154. 159.]]\n",
      "\n",
      "  [[115. 154. 159.]\n",
      "   [115. 154. 159.]\n",
      "   [115. 154. 159.]\n",
      "   ...\n",
      "   [115. 154. 159.]\n",
      "   [115. 154. 159.]\n",
      "   [115. 154. 159.]]\n",
      "\n",
      "  [[115. 154. 159.]\n",
      "   [115. 154. 159.]\n",
      "   [115. 154. 159.]\n",
      "   ...\n",
      "   [115. 154. 159.]\n",
      "   [115. 154. 159.]\n",
      "   [115. 154. 159.]]\n",
      "\n",
      "  ...\n",
      "\n",
      "  [[115. 154. 159.]\n",
      "   [115. 154. 159.]\n",
      "   [115. 154. 159.]\n",
      "   ...\n",
      "   [115. 154. 159.]\n",
      "   [115. 154. 159.]\n",
      "   [115. 154. 159.]]\n",
      "\n",
      "  [[115. 154. 159.]\n",
      "   [115. 154. 159.]\n",
      "   [115. 154. 159.]\n",
      "   ...\n",
      "   [115. 154. 159.]\n",
      "   [115. 154. 159.]\n",
      "   [115. 154. 159.]]\n",
      "\n",
      "  [[115. 154. 159.]\n",
      "   [115. 154. 159.]\n",
      "   [115. 154. 159.]\n",
      "   ...\n",
      "   [115. 154. 159.]\n",
      "   [115. 154. 159.]\n",
      "   [115. 154. 159.]]]], shape=(32, 500, 500, 3), dtype=float32)\n",
      "labels batch shape: tf.Tensor([0 2 1 0 3 1 1 3 1 2 3 3 3 1 3 3 2 0 2 0 2 0 3 0 2 3 3 3 3 0 2 1], shape=(32,), dtype=int32)\n"
     ]
    }
   ],
   "source": [
    "for data_batch, labels_batch in train_dataset:\n",
    "    print('data batch shape:', data_batch)\n",
    "    print('labels batch shape:', labels_batch)\n",
    "    break"
   ]
  },
  {
   "cell_type": "code",
   "execution_count": 5,
   "metadata": {},
   "outputs": [
    {
     "data": {
      "image/png": "[encoded data removed]",
      "text/plain": [
       "<Figure size 640x480 with 1 Axes>"
      ]
     },
     "metadata": {},
     "output_type": "display_data"
    },
    {
     "data": {
      "image/png": "[encoded data removed]",
      "text/plain": [
       "<Figure size 640x480 with 1 Axes>"
      ]
     },
     "metadata": {},
     "output_type": "display_data"
    },
    {
     "data": {
      "image/png": "[encoded data removed]",
      "text/plain": [
       "<Figure size 640x480 with 1 Axes>"
      ]
     },
     "metadata": {},
     "output_type": "display_data"
    },
    {
     "data": {
      "image/png": "[encoded data removed]",
      "text/plain": [
       "<Figure size 640x480 with 1 Axes>"
      ]
     },
     "metadata": {},
     "output_type": "display_data"
    },
    {
     "data": {
      "image/png": "[encoded data removed]",
      "text/plain": [
       "<Figure size 640x480 with 1 Axes>"
      ]
     },
     "metadata": {},
     "output_type": "display_data"
    }
   ],
   "source": [
    "for data_batch, _ in train_dataset.take(1):\n",
    "    for i in range(5):\n",
    "        plt.imshow(data_batch[i].numpy().astype(\"uint8\"))\n",
    "        plt.show()"
   ]
  },
  {
   "cell_type": "code",
   "execution_count": 6,
   "metadata": {},
   "outputs": [],
   "source": [
    "inputs = keras.Input(shape=(IMG_SIZE, IMG_SIZE, 3))\n",
    "x = layers.Rescaling(1./255)(inputs)\n",
    "x = layers.Conv2D(filters=32, kernel_size=3, activation=\"relu\")(x)\n",
    "x = layers.MaxPooling2D(pool_size=2)(x)\n",
    "x = layers.Conv2D(filters=64, kernel_size=3, activation=\"relu\")(x)\n",
    "x = layers.MaxPooling2D(pool_size=2)(x)\n",
    "x = layers.Conv2D(filters=128, kernel_size=3, activation=\"relu\")(x)\n",
    "x = layers.MaxPooling2D(pool_size=2)(x)\n",
    "x = layers.Conv2D(filters=128, kernel_size=3, activation=\"relu\")(x)\n",
    "x = layers.MaxPooling2D(pool_size=2)(x)\n",
    "x = layers.Flatten()(x)\n",
    "x = layers.Dense(512, activation=\"relu\")(x)\n",
    "outputs = layers.Dense(4, activation=\"sigmoid\")(x)\n",
    "model = keras.Model(inputs=inputs, outputs=outputs)"
   ]
  },
  {
   "cell_type": "code",
   "execution_count": 7,
   "metadata": {},
   "outputs": [
    {
     "name": "stdout",
     "output_type": "stream",
     "text": [
      "Model: \"model\"\n",
      "_________________________________________________________________\n",
      " Layer (type)                Output Shape              Param #   \n",
      "=================================================================\n",
      " input_1 (InputLayer)        [(None, 500, 500, 3)]     0         \n",
      "                                                                 \n",
      " rescaling (Rescaling)       (None, 500, 500, 3)       0         \n",
      "                                                                 \n",
      " conv2d (Conv2D)             (None, 498, 498, 32)      896       \n",
      "                                                                 \n",
      " max_pooling2d (MaxPooling2  (None, 249, 249, 32)      0         \n",
      " D)                                                              \n",
      "                                                                 \n",
      " conv2d_1 (Conv2D)           (None, 247, 247, 64)      18496     \n",
      "                                                                 \n",
      " max_pooling2d_1 (MaxPoolin  (None, 123, 123, 64)      0         \n",
      " g2D)                                                            \n",
      "                                                                 \n",
      " conv2d_2 (Conv2D)           (None, 121, 121, 128)     73856     \n",
      "                                                                 \n",
      " max_pooling2d_2 (MaxPoolin  (None, 60, 60, 128)       0         \n",
      " g2D)                                                            \n",
      "                                                                 \n",
      " conv2d_3 (Conv2D)           (None, 58, 58, 128)       147584    \n",
      "                                                                 \n",
      " max_pooling2d_3 (MaxPoolin  (None, 29, 29, 128)       0         \n",
      " g2D)                                                            \n",
      "                                                                 \n",
      " flatten (Flatten)           (None, 107648)            0         \n",
      "                                                                 \n",
      " dense (Dense)               (None, 512)               55116288  \n",
      "                                                                 \n",
      " dense_1 (Dense)             (None, 4)                 2052      \n",
      "                                                                 \n",
      "=================================================================\n",
      "Total params: 55359172 (211.18 MB)\n",
      "Trainable params: 55359172 (211.18 MB)\n",
      "Non-trainable params: 0 (0.00 Byte)\n",
      "_________________________________________________________________\n"
     ]
    }
   ],
   "source": [
    "model.summary()"
   ]
  },
  {
   "cell_type": "code",
   "execution_count": 8,
   "metadata": {},
   "outputs": [],
   "source": [
    "model.compile(loss='categorical_crossentropy', optimizer=tf.keras.optimizers.RMSprop(learning_rate=1e-4), metrics=['acc'])"
   ]
  },
  {
   "cell_type": "code",
   "execution_count": 9,
   "metadata": {},
   "outputs": [
    {
     "name": "stdout",
     "output_type": "stream",
     "text": [
      "Epoch 1/5\n"
     ]
    },
    {
     "ename": "ValueError",
     "evalue": "in user code:\n\n    File \"/home/fred/.local/lib/python3.11/site-packages/keras/src/engine/training.py\", line 1401, in train_function  *\n        return step_function(self, iterator)\n    File \"/home/fred/.local/lib/python3.11/site-packages/keras/src/engine/training.py\", line 1384, in step_function  **\n        outputs = model.distribute_strategy.run(run_step, args=(data,))\n    File \"/home/fred/.local/lib/python3.11/site-packages/keras/src/engine/training.py\", line 1373, in run_step  **\n        outputs = model.train_step(data)\n    File \"/home/fred/.local/lib/python3.11/site-packages/keras/src/engine/training.py\", line 1151, in train_step\n        loss = self.compute_loss(x, y, y_pred, sample_weight)\n    File \"/home/fred/.local/lib/python3.11/site-packages/keras/src/engine/training.py\", line 1209, in compute_loss\n        return self.compiled_loss(\n    File \"/home/fred/.local/lib/python3.11/site-packages/keras/src/engine/compile_utils.py\", line 277, in __call__\n        loss_value = loss_obj(y_t, y_p, sample_weight=sw)\n    File \"/home/fred/.local/lib/python3.11/site-packages/keras/src/losses.py\", line 143, in __call__\n        losses = call_fn(y_true, y_pred)\n    File \"/home/fred/.local/lib/python3.11/site-packages/keras/src/losses.py\", line 270, in call  **\n        return ag_fn(y_true, y_pred, **self._fn_kwargs)\n    File \"/home/fred/.local/lib/python3.11/site-packages/keras/src/losses.py\", line 2221, in categorical_crossentropy\n        return backend.categorical_crossentropy(\n    File \"/home/fred/.local/lib/python3.11/site-packages/keras/src/backend.py\", line 5573, in categorical_crossentropy\n        target.shape.assert_is_compatible_with(output.shape)\n\n    ValueError: Shapes (None, 1) and (None, 4) are incompatible\n",
     "output_type": "error",
     "traceback": [
      "\u001b[0;31m---------------------------------------------------------------------------\u001b[0m",
      "\u001b[0;31mValueError\u001b[0m                                Traceback (most recent call last)",
      "Cell \u001b[0;32mIn[9], line 1\u001b[0m\n\u001b[0;32m----> 1\u001b[0m history \u001b[38;5;241m=\u001b[39m \u001b[43mmodel\u001b[49m\u001b[38;5;241;43m.\u001b[39;49m\u001b[43mfit\u001b[49m\u001b[43m(\u001b[49m\u001b[43mtrain_dataset\u001b[49m\u001b[43m,\u001b[49m\u001b[43m \u001b[49m\u001b[43mepochs\u001b[49m\u001b[38;5;241;43m=\u001b[39;49m\u001b[38;5;241;43m5\u001b[39;49m\u001b[43m)\u001b[49m\n",
      "File \u001b[0;32m~/.local/lib/python3.11/site-packages/keras/src/utils/traceback_utils.py:70\u001b[0m, in \u001b[0;36mfilter_traceback.<locals>.error_handler\u001b[0;34m(*args, **kwargs)\u001b[0m\n\u001b[1;32m     67\u001b[0m     filtered_tb \u001b[38;5;241m=\u001b[39m _process_traceback_frames(e\u001b[38;5;241m.\u001b[39m__traceback__)\n\u001b[1;32m     68\u001b[0m     \u001b[38;5;66;03m# To get the full stack trace, call:\u001b[39;00m\n\u001b[1;32m     69\u001b[0m     \u001b[38;5;66;03m# `tf.debugging.disable_traceback_filtering()`\u001b[39;00m\n\u001b[0;32m---> 70\u001b[0m     \u001b[38;5;28;01mraise\u001b[39;00m e\u001b[38;5;241m.\u001b[39mwith_traceback(filtered_tb) \u001b[38;5;28;01mfrom\u001b[39;00m \u001b[38;5;28;01mNone\u001b[39;00m\n\u001b[1;32m     71\u001b[0m \u001b[38;5;28;01mfinally\u001b[39;00m:\n\u001b[1;32m     72\u001b[0m     \u001b[38;5;28;01mdel\u001b[39;00m filtered_tb\n",
      "File \u001b[0;32m/tmp/__autograph_generated_fileaolavcvc.py:15\u001b[0m, in \u001b[0;36mouter_factory.<locals>.inner_factory.<locals>.tf__train_function\u001b[0;34m(iterator)\u001b[0m\n\u001b[1;32m     13\u001b[0m \u001b[38;5;28;01mtry\u001b[39;00m:\n\u001b[1;32m     14\u001b[0m     do_return \u001b[38;5;241m=\u001b[39m \u001b[38;5;28;01mTrue\u001b[39;00m\n\u001b[0;32m---> 15\u001b[0m     retval_ \u001b[38;5;241m=\u001b[39m ag__\u001b[38;5;241m.\u001b[39mconverted_call(ag__\u001b[38;5;241m.\u001b[39mld(step_function), (ag__\u001b[38;5;241m.\u001b[39mld(\u001b[38;5;28mself\u001b[39m), ag__\u001b[38;5;241m.\u001b[39mld(iterator)), \u001b[38;5;28;01mNone\u001b[39;00m, fscope)\n\u001b[1;32m     16\u001b[0m \u001b[38;5;28;01mexcept\u001b[39;00m:\n\u001b[1;32m     17\u001b[0m     do_return \u001b[38;5;241m=\u001b[39m \u001b[38;5;28;01mFalse\u001b[39;00m\n",
      "\u001b[0;31mValueError\u001b[0m: in user code:\n\n    File \"/home/fred/.local/lib/python3.11/site-packages/keras/src/engine/training.py\", line 1401, in train_function  *\n        return step_function(self, iterator)\n    File \"/home/fred/.local/lib/python3.11/site-packages/keras/src/engine/training.py\", line 1384, in step_function  **\n        outputs = model.distribute_strategy.run(run_step, args=(data,))\n    File \"/home/fred/.local/lib/python3.11/site-packages/keras/src/engine/training.py\", line 1373, in run_step  **\n        outputs = model.train_step(data)\n    File \"/home/fred/.local/lib/python3.11/site-packages/keras/src/engine/training.py\", line 1151, in train_step\n        loss = self.compute_loss(x, y, y_pred, sample_weight)\n    File \"/home/fred/.local/lib/python3.11/site-packages/keras/src/engine/training.py\", line 1209, in compute_loss\n        return self.compiled_loss(\n    File \"/home/fred/.local/lib/python3.11/site-packages/keras/src/engine/compile_utils.py\", line 277, in __call__\n        loss_value = loss_obj(y_t, y_p, sample_weight=sw)\n    File \"/home/fred/.local/lib/python3.11/site-packages/keras/src/losses.py\", line 143, in __call__\n        losses = call_fn(y_true, y_pred)\n    File \"/home/fred/.local/lib/python3.11/site-packages/keras/src/losses.py\", line 270, in call  **\n        return ag_fn(y_true, y_pred, **self._fn_kwargs)\n    File \"/home/fred/.local/lib/python3.11/site-packages/keras/src/losses.py\", line 2221, in categorical_crossentropy\n        return backend.categorical_crossentropy(\n    File \"/home/fred/.local/lib/python3.11/site-packages/keras/src/backend.py\", line 5573, in categorical_crossentropy\n        target.shape.assert_is_compatible_with(output.shape)\n\n    ValueError: Shapes (None, 1) and (None, 4) are incompatible\n"
     ]
    }
   ],
   "source": [
    "history = model.fit(train_dataset, epochs=5)"
   ]
  },
  {
   "cell_type": "code",
   "execution_count": null,
   "metadata": {},
   "outputs": [],
   "source": [
    "\n",
    "print('Test:', model.predict(test_dataset))"
   ]
  },
  {
   "cell_type": "code",
   "execution_count": null,
   "metadata": {},
   "outputs": [],
   "source": [
    "# model.save('models/04_CNN_02_CatsAndDogs_01_cnn_from_scratch.h5')"
   ]
  },
  {
   "cell_type": "code",
   "execution_count": null,
   "metadata": {},
   "outputs": [],
   "source": [
    "acc = history.history['acc']\n",
    "val_acc = history.history['val_acc']\n",
    "loss = history.history['loss']\n",
    "val_loss = history.history['val_loss']\n",
    "epochs = range(1, len(acc) + 1)\n",
    "plt.plot(epochs, acc, 'bo', label='Training acc')\n",
    "plt.plot(epochs, val_acc, 'b', label='Validation acc')\n",
    "plt.title('Training and validation accuracy')\n",
    "plt.legend()\n",
    "plt.figure()\n",
    "plt.plot(epochs, loss, 'bo', label='Training loss')\n",
    "plt.plot(epochs, val_loss, 'b', label='Validation loss')\n",
    "plt.title('Training and validation loss')\n",
    "plt.legend()\n",
    "plt.show()"
   ]
  },
  {
   "cell_type": "code",
   "execution_count": null,
   "metadata": {},
   "outputs": [],
   "source": [
    "img = tf.keras.preprocessing.image.load_img('cats_and_dogs_small/validation/dogs/dog.1010.jpg', target_size=(150, 150), interpolation='bilinear')"
   ]
  },
  {
   "cell_type": "code",
   "execution_count": null,
   "metadata": {},
   "outputs": [],
   "source": [
    "plt.imshow(img)\n",
    "plt.show()"
   ]
  },
  {
   "cell_type": "code",
   "execution_count": null,
   "metadata": {},
   "outputs": [],
   "source": [
    "img_array = tf.keras.preprocessing.image.img_to_array(img)\n",
    "img_array = tf.expand_dims(img_array, 0)\n",
    "print(img_array.shape)\n",
    "result = model.predict(img_array)\n",
    "print(\"Result: \", result.round())"
   ]
  }
 ],
 "metadata": {
  "kernelspec": {
   "display_name": "py3.11.4",
   "language": "python",
   "name": "python3"
  },
  "language_info": {
   "codemirror_mode": {
    "name": "ipython",
    "version": 3
   },
   "file_extension": ".py",
   "mimetype": "text/x-python",
   "name": "python",
   "nbconvert_exporter": "python",
   "pygments_lexer": "ipython3",
   "version": "3.11.8"
  }
 },
 "nbformat": 4,
 "nbformat_minor": 2
}
